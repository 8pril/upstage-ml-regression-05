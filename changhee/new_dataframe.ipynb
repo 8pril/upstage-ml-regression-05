{
 "cells": [
  {
   "cell_type": "code",
   "execution_count": 776,
   "metadata": {},
   "outputs": [],
   "source": [
    "from geopy.distance import geodesic\n",
    "import pandas as pd\n",
    "import numpy as np\n",
    "from concurrent.futures import ThreadPoolExecutor\n",
    "\n",
    "import pandas as pd\n",
    "import numpy as np\n",
    "from sklearn.preprocessing import LabelEncoder\n",
    "from sklearn.ensemble import RandomForestRegressor\n",
    "from sklearn.linear_model import LinearRegression\n",
    "\n",
    "from tqdm import tqdm \n",
    "from geopy.geocoders import Nominatim\n",
    "\n",
    "import os \n",
    "from glob import glob\n",
    "import warnings\n",
    "warnings.filterwarnings('ignore')"
   ]
  },
  {
   "cell_type": "code",
   "execution_count": 777,
   "metadata": {},
   "outputs": [],
   "source": [
    "import matplotlib.pyplot as plt\n",
    "import matplotlib.font_manager as fm\n",
    "fe = fm.FontEntry(\n",
    "    fname=r'/usr/share/fonts/truetype/nanum/NanumGothic.ttf', # ttf 파일이 저장되어 있는 경로\n",
    "    name='NanumBarunGothic')                        # 이 폰트의 원하는 이름 설정\n",
    "fm.fontManager.ttflist.insert(0, fe)              # Matplotlib에 폰트 추가\n",
    "plt.rcParams.update({'font.size': 10, 'font.family': 'NanumBarunGothic'}) # 폰트 설정\n",
    "plt.rc('font', family='NanumBarunGothic')\n",
    "import seaborn as sns"
   ]
  },
  {
   "cell_type": "code",
   "execution_count": 778,
   "metadata": {},
   "outputs": [],
   "source": [
    "train_path = '../fill_loc_train.csv'\n",
    "test_path  = '../fill_loc_test.csv'\n",
    "bus_feature_path = '../bus_feature.csv'\n",
    "subway_feature_path = '../subway_feature.csv'\n",
    "\n",
    "df_train = pd.read_csv(train_path)\n",
    "df_bus = pd.read_csv(bus_feature_path)\n",
    "df_subway = pd.read_csv(subway_feature_path)\n",
    "df_test = pd.read_csv(test_path)\n",
    "\n",
    "df_train.rename({'k-전체세대수' : '세대수(세대)', '건축면적' : '건축면적(㎡)', 'k-연면적' : '연면적(㎡)'}, axis=1, inplace=True)\n",
    "df_bus = df_bus.rename({'Y좌표' : '좌표Y', 'X좌표' : '좌표X'}, axis=1)\n",
    "df_subway = df_subway.rename({'위도' : '좌표Y', '경도' : '좌표X'}, axis=1)"
   ]
  },
  {
   "cell_type": "code",
   "execution_count": 779,
   "metadata": {},
   "outputs": [
    {
     "data": {
      "text/plain": [
       "0"
      ]
     },
     "execution_count": 779,
     "metadata": {},
     "output_type": "execute_result"
    }
   ],
   "source": [
    "# 시군으로 나누기\n",
    "df_train['시군'] = df_train['시군구'].str.split().str[:2].apply(lambda x: ' '.join(x))\n",
    "\n",
    "# 도로명 데이터를 이용하여 도로명주소 생성\n",
    "df_train['주소'] = df_train['시군구'] + ' ' + df_train['번지']\n",
    "df_train['도로명주소'] = df_train['시군'] + ' ' + df_train['도로명']\n",
    "\n",
    "# 번지 주소가 없다면 도로명 주소로 채워줌, 번지 주소는 loc을 위함 \n",
    "df_train.loc[df_train['주소'].isna(), '주소'] = df_train.loc[df_train['주소'].isna(), '시군'] + ' ' + df_train.loc[df_train['주소'].isna(), '도로명']\n",
    "\n",
    "# 도로명의 값이 ' '인 값들을 찾아서 넣어줌\n",
    "df_train.loc[(df_train['도로명'] == ' ') & (df_train['주소'] == '서울특별시 성동구 하왕십리동 1071'), '도로명주소'] = '서울특별시 성동구 난계로 100'\n",
    "df_train.loc[(df_train['도로명'] == ' ') & (df_train['주소'] == '서울특별시 중구 만리동2가 288'), '도로명주소'] = '서울특별시 중구 만리재로 177'\n",
    "df_train.loc[(df_train['도로명'] == ' ') & (df_train['주소'] == '서울특별시 성북구 돈암동 13-85'), '도로명주소'] = '서울특별시 성북구 돈암동 동소문로34길 73'\n",
    "df_train.loc[(df_train['도로명'] == ' ') & (df_train['주소'] == '서울특별시 마포구 아현동 372-29'), '도로명주소'] = '서울특별시 마포구 마포대로24길 16'\n",
    "df_train.loc[(df_train['도로명'] == ' ') & (df_train['주소'] == '서울특별시 송파구 송파동 167'), '도로명주소'] = ' 서울특별시 송파구 오금로32길 31'\n",
    "df_train.loc[(df_train['도로명'] == ' ') & (df_train['주소'] == '서울특별시 송파구 거여동 696'), '도로명주소'] = '서울특별시 송파구 오금로 551'\n",
    "df_train.loc[(df_train['도로명'] == ' ') & (df_train['주소'] == '서울특별시 강남구 역삼동 762'), '도로명주소'] = '서울특별시 강남구 도곡로43길 21'\n",
    "df_train.loc[(df_train['도로명'] == ' ') & (df_train['주소'] == '서울특별시 서초구 반포동 30-2'), '도로명주소'] = '서울특별시 서초구 고무래로 35'\n",
    "df_train.loc[(df_train['도로명'] == ' ') & (df_train['주소'] == '서울특별시 종로구 옥인동 179-3'), '도로명주소'] = '서울 종로구 옥인길 82'\n",
    "df_train.loc[(df_train['도로명'] == ' ') & (df_train['주소'] == '서울특별시 강남구 역삼동 763'), '도로명주소'] = '서울 강남구 도곡로43길 20'\n",
    "df_train.loc[(df_train['도로명'] == ' ') & (df_train['주소'] == '서울특별시 서초구 서초동 1686-4'), '도로명주소'] = '서울 서초구 서초중앙로24길 33'\n",
    "\n",
    "# 같은 주소이지만 도로명 값이 없는경우 다른 도로명주소가 생겨서 같은 도로명주소로 채워줌 \n",
    "df_train['도로명주소'] = df_train.groupby('주소')['도로명주소'].transform('first')\n",
    "df_train['주소'].isna().sum()"
   ]
  },
  {
   "cell_type": "code",
   "execution_count": 780,
   "metadata": {},
   "outputs": [],
   "source": [
    "# display(df_train[df_train['주소'] == '서울특별시 용산구 한강로2가 196']) # 1113986\n",
    "# display(df_train[df_train['주소'] == '서울특별시 마포구 토정동 2-4']) # 1050833"
   ]
  },
  {
   "cell_type": "code",
   "execution_count": 781,
   "metadata": {},
   "outputs": [],
   "source": [
    "# 데이터의 개수가 1개이고 없는 정보가 많아 삭제\n",
    "# df_train.drop([1050833, 1113986], inplace=True)"
   ]
  },
  {
   "cell_type": "markdown",
   "metadata": {},
   "source": [
    "## 건설사 결측치 채우기"
   ]
  },
  {
   "cell_type": "code",
   "execution_count": 782,
   "metadata": {},
   "outputs": [],
   "source": [
    "df_apt = pd.read_csv('../seoul_apt_info.csv', encoding='cp949')\n",
    "df_apt.rename({'kapt도로명주소' : '도로명주소'}, axis=1, inplace=True)"
   ]
  },
  {
   "cell_type": "code",
   "execution_count": 783,
   "metadata": {},
   "outputs": [],
   "source": [
    "df_construction = df_train[['도로명주소', 'k-건설사(시공사)']].drop_duplicates()\n",
    "df_construction = df_construction.merge(df_apt[['도로명주소', 'k-건설사(시공사)']], how='left', on='도로명주소', suffixes=('_1', '_2'))\n",
    "df_construction['k-건설사(시공사)_2'] = df_construction['k-건설사(시공사)_2'].fillna(df_construction['k-건설사(시공사)_1'])\n",
    "df_construction = df_construction[['도로명주소', 'k-건설사(시공사)_2']].rename({'k-건설사(시공사)_2' : 'k-건설사(시공사)'}, axis=1)\n",
    "mapping_constructions = df_construction[df_construction['k-건설사(시공사)'].notnull()].to_dict(orient='records')"
   ]
  },
  {
   "cell_type": "code",
   "execution_count": 784,
   "metadata": {},
   "outputs": [
    {
     "name": "stdout",
     "output_type": "stream",
     "text": [
      "처리전 :  871056\n"
     ]
    },
    {
     "name": "stderr",
     "output_type": "stream",
     "text": [
      "100%|██████████| 2362/2362 [02:04<00:00, 19.03it/s]"
     ]
    },
    {
     "name": "stdout",
     "output_type": "stream",
     "text": [
      "처리후 :  256919\n"
     ]
    },
    {
     "name": "stderr",
     "output_type": "stream",
     "text": [
      "\n"
     ]
    }
   ],
   "source": [
    "print('처리전 : ', df_train['k-건설사(시공사)'].isna().sum())\n",
    "for construction in tqdm(mapping_constructions):\n",
    "    df_train.loc[df_train['도로명주소'] == construction['도로명주소'], 'k-건설사(시공사)'] = construction['k-건설사(시공사)']\n",
    "print('처리후 : ', df_train['k-건설사(시공사)'].isna().sum())"
   ]
  },
  {
   "cell_type": "code",
   "execution_count": 785,
   "metadata": {},
   "outputs": [],
   "source": [
    "constructions = ['삼성', '신한', '주택공사', '에스케이|SK', '극동', '코오롱', '한솔', '대명', '한성', '건영', '유원', '한신공영', '갑을', \n",
    "                '한보', '태영', '청구', '중앙', '삼호', '삼환', '현대', '순영', '효성', '에스에이치|SH|sh', '대성', '서희', 'DL|디엘',\n",
    "                '두산', '울트라', '동원', '한화', '벽산', '제일', '삼부', '흥화', '신도', '우남', '자이', '남광', '금강', '라온', '우방',\n",
    "                '롯데', '호반', '우림', '동양', '한진', '삼천리', '서광', 'LIG', '진도', '한일', '동성', '포스코', '우성', '한라', '동부',\n",
    "                '영풍', 'KCC|kcc', '진로', '성원', '세방', '동일', '진흥', '우리', '대주', '라이프', '선경', '라인', '지에스|GS|gs', '신동아',\n",
    "                '고려', '금호', '삼익', '신창', '신일', '세양', '동아', '동광', '신안', '풍림', '대우', '쌍용', '신성', '상계', '양우', '계룡',\n",
    "                '일성', '대림', '월드', '미주', '우정', '삼정', 'LG|엘지', '자유', '한양', '경남', '성지']"
   ]
  },
  {
   "cell_type": "code",
   "execution_count": 786,
   "metadata": {},
   "outputs": [
    {
     "name": "stderr",
     "output_type": "stream",
     "text": [
      "100%|██████████| 97/97 [00:25<00:00,  3.75it/s]\n"
     ]
    }
   ],
   "source": [
    "df_train['k-건설사(시공사)'] = df_train['k-건설사(시공사)'].fillna('unknown')\n",
    "df_train['아파트명'] = df_train['아파트명'].fillna('unknown')\n",
    "for construction in tqdm(constructions):\n",
    "    df_train.loc[df_train['아파트명'].str.contains(construction), 'k-건설사(시공사)'] = construction\n",
    "\n",
    "df_train.loc[df_train['k-건설사(시공사)'] == '아크로리버뷰신반포', 'k-건설사(시공사)'] = '대림'"
   ]
  },
  {
   "cell_type": "markdown",
   "metadata": {},
   "source": [
    "## 데이터 병합"
   ]
  },
  {
   "cell_type": "code",
   "execution_count": 787,
   "metadata": {},
   "outputs": [],
   "source": [
    "df_apt_info = pd.read_csv('../apt_info.csv')\n",
    "df_info = df_apt_info[['도로명주소', '세대수(세대)', '건축면적(㎡)', '연면적(㎡)']]\n",
    "df_info = df_info.groupby(['도로명주소']).mean().reset_index()\n",
    "df_train = df_train.merge(df_info, how='left', on=['도로명주소'], suffixes=('_1', '_2'))\n",
    "df_train['세대수(세대)_1'].fillna(df_train['세대수(세대)_2'], inplace=True)\n",
    "df_train['건축면적(㎡)_1'].fillna(df_train['건축면적(㎡)_2'], inplace=True)\n",
    "df_train['연면적(㎡)_1'].fillna(df_train['연면적(㎡)_2'], inplace=True)\n",
    "df_train.drop(columns=['세대수(세대)_2', '건축면적(㎡)_2', '연면적(㎡)_2'], inplace=True)\n",
    "df_train.rename({\"세대수(세대)_1\" : \"세대수(세대)\", \"건축면적(㎡)_1\" : \"건축면적(㎡)\", \"연면적(㎡)_1\" : \"연면적(㎡)\"}, axis=1, inplace=True)"
   ]
  },
  {
   "cell_type": "code",
   "execution_count": 788,
   "metadata": {},
   "outputs": [],
   "source": [
    "parkinglot = df_apt.groupby('도로명주소')['주차대수'].mean().reset_index()\n",
    "df_train = df_train.merge(parkinglot, how='left', on='도로명주소', suffixes=('_1', '_2'))\n",
    "df_train['주차대수_1'] = df_train['주차대수_1'].fillna(df_train['주차대수_2'])\n",
    "df_train = df_train.drop(columns=['주차대수_2'], axis=1).rename({'주차대수_1' : '주차대수'}, axis=1)\n",
    "\n",
    "df_train.rename({'k-전체세대수' : '세대수(세대)', '건축면적' : '건축면적(㎡)', 'k-연면적' : '연면적(㎡)'}, axis=1, inplace=True)"
   ]
  },
  {
   "cell_type": "code",
   "execution_count": 789,
   "metadata": {},
   "outputs": [],
   "source": [
    "base_interest_rate = pd.read_excel('../base_interest_rate.xlsx', names=['날짜', '기준금리', 'RP금리(익일물)'])\n",
    "base_interest_rate['날짜'] = base_interest_rate['날짜'].str.replace('-', '')\n",
    "\n",
    "df_train['계약년월'] = df_train['계약년월'].astype(str)\n",
    "df_train['계약일'] = df_train['계약일'].astype(str)\n",
    "df_train['계약일'] = df_train['계약일'].apply(lambda x: '0' + x if len(x) == 1 else x)\n",
    "df_train['날짜'] = df_train['계약년월'] + df_train['계약일'] \n",
    "\n",
    "df_train = df_train.merge(base_interest_rate[['날짜', '기준금리']], how='left', on='날짜')"
   ]
  },
  {
   "cell_type": "code",
   "execution_count": 790,
   "metadata": {},
   "outputs": [],
   "source": [
    "df_train['기준금리'] = df_train['기준금리'].fillna(1.5)"
   ]
  },
  {
   "cell_type": "code",
   "execution_count": 791,
   "metadata": {},
   "outputs": [],
   "source": [
    "bus_count_train_df = pd.read_csv('../bus_count_train.csv')\n",
    "subway_count_train_df = pd.read_csv('../subway_count_train.csv')\n",
    "school_count_train_df = pd.read_csv('../school_count_train.csv')\n",
    "hospital_count_train_df = pd.read_csv('../hospital_count_train.csv')\n",
    "park_count_train_df = pd.read_csv('../park_count_train.csv')"
   ]
  },
  {
   "cell_type": "code",
   "execution_count": 792,
   "metadata": {},
   "outputs": [],
   "source": [
    "df_train = pd.concat([df_train, bus_count_train_df, subway_count_train_df, school_count_train_df, hospital_count_train_df, park_count_train_df], axis=1)"
   ]
  },
  {
   "cell_type": "markdown",
   "metadata": {},
   "source": [
    "## 파생변수 생성"
   ]
  },
  {
   "cell_type": "code",
   "execution_count": 793,
   "metadata": {},
   "outputs": [],
   "source": [
    "df_train['구'] = df_train['시군구'].str.split().str[1]\n",
    "df_train['동'] = df_train['시군구'].str.split().str[2]"
   ]
  },
  {
   "cell_type": "code",
   "execution_count": 794,
   "metadata": {},
   "outputs": [],
   "source": [
    "df_train['구'] = df_train['시군구'].str.split().str[1]\n",
    "df_train['동'] = df_train['시군구'].str.split().str[2]\n",
    "\n",
    "near_river = ['서울특별시 영등포구 여의동', '서울특별시 용산구 이촌동', '서울특별시 강남구 신사동', '서울특별시 서초구 잠원동', '서울특별시 강남구 압구정동', '서울특별시 강남구 청담동', '서울특별시 송파구 신천동', '서울특별시 송파구 잠실동', '서울특별시 용산구 한남동', '서울특별시 서초구 반포동']\n",
    "df_train['한강근처여부'] = df_train['시군구'].apply(lambda x: 1 if x in near_river else 0)\n",
    "\n",
    "df_train['계약년'] = df_train['계약년월'].astype('str').map(lambda x : x[:4])\n",
    "df_train['계약월'] = df_train['계약년월'].astype('str').map(lambda x : x[4:])\n",
    "\n",
    "region_premium = ['서울특별시 강남구', '서울특별시 서초구', '서울특별시 용산구', '서울특별시 송파구']\n",
    "df_train['지역프리미엄'] = df_train['시군'].apply(lambda x: 1 if x in region_premium else 0)\n",
    "\n",
    "district = list(df_train['구'].unique())\n",
    "gangnam = ['강서구', '영등포구', '동작구', '서초구', '강남구', '송파구', '강동구']\n",
    "gangbuk = [x for x in district if x not in gangnam]\n",
    "\n",
    "# 강남의 여부를 체크합니다.\n",
    "is_gangnam = []\n",
    "for x in df_train['구'].tolist() :\n",
    "  if x in gangnam :\n",
    "    is_gangnam.append(1)\n",
    "  else :\n",
    "    is_gangnam.append(0)\n",
    "\n",
    "# 파생변수를 하나 만릅니다.\n",
    "df_train['강남여부'] = is_gangnam\n",
    "\n",
    "# 신축, 준신축, 구축 구분 \n",
    "def buliding_condition(data):\n",
    "    if data <= 5: # 신축\n",
    "        return 0\n",
    "    elif 5 < data <= 10: # 준신축\n",
    "        return 1\n",
    "    else: # 구축\n",
    "        return 2\n",
    "df_train['연식'] = df_train['계약년'].astype(int) - df_train['건축년도']\n",
    "df_train['건물상태'] = df_train['연식'].apply(buliding_condition)\n",
    "\n",
    "# 재건축 가능 \n",
    "df_train['재건축가능'] = 0\n",
    "df_train.loc[(df_train['연식'] >= 20) & (df_train['건축년도'] <= 1981), '재건축가능'] = 1\n",
    "df_train.loc[(df_train['연식'] >= 22) & (df_train['건축년도'] <= 1982), '재건축가능'] = 1\n",
    "df_train.loc[(df_train['연식'] >= 24) & (df_train['건축년도'] <= 1983), '재건축가능'] = 1\n",
    "df_train.loc[(df_train['연식'] >= 26) & (df_train['건축년도'] <= 1984), '재건축가능'] = 1\n",
    "df_train.loc[(df_train['연식'] >= 28) & (df_train['건축년도'] <= 1985), '재건축가능'] = 1\n",
    "df_train.loc[(df_train['연식'] >= 30) & (df_train['건축년도'] <= 1986), '재건축가능'] = 1\n",
    "\n",
    "top10 = ['자이', '푸르지오', '더샵', '롯데캐슬', '이편한|e편한|e-편한',\n",
    "         '힐스테이트', '아이파크', '래미안', 'sk|SK|에스케이', '데시앙']\n",
    "\n",
    "df_train['top10'] = 0\n",
    "# top 10 시공사면 1, 아니면 0\n",
    "for i, brand in enumerate(top10):\n",
    "  df_train.loc[df_train['아파트명'].str.contains(brand), 'top10'] = 1\n",
    "\n",
    "df_train['아파트크기'] = 1\n",
    "df_train.loc[df_train['전용면적(㎡)'] < 60, '아파트크기'] = 0\n",
    "df_train.loc[df_train['전용면적(㎡)'] > 85, '아파트크기'] = 2\n"
   ]
  },
  {
   "cell_type": "markdown",
   "metadata": {},
   "source": [
    "## 불필요한 컬럼 삭제"
   ]
  },
  {
   "cell_type": "code",
   "execution_count": 795,
   "metadata": {},
   "outputs": [],
   "source": [
    "df_train_missing_values = df_train.isna().sum()\n",
    "df_train_missing_values = df_train_missing_values[df_train_missing_values > 300000]\n",
    "drop_columns = df_train_missing_values.index.to_list() + ['등기신청일자', '중개사소재지', '거래유형', '번지', '본번', '부번', '시군구', '시군', '도로명', '주소']\n",
    "df_train.drop(drop_columns, axis=1, inplace=True)"
   ]
  },
  {
   "cell_type": "markdown",
   "metadata": {},
   "source": [
    "# Label Encdoing"
   ]
  },
  {
   "cell_type": "code",
   "execution_count": 796,
   "metadata": {},
   "outputs": [],
   "source": [
    "categorical_columns = df_train.select_dtypes('object').columns\n",
    "categorical_columns = [col for col in categorical_columns if col not in ['계약일', '계약월', '계약년월']]"
   ]
  },
  {
   "cell_type": "code",
   "execution_count": 797,
   "metadata": {},
   "outputs": [
    {
     "name": "stderr",
     "output_type": "stream",
     "text": [
      "  0%|          | 0/7 [00:00<?, ?it/s]"
     ]
    },
    {
     "name": "stderr",
     "output_type": "stream",
     "text": [
      "100%|██████████| 7/7 [00:01<00:00,  5.73it/s]\n"
     ]
    }
   ],
   "source": [
    "label_encoders = {}\n",
    "for col in tqdm(categorical_columns):\n",
    "    lbl = LabelEncoder()\n",
    "\n",
    "    # Label-Encoding을 fit\n",
    "    lbl.fit(df_train[col])\n",
    "    df_train[col] = lbl.transform(df_train[col])\n",
    "    label_encoders[col] = lbl           #"
   ]
  },
  {
   "cell_type": "code",
   "execution_count": 798,
   "metadata": {},
   "outputs": [
    {
     "data": {
      "text/plain": [
       "array([20])"
      ]
     },
     "execution_count": 798,
     "metadata": {},
     "output_type": "execute_result"
    }
   ],
   "source": [
    "label_encoders['구'].transform(['용산구'])"
   ]
  },
  {
   "cell_type": "code",
   "execution_count": 799,
   "metadata": {},
   "outputs": [],
   "source": [
    "df_train['계약월'] = df_train['계약월'].astype('int')\n",
    "df_train['계약일'] = df_train['계약일'].astype('int') "
   ]
  },
  {
   "cell_type": "code",
   "execution_count": 800,
   "metadata": {},
   "outputs": [
    {
     "data": {
      "text/html": [
       "<div>\n",
       "<style scoped>\n",
       "    .dataframe tbody tr th:only-of-type {\n",
       "        vertical-align: middle;\n",
       "    }\n",
       "\n",
       "    .dataframe tbody tr th {\n",
       "        vertical-align: top;\n",
       "    }\n",
       "\n",
       "    .dataframe thead th {\n",
       "        text-align: right;\n",
       "    }\n",
       "</style>\n",
       "<table border=\"1\" class=\"dataframe\">\n",
       "  <thead>\n",
       "    <tr style=\"text-align: right;\">\n",
       "      <th></th>\n",
       "      <th>아파트명</th>\n",
       "      <th>전용면적(㎡)</th>\n",
       "      <th>계약년월</th>\n",
       "      <th>계약일</th>\n",
       "      <th>층</th>\n",
       "      <th>건축년도</th>\n",
       "      <th>세대수(세대)</th>\n",
       "      <th>k-건설사(시공사)</th>\n",
       "      <th>연면적(㎡)</th>\n",
       "      <th>건축면적(㎡)</th>\n",
       "      <th>...</th>\n",
       "      <th>한강근처여부</th>\n",
       "      <th>계약년</th>\n",
       "      <th>계약월</th>\n",
       "      <th>지역프리미엄</th>\n",
       "      <th>강남여부</th>\n",
       "      <th>연식</th>\n",
       "      <th>건물상태</th>\n",
       "      <th>재건축가능</th>\n",
       "      <th>top10</th>\n",
       "      <th>아파트크기</th>\n",
       "    </tr>\n",
       "  </thead>\n",
       "  <tbody>\n",
       "    <tr>\n",
       "      <th>0</th>\n",
       "      <td>328</td>\n",
       "      <td>79.97</td>\n",
       "      <td>201712</td>\n",
       "      <td>8</td>\n",
       "      <td>3</td>\n",
       "      <td>1987</td>\n",
       "      <td>270.0</td>\n",
       "      <td>380</td>\n",
       "      <td>22637.0</td>\n",
       "      <td>4858.0</td>\n",
       "      <td>...</td>\n",
       "      <td>0</td>\n",
       "      <td>10</td>\n",
       "      <td>12</td>\n",
       "      <td>1</td>\n",
       "      <td>1</td>\n",
       "      <td>30</td>\n",
       "      <td>2</td>\n",
       "      <td>0</td>\n",
       "      <td>0</td>\n",
       "      <td>1</td>\n",
       "    </tr>\n",
       "    <tr>\n",
       "      <th>1</th>\n",
       "      <td>328</td>\n",
       "      <td>79.97</td>\n",
       "      <td>201712</td>\n",
       "      <td>22</td>\n",
       "      <td>4</td>\n",
       "      <td>1987</td>\n",
       "      <td>270.0</td>\n",
       "      <td>380</td>\n",
       "      <td>22637.0</td>\n",
       "      <td>4858.0</td>\n",
       "      <td>...</td>\n",
       "      <td>0</td>\n",
       "      <td>10</td>\n",
       "      <td>12</td>\n",
       "      <td>1</td>\n",
       "      <td>1</td>\n",
       "      <td>30</td>\n",
       "      <td>2</td>\n",
       "      <td>0</td>\n",
       "      <td>0</td>\n",
       "      <td>1</td>\n",
       "    </tr>\n",
       "    <tr>\n",
       "      <th>2</th>\n",
       "      <td>328</td>\n",
       "      <td>54.98</td>\n",
       "      <td>201712</td>\n",
       "      <td>28</td>\n",
       "      <td>5</td>\n",
       "      <td>1987</td>\n",
       "      <td>270.0</td>\n",
       "      <td>380</td>\n",
       "      <td>22637.0</td>\n",
       "      <td>4858.0</td>\n",
       "      <td>...</td>\n",
       "      <td>0</td>\n",
       "      <td>10</td>\n",
       "      <td>12</td>\n",
       "      <td>1</td>\n",
       "      <td>1</td>\n",
       "      <td>30</td>\n",
       "      <td>2</td>\n",
       "      <td>0</td>\n",
       "      <td>0</td>\n",
       "      <td>0</td>\n",
       "    </tr>\n",
       "    <tr>\n",
       "      <th>3</th>\n",
       "      <td>328</td>\n",
       "      <td>79.97</td>\n",
       "      <td>201801</td>\n",
       "      <td>3</td>\n",
       "      <td>4</td>\n",
       "      <td>1987</td>\n",
       "      <td>270.0</td>\n",
       "      <td>380</td>\n",
       "      <td>22637.0</td>\n",
       "      <td>4858.0</td>\n",
       "      <td>...</td>\n",
       "      <td>0</td>\n",
       "      <td>11</td>\n",
       "      <td>1</td>\n",
       "      <td>1</td>\n",
       "      <td>1</td>\n",
       "      <td>31</td>\n",
       "      <td>2</td>\n",
       "      <td>0</td>\n",
       "      <td>0</td>\n",
       "      <td>1</td>\n",
       "    </tr>\n",
       "    <tr>\n",
       "      <th>4</th>\n",
       "      <td>328</td>\n",
       "      <td>79.97</td>\n",
       "      <td>201801</td>\n",
       "      <td>8</td>\n",
       "      <td>2</td>\n",
       "      <td>1987</td>\n",
       "      <td>270.0</td>\n",
       "      <td>380</td>\n",
       "      <td>22637.0</td>\n",
       "      <td>4858.0</td>\n",
       "      <td>...</td>\n",
       "      <td>0</td>\n",
       "      <td>11</td>\n",
       "      <td>1</td>\n",
       "      <td>1</td>\n",
       "      <td>1</td>\n",
       "      <td>31</td>\n",
       "      <td>2</td>\n",
       "      <td>0</td>\n",
       "      <td>0</td>\n",
       "      <td>1</td>\n",
       "    </tr>\n",
       "    <tr>\n",
       "      <th>...</th>\n",
       "      <td>...</td>\n",
       "      <td>...</td>\n",
       "      <td>...</td>\n",
       "      <td>...</td>\n",
       "      <td>...</td>\n",
       "      <td>...</td>\n",
       "      <td>...</td>\n",
       "      <td>...</td>\n",
       "      <td>...</td>\n",
       "      <td>...</td>\n",
       "      <td>...</td>\n",
       "      <td>...</td>\n",
       "      <td>...</td>\n",
       "      <td>...</td>\n",
       "      <td>...</td>\n",
       "      <td>...</td>\n",
       "      <td>...</td>\n",
       "      <td>...</td>\n",
       "      <td>...</td>\n",
       "      <td>...</td>\n",
       "      <td>...</td>\n",
       "    </tr>\n",
       "    <tr>\n",
       "      <th>1118815</th>\n",
       "      <td>215</td>\n",
       "      <td>59.94</td>\n",
       "      <td>200707</td>\n",
       "      <td>12</td>\n",
       "      <td>11</td>\n",
       "      <td>1998</td>\n",
       "      <td>366.0</td>\n",
       "      <td>500</td>\n",
       "      <td>45515.0</td>\n",
       "      <td>0.0</td>\n",
       "      <td>...</td>\n",
       "      <td>0</td>\n",
       "      <td>0</td>\n",
       "      <td>7</td>\n",
       "      <td>0</td>\n",
       "      <td>0</td>\n",
       "      <td>9</td>\n",
       "      <td>1</td>\n",
       "      <td>0</td>\n",
       "      <td>0</td>\n",
       "      <td>0</td>\n",
       "    </tr>\n",
       "    <tr>\n",
       "      <th>1118816</th>\n",
       "      <td>215</td>\n",
       "      <td>59.94</td>\n",
       "      <td>200708</td>\n",
       "      <td>25</td>\n",
       "      <td>10</td>\n",
       "      <td>1998</td>\n",
       "      <td>366.0</td>\n",
       "      <td>500</td>\n",
       "      <td>45515.0</td>\n",
       "      <td>0.0</td>\n",
       "      <td>...</td>\n",
       "      <td>0</td>\n",
       "      <td>0</td>\n",
       "      <td>8</td>\n",
       "      <td>0</td>\n",
       "      <td>0</td>\n",
       "      <td>9</td>\n",
       "      <td>1</td>\n",
       "      <td>0</td>\n",
       "      <td>0</td>\n",
       "      <td>0</td>\n",
       "    </tr>\n",
       "    <tr>\n",
       "      <th>1118817</th>\n",
       "      <td>215</td>\n",
       "      <td>84.83</td>\n",
       "      <td>200708</td>\n",
       "      <td>31</td>\n",
       "      <td>20</td>\n",
       "      <td>1998</td>\n",
       "      <td>366.0</td>\n",
       "      <td>500</td>\n",
       "      <td>45515.0</td>\n",
       "      <td>0.0</td>\n",
       "      <td>...</td>\n",
       "      <td>0</td>\n",
       "      <td>0</td>\n",
       "      <td>8</td>\n",
       "      <td>0</td>\n",
       "      <td>0</td>\n",
       "      <td>9</td>\n",
       "      <td>1</td>\n",
       "      <td>0</td>\n",
       "      <td>0</td>\n",
       "      <td>1</td>\n",
       "    </tr>\n",
       "    <tr>\n",
       "      <th>1118818</th>\n",
       "      <td>215</td>\n",
       "      <td>84.83</td>\n",
       "      <td>200709</td>\n",
       "      <td>15</td>\n",
       "      <td>8</td>\n",
       "      <td>1998</td>\n",
       "      <td>366.0</td>\n",
       "      <td>500</td>\n",
       "      <td>45515.0</td>\n",
       "      <td>0.0</td>\n",
       "      <td>...</td>\n",
       "      <td>0</td>\n",
       "      <td>0</td>\n",
       "      <td>9</td>\n",
       "      <td>0</td>\n",
       "      <td>0</td>\n",
       "      <td>9</td>\n",
       "      <td>1</td>\n",
       "      <td>0</td>\n",
       "      <td>0</td>\n",
       "      <td>1</td>\n",
       "    </tr>\n",
       "    <tr>\n",
       "      <th>1118819</th>\n",
       "      <td>2176</td>\n",
       "      <td>52.46</td>\n",
       "      <td>200701</td>\n",
       "      <td>10</td>\n",
       "      <td>5</td>\n",
       "      <td>1981</td>\n",
       "      <td>122.0</td>\n",
       "      <td>218</td>\n",
       "      <td>7354.0</td>\n",
       "      <td>7354.0</td>\n",
       "      <td>...</td>\n",
       "      <td>0</td>\n",
       "      <td>0</td>\n",
       "      <td>1</td>\n",
       "      <td>0</td>\n",
       "      <td>0</td>\n",
       "      <td>26</td>\n",
       "      <td>2</td>\n",
       "      <td>1</td>\n",
       "      <td>0</td>\n",
       "      <td>0</td>\n",
       "    </tr>\n",
       "  </tbody>\n",
       "</table>\n",
       "<p>1118820 rows × 34 columns</p>\n",
       "</div>"
      ],
      "text/plain": [
       "         아파트명  전용면적(㎡)    계약년월  계약일   층  건축년도  세대수(세대)  k-건설사(시공사)   연면적(㎡)  \\\n",
       "0         328    79.97  201712    8   3  1987    270.0         380  22637.0   \n",
       "1         328    79.97  201712   22   4  1987    270.0         380  22637.0   \n",
       "2         328    54.98  201712   28   5  1987    270.0         380  22637.0   \n",
       "3         328    79.97  201801    3   4  1987    270.0         380  22637.0   \n",
       "4         328    79.97  201801    8   2  1987    270.0         380  22637.0   \n",
       "...       ...      ...     ...  ...  ..   ...      ...         ...      ...   \n",
       "1118815   215    59.94  200707   12  11  1998    366.0         500  45515.0   \n",
       "1118816   215    59.94  200708   25  10  1998    366.0         500  45515.0   \n",
       "1118817   215    84.83  200708   31  20  1998    366.0         500  45515.0   \n",
       "1118818   215    84.83  200709   15   8  1998    366.0         500  45515.0   \n",
       "1118819  2176    52.46  200701   10   5  1981    122.0         218   7354.0   \n",
       "\n",
       "         건축면적(㎡)  ...  한강근처여부  계약년  계약월  지역프리미엄  강남여부  연식  건물상태  재건축가능  top10  \\\n",
       "0         4858.0  ...       0   10   12       1     1  30     2      0      0   \n",
       "1         4858.0  ...       0   10   12       1     1  30     2      0      0   \n",
       "2         4858.0  ...       0   10   12       1     1  30     2      0      0   \n",
       "3         4858.0  ...       0   11    1       1     1  31     2      0      0   \n",
       "4         4858.0  ...       0   11    1       1     1  31     2      0      0   \n",
       "...          ...  ...     ...  ...  ...     ...   ...  ..   ...    ...    ...   \n",
       "1118815      0.0  ...       0    0    7       0     0   9     1      0      0   \n",
       "1118816      0.0  ...       0    0    8       0     0   9     1      0      0   \n",
       "1118817      0.0  ...       0    0    8       0     0   9     1      0      0   \n",
       "1118818      0.0  ...       0    0    9       0     0   9     1      0      0   \n",
       "1118819   7354.0  ...       0    0    1       0     0  26     2      1      0   \n",
       "\n",
       "         아파트크기  \n",
       "0            1  \n",
       "1            1  \n",
       "2            0  \n",
       "3            1  \n",
       "4            1  \n",
       "...        ...  \n",
       "1118815      0  \n",
       "1118816      0  \n",
       "1118817      1  \n",
       "1118818      1  \n",
       "1118819      0  \n",
       "\n",
       "[1118820 rows x 34 columns]"
      ]
     },
     "execution_count": 800,
     "metadata": {},
     "output_type": "execute_result"
    }
   ],
   "source": [
    "df_train"
   ]
  },
  {
   "cell_type": "markdown",
   "metadata": {},
   "source": [
    "## 세대수, 건축면적, 연면적 결측치 채우기"
   ]
  },
  {
   "cell_type": "code",
   "execution_count": 801,
   "metadata": {},
   "outputs": [],
   "source": [
    "df_train['건축면적(㎡)'] = df_train['건축면적(㎡)'].apply(lambda x: np.nan if x == 0 else x)\n",
    "df_train['연면적(㎡)'] = df_train['연면적(㎡)'].apply(lambda x: np.nan if x == 0 else x)\n",
    "df_train['세대수(세대)'] = df_train['세대수(세대)'].apply(lambda x: np.nan if x == 0 else x)"
   ]
  },
  {
   "cell_type": "code",
   "execution_count": 802,
   "metadata": {},
   "outputs": [],
   "source": [
    "train_data = df_train.dropna(subset=['k-건설사(시공사)', '전용면적(㎡)', '연면적(㎡)', '도로명주소'])\n",
    "X_train = train_data[['k-건설사(시공사)', '전용면적(㎡)', '도로명주소']]\n",
    "y_train = train_data['연면적(㎡)']\n",
    "\n",
    "# 트리 모델 학습\n",
    "tfa_model = RandomForestRegressor(random_state=42)\n",
    "tfa_model.fit(X_train, y_train)\n",
    "\n",
    "# # 결측치가 있는 부분의 연면적 사용하여 주차대수 예측\n",
    "missing_data = df_train[df_train['연면적(㎡)'].isnull()]\n",
    "X_missing = missing_data[['k-건설사(시공사)', '전용면적(㎡)', '도로명주소']]\n",
    "predicted_values = tfa_model.predict(X_missing)\n",
    "\n",
    "# # 결측치 채우기\n",
    "df_train.loc[df_train['연면적(㎡)'].isnull(), '연면적(㎡)'] = predicted_values"
   ]
  },
  {
   "cell_type": "code",
   "execution_count": 803,
   "metadata": {},
   "outputs": [],
   "source": [
    "# 연면적과 세대수가 있는 부분으로 모델 학습\n",
    "df = df_train[df_train['연면적(㎡)'] < 1e7 * 0.8]\n",
    "train_data = df.dropna(subset=['연면적(㎡)', '세대수(세대)'])\n",
    "X_train = train_data[['연면적(㎡)']]\n",
    "y_train = train_data['세대수(세대)']\n",
    "\n",
    "# 선형 회귀 모델 학습\n",
    "households_model = LinearRegression()\n",
    "households_model.fit(X_train, y_train)\n",
    "\n",
    "# # 결측치가 있는 부분의 전용면적을 사용하여 건축면적 예측\n",
    "missing_data = df[df['세대수(세대)'].isnull()]\n",
    "X_missing = missing_data[['연면적(㎡)']]\n",
    "predicted_values = households_model.predict(X_missing)\n",
    "\n",
    "# # 결측치 채우기\n",
    "df_train.loc[df_train['세대수(세대)'].isnull(), '세대수(세대)'] = predicted_values"
   ]
  },
  {
   "cell_type": "code",
   "execution_count": 804,
   "metadata": {},
   "outputs": [
    {
     "data": {
      "text/plain": [
       "<seaborn.axisgrid.JointGrid at 0x7fe67d95b8e0>"
      ]
     },
     "execution_count": 804,
     "metadata": {},
     "output_type": "execute_result"
    },
    {
     "data": {
      "image/png": "[encoded data removed]",
      "text/plain": [
       "<Figure size 600x600 with 3 Axes>"
      ]
     },
     "metadata": {},
     "output_type": "display_data"
    }
   ],
   "source": [
    "sns.jointplot(data=df_train[df_train['연면적(㎡)'] < 1e7 * 0.8], x='연면적(㎡)', y='세대수(세대)')"
   ]
  },
  {
   "cell_type": "code",
   "execution_count": 805,
   "metadata": {},
   "outputs": [],
   "source": [
    "train_data = df_train.dropna(subset=['세대수(세대)', '건축면적(㎡)', '전용면적(㎡)', '연면적(㎡)', 'k-건설사(시공사)', '도로명주소'])\n",
    "X_train = train_data[['세대수(세대)', '전용면적(㎡)', '연면적(㎡)', 'k-건설사(시공사)', '도로명주소']]\n",
    "y_train = train_data['건축면적(㎡)']\n",
    "\n",
    "# 트리 모델 학습\n",
    "aa_model = RandomForestRegressor(random_state=42)\n",
    "aa_model.fit(X_train, y_train)\n",
    "\n",
    "# # 결측치가 있는 부분의 연면적 사용하여 주차대수 예측\n",
    "missing_data = df_train[df_train['건축면적(㎡)'].isnull()]\n",
    "X_missing = missing_data[['세대수(세대)', '전용면적(㎡)', '연면적(㎡)', 'k-건설사(시공사)', '도로명주소']]\n",
    "predicted_values = aa_model.predict(X_missing)\n",
    "\n",
    "# # 결측치 채우기\n",
    "df_train.loc[df_train['건축면적(㎡)'].isnull(), '건축면적(㎡)'] = predicted_values"
   ]
  },
  {
   "cell_type": "markdown",
   "metadata": {},
   "source": [
    "## 주차대수 결측치 채우기"
   ]
  },
  {
   "cell_type": "code",
   "execution_count": 806,
   "metadata": {},
   "outputs": [],
   "source": [
    "train_data = df_train.dropna(subset=['세대수(세대)', '주차대수', '건축면적(㎡)', '전용면적(㎡)', '연면적(㎡)', 'k-건설사(시공사)', '도로명주소'])\n",
    "X_train = train_data[['세대수(세대)', '건축면적(㎡)', '전용면적(㎡)', '연면적(㎡)', 'k-건설사(시공사)', '도로명주소']]\n",
    "y_train = train_data['주차대수']\n",
    "\n",
    "# 트리 모델 학습\n",
    "pl_model = RandomForestRegressor(random_state=42)\n",
    "pl_model.fit(X_train, y_train)\n",
    "\n",
    "# # 결측치가 있는 부분의 연면적 사용하여 주차대수 예측\n",
    "missing_data = df_train[df_train['주차대수'].isnull()]\n",
    "X_missing = missing_data[['세대수(세대)', '건축면적(㎡)', '전용면적(㎡)', '연면적(㎡)', 'k-건설사(시공사)', '도로명주소']]\n",
    "predicted_values = pl_model.predict(X_missing)\n",
    "\n",
    "# # 결측치 채우기\n",
    "df_train.loc[df_train['주차대수'].isnull(), '주차대수'] = predicted_values"
   ]
  },
  {
   "cell_type": "markdown",
   "metadata": {},
   "source": [
    "# 테스트 데이터"
   ]
  },
  {
   "cell_type": "code",
   "execution_count": 807,
   "metadata": {},
   "outputs": [
    {
     "data": {
      "text/plain": [
       "0"
      ]
     },
     "execution_count": 807,
     "metadata": {},
     "output_type": "execute_result"
    }
   ],
   "source": [
    "# 시군으로 나누기\n",
    "df_test['시군'] = df_test['시군구'].str.split().str[:2].apply(lambda x: ' '.join(x))\n",
    "\n",
    "# 도로명 데이터를 이용하여 도로명주소 생성\n",
    "df_test['주소'] = df_test['시군구'] + ' ' + df_test['번지']\n",
    "df_test['도로명주소'] = df_test['시군'] + ' ' + df_test['도로명']\n",
    "\n",
    "# 번지 주소가 없다면 도로명 주소로 채워줌, 번지 주소는 loc을 위함 \n",
    "df_test.loc[df_test['주소'].isna(), '주소'] = df_test.loc[df_test['주소'].isna(), '시군'] + ' ' + df_test.loc[df_test['주소'].isna(), '도로명']\n",
    "\n",
    "# 도로명의 값이 ' '인 값들을 찾아서 넣어줌\n",
    "df_test.loc[(df_test['도로명'] == ' ') & (df_test['주소'] == '서울특별시 성동구 하왕십리동 1071'), '도로명주소'] = '서울특별시 성동구 난계로 100'\n",
    "df_test.loc[(df_test['도로명'] == ' ') & (df_test['주소'] == '서울특별시 중구 만리동2가 288'), '도로명주소'] = '서울특별시 중구 만리재로 177'\n",
    "df_test.loc[(df_test['도로명'] == ' ') & (df_test['주소'] == '서울특별시 성북구 돈암동 13-85'), '도로명주소'] = '서울특별시 성북구 돈암동 동소문로34길 73'\n",
    "df_test.loc[(df_test['도로명'] == ' ') & (df_test['주소'] == '서울특별시 마포구 아현동 372-29'), '도로명주소'] = '서울특별시 마포구 마포대로24길 16'\n",
    "df_test.loc[(df_test['도로명'] == ' ') & (df_test['주소'] == '서울특별시 송파구 송파동 167'), '도로명주소'] = ' 서울특별시 송파구 오금로32길 31'\n",
    "df_test.loc[(df_test['도로명'] == ' ') & (df_test['주소'] == '서울특별시 송파구 거여동 696'), '도로명주소'] = '서울특별시 송파구 오금로 551'\n",
    "df_test.loc[(df_test['도로명'] == ' ') & (df_test['주소'] == '서울특별시 강남구 역삼동 762'), '도로명주소'] = '서울특별시 강남구 도곡로43길 21'\n",
    "df_test.loc[(df_test['도로명'] == ' ') & (df_test['주소'] == '서울특별시 서초구 반포동 30-2'), '도로명주소'] = '서울특별시 서초구 고무래로 35'\n",
    "df_test.loc[(df_test['도로명'] == ' ') & (df_test['주소'] == '서울특별시 종로구 옥인동 179-3'), '도로명주소'] = '서울 종로구 옥인길 82'\n",
    "df_test.loc[(df_test['도로명'] == ' ') & (df_test['주소'] == '서울특별시 강남구 역삼동 763'), '도로명주소'] = '서울 강남구 도곡로43길 20'\n",
    "df_test.loc[(df_test['도로명'] == ' ') & (df_test['주소'] == '서울특별시 서초구 서초동 1686-4'), '도로명주소'] = '서울 서초구 서초중앙로24길 33'\n",
    "\n",
    "# 같은 주소이지만 도로명 값이 없는경우 다른 도로명주소가 생겨서 같은 도로명주소로 채워줌 \n",
    "df_test['도로명주소'] = df_test.groupby('주소')['도로명주소'].transform('first')\n",
    "df_test['주소'].isna().sum()"
   ]
  },
  {
   "cell_type": "code",
   "execution_count": 808,
   "metadata": {},
   "outputs": [
    {
     "name": "stdout",
     "output_type": "stream",
     "text": [
      "처리전 :  6579\n"
     ]
    },
    {
     "name": "stderr",
     "output_type": "stream",
     "text": [
      "100%|██████████| 2362/2362 [00:01<00:00, 1660.00it/s]"
     ]
    },
    {
     "name": "stdout",
     "output_type": "stream",
     "text": [
      "처리후 :  1611\n"
     ]
    },
    {
     "name": "stderr",
     "output_type": "stream",
     "text": [
      "\n"
     ]
    }
   ],
   "source": [
    "print('처리전 : ', df_test['k-건설사(시공사)'].isna().sum())\n",
    "for construction in tqdm(mapping_constructions):\n",
    "    df_test.loc[df_test['도로명주소'] == construction['도로명주소'], 'k-건설사(시공사)'] = construction['k-건설사(시공사)']\n",
    "print('처리후 : ', df_test['k-건설사(시공사)'].isna().sum())"
   ]
  },
  {
   "cell_type": "code",
   "execution_count": 809,
   "metadata": {},
   "outputs": [
    {
     "name": "stderr",
     "output_type": "stream",
     "text": [
      "100%|██████████| 97/97 [00:00<00:00, 413.36it/s]\n"
     ]
    }
   ],
   "source": [
    "df_test['k-건설사(시공사)'] = df_test['k-건설사(시공사)'].fillna('unknown')\n",
    "df_test['아파트명'] = df_test['아파트명'].fillna('unknown')\n",
    "for construction in tqdm(constructions):\n",
    "    df_test.loc[df_test['아파트명'].str.contains(construction), 'k-건설사(시공사)'] = construction\n",
    "\n",
    "df_test.loc[df_test['k-건설사(시공사)'] == '아크로리버뷰신반포', 'k-건설사(시공사)'] = '대림'"
   ]
  },
  {
   "cell_type": "code",
   "execution_count": 810,
   "metadata": {},
   "outputs": [],
   "source": [
    "df_test = df_test.merge(df_info, how='left', on=['도로명주소'])\n",
    "df_test['k-전체세대수'].fillna(df_test['세대수(세대)'], inplace=True)\n",
    "df_test['건축면적'].fillna(df_test['건축면적(㎡)'], inplace=True)\n",
    "df_test['k-연면적'].fillna(df_test['연면적(㎡)'], inplace=True)\n",
    "df_test.drop(columns=['세대수(세대)', '건축면적(㎡)', '연면적(㎡)'], inplace=True)\n",
    "df_test.rename({\"k-전체세대수\" : \"세대수(세대)\", \"건축면적\" : \"건축면적(㎡)\", \"k-연면적\" : \"연면적(㎡)\"}, axis=1, inplace=True)"
   ]
  },
  {
   "cell_type": "code",
   "execution_count": 811,
   "metadata": {},
   "outputs": [],
   "source": [
    "df_test = df_test.merge(parkinglot, how='left', on='도로명주소', suffixes=('_1', '_2'))\n",
    "df_test['주차대수_1'] = df_test['주차대수_1'].fillna(df_test['주차대수_2'])\n",
    "df_test = df_test.drop(columns=['주차대수_2'], axis=1).rename({'주차대수_1' : '주차대수'}, axis=1)"
   ]
  },
  {
   "cell_type": "code",
   "execution_count": 812,
   "metadata": {},
   "outputs": [],
   "source": [
    "df_test['건축면적(㎡)'] = df_test['건축면적(㎡)'].apply(lambda x: np.nan if x == 0 else x)\n",
    "df_test['연면적(㎡)'] = df_test['연면적(㎡)'].apply(lambda x: np.nan if x == 0 else x)\n",
    "df_test['세대수(세대)'] = df_test['세대수(세대)'].apply(lambda x: np.nan if x == 0 else x)"
   ]
  },
  {
   "cell_type": "code",
   "execution_count": 813,
   "metadata": {},
   "outputs": [],
   "source": [
    "df_test['계약년월'] = df_test['계약년월'].astype(str)\n",
    "df_test['계약일'] = df_test['계약일'].astype(str)\n",
    "df_test['계약일'] = df_test['계약일'].apply(lambda x: '0' + x if len(x) == 1 else x)\n",
    "df_test['날짜'] = df_test['계약년월'] + df_test['계약일'] \n",
    "\n",
    "df_test = df_test.merge(base_interest_rate[['날짜', '기준금리']], how='left', on='날짜')\n",
    "\n",
    "df_test['기준금리'] = df_test['기준금리'].fillna(1.5)"
   ]
  },
  {
   "cell_type": "code",
   "execution_count": 814,
   "metadata": {},
   "outputs": [],
   "source": [
    "bus_count_test_df = pd.read_csv('../bus_count_test.csv')\n",
    "subway_count_test_df = pd.read_csv('../subway_count_test.csv')\n",
    "school_count_test_df = pd.read_csv('../school_count_test.csv')\n",
    "hospital_count_test_df = pd.read_csv('../hospital_count_test.csv')\n",
    "park_count_test_df = pd.read_csv('../park_count_test.csv')"
   ]
  },
  {
   "cell_type": "code",
   "execution_count": 815,
   "metadata": {},
   "outputs": [],
   "source": [
    "df_test = pd.concat([df_test, bus_count_test_df, subway_count_test_df, school_count_test_df, hospital_count_test_df, park_count_test_df], axis=1) # 테스트 에대한 값도 뽑아야 함"
   ]
  },
  {
   "cell_type": "code",
   "execution_count": 816,
   "metadata": {},
   "outputs": [],
   "source": [
    "df_test['구'] = df_test['시군구'].str.split().str[1]\n",
    "df_test['동'] = df_test['시군구'].str.split().str[2]\n",
    "\n",
    "df_test['한강근처여부'] = df_test['시군구'].apply(lambda x: 1 if x in near_river else 0)\n",
    "df_test['계약년'] = df_test['계약년월'].astype('str').map(lambda x : x[:4])\n",
    "df_test['계약월'] = df_test['계약년월'].astype('str').map(lambda x : x[4:])\n",
    "\n",
    "region_premium = ['서울특별시 강남구', '서울특별시 서초구', '서울특별시 용산구', '서울특별시 송파구']\n",
    "df_test['지역프리미엄'] = df_test['시군'].apply(lambda x: 1 if x in region_premium else 0)\n",
    "\n",
    "# 강남의 여부를 체크합니다.\n",
    "is_gangnam = []\n",
    "for x in df_test['구'].tolist() :\n",
    "  if x in gangnam :\n",
    "    is_gangnam.append(1)\n",
    "  else :\n",
    "    is_gangnam.append(0)\n",
    "\n",
    "# 파생변수를 하나 만릅니다.\n",
    "df_test['강남여부'] = is_gangnam\n",
    "\n",
    "# 신축, 준신축, 구축 구분 \n",
    "df_test['연식'] = df_test['계약년'].astype(int) - df_test['건축년도']\n",
    "df_test['건물상태'] = df_test['연식'].apply(buliding_condition)\n",
    "\n",
    "# 재건축 가능 \n",
    "df_test['재건축가능'] = 0\n",
    "df_test.loc[(df_test['연식'] >= 20) & (df_test['건축년도'] <= 1981), '재건축가능'] = 1\n",
    "df_test.loc[(df_test['연식'] >= 22) & (df_test['건축년도'] <= 1982), '재건축가능'] = 1\n",
    "df_test.loc[(df_test['연식'] >= 24) & (df_test['건축년도'] <= 1983), '재건축가능'] = 1\n",
    "df_test.loc[(df_test['연식'] >= 26) & (df_test['건축년도'] <= 1984), '재건축가능'] = 1\n",
    "df_test.loc[(df_test['연식'] >= 28) & (df_test['건축년도'] <= 1985), '재건축가능'] = 1\n",
    "df_test.loc[(df_test['연식'] >= 30) & (df_test['건축년도'] <= 1986), '재건축가능'] = 1\n",
    "\n",
    "df_test['top10'] = 0\n",
    "# top 10 시공사면 1, 아니면 0\n",
    "for i, brand in enumerate(top10):\n",
    "  df_test.loc[df_test['아파트명'].str.contains(brand), 'top10'] = 1\n",
    "\n",
    "\n",
    "df_test['아파트크기'] = 1\n",
    "df_test.loc[df_test['전용면적(㎡)'] < 60, '아파트크기'] = 0\n",
    "df_test.loc[df_test['전용면적(㎡)'] > 85, '아파트크기'] = 2"
   ]
  },
  {
   "cell_type": "code",
   "execution_count": 817,
   "metadata": {},
   "outputs": [],
   "source": [
    "df_test.drop(drop_columns, axis=1, inplace=True)"
   ]
  },
  {
   "cell_type": "code",
   "execution_count": 818,
   "metadata": {},
   "outputs": [
    {
     "name": "stderr",
     "output_type": "stream",
     "text": [
      "  0%|          | 0/7 [00:00<?, ?it/s]"
     ]
    },
    {
     "name": "stderr",
     "output_type": "stream",
     "text": [
      "100%|██████████| 7/7 [00:00<00:00, 11.74it/s]\n"
     ]
    }
   ],
   "source": [
    "for col in tqdm(categorical_columns):\n",
    "    for idx, label in enumerate(np.unique(df_test[col])):\n",
    "        lbl_encoder = label_encoders[col]\n",
    "        if label not in lbl_encoder.classes_: # unseen label 데이터인 경우\n",
    "            lbl_encoder.classes_ = np.append(lbl_encoder.classes_, label) # 미처리 시 ValueError발생하니 주의하세요!\n",
    "    df_test[col] = lbl_encoder.transform(df_test[col])"
   ]
  },
  {
   "cell_type": "code",
   "execution_count": 819,
   "metadata": {},
   "outputs": [],
   "source": [
    "# # 결측치가 있는 부분의 연면적 사용하여 주차대수 예측\n",
    "missing_data = df_test[df_test['연면적(㎡)'].isnull()]\n",
    "X_missing = missing_data[['k-건설사(시공사)', '전용면적(㎡)', '도로명주소']]\n",
    "predicted_values = tfa_model.predict(X_missing)\n",
    "\n",
    "# # 결측치 채우기\n",
    "df_test.loc[df_test['연면적(㎡)'].isnull(), '연면적(㎡)'] = predicted_values"
   ]
  },
  {
   "cell_type": "code",
   "execution_count": 820,
   "metadata": {},
   "outputs": [],
   "source": [
    "# # 결측치가 있는 부분의 전용면적을 사용하여 건축면적 예측\n",
    "missing_data = df_test[df_test['세대수(세대)'].isnull()]\n",
    "X_missing = missing_data[['연면적(㎡)']]\n",
    "predicted_values = households_model.predict(X_missing)\n",
    "\n",
    "# # 결측치 채우기\n",
    "df_test.loc[df_test['세대수(세대)'].isnull(), '세대수(세대)'] = predicted_values"
   ]
  },
  {
   "cell_type": "code",
   "execution_count": 821,
   "metadata": {},
   "outputs": [],
   "source": [
    "# # 결측치가 있는 부분의 연면적 사용하여 주차대수 예측\n",
    "missing_data = df_test[df_test['건축면적(㎡)'].isnull()]\n",
    "X_missing = missing_data[['세대수(세대)', '전용면적(㎡)', '연면적(㎡)', 'k-건설사(시공사)', '도로명주소']]\n",
    "predicted_values = aa_model.predict(X_missing)\n",
    "\n",
    "# # 결측치 채우기\n",
    "df_test.loc[df_test['건축면적(㎡)'].isnull(), '건축면적(㎡)'] = predicted_values"
   ]
  },
  {
   "cell_type": "code",
   "execution_count": 822,
   "metadata": {},
   "outputs": [],
   "source": [
    "# # 결측치가 있는 부분의 연면적 사용하여 주차대수 예측\n",
    "missing_data = df_test[df_test['주차대수'].isnull()]\n",
    "X_missing = missing_data[['세대수(세대)', '건축면적(㎡)', '전용면적(㎡)', '연면적(㎡)', 'k-건설사(시공사)', '도로명주소']]\n",
    "predicted_values = pl_model.predict(X_missing)\n",
    "\n",
    "# # 결측치 채우기\n",
    "df_test.loc[df_test['주차대수'].isnull(), '주차대수'] = predicted_values"
   ]
  },
  {
   "cell_type": "code",
   "execution_count": 823,
   "metadata": {},
   "outputs": [],
   "source": [
    "df_test['계약월'] = df_test['계약월'].astype('int')\n",
    "df_test['계약일'] = df_test['계약일'].astype('int') "
   ]
  },
  {
   "cell_type": "code",
   "execution_count": 824,
   "metadata": {},
   "outputs": [],
   "source": [
    "assert df_train.drop(columns=['target'], axis=1).shape[1] == df_test.shape[1]"
   ]
  },
  {
   "cell_type": "code",
   "execution_count": 825,
   "metadata": {},
   "outputs": [],
   "source": [
    "df_train['target'] = np.log1p(df_train['target'])"
   ]
  },
  {
   "cell_type": "code",
   "execution_count": 826,
   "metadata": {},
   "outputs": [],
   "source": [
    "df_train['type'] = 'train' \n",
    "df_test['type'] = 'test'\n",
    "df_train['index'] = df_train.index\n",
    "df_test['index'] = df_test.index\n",
    "\n",
    "concat_df = pd.concat([df_train[['type', 'index', '도로명주소', '층', '동', '날짜', '계약년월', '계약년', '전용면적(㎡)', 'target',]], df_test[['type', 'index', '도로명주소', '동', '층', '날짜', '계약년월', '계약년', '전용면적(㎡)']]])\n",
    "\n",
    "previous_target_df = concat_df.sort_values(by=['도로명주소', '층', '날짜'])\n",
    "for i in range(1, 4):\n",
    "    previous_target_df[f'이전 거래 가격{i}'] = previous_target_df.groupby(['도로명주소', '층'])['target'].shift(i)\n",
    "    previous_target_df[f'거래 간격{i}'] = previous_target_df['날짜'] - previous_target_df.groupby(['도로명주소', '층'])['날짜'].shift(i)\n",
    "previous_target_df['전용면적 증감비율'] = previous_target_df.groupby(['도로명주소', '층'])['전용면적(㎡)'].pct_change()"
   ]
  },
  {
   "cell_type": "code",
   "execution_count": 827,
   "metadata": {},
   "outputs": [],
   "source": [
    "def get_quarter(contract_date):\n",
    "    month = int(contract_date[-2:])\n",
    "    quarter = (month - 1) // 3 + 1\n",
    "    return f\"{contract_date[:4]} {quarter}분기\"\n",
    "\n",
    "previous_target_df['분기'] = previous_target_df['계약년월'].apply(get_quarter)"
   ]
  },
  {
   "cell_type": "code",
   "execution_count": 828,
   "metadata": {},
   "outputs": [
    {
     "data": {
      "text/html": [
       "<div>\n",
       "<style scoped>\n",
       "    .dataframe tbody tr th:only-of-type {\n",
       "        vertical-align: middle;\n",
       "    }\n",
       "\n",
       "    .dataframe tbody tr th {\n",
       "        vertical-align: top;\n",
       "    }\n",
       "\n",
       "    .dataframe thead th {\n",
       "        text-align: right;\n",
       "    }\n",
       "</style>\n",
       "<table border=\"1\" class=\"dataframe\">\n",
       "  <thead>\n",
       "    <tr style=\"text-align: right;\">\n",
       "      <th></th>\n",
       "      <th>type</th>\n",
       "      <th>index</th>\n",
       "      <th>도로명주소</th>\n",
       "      <th>층</th>\n",
       "      <th>동</th>\n",
       "      <th>날짜</th>\n",
       "      <th>계약년월</th>\n",
       "      <th>계약년</th>\n",
       "      <th>전용면적(㎡)</th>\n",
       "      <th>target</th>\n",
       "      <th>이전 거래 가격1</th>\n",
       "      <th>거래 간격1</th>\n",
       "      <th>이전 거래 가격2</th>\n",
       "      <th>거래 간격2</th>\n",
       "      <th>이전 거래 가격3</th>\n",
       "      <th>거래 간격3</th>\n",
       "      <th>전용면적 증감비율</th>\n",
       "      <th>분기</th>\n",
       "    </tr>\n",
       "  </thead>\n",
       "  <tbody>\n",
       "    <tr>\n",
       "      <th>1109694</th>\n",
       "      <td>train</td>\n",
       "      <td>1109694</td>\n",
       "      <td>0</td>\n",
       "      <td>1</td>\n",
       "      <td>162</td>\n",
       "      <td>169</td>\n",
       "      <td>200706</td>\n",
       "      <td>0</td>\n",
       "      <td>72.62</td>\n",
       "      <td>10.721084</td>\n",
       "      <td>NaN</td>\n",
       "      <td>NaN</td>\n",
       "      <td>NaN</td>\n",
       "      <td>NaN</td>\n",
       "      <td>NaN</td>\n",
       "      <td>NaN</td>\n",
       "      <td>NaN</td>\n",
       "      <td>2007 2분기</td>\n",
       "    </tr>\n",
       "    <tr>\n",
       "      <th>1109700</th>\n",
       "      <td>train</td>\n",
       "      <td>1109700</td>\n",
       "      <td>0</td>\n",
       "      <td>1</td>\n",
       "      <td>162</td>\n",
       "      <td>182</td>\n",
       "      <td>200707</td>\n",
       "      <td>0</td>\n",
       "      <td>89.14</td>\n",
       "      <td>10.896758</td>\n",
       "      <td>10.721084</td>\n",
       "      <td>13.0</td>\n",
       "      <td>NaN</td>\n",
       "      <td>NaN</td>\n",
       "      <td>NaN</td>\n",
       "      <td>NaN</td>\n",
       "      <td>0.227486</td>\n",
       "      <td>2007 3분기</td>\n",
       "    </tr>\n",
       "    <tr>\n",
       "      <th>1109703</th>\n",
       "      <td>train</td>\n",
       "      <td>1109703</td>\n",
       "      <td>0</td>\n",
       "      <td>1</td>\n",
       "      <td>162</td>\n",
       "      <td>191</td>\n",
       "      <td>200707</td>\n",
       "      <td>0</td>\n",
       "      <td>54.35</td>\n",
       "      <td>10.308986</td>\n",
       "      <td>10.896758</td>\n",
       "      <td>9.0</td>\n",
       "      <td>10.721084</td>\n",
       "      <td>22.0</td>\n",
       "      <td>NaN</td>\n",
       "      <td>NaN</td>\n",
       "      <td>-0.390285</td>\n",
       "      <td>2007 3분기</td>\n",
       "    </tr>\n",
       "    <tr>\n",
       "      <th>1109671</th>\n",
       "      <td>train</td>\n",
       "      <td>1109671</td>\n",
       "      <td>0</td>\n",
       "      <td>2</td>\n",
       "      <td>162</td>\n",
       "      <td>33</td>\n",
       "      <td>200702</td>\n",
       "      <td>0</td>\n",
       "      <td>54.35</td>\n",
       "      <td>10.454524</td>\n",
       "      <td>NaN</td>\n",
       "      <td>NaN</td>\n",
       "      <td>NaN</td>\n",
       "      <td>NaN</td>\n",
       "      <td>NaN</td>\n",
       "      <td>NaN</td>\n",
       "      <td>NaN</td>\n",
       "      <td>2007 1분기</td>\n",
       "    </tr>\n",
       "    <tr>\n",
       "      <th>1109702</th>\n",
       "      <td>train</td>\n",
       "      <td>1109702</td>\n",
       "      <td>0</td>\n",
       "      <td>2</td>\n",
       "      <td>162</td>\n",
       "      <td>186</td>\n",
       "      <td>200707</td>\n",
       "      <td>0</td>\n",
       "      <td>65.41</td>\n",
       "      <td>10.596660</td>\n",
       "      <td>10.454524</td>\n",
       "      <td>153.0</td>\n",
       "      <td>NaN</td>\n",
       "      <td>NaN</td>\n",
       "      <td>NaN</td>\n",
       "      <td>NaN</td>\n",
       "      <td>0.203496</td>\n",
       "      <td>2007 3분기</td>\n",
       "    </tr>\n",
       "    <tr>\n",
       "      <th>...</th>\n",
       "      <td>...</td>\n",
       "      <td>...</td>\n",
       "      <td>...</td>\n",
       "      <td>...</td>\n",
       "      <td>...</td>\n",
       "      <td>...</td>\n",
       "      <td>...</td>\n",
       "      <td>...</td>\n",
       "      <td>...</td>\n",
       "      <td>...</td>\n",
       "      <td>...</td>\n",
       "      <td>...</td>\n",
       "      <td>...</td>\n",
       "      <td>...</td>\n",
       "      <td>...</td>\n",
       "      <td>...</td>\n",
       "      <td>...</td>\n",
       "      <td>...</td>\n",
       "    </tr>\n",
       "    <tr>\n",
       "      <th>9185</th>\n",
       "      <td>test</td>\n",
       "      <td>9185</td>\n",
       "      <td>8866</td>\n",
       "      <td>2</td>\n",
       "      <td>143</td>\n",
       "      <td>6065</td>\n",
       "      <td>202309</td>\n",
       "      <td>16</td>\n",
       "      <td>68.12</td>\n",
       "      <td>NaN</td>\n",
       "      <td>NaN</td>\n",
       "      <td>NaN</td>\n",
       "      <td>NaN</td>\n",
       "      <td>NaN</td>\n",
       "      <td>NaN</td>\n",
       "      <td>NaN</td>\n",
       "      <td>NaN</td>\n",
       "      <td>2023 3분기</td>\n",
       "    </tr>\n",
       "    <tr>\n",
       "      <th>9186</th>\n",
       "      <td>test</td>\n",
       "      <td>9186</td>\n",
       "      <td>8866</td>\n",
       "      <td>5</td>\n",
       "      <td>143</td>\n",
       "      <td>6069</td>\n",
       "      <td>202309</td>\n",
       "      <td>16</td>\n",
       "      <td>68.12</td>\n",
       "      <td>NaN</td>\n",
       "      <td>NaN</td>\n",
       "      <td>NaN</td>\n",
       "      <td>NaN</td>\n",
       "      <td>NaN</td>\n",
       "      <td>NaN</td>\n",
       "      <td>NaN</td>\n",
       "      <td>NaN</td>\n",
       "      <td>2023 3분기</td>\n",
       "    </tr>\n",
       "    <tr>\n",
       "      <th>9183</th>\n",
       "      <td>test</td>\n",
       "      <td>9183</td>\n",
       "      <td>8866</td>\n",
       "      <td>6</td>\n",
       "      <td>143</td>\n",
       "      <td>6049</td>\n",
       "      <td>202308</td>\n",
       "      <td>16</td>\n",
       "      <td>68.12</td>\n",
       "      <td>NaN</td>\n",
       "      <td>NaN</td>\n",
       "      <td>NaN</td>\n",
       "      <td>NaN</td>\n",
       "      <td>NaN</td>\n",
       "      <td>NaN</td>\n",
       "      <td>NaN</td>\n",
       "      <td>NaN</td>\n",
       "      <td>2023 3분기</td>\n",
       "    </tr>\n",
       "    <tr>\n",
       "      <th>9184</th>\n",
       "      <td>test</td>\n",
       "      <td>9184</td>\n",
       "      <td>8866</td>\n",
       "      <td>14</td>\n",
       "      <td>143</td>\n",
       "      <td>6055</td>\n",
       "      <td>202309</td>\n",
       "      <td>16</td>\n",
       "      <td>68.12</td>\n",
       "      <td>NaN</td>\n",
       "      <td>NaN</td>\n",
       "      <td>NaN</td>\n",
       "      <td>NaN</td>\n",
       "      <td>NaN</td>\n",
       "      <td>NaN</td>\n",
       "      <td>NaN</td>\n",
       "      <td>NaN</td>\n",
       "      <td>2023 3분기</td>\n",
       "    </tr>\n",
       "    <tr>\n",
       "      <th>9182</th>\n",
       "      <td>test</td>\n",
       "      <td>9182</td>\n",
       "      <td>8866</td>\n",
       "      <td>15</td>\n",
       "      <td>143</td>\n",
       "      <td>5995</td>\n",
       "      <td>202307</td>\n",
       "      <td>16</td>\n",
       "      <td>68.12</td>\n",
       "      <td>NaN</td>\n",
       "      <td>NaN</td>\n",
       "      <td>NaN</td>\n",
       "      <td>NaN</td>\n",
       "      <td>NaN</td>\n",
       "      <td>NaN</td>\n",
       "      <td>NaN</td>\n",
       "      <td>NaN</td>\n",
       "      <td>2023 3분기</td>\n",
       "    </tr>\n",
       "  </tbody>\n",
       "</table>\n",
       "<p>1128092 rows × 18 columns</p>\n",
       "</div>"
      ],
      "text/plain": [
       "          type    index  도로명주소   층    동    날짜    계약년월  계약년  전용면적(㎡)  \\\n",
       "1109694  train  1109694      0   1  162   169  200706    0    72.62   \n",
       "1109700  train  1109700      0   1  162   182  200707    0    89.14   \n",
       "1109703  train  1109703      0   1  162   191  200707    0    54.35   \n",
       "1109671  train  1109671      0   2  162    33  200702    0    54.35   \n",
       "1109702  train  1109702      0   2  162   186  200707    0    65.41   \n",
       "...        ...      ...    ...  ..  ...   ...     ...  ...      ...   \n",
       "9185      test     9185   8866   2  143  6065  202309   16    68.12   \n",
       "9186      test     9186   8866   5  143  6069  202309   16    68.12   \n",
       "9183      test     9183   8866   6  143  6049  202308   16    68.12   \n",
       "9184      test     9184   8866  14  143  6055  202309   16    68.12   \n",
       "9182      test     9182   8866  15  143  5995  202307   16    68.12   \n",
       "\n",
       "            target  이전 거래 가격1  거래 간격1  이전 거래 가격2  거래 간격2  이전 거래 가격3  거래 간격3  \\\n",
       "1109694  10.721084        NaN     NaN        NaN     NaN        NaN     NaN   \n",
       "1109700  10.896758  10.721084    13.0        NaN     NaN        NaN     NaN   \n",
       "1109703  10.308986  10.896758     9.0  10.721084    22.0        NaN     NaN   \n",
       "1109671  10.454524        NaN     NaN        NaN     NaN        NaN     NaN   \n",
       "1109702  10.596660  10.454524   153.0        NaN     NaN        NaN     NaN   \n",
       "...            ...        ...     ...        ...     ...        ...     ...   \n",
       "9185           NaN        NaN     NaN        NaN     NaN        NaN     NaN   \n",
       "9186           NaN        NaN     NaN        NaN     NaN        NaN     NaN   \n",
       "9183           NaN        NaN     NaN        NaN     NaN        NaN     NaN   \n",
       "9184           NaN        NaN     NaN        NaN     NaN        NaN     NaN   \n",
       "9182           NaN        NaN     NaN        NaN     NaN        NaN     NaN   \n",
       "\n",
       "         전용면적 증감비율        분기  \n",
       "1109694        NaN  2007 2분기  \n",
       "1109700   0.227486  2007 3분기  \n",
       "1109703  -0.390285  2007 3분기  \n",
       "1109671        NaN  2007 1분기  \n",
       "1109702   0.203496  2007 3분기  \n",
       "...            ...       ...  \n",
       "9185           NaN  2023 3분기  \n",
       "9186           NaN  2023 3분기  \n",
       "9183           NaN  2023 3분기  \n",
       "9184           NaN  2023 3분기  \n",
       "9182           NaN  2023 3분기  \n",
       "\n",
       "[1128092 rows x 18 columns]"
      ]
     },
     "execution_count": 828,
     "metadata": {},
     "output_type": "execute_result"
    }
   ],
   "source": [
    "previous_target_df"
   ]
  },
  {
   "cell_type": "code",
   "execution_count": 829,
   "metadata": {},
   "outputs": [],
   "source": [
    "daily_price_percentage = previous_target_df.groupby(['날짜', '동'])['target'].mean().reset_index()\n",
    "daily_price_percentage['전날 동별 평균 가격'] = daily_price_percentage.groupby('동')['target'].shift()\n",
    "daily_price_percentage['동별 일일 가격 변동률'] = daily_price_percentage.groupby('동')['target'].pct_change()\n",
    "\n",
    "month_price_percentage = previous_target_df.groupby(['계약년월', '동'])['target'].mean().reset_index()\n",
    "month_price_percentage['동별 월별 가격 변동률'] = month_price_percentage.groupby('동')['target'].pct_change()\n",
    "\n",
    "quater_price_percentage = previous_target_df.groupby(['분기', '동'])['target'].mean().reset_index()\n",
    "quater_price_percentage['동별 분기별 가격 변동률'] = quater_price_percentage.groupby('동')['target'].pct_change()\n",
    "\n",
    "year_price_percentage = previous_target_df.groupby(['계약년', '동'])['target'].mean().reset_index()\n",
    "year_price_percentage['동별 연별 가격 변동률'] = quater_price_percentage.groupby('동')['target'].pct_change()\n",
    "\n",
    "previous_target_df = previous_target_df.merge(daily_price_percentage.drop(columns=['target'], axis=1), how='left', on=['동', '날짜'])\n",
    "previous_target_df = previous_target_df.merge(month_price_percentage.drop(columns=['target'], axis=1), how='left', on=['동', '계약년월'])\n",
    "previous_target_df = previous_target_df.merge(quater_price_percentage.drop(columns=['target'], axis=1), how='left', on=['동', '분기'])\n",
    "previous_target_df = previous_target_df.merge(year_price_percentage.drop(columns=['target'], axis=1), how='left', on=['동', '계약년'])"
   ]
  },
  {
   "cell_type": "code",
   "execution_count": 830,
   "metadata": {},
   "outputs": [],
   "source": [
    "train_previous_target_df = previous_target_df[previous_target_df['type'] == 'train'].sort_values(by='index').reset_index().drop(columns=['index', 'level_0'], axis=1)\n",
    "test_previous_target_df = previous_target_df[previous_target_df['type'] == 'test'].sort_values(by='index').reset_index().drop(columns=['index', 'level_0'], axis=1)"
   ]
  },
  {
   "cell_type": "code",
   "execution_count": 832,
   "metadata": {},
   "outputs": [],
   "source": [
    "df_train = pd.concat([df_train, train_previous_target_df[['이전 거래 가격1', '이전 거래 가격2', '이전 거래 가격3', '거래 간격1', '거래 간격2', '거래 간격3', '전용면적 증감비율', '전날 동별 평균 가격', '동별 일일 가격 변동률', '동별 월별 가격 변동률', '동별 분기별 가격 변동률', '동별 연별 가격 변동률']]], axis=1)\n",
    "df_test = pd.concat([df_test, test_previous_target_df[['이전 거래 가격1', '이전 거래 가격2', '이전 거래 가격3', '거래 간격1', '거래 간격2', '거래 간격3', '전용면적 증감비율', '전날 동별 평균 가격', '동별 일일 가격 변동률', '동별 월별 가격 변동률', '동별 분기별 가격 변동률', '동별 연별 가격 변동률']]], axis=1)"
   ]
  },
  {
   "cell_type": "code",
   "execution_count": 833,
   "metadata": {},
   "outputs": [],
   "source": [
    "df_train.drop(columns=['type', 'index'], axis=1, inplace=True)\n",
    "df_test.drop(columns=['type', 'index'], axis=1, inplace=True)"
   ]
  },
  {
   "cell_type": "code",
   "execution_count": 834,
   "metadata": {},
   "outputs": [],
   "source": [
    "df_train['이전 거래 변동률'] = (df_train['이전 거래 가격1'] - df_train['이전 거래 가격2']) / df_train['이전 거래 가격2']\n",
    "df_test['이전 거래 변동률'] = (df_test['이전 거래 가격1'] - df_test['이전 거래 가격2']) / df_test['이전 거래 가격2']"
   ]
  },
  {
   "cell_type": "code",
   "execution_count": 835,
   "metadata": {},
   "outputs": [],
   "source": [
    "df_train['target_mean'] = df_train[['이전 거래 가격1', '이전 거래 가격2', '이전 거래 가격3']].mean(axis=1)\n",
    "df_train['target_std'] = df_train[['이전 거래 가격1', '이전 거래 가격2', '이전 거래 가격3']].std(axis=1)\n",
    "df_train['target_var'] = df_train[['이전 거래 가격1', '이전 거래 가격2', '이전 거래 가격3']].var(axis=1)\n",
    "\n",
    "df_test['target_mean'] = df_test[['이전 거래 가격1', '이전 거래 가격2', '이전 거래 가격3']].mean(axis=1)\n",
    "df_test['target_std'] = df_test[['이전 거래 가격1', '이전 거래 가격2', '이전 거래 가격3']].std(axis=1)\n",
    "df_test['target_var'] = df_test[['이전 거래 가격1', '이전 거래 가격2', '이전 거래 가격3']].var(axis=1)"
   ]
  },
  {
   "cell_type": "code",
   "execution_count": 836,
   "metadata": {},
   "outputs": [],
   "source": [
    "df_train['전용/건축면적'] = df_train['전용면적(㎡)'] / df_train['건축면적(㎡)'] \n",
    "df_test['전용/건축면적'] = df_test['전용면적(㎡)'] / df_test['건축면적(㎡)'] "
   ]
  },
  {
   "cell_type": "code",
   "execution_count": 837,
   "metadata": {},
   "outputs": [],
   "source": [
    "df_train['신규'] = df_train['이전 거래 가격1'].isna().apply(lambda x: 1 if x else 0)\n",
    "df_train['분양'] = 0\n",
    "df_train.loc[(df_train['신규'] == 1) & (df_train['연식'] == 0), '분양'] = 1\n",
    "\n",
    "df_test['신규'] = df_test['이전 거래 가격1'].isna().apply(lambda x: 1 if x else 0)\n",
    "df_test['분양'] = 0\n",
    "df_test.loc[(df_train['신규'] == 1) & (df_train['연식'] == 0), '분양'] = 1"
   ]
  },
  {
   "cell_type": "code",
   "execution_count": 838,
   "metadata": {},
   "outputs": [],
   "source": [
    "def get_quarter(contract_date):\n",
    "    month = int(contract_date[-2:])\n",
    "    quarter = (month - 1) // 3 + 1\n",
    "    return quarter\n",
    "\n",
    "df_train['분기'] = df_train['계약년월'].apply(get_quarter)\n",
    "df_test['분기'] = df_test['계약년월'].apply(get_quarter)"
   ]
  },
  {
   "cell_type": "code",
   "execution_count": 839,
   "metadata": {},
   "outputs": [],
   "source": [
    "df_train.drop(columns=['계약년월'], axis=1, inplace=True)\n",
    "df_test.drop(columns=['계약년월'], axis=1, inplace=True)"
   ]
  },
  {
   "cell_type": "code",
   "execution_count": 841,
   "metadata": {},
   "outputs": [],
   "source": [
    "df_train.to_csv('../train_df1.csv', index=False)\n",
    "df_test.to_csv('../test_df1.csv', index=False)"
   ]
  }
 ],
 "metadata": {
  "kernelspec": {
   "display_name": "base",
   "language": "python",
   "name": "python3"
  },
  "language_info": {
   "codemirror_mode": {
    "name": "ipython",
    "version": 3
   },
   "file_extension": ".py",
   "mimetype": "text/x-python",
   "name": "python",
   "nbconvert_exporter": "python",
   "pygments_lexer": "ipython3",
   "version": "3.10.13"
  }
 },
 "nbformat": 4,
 "nbformat_minor": 2
}
