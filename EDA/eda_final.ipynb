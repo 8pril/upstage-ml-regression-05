{
 "cells": [
  {
   "cell_type": "code",
   "execution_count": 1,
   "metadata": {},
   "outputs": [],
   "source": [
    "import matplotlib.pyplot as plt\n",
    "import seaborn as sns\n",
    "import pandas as pd\n",
    "import numpy as np\n",
    "import warnings;warnings.filterwarnings('ignore')\n",
    "import matplotlib.font_manager as fm\n",
    "fe = fm.FontEntry(\n",
    "    fname=r'/usr/share/fonts/truetype/nanum/NanumGothic.ttf', # ttf 파일이 저장되어 있는 경로\n",
    "    name='NanumBarunGothic')                        # 이 폰트의 원하는 이름 설정\n",
    "fm.fontManager.ttflist.insert(0, fe)              # Matplotlib에 폰트 추가\n",
    "plt.rcParams.update({'font.size': 10, 'font.family': 'NanumBarunGothic'}) # 폰트 설정\n",
    "plt.rc('font', family='NanumBarunGothic')\n",
    "\n",
    "from tqdm import tqdm\n",
    "import pickle\n",
    "import warnings;warnings.filterwarnings('ignore')\n",
    "\n",
    "# Model\n",
    "from sklearn.preprocessing import LabelEncoder\n",
    "from sklearn.model_selection import train_test_split\n",
    "from sklearn.metrics import mean_squared_error\n",
    "from sklearn.ensemble import RandomForestRegressor\n",
    "from sklearn import metrics\n",
    "\n",
    "import eli5\n",
    "from eli5.sklearn import PermutationImportance\n"
   ]
  },
  {
   "cell_type": "code",
   "execution_count": 2,
   "metadata": {},
   "outputs": [],
   "source": [
    "train_path = './train.csv'\n",
    "test_path  = './test.csv'\n",
    "train = pd.read_csv(train_path)\n",
    "test = pd.read_csv(test_path)"
   ]
  },
  {
   "cell_type": "code",
   "execution_count": 3,
   "metadata": {},
   "outputs": [],
   "source": [
    "train['is_test'] = 0\n",
    "test['is_test'] = 1\n",
    "concat = pd.concat([train, test])"
   ]
  },
  {
   "cell_type": "markdown",
   "metadata": {},
   "source": [
    "# 기준금리 추가하기"
   ]
  },
  {
   "cell_type": "code",
   "execution_count": 4,
   "metadata": {},
   "outputs": [],
   "source": [
    "base_rate_path  = './기준금리.csv'\n",
    "base_rate_df = pd.read_csv(base_rate_path)"
   ]
  },
  {
   "cell_type": "code",
   "execution_count": 5,
   "metadata": {},
   "outputs": [],
   "source": [
    "# 월일 변수를 월과 일로 나누어주고 년 월 일을 합쳐 날짜를 8자리 정수로 표현하기\n",
    "base_rate_df['년'] = base_rate_df['년'].map(lambda x: str(x))\n",
    "base_rate_df['월'] = base_rate_df['월일'].map(lambda x : x[:2])\n",
    "base_rate_df['일'] = base_rate_df['월일'].map(lambda x : x[4:6])\n",
    "base_rate_df['날짜'] = base_rate_df['년'] + base_rate_df['월'] + base_rate_df['일']\n",
    "base_rate_df['날짜'] = base_rate_df['날짜'].map(lambda x: int(x))\n",
    "base_rate_df = base_rate_df[['날짜', '기준금리']]"
   ]
  },
  {
   "cell_type": "code",
   "execution_count": 6,
   "metadata": {},
   "outputs": [],
   "source": [
    "# concat에 계약년월과 계약일을 합쳐 계약날짜 변수 생성 (8자리 정수)\n",
    "concat['계약날짜'] = concat['계약년월'] * 100 + concat['계약일']"
   ]
  },
  {
   "cell_type": "code",
   "execution_count": 7,
   "metadata": {},
   "outputs": [],
   "source": [
    "# concat의 '계약날짜' 값에 따라 '기준금리'를 반환해주는 함수.\n",
    "def date_to_rate(date):\n",
    "    for i in range(54, 0, -1): # 기준금리 데이터의 마지막 인덱스(54)에서 하나씩 올라가며 날짜를 비교하면서 기준금리 확인\n",
    "        if date >= base_rate_df['날짜'][i] and date <base_rate_df['날짜'][i - 1]:\n",
    "            return base_rate_df['기준금리'][i]\n",
    "    return base_rate_df['기준금리'][0] # 날짜(date)가 기준금리 데이터의 가장 최신 날짜보다 같거나 크다면 가장 최신 기준금리 반환\n",
    "\n",
    "# 예:\n",
    "# date_to_rate(20211126)\n",
    "# 1.0"
   ]
  },
  {
   "cell_type": "code",
   "execution_count": 8,
   "metadata": {},
   "outputs": [],
   "source": [
    "# concat_new에 기준금리 변수 추가\n",
    "concat['기준금리'] = concat['계약날짜'].apply(date_to_rate)"
   ]
  },
  {
   "cell_type": "code",
   "execution_count": null,
   "metadata": {},
   "outputs": [],
   "source": [
    "# '기준금리'열의 데이터 형식을 float로 변경\n",
    "concat['기준금리'] = concat['기준금리'].astype(float)"
   ]
  },
  {
   "cell_type": "code",
   "execution_count": null,
   "metadata": {},
   "outputs": [
    {
     "data": {
      "text/html": [
       "<div>\n",
       "<style scoped>\n",
       "    .dataframe tbody tr th:only-of-type {\n",
       "        vertical-align: middle;\n",
       "    }\n",
       "\n",
       "    .dataframe tbody tr th {\n",
       "        vertical-align: top;\n",
       "    }\n",
       "\n",
       "    .dataframe thead th {\n",
       "        text-align: right;\n",
       "    }\n",
       "</style>\n",
       "<table border=\"1\" class=\"dataframe\">\n",
       "  <thead>\n",
       "    <tr style=\"text-align: right;\">\n",
       "      <th></th>\n",
       "      <th>계약날짜</th>\n",
       "      <th>기준금리</th>\n",
       "    </tr>\n",
       "  </thead>\n",
       "  <tbody>\n",
       "    <tr>\n",
       "      <th>0</th>\n",
       "      <td>20171208</td>\n",
       "      <td>1.5</td>\n",
       "    </tr>\n",
       "    <tr>\n",
       "      <th>1</th>\n",
       "      <td>20171222</td>\n",
       "      <td>1.5</td>\n",
       "    </tr>\n",
       "    <tr>\n",
       "      <th>2</th>\n",
       "      <td>20171228</td>\n",
       "      <td>1.5</td>\n",
       "    </tr>\n",
       "    <tr>\n",
       "      <th>3</th>\n",
       "      <td>20180103</td>\n",
       "      <td>1.5</td>\n",
       "    </tr>\n",
       "    <tr>\n",
       "      <th>4</th>\n",
       "      <td>20180108</td>\n",
       "      <td>1.5</td>\n",
       "    </tr>\n",
       "    <tr>\n",
       "      <th>...</th>\n",
       "      <td>...</td>\n",
       "      <td>...</td>\n",
       "    </tr>\n",
       "    <tr>\n",
       "      <th>9267</th>\n",
       "      <td>20230719</td>\n",
       "      <td>3.5</td>\n",
       "    </tr>\n",
       "    <tr>\n",
       "      <th>9268</th>\n",
       "      <td>20230725</td>\n",
       "      <td>3.5</td>\n",
       "    </tr>\n",
       "    <tr>\n",
       "      <th>9269</th>\n",
       "      <td>20230827</td>\n",
       "      <td>3.5</td>\n",
       "    </tr>\n",
       "    <tr>\n",
       "      <th>9270</th>\n",
       "      <td>20230902</td>\n",
       "      <td>3.5</td>\n",
       "    </tr>\n",
       "    <tr>\n",
       "      <th>9271</th>\n",
       "      <td>20230904</td>\n",
       "      <td>3.5</td>\n",
       "    </tr>\n",
       "  </tbody>\n",
       "</table>\n",
       "<p>1128094 rows × 2 columns</p>\n",
       "</div>"
      ],
      "text/plain": [
       "          계약날짜  기준금리\n",
       "0     20171208   1.5\n",
       "1     20171222   1.5\n",
       "2     20171228   1.5\n",
       "3     20180103   1.5\n",
       "4     20180108   1.5\n",
       "...        ...   ...\n",
       "9267  20230719   3.5\n",
       "9268  20230725   3.5\n",
       "9269  20230827   3.5\n",
       "9270  20230902   3.5\n",
       "9271  20230904   3.5\n",
       "\n",
       "[1128094 rows x 2 columns]"
      ]
     },
     "execution_count": 9,
     "metadata": {},
     "output_type": "execute_result"
    }
   ],
   "source": [
    "# 추가된 변수 확인\n",
    "concat[['계약날짜', '기준금리']]"
   ]
  },
  {
   "cell_type": "markdown",
   "metadata": {},
   "source": [
    "# 전세가격지수 추가하기"
   ]
  },
  {
   "cell_type": "code",
   "execution_count": null,
   "metadata": {},
   "outputs": [],
   "source": [
    "jeonsae_path  = './아파트전세가격지수.csv'\n",
    "jeonsae_df = pd.read_csv(jeonsae_path, encoding='cp949')"
   ]
  },
  {
   "cell_type": "code",
   "execution_count": null,
   "metadata": {},
   "outputs": [
    {
     "data": {
      "text/html": [
       "<div>\n",
       "<style scoped>\n",
       "    .dataframe tbody tr th:only-of-type {\n",
       "        vertical-align: middle;\n",
       "    }\n",
       "\n",
       "    .dataframe tbody tr th {\n",
       "        vertical-align: top;\n",
       "    }\n",
       "\n",
       "    .dataframe thead th {\n",
       "        text-align: right;\n",
       "    }\n",
       "</style>\n",
       "<table border=\"1\" class=\"dataframe\">\n",
       "  <thead>\n",
       "    <tr style=\"text-align: right;\">\n",
       "      <th></th>\n",
       "      <th>년월</th>\n",
       "      <th>전세가격지수</th>\n",
       "    </tr>\n",
       "  </thead>\n",
       "  <tbody>\n",
       "    <tr>\n",
       "      <th>0</th>\n",
       "      <td>2003.11</td>\n",
       "      <td>46.7</td>\n",
       "    </tr>\n",
       "    <tr>\n",
       "      <th>1</th>\n",
       "      <td>2003.12</td>\n",
       "      <td>46.2</td>\n",
       "    </tr>\n",
       "    <tr>\n",
       "      <th>2</th>\n",
       "      <td>2004.01</td>\n",
       "      <td>46.0</td>\n",
       "    </tr>\n",
       "    <tr>\n",
       "      <th>3</th>\n",
       "      <td>2004.02</td>\n",
       "      <td>46.3</td>\n",
       "    </tr>\n",
       "    <tr>\n",
       "      <th>4</th>\n",
       "      <td>2004.03</td>\n",
       "      <td>46.5</td>\n",
       "    </tr>\n",
       "  </tbody>\n",
       "</table>\n",
       "</div>"
      ],
      "text/plain": [
       "        년월 전세가격지수\n",
       "0  2003.11   46.7\n",
       "1  2003.12   46.2\n",
       "2  2004.01   46.0\n",
       "3  2004.02   46.3\n",
       "4  2004.03   46.5"
      ]
     },
     "execution_count": 11,
     "metadata": {},
     "output_type": "execute_result"
    }
   ],
   "source": [
    "# 전세가격지수 데이터를 '년월'과 서울의 '전세가격지수'를 열로 가지는 데이터로 변환\n",
    "data = {'년월':list(jeonsae_df.columns[1:]), '전세가격지수':list(jeonsae_df.iloc[1])[1:]}\n",
    "seoul_jeonsae_df = pd.DataFrame(data)\n",
    "seoul_jeonsae_df.head()"
   ]
  },
  {
   "cell_type": "code",
   "execution_count": null,
   "metadata": {},
   "outputs": [],
   "source": [
    "# 전세가격지수 데이터의 '년월' 형식을 concat의 '계약년월' 형식과 통일\n",
    "seoul_jeonsae_df['년월'] = seoul_jeonsae_df['년월'].map(lambda x : int(x.split('.')[0]) * 100 + int(x.split('.')[1]))"
   ]
  },
  {
   "cell_type": "code",
   "execution_count": null,
   "metadata": {},
   "outputs": [],
   "source": [
    "# '전세가격지수' 변수가 추가된 concat 데이터\n",
    "concat = pd.merge(concat, seoul_jeonsae_df, left_on='계약년월', right_on='년월', how='inner').drop('년월', axis=1)"
   ]
  },
  {
   "cell_type": "code",
   "execution_count": null,
   "metadata": {},
   "outputs": [],
   "source": [
    "# concat의 '전세가격지수'열의 형식을 float 변경\n",
    "concat['전세가격지수'] = concat['전세가격지수'].astype(float)"
   ]
  },
  {
   "cell_type": "code",
   "execution_count": null,
   "metadata": {},
   "outputs": [
    {
     "data": {
      "text/html": [
       "<div>\n",
       "<style scoped>\n",
       "    .dataframe tbody tr th:only-of-type {\n",
       "        vertical-align: middle;\n",
       "    }\n",
       "\n",
       "    .dataframe tbody tr th {\n",
       "        vertical-align: top;\n",
       "    }\n",
       "\n",
       "    .dataframe thead th {\n",
       "        text-align: right;\n",
       "    }\n",
       "</style>\n",
       "<table border=\"1\" class=\"dataframe\">\n",
       "  <thead>\n",
       "    <tr style=\"text-align: right;\">\n",
       "      <th></th>\n",
       "      <th>계약년월</th>\n",
       "      <th>전세가격지수</th>\n",
       "    </tr>\n",
       "  </thead>\n",
       "  <tbody>\n",
       "    <tr>\n",
       "      <th>959520</th>\n",
       "      <td>201104</td>\n",
       "      <td>64.9</td>\n",
       "    </tr>\n",
       "    <tr>\n",
       "      <th>95475</th>\n",
       "      <td>201805</td>\n",
       "      <td>92.3</td>\n",
       "    </tr>\n",
       "    <tr>\n",
       "      <th>982259</th>\n",
       "      <td>201009</td>\n",
       "      <td>59.5</td>\n",
       "    </tr>\n",
       "    <tr>\n",
       "      <th>155183</th>\n",
       "      <td>200904</td>\n",
       "      <td>52.8</td>\n",
       "    </tr>\n",
       "    <tr>\n",
       "      <th>626637</th>\n",
       "      <td>201607</td>\n",
       "      <td>89.5</td>\n",
       "    </tr>\n",
       "    <tr>\n",
       "      <th>371072</th>\n",
       "      <td>201912</td>\n",
       "      <td>92.0</td>\n",
       "    </tr>\n",
       "    <tr>\n",
       "      <th>1062170</th>\n",
       "      <td>200803</td>\n",
       "      <td>54.3</td>\n",
       "    </tr>\n",
       "    <tr>\n",
       "      <th>1084349</th>\n",
       "      <td>200707</td>\n",
       "      <td>53.4</td>\n",
       "    </tr>\n",
       "    <tr>\n",
       "      <th>69227</th>\n",
       "      <td>201809</td>\n",
       "      <td>92.7</td>\n",
       "    </tr>\n",
       "    <tr>\n",
       "      <th>2501</th>\n",
       "      <td>201712</td>\n",
       "      <td>92.7</td>\n",
       "    </tr>\n",
       "  </tbody>\n",
       "</table>\n",
       "</div>"
      ],
      "text/plain": [
       "           계약년월 전세가격지수\n",
       "959520   201104   64.9\n",
       "95475    201805   92.3\n",
       "982259   201009   59.5\n",
       "155183   200904   52.8\n",
       "626637   201607   89.5\n",
       "371072   201912   92.0\n",
       "1062170  200803   54.3\n",
       "1084349  200707   53.4\n",
       "69227    201809   92.7\n",
       "2501     201712   92.7"
      ]
     },
     "execution_count": 14,
     "metadata": {},
     "output_type": "execute_result"
    }
   ],
   "source": [
    "# 확인을 위해 concat에서 랜덤으로 10개 샘플 뽑아보기\n",
    "concat[['계약년월', '전세가격지수']].sample(n=10)"
   ]
  },
  {
   "cell_type": "markdown",
   "metadata": {},
   "source": [
    "# 인구밀도 추가"
   ]
  },
  {
   "cell_type": "code",
   "execution_count": null,
   "metadata": {},
   "outputs": [],
   "source": [
    "population_density_path  = './인구밀도.csv'\n",
    "population_density = pd.read_csv(population_density_path)"
   ]
  },
  {
   "cell_type": "code",
   "execution_count": null,
   "metadata": {},
   "outputs": [
    {
     "data": {
      "text/html": [
       "<div>\n",
       "<style scoped>\n",
       "    .dataframe tbody tr th:only-of-type {\n",
       "        vertical-align: middle;\n",
       "    }\n",
       "\n",
       "    .dataframe tbody tr th {\n",
       "        vertical-align: top;\n",
       "    }\n",
       "\n",
       "    .dataframe thead th {\n",
       "        text-align: right;\n",
       "    }\n",
       "</style>\n",
       "<table border=\"1\" class=\"dataframe\">\n",
       "  <thead>\n",
       "    <tr style=\"text-align: right;\">\n",
       "      <th></th>\n",
       "      <th>동별(1)</th>\n",
       "      <th>동별(2)</th>\n",
       "      <th>동별(3)</th>\n",
       "      <th>인구 (명)</th>\n",
       "      <th>면적 (㎢)</th>\n",
       "      <th>인구밀도 (명/㎢)</th>\n",
       "    </tr>\n",
       "  </thead>\n",
       "  <tbody>\n",
       "    <tr>\n",
       "      <th>1</th>\n",
       "      <td>합계</td>\n",
       "      <td>소계</td>\n",
       "      <td>소계</td>\n",
       "      <td>9667669</td>\n",
       "      <td>605.21</td>\n",
       "      <td>15974</td>\n",
       "    </tr>\n",
       "    <tr>\n",
       "      <th>2</th>\n",
       "      <td>합계</td>\n",
       "      <td>종로구</td>\n",
       "      <td>소계</td>\n",
       "      <td>152211</td>\n",
       "      <td>23.91</td>\n",
       "      <td>6365</td>\n",
       "    </tr>\n",
       "    <tr>\n",
       "      <th>3</th>\n",
       "      <td>합계</td>\n",
       "      <td>종로구</td>\n",
       "      <td>사직동</td>\n",
       "      <td>9355</td>\n",
       "      <td>1.23</td>\n",
       "      <td>7606</td>\n",
       "    </tr>\n",
       "    <tr>\n",
       "      <th>4</th>\n",
       "      <td>합계</td>\n",
       "      <td>종로구</td>\n",
       "      <td>삼청동</td>\n",
       "      <td>2642</td>\n",
       "      <td>1.49</td>\n",
       "      <td>1773</td>\n",
       "    </tr>\n",
       "    <tr>\n",
       "      <th>5</th>\n",
       "      <td>합계</td>\n",
       "      <td>종로구</td>\n",
       "      <td>부암동</td>\n",
       "      <td>9536</td>\n",
       "      <td>2.27</td>\n",
       "      <td>4201</td>\n",
       "    </tr>\n",
       "  </tbody>\n",
       "</table>\n",
       "</div>"
      ],
      "text/plain": [
       "0 동별(1) 동별(2) 동별(3)   인구 (명)  면적 (㎢) 인구밀도 (명/㎢)\n",
       "1    합계    소계    소계  9667669  605.21      15974\n",
       "2    합계   종로구    소계   152211   23.91       6365\n",
       "3    합계   종로구   사직동     9355    1.23       7606\n",
       "4    합계   종로구   삼청동     2642    1.49       1773\n",
       "5    합계   종로구   부암동     9536    2.27       4201"
      ]
     },
     "execution_count": 16,
     "metadata": {},
     "output_type": "execute_result"
    }
   ],
   "source": [
    "# 맨 위 row를 변수 이름으로 설정\n",
    "population_density.columns = population_density.iloc[0]\n",
    "population_density = population_density[1:]\n",
    "population_density.head()"
   ]
  },
  {
   "cell_type": "code",
   "execution_count": null,
   "metadata": {},
   "outputs": [],
   "source": [
    "# concat의 '시군구' 변수에서 동을 분리하여 따로 변수 만들기\n",
    "concat['동'] = concat['시군구'].map(lambda x : x.split()[2])"
   ]
  },
  {
   "cell_type": "code",
   "execution_count": null,
   "metadata": {},
   "outputs": [],
   "source": [
    "# 인구밀도 데이터 변수의 타입 변환\n",
    "population_density_new = population_density[['동별(3)', '인구 (명)', '면적 (㎢)', '인구밀도 (명/㎢)']]\n",
    "population_density_new['인구 (명)'] = population_density_new['인구 (명)'].astype(float)\n",
    "population_density_new['면적 (㎢)'] = population_density_new['면적 (㎢)'].astype(float)\n",
    "population_density_new['인구밀도 (명/㎢)'] = population_density_new['인구밀도 (명/㎢)'].astype(float)"
   ]
  },
  {
   "cell_type": "code",
   "execution_count": null,
   "metadata": {},
   "outputs": [],
   "source": [
    "# concat에서 동을 (유사)행정동으로 반환하는 함수\n",
    "# '동'이 여러 행정동에 걸쳐있는 경우 임으로 걸쳐있는 행정동 중 하나로 선택하였음\n",
    "def to_hangjungdong(dong):\n",
    "    if dong in ['금호동1가']: \n",
    "        return '금호1가동'\n",
    "    elif dong in ['봉천동']: # 중앙동은 5개의 동에 걸쳐있음\n",
    "        return '중앙동'\n",
    "    elif dong in ['마곡동']: # 마곡동은 가양1동, 방화1동, 발산1동에 걸쳐있음\n",
    "        return '가양동'\n",
    "    elif dong in ['내발산동']: # 내발산동은 '발산1동'과 '우장산동'에 걸쳐있음\n",
    "        return '발산1동'\n",
    "    elif dong in ['자곡동', '율현동']:\n",
    "        return '세곡동'\n",
    "    elif dong in ['금호동2가', '금호동3가']:\n",
    "        return '금호2.3가동'\n",
    "    elif dong in ['금호동4가']:\n",
    "        return '금호4가동'\n",
    "    elif dong in ['남대문로5가']:\n",
    "        return '회현동'\n",
    "    elif dong in ['남산동2가']:\n",
    "        return '명동'\n",
    "    elif dong in ['당산동1가', '당산동2가', '당산동3가']:\n",
    "        return '당산1동'\n",
    "    elif dong in ['당산동4가', '당산동5가', '당산동6가']:\n",
    "        return '당산2동'\n",
    "    elif dong in ['동선동1가', '동선동3가', '동선동4가', '동선동5가', '동소문동6가', '동소문동7가']:\n",
    "        return '동선동'\n",
    "    elif dong in ['동소문동5가', '삼선동2가', '삼선동3가', '삼선동4가', '삼선동5가']:\n",
    "        return '삼선동'\n",
    "    elif dong in ['만리동2가', '만리동1가']:\n",
    "        return '중림동'\n",
    "    elif dong in ['명륜1가', '명륜2가', '명륜3가']:\n",
    "        return '혜화동'\n",
    "    elif dong in ['문래동2가', '문래동3가', '문래동4가', '문래동5가', '문래동6가']:\n",
    "        return '문래동'\n",
    "    elif dong in ['보문동2가', '보문동3가', '보문동4가', '보문동6가']:\n",
    "        return '보문동'\n",
    "    elif dong in ['성북동1가', '동소문동', '동소문동4가']:\n",
    "        return '성북동'\n",
    "    elif dong in ['신문로1가', '신문로2가', '내수동', '당주동', '필운동']:\n",
    "        return '사직동'\n",
    "    elif dong in ['안암동1가', '안암동3가', '안암동4가', '안암동5가']:\n",
    "        return '안암동'\n",
    "    elif dong in ['양평동1가', '양평동2가', '양평동3가']: \n",
    "        return '양평1동'\n",
    "    elif dong in ['양평동4가', '양평동5가', '양평동6가']: # '양평동3가'는 '양평1동'과 '양평2동'에 걸쳐있음 \n",
    "        return '양평2동'\n",
    "    elif dong in ['영등포동1가', '영등포동2가', '영등포동3가', '영등포동4가', '영등포동5가', '영등포동7가', '영등포동8가']:\n",
    "        return '영등포동'\n",
    "    elif dong in ['용산동2가']:\n",
    "        return '용산2가동'\n",
    "    elif dong in ['원효로1가', '원효로2가', '문배동', '신계동']: # 원효로1동, 2동의 인구밀도가 크게 차이나기 떄문에 두 개 분리\n",
    "        return  '원효로1동'\n",
    "    elif dong in ['원효로3가', '원효로4가', '산천동', '신창동', '청암동']:\n",
    "        return '원효로2동'\n",
    "    elif dong in ['을지로5가', '산림동', '입정동']:\n",
    "        return '을지로동'\n",
    "    elif dong in ['인현동2가', '오장동', '충무로4가', '충무로5가']: \n",
    "        return '광희동'\n",
    "    elif dong in ['장충동1가', '장충동2가']:\n",
    "        return '장충동'\n",
    "    elif dong in ['청파동1가', '청파동3가']:\n",
    "        return '청파동'\n",
    "    elif dong in ['충정로2가', '충정로3가', '합동', '미근동']:\n",
    "        return '충현동'\n",
    "    elif dong in ['필동1가', '필동3가', '묵정동', '예장동']:\n",
    "        return '필동'\n",
    "    elif dong in ['한강로1가', '한강로2가', '한강로3가', '용산동5가']:\n",
    "        return '한강로동'\n",
    "    elif dong in ['회현동1가', '회현동2가', '남창동']:\n",
    "        return '회현동'\n",
    "    elif dong in ['천왕동']:\n",
    "        return '오류동'\n",
    "    elif dong in ['온수동', '궁동']:\n",
    "        return '수궁동'\n",
    "    elif dong in ['용두동', '신설동']:\n",
    "        return '용신동'\n",
    "    elif dong in ['본동']:\n",
    "        return '노량진동'\n",
    "    elif dong in ['동작동']:\n",
    "        return '사당동'\n",
    "    elif dong in ['노고산동']:\n",
    "        return '대흥동'\n",
    "    elif dong in ['마포동']:\n",
    "        return '도화동'\n",
    "    elif dong in ['상수동']:\n",
    "        return '서강동'\n",
    "    elif dong in ['신공덕동']:\n",
    "        return '공덕동'\n",
    "    elif dong in ['동교동']:\n",
    "        return '연남동'\n",
    "    elif dong in ['중동']:\n",
    "        return '성산동'\n",
    "    elif dong in ['창전동', '하중동']:\n",
    "        return '서강동'\n",
    "    elif dong in ['냉천동', '영천동', '현저동']:\n",
    "        return '천연동'\n",
    "    elif dong in ['토정동']:\n",
    "        return '용강동'\n",
    "    elif dong in ['현석동', '구수동']:\n",
    "        return '신수동'\n",
    "    elif dong in ['대현동', '창천동']:\n",
    "        return '신촌동'\n",
    "    elif dong in ['우면동']:\n",
    "        return '양재동'\n",
    "    elif dong in ['도선동', '상왕십리동', '하왕십리동', '홍익동']:\n",
    "        return '왕십리도선동'\n",
    "    elif dong in ['상월곡동', '하월곡동']:\n",
    "        return '월곡동'\n",
    "    elif dong in ['신천동']:\n",
    "        return '잠실동'\n",
    "    elif dong in ['여의도동']:\n",
    "        return '여의동'\n",
    "    elif dong in ['갈월동', '동자동']:\n",
    "        return '남영동'\n",
    "    elif dong in ['도원동']:\n",
    "        return '용문동'\n",
    "    elif dong in ['동빙고동', '주성동']:\n",
    "        return '서빙고동'\n",
    "    elif dong in ['익선동', '견지동', '인의동', '수송동', '원남동', '낙원동']:\n",
    "        return '종로1.2.3.4가동'\n",
    "    elif dong in ['효제동', '충신동', '연지동']:\n",
    "        return '종로5.6가동'\n",
    "    elif dong in ['교북동', '행촌동', '홍파동', '평동']:\n",
    "        return '교남동'\n",
    "    elif dong in ['누상동', '옥인동', '청운동', '통인동', '신교동']:\n",
    "        return '청운효자동'\n",
    "    elif dong in ['동숭동', '연건동']:\n",
    "        return '이화동'\n",
    "    elif dong in ['신영동']:\n",
    "        return '부암동'\n",
    "    elif dong in ['순화동', '정동']:\n",
    "        return '소공동'\n",
    "    elif dong in ['흥인동']:\n",
    "        return '신당동'\n",
    "    elif dong in ['구기동']:\n",
    "        return '평창동'\n",
    "    else:\n",
    "        return dong\n",
    "    "
   ]
  },
  {
   "cell_type": "code",
   "execution_count": null,
   "metadata": {},
   "outputs": [],
   "source": [
    "# concat의 '동'을 유사 행정동으로 변환\n",
    "concat['동'] = concat['동'].apply(to_hangjungdong)"
   ]
  },
  {
   "cell_type": "code",
   "execution_count": null,
   "metadata": {},
   "outputs": [],
   "source": [
    "# 인구밀도 데이터의 몇 개의 행정동을 하나로 합쳐주기 위한 리스트\n",
    "dong_merge_list = [['성수동1가', '성수1가1동','성수1가2동'],\n",
    "                   ['성수동2가', '성수2가1동', '성수2가3동'],\n",
    "                   ['논현동', '논현1동', '논현2동'],\n",
    "                   ['대치동', '대치1동', '대치2동', '대치4동'],\n",
    "                   ['도곡동', '도곡1동', '도곡2동'],\n",
    "                   ['역삼동', '역삼1동', '역삼2동'],\n",
    "                   ['일원동', '일원본동', '일원1동'],\n",
    "                   ['고덕동', '고덕1동', '고덕2동'],\n",
    "                   ['둔촌동', '둔촌1동', '둔촌2동'],\n",
    "                   ['명일동', '명일1동', '명일2동'],\n",
    "                   ['상일동', '상일1동', '상일2동'],\n",
    "                   ['성내동', '성내1동', '성내2동', '성내3동'],\n",
    "                   ['암사동', '암사1동', '암사2동', '암사3동'],\n",
    "                   ['천호동', '천호1동', '천호2동', '천호3동'],\n",
    "                   ['번동', '번1동', '번2동', '번3동'],\n",
    "                   ['가양동', '가양1동', '가양2동', '가양3동'],\n",
    "                   ['수유동', '수유1동', '수유2동', '수유3동'],\n",
    "                   ['등촌동', '등촌1동', '등촌2동', '등촌3동'],\n",
    "                   ['방화동', '방화1동', '방화2동', '방화3동'],\n",
    "                   ['화곡동', '화곡1동', '화곡2동',  '화곡3동', '화곡4동', '화곡6동', '화곡8동', '화곡본동'],\n",
    "                   ['구의동', '구의1동', '구의2동', '구의3동'],\n",
    "                   ['자양동', '자양1동', '자양2동', '자양3동', '자양4동'],\n",
    "                   ['개봉동', '개봉1동', '개봉2동', '개봉3동'],\n",
    "                   ['고척동', '고척1동', '고척2동'],\n",
    "                   ['중곡동', '중곡1동', '중곡2동', '중곡3동'],\n",
    "                   ['구로동', '구로1동', '구로2동', '구로3동', '구로4동', '구로5동'],\n",
    "                   ['개포동', '개포1동', '개포2동', '개포3동', '개포4동'],\n",
    "                   ['오류동', '오류1동', '오류2동'],\n",
    "                   ['독산동', '독산1동', '독산2동', '독산3동', '독산4동'],\n",
    "                   ['시흥동', '시흥1동', '시흥2동', '시흥3동', '시흥4동', '시흥5동'],\n",
    "                   ['공릉동', '공릉1동', '공릉2동'],\n",
    "                   ['상계동', '상계1동', '상계2동', '상계5동', '상계8동', '상계9동', '상계10동', '상계3.4동', '상계6.7동'],\n",
    "                   ['월계동', '월계1동', '월계2동', '월계3동'],\n",
    "                   ['중계동', '중계본동', '중계1동', '중계4동', '중계2.3동'],\n",
    "                   ['하계동', '하계1동', '하계2동'],\n",
    "                   ['도봉동', '도봉1동', '도봉2동'],\n",
    "                   ['방학동', '방학1동', '방학2동', '방학3동'],\n",
    "                   ['쌍문동', '쌍문1동', '쌍문2동', '쌍문3동', '쌍문4동'],\n",
    "                   ['창동', '창1동', '창2동', '창3동', '창4동', '창5동'],\n",
    "                   ['답십리동', '답십리1동', '답십리2동'],\n",
    "                   ['이문동', '이문1동', '이문2동'],\n",
    "                   ['장안동', '장안1동', '장안2동'],\n",
    "                   ['전농동', '전농1동', '전농2동'],\n",
    "                   ['휘경동', '휘경1동', '휘경2동'],\n",
    "                   ['노량진동', '노량진1동', '노량진2동'],\n",
    "                   ['사당동', '사당1동', '사당2동', '사당3동', '사당4동', '사당5동'],\n",
    "                   ['상도동', '상도1동', '상도2동', '상도3동', '상도4동'],\n",
    "                   ['신대방동', '신대방1동', '신대방2동'],\n",
    "                   ['성산동', '성산1동', '성산2동'],\n",
    "                   ['신정동', '신정1동', '신정2동', '신정3동', '신정4동', '신정6동', '신정7동'],\n",
    "                   ['망원동', '망원1동', '망원2동'],\n",
    "                   ['남가좌동', '남가좌1동', '남가좌2동'],\n",
    "                   ['북가좌동', '북가좌1동', '북가좌2동'],\n",
    "                   ['홍은동', '홍은1동', '홍은2동'],\n",
    "                   ['홍제동', '홍제1동', '홍제2동', '홍제3동'],\n",
    "                   ['반포동', '반포본동', '반포1동', '반포2동', '반포3동', '반포4동'],\n",
    "                   ['방배동', '방배본동', '방배1동', '방배2동', '방배3동', '방배4동'],\n",
    "                   ['서초동', '서초1동', '서초2동', '서초3동', '서초4동'],\n",
    "                   ['양재동', '양재1동', '양재2동'],\n",
    "                   ['행당동', '행당1동', '행당2동'],\n",
    "                   ['길음동', '길음1동', '길음2동'],\n",
    "                   ['돈암동', '돈암1동', '돈암2동'],\n",
    "                   ['장위동', '장위1동', '장위2동', '장위3동'],\n",
    "                   ['정릉동', '정릉1동', '정릉2동', '정릉3동', '정릉4동'],\n",
    "                   ['가락동', '가락본동', '가락1동', '가락2동'],\n",
    "                   ['거여동', '거여1동', '거여2동'],\n",
    "                   ['마천동', '마천1동', '마천2동'],\n",
    "                   ['문정동', '문정1동', '문정2동'],\n",
    "                   ['송파동', '송파1동', '송파2동'],\n",
    "                   ['방이동',  '방이1동', '방이2동'],\n",
    "                   ['잠실동', '잠실본동', '잠실2동', '잠실3동', '잠실4동', '잠실6동', '잠실7동'],\n",
    "                   ['풍납동', '풍납1동', '풍납2동'],\n",
    "                   ['목동', '목1동', '목2동', '목3동', '목4동'],\n",
    "                   ['신월동', '신월1동', '신월2동', '신월3동', '신월4동', '신월5동', '신월6동', '신월7동'],\n",
    "                   ['당산동', '당산1동', '당산2동'],\n",
    "                   ['대림동', '대림1동', '대림2동', '대림3동'],\n",
    "                   ['신길동', '신길1동', '신길3동', '신길4동', '신길5동', '신길6동', '신길7동'],\n",
    "                   ['이촌동', '이촌1동', '이촌2동'],\n",
    "                   ['이태원동', '이태원1동', '이태원2동'],\n",
    "                   ['불광동', '불광1동', '불광2동'],\n",
    "                   ['갈현동', '갈현1동', '갈현2동'],\n",
    "                   ['응암동', '응암1동', '응암2동', '응암3동'],\n",
    "                   ['숭인동', '숭인1동', '숭인2동'],\n",
    "                   ['창신동', '창신1동', '창신2동', '창신3동'],\n",
    "                   ['망우동', '망우본동', '망우3동'],\n",
    "                   ['면목동', '면목본동', '면목2동', '면목4동', '면목5동', '면목7동', '면목3.8동'],\n",
    "                   ['묵동', '묵1동', '묵2동'],\n",
    "                   ['상봉동', '상봉1동', '상봉2동'],\n",
    "                   ['신내동', '신내1동', '신내2동'],\n",
    "                   ['중화동', '중화1동', '중화2동'],\n",
    "                   ['월곡동', '월곡1동', '월곡2동']\n",
    "                   ]"
   ]
  },
  {
   "cell_type": "code",
   "execution_count": null,
   "metadata": {},
   "outputs": [],
   "source": [
    "# 행정동을 합쳐 유사 행정동을 구하고 합친 인구와 면적을 사용하여 밀도를 다시 구하기\n",
    "for dongs in dong_merge_list:\n",
    "    dong_dict ={}\n",
    "    dong_dict['동별(3)'] = dongs[0]\n",
    "    dong_pop = 0\n",
    "    dong_area = 0\n",
    "    for dong in dongs[1:]:\n",
    "        dong_pop += population_density_new.loc[population_density_new['동별(3)'] == dong, '인구 (명)'].values[0]\n",
    "        dong_area += population_density_new.loc[population_density_new['동별(3)'] == dong, '면적 (㎢)'].values[0]\n",
    "    dong_density = dong_pop / dong_area\n",
    "    dong_dict['인구 (명)'] = dong_pop\n",
    "    dong_dict['면적 (㎢)'] = dong_area\n",
    "    dong_dict['인구밀도 (명/㎢)'] = dong_density\n",
    "    population_density_new = population_density_new.append(dong_dict, ignore_index=True)\n",
    "    "
   ]
  },
  {
   "cell_type": "code",
   "execution_count": null,
   "metadata": {},
   "outputs": [],
   "source": [
    "# '인구밀도 (명/㎢)' 변수가 추가된 concat 데이터\n",
    "concat = pd.merge(concat, population_density_new, left_on='동', right_on='동별(3)', how='inner').drop(['동별(3)', '인구 (명)', '면적 (㎢)'], axis=1)"
   ]
  },
  {
   "cell_type": "code",
   "execution_count": null,
   "metadata": {},
   "outputs": [
    {
     "data": {
      "text/html": [
       "<div>\n",
       "<style scoped>\n",
       "    .dataframe tbody tr th:only-of-type {\n",
       "        vertical-align: middle;\n",
       "    }\n",
       "\n",
       "    .dataframe tbody tr th {\n",
       "        vertical-align: top;\n",
       "    }\n",
       "\n",
       "    .dataframe thead th {\n",
       "        text-align: right;\n",
       "    }\n",
       "</style>\n",
       "<table border=\"1\" class=\"dataframe\">\n",
       "  <thead>\n",
       "    <tr style=\"text-align: right;\">\n",
       "      <th></th>\n",
       "      <th>동</th>\n",
       "      <th>인구밀도 (명/㎢)</th>\n",
       "    </tr>\n",
       "  </thead>\n",
       "  <tbody>\n",
       "    <tr>\n",
       "      <th>724057</th>\n",
       "      <td>반포동</td>\n",
       "      <td>15277.759473</td>\n",
       "    </tr>\n",
       "    <tr>\n",
       "      <th>1040196</th>\n",
       "      <td>구산동</td>\n",
       "      <td>23203.000000</td>\n",
       "    </tr>\n",
       "    <tr>\n",
       "      <th>408091</th>\n",
       "      <td>상계동</td>\n",
       "      <td>12722.130102</td>\n",
       "    </tr>\n",
       "    <tr>\n",
       "      <th>709730</th>\n",
       "      <td>홍제동</td>\n",
       "      <td>18122.006472</td>\n",
       "    </tr>\n",
       "    <tr>\n",
       "      <th>314729</th>\n",
       "      <td>구로동</td>\n",
       "      <td>24740.264650</td>\n",
       "    </tr>\n",
       "    <tr>\n",
       "      <th>670673</th>\n",
       "      <td>신정동</td>\n",
       "      <td>24626.264045</td>\n",
       "    </tr>\n",
       "    <tr>\n",
       "      <th>973535</th>\n",
       "      <td>당산2동</td>\n",
       "      <td>23937.000000</td>\n",
       "    </tr>\n",
       "    <tr>\n",
       "      <th>896413</th>\n",
       "      <td>방이동</td>\n",
       "      <td>32164.615385</td>\n",
       "    </tr>\n",
       "    <tr>\n",
       "      <th>1029536</th>\n",
       "      <td>용문동</td>\n",
       "      <td>41657.000000</td>\n",
       "    </tr>\n",
       "    <tr>\n",
       "      <th>158597</th>\n",
       "      <td>번동</td>\n",
       "      <td>18606.642066</td>\n",
       "    </tr>\n",
       "  </tbody>\n",
       "</table>\n",
       "</div>"
      ],
      "text/plain": [
       "            동    인구밀도 (명/㎢)\n",
       "724057    반포동  15277.759473\n",
       "1040196   구산동  23203.000000\n",
       "408091    상계동  12722.130102\n",
       "709730    홍제동  18122.006472\n",
       "314729    구로동  24740.264650\n",
       "670673    신정동  24626.264045\n",
       "973535   당산2동  23937.000000\n",
       "896413    방이동  32164.615385\n",
       "1029536   용문동  41657.000000\n",
       "158597     번동  18606.642066"
      ]
     },
     "execution_count": 24,
     "metadata": {},
     "output_type": "execute_result"
    }
   ],
   "source": [
    "# 확인을 위해 concat에서 랜덤으로 10개 샘플 뽑아보기\n",
    "concat[['동', '인구밀도 (명/㎢)']].sample(n=10)"
   ]
  },
  {
   "cell_type": "markdown",
   "metadata": {},
   "source": [
    "# 결측치 채우기"
   ]
  },
  {
   "cell_type": "code",
   "execution_count": null,
   "metadata": {},
   "outputs": [],
   "source": [
    "concat['등기신청일자'] = concat['등기신청일자'].replace(' ', np.nan)\n",
    "concat['거래유형'] = concat['거래유형'].replace('-', np.nan)\n",
    "concat['중개사소재지'] = concat['중개사소재지'].replace('-', np.nan)"
   ]
  },
  {
   "cell_type": "code",
   "execution_count": null,
   "metadata": {},
   "outputs": [],
   "source": [
    "house_df_path = \"./서울시 공동주택 아파트 정보.csv\"\n",
    "house_df = pd.read_csv(house_df_path, encoding='cp949')"
   ]
  },
  {
   "cell_type": "code",
   "execution_count": null,
   "metadata": {},
   "outputs": [],
   "source": [
    "# '도로명주소'을 기준으로 df_train의 결측치 ('아파트명'은 같은 아파트임에도 서로 일치하지 않는 항목이 많아서)\n",
    "house_df['도로명주소'] = house_df['주소(도로명)'] + ' ' + house_df['주소(도로상세주소)']\n",
    "house_df = house_df.drop_duplicates(subset='도로명주소')"
   ]
  },
  {
   "cell_type": "code",
   "execution_count": null,
   "metadata": {},
   "outputs": [],
   "source": [
    "# house_df_unique에서 '도로명주소'가 같은 경우 수치형인 열은 평균값으로, 범주형인 열은 최빈값으로 중복값 대체\n",
    "def handle_duplicates(df):\n",
    "    duplicates = df.duplicated(subset=['도로명주소'])\n",
    "    for col in df.columns:\n",
    "        if col != '도로명주소':\n",
    "            if df[col].dtype == 'int64':\n",
    "                df[col] = df.groupby('도로명주소')[col].transform(lambda x: x.mean() if not x.isnull().all() else x)\n",
    "            else:\n",
    "                df[col] = df.groupby('도로명주소')[col].transform(lambda x: x.mode().iloc[0] if not x.isnull().all() else x)\n",
    "    df = df.drop_duplicates(subset=['도로명주소'])\n",
    "    return df\n",
    "\n",
    "house_df = handle_duplicates(house_df)"
   ]
  },
  {
   "cell_type": "code",
   "execution_count": null,
   "metadata": {},
   "outputs": [],
   "source": [
    "# concat과 house_df_unique에 공통으로 존재하는 열 찾기\n",
    "common_cols = []\n",
    "for col_1 in (concat.columns):\n",
    "    for col_2 in list(list(house_df.columns)):\n",
    "        if col_1 == col_2:\n",
    "            common_cols.append(col_1)\n",
    "            break\n",
    "common_cols.remove('k-전화번호')\n",
    "common_cols.remove('k-팩스번호')\n",
    "common_cols.remove('k-홈페이지')"
   ]
  },
  {
   "cell_type": "code",
   "execution_count": null,
   "metadata": {},
   "outputs": [],
   "source": [
    "# concat의 결측치를 house_df_unique로 채우기\n",
    "for col in common_cols:\n",
    "    concat[col] = concat[col].fillna(concat['도로명'].map(house_df.set_index('도로명주소')[col]))\n",
    "concat[col] = concat['아파트명'].fillna(concat['도로명'].map(house_df.set_index('도로명주소')['k-아파트명']))"
   ]
  },
  {
   "cell_type": "code",
   "execution_count": null,
   "metadata": {},
   "outputs": [
    {
     "name": "stdout",
     "output_type": "stream",
     "text": [
      "['시군구', '번지', '본번', '부번', '아파트명', '전용면적(㎡)', '계약년월', '계약일', '층', '건축년도', '도로명', 'k-단지분류(아파트,주상복합등등)', 'k-세대타입(분양형태)', 'k-관리방식', 'k-복도유형', 'k-난방방식', 'k-전체동수', 'k-전체세대수', 'k-건설사(시공사)', 'k-시행사', 'k-사용검사일-사용승인일', 'k-연면적', 'k-주거전용면적', 'k-관리비부과면적', 'k-전용면적별세대현황(60㎡이하)', 'k-전용면적별세대현황(60㎡~85㎡이하)', 'k-85㎡~135㎡이하', 'k-수정일자', '고용보험관리번호', '경비비관리형태', '세대전기계약방법', '청소비관리형태', '건축면적', '주차대수', '기타/의무/임대/임의=1/2/3/4', '단지승인일', '사용허가여부', '관리비 업로드', '좌표X', '좌표Y', '단지신청일', 'target', 'is_test', '계약날짜', '기준금리', '전세가격지수', '동', '인구밀도 (명/㎢)']\n"
     ]
    }
   ],
   "source": [
    "# 결측치가 50만개 이상인 변수 제외\n",
    "cols_selected = list(concat.columns[concat.isnull().sum() <= 500000])\n",
    "concat_new = concat[cols_selected]\n",
    "print(cols_selected)"
   ]
  },
  {
   "cell_type": "code",
   "execution_count": null,
   "metadata": {},
   "outputs": [
    {
     "data": {
      "image/png": "[encoded data removed]",
      "text/plain": [
       "<Figure size 1300x200 with 1 Axes>"
      ]
     },
     "metadata": {},
     "output_type": "display_data"
    }
   ],
   "source": [
    "fig = plt.figure(figsize=(13, 2))\n",
    "missing = concat_new.isnull().sum() / concat_new.shape[0]\n",
    "missing = missing[missing >= 0]\n",
    "missing.sort_values(inplace=True)\n",
    "missing.plot.bar(color='orange')\n",
    "plt.title('변수별 결측치 비율')\n",
    "plt.show()"
   ]
  },
  {
   "cell_type": "markdown",
   "metadata": {},
   "source": [
    "# 아파트명 변수의 값을 단순화하기"
   ]
  },
  {
   "cell_type": "code",
   "execution_count": null,
   "metadata": {},
   "outputs": [],
   "source": [
    "concat_new['k-건설사(시공사)'] = concat_new['k-건설사(시공사)'].astype(str)"
   ]
  },
  {
   "cell_type": "code",
   "execution_count": null,
   "metadata": {},
   "outputs": [],
   "source": [
    "# 여러 건설사가 같이 시공하였을 시 더 브랜드 평판이 높은 건설사 혹은 데이터가 더 많은 건설사로 대체\n",
    "def simple_apt(apt):\n",
    "    if '현대건설' in apt or '힐스테이트' in apt:\n",
    "        return '현대건설'\n",
    "    elif '삼성물산' in apt:\n",
    "        return '삼성물산'\n",
    "    elif '대우건설' in apt or '푸르지오' in apt:\n",
    "        return '대우건설'\n",
    "    elif 'GS' in apt or 'gs' in apt or '지에스' in apt:\n",
    "        return 'GS건설'\n",
    "    elif '포스코' in apt:\n",
    "        return '포스코건설'\n",
    "    elif '래미안' in apt or '삼성물산' in apt:\n",
    "        return '삼성물산'\n",
    "    elif 'DL' in apt:\n",
    "        return 'DL E&C'\n",
    "    elif '롯데건설' in apt or '롯데캐슬' in apt:\n",
    "        return '롯데건설'\n",
    "    elif '현대산업' in apt:\n",
    "        return '현대산업개발'\n",
    "    elif '한화' in apt:\n",
    "        return '한화건설'\n",
    "    elif '쌍용' in apt:\n",
    "        return '쌍용건설'\n",
    "    elif apt in ['대한주택공사', 'LH공사', '한국토지주택공사', '한국주택공사', 'LH']:\n",
    "        return '한국토지주택공사'\n",
    "    elif '우성' in apt:\n",
    "        return '우성건설'\n",
    "    elif '한신' in apt:\n",
    "        return '한신공영'\n",
    "    elif '두산건설' in apt:\n",
    "        return '두산건설'\n",
    "    elif apt in ['동아건설', '(주)동아건설', '동아건설산업(주)', '동아건설산업', '동아건설(주)', '(주)동아건설산업', '동아,효성', '동아주택']:\n",
    "        return '동아건설'\n",
    "    elif '대림산업' in apt:\n",
    "        return '대림산업'\n",
    "    elif '벽산건설' in apt:\n",
    "        return '벽산건설'\n",
    "    elif '동부건설' in apt:\n",
    "        return '동부건설'\n",
    "    else:\n",
    "        return 'Other'\n",
    "    \n",
    "    \n",
    "concat_new['k-건설사(시공사)'] = concat_new['k-건설사(시공사)'].apply(simple_apt)\n",
    "concat_new['k-건설사(시공사)'] = concat_new['k-건설사(시공사)'].fillna(value='Other') # 결측치도 'Other'로 통일"
   ]
  },
  {
   "cell_type": "code",
   "execution_count": null,
   "metadata": {},
   "outputs": [
    {
     "data": {
      "image/png": "[encoded data removed]",
      "text/plain": [
       "<Figure size 1300x200 with 1 Axes>"
      ]
     },
     "metadata": {},
     "output_type": "display_data"
    }
   ],
   "source": [
    "fig = plt.figure(figsize=(13, 2))\n",
    "missing = concat_new.isnull().sum() / concat_new.shape[0]\n",
    "missing = missing[missing >= 0]\n",
    "missing.sort_values(inplace=True)\n",
    "missing.plot.bar(color='orange')\n",
    "plt.title('변수별 결측치 비율')\n",
    "plt.show()"
   ]
  },
  {
   "cell_type": "code",
   "execution_count": null,
   "metadata": {},
   "outputs": [
    {
     "data": {
      "text/plain": [
       "Index(['시군구', '번지', '본번', '부번', '아파트명', '전용면적(㎡)', '계약년월', '계약일', '층', '건축년도',\n",
       "       '도로명', 'k-단지분류(아파트,주상복합등등)', 'k-세대타입(분양형태)', 'k-관리방식', 'k-복도유형',\n",
       "       'k-난방방식', 'k-전체동수', 'k-전체세대수', 'k-건설사(시공사)', 'k-시행사', 'k-사용검사일-사용승인일',\n",
       "       'k-연면적', 'k-주거전용면적', 'k-관리비부과면적', 'k-전용면적별세대현황(60㎡이하)',\n",
       "       'k-전용면적별세대현황(60㎡~85㎡이하)', 'k-85㎡~135㎡이하', 'k-수정일자', '고용보험관리번호',\n",
       "       '경비비관리형태', '세대전기계약방법', '청소비관리형태', '건축면적', '주차대수', '기타/의무/임대/임의=1/2/3/4',\n",
       "       '단지승인일', '사용허가여부', '관리비 업로드', '좌표X', '좌표Y', '단지신청일', 'target',\n",
       "       'is_test', '계약날짜', '기준금리', '전세가격지수', '동', '인구밀도 (명/㎢)'],\n",
       "      dtype='object')"
      ]
     },
     "execution_count": 50,
     "metadata": {},
     "output_type": "execute_result"
    }
   ],
   "source": [
    "concat_new.columns"
   ]
  },
  {
   "cell_type": "markdown",
   "metadata": {},
   "source": [
    "# 간단한 모델 돌려보기"
   ]
  },
  {
   "cell_type": "code",
   "execution_count": null,
   "metadata": {},
   "outputs": [],
   "source": [
    "concat_new = concat_new[['전세가격지수', '기준금리', '동', 'k-건설사(시공사)', '건축년도', '인구밀도 (명/㎢)', '전용면적(㎡)', '층', 'target', 'is_test']]"
   ]
  },
  {
   "cell_type": "code",
   "execution_count": null,
   "metadata": {},
   "outputs": [
    {
     "name": "stdout",
     "output_type": "stream",
     "text": [
      "<class 'pandas.core.frame.DataFrame'>\n",
      "Int64Index: 1133641 entries, 0 to 1133640\n",
      "Data columns (total 10 columns):\n",
      " #   Column      Non-Null Count    Dtype  \n",
      "---  ------      --------------    -----  \n",
      " 0   전세가격지수      1133641 non-null  object \n",
      " 1   기준금리        1133641 non-null  float64\n",
      " 2   동           1133641 non-null  object \n",
      " 3   k-건설사(시공사)  1133641 non-null  object \n",
      " 4   건축년도        1133641 non-null  int64  \n",
      " 5   인구밀도 (명/㎢)  1133641 non-null  float64\n",
      " 6   전용면적(㎡)     1133641 non-null  float64\n",
      " 7   층           1133641 non-null  int64  \n",
      " 8   target      1124347 non-null  float64\n",
      " 9   is_test     1133641 non-null  int64  \n",
      "dtypes: float64(4), int64(3), object(3)\n",
      "memory usage: 95.1+ MB\n"
     ]
    }
   ],
   "source": [
    "concat_new.info()"
   ]
  },
  {
   "cell_type": "code",
   "execution_count": null,
   "metadata": {},
   "outputs": [
    {
     "name": "stdout",
     "output_type": "stream",
     "text": [
      "(1124347, 9) (9294, 9)\n"
     ]
    }
   ],
   "source": [
    "# 이제 다시 train과 test dataset을 분할해줍니다. 위에서 제작해 놓았던 is_test 칼럼을 이용합니다.\n",
    "dt_train = concat_new.query('is_test==0')\n",
    "dt_test = concat_new.query('is_test==1')\n",
    "\n",
    "# 이제 is_test 칼럼은 drop해줍니다.\n",
    "dt_train.drop(['is_test'], axis = 1, inplace=True)\n",
    "dt_test.drop(['is_test'], axis = 1, inplace=True)\n",
    "print(dt_train.shape, dt_test.shape)"
   ]
  },
  {
   "cell_type": "code",
   "execution_count": null,
   "metadata": {},
   "outputs": [],
   "source": [
    "# dt_test의 target은 일단 0으로 임의로 채워주도록 하겠습니다.\n",
    "dt_test['target'] = 0"
   ]
  },
  {
   "cell_type": "code",
   "execution_count": null,
   "metadata": {},
   "outputs": [],
   "source": [
    "# 'k-건설사(시공사)'열 라벨 인코딩\n",
    "\n",
    "# 아파트별 가격의 평균 내림차순 정렬\n",
    "apt_price = dt_train.groupby('k-건설사(시공사)')['target'].agg('mean').sort_values(ascending=False)\n",
    "print('변환전\\n', apt_price[:5])\n",
    "\n",
    "for i, a in enumerate(list(apt_price.index)):\n",
    "    dt_train.loc[dt_train['k-건설사(시공사)'] == a, 'k-건설사(시공사)'] = i # 라벨 인코딩\n",
    "    dt_test.loc[dt_test['k-건설사(시공사)'] == a, 'k-건설사(시공사)'] = i\n",
    "apt_price = dt_train.groupby('k-건설사(시공사)')['target'].agg('mean').sort_values(ascending=False)\n",
    "print('변환후\\n', apt_price[:5])"
   ]
  },
  {
   "cell_type": "code",
   "execution_count": null,
   "metadata": {},
   "outputs": [],
   "source": [
    "# '동'열 라벨 인코딩\n",
    "dong_price = dt_train.groupby('동')['transaction_real_price'].agg('mean').sort_values(ascending=False)\n",
    "dong_price[:20]"
   ]
  },
  {
   "cell_type": "code",
   "execution_count": null,
   "metadata": {},
   "outputs": [],
   "source": [
    "# 가격기준으로 동을 정렬한 리스트를 바탕으로 dong에 대해 라벨 인코딩 진행 - 477 it.\n",
    "for i, d in tqdm(enumerate(list(dong_price.index)), total=len(dong_price)):\n",
    "    dt_train.loc[dt_train['동'] == d, '동'] = i\n",
    "    dt_test.loc[dt_test['동'] == d, '동'] = i\n",
    "dt_train.head()"
   ]
  },
  {
   "cell_type": "code",
   "execution_count": null,
   "metadata": {},
   "outputs": [
    {
     "name": "stdout",
     "output_type": "stream",
     "text": [
      "연속형 변수: ['기준금리', '건축년도', '인구밀도 (명/㎢)', '전용면적(㎡)', '층', 'target']\n",
      "범주형 변수: ['전세가격지수', '동', 'k-건설사(시공사)']\n"
     ]
    }
   ],
   "source": [
    "# 파생변수 제작으로 추가된 변수들이 존재하기에, 다시한번 연속형과 범주형 칼럼을 분리해주겠습니다.\n",
    "continuous_columns_v2 = []\n",
    "categorical_columns_v2 = []\n",
    "\n",
    "for column in dt_train.columns:\n",
    "    if pd.api.types.is_numeric_dtype(dt_train[column]):\n",
    "        continuous_columns_v2.append(column)\n",
    "    else:\n",
    "        categorical_columns_v2.append(column)\n",
    "\n",
    "print(\"연속형 변수:\", continuous_columns_v2)\n",
    "print(\"범주형 변수:\", categorical_columns_v2)"
   ]
  },
  {
   "cell_type": "code",
   "execution_count": null,
   "metadata": {},
   "outputs": [],
   "source": [
    "# 가격 로그 변환 후 원래 가격 따로 저장\n",
    "dt_train['log_target'] = np.log1p(dt_train['target'])\n",
    "real_target = dt_train['target'] # 원래 가격\n",
    "dt_train.drop('target', axis=1, inplace=True)\n",
    "dt_train.head(1)"
   ]
  },
  {
   "cell_type": "code",
   "execution_count": null,
   "metadata": {},
   "outputs": [],
   "source": [
    "f, (ax1, ax2) = plt.subplots(1,2,figsize=(12,6))\n",
    "\n",
    "ax1.hist(real_target, bins=30)\n",
    "ax1.set_title('Target Distribution')\n",
    "ax1.set_xlabel('Target')\n",
    "\n",
    "ax2.hist(dt_train['log_target'], bins=30)\n",
    "ax2.set_title('Log Target Distribution')\n",
    "ax2.set_xlabel('Log Target')\n",
    "\n",
    "plt.show()"
   ]
  }
 ],
 "metadata": {
  "kernelspec": {
   "display_name": "base",
   "language": "python",
   "name": "python3"
  },
  "language_info": {
   "codemirror_mode": {
    "name": "ipython",
    "version": 3
   },
   "file_extension": ".py",
   "mimetype": "text/x-python",
   "name": "python",
   "nbconvert_exporter": "python",
   "pygments_lexer": "ipython3",
   "version": "3.10.13"
  }
 },
 "nbformat": 4,
 "nbformat_minor": 2
}
