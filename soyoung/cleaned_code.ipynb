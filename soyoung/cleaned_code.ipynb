{
  "cells": [
    {
      "cell_type": "markdown",
      "metadata": {
        "id": "92WHLz8346Yf"
      },
      "source": [
        "# **🏠 부동산 실거래가 Baseline code**\n",
        "> 부동산 실거래가 예측 대회에 오신 여러분 환영합니다! 🎉     \n",
        "> 아래 baseline에서는 RandomForest를 활용해 ML 방법론들을 실제 대회에 적용해보도록 하겠습니다.\n",
        "> 강의는 google colab으로 실행하였기에 아래의 베이스라인 코드와는 일부 차이가 있을 수 있습니다. \n",
        "\n",
        "## Contents\n",
        "- Library Import\n",
        "- Data Load\n",
        "- Data Preprocessing\n",
        "- Feature Engineering\n",
        "- Model Training\n",
        "- Inference\n",
        "- Output File Save\n"
      ]
    },
    {
      "cell_type": "markdown",
      "metadata": {
        "id": "2-DJzJjvO88V"
      },
      "source": [
        "## 1. Library Import\n",
        "- 필요한 라이브러리를 불러옵니다."
      ]
    },
    {
      "cell_type": "code",
      "execution_count": 725,
      "metadata": {
        "colab": {
          "base_uri": "https://localhost:8080/"
        },
        "id": "PKs1Mj7OcWU0",
        "outputId": "d142df48-acc5-4bca-c9be-18575aa6a6dc"
      },
      "outputs": [
        {
          "name": "stdout",
          "output_type": "stream",
          "text": [
            "Requirement already satisfied: eli5==0.13.0 in /opt/conda/lib/python3.10/site-packages (0.13.0)\n",
            "Requirement already satisfied: attrs>17.1.0 in /opt/conda/lib/python3.10/site-packages (from eli5==0.13.0) (23.1.0)\n",
            "Requirement already satisfied: jinja2>=3.0.0 in /opt/conda/lib/python3.10/site-packages (from eli5==0.13.0) (3.1.2)\n",
            "Requirement already satisfied: numpy>=1.9.0 in /opt/conda/lib/python3.10/site-packages (from eli5==0.13.0) (1.23.5)\n",
            "Requirement already satisfied: scipy in /opt/conda/lib/python3.10/site-packages (from eli5==0.13.0) (1.11.3)\n",
            "Requirement already satisfied: six in /opt/conda/lib/python3.10/site-packages (from eli5==0.13.0) (1.16.0)\n",
            "Requirement already satisfied: scikit-learn>=0.20 in /opt/conda/lib/python3.10/site-packages (from eli5==0.13.0) (1.2.2)\n",
            "Requirement already satisfied: graphviz in /opt/conda/lib/python3.10/site-packages (from eli5==0.13.0) (0.20.1)\n",
            "Requirement already satisfied: tabulate>=0.7.7 in /opt/conda/lib/python3.10/site-packages (from eli5==0.13.0) (0.9.0)\n",
            "Requirement already satisfied: MarkupSafe>=2.0 in /opt/conda/lib/python3.10/site-packages (from jinja2>=3.0.0->eli5==0.13.0) (2.1.1)\n",
            "Requirement already satisfied: joblib>=1.1.1 in /opt/conda/lib/python3.10/site-packages (from scikit-learn>=0.20->eli5==0.13.0) (1.3.2)\n",
            "Requirement already satisfied: threadpoolctl>=2.0.0 in /opt/conda/lib/python3.10/site-packages (from scikit-learn>=0.20->eli5==0.13.0) (3.2.0)\n"
          ]
        },
        {
          "name": "stdout",
          "output_type": "stream",
          "text": [
            "\u001b[33mWARNING: Running pip as the 'root' user can result in broken permissions and conflicting behaviour with the system package manager. It is recommended to use a virtual environment instead: https://pip.pypa.io/warnings/venv\u001b[0m\u001b[33m\n",
            "Reading package lists... Done\n",
            "Building dependency tree       \n",
            "Reading state information... Done\n",
            "fonts-nanum is already the newest version (20180306-3).\n",
            "0 upgraded, 0 newly installed, 0 to remove and 14 not upgraded.\n"
          ]
        }
      ],
      "source": [
        "!pip install eli5==0.13.0\n",
        "\n",
        "# 한글 폰트 사용을 위한 라이브러리입니다.\n",
        "!apt-get install -y fonts-nanum"
      ]
    },
    {
      "cell_type": "code",
      "execution_count": 726,
      "metadata": {
        "id": "d-NiCLGs4ZpM"
      },
      "outputs": [],
      "source": [
        "# visualization\n",
        "import matplotlib.pyplot as plt\n",
        "import matplotlib.font_manager as fm\n",
        "fe = fm.FontEntry(\n",
        "    fname=r'/usr/share/fonts/truetype/nanum/NanumGothic.ttf', # ttf 파일이 저장되어 있는 경로\n",
        "    name='NanumBarunGothic')                        # 이 폰트의 원하는 이름 설정\n",
        "fm.fontManager.ttflist.insert(0, fe)              # Matplotlib에 폰트 추가\n",
        "plt.rcParams.update({'font.size': 10, 'font.family': 'NanumBarunGothic'}) # 폰트 설정\n",
        "plt.rc('font', family='NanumBarunGothic')\n",
        "import seaborn as sns\n",
        "\n",
        "# utils\n",
        "import pandas as pd\n",
        "import numpy as np\n",
        "from tqdm import tqdm\n",
        "import pickle\n",
        "import warnings;warnings.filterwarnings('ignore')\n",
        "import re\n",
        "import math\n",
        "from geopy.geocoders import Nominatim\n",
        "from concurrent.futures import ThreadPoolExecutor, ProcessPoolExecutor\n",
        "\n",
        "# Model\n",
        "from sklearn.preprocessing import LabelEncoder\n",
        "from sklearn.model_selection import train_test_split\n",
        "from sklearn.metrics import mean_squared_error\n",
        "from sklearn.ensemble import RandomForestRegressor\n",
        "from sklearn.ensemble import RandomForestClassifier\n",
        "from lightgbm import LGBMRegressor\n",
        "from sklearn.model_selection import KFold\n",
        "from functools import partial\n",
        "import eli5\n",
        "from eli5.sklearn import PermutationImportance\n",
        "import optuna"
      ]
    },
    {
      "cell_type": "markdown",
      "metadata": {},
      "source": [
        "#### Util Functions"
      ]
    },
    {
      "cell_type": "code",
      "execution_count": 727,
      "metadata": {},
      "outputs": [],
      "source": [
        "geo_local = Nominatim(user_agent='South Korea')\n",
        "\n",
        "# 주소 -> 경도, 위도 반환하는 함수\n",
        "def get_coordinates(addr):\n",
        "    try:\n",
        "        geo = geo_local.geocode(addr)\n",
        "        x, y = geo.longitude, geo.latitude\n",
        "        return x, y\n",
        "    except:\n",
        "        return np.nan, np.nan\n",
        "\n",
        "# 주어진 행과 위치 데이터의 모든 지점 간의 거리 계산 및 조건을 만족하는 지점의 개수 반환\n",
        "def calculate_distances_vectorized(row, df_loc, distance, alpha=0):\n",
        "    row_coords = np.radians(np.array([row[0], row[1]]))\n",
        "    df_coords = np.radians(df_loc[['좌표Y', '좌표X']].values.T)\n",
        "    distances = np.linalg.norm(row_coords[:, np.newaxis] - df_coords, axis=0) * 6371000  # row_coords 브로드캐스팅\n",
        "    return np.sum((distances + alpha <= distance).astype(int))\n",
        "\n",
        "# 병렬 처리\n",
        "def get_number_of_object(df_main, df_object, distances, alpha=0):\n",
        "    df_main_loc = df_main[['좌표Y', '좌표X']]\n",
        "    df_object_loc = df_object[['좌표Y', '좌표X']]\n",
        "\n",
        "    with ThreadPoolExecutor() as executor:\n",
        "        result = list(executor.map(lambda row_train: calculate_distances_vectorized(row_train, df_object_loc, distances),\n",
        "                                    tqdm(df_main_loc.itertuples(index=False),\n",
        "                                        total=len(df_main_loc), desc='Building Iteration', position=1)))\n",
        "\n",
        "    df = pd.DataFrame(result)\n",
        "    return df\n",
        "\n",
        "# 위도, 경도로 두 지점간의 거리 계산\n",
        "def haversine_distance(lat1, lon1, lat2, lon2):\n",
        "    radius = 6371.0\n",
        "\n",
        "    lat1 = math.radians(lat1)\n",
        "    lon1 = math.radians(lon1)\n",
        "    lat2 = math.radians(lat2)\n",
        "    lon2 = math.radians(lon2)\n",
        "\n",
        "    dlon = lon2 - lon1\n",
        "    dlat = lat2 - lat1\n",
        "    a = math.sin(dlat / 2) ** 2 + math.cos(lat1) * math.cos(lat2) * math.sin(dlon / 2) ** 2\n",
        "    c = 2 * math.atan2(math.sqrt(a), math.sqrt(1 - a))\n",
        "\n",
        "    distance = radius * c\n",
        "    return distance"
      ]
    },
    {
      "cell_type": "markdown",
      "metadata": {
        "id": "OPJvYT0OPAWS"
      },
      "source": [
        "## 2. Data Load"
      ]
    },
    {
      "cell_type": "markdown",
      "metadata": {
        "id": "vvwnwnpNJeR1"
      },
      "source": [
        "#### 2.1. 데이터 로드"
      ]
    },
    {
      "cell_type": "code",
      "execution_count": 728,
      "metadata": {
        "id": "hx6nk3N_4_Tk"
      },
      "outputs": [
        {
          "name": "stdout",
          "output_type": "stream",
          "text": [
            "Train data shape :  (1118822, 52) Test data shape :  (9272, 51)\n"
          ]
        }
      ],
      "source": [
        "# 필요한 데이터를 load 하겠습니다. 경로는 환경에 맞게 지정해주면 됩니다.\n",
        "train_path = '../train.csv'\n",
        "test_path  = '../test.csv'\n",
        "df_train = pd.read_csv(train_path)\n",
        "df_test = pd.read_csv(test_path)\n",
        "\n",
        "# Train data와 Test data shape은 아래와 같습니다.\n",
        "print('Train data shape : ', df_train.shape, 'Test data shape : ', df_test.shape)"
      ]
    },
    {
      "cell_type": "code",
      "execution_count": 729,
      "metadata": {},
      "outputs": [
        {
          "data": {
            "text/html": [
              "<div>\n",
              "<style scoped>\n",
              "    .dataframe tbody tr th:only-of-type {\n",
              "        vertical-align: middle;\n",
              "    }\n",
              "\n",
              "    .dataframe tbody tr th {\n",
              "        vertical-align: top;\n",
              "    }\n",
              "\n",
              "    .dataframe thead th {\n",
              "        text-align: right;\n",
              "    }\n",
              "</style>\n",
              "<table border=\"1\" class=\"dataframe\">\n",
              "  <thead>\n",
              "    <tr style=\"text-align: right;\">\n",
              "      <th></th>\n",
              "      <th>시군구</th>\n",
              "      <th>번지</th>\n",
              "      <th>본번</th>\n",
              "      <th>부번</th>\n",
              "      <th>아파트명</th>\n",
              "      <th>전용면적(㎡)</th>\n",
              "      <th>계약년월</th>\n",
              "      <th>계약일</th>\n",
              "      <th>층</th>\n",
              "      <th>건축년도</th>\n",
              "      <th>...</th>\n",
              "      <th>건축면적</th>\n",
              "      <th>주차대수</th>\n",
              "      <th>기타/의무/임대/임의=1/2/3/4</th>\n",
              "      <th>단지승인일</th>\n",
              "      <th>사용허가여부</th>\n",
              "      <th>관리비 업로드</th>\n",
              "      <th>좌표X</th>\n",
              "      <th>좌표Y</th>\n",
              "      <th>단지신청일</th>\n",
              "      <th>target</th>\n",
              "    </tr>\n",
              "  </thead>\n",
              "  <tbody>\n",
              "    <tr>\n",
              "      <th>0</th>\n",
              "      <td>서울특별시 강남구 개포동</td>\n",
              "      <td>658-1</td>\n",
              "      <td>658.0</td>\n",
              "      <td>1.0</td>\n",
              "      <td>개포6차우성</td>\n",
              "      <td>79.97</td>\n",
              "      <td>201712</td>\n",
              "      <td>8</td>\n",
              "      <td>3</td>\n",
              "      <td>1987</td>\n",
              "      <td>...</td>\n",
              "      <td>4858.0</td>\n",
              "      <td>262.0</td>\n",
              "      <td>임의</td>\n",
              "      <td>2022-11-17 13:00:29.0</td>\n",
              "      <td>Y</td>\n",
              "      <td>N</td>\n",
              "      <td>127.05721</td>\n",
              "      <td>37.476763</td>\n",
              "      <td>2022-11-17 10:19:06.0</td>\n",
              "      <td>124000</td>\n",
              "    </tr>\n",
              "    <tr>\n",
              "      <th>1</th>\n",
              "      <td>서울특별시 강남구 개포동</td>\n",
              "      <td>658-1</td>\n",
              "      <td>658.0</td>\n",
              "      <td>1.0</td>\n",
              "      <td>개포6차우성</td>\n",
              "      <td>79.97</td>\n",
              "      <td>201712</td>\n",
              "      <td>22</td>\n",
              "      <td>4</td>\n",
              "      <td>1987</td>\n",
              "      <td>...</td>\n",
              "      <td>4858.0</td>\n",
              "      <td>262.0</td>\n",
              "      <td>임의</td>\n",
              "      <td>2022-11-17 13:00:29.0</td>\n",
              "      <td>Y</td>\n",
              "      <td>N</td>\n",
              "      <td>127.05721</td>\n",
              "      <td>37.476763</td>\n",
              "      <td>2022-11-17 10:19:06.0</td>\n",
              "      <td>123500</td>\n",
              "    </tr>\n",
              "    <tr>\n",
              "      <th>2</th>\n",
              "      <td>서울특별시 강남구 개포동</td>\n",
              "      <td>658-1</td>\n",
              "      <td>658.0</td>\n",
              "      <td>1.0</td>\n",
              "      <td>개포6차우성</td>\n",
              "      <td>54.98</td>\n",
              "      <td>201712</td>\n",
              "      <td>28</td>\n",
              "      <td>5</td>\n",
              "      <td>1987</td>\n",
              "      <td>...</td>\n",
              "      <td>4858.0</td>\n",
              "      <td>262.0</td>\n",
              "      <td>임의</td>\n",
              "      <td>2022-11-17 13:00:29.0</td>\n",
              "      <td>Y</td>\n",
              "      <td>N</td>\n",
              "      <td>127.05721</td>\n",
              "      <td>37.476763</td>\n",
              "      <td>2022-11-17 10:19:06.0</td>\n",
              "      <td>91500</td>\n",
              "    </tr>\n",
              "  </tbody>\n",
              "</table>\n",
              "<p>3 rows × 52 columns</p>\n",
              "</div>"
            ],
            "text/plain": [
              "             시군구     번지     본번   부번    아파트명  전용면적(㎡)    계약년월  계약일  층  건축년도  \\\n",
              "0  서울특별시 강남구 개포동  658-1  658.0  1.0  개포6차우성    79.97  201712    8  3  1987   \n",
              "1  서울특별시 강남구 개포동  658-1  658.0  1.0  개포6차우성    79.97  201712   22  4  1987   \n",
              "2  서울특별시 강남구 개포동  658-1  658.0  1.0  개포6차우성    54.98  201712   28  5  1987   \n",
              "\n",
              "   ...    건축면적   주차대수 기타/의무/임대/임의=1/2/3/4                  단지승인일 사용허가여부  \\\n",
              "0  ...  4858.0  262.0                  임의  2022-11-17 13:00:29.0      Y   \n",
              "1  ...  4858.0  262.0                  임의  2022-11-17 13:00:29.0      Y   \n",
              "2  ...  4858.0  262.0                  임의  2022-11-17 13:00:29.0      Y   \n",
              "\n",
              "  관리비 업로드        좌표X        좌표Y                  단지신청일  target  \n",
              "0       N  127.05721  37.476763  2022-11-17 10:19:06.0  124000  \n",
              "1       N  127.05721  37.476763  2022-11-17 10:19:06.0  123500  \n",
              "2       N  127.05721  37.476763  2022-11-17 10:19:06.0   91500  \n",
              "\n",
              "[3 rows x 52 columns]"
            ]
          },
          "execution_count": 729,
          "metadata": {},
          "output_type": "execute_result"
        }
      ],
      "source": [
        "df_train.head(3)"
      ]
    },
    {
      "cell_type": "code",
      "execution_count": 730,
      "metadata": {},
      "outputs": [
        {
          "name": "stdout",
          "output_type": "stream",
          "text": [
            "<class 'pandas.core.frame.DataFrame'>\n",
            "RangeIndex: 1118822 entries, 0 to 1118821\n",
            "Data columns (total 52 columns):\n",
            " #   Column                  Non-Null Count    Dtype  \n",
            "---  ------                  --------------    -----  \n",
            " 0   시군구                     1118822 non-null  object \n",
            " 1   번지                      1118597 non-null  object \n",
            " 2   본번                      1118747 non-null  float64\n",
            " 3   부번                      1118747 non-null  float64\n",
            " 4   아파트명                    1116696 non-null  object \n",
            " 5   전용면적(㎡)                 1118822 non-null  float64\n",
            " 6   계약년월                    1118822 non-null  int64  \n",
            " 7   계약일                     1118822 non-null  int64  \n",
            " 8   층                       1118822 non-null  int64  \n",
            " 9   건축년도                    1118822 non-null  int64  \n",
            " 10  도로명                     1118822 non-null  object \n",
            " 11  해제사유발생일                 5983 non-null     float64\n",
            " 12  등기신청일자                  1118822 non-null  object \n",
            " 13  거래유형                    1118822 non-null  object \n",
            " 14  중개사소재지                  1118822 non-null  object \n",
            " 15  k-단지분류(아파트,주상복합등등)      248131 non-null   object \n",
            " 16  k-전화번호                  248548 non-null   object \n",
            " 17  k-팩스번호                  246080 non-null   object \n",
            " 18  단지소개기존clob              68582 non-null    float64\n",
            " 19  k-세대타입(분양형태)            249259 non-null   object \n",
            " 20  k-관리방식                  249259 non-null   object \n",
            " 21  k-복도유형                  248932 non-null   object \n",
            " 22  k-난방방식                  249259 non-null   object \n",
            " 23  k-전체동수                  248192 non-null   float64\n",
            " 24  k-전체세대수                 249259 non-null   float64\n",
            " 25  k-건설사(시공사)              247764 non-null   object \n",
            " 26  k-시행사                   247568 non-null   object \n",
            " 27  k-사용검사일-사용승인일           249126 non-null   object \n",
            " 28  k-연면적                   249259 non-null   float64\n",
            " 29  k-주거전용면적                249214 non-null   float64\n",
            " 30  k-관리비부과면적               249259 non-null   float64\n",
            " 31  k-전용면적별세대현황(60㎡이하)      249214 non-null   float64\n",
            " 32  k-전용면적별세대현황(60㎡~85㎡이하)  249214 non-null   float64\n",
            " 33  k-85㎡~135㎡이하            249214 non-null   float64\n",
            " 34  k-135㎡초과                327 non-null      float64\n",
            " 35  k-홈페이지                  113175 non-null   object \n",
            " 36  k-등록일자                  10990 non-null    object \n",
            " 37  k-수정일자                  249214 non-null   object \n",
            " 38  고용보험관리번호                205518 non-null   object \n",
            " 39  경비비관리형태                 247834 non-null   object \n",
            " 40  세대전기계약방법                240075 non-null   object \n",
            " 41  청소비관리형태                 247644 non-null   object \n",
            " 42  건축면적                    249108 non-null   float64\n",
            " 43  주차대수                    249108 non-null   float64\n",
            " 44  기타/의무/임대/임의=1/2/3/4     249259 non-null   object \n",
            " 45  단지승인일                   248536 non-null   object \n",
            " 46  사용허가여부                  249259 non-null   object \n",
            " 47  관리비 업로드                 249259 non-null   object \n",
            " 48  좌표X                     249152 non-null   float64\n",
            " 49  좌표Y                     249152 non-null   float64\n",
            " 50  단지신청일                   249197 non-null   object \n",
            " 51  target                  1118822 non-null  int64  \n",
            "dtypes: float64(18), int64(5), object(29)\n",
            "memory usage: 443.9+ MB\n"
          ]
        }
      ],
      "source": [
        "df_train.info()"
      ]
    },
    {
      "cell_type": "markdown",
      "metadata": {
        "id": "KVjw5Cnz24nz"
      },
      "source": [
        "## 3. Data Preprocessing"
      ]
    },
    {
      "cell_type": "markdown",
      "metadata": {
        "id": "X24Y1OIR2_oa"
      },
      "source": [
        "- 모델링 전에 데이터 내 결측치, 이상치 등을 제거하고 범주형과 연속형 변수를 살펴보도록 하겠습니다!\n",
        "- 먼저, 용이한 전처리를 위해 train과 test data를 합친 하나의 데이터로 진행하도록 하겠습니다."
      ]
    },
    {
      "cell_type": "code",
      "execution_count": 731,
      "metadata": {
        "id": "vltXVoeRhZiI"
      },
      "outputs": [
        {
          "data": {
            "text/plain": [
              "0    1118822\n",
              "1       9272\n",
              "Name: is_test, dtype: int64"
            ]
          },
          "execution_count": 731,
          "metadata": {},
          "output_type": "execute_result"
        }
      ],
      "source": [
        "# train/test 구분을 위한 칼럼을 하나 만들어 줍니다.\n",
        "df_train['is_test'] = 0\n",
        "df_test['is_test'] = 1\n",
        "\n",
        "# train과 test data가 하나로 합치기\n",
        "concat = pd.concat([df_train, df_test]) \n",
        "concat = concat.reset_index()\n",
        "\n",
        "concat['is_test'].value_counts()   "
      ]
    },
    {
      "cell_type": "code",
      "execution_count": 732,
      "metadata": {
        "id": "ZTc6lhBhOAhu"
      },
      "outputs": [],
      "source": [
        "# 칼럼 이름을 쉽게 바꿔주겠습니다. 다른 칼럼도 사용에 따라 바꿔주셔도 됩니다!\n",
        "concat = concat.rename(columns={'전용면적(㎡)':'전용면적'})\n",
        "concat = concat.rename(columns={'k-단지분류(아파트,주상복합등등)':'k-단지분류'})\n",
        "concat = concat.rename(columns={'기타/의무/임대/임의=1/2/3/4':'기타/의무/임대/임의'})\n",
        "concat = concat.rename(columns={'k-전용면적별세대현황(60㎡이하)':'k-전용면적별세대_60'})\n",
        "concat = concat.rename(columns={'k-전용면적별세대현황(60㎡~85㎡이하)':'k-전용면적별세대_60_85'})\n",
        "concat = concat.rename(columns={'k-85㎡~135㎡이하':'k-전용면적별세대_85_135'})\n",
        "concat = concat.rename(columns={'k-135㎡초과':'k-전용면적별세대_135'})\n",
        "concat = concat.rename(columns={'관리비 업로드':'관리비업로드'})\n",
        "\n",
        "# 필요 없는 컬럼 제거\n",
        "concat = concat.drop(['k-전화번호', 'k-팩스번호', '단지소개기존clob', 'k-홈페이지',\n",
        "                            '고용보험관리번호', '중개사소재지', 'k-수정일자', 'k-등록일자',\n",
        "                            '해제사유발생일', '등기신청일자', 'k-사용검사일-사용승인일', '단지신청일', '단지승인일',\n",
        "                            ], axis=1)\n",
        "\n",
        "# 지번주소 컬럼 추가\n",
        "concat['지번주소'] = concat['시군구'] + ' ' + concat['본번'].astype('str').str.replace(r'\\.0', '')\n",
        "concat['지번주소'] += np.where(concat['부번'].astype('str').str.replace(r'\\.0', '') != '0', '-' + concat['부번'].astype('str').str.replace(r'\\.0', ''), '')\n",
        "\n",
        "# 도로명 ' '인 경우 아파트명으로 대체\n",
        "concat.loc[concat['도로명'] == ' ', '도로명'] = concat.loc[concat['도로명'] == ' ', '아파트명']"
      ]
    },
    {
      "cell_type": "markdown",
      "metadata": {
        "id": "jQLCLZYM_vBT"
      },
      "source": [
        "### 3.1. 결측치 탐색 및 보간\n",
        "- 결측치를 처리할 때 많이 쓰는 방법은 삭제(Deletion)과 대체(Imputation) 입니다.\n",
        "- 본 코드에서는 결측치가 80만개 이상인 일부 변수는 제거하고, 나머지 변수의 결측치는 대체하도록 하겠습니다.\n",
        "  - 수치형 변수의 경우에는 회귀 모델에 기반하여 대체하겠습니다.\n",
        "  - 범주형 변수의 경우에는 'NULL' 이라는 임의의 범주로 대체해주도록 하겠습니다."
      ]
    },
    {
      "cell_type": "code",
      "execution_count": 733,
      "metadata": {
        "colab": {
          "base_uri": "https://localhost:8080/",
          "height": 232
        },
        "id": "MEHdKgjWZ8lz",
        "outputId": "a1a85968-3d94-4681-e723-e86416c1f551"
      },
      "outputs": [
        {
          "data": {
            "text/plain": [
              "-       1086451\n",
              "중개거래      38123\n",
              "직거래        3520\n",
              "Name: 거래유형, dtype: int64"
            ]
          },
          "metadata": {},
          "output_type": "display_data"
        }
      ],
      "source": [
        "# 실제로 결측치라고 표시는 안되어있지만 아무 의미도 갖지 않는 element들이 아래와 같이 존재합니다.\n",
        "display(concat['거래유형'].value_counts())"
      ]
    },
    {
      "cell_type": "code",
      "execution_count": 734,
      "metadata": {
        "id": "PSC14w1WZ-5I"
      },
      "outputs": [
        {
          "data": {
            "text/plain": [
              "index                     0\n",
              "시군구                       0\n",
              "번지                      227\n",
              "본번                       75\n",
              "부번                       75\n",
              "아파트명                   2136\n",
              "전용면적                      0\n",
              "계약년월                      0\n",
              "계약일                       0\n",
              "층                         0\n",
              "건축년도                      0\n",
              "도로명                       0\n",
              "거래유형                1086451\n",
              "k-단지분류               877273\n",
              "k-세대타입(분양형태)         876125\n",
              "k-관리방식               876125\n",
              "k-복도유형               876454\n",
              "k-난방방식               876125\n",
              "k-전체동수               877207\n",
              "k-전체세대수              876125\n",
              "k-건설사(시공사)           877637\n",
              "k-시행사                877834\n",
              "k-연면적                876125\n",
              "k-주거전용면적             876170\n",
              "k-관리비부과면적            876125\n",
              "k-전용면적별세대_60         876170\n",
              "k-전용면적별세대_60_85      876170\n",
              "k-전용면적별세대_85_135     876170\n",
              "k-전용면적별세대_135       1127765\n",
              "경비비관리형태              877561\n",
              "세대전기계약방법             885389\n",
              "청소비관리형태              877751\n",
              "건축면적                 876279\n",
              "주차대수                 876277\n",
              "기타/의무/임대/임의          876125\n",
              "사용허가여부               876125\n",
              "관리비업로드               876125\n",
              "좌표X                  876232\n",
              "좌표Y                  876232\n",
              "target                 9272\n",
              "is_test                   0\n",
              "지번주소                      0\n",
              "dtype: int64"
            ]
          },
          "execution_count": 734,
          "metadata": {},
          "output_type": "execute_result"
        }
      ],
      "source": [
        "# 위 처럼 아무 의미도 갖지 않는 칼럼은 결측치와 같은 역할을 하므로, np.nan으로 채워 결측치로 인식되도록 합니다.\n",
        "concat['거래유형'] = concat['거래유형'].replace('-', np.nan)\n",
        "\n",
        "# EDA에 앞서 결측치를 확인해보겠습니다.\n",
        "concat.isnull().sum()"
      ]
    },
    {
      "cell_type": "markdown",
      "metadata": {
        "id": "yLNXVw1dysm-"
      },
      "source": [
        "- 위 그래프에서 볼 수 있다시피 결측치가 100만개 이상인 칼럼들은 결측치가 해당 칼럼의 element 중 90% 이상을 차지하는 상황이 됩니다.\n",
        "- 따라서 본 Baseline 에서는 이 칼럼은 예측에 도움이 되지 않는다고 판단해 삭제해주도록 하겠습니다."
      ]
    },
    {
      "cell_type": "markdown",
      "metadata": {},
      "source": [
        "#### NaN값이 80만개 이상인 칼럼 삭제"
      ]
    },
    {
      "cell_type": "code",
      "execution_count": 735,
      "metadata": {
        "colab": {
          "base_uri": "https://localhost:8080/"
        },
        "id": "41uYYfXhTWYB",
        "outputId": "e3c4d33e-56fb-4284-b1ea-3a53251c5a2c"
      },
      "outputs": [
        {
          "name": "stdout",
          "output_type": "stream",
          "text": [
            "* 결측치가 80만개 이하인 변수들 : ['index', '시군구', '번지', '본번', '부번', '아파트명', '전용면적', '계약년월', '계약일', '층', '건축년도', '도로명', 'target', 'is_test', '지번주소']\n",
            "* 결측치가 80만개 이상인 변수들 : ['거래유형', 'k-단지분류', 'k-세대타입(분양형태)', 'k-관리방식', 'k-복도유형', 'k-난방방식', 'k-전체동수', 'k-전체세대수', 'k-건설사(시공사)', 'k-시행사', 'k-연면적', 'k-주거전용면적', 'k-관리비부과면적', 'k-전용면적별세대_60', 'k-전용면적별세대_60_85', 'k-전용면적별세대_85_135', 'k-전용면적별세대_135', '경비비관리형태', '세대전기계약방법', '청소비관리형태', '건축면적', '주차대수', '기타/의무/임대/임의', '사용허가여부', '관리비업로드', '좌표X', '좌표Y']\n"
          ]
        }
      ],
      "source": [
        "# NaN값이 80만개 이상인 칼럼은 삭제해보도록 하겠습니다.\n",
        "print('* 결측치가 80만개 이하인 변수들 :', list(concat.columns[concat.isnull().sum() <= 800000]))     # 남겨질 변수들은 아래와 같습니다.\n",
        "print('* 결측치가 80만개 이상인 변수들 :', list(concat.columns[concat.isnull().sum() >= 800000]))"
      ]
    },
    {
      "cell_type": "code",
      "execution_count": 736,
      "metadata": {},
      "outputs": [],
      "source": [
        "# 위에서 결측치가 80만개 이하인 변수들만 골라 새로운 concat_select 객체로 저장해줍니다.\n",
        "selected = list(concat.columns[concat.isnull().sum() <= 800000])\n",
        "selected += ['좌표X', '좌표Y', 'k-복도유형', 'k-단지분류', '주차대수']\n",
        "concat_select = concat[selected]"
      ]
    },
    {
      "cell_type": "code",
      "execution_count": 737,
      "metadata": {
        "colab": {
          "base_uri": "https://localhost:8080/"
        },
        "id": "cOvWhZncQrO_",
        "outputId": "f73f7b51-b5dc-4635-ad5c-6a9eaa5ef1a0"
      },
      "outputs": [
        {
          "data": {
            "text/plain": [
              "index           0\n",
              "시군구             0\n",
              "번지            227\n",
              "본번             75\n",
              "부번             75\n",
              "아파트명         2136\n",
              "전용면적            0\n",
              "계약년월            0\n",
              "계약일             0\n",
              "층               0\n",
              "건축년도            0\n",
              "도로명             0\n",
              "target       9272\n",
              "is_test         0\n",
              "지번주소            0\n",
              "좌표X        876232\n",
              "좌표Y        876232\n",
              "k-복도유형     876454\n",
              "k-단지분류     877273\n",
              "주차대수       876277\n",
              "dtype: int64"
            ]
          },
          "execution_count": 737,
          "metadata": {},
          "output_type": "execute_result"
        }
      ],
      "source": [
        "concat_select.isnull().sum()     # 결측치가 100만개 초과인 칼럼이 제거된 모습은 아래와 같습니다.\n",
        "# target변수는 test dataset 개수만큼(9272) 결측치가 존재함을 확인할 수 있습니다."
      ]
    },
    {
      "cell_type": "markdown",
      "metadata": {},
      "source": [
        "#### 서울시 공동주택 아파트 정보로 일부 결측치 대체"
      ]
    },
    {
      "cell_type": "code",
      "execution_count": 738,
      "metadata": {},
      "outputs": [
        {
          "data": {
            "text/plain": [
              "index           0\n",
              "시군구             0\n",
              "번지            227\n",
              "본번             75\n",
              "부번             75\n",
              "아파트명         2136\n",
              "전용면적            0\n",
              "계약년월            0\n",
              "계약일             0\n",
              "층               0\n",
              "건축년도            0\n",
              "도로명             0\n",
              "target       9272\n",
              "is_test         0\n",
              "지번주소            0\n",
              "좌표X        257152\n",
              "좌표Y        257152\n",
              "k-복도유형     257608\n",
              "k-단지분류     259137\n",
              "주차대수       259357\n",
              "dtype: int64"
            ]
          },
          "execution_count": 738,
          "metadata": {},
          "output_type": "execute_result"
        }
      ],
      "source": [
        "# 결측치 대체를 위해 서울시 공동주택 아파트 정보 load (https://data.seoul.go.kr/dataList/OA-15818/A/1/datasetView.do )\n",
        "apt_path = '../apartments.csv'\n",
        "df_apt = pd.read_csv(apt_path, encoding='cp949')\n",
        "\n",
        "# '도로명주소'를 기준으로 df_train의 결측치 대체 ('아파트명'은 같은 아파트임에도 서로 일치하지 않는 항목이 많아서)\n",
        "df_apt['도로명주소'] = df_apt['주소(도로명)'] + ' ' + df_apt['주소(도로상세주소)']\n",
        "df_apt_unique = df_apt.drop_duplicates(subset='도로명주소')\n",
        "\n",
        "concat_select['좌표X'] = concat_select['좌표X'].fillna(concat_select['도로명'].map(df_apt_unique.set_index('도로명주소')['좌표X'])).astype('float')\n",
        "concat_select['좌표Y'] = concat_select['좌표Y'].fillna(concat_select['도로명'].map(df_apt_unique.set_index('도로명주소')['좌표Y']))\n",
        "\n",
        "concat_select['k-단지분류'] = concat_select['k-단지분류'].fillna(concat_select['도로명'].map(df_apt_unique.set_index('도로명주소')['k-단지분류(아파트,주상복합등등)']))\n",
        "concat_select['k-복도유형'] = concat_select['k-복도유형'].fillna(concat_select['도로명'].map(df_apt_unique.set_index('도로명주소')['k-복도유형']))\n",
        "concat_select['주차대수'] = concat_select['주차대수'].fillna(concat_select['도로명'].map(df_apt_unique.set_index('도로명주소')['주차대수']))\n",
        "\n",
        "concat_select.isnull().sum()"
      ]
    },
    {
      "cell_type": "markdown",
      "metadata": {},
      "source": [
        "#### geopy 라이브러리로 나머지 좌표 결측치 대체"
      ]
    },
    {
      "cell_type": "code",
      "execution_count": 739,
      "metadata": {},
      "outputs": [],
      "source": [
        "# '도로명'이 같은 관측치끼리 한 번만 좌표값을 가져오도록 처리\n",
        "# unique_roads = df_concat_select[df_concat_select['좌표X'].isnull()]['도로명'].unique()\n",
        "\n",
        "# for road in tqdm(unique_roads):\n",
        "#     mask = (df_concat_select['도로명'] == road) & (df_concat_select['좌표X'].isnull())\n",
        "\n",
        "#     if mask.any():\n",
        "#         coordinates = get_coordinates(road)\n",
        "\n",
        "#         # 가져온 좌표값을 결측치가 있는 관측치에 채우기\n",
        "#         df_concat_select.loc[mask, ['좌표X', '좌표Y']] = coordinates\n",
        "\n",
        "# # 좌표X, 좌표Y 결측치 대체 후 남은 결측치 확인\n",
        "# df_concat_select[['좌표X', '좌표Y']].isnull().sum()"
      ]
    },
    {
      "cell_type": "code",
      "execution_count": 740,
      "metadata": {},
      "outputs": [],
      "source": [
        "# # 남은 좌표X, 좌표Y 결측치는 지번주소를 사용해 가져오기\n",
        "# unique_roads = df_concat_select[df_concat_select['좌표X'].isnull()]['지번주소'].unique()\n",
        "\n",
        "# for road in tqdm(unique_roads):\n",
        "#     mask = (df_concat_select['지번주소'] == road) & (df_concat_select['좌표X'].isnull())\n",
        "\n",
        "#     if mask.any():\n",
        "#         coordinates = get_coordinates(road)\n",
        "#         df_concat_select.loc[mask, ['좌표X', '좌표Y']] = coordinates\n",
        "\n",
        "# # 좌표X, 좌표Y 결측치 대체 후 남은 결측치 확인\n",
        "# df_concat_select[['좌표X', '좌표Y']].isnull().sum()"
      ]
    },
    {
      "cell_type": "code",
      "execution_count": 741,
      "metadata": {},
      "outputs": [],
      "source": [
        "# df_concat_select[df_concat_select['좌표X'].isnull()]['지번주소'].unique()\n",
        "\n",
        "# df_concat_select.loc[df_concat_select['지번주소'] == '서울특별시 노원구 상계동 95-274', ['좌표X', '좌표Y']] = 127.077516, 37.664439\n",
        "# df_concat_select.loc[df_concat_select['지번주소'] == '서울특별시 동대문구 이문동 257-516', ['좌표X', '좌표Y']] = 127.059407, 37.600432\n",
        "\n",
        "# df_concat_select[['좌표X', '좌표Y']].to_csv(base_path + 'coordinates.csv', index=False)\n",
        "\n",
        "# # 좌표X, 좌표Y 결측치 대체 후 남은 결측치 확인\n",
        "# df_concat_select[['좌표X', '좌표Y']].isnull().sum()"
      ]
    },
    {
      "cell_type": "code",
      "execution_count": 742,
      "metadata": {},
      "outputs": [],
      "source": [
        "# 서울시 공동주택 데이터 + geopy 라이브러리를 사용한 결측치 대체 완료 후 좌표 데이터 불러오기\n",
        "df_coordinates = pd.read_csv('../coordinates.csv')\n",
        "concat_select[['좌표X', '좌표Y']] = df_coordinates[['좌표X', '좌표Y']]"
      ]
    },
    {
      "cell_type": "markdown",
      "metadata": {},
      "source": [
        "#### 남은 결측치 보간"
      ]
    },
    {
      "cell_type": "code",
      "execution_count": 743,
      "metadata": {
        "id": "-qTUlvcP42in"
      },
      "outputs": [],
      "source": [
        "# 지번주소 컬럼 생성으로 필요 없어진 컬럼 삭제\n",
        "concat_select = concat_select.drop(['번지', '본번', '부번'], axis=1)"
      ]
    },
    {
      "cell_type": "code",
      "execution_count": 744,
      "metadata": {
        "colab": {
          "base_uri": "https://localhost:8080/"
        },
        "id": "wVdU-Ge00OGM",
        "outputId": "6bd1a10a-689a-46ef-c0af-c879be59f715"
      },
      "outputs": [
        {
          "name": "stdout",
          "output_type": "stream",
          "text": [
            "수치형 변수: ['index', '전용면적', '계약년월', '계약일', '층', '건축년도', 'target', 'is_test', '좌표X', '좌표Y', '주차대수']\n",
            "범주형 변수: ['시군구', '아파트명', '도로명', '지번주소', 'k-복도유형', 'k-단지분류']\n"
          ]
        }
      ],
      "source": [
        "# 먼저, 수치형 변수와 범주형 변수를 위 info에 따라 분리해주겠습니다.\n",
        "numerical_cols = []\n",
        "categorical_cols = []\n",
        "\n",
        "for column in concat_select.columns:\n",
        "    if pd.api.types.is_numeric_dtype(concat_select[column]):\n",
        "        numerical_cols.append(column)\n",
        "    else:\n",
        "        categorical_cols.append(column)\n",
        "\n",
        "print(\"수치형 변수:\", numerical_cols)\n",
        "print(\"범주형 변수:\", categorical_cols)"
      ]
    },
    {
      "cell_type": "code",
      "execution_count": 745,
      "metadata": {},
      "outputs": [
        {
          "name": "stdout",
          "output_type": "stream",
          "text": [
            "결측치가 존재하는 수치형 변수:\n",
            "주차대수    259357\n",
            "dtype: int64\n",
            "결측치가 존재하는 범주형 변수:\n",
            "k-단지분류    259137\n",
            "k-복도유형    257608\n",
            "아파트명        2136\n",
            "dtype: int64\n"
          ]
        }
      ],
      "source": [
        "# 결측치가 존재하는 컬럼\n",
        "cols_with_missing_vals = concat_select.columns[concat_select.isnull().any()].difference(['target'])\n",
        "missing_vals_cnt = concat_select.isnull().sum()[cols_with_missing_vals]\n",
        "\n",
        "print('결측치가 존재하는 수치형 변수:')\n",
        "print(missing_vals_cnt[cols_with_missing_vals.isin(numerical_cols)])\n",
        "print('결측치가 존재하는 범주형 변수:')\n",
        "print(missing_vals_cnt[cols_with_missing_vals.isin(categorical_cols)])"
      ]
    },
    {
      "cell_type": "markdown",
      "metadata": {
        "id": "pVtoElzZ5Y_z"
      },
      "source": [
        "- 연속형 변수와 범주형 변수가 알맞게 나누어졌는지 확인해보고, 이제 각각 보간을 진행합니다."
      ]
    },
    {
      "cell_type": "markdown",
      "metadata": {},
      "source": [
        "##### 회귀 모델에 기반한 수치형 변수 결측치 대체"
      ]
    },
    {
      "cell_type": "code",
      "execution_count": 746,
      "metadata": {
        "id": "193c8GTdzzOX"
      },
      "outputs": [
        {
          "name": "stderr",
          "output_type": "stream",
          "text": [
            "100%|██████████| 1/1 [00:05<00:00,  5.65s/it]\n"
          ]
        },
        {
          "data": {
            "text/plain": [
              "index           0\n",
              "시군구             0\n",
              "아파트명         2136\n",
              "전용면적            0\n",
              "계약년월            0\n",
              "계약일             0\n",
              "층               0\n",
              "건축년도            0\n",
              "도로명             0\n",
              "target       9272\n",
              "is_test         0\n",
              "지번주소            0\n",
              "좌표X             0\n",
              "좌표Y             0\n",
              "k-복도유형     257608\n",
              "k-단지분류     259137\n",
              "주차대수            0\n",
              "dtype: int64"
            ]
          },
          "execution_count": 746,
          "metadata": {},
          "output_type": "execute_result"
        }
      ],
      "source": [
        "# 수치형 변수에 대한 보간\n",
        "num_cols_with_missing_vals = cols_with_missing_vals[cols_with_missing_vals.isin(numerical_cols)]\n",
        "\n",
        "for col in tqdm(num_cols_with_missing_vals):\n",
        "    reg_train = concat_select[concat_select[col].notnull()].drop(['target', 'is_test', 'index'], axis=1)\n",
        "    reg_test = concat_select[concat_select[col].isnull()].drop(['target', 'is_test', 'index'], axis=1)\n",
        "    X_cols = reg_train.columns[(reg_train.isnull().sum() == 0) & (reg_test.isnull().sum() == 0)].tolist()\n",
        "\n",
        "    X_reg_train = reg_train[X_cols]\n",
        "    y_reg_train = reg_train[col]\n",
        "    X_reg_test = reg_test[X_cols]\n",
        "\n",
        "    # Label-Encoding\n",
        "    cat_cols = X_reg_train.select_dtypes(include=['object']).columns\n",
        "    label_encoders = {}\n",
        "    for cat_col in cat_cols:\n",
        "        lbl = LabelEncoder()\n",
        "\n",
        "        lbl.fit(X_reg_train[cat_col].astype(str))\n",
        "        X_reg_train[cat_col] = lbl.transform(X_reg_train[cat_col].astype(str))\n",
        "        label_encoders[cat_col] = lbl           # 나중에 후처리를 위해 레이블인코더를 저장해주겠습니다.\n",
        "\n",
        "        for label in np.unique(X_reg_test[cat_col].astype(str)):\n",
        "            if label not in lbl.classes_:\n",
        "                lbl.classes_ = np.append(lbl.classes_, label)\n",
        "        X_reg_test[cat_col] = lbl.transform(X_reg_test[cat_col].astype(str))\n",
        "\n",
        "    # RandomForestRegressor를 이용해 회귀 모델로 학습\n",
        "    model = RandomForestRegressor(n_estimators=5, criterion='squared_error', random_state=1, n_jobs=-1)\n",
        "    model.fit(X_reg_train, y_reg_train)\n",
        "    pred = model.predict(X_reg_test)\n",
        "\n",
        "    concat_select.loc[reg_test.index, col] = pred\n",
        "\n",
        "# 수치형 변수의 결측치가 보간된 모습 확인\n",
        "concat_select.isnull().sum()\n"
      ]
    },
    {
      "cell_type": "markdown",
      "metadata": {},
      "source": [
        "##### 범주형 변수 임의의 범주로 결측치 대체"
      ]
    },
    {
      "cell_type": "code",
      "execution_count": 747,
      "metadata": {
        "colab": {
          "base_uri": "https://localhost:8080/"
        },
        "id": "tTJHspKl0mhM",
        "outputId": "d212330d-6c07-4b68-cc0f-d626eb733bc9"
      },
      "outputs": [
        {
          "data": {
            "text/plain": [
              "index         0\n",
              "시군구           0\n",
              "아파트명          0\n",
              "전용면적          0\n",
              "계약년월          0\n",
              "계약일           0\n",
              "층             0\n",
              "건축년도          0\n",
              "도로명           0\n",
              "target     9272\n",
              "is_test       0\n",
              "지번주소          0\n",
              "좌표X           0\n",
              "좌표Y           0\n",
              "k-복도유형        0\n",
              "k-단지분류        0\n",
              "주차대수          0\n",
              "dtype: int64"
            ]
          },
          "execution_count": 747,
          "metadata": {},
          "output_type": "execute_result"
        }
      ],
      "source": [
        "# 범주형 변수에 대한 보간\n",
        "cat_cols_with_missing_vals = cols_with_missing_vals[cols_with_missing_vals.isin(categorical_cols)]\n",
        "concat_select[cat_cols_with_missing_vals] = concat_select[cat_cols_with_missing_vals].fillna('NULL')\n",
        "\n",
        "# 결측치가 보간된 모습을 확인해봅니다.\n",
        "concat_select.isnull().sum()       "
      ]
    },
    {
      "cell_type": "markdown",
      "metadata": {
        "id": "4fU1E4SUafVU"
      },
      "source": [
        "- Baseline에서는 단순 결측치들을 제거하거나 보간했지만,\n",
        "EDA를 통해 변수들의 흐름을 조금 더 파악하고 더 나은 interpolation 등의 방법을 고려해볼 수 있을 것 같습니다."
      ]
    },
    {
      "cell_type": "markdown",
      "metadata": {
        "id": "zPm7QkS03RCZ"
      },
      "source": [
        "### 3.2. 이상치 처리\n",
        "- 이번엔 이상치를 처리해봅시다.\n",
        "- 이상치를 처리하는 방법은 IQR, Z-score 등 다양한 방법이 있습니다. 가장 쉽고 직관적으로 접근하는 방법은 기본 통계치를 이용하는 것입니다.\n",
        "- 본 baseline에서는 IQR를 이용한 방법을 사용하겠습니다."
      ]
    },
    {
      "cell_type": "code",
      "execution_count": 748,
      "metadata": {
        "colab": {
          "base_uri": "https://localhost:8080/"
        },
        "id": "t7omvXsd9GP1",
        "outputId": "83808c7b-df9a-46ee-d86a-966e7eff3248"
      },
      "outputs": [
        {
          "name": "stdout",
          "output_type": "stream",
          "text": [
            "(1128094, 17)\n"
          ]
        }
      ],
      "source": [
        "# 이상치 제거 이전의 shape은 아래와 같습니다.\n",
        "print(concat_select.shape)"
      ]
    },
    {
      "cell_type": "code",
      "execution_count": 749,
      "metadata": {
        "colab": {
          "base_uri": "https://localhost:8080/",
          "height": 332
        },
        "id": "MGxTxfr06n3F",
        "outputId": "6c5c8c01-20f8-4d61-dde7-87187dd2f5bd"
      },
      "outputs": [],
      "source": [
        "# 대표적인 연속형 변수인 “전용 면적” 변수 관련한 분포를 먼저 살펴보도록 하겠습니다.\n",
        "# fig = plt.figure(figsize=(7, 3))\n",
        "# sns.boxplot(data = concat_select, x = '전용면적', color='lightgreen')\n",
        "# plt.title('전용면적 분포')\n",
        "# plt.xlabel('Area')\n",
        "# plt.show()"
      ]
    },
    {
      "cell_type": "code",
      "execution_count": 750,
      "metadata": {
        "id": "fOCSdvBd8GJq"
      },
      "outputs": [],
      "source": [
        "# 이상치 제거 방법에는 IQR을 이용하겠습니다.\n",
        "# def remove_outliers_iqr(dt, column_name):\n",
        "#     df = dt.query('is_test == 0')       # train data 내에 있는 이상치만 제거하도록 하겠습니다.\n",
        "#     df_test = dt.query('is_test == 1')\n",
        "\n",
        "#     Q1 = df[column_name].quantile(0.25)\n",
        "#     Q3 = df[column_name].quantile(0.75)\n",
        "#     IQR = Q3 - Q1\n",
        "\n",
        "#     lower_bound = Q1 - 1.5 * IQR\n",
        "#     upper_bound = Q3 + 1.5 * IQR\n",
        "\n",
        "#     df = df[(df[column_name] >= lower_bound) & (df[column_name] <= upper_bound)]\n",
        "\n",
        "#     result = pd.concat([df, df_test])   # test data와 다시 합쳐주겠습니다.\n",
        "#     return result"
      ]
    },
    {
      "cell_type": "code",
      "execution_count": 751,
      "metadata": {
        "id": "F_GJQBVX8AH9"
      },
      "outputs": [],
      "source": [
        "# 위 방법으로 전용 면적에 대한 이상치를 제거해보겠습니다.\n",
        "# concat_select = remove_outliers_iqr(concat_select, '전용면적')"
      ]
    },
    {
      "cell_type": "code",
      "execution_count": 752,
      "metadata": {
        "colab": {
          "base_uri": "https://localhost:8080/"
        },
        "id": "iBwwOd5t8qbj",
        "outputId": "54409d2d-84cd-4ad3-cb4f-cbe3b71bdfbd"
      },
      "outputs": [],
      "source": [
        "# 이상치 제거 후의 shape은 아래와 같습니다. 약 10만개의 데이터가 제거된 모습을 확인할 수 있습니다.\n",
        "# print(concat_select.shape)"
      ]
    },
    {
      "cell_type": "code",
      "execution_count": 753,
      "metadata": {
        "colab": {
          "base_uri": "https://localhost:8080/"
        },
        "id": "RZitCX1tEvWX",
        "outputId": "c01ac230-4e49-4d8f-a0f0-8805de9499cc"
      },
      "outputs": [],
      "source": [
        "# concat_select['is_test'].value_counts()     # 또한, train data만 제거되었습니다."
      ]
    },
    {
      "cell_type": "markdown",
      "metadata": {
        "id": "9QxCTz0zJg0F"
      },
      "source": [
        "## 4. Feature Engineering\n",
        "- 이제 파생변수를 만들어보도록 하겠습니다.\n",
        "- 파생 변수는 도메인 지식에 기반해 제작하는 것이 중요합니다.\n",
        "- 주택의 가격을 예측하는 문제이기 때문에 약간의 부동산 지식을 기반으로 파생 변수를 만들어 보도록 하겠습니다."
      ]
    },
    {
      "cell_type": "code",
      "execution_count": 754,
      "metadata": {
        "id": "fLG3xQVQNB_6"
      },
      "outputs": [],
      "source": [
        "# 시군구, 년월 등 분할할 수 있는 변수들은 세부사항 고려를 용이하게 하기 위해 모두 분할해 주겠습니다.\n",
        "concat_select['구'] = concat_select['시군구'].map(lambda x : x.split()[1])\n",
        "concat_select['동'] = concat_select['시군구'].map(lambda x : x.split()[2])\n",
        "del concat_select['시군구']\n",
        "\n",
        "concat_select['계약년'] = concat_select['계약년월'].astype('str').map(lambda x : x[:4]).astype('int')\n",
        "concat_select['계약월'] = concat_select['계약년월'].astype('str').map(lambda x : x[4:]).astype('int')\n",
        "# del concat_select['계약년월']\n",
        "\n",
        "# custom validation split을 위해\n",
        "concat_select['계약년월일'] = concat_select['계약년월'] + concat_select['계약일']\n",
        "\n",
        "# 도로명(도로명주소)에서 도로이름만 추출\n",
        "concat_select['도로'] = concat_select['도로명'].str.replace(r'\\d.*$', '').str.strip()"
      ]
    },
    {
      "cell_type": "code",
      "execution_count": 755,
      "metadata": {
        "colab": {
          "base_uri": "https://localhost:8080/"
        },
        "id": "E19Q60NN7R6G",
        "outputId": "e859d996-c576-4311-e318-df582e39acd6"
      },
      "outputs": [
        {
          "data": {
            "text/plain": [
              "Index(['index', '아파트명', '전용면적', '계약년월', '계약일', '층', '건축년도', '도로명', 'target',\n",
              "       'is_test', '지번주소', '좌표X', '좌표Y', 'k-복도유형', 'k-단지분류', '주차대수', '구', '동',\n",
              "       '계약년', '계약월', '계약년월일', '도로'],\n",
              "      dtype='object')"
            ]
          },
          "execution_count": 755,
          "metadata": {},
          "output_type": "execute_result"
        }
      ],
      "source": [
        "concat_select.columns"
      ]
    },
    {
      "cell_type": "markdown",
      "metadata": {},
      "source": [
        "#### 강남여부 변수 추가"
      ]
    },
    {
      "cell_type": "markdown",
      "metadata": {
        "id": "zwtVsbS5-0SL"
      },
      "source": [
        "- 서울의 집값은 강남, 강북 여부에 따라 차이가 많이 난다는 사실은 많이 알려진 사실입니다.\n",
        "- 따라서 강남/강북의 여부에 따라 파생변수를 생성해주도록 하겠습니다."
      ]
    },
    {
      "cell_type": "code",
      "execution_count": 756,
      "metadata": {
        "id": "TKioFiuX9hUd"
      },
      "outputs": [],
      "source": [
        "# 강남여부 파생변수 추가\n",
        "# all = list(concat_select['구'].unique())\n",
        "# gangnam = ['강서구', '영등포구', '동작구', '서초구', '강남구', '송파구', '강동구']\n",
        "# gangbuk = [x for x in all if x not in gangnam]\n",
        "\n",
        "# assert len(all) == len(gangnam) + len(gangbuk) \n",
        "\n",
        "# is_gangnam = []\n",
        "# for x in concat_select['구'].tolist() :\n",
        "#   if x in gangnam :\n",
        "#     is_gangnam.append(1)\n",
        "#   else :\n",
        "#     is_gangnam.append(0)\n",
        "\n",
        "# concat_select['강남여부'] = is_gangnam"
      ]
    },
    {
      "cell_type": "markdown",
      "metadata": {},
      "source": [
        "#### 부촌여부, 상위아파트여부 변수 추가"
      ]
    },
    {
      "cell_type": "code",
      "execution_count": 757,
      "metadata": {},
      "outputs": [
        {
          "data": {
            "text/html": [
              "<div>\n",
              "<style scoped>\n",
              "    .dataframe tbody tr th:only-of-type {\n",
              "        vertical-align: middle;\n",
              "    }\n",
              "\n",
              "    .dataframe tbody tr th {\n",
              "        vertical-align: top;\n",
              "    }\n",
              "\n",
              "    .dataframe thead th {\n",
              "        text-align: right;\n",
              "    }\n",
              "</style>\n",
              "<table border=\"1\" class=\"dataframe\">\n",
              "  <thead>\n",
              "    <tr style=\"text-align: right;\">\n",
              "      <th></th>\n",
              "      <th>시군구</th>\n",
              "      <th>아파트명</th>\n",
              "      <th>target</th>\n",
              "    </tr>\n",
              "  </thead>\n",
              "  <tbody>\n",
              "    <tr>\n",
              "      <th>224567</th>\n",
              "      <td>서울특별시 강남구 청담동</td>\n",
              "      <td>PH129</td>\n",
              "      <td>1450000</td>\n",
              "    </tr>\n",
              "    <tr>\n",
              "      <th>236663</th>\n",
              "      <td>서울특별시 용산구 한남동</td>\n",
              "      <td>파르크한남</td>\n",
              "      <td>1350000</td>\n",
              "    </tr>\n",
              "    <tr>\n",
              "      <th>233420</th>\n",
              "      <td>서울특별시 성동구 성수동1가</td>\n",
              "      <td>아크로서울포레스트</td>\n",
              "      <td>1300000</td>\n",
              "    </tr>\n",
              "    <tr>\n",
              "      <th>236258</th>\n",
              "      <td>서울특별시 용산구 한남동</td>\n",
              "      <td>한남더힐</td>\n",
              "      <td>1100000</td>\n",
              "    </tr>\n",
              "    <tr>\n",
              "      <th>445597</th>\n",
              "      <td>서울특별시 강남구 삼성동</td>\n",
              "      <td>아이파크</td>\n",
              "      <td>1053000</td>\n",
              "    </tr>\n",
              "    <tr>\n",
              "      <th>288739</th>\n",
              "      <td>서울특별시 용산구 한남동</td>\n",
              "      <td>르가든더메인한남</td>\n",
              "      <td>970000</td>\n",
              "    </tr>\n",
              "    <tr>\n",
              "      <th>221948</th>\n",
              "      <td>서울특별시 용산구 한남동</td>\n",
              "      <td>나인원한남</td>\n",
              "      <td>945000</td>\n",
              "    </tr>\n",
              "    <tr>\n",
              "      <th>203591</th>\n",
              "      <td>서울특별시 강남구 청담동</td>\n",
              "      <td>상지리츠빌카일룸2차</td>\n",
              "      <td>900000</td>\n",
              "    </tr>\n",
              "    <tr>\n",
              "      <th>233399</th>\n",
              "      <td>서울특별시 성동구 성수동1가</td>\n",
              "      <td>갤러리아포레</td>\n",
              "      <td>880000</td>\n",
              "    </tr>\n",
              "    <tr>\n",
              "      <th>223824</th>\n",
              "      <td>서울특별시 강남구 도곡동</td>\n",
              "      <td>타워팰리스1</td>\n",
              "      <td>870000</td>\n",
              "    </tr>\n",
              "  </tbody>\n",
              "</table>\n",
              "</div>"
            ],
            "text/plain": [
              "                    시군구        아파트명   target\n",
              "224567    서울특별시 강남구 청담동       PH129  1450000\n",
              "236663    서울특별시 용산구 한남동       파르크한남  1350000\n",
              "233420  서울특별시 성동구 성수동1가   아크로서울포레스트  1300000\n",
              "236258    서울특별시 용산구 한남동        한남더힐  1100000\n",
              "445597    서울특별시 강남구 삼성동        아이파크  1053000\n",
              "288739    서울특별시 용산구 한남동    르가든더메인한남   970000\n",
              "221948    서울특별시 용산구 한남동       나인원한남   945000\n",
              "203591    서울특별시 강남구 청담동  상지리츠빌카일룸2차   900000\n",
              "233399  서울특별시 성동구 성수동1가      갤러리아포레   880000\n",
              "223824    서울특별시 강남구 도곡동      타워팰리스1   870000"
            ]
          },
          "execution_count": 757,
          "metadata": {},
          "output_type": "execute_result"
        }
      ],
      "source": [
        "# train 데이터 실거래가 상위 아파트 -> 청담동, 한남동, 성수동 1가\n",
        "df_train.sort_values('target', ascending=False).drop_duplicates(subset='아파트명').head(10)[['시군구', '아파트명', 'target']]"
      ]
    },
    {
      "cell_type": "code",
      "execution_count": 758,
      "metadata": {},
      "outputs": [],
      "source": [
        "# 부촌여부 파생변수 추가\n",
        "all = list(concat_select['동'].unique())\n",
        "rich = ['한남동', '성수동1가', '청담동']\n",
        "rest = [x for x in all if x not in rich]\n",
        "\n",
        "assert len(all) == len(rich) + len(rest) \n",
        "\n",
        "is_rich = []\n",
        "for x in concat_select['동'].tolist() :\n",
        "  if x in rich :\n",
        "    is_rich.append(1)\n",
        "  else :\n",
        "    is_rich.append(0)\n",
        "\n",
        "concat_select['부촌여부'] = is_rich"
      ]
    },
    {
      "cell_type": "code",
      "execution_count": 759,
      "metadata": {},
      "outputs": [],
      "source": [
        "# top10 아파트 여부 파생변수 추가\n",
        "all = list(concat_select['아파트명'].unique())\n",
        "top10 = df_train.sort_values(by='target', ascending=False)['아파트명'].unique()[:10]\n",
        "rest = [x for x in all if x not in top10]\n",
        "\n",
        "assert len(all) == len(top10) + len(rest) \n",
        "\n",
        "is_top10 = []\n",
        "for x in concat_select['아파트명'].tolist() :\n",
        "  if x in top10 :\n",
        "    is_top10.append(1)\n",
        "  else :\n",
        "    is_top10.append(0)\n",
        "\n",
        "concat_select['상위아파트여부'] = is_top10"
      ]
    },
    {
      "cell_type": "markdown",
      "metadata": {},
      "source": [
        "#### 신축여부 변수 추가"
      ]
    },
    {
      "cell_type": "markdown",
      "metadata": {
        "id": "7zUmQubaAbKJ"
      },
      "source": [
        "- 또한 신축인지, 구축인지의 여부도 실거래가에 큰 영향을 줄 수 있습니다.\n",
        "- 따라서 건축년도에 따라 파생변수를 제작해주도록 하겠습니다."
      ]
    },
    {
      "cell_type": "code",
      "execution_count": 760,
      "metadata": {
        "colab": {
          "base_uri": "https://localhost:8080/"
        },
        "id": "_NcBva7dAVBq",
        "outputId": "9796e4f8-8f8f-4e0c-9fb2-9757ad6e0f3b"
      },
      "outputs": [],
      "source": [
        "# 건축년도 분포는 아래와 같습니다. 특히 2005년이 Q3에 해당합니다.\n",
        "# 2010년 이후에 지어진 건물은 10%정도 되는 것을 확인할 수 있습니다.\n",
        "# concat_select['건축년도'].describe(percentiles = [0.1, 0.25, 0.5, 0.75, 0.8, 0.9])"
      ]
    },
    {
      "cell_type": "code",
      "execution_count": 761,
      "metadata": {
        "id": "qiiOPubLAqxC"
      },
      "outputs": [],
      "source": [
        "# 따라서 2018년 이후에 지어졌으면 비교적 신축이라고 판단하고, 신축 여부 변수를 제작해보도록 하겠습니다.\n",
        "# concat_select['신축여부'] = concat_select['건축년도'].apply(lambda x: 1 if x >= 2009 else 0)\n",
        "# concat_select.head(1)"
      ]
    },
    {
      "cell_type": "markdown",
      "metadata": {},
      "source": [
        "#### 지역구별 대장 아파트 기준 거리 변수 추가"
      ]
    },
    {
      "cell_type": "code",
      "execution_count": 762,
      "metadata": {},
      "outputs": [],
      "source": [
        "# 지역구별 대장 아파트들을 입력합니다.\n",
        "lead_house = {\n",
        "    \"강서구\" : (37.56520754904415, 126.82349451366355),\n",
        "    \"관악구\" : (37.47800896704934, 126.94178722423047),\n",
        "    \"강남구\" : (37.530594054209146, 127.0262701317293),\n",
        "    \"강동구\" : (37.557175745977375, 127.16359581113558),\n",
        "    \"광진구\" : (37.543083184171, 127.0998363490422),\n",
        "    \"구로구\" : (37.51045944660659, 126.88687199829572),\n",
        "    \"금천구\" : (37.459818907487936, 126.89741481874103),\n",
        "    \"노원구\" : (37.63952738902813, 127.07234254197617),\n",
        "    \"도봉구\" : (37.65775043994647, 127.04345013224447),\n",
        "    \"동대문구\" : (37.57760781415707, 127.05375628992316),\n",
        "    \"동작구\" : (37.509881249641495, 126.9618159122961),\n",
        "    \"마포구\" : (37.54341664563958, 126.93601641235335),\n",
        "    \"서대문구\" : (37.55808950436837, 126.9559315685538),\n",
        "    \"서초구\" : (37.50625410912666, 126.99846468032919),\n",
        "    \"성동구\" : (37.53870643389788, 127.04496220606433),\n",
        "    \"성북구\" : (37.61158435092128, 127.02699796439015),\n",
        "    \"송파구\" : (37.512817775046074, 127.08340371063358),\n",
        "    \"양천구\" : (37.526754982736556, 126.86618704123521),\n",
        "    \"영등포구\" : (37.52071403351804, 126.93668907644046),\n",
        "    \"용산구\" : (37.521223570097305, 126.97345317787784),\n",
        "    \"은평구\" : (37.60181702377437, 126.9362806808709),\n",
        "    \"종로구\" : (37.56856915384472, 126.96687674967252),\n",
        "    \"중구\" : (37.5544678205846, 126.9634879236162),\n",
        "    \"중랑구\" : (37.58171824083332, 127.08183326205129),\n",
        "    \"강북구\" : (37.61186335979484, 127.02822407466175)\n",
        "}\n",
        "\n",
        "# 대장 아파트의 위경도 데이터프레임을 구성합니다.\n",
        "lead_house_data = pd.DataFrame([{'구': k, '대장_좌표X': v[1], '대장_좌표Y': v[0]} for k, v in lead_house.items()])\n",
        "# 데이터프레임간 결합을 합니다.\n",
        "concat_select = pd.merge(concat_select, lead_house_data, how=\"left\", on=\"구\")\n",
        "# 아까 제작한 haversine_distance 함수를 이용해 대장아파트와의 거리를 계산하고, 새롭게 컬럼을 구성합니다.\n",
        "concat_select['대장아파트거리'] = concat_select.apply(lambda row: haversine_distance(row[\"좌표Y\"], row[\"좌표X\"], row[\"대장_좌표Y\"], row[\"대장_좌표X\"]), axis=1)\n",
        "del concat_select['대장_좌표X']; del concat_select['대장_좌표Y']"
      ]
    },
    {
      "cell_type": "markdown",
      "metadata": {},
      "source": [
        "#### 인근 지하철역 개수 변수 추가"
      ]
    },
    {
      "cell_type": "code",
      "execution_count": 763,
      "metadata": {},
      "outputs": [
        {
          "data": {
            "text/plain": [
              "0    621958\n",
              "1    403491\n",
              "2     87349\n",
              "3      9020\n",
              "4      4341\n",
              "5      1371\n",
              "6       564\n",
              "Name: 인근지하철역개수, dtype: int64"
            ]
          },
          "execution_count": 763,
          "metadata": {},
          "output_type": "execute_result"
        }
      ],
      "source": [
        "# subway_path  = '../subway_feature.csv'\n",
        "# df_subway = pd.read_csv(subway_path)\n",
        "# df_subway.rename(columns={'위도':'좌표Y', '경도':'좌표X'}, inplace=True)\n",
        "\n",
        "# df_subway_count = get_number_of_object(concat_select, df_subway, 500)\n",
        "# df_subway_count.columns = ['500m이내 지하철역 개수']\n",
        "\n",
        "# df_subway_count.to_csv('../subway_counts.csv', index=False)\n",
        "\n",
        "df_subway_count = pd.read_csv('../subway_counts.csv')\n",
        "concat_select['인근지하철역개수'] = df_subway_count['500m이내 지하철역 개수']\n",
        "concat_select['인근지하철역개수'].value_counts()"
      ]
    },
    {
      "cell_type": "markdown",
      "metadata": {},
      "source": [
        "#### 일부 범주형 변수(도로명, 도로, 동)별 실거래가 평균 순위 변수 추가 = 타겟 인코딩"
      ]
    },
    {
      "cell_type": "code",
      "execution_count": 764,
      "metadata": {},
      "outputs": [
        {
          "data": {
            "text/html": [
              "<div>\n",
              "<style scoped>\n",
              "    .dataframe tbody tr th:only-of-type {\n",
              "        vertical-align: middle;\n",
              "    }\n",
              "\n",
              "    .dataframe tbody tr th {\n",
              "        vertical-align: top;\n",
              "    }\n",
              "\n",
              "    .dataframe thead th {\n",
              "        text-align: right;\n",
              "    }\n",
              "</style>\n",
              "<table border=\"1\" class=\"dataframe\">\n",
              "  <thead>\n",
              "    <tr style=\"text-align: right;\">\n",
              "      <th></th>\n",
              "      <th>도로명</th>\n",
              "      <th>도로명_실거래가순위</th>\n",
              "    </tr>\n",
              "  </thead>\n",
              "  <tbody>\n",
              "    <tr>\n",
              "      <th>0</th>\n",
              "      <td>언주로 3</td>\n",
              "      <td>927</td>\n",
              "    </tr>\n",
              "    <tr>\n",
              "      <th>1</th>\n",
              "      <td>언주로 3</td>\n",
              "      <td>927</td>\n",
              "    </tr>\n",
              "    <tr>\n",
              "      <th>2</th>\n",
              "      <td>언주로 3</td>\n",
              "      <td>927</td>\n",
              "    </tr>\n",
              "    <tr>\n",
              "      <th>3</th>\n",
              "      <td>언주로 3</td>\n",
              "      <td>927</td>\n",
              "    </tr>\n",
              "    <tr>\n",
              "      <th>4</th>\n",
              "      <td>언주로 3</td>\n",
              "      <td>927</td>\n",
              "    </tr>\n",
              "    <tr>\n",
              "      <th>...</th>\n",
              "      <td>...</td>\n",
              "      <td>...</td>\n",
              "    </tr>\n",
              "    <tr>\n",
              "      <th>1128089</th>\n",
              "      <td>신내역로1길 85</td>\n",
              "      <td>2695</td>\n",
              "    </tr>\n",
              "    <tr>\n",
              "      <th>1128090</th>\n",
              "      <td>신내역로1길 85</td>\n",
              "      <td>2695</td>\n",
              "    </tr>\n",
              "    <tr>\n",
              "      <th>1128091</th>\n",
              "      <td>신내역로1길 85</td>\n",
              "      <td>2695</td>\n",
              "    </tr>\n",
              "    <tr>\n",
              "      <th>1128092</th>\n",
              "      <td>신내역로1길 85</td>\n",
              "      <td>2695</td>\n",
              "    </tr>\n",
              "    <tr>\n",
              "      <th>1128093</th>\n",
              "      <td>신내역로1길 85</td>\n",
              "      <td>2695</td>\n",
              "    </tr>\n",
              "  </tbody>\n",
              "</table>\n",
              "<p>1128094 rows × 2 columns</p>\n",
              "</div>"
            ],
            "text/plain": [
              "               도로명  도로명_실거래가순위\n",
              "0            언주로 3         927\n",
              "1            언주로 3         927\n",
              "2            언주로 3         927\n",
              "3            언주로 3         927\n",
              "4            언주로 3         927\n",
              "...            ...         ...\n",
              "1128089  신내역로1길 85        2695\n",
              "1128090  신내역로1길 85        2695\n",
              "1128091  신내역로1길 85        2695\n",
              "1128092  신내역로1길 85        2695\n",
              "1128093  신내역로1길 85        2695\n",
              "\n",
              "[1128094 rows x 2 columns]"
            ]
          },
          "execution_count": 764,
          "metadata": {},
          "output_type": "execute_result"
        }
      ],
      "source": [
        "# 도로명별 '실거래가'의 평균을 계산하여 순위를 매김\n",
        "road_addr_ranking = concat_select.groupby('도로명')['target'].mean().reset_index()\n",
        "# road_addr_ranking = concat_select.query('계약년월 > 202001').groupby('도로명')['target'].mean().reset_index()\n",
        "\n",
        "# target이 모두 null인(train 데이터에 없는) 도로명은 도로 이름별 실거래가 평균으로 처리\n",
        "target_null_roads = road_addr_ranking.loc[road_addr_ranking['target'].isnull(), '도로명'].tolist()\n",
        "for road in target_null_roads:\n",
        "    road_name = re.sub(r'\\d.*$', '', road).strip()\n",
        "    target_mean = concat_select[concat_select['도로'] == road_name]['target'].mean()\n",
        "    # target_mean = concat_select.query('계약년월 > 202001')[concat_select['도로'] == road_name]['target'].mean()\n",
        "    road_addr_ranking.loc[road_addr_ranking['도로명'] == road, 'target'] = target_mean\n",
        "# 도로 이름도 없는 경우 동별 실거래가 평균으로 처리\n",
        "if road_addr_ranking[road_addr_ranking['target'].isnull()].shape[0] > 0:\n",
        "    for road in road_addr_ranking.loc[road_addr_ranking['target'].isnull(), '도로명'].tolist():\n",
        "        dong_series = concat_select[concat_select['도로명'] == road]['동']\n",
        "        unique_dongs = dong_series.unique()\n",
        "        for dong in unique_dongs:\n",
        "            dong_mean = concat_select[concat_select['동'] == dong]['target'].mean()\n",
        "            # dong_mean = concat_select.query('계약년월 > 202001')[concat_select['동'] == dong]['target'].mean()\n",
        "            road_addr_ranking.loc[road_addr_ranking['도로명'] == road, 'target'] = dong_mean\n",
        "        \n",
        "road_addr_ranking = road_addr_ranking.sort_values('target', ascending=False).reset_index()\n",
        "road_addr_ranking['도로명_실거래가순위'] = range(1, len(road_addr_ranking) + 1)\n",
        "road_addr_ranking = road_addr_ranking.drop(['target', 'index'], axis=1)\n",
        "\n",
        "concat_select = pd.merge(concat_select, road_addr_ranking, on='도로명', how=\"left\")\n",
        "concat_select[['도로명', '도로명_실거래가순위']]"
      ]
    },
    {
      "cell_type": "code",
      "execution_count": 765,
      "metadata": {},
      "outputs": [
        {
          "data": {
            "text/html": [
              "<div>\n",
              "<style scoped>\n",
              "    .dataframe tbody tr th:only-of-type {\n",
              "        vertical-align: middle;\n",
              "    }\n",
              "\n",
              "    .dataframe tbody tr th {\n",
              "        vertical-align: top;\n",
              "    }\n",
              "\n",
              "    .dataframe thead th {\n",
              "        text-align: right;\n",
              "    }\n",
              "</style>\n",
              "<table border=\"1\" class=\"dataframe\">\n",
              "  <thead>\n",
              "    <tr style=\"text-align: right;\">\n",
              "      <th></th>\n",
              "      <th>도로</th>\n",
              "      <th>도로_실거래가순위</th>\n",
              "    </tr>\n",
              "  </thead>\n",
              "  <tbody>\n",
              "    <tr>\n",
              "      <th>0</th>\n",
              "      <td>언주로</td>\n",
              "      <td>35</td>\n",
              "    </tr>\n",
              "    <tr>\n",
              "      <th>1</th>\n",
              "      <td>언주로</td>\n",
              "      <td>35</td>\n",
              "    </tr>\n",
              "    <tr>\n",
              "      <th>2</th>\n",
              "      <td>언주로</td>\n",
              "      <td>35</td>\n",
              "    </tr>\n",
              "    <tr>\n",
              "      <th>3</th>\n",
              "      <td>언주로</td>\n",
              "      <td>35</td>\n",
              "    </tr>\n",
              "    <tr>\n",
              "      <th>4</th>\n",
              "      <td>언주로</td>\n",
              "      <td>35</td>\n",
              "    </tr>\n",
              "    <tr>\n",
              "      <th>...</th>\n",
              "      <td>...</td>\n",
              "      <td>...</td>\n",
              "    </tr>\n",
              "    <tr>\n",
              "      <th>1128089</th>\n",
              "      <td>신내역로</td>\n",
              "      <td>274</td>\n",
              "    </tr>\n",
              "    <tr>\n",
              "      <th>1128090</th>\n",
              "      <td>신내역로</td>\n",
              "      <td>274</td>\n",
              "    </tr>\n",
              "    <tr>\n",
              "      <th>1128091</th>\n",
              "      <td>신내역로</td>\n",
              "      <td>274</td>\n",
              "    </tr>\n",
              "    <tr>\n",
              "      <th>1128092</th>\n",
              "      <td>신내역로</td>\n",
              "      <td>274</td>\n",
              "    </tr>\n",
              "    <tr>\n",
              "      <th>1128093</th>\n",
              "      <td>신내역로</td>\n",
              "      <td>274</td>\n",
              "    </tr>\n",
              "  </tbody>\n",
              "</table>\n",
              "<p>1128094 rows × 2 columns</p>\n",
              "</div>"
            ],
            "text/plain": [
              "           도로  도로_실거래가순위\n",
              "0         언주로         35\n",
              "1         언주로         35\n",
              "2         언주로         35\n",
              "3         언주로         35\n",
              "4         언주로         35\n",
              "...       ...        ...\n",
              "1128089  신내역로        274\n",
              "1128090  신내역로        274\n",
              "1128091  신내역로        274\n",
              "1128092  신내역로        274\n",
              "1128093  신내역로        274\n",
              "\n",
              "[1128094 rows x 2 columns]"
            ]
          },
          "execution_count": 765,
          "metadata": {},
          "output_type": "execute_result"
        }
      ],
      "source": [
        "# 도로별 '실거래가'의 평균을 계산하여 순위를 매김\n",
        "road_addr_ranking = concat_select.groupby('도로')['target'].mean().reset_index()\n",
        "# target이 모두 null인(train 데이터에 없는) 도로 이름은 해당 동별 실거래가 평균으로 처리\n",
        "if road_addr_ranking[road_addr_ranking['target'].isnull()].shape[0] > 0:\n",
        "    for road in road_addr_ranking.loc[road_addr_ranking['target'].isnull(), '도로'].tolist():\n",
        "        dong_series = concat_select[concat_select['도로'] == road]['동']\n",
        "        unique_dongs = dong_series.unique()\n",
        "        for dong in unique_dongs:\n",
        "            dong_mean = concat_select[concat_select['동'] == dong]['target'].mean()\n",
        "            road_addr_ranking.loc[road_addr_ranking['도로'] == road, 'target'] = dong_mean\n",
        "\n",
        "road_addr_ranking = road_addr_ranking.sort_values('target', ascending=False).reset_index()\n",
        "road_addr_ranking['도로_실거래가순위'] = range(1, len(road_addr_ranking) + 1)\n",
        "road_addr_ranking = road_addr_ranking.drop(['target', 'index'], axis=1)\n",
        "\n",
        "concat_select = pd.merge(concat_select, road_addr_ranking, on='도로', how=\"left\")\n",
        "concat_select[['도로', '도로_실거래가순위']]"
      ]
    },
    {
      "cell_type": "code",
      "execution_count": 766,
      "metadata": {},
      "outputs": [
        {
          "data": {
            "text/html": [
              "<div>\n",
              "<style scoped>\n",
              "    .dataframe tbody tr th:only-of-type {\n",
              "        vertical-align: middle;\n",
              "    }\n",
              "\n",
              "    .dataframe tbody tr th {\n",
              "        vertical-align: top;\n",
              "    }\n",
              "\n",
              "    .dataframe thead th {\n",
              "        text-align: right;\n",
              "    }\n",
              "</style>\n",
              "<table border=\"1\" class=\"dataframe\">\n",
              "  <thead>\n",
              "    <tr style=\"text-align: right;\">\n",
              "      <th></th>\n",
              "      <th>동</th>\n",
              "      <th>동_실거래가순위</th>\n",
              "    </tr>\n",
              "  </thead>\n",
              "  <tbody>\n",
              "    <tr>\n",
              "      <th>0</th>\n",
              "      <td>개포동</td>\n",
              "      <td>48</td>\n",
              "    </tr>\n",
              "    <tr>\n",
              "      <th>1</th>\n",
              "      <td>개포동</td>\n",
              "      <td>48</td>\n",
              "    </tr>\n",
              "    <tr>\n",
              "      <th>2</th>\n",
              "      <td>개포동</td>\n",
              "      <td>48</td>\n",
              "    </tr>\n",
              "    <tr>\n",
              "      <th>3</th>\n",
              "      <td>개포동</td>\n",
              "      <td>48</td>\n",
              "    </tr>\n",
              "    <tr>\n",
              "      <th>4</th>\n",
              "      <td>개포동</td>\n",
              "      <td>48</td>\n",
              "    </tr>\n",
              "    <tr>\n",
              "      <th>...</th>\n",
              "      <td>...</td>\n",
              "      <td>...</td>\n",
              "    </tr>\n",
              "    <tr>\n",
              "      <th>1128089</th>\n",
              "      <td>신내동</td>\n",
              "      <td>280</td>\n",
              "    </tr>\n",
              "    <tr>\n",
              "      <th>1128090</th>\n",
              "      <td>신내동</td>\n",
              "      <td>280</td>\n",
              "    </tr>\n",
              "    <tr>\n",
              "      <th>1128091</th>\n",
              "      <td>신내동</td>\n",
              "      <td>280</td>\n",
              "    </tr>\n",
              "    <tr>\n",
              "      <th>1128092</th>\n",
              "      <td>신내동</td>\n",
              "      <td>280</td>\n",
              "    </tr>\n",
              "    <tr>\n",
              "      <th>1128093</th>\n",
              "      <td>신내동</td>\n",
              "      <td>280</td>\n",
              "    </tr>\n",
              "  </tbody>\n",
              "</table>\n",
              "<p>1128094 rows × 2 columns</p>\n",
              "</div>"
            ],
            "text/plain": [
              "           동  동_실거래가순위\n",
              "0        개포동        48\n",
              "1        개포동        48\n",
              "2        개포동        48\n",
              "3        개포동        48\n",
              "4        개포동        48\n",
              "...      ...       ...\n",
              "1128089  신내동       280\n",
              "1128090  신내동       280\n",
              "1128091  신내동       280\n",
              "1128092  신내동       280\n",
              "1128093  신내동       280\n",
              "\n",
              "[1128094 rows x 2 columns]"
            ]
          },
          "execution_count": 766,
          "metadata": {},
          "output_type": "execute_result"
        }
      ],
      "source": [
        "# 동별 '실거래가'의 평균을 계산하여 순위를 매김\n",
        "road_addr_ranking = concat_select.groupby('동')['target'].mean().sort_values(ascending=False).reset_index()\n",
        "road_addr_ranking['동_실거래가순위'] = range(1, len(road_addr_ranking) + 1)\n",
        "road_addr_ranking = road_addr_ranking.drop(['target'], axis=1)\n",
        "\n",
        "concat_select = pd.merge(concat_select, road_addr_ranking, on='동', how=\"left\")\n",
        "concat_select[['동', '동_실거래가순위']]"
      ]
    },
    {
      "cell_type": "code",
      "execution_count": 767,
      "metadata": {},
      "outputs": [
        {
          "data": {
            "text/plain": [
              "(1128094, 29)"
            ]
          },
          "execution_count": 767,
          "metadata": {},
          "output_type": "execute_result"
        }
      ],
      "source": [
        "concat_select.shape"
      ]
    },
    {
      "cell_type": "markdown",
      "metadata": {
        "id": "uXfXRevr3dfe"
      },
      "source": [
        "## 5. Model Training"
      ]
    },
    {
      "cell_type": "markdown",
      "metadata": {
        "id": "ytuwazY43gwQ"
      },
      "source": [
        "- 이제 위에서 만든 파생변수들과 정제한 데이터를 기반으로 본격적으로 부동산 실거래가를 예측하는 모델링을 진행하겠습니다.\n",
        "- 모델링에는 `sklearn`의 `RandomForest`를 이용하도록 하겠습니다.\n",
        "\n",
        "- 참고 ✅\n",
        "  - `RandomForest`는 배깅(Bagging)의 일종으로, 학습시키는 데이터 뿐 아니라 특성변수(X)들도 무작위로 선택해 트리를 생성하는 방법입니다.\n",
        "  - 모델 학습 과정에서 서로 다른 N개의 Tree 생성하고, N개의 Tree에서 발생한 Output을 Voting(범주형, 분류문제)하거나, Average(연속형, 회귀문제)해 최종 Output 생성합니다.\n",
        "  - 이는 High variance, Low bias 상황에서 분산(Variance) 감소에 도움을 줍니다."
      ]
    },
    {
      "cell_type": "code",
      "execution_count": 768,
      "metadata": {
        "colab": {
          "base_uri": "https://localhost:8080/"
        },
        "id": "9E__0jEyyXIA",
        "outputId": "ffb3cc6e-d337-4ed6-96d1-ddf96dc97449"
      },
      "outputs": [
        {
          "name": "stdout",
          "output_type": "stream",
          "text": [
            "(1118822, 27) (9272, 27)\n"
          ]
        }
      ],
      "source": [
        "# 이제 다시 train과 test dataset을 분할해줍니다. 위에서 제작해 놓았던 is_test 칼럼을 이용합니다.\n",
        "dt_train = concat_select.query('is_test==0').set_index('index').rename_axis(None)\n",
        "dt_test = concat_select.query('is_test==1').set_index('index').rename_axis(None)\n",
        "\n",
        "# 이제 is_test 칼럼은 drop해줍니다.\n",
        "dt_train.drop(['is_test'], axis = 1, inplace=True)\n",
        "dt_test.drop(['is_test'], axis = 1, inplace=True)\n",
        "print(dt_train.shape, dt_test.shape)"
      ]
    },
    {
      "cell_type": "markdown",
      "metadata": {},
      "source": [
        "#### Final Features"
      ]
    },
    {
      "cell_type": "code",
      "execution_count": 769,
      "metadata": {},
      "outputs": [],
      "source": [
        "final_features = ['도로명_실거래가순위', '전용면적', 'k-복도유형', 'k-단지분류', '계약년', \n",
        "                  '계약월', '동_실거래가순위', '좌표X', '좌표Y', '건축년도', \n",
        "                  '부촌여부', '상위아파트여부', '대장아파트거리', '도로_실거래가순위', '구', \n",
        "                  '주차대수', '인근지하철역개수', '계약년월일', 'target']\n",
        "\n",
        "dt_train = dt_train[final_features]\n",
        "dt_test = dt_test[final_features]"
      ]
    },
    {
      "cell_type": "markdown",
      "metadata": {
        "id": "wdHNkPO_3tSb"
      },
      "source": [
        "### 5.1. 범주형 변수 Encoding\n",
        "- 범주형 변수는 그대로 모델에 투입하면, 모델이 제대로 작동할 수 없습니다.\n",
        "- 따라서 **레이블 인코딩 과정**을 통해 범주형 변수들을 numeric하게 바꾸는 인코딩 과정을 진행해주도록 하겠습니다."
      ]
    },
    {
      "cell_type": "code",
      "execution_count": 771,
      "metadata": {
        "colab": {
          "base_uri": "https://localhost:8080/"
        },
        "id": "yCW2dTz12VMZ",
        "outputId": "5c81b9e1-0462-421e-cb77-6b056532e5cd"
      },
      "outputs": [
        {
          "name": "stdout",
          "output_type": "stream",
          "text": [
            "수치형 변수: ['도로명_실거래가순위', '전용면적', '계약년', '계약월', '동_실거래가순위', '좌표X', '좌표Y', '건축년도', '부촌여부', '상위아파트여부', '대장아파트거리', '도로_실거래가순위', '주차대수', '인근지하철역개수', '계약년월일', 'target']\n",
            "범주형 변수: ['k-복도유형', 'k-단지분류', '구']\n"
          ]
        }
      ],
      "source": [
        "# 파생변수 제작으로 추가된 변수들이 존재하기에, 다시한번 연속형과 범주형 칼럼을 분리해주겠습니다.\n",
        "numerical_columns_v2 = []\n",
        "categorical_columns_v2 = []\n",
        "\n",
        "for column in dt_train.columns:\n",
        "    if pd.api.types.is_numeric_dtype(dt_train[column]):\n",
        "        numerical_columns_v2.append(column)\n",
        "    else:\n",
        "        categorical_columns_v2.append(column)\n",
        "\n",
        "print(\"수치형 변수:\", numerical_columns_v2)\n",
        "print(\"범주형 변수:\", categorical_columns_v2)"
      ]
    },
    {
      "cell_type": "code",
      "execution_count": 772,
      "metadata": {
        "colab": {
          "base_uri": "https://localhost:8080/"
        },
        "id": "klnjrUceP_bC",
        "outputId": "ba94e4af-e06b-4c5c-b3a6-736a4616e589"
      },
      "outputs": [
        {
          "name": "stderr",
          "output_type": "stream",
          "text": [
            "100%|██████████| 3/3 [00:00<00:00,  5.57it/s]\n"
          ]
        }
      ],
      "source": [
        "# 아래에서 범주형 변수들을 대상으로 레이블인코딩을 진행해 주겠습니다.\n",
        "# 각 변수에 대한 LabelEncoder를 저장할 딕셔너리\n",
        "label_encoders = {}\n",
        "\n",
        "# Implement Label Encoding\n",
        "for col in tqdm( categorical_columns_v2 ):\n",
        "    lbl = LabelEncoder()\n",
        "\n",
        "    # Label-Encoding을 fit\n",
        "    lbl.fit( dt_train[col].astype(str) )\n",
        "    dt_train[col] = lbl.transform(dt_train[col].astype(str))\n",
        "    label_encoders[col] = lbl           # 나중에 후처리를 위해 레이블인코더를 저장해주겠습니다.\n",
        "\n",
        "    # Test 데이터에만 존재하는 새로 출현한 데이터를 신규 클래스로 추가해줍니다.\n",
        "    for label in np.unique(dt_test[col]):\n",
        "      if label not in lbl.classes_: # unseen label 데이터인 경우\n",
        "        lbl.classes_ = np.append(lbl.classes_, label) # 미처리 시 ValueError발생하니 주의하세요!\n",
        "\n",
        "    dt_test[col] = lbl.transform(dt_test[col].astype(str))"
      ]
    },
    {
      "cell_type": "code",
      "execution_count": 773,
      "metadata": {
        "colab": {
          "base_uri": "https://localhost:8080/",
          "height": 127
        },
        "id": "-mMaaemI6DCI",
        "outputId": "67139863-5f67-4288-fb9a-b6f5a57a7e86"
      },
      "outputs": [
        {
          "data": {
            "text/html": [
              "<div>\n",
              "<style scoped>\n",
              "    .dataframe tbody tr th:only-of-type {\n",
              "        vertical-align: middle;\n",
              "    }\n",
              "\n",
              "    .dataframe tbody tr th {\n",
              "        vertical-align: top;\n",
              "    }\n",
              "\n",
              "    .dataframe thead th {\n",
              "        text-align: right;\n",
              "    }\n",
              "</style>\n",
              "<table border=\"1\" class=\"dataframe\">\n",
              "  <thead>\n",
              "    <tr style=\"text-align: right;\">\n",
              "      <th></th>\n",
              "      <th>도로명_실거래가순위</th>\n",
              "      <th>전용면적</th>\n",
              "      <th>k-복도유형</th>\n",
              "      <th>k-단지분류</th>\n",
              "      <th>계약년</th>\n",
              "      <th>계약월</th>\n",
              "      <th>동_실거래가순위</th>\n",
              "      <th>좌표X</th>\n",
              "      <th>좌표Y</th>\n",
              "      <th>건축년도</th>\n",
              "      <th>부촌여부</th>\n",
              "      <th>상위아파트여부</th>\n",
              "      <th>대장아파트거리</th>\n",
              "      <th>도로_실거래가순위</th>\n",
              "      <th>구</th>\n",
              "      <th>주차대수</th>\n",
              "      <th>인근지하철역개수</th>\n",
              "      <th>계약년월일</th>\n",
              "      <th>target</th>\n",
              "    </tr>\n",
              "  </thead>\n",
              "  <tbody>\n",
              "    <tr>\n",
              "      <th>0</th>\n",
              "      <td>927</td>\n",
              "      <td>79.97</td>\n",
              "      <td>1</td>\n",
              "      <td>3</td>\n",
              "      <td>2017</td>\n",
              "      <td>12</td>\n",
              "      <td>48</td>\n",
              "      <td>127.05721</td>\n",
              "      <td>37.476763</td>\n",
              "      <td>1987</td>\n",
              "      <td>0</td>\n",
              "      <td>0</td>\n",
              "      <td>6.578607</td>\n",
              "      <td>35</td>\n",
              "      <td>0</td>\n",
              "      <td>262.0</td>\n",
              "      <td>0</td>\n",
              "      <td>201720</td>\n",
              "      <td>124000.0</td>\n",
              "    </tr>\n",
              "  </tbody>\n",
              "</table>\n",
              "</div>"
            ],
            "text/plain": [
              "   도로명_실거래가순위   전용면적  k-복도유형  k-단지분류   계약년  계약월  동_실거래가순위        좌표X  \\\n",
              "0         927  79.97       1       3  2017   12        48  127.05721   \n",
              "\n",
              "         좌표Y  건축년도  부촌여부  상위아파트여부   대장아파트거리  도로_실거래가순위  구   주차대수  인근지하철역개수  \\\n",
              "0  37.476763  1987     0        0  6.578607         35  0  262.0         0   \n",
              "\n",
              "    계약년월일    target  \n",
              "0  201720  124000.0  "
            ]
          },
          "execution_count": 773,
          "metadata": {},
          "output_type": "execute_result"
        }
      ],
      "source": [
        "dt_train.head(1)        # 레이블인코딩이 된 모습입니다."
      ]
    },
    {
      "cell_type": "markdown",
      "metadata": {
        "id": "L4sHljC3NWje"
      },
      "source": [
        "### 5.2. Model Training\n",
        "- 위 데이터를 이용해 모델을 train 해보겠습니다. 모델은 RandomForest를 이용하겠습니다.\n",
        "- Train과 Valid dataset을 분할하는 과정에서는 `holdout` 방법을 사용하겠습니다. 이 방법의 경우  대략적인 성능을 빠르게 확인할 수 있다는 점에서 baseline에서 사용해보도록 하겠습니다.\n",
        "  - 이 후 추가적인 eda를 통해서 평가세트와 경향을 맞추거나 kfold와 같은 분포에 대한 고려를 추가할 수 있습니다."
      ]
    },
    {
      "cell_type": "code",
      "execution_count": 774,
      "metadata": {
        "id": "7S-ow8vVP_YZ"
      },
      "outputs": [],
      "source": [
        "assert dt_train.shape[1] == dt_test.shape[1]          # train/test dataset의 shape이 같은지 확인해주겠습니다."
      ]
    },
    {
      "cell_type": "code",
      "execution_count": 775,
      "metadata": {},
      "outputs": [],
      "source": [
        "def train_valid_split(data_x, data_y, train_idx, valid_idx):\n",
        "    x_train = data_x.iloc[train_idx]\n",
        "    y_train = data_y[train_idx]\n",
        "    x_valid = data_x.iloc[valid_idx]\n",
        "    y_valid = data_y[valid_idx]\n",
        "    return x_train, y_train, x_valid, y_valid\n",
        "\n",
        "# k-fold cross-validation을 통한 모델 평가 함수\n",
        "def evaluate(data_x, data_y, model, random_state=42, n_splits=5, test_x=None):\n",
        "    kf = KFold(n_splits=n_splits, random_state=random_state, shuffle=True)\n",
        "  \n",
        "    oof_y = np.zeros(len(data_x)) \n",
        "    feature_importances = np.zeros((len(data_x.columns), n_splits))\n",
        "\n",
        "    if test_x is not None:\n",
        "        test_y = np.zeros((len(test_x), n_splits))\n",
        "        \n",
        "    for i, (train_index, valid_index) in enumerate(kf.split(data_x, data_y)):\n",
        "        train_x, train_y, valid_x, valid_y = train_valid_split(data_x, data_y, train_index, valid_index)\n",
        "        model.fit(train_x, train_y)\n",
        "            \n",
        "        oof_y[valid_index] = model.predict(valid_x) # out-of-fold 예측값  \n",
        "        feature_importances[:, i] = model.feature_importances_\n",
        "      \n",
        "        if test_x is not None:\n",
        "            test_y[:, i] = model.predict(test_x)\n",
        "        \n",
        "        print(f'{i}th-fold Validation Score : ', mean_squared_error(valid_y, oof_y[valid_index], squared=False))\n",
        "\n",
        "    # out-of-fold 예측값에 대한 RMSE score 계산\n",
        "    score = mean_squared_error(data_y, oof_y, squared=False)\n",
        "    print('OOF RMSE Score : ', score)\n",
        "    \n",
        "    return (oof_y, np.mean(test_y, axis=1), np.mean(feature_importances, axis=1)) if test_x is not None else (oof_y, np.mean(feature_importances, axis=1))"
      ]
    },
    {
      "cell_type": "code",
      "execution_count": 776,
      "metadata": {
        "id": "vXP9IzrZaBMG"
      },
      "outputs": [],
      "source": [
        "# Target과 독립변수들을 분리해줍니다.\n",
        "X_train_all = dt_train.drop(['target', '계약년월일'], axis=1)\n",
        "y_train_all = dt_train['target']\n",
        "\n",
        "# Custom validation split - 최근 20% 데이터를 validation set으로 나눔\n",
        "dt_train = dt_train.sort_values('계약년월일')\n",
        "cut = int(len(dt_train)*0.8)\n",
        "train_split = dt_train[:cut]\n",
        "valid_split = dt_train[cut:]\n",
        "\n",
        "X_train = train_split.drop(['target', '계약년월일'], axis=1)\n",
        "y_train = train_split['target']\n",
        "X_val = valid_split.drop(['target', '계약년월일'], axis=1)\n",
        "y_val = valid_split['target']\n",
        "\n",
        "# LGBM 파라미터 설정\n",
        "lgb_params = {\n",
        "    'n_estimators': 2048,          \n",
        "    'force_col_wise': True\n",
        "    }\n",
        "\n",
        "model = LGBMRegressor(**lgb_params)"
      ]
    },
    {
      "cell_type": "code",
      "execution_count": 777,
      "metadata": {
        "colab": {
          "base_uri": "https://localhost:8080/"
        },
        "id": "39uvsgeXey3R",
        "outputId": "139e341d-2abd-4923-ed05-a28a70a4caef"
      },
      "outputs": [
        {
          "name": "stdout",
          "output_type": "stream",
          "text": [
            "[LightGBM] [Info] Total Bins 2130\n",
            "[LightGBM] [Info] Number of data points in the train set: 895057, number of used features: 17\n",
            "[LightGBM] [Info] Start training from score 49963.639391\n",
            "Validation RMSE: 27499.091584220558\n"
          ]
        }
      ],
      "source": [
        "# 모델 학습 및 평가\n",
        "model.fit(X_train, y_train)\n",
        "pred = model.predict(X_val)\n",
        "\n",
        "# 회귀 관련 metric을 통해 train/valid의 모델 적합 결과를 관찰합니다.\n",
        "print(f'Validation RMSE: {mean_squared_error(y_val, pred, squared=False)}')\n",
        "\n",
        "# Custom valid set: 27499.091584220558"
      ]
    },
    {
      "cell_type": "markdown",
      "metadata": {
        "id": "4jhh_fZ0DHOd"
      },
      "source": [
        "- 변수 중요도도 확인해보도록 하겠습니다."
      ]
    },
    {
      "cell_type": "code",
      "execution_count": 778,
      "metadata": {
        "colab": {
          "base_uri": "https://localhost:8080/",
          "height": 698
        },
        "id": "VbgCRxFgdFQb",
        "outputId": "f9114f72-78e1-471c-fc0b-ba5b8b6b6d2f"
      },
      "outputs": [
        {
          "data": {
            "image/png": "[encoded data removed]",
            "text/plain": [
              "<Figure size 1000x800 with 1 Axes>"
            ]
          },
          "metadata": {},
          "output_type": "display_data"
        }
      ],
      "source": [
        "# 위 feature importance를 시각화해봅니다.\n",
        "importances = pd.Series(model.feature_importances_, index=list(X_train.columns))\n",
        "importances = importances.sort_values(ascending=False)\n",
        "\n",
        "plt.figure(figsize=(10,8))\n",
        "plt.title(\"Feature Importances\")\n",
        "sns.barplot(x=importances, y=importances.index)\n",
        "plt.show()"
      ]
    },
    {
      "cell_type": "code",
      "execution_count": 779,
      "metadata": {},
      "outputs": [
        {
          "data": {
            "text/plain": [
              "주차대수         3883\n",
              "계약월          3786\n",
              "도로_실거래가순위    3266\n",
              "동_실거래가순위     3204\n",
              "구            1434\n",
              "k-복도유형       1042\n",
              "인근지하철역개수      800\n",
              "k-단지분류        558\n",
              "부촌여부          137\n",
              "상위아파트여부       137\n",
              "dtype: int32"
            ]
          },
          "execution_count": 779,
          "metadata": {},
          "output_type": "execute_result"
        }
      ],
      "source": [
        "importances.tail(10)"
      ]
    },
    {
      "cell_type": "code",
      "execution_count": 780,
      "metadata": {
        "id": "vycdrTEAa2va"
      },
      "outputs": [
        {
          "name": "stdout",
          "output_type": "stream",
          "text": [
            "[LightGBM] [Info] Total Bins 2140\n",
            "[LightGBM] [Info] Number of data points in the train set: 1118822, number of used features: 17\n",
            "[LightGBM] [Info] Start training from score 57991.532149\n"
          ]
        }
      ],
      "source": [
        "# 전체 train 데이터로 학습된 모델을 저장합니다. Pickle 라이브러리를 이용하겠습니다.\n",
        "model.fit(X_train_all, y_train_all)\n",
        "with open('saved_model.pkl', 'wb') as f:\n",
        "    pickle.dump(model, f)"
      ]
    },
    {
      "cell_type": "markdown",
      "metadata": {
        "id": "jOVbJ3KWgBTC"
      },
      "source": [
        "### 5.3. Feature selection"
      ]
    },
    {
      "cell_type": "markdown",
      "metadata": {
        "id": "0Qp7gLG3CfgJ"
      },
      "source": [
        "- 어떤 변수가 유용한 변수인지 확인해보기 위해 permutation selection을 이용해보겠습니다."
      ]
    },
    {
      "cell_type": "code",
      "execution_count": 781,
      "metadata": {
        "colab": {
          "base_uri": "https://localhost:8080/",
          "height": 399
        },
        "id": "bWucmvKrf-tq",
        "outputId": "016c2fae-320b-4778-efb9-799b5cf695b0"
      },
      "outputs": [],
      "source": [
        "# # Permutation importance 방법을 변수 선택에 이용해보겠습니다.\n",
        "# perm = PermutationImportance(model,        # 위에서 학습된 모델을 이용하겠습니다.\n",
        "#                              scoring = 'neg_mean_squared_error',        # 평가 지표로는 회귀문제이기에 negative rmse를 사용합니다. (neg_mean_squared_error : 음의 평균 제곱 오차)\n",
        "#                              random_state = 42,\n",
        "#                              n_iter=3).fit(X_val, y_val)\n",
        "# eli5.show_weights(perm, feature_names = X_val.columns.tolist())    # valid data에 대해 적합시킵니다."
      ]
    },
    {
      "cell_type": "markdown",
      "metadata": {
        "id": "YncDzsK1zl2w"
      },
      "source": [
        "### 5.4. Valid prediction 분석"
      ]
    },
    {
      "cell_type": "markdown",
      "metadata": {
        "id": "iQS1Fno2C-1R"
      },
      "source": [
        "- 예측값을 분석해보기 위해 valid prediction을 확인해보겠습니다."
      ]
    },
    {
      "cell_type": "code",
      "execution_count": 782,
      "metadata": {
        "id": "_xViv0o6DXQ-"
      },
      "outputs": [
        {
          "data": {
            "text/html": [
              "<div>\n",
              "<style scoped>\n",
              "    .dataframe tbody tr th:only-of-type {\n",
              "        vertical-align: middle;\n",
              "    }\n",
              "\n",
              "    .dataframe tbody tr th {\n",
              "        vertical-align: top;\n",
              "    }\n",
              "\n",
              "    .dataframe thead th {\n",
              "        text-align: right;\n",
              "    }\n",
              "</style>\n",
              "<table border=\"1\" class=\"dataframe\">\n",
              "  <thead>\n",
              "    <tr style=\"text-align: right;\">\n",
              "      <th></th>\n",
              "      <th>도로명_실거래가순위</th>\n",
              "      <th>전용면적</th>\n",
              "      <th>k-복도유형</th>\n",
              "      <th>k-단지분류</th>\n",
              "      <th>계약년</th>\n",
              "      <th>계약월</th>\n",
              "      <th>동_실거래가순위</th>\n",
              "      <th>좌표X</th>\n",
              "      <th>좌표Y</th>\n",
              "      <th>건축년도</th>\n",
              "      <th>부촌여부</th>\n",
              "      <th>상위아파트여부</th>\n",
              "      <th>대장아파트거리</th>\n",
              "      <th>도로_실거래가순위</th>\n",
              "      <th>구</th>\n",
              "      <th>주차대수</th>\n",
              "      <th>인근지하철역개수</th>\n",
              "      <th>target</th>\n",
              "      <th>pred</th>\n",
              "      <th>error</th>\n",
              "    </tr>\n",
              "  </thead>\n",
              "  <tbody>\n",
              "    <tr>\n",
              "      <th>236663</th>\n",
              "      <td>1</td>\n",
              "      <td>268.670</td>\n",
              "      <td>0</td>\n",
              "      <td>0</td>\n",
              "      <td>2022</td>\n",
              "      <td>4</td>\n",
              "      <td>9</td>\n",
              "      <td>127.010279</td>\n",
              "      <td>37.532642</td>\n",
              "      <td>2020</td>\n",
              "      <td>1</td>\n",
              "      <td>1</td>\n",
              "      <td>3.486891</td>\n",
              "      <td>4</td>\n",
              "      <td>20</td>\n",
              "      <td>476.0</td>\n",
              "      <td>1</td>\n",
              "      <td>1350000.0</td>\n",
              "      <td>495668.065700</td>\n",
              "      <td>7.298831e+11</td>\n",
              "    </tr>\n",
              "    <tr>\n",
              "      <th>224567</th>\n",
              "      <td>2</td>\n",
              "      <td>273.960</td>\n",
              "      <td>0</td>\n",
              "      <td>0</td>\n",
              "      <td>2022</td>\n",
              "      <td>4</td>\n",
              "      <td>15</td>\n",
              "      <td>127.052217</td>\n",
              "      <td>37.526214</td>\n",
              "      <td>2020</td>\n",
              "      <td>1</td>\n",
              "      <td>1</td>\n",
              "      <td>2.339386</td>\n",
              "      <td>6</td>\n",
              "      <td>0</td>\n",
              "      <td>223.4</td>\n",
              "      <td>0</td>\n",
              "      <td>1450000.0</td>\n",
              "      <td>639957.365495</td>\n",
              "      <td>6.561691e+11</td>\n",
              "    </tr>\n",
              "    <tr>\n",
              "      <th>233420</th>\n",
              "      <td>8</td>\n",
              "      <td>264.546</td>\n",
              "      <td>1</td>\n",
              "      <td>3</td>\n",
              "      <td>2022</td>\n",
              "      <td>9</td>\n",
              "      <td>49</td>\n",
              "      <td>127.043853</td>\n",
              "      <td>37.544798</td>\n",
              "      <td>2020</td>\n",
              "      <td>1</td>\n",
              "      <td>1</td>\n",
              "      <td>0.684375</td>\n",
              "      <td>55</td>\n",
              "      <td>15</td>\n",
              "      <td>720.0</td>\n",
              "      <td>2</td>\n",
              "      <td>1300000.0</td>\n",
              "      <td>533438.628228</td>\n",
              "      <td>5.876163e+11</td>\n",
              "    </tr>\n",
              "    <tr>\n",
              "      <th>236662</th>\n",
              "      <td>3</td>\n",
              "      <td>268.950</td>\n",
              "      <td>0</td>\n",
              "      <td>0</td>\n",
              "      <td>2021</td>\n",
              "      <td>12</td>\n",
              "      <td>9</td>\n",
              "      <td>127.010279</td>\n",
              "      <td>37.532642</td>\n",
              "      <td>2020</td>\n",
              "      <td>1</td>\n",
              "      <td>1</td>\n",
              "      <td>3.486891</td>\n",
              "      <td>4</td>\n",
              "      <td>20</td>\n",
              "      <td>476.0</td>\n",
              "      <td>1</td>\n",
              "      <td>1200000.0</td>\n",
              "      <td>508960.861869</td>\n",
              "      <td>4.775351e+11</td>\n",
              "    </tr>\n",
              "    <tr>\n",
              "      <th>236661</th>\n",
              "      <td>3</td>\n",
              "      <td>268.670</td>\n",
              "      <td>0</td>\n",
              "      <td>0</td>\n",
              "      <td>2021</td>\n",
              "      <td>11</td>\n",
              "      <td>9</td>\n",
              "      <td>127.010279</td>\n",
              "      <td>37.532642</td>\n",
              "      <td>2020</td>\n",
              "      <td>1</td>\n",
              "      <td>1</td>\n",
              "      <td>3.486891</td>\n",
              "      <td>4</td>\n",
              "      <td>20</td>\n",
              "      <td>476.0</td>\n",
              "      <td>1</td>\n",
              "      <td>1170000.0</td>\n",
              "      <td>525334.979458</td>\n",
              "      <td>4.155930e+11</td>\n",
              "    </tr>\n",
              "    <tr>\n",
              "      <th>236660</th>\n",
              "      <td>3</td>\n",
              "      <td>268.950</td>\n",
              "      <td>0</td>\n",
              "      <td>0</td>\n",
              "      <td>2021</td>\n",
              "      <td>11</td>\n",
              "      <td>9</td>\n",
              "      <td>127.010279</td>\n",
              "      <td>37.532642</td>\n",
              "      <td>2020</td>\n",
              "      <td>1</td>\n",
              "      <td>1</td>\n",
              "      <td>3.486891</td>\n",
              "      <td>4</td>\n",
              "      <td>20</td>\n",
              "      <td>476.0</td>\n",
              "      <td>1</td>\n",
              "      <td>1150000.0</td>\n",
              "      <td>525334.979458</td>\n",
              "      <td>3.902064e+11</td>\n",
              "    </tr>\n",
              "    <tr>\n",
              "      <th>236258</th>\n",
              "      <td>22</td>\n",
              "      <td>240.305</td>\n",
              "      <td>1</td>\n",
              "      <td>3</td>\n",
              "      <td>2022</td>\n",
              "      <td>5</td>\n",
              "      <td>9</td>\n",
              "      <td>127.009496</td>\n",
              "      <td>37.536978</td>\n",
              "      <td>2011</td>\n",
              "      <td>1</td>\n",
              "      <td>1</td>\n",
              "      <td>3.629140</td>\n",
              "      <td>92</td>\n",
              "      <td>20</td>\n",
              "      <td>1717.0</td>\n",
              "      <td>0</td>\n",
              "      <td>1100000.0</td>\n",
              "      <td>476809.754377</td>\n",
              "      <td>3.883661e+11</td>\n",
              "    </tr>\n",
              "    <tr>\n",
              "      <th>288790</th>\n",
              "      <td>3</td>\n",
              "      <td>268.670</td>\n",
              "      <td>0</td>\n",
              "      <td>0</td>\n",
              "      <td>2021</td>\n",
              "      <td>9</td>\n",
              "      <td>9</td>\n",
              "      <td>127.010279</td>\n",
              "      <td>37.532642</td>\n",
              "      <td>2020</td>\n",
              "      <td>1</td>\n",
              "      <td>1</td>\n",
              "      <td>3.486891</td>\n",
              "      <td>4</td>\n",
              "      <td>20</td>\n",
              "      <td>476.0</td>\n",
              "      <td>1</td>\n",
              "      <td>1080000.0</td>\n",
              "      <td>488492.840736</td>\n",
              "      <td>3.498807e+11</td>\n",
              "    </tr>\n",
              "    <tr>\n",
              "      <th>221261</th>\n",
              "      <td>22</td>\n",
              "      <td>240.305</td>\n",
              "      <td>1</td>\n",
              "      <td>3</td>\n",
              "      <td>2023</td>\n",
              "      <td>3</td>\n",
              "      <td>9</td>\n",
              "      <td>127.009496</td>\n",
              "      <td>37.536978</td>\n",
              "      <td>2011</td>\n",
              "      <td>1</td>\n",
              "      <td>1</td>\n",
              "      <td>3.629140</td>\n",
              "      <td>92</td>\n",
              "      <td>20</td>\n",
              "      <td>1717.0</td>\n",
              "      <td>0</td>\n",
              "      <td>1100000.0</td>\n",
              "      <td>546491.175150</td>\n",
              "      <td>3.063720e+11</td>\n",
              "    </tr>\n",
              "    <tr>\n",
              "      <th>241238</th>\n",
              "      <td>2</td>\n",
              "      <td>273.960</td>\n",
              "      <td>0</td>\n",
              "      <td>0</td>\n",
              "      <td>2021</td>\n",
              "      <td>3</td>\n",
              "      <td>15</td>\n",
              "      <td>127.052217</td>\n",
              "      <td>37.526214</td>\n",
              "      <td>2020</td>\n",
              "      <td>1</td>\n",
              "      <td>1</td>\n",
              "      <td>2.339386</td>\n",
              "      <td>6</td>\n",
              "      <td>0</td>\n",
              "      <td>223.4</td>\n",
              "      <td>0</td>\n",
              "      <td>1150000.0</td>\n",
              "      <td>623246.674840</td>\n",
              "      <td>2.774691e+11</td>\n",
              "    </tr>\n",
              "  </tbody>\n",
              "</table>\n",
              "</div>"
            ],
            "text/plain": [
              "        도로명_실거래가순위     전용면적  k-복도유형  k-단지분류   계약년  계약월  동_실거래가순위         좌표X  \\\n",
              "236663           1  268.670       0       0  2022    4         9  127.010279   \n",
              "224567           2  273.960       0       0  2022    4        15  127.052217   \n",
              "233420           8  264.546       1       3  2022    9        49  127.043853   \n",
              "236662           3  268.950       0       0  2021   12         9  127.010279   \n",
              "236661           3  268.670       0       0  2021   11         9  127.010279   \n",
              "236660           3  268.950       0       0  2021   11         9  127.010279   \n",
              "236258          22  240.305       1       3  2022    5         9  127.009496   \n",
              "288790           3  268.670       0       0  2021    9         9  127.010279   \n",
              "221261          22  240.305       1       3  2023    3         9  127.009496   \n",
              "241238           2  273.960       0       0  2021    3        15  127.052217   \n",
              "\n",
              "              좌표Y  건축년도  부촌여부  상위아파트여부   대장아파트거리  도로_실거래가순위   구    주차대수  \\\n",
              "236663  37.532642  2020     1        1  3.486891          4  20   476.0   \n",
              "224567  37.526214  2020     1        1  2.339386          6   0   223.4   \n",
              "233420  37.544798  2020     1        1  0.684375         55  15   720.0   \n",
              "236662  37.532642  2020     1        1  3.486891          4  20   476.0   \n",
              "236661  37.532642  2020     1        1  3.486891          4  20   476.0   \n",
              "236660  37.532642  2020     1        1  3.486891          4  20   476.0   \n",
              "236258  37.536978  2011     1        1  3.629140         92  20  1717.0   \n",
              "288790  37.532642  2020     1        1  3.486891          4  20   476.0   \n",
              "221261  37.536978  2011     1        1  3.629140         92  20  1717.0   \n",
              "241238  37.526214  2020     1        1  2.339386          6   0   223.4   \n",
              "\n",
              "        인근지하철역개수     target           pred         error  \n",
              "236663         1  1350000.0  495668.065700  7.298831e+11  \n",
              "224567         0  1450000.0  639957.365495  6.561691e+11  \n",
              "233420         2  1300000.0  533438.628228  5.876163e+11  \n",
              "236662         1  1200000.0  508960.861869  4.775351e+11  \n",
              "236661         1  1170000.0  525334.979458  4.155930e+11  \n",
              "236660         1  1150000.0  525334.979458  3.902064e+11  \n",
              "236258         0  1100000.0  476809.754377  3.883661e+11  \n",
              "288790         1  1080000.0  488492.840736  3.498807e+11  \n",
              "221261         0  1100000.0  546491.175150  3.063720e+11  \n",
              "241238         0  1150000.0  623246.674840  2.774691e+11  "
            ]
          },
          "execution_count": 782,
          "metadata": {},
          "output_type": "execute_result"
        }
      ],
      "source": [
        "# Validation dataset에 target과 pred 값을 채워주도록 하겠습니다.\n",
        "X_val['target'] = y_val\n",
        "X_val['pred'] = pred\n",
        "\n",
        "# Squared_error를 계산하는 함수를 정의하겠습니다.\n",
        "def calculate_se(target, pred):\n",
        "    squared_errors = (target - pred) ** 2\n",
        "    return squared_errors\n",
        "\n",
        "# SE 계산\n",
        "squared_errors = calculate_se(X_val['target'], X_val['pred'])\n",
        "X_val['error'] = squared_errors\n",
        "\n",
        "# Error가 큰 순서대로 sorting 해 보겠습니다.\n",
        "X_val_sort = X_val.sort_values(by='error', ascending=False)    \n",
        "X_val_sort.head(10)"
      ]
    },
    {
      "cell_type": "markdown",
      "metadata": {
        "id": "Mms3pe564O6v"
      },
      "source": [
        "- 예측을 잘 하지 못한 top 100개의 데이터와 예측을 잘한 top 100개의 데이터를 비교해보겠습니다."
      ]
    },
    {
      "cell_type": "code",
      "execution_count": 783,
      "metadata": {
        "id": "xxEferiRIM8A"
      },
      "outputs": [],
      "source": [
        "# X_val_sort_top100 = X_val.sort_values(by='error', ascending=False).head(100)        # 예측을 잘 하지못한 top 100개의 data\n",
        "# X_val_sort_tail100 = X_val.sort_values(by='error', ascending=False).tail(100)       # 예측을 잘한 top 100개의 data\n",
        "\n",
        "# # 해석을 위해 레이블인코딩 된 변수를 복원해줍니다.\n",
        "# error_top100 = X_val_sort_top100.copy()\n",
        "# for column in categorical_columns_v2 :     # 앞서 레이블 인코딩에서 정의했던 categorical_columns_v2 범주형 변수 리스트를 사용합니다.\n",
        "#     error_top100[column] = label_encoders[column].inverse_transform(X_val_sort_top100[column])\n",
        "\n",
        "# best_top100 = X_val_sort_tail100.copy()\n",
        "# for column in categorical_columns_v2 :     # 앞서 레이블 인코딩에서 정의했던 categorical_columns_v2 범주형 변수 리스트를 사용합니다.\n",
        "#     best_top100[column] = label_encoders[column].inverse_transform(X_val_sort_tail100[column])\n",
        "\n",
        "# display(error_top100.head(1))\n",
        "# display(best_top100.head(1))"
      ]
    },
    {
      "cell_type": "markdown",
      "metadata": {
        "id": "K6gnHzd55c6f"
      },
      "source": [
        "- 이제 분포를 비교해보도록 하겠습니다."
      ]
    },
    {
      "cell_type": "code",
      "execution_count": 784,
      "metadata": {
        "colab": {
          "base_uri": "https://localhost:8080/",
          "height": 925
        },
        "id": "SyJJoEiu4kes",
        "outputId": "afd5876f-264e-4ad1-d2bf-cb400819c794"
      },
      "outputs": [],
      "source": [
        "# sns.boxplot(data = error_top100, x='target')\n",
        "# plt.title('The worst top100 prediction의 target 분포')\n",
        "# plt.show()\n",
        "\n",
        "# sns.boxplot(data = best_top100, x='target', color='orange')\n",
        "# plt.title('The best top100 prediction의 target 분포')\n",
        "# plt.show()"
      ]
    },
    {
      "cell_type": "markdown",
      "metadata": {
        "id": "gWnF219657Lc"
      },
      "source": [
        "- Taget 분포를 보니 좋은 예측을 보인 top 100개의 data보다 상대적으로 나쁜 예측을 보인 top 100 dataset들이 높은 가격을 보였음을 확인할 수 있습니다. 이에 대한 모델링 및 처리가 필요해보입니다."
      ]
    },
    {
      "cell_type": "code",
      "execution_count": 785,
      "metadata": {
        "colab": {
          "base_uri": "https://localhost:8080/",
          "height": 471
        },
        "id": "qOhsS3Cr6IuH",
        "outputId": "462592ff-31b6-4300-9edb-cbec64054deb"
      },
      "outputs": [],
      "source": [
        "# sns.histplot(data = error_top100, x='전용면적', alpha=0.5)\n",
        "# sns.histplot(data = best_top100, x='전용면적', color='orange', alpha=0.5)\n",
        "# plt.title('전용면적 분포 비교')\n",
        "# plt.show()"
      ]
    },
    {
      "cell_type": "markdown",
      "metadata": {
        "id": "XsMOOYc16jU8"
      },
      "source": [
        "- 전용면적 또한 나쁜 예측을 보인 집들이 더 넓음을 확인할 수 있습니다."
      ]
    },
    {
      "cell_type": "markdown",
      "metadata": {
        "id": "F0Ga4ljBNYIy"
      },
      "source": [
        "## 6. Inference"
      ]
    },
    {
      "cell_type": "code",
      "execution_count": 786,
      "metadata": {
        "colab": {
          "base_uri": "https://localhost:8080/",
          "height": 158
        },
        "id": "7LC7NuRaD_Dd",
        "outputId": "c2827163-dbdd-4c8c-d35b-1c325b8d14c0"
      },
      "outputs": [
        {
          "data": {
            "text/html": [
              "<div>\n",
              "<style scoped>\n",
              "    .dataframe tbody tr th:only-of-type {\n",
              "        vertical-align: middle;\n",
              "    }\n",
              "\n",
              "    .dataframe tbody tr th {\n",
              "        vertical-align: top;\n",
              "    }\n",
              "\n",
              "    .dataframe thead th {\n",
              "        text-align: right;\n",
              "    }\n",
              "</style>\n",
              "<table border=\"1\" class=\"dataframe\">\n",
              "  <thead>\n",
              "    <tr style=\"text-align: right;\">\n",
              "      <th></th>\n",
              "      <th>도로명_실거래가순위</th>\n",
              "      <th>전용면적</th>\n",
              "      <th>k-복도유형</th>\n",
              "      <th>k-단지분류</th>\n",
              "      <th>계약년</th>\n",
              "      <th>계약월</th>\n",
              "      <th>동_실거래가순위</th>\n",
              "      <th>좌표X</th>\n",
              "      <th>좌표Y</th>\n",
              "      <th>건축년도</th>\n",
              "      <th>부촌여부</th>\n",
              "      <th>상위아파트여부</th>\n",
              "      <th>대장아파트거리</th>\n",
              "      <th>도로_실거래가순위</th>\n",
              "      <th>구</th>\n",
              "      <th>주차대수</th>\n",
              "      <th>인근지하철역개수</th>\n",
              "      <th>계약년월일</th>\n",
              "      <th>target</th>\n",
              "    </tr>\n",
              "  </thead>\n",
              "  <tbody>\n",
              "    <tr>\n",
              "      <th>0</th>\n",
              "      <td>927</td>\n",
              "      <td>79.9700</td>\n",
              "      <td>1</td>\n",
              "      <td>3</td>\n",
              "      <td>2023</td>\n",
              "      <td>7</td>\n",
              "      <td>48</td>\n",
              "      <td>127.057210</td>\n",
              "      <td>37.476763</td>\n",
              "      <td>1987</td>\n",
              "      <td>0</td>\n",
              "      <td>0</td>\n",
              "      <td>6.578607</td>\n",
              "      <td>35</td>\n",
              "      <td>0</td>\n",
              "      <td>262.0</td>\n",
              "      <td>0</td>\n",
              "      <td>202333</td>\n",
              "      <td>NaN</td>\n",
              "    </tr>\n",
              "    <tr>\n",
              "      <th>1</th>\n",
              "      <td>1127</td>\n",
              "      <td>108.2017</td>\n",
              "      <td>1</td>\n",
              "      <td>3</td>\n",
              "      <td>2023</td>\n",
              "      <td>8</td>\n",
              "      <td>48</td>\n",
              "      <td>127.056394</td>\n",
              "      <td>37.484892</td>\n",
              "      <td>2021</td>\n",
              "      <td>0</td>\n",
              "      <td>0</td>\n",
              "      <td>5.734605</td>\n",
              "      <td>77</td>\n",
              "      <td>0</td>\n",
              "      <td>305.0</td>\n",
              "      <td>1</td>\n",
              "      <td>202323</td>\n",
              "      <td>NaN</td>\n",
              "    </tr>\n",
              "  </tbody>\n",
              "</table>\n",
              "</div>"
            ],
            "text/plain": [
              "   도로명_실거래가순위      전용면적  k-복도유형  k-단지분류   계약년  계약월  동_실거래가순위         좌표X  \\\n",
              "0         927   79.9700       1       3  2023    7        48  127.057210   \n",
              "1        1127  108.2017       1       3  2023    8        48  127.056394   \n",
              "\n",
              "         좌표Y  건축년도  부촌여부  상위아파트여부   대장아파트거리  도로_실거래가순위  구   주차대수  인근지하철역개수  \\\n",
              "0  37.476763  1987     0        0  6.578607         35  0  262.0         0   \n",
              "1  37.484892  2021     0        0  5.734605         77  0  305.0         1   \n",
              "\n",
              "    계약년월일  target  \n",
              "0  202333     NaN  \n",
              "1  202323     NaN  "
            ]
          },
          "execution_count": 786,
          "metadata": {},
          "output_type": "execute_result"
        }
      ],
      "source": [
        "dt_test.head(2)      # test dataset에 대한 inference를 진행해보겠습니다."
      ]
    },
    {
      "cell_type": "code",
      "execution_count": 787,
      "metadata": {
        "id": "0HXvn8ZSa1kt"
      },
      "outputs": [],
      "source": [
        "# 저장된 모델을 불러옵니다.\n",
        "with open('saved_model.pkl', 'rb') as f:\n",
        "    model = pickle.load(f)"
      ]
    },
    {
      "cell_type": "code",
      "execution_count": 788,
      "metadata": {},
      "outputs": [
        {
          "name": "stdout",
          "output_type": "stream",
          "text": [
            "CPU times: user 696 ms, sys: 0 ns, total: 696 ms\n",
            "Wall time: 74.3 ms\n"
          ]
        }
      ],
      "source": [
        "%%time\n",
        "X_test = dt_test.drop(['target', '계약년월일'], axis=1)\n",
        "\n",
        "# Test dataset에 대한 inference를 진행합니다.\n",
        "real_test_pred = model.predict(X_test)"
      ]
    },
    {
      "cell_type": "code",
      "execution_count": 789,
      "metadata": {
        "colab": {
          "base_uri": "https://localhost:8080/"
        },
        "id": "4M1QkrH_31zK",
        "outputId": "6c6f4635-50bb-4a2d-8453-56f700ec6140"
      },
      "outputs": [
        {
          "data": {
            "text/plain": [
              "array([186673.96336751, 274032.2415885 , 328273.55802638, ...,\n",
              "        79028.15205796,  69010.03381806,  68884.94481555])"
            ]
          },
          "execution_count": 789,
          "metadata": {},
          "output_type": "execute_result"
        }
      ],
      "source": [
        "real_test_pred          # 예측값들이 출력됨을 확인할 수 있습니다."
      ]
    },
    {
      "cell_type": "markdown",
      "metadata": {
        "id": "KlxtDBDNNa6Y"
      },
      "source": [
        "## 7. Output File Save"
      ]
    },
    {
      "cell_type": "code",
      "execution_count": 790,
      "metadata": {
        "id": "Tn36fIuB42aM"
      },
      "outputs": [],
      "source": [
        "# 앞서 예측한 예측값들을 저장합니다.\n",
        "preds_df = pd.DataFrame(real_test_pred.astype(int), columns=[\"target\"])\n",
        "preds_df.to_csv('output.csv', index=False)"
      ]
    }
  ],
  "metadata": {
    "colab": {
      "provenance": []
    },
    "kernelspec": {
      "display_name": "Python 3.10.13 ('base')",
      "language": "python",
      "name": "python3"
    },
    "language_info": {
      "codemirror_mode": {
        "name": "ipython",
        "version": 3
      },
      "file_extension": ".py",
      "mimetype": "text/x-python",
      "name": "python",
      "nbconvert_exporter": "python",
      "pygments_lexer": "ipython3",
      "version": "3.10.13"
    },
    "vscode": {
      "interpreter": {
        "hash": "d4d1e4263499bec80672ea0156c357c1ee493ec2b1c70f0acce89fc37c4a6abe"
      }
    }
  },
  "nbformat": 4,
  "nbformat_minor": 0
}
