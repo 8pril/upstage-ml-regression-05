{
  "cells": [
    {
      "cell_type": "markdown",
      "metadata": {
        "id": "92WHLz8346Yf"
      },
      "source": [
        "# **🏠 부동산 실거래가 Baseline code**\n",
        "> 부동산 실거래가 예측 대회에 오신 여러분 환영합니다! 🎉     \n",
        "> 아래 baseline에서는 RandomForest를 활용해 ML 방법론들을 실제 대회에 적용해보도록 하겠습니다.\n",
        "> 강의는 google colab으로 실행하였기에 아래의 베이스라인 코드와는 일부 차이가 있을 수 있습니다.\n",
        "\n",
        "## Contents\n",
        "- Library Import\n",
        "- Data Load\n",
        "- Data Preprocessing\n",
        "- Feature Engineering\n",
        "- Model Training\n",
        "- Inference\n",
        "- Output File Save\n"
      ]
    },
    {
      "cell_type": "markdown",
      "metadata": {
        "id": "2-DJzJjvO88V"
      },
      "source": [
        "## 1. Library Import\n",
        "- 필요한 라이브러리를 불러옵니다."
      ]
    },
    {
      "cell_type": "code",
      "execution_count": null,
      "metadata": {
        "colab": {
          "base_uri": "https://localhost:8080/"
        },
        "id": "PKs1Mj7OcWU0",
        "outputId": "13a11e66-d289-4a8d-92ea-44662577b813"
      },
      "outputs": [
        {
          "name": "stdout",
          "output_type": "stream",
          "text": [
            "Requirement already satisfied: eli5==0.13.0 in /opt/conda/lib/python3.10/site-packages (0.13.0)\n",
            "Requirement already satisfied: attrs>17.1.0 in /opt/conda/lib/python3.10/site-packages (from eli5==0.13.0) (23.1.0)\n",
            "Requirement already satisfied: jinja2>=3.0.0 in /opt/conda/lib/python3.10/site-packages (from eli5==0.13.0) (3.1.2)\n",
            "Requirement already satisfied: numpy>=1.9.0 in /opt/conda/lib/python3.10/site-packages (from eli5==0.13.0) (1.23.5)\n",
            "Requirement already satisfied: scipy in /opt/conda/lib/python3.10/site-packages (from eli5==0.13.0) (1.11.3)\n",
            "Requirement already satisfied: six in /opt/conda/lib/python3.10/site-packages (from eli5==0.13.0) (1.16.0)\n",
            "Requirement already satisfied: scikit-learn>=0.20 in /opt/conda/lib/python3.10/site-packages (from eli5==0.13.0) (1.2.2)\n",
            "Requirement already satisfied: graphviz in /opt/conda/lib/python3.10/site-packages (from eli5==0.13.0) (0.20.1)\n",
            "Requirement already satisfied: tabulate>=0.7.7 in /opt/conda/lib/python3.10/site-packages (from eli5==0.13.0) (0.9.0)\n",
            "Requirement already satisfied: MarkupSafe>=2.0 in /opt/conda/lib/python3.10/site-packages (from jinja2>=3.0.0->eli5==0.13.0) (2.1.1)\n",
            "Requirement already satisfied: joblib>=1.1.1 in /opt/conda/lib/python3.10/site-packages (from scikit-learn>=0.20->eli5==0.13.0) (1.3.2)\n",
            "Requirement already satisfied: threadpoolctl>=2.0.0 in /opt/conda/lib/python3.10/site-packages (from scikit-learn>=0.20->eli5==0.13.0) (3.2.0)\n"
          ]
        },
        {
          "name": "stdout",
          "output_type": "stream",
          "text": [
            "\u001b[33mWARNING: Running pip as the 'root' user can result in broken permissions and conflicting behaviour with the system package manager. It is recommended to use a virtual environment instead: https://pip.pypa.io/warnings/venv\u001b[0m\u001b[33m\n",
            "Reading package lists... Done\n",
            "Building dependency tree       \n",
            "Reading state information... Done\n",
            "fonts-nanum is already the newest version (20180306-3).\n",
            "0 upgraded, 0 newly installed, 0 to remove and 14 not upgraded.\n"
          ]
        }
      ],
      "source": [
        "!pip install eli5==0.13.0\n",
        "\n",
        "# 한글 폰트 사용을 위한 라이브러리입니다.\n",
        "!apt-get install -y fonts-nanum"
      ]
    },
    {
      "cell_type": "code",
      "execution_count": null,
      "metadata": {
        "id": "d-NiCLGs4ZpM"
      },
      "outputs": [],
      "source": [
        "# visualization\n",
        "import matplotlib.pyplot as plt\n",
        "import matplotlib.font_manager as fm\n",
        "fe = fm.FontEntry(\n",
        "    fname=r'/usr/share/fonts/truetype/nanum/NanumGothic.ttf', # ttf 파일이 저장되어 있는 경로\n",
        "    name='NanumBarunGothic')                        # 이 폰트의 원하는 이름 설정\n",
        "fm.fontManager.ttflist.insert(0, fe)              # Matplotlib에 폰트 추가\n",
        "plt.rcParams.update({'font.size': 10, 'font.family': 'NanumBarunGothic'}) # 폰트 설정\n",
        "plt.rc('font', family='NanumBarunGothic')\n",
        "import seaborn as sns\n",
        "\n",
        "# utils\n",
        "import pandas as pd\n",
        "import numpy as np\n",
        "from tqdm import tqdm\n",
        "import pickle\n",
        "import warnings;warnings.filterwarnings('ignore')\n",
        "from tqdm import tqdm\n",
        "\n",
        "# Model\n",
        "from sklearn.preprocessing import LabelEncoder\n",
        "from sklearn.model_selection import train_test_split\n",
        "from sklearn.metrics import mean_squared_error\n",
        "from sklearn.ensemble import RandomForestRegressor\n",
        "from sklearn.ensemble import RandomForestClassifier\n",
        "from sklearn import metrics\n",
        "\n",
        "import eli5\n",
        "from eli5.sklearn import PermutationImportance"
      ]
    },
    {
      "cell_type": "markdown",
      "metadata": {
        "id": "OPJvYT0OPAWS"
      },
      "source": [
        "## 2. Data Load"
      ]
    },
    {
      "cell_type": "markdown",
      "metadata": {
        "id": "vvwnwnpNJeR1"
      },
      "source": [
        "#### 2.1. 데이터 로드"
      ]
    },
    {
      "cell_type": "code",
      "execution_count": null,
      "metadata": {
        "colab": {
          "base_uri": "https://localhost:8080/"
        },
        "id": "hx6nk3N_4_Tk",
        "outputId": "9c28f726-84de-45cd-bd15-9f99a3de2907"
      },
      "outputs": [
        {
          "name": "stdout",
          "output_type": "stream",
          "text": [
            "Train data shape :  (1118822, 52) Test data shape :  (9272, 51)\n"
          ]
        }
      ],
      "source": [
        "# 필요한 데이터를 load 하겠습니다. 경로는 환경에 맞게 지정해주면 됩니다.\n",
        "base_path = '../'\n",
        "\n",
        "train_path = base_path + 'train.csv'\n",
        "test_path  = base_path + 'test.csv'\n",
        "\n",
        "df_train = pd.read_csv(train_path)\n",
        "df_test = pd.read_csv(test_path)\n",
        "\n",
        "# Train data와 Test data shape은 아래와 같습니다.\n",
        "print('Train data shape : ', df_train.shape, 'Test data shape : ', df_test.shape)"
      ]
    },
    {
      "cell_type": "code",
      "execution_count": null,
      "metadata": {
        "colab": {
          "base_uri": "https://localhost:8080/",
          "height": 342
        },
        "id": "RyiVjtA2631-",
        "outputId": "4c9e6e02-4566-417d-c521-7543e352e79d"
      },
      "outputs": [
        {
          "data": {
            "text/html": [
              "<div>\n",
              "<style scoped>\n",
              "    .dataframe tbody tr th:only-of-type {\n",
              "        vertical-align: middle;\n",
              "    }\n",
              "\n",
              "    .dataframe tbody tr th {\n",
              "        vertical-align: top;\n",
              "    }\n",
              "\n",
              "    .dataframe thead th {\n",
              "        text-align: right;\n",
              "    }\n",
              "</style>\n",
              "<table border=\"1\" class=\"dataframe\">\n",
              "  <thead>\n",
              "    <tr style=\"text-align: right;\">\n",
              "      <th></th>\n",
              "      <th>시군구</th>\n",
              "      <th>번지</th>\n",
              "      <th>본번</th>\n",
              "      <th>부번</th>\n",
              "      <th>아파트명</th>\n",
              "      <th>전용면적(㎡)</th>\n",
              "      <th>계약년월</th>\n",
              "      <th>계약일</th>\n",
              "      <th>층</th>\n",
              "      <th>건축년도</th>\n",
              "      <th>...</th>\n",
              "      <th>건축면적</th>\n",
              "      <th>주차대수</th>\n",
              "      <th>기타/의무/임대/임의=1/2/3/4</th>\n",
              "      <th>단지승인일</th>\n",
              "      <th>사용허가여부</th>\n",
              "      <th>관리비 업로드</th>\n",
              "      <th>좌표X</th>\n",
              "      <th>좌표Y</th>\n",
              "      <th>단지신청일</th>\n",
              "      <th>target</th>\n",
              "    </tr>\n",
              "  </thead>\n",
              "  <tbody>\n",
              "    <tr>\n",
              "      <th>0</th>\n",
              "      <td>서울특별시 강남구 개포동</td>\n",
              "      <td>658-1</td>\n",
              "      <td>658.0</td>\n",
              "      <td>1.0</td>\n",
              "      <td>개포6차우성</td>\n",
              "      <td>79.97</td>\n",
              "      <td>201712</td>\n",
              "      <td>8</td>\n",
              "      <td>3</td>\n",
              "      <td>1987</td>\n",
              "      <td>...</td>\n",
              "      <td>4858.0</td>\n",
              "      <td>262.0</td>\n",
              "      <td>임의</td>\n",
              "      <td>2022-11-17 13:00:29.0</td>\n",
              "      <td>Y</td>\n",
              "      <td>N</td>\n",
              "      <td>127.05721</td>\n",
              "      <td>37.476763</td>\n",
              "      <td>2022-11-17 10:19:06.0</td>\n",
              "      <td>124000</td>\n",
              "    </tr>\n",
              "  </tbody>\n",
              "</table>\n",
              "<p>1 rows × 52 columns</p>\n",
              "</div>"
            ],
            "text/plain": [
              "             시군구     번지     본번   부번    아파트명  전용면적(㎡)    계약년월  계약일  층  건축년도  \\\n",
              "0  서울특별시 강남구 개포동  658-1  658.0  1.0  개포6차우성    79.97  201712    8  3  1987   \n",
              "\n",
              "   ...    건축면적   주차대수 기타/의무/임대/임의=1/2/3/4                  단지승인일 사용허가여부  \\\n",
              "0  ...  4858.0  262.0                  임의  2022-11-17 13:00:29.0      Y   \n",
              "\n",
              "  관리비 업로드        좌표X        좌표Y                  단지신청일  target  \n",
              "0       N  127.05721  37.476763  2022-11-17 10:19:06.0  124000  \n",
              "\n",
              "[1 rows x 52 columns]"
            ]
          },
          "metadata": {},
          "output_type": "display_data"
        },
        {
          "data": {
            "text/html": [
              "<div>\n",
              "<style scoped>\n",
              "    .dataframe tbody tr th:only-of-type {\n",
              "        vertical-align: middle;\n",
              "    }\n",
              "\n",
              "    .dataframe tbody tr th {\n",
              "        vertical-align: top;\n",
              "    }\n",
              "\n",
              "    .dataframe thead th {\n",
              "        text-align: right;\n",
              "    }\n",
              "</style>\n",
              "<table border=\"1\" class=\"dataframe\">\n",
              "  <thead>\n",
              "    <tr style=\"text-align: right;\">\n",
              "      <th></th>\n",
              "      <th>시군구</th>\n",
              "      <th>번지</th>\n",
              "      <th>본번</th>\n",
              "      <th>부번</th>\n",
              "      <th>아파트명</th>\n",
              "      <th>전용면적(㎡)</th>\n",
              "      <th>계약년월</th>\n",
              "      <th>계약일</th>\n",
              "      <th>층</th>\n",
              "      <th>건축년도</th>\n",
              "      <th>...</th>\n",
              "      <th>청소비관리형태</th>\n",
              "      <th>건축면적</th>\n",
              "      <th>주차대수</th>\n",
              "      <th>기타/의무/임대/임의=1/2/3/4</th>\n",
              "      <th>단지승인일</th>\n",
              "      <th>사용허가여부</th>\n",
              "      <th>관리비 업로드</th>\n",
              "      <th>좌표X</th>\n",
              "      <th>좌표Y</th>\n",
              "      <th>단지신청일</th>\n",
              "    </tr>\n",
              "  </thead>\n",
              "  <tbody>\n",
              "    <tr>\n",
              "      <th>0</th>\n",
              "      <td>서울특별시 강남구 개포동</td>\n",
              "      <td>658-1</td>\n",
              "      <td>658.0</td>\n",
              "      <td>1.0</td>\n",
              "      <td>개포6차우성</td>\n",
              "      <td>79.97</td>\n",
              "      <td>202307</td>\n",
              "      <td>26</td>\n",
              "      <td>5</td>\n",
              "      <td>1987</td>\n",
              "      <td>...</td>\n",
              "      <td>직영</td>\n",
              "      <td>4858.0</td>\n",
              "      <td>262.0</td>\n",
              "      <td>임의</td>\n",
              "      <td>2022-11-17 13:00:29.0</td>\n",
              "      <td>Y</td>\n",
              "      <td>N</td>\n",
              "      <td>127.05721</td>\n",
              "      <td>37.476763</td>\n",
              "      <td>2022-11-17 10:19:06.0</td>\n",
              "    </tr>\n",
              "  </tbody>\n",
              "</table>\n",
              "<p>1 rows × 51 columns</p>\n",
              "</div>"
            ],
            "text/plain": [
              "             시군구     번지     본번   부번    아파트명  전용면적(㎡)    계약년월  계약일  층  건축년도  \\\n",
              "0  서울특별시 강남구 개포동  658-1  658.0  1.0  개포6차우성    79.97  202307   26  5  1987   \n",
              "\n",
              "   ... 청소비관리형태    건축면적   주차대수 기타/의무/임대/임의=1/2/3/4                  단지승인일  \\\n",
              "0  ...      직영  4858.0  262.0                  임의  2022-11-17 13:00:29.0   \n",
              "\n",
              "  사용허가여부 관리비 업로드        좌표X        좌표Y                  단지신청일  \n",
              "0      Y       N  127.05721  37.476763  2022-11-17 10:19:06.0  \n",
              "\n",
              "[1 rows x 51 columns]"
            ]
          },
          "metadata": {},
          "output_type": "display_data"
        }
      ],
      "source": [
        "# Train과 Test data를 살펴보겠습니다.\n",
        "display(df_train.head(1))\n",
        "display(df_test.head(1))       # 부동산 실거래가(=Target) column이 제외된 모습입니다."
      ]
    },
    {
      "cell_type": "code",
      "execution_count": null,
      "metadata": {
        "colab": {
          "base_uri": "https://localhost:8080/"
        },
        "id": "HU8xVz0fNn2o",
        "outputId": "790c32f1-73af-49ed-d121-11b2110baf4c"
      },
      "outputs": [
        {
          "data": {
            "text/plain": [
              "Index(['시군구', '번지', '본번', '부번', '아파트명', '전용면적(㎡)', '계약년월', '계약일', '층', '건축년도',\n",
              "       '도로명', '해제사유발생일', '등기신청일자', '거래유형', '중개사소재지', 'k-단지분류(아파트,주상복합등등)',\n",
              "       'k-전화번호', 'k-팩스번호', '단지소개기존clob', 'k-세대타입(분양형태)', 'k-관리방식', 'k-복도유형',\n",
              "       'k-난방방식', 'k-전체동수', 'k-전체세대수', 'k-건설사(시공사)', 'k-시행사', 'k-사용검사일-사용승인일',\n",
              "       'k-연면적', 'k-주거전용면적', 'k-관리비부과면적', 'k-전용면적별세대현황(60㎡이하)',\n",
              "       'k-전용면적별세대현황(60㎡~85㎡이하)', 'k-85㎡~135㎡이하', 'k-135㎡초과', 'k-홈페이지',\n",
              "       'k-등록일자', 'k-수정일자', '고용보험관리번호', '경비비관리형태', '세대전기계약방법', '청소비관리형태',\n",
              "       '건축면적', '주차대수', '기타/의무/임대/임의=1/2/3/4', '단지승인일', '사용허가여부', '관리비 업로드',\n",
              "       '좌표X', '좌표Y', '단지신청일', 'target'],\n",
              "      dtype='object')"
            ]
          },
          "execution_count": 282,
          "metadata": {},
          "output_type": "execute_result"
        }
      ],
      "source": [
        "df_train.columns"
      ]
    },
    {
      "cell_type": "markdown",
      "metadata": {
        "id": "KVjw5Cnz24nz"
      },
      "source": [
        "## 3. Data Preprocessing"
      ]
    },
    {
      "cell_type": "markdown",
      "metadata": {
        "id": "X24Y1OIR2_oa"
      },
      "source": [
        "- 모델링 전에 데이터 내 결측치, 이상치 등을 제거하고 범주형과 연속형 변수를 살펴보도록 하겠습니다!\n",
        "- 먼저, 용이한 전처리를 위해 train과 test data를 합친 하나의 데이터로 진행하도록 하겠습니다."
      ]
    },
    {
      "cell_type": "code",
      "execution_count": null,
      "metadata": {
        "colab": {
          "base_uri": "https://localhost:8080/"
        },
        "id": "vltXVoeRhZiI",
        "outputId": "c347af76-88b9-4f04-90b0-0b5eba426c5d"
      },
      "outputs": [
        {
          "data": {
            "text/plain": [
              "0    1118822\n",
              "1       9272\n",
              "Name: is_test, dtype: int64"
            ]
          },
          "execution_count": 283,
          "metadata": {},
          "output_type": "execute_result"
        }
      ],
      "source": [
        "# train/test 구분을 위한 칼럼을 하나 만들어 줍니다.\n",
        "df_train['is_test'] = 0\n",
        "df_test['is_test'] = 1\n",
        "df_concat = pd.concat([df_train, df_test])     # 하나의 데이터로 만들어줍니다.\n",
        "\n",
        "df_concat['is_test'].value_counts()    # 하나의 데이터로 만들어줍니다."
      ]
    },
    {
      "cell_type": "code",
      "execution_count": null,
      "metadata": {
        "colab": {
          "base_uri": "https://localhost:8080/",
          "height": 273
        },
        "id": "ZTc6lhBhOAhu",
        "outputId": "382790e0-0894-46ce-e654-9bf42c540153"
      },
      "outputs": [
        {
          "data": {
            "text/html": [
              "<div>\n",
              "<style scoped>\n",
              "    .dataframe tbody tr th:only-of-type {\n",
              "        vertical-align: middle;\n",
              "    }\n",
              "\n",
              "    .dataframe tbody tr th {\n",
              "        vertical-align: top;\n",
              "    }\n",
              "\n",
              "    .dataframe thead th {\n",
              "        text-align: right;\n",
              "    }\n",
              "</style>\n",
              "<table border=\"1\" class=\"dataframe\">\n",
              "  <thead>\n",
              "    <tr style=\"text-align: right;\">\n",
              "      <th></th>\n",
              "      <th>시군구</th>\n",
              "      <th>번지</th>\n",
              "      <th>본번</th>\n",
              "      <th>부번</th>\n",
              "      <th>아파트명</th>\n",
              "      <th>전용면적</th>\n",
              "      <th>계약년월</th>\n",
              "      <th>계약일</th>\n",
              "      <th>층</th>\n",
              "      <th>건축년도</th>\n",
              "      <th>...</th>\n",
              "      <th>청소비관리형태</th>\n",
              "      <th>건축면적</th>\n",
              "      <th>주차대수</th>\n",
              "      <th>기타/의무/임대/임의</th>\n",
              "      <th>사용허가여부</th>\n",
              "      <th>관리비업로드</th>\n",
              "      <th>좌표X</th>\n",
              "      <th>좌표Y</th>\n",
              "      <th>target</th>\n",
              "      <th>is_test</th>\n",
              "    </tr>\n",
              "  </thead>\n",
              "  <tbody>\n",
              "    <tr>\n",
              "      <th>0</th>\n",
              "      <td>서울특별시 강남구 개포동</td>\n",
              "      <td>658-1</td>\n",
              "      <td>658.0</td>\n",
              "      <td>1.0</td>\n",
              "      <td>개포6차우성</td>\n",
              "      <td>79.97</td>\n",
              "      <td>201712</td>\n",
              "      <td>8</td>\n",
              "      <td>3</td>\n",
              "      <td>1987</td>\n",
              "      <td>...</td>\n",
              "      <td>직영</td>\n",
              "      <td>4858.0</td>\n",
              "      <td>262.0</td>\n",
              "      <td>임의</td>\n",
              "      <td>Y</td>\n",
              "      <td>N</td>\n",
              "      <td>127.05721</td>\n",
              "      <td>37.476763</td>\n",
              "      <td>124000.0</td>\n",
              "      <td>0</td>\n",
              "    </tr>\n",
              "  </tbody>\n",
              "</table>\n",
              "<p>1 rows × 40 columns</p>\n",
              "</div>"
            ],
            "text/plain": [
              "             시군구     번지     본번   부번    아파트명   전용면적    계약년월  계약일  층  건축년도  ...  \\\n",
              "0  서울특별시 강남구 개포동  658-1  658.0  1.0  개포6차우성  79.97  201712    8  3  1987  ...   \n",
              "\n",
              "  청소비관리형태    건축면적   주차대수 기타/의무/임대/임의 사용허가여부 관리비업로드        좌표X        좌표Y  \\\n",
              "0      직영  4858.0  262.0          임의      Y      N  127.05721  37.476763   \n",
              "\n",
              "     target is_test  \n",
              "0  124000.0       0  \n",
              "\n",
              "[1 rows x 40 columns]"
            ]
          },
          "metadata": {},
          "output_type": "display_data"
        },
        {
          "data": {
            "text/html": [
              "<div>\n",
              "<style scoped>\n",
              "    .dataframe tbody tr th:only-of-type {\n",
              "        vertical-align: middle;\n",
              "    }\n",
              "\n",
              "    .dataframe tbody tr th {\n",
              "        vertical-align: top;\n",
              "    }\n",
              "\n",
              "    .dataframe thead th {\n",
              "        text-align: right;\n",
              "    }\n",
              "</style>\n",
              "<table border=\"1\" class=\"dataframe\">\n",
              "  <thead>\n",
              "    <tr style=\"text-align: right;\">\n",
              "      <th></th>\n",
              "      <th>시군구</th>\n",
              "      <th>번지</th>\n",
              "      <th>본번</th>\n",
              "      <th>부번</th>\n",
              "      <th>아파트명</th>\n",
              "      <th>전용면적</th>\n",
              "      <th>계약년월</th>\n",
              "      <th>계약일</th>\n",
              "      <th>층</th>\n",
              "      <th>건축년도</th>\n",
              "      <th>...</th>\n",
              "      <th>청소비관리형태</th>\n",
              "      <th>건축면적</th>\n",
              "      <th>주차대수</th>\n",
              "      <th>기타/의무/임대/임의</th>\n",
              "      <th>사용허가여부</th>\n",
              "      <th>관리비업로드</th>\n",
              "      <th>좌표X</th>\n",
              "      <th>좌표Y</th>\n",
              "      <th>target</th>\n",
              "      <th>is_test</th>\n",
              "    </tr>\n",
              "  </thead>\n",
              "  <tbody>\n",
              "    <tr>\n",
              "      <th>9271</th>\n",
              "      <td>서울특별시 중랑구 신내동</td>\n",
              "      <td>816</td>\n",
              "      <td>816.0</td>\n",
              "      <td>0.0</td>\n",
              "      <td>신내우디안1단지</td>\n",
              "      <td>84.65</td>\n",
              "      <td>202309</td>\n",
              "      <td>4</td>\n",
              "      <td>13</td>\n",
              "      <td>2014</td>\n",
              "      <td>...</td>\n",
              "      <td>위탁</td>\n",
              "      <td>14171.0</td>\n",
              "      <td>1568.0</td>\n",
              "      <td>의무</td>\n",
              "      <td>Y</td>\n",
              "      <td>N</td>\n",
              "      <td>127.10672</td>\n",
              "      <td>37.61887</td>\n",
              "      <td>NaN</td>\n",
              "      <td>1</td>\n",
              "    </tr>\n",
              "  </tbody>\n",
              "</table>\n",
              "<p>1 rows × 40 columns</p>\n",
              "</div>"
            ],
            "text/plain": [
              "                시군구   번지     본번   부번      아파트명   전용면적    계약년월  계약일   층  건축년도  \\\n",
              "9271  서울특별시 중랑구 신내동  816  816.0  0.0  신내우디안1단지  84.65  202309    4  13  2014   \n",
              "\n",
              "      ... 청소비관리형태     건축면적    주차대수 기타/의무/임대/임의 사용허가여부 관리비업로드        좌표X  \\\n",
              "9271  ...      위탁  14171.0  1568.0          의무      Y      N  127.10672   \n",
              "\n",
              "           좌표Y  target is_test  \n",
              "9271  37.61887     NaN       1  \n",
              "\n",
              "[1 rows x 40 columns]"
            ]
          },
          "metadata": {},
          "output_type": "display_data"
        }
      ],
      "source": [
        "# 칼럼 이름을 쉽게 바꿔주겠습니다. 다른 칼럼도 사용에 따라 바꿔주셔도 됩니다!\n",
        "df_concat = df_concat.rename(columns={'전용면적(㎡)':'전용면적'})\n",
        "df_concat = df_concat.rename(columns={'k-전용면적별세대현황(60㎡이하)':'k-전용면적별세대_60'})\n",
        "df_concat = df_concat.rename(columns={'k-전용면적별세대현황(60㎡~85㎡이하)':'k-전용면적별세대_60_85'})\n",
        "df_concat = df_concat.rename(columns={'k-85㎡~135㎡이하':'k-전용면적별세대_85_135'})\n",
        "df_concat = df_concat.rename(columns={'k-135㎡초과':'k-전용면적별세대_135'})\n",
        "df_concat = df_concat.rename(columns={'k-단지분류(아파트,주상복합등등)':'k-단지분류'})\n",
        "df_concat = df_concat.rename(columns={'k-세대타입(분양형태)':'k-분양형태'})\n",
        "df_concat = df_concat.rename(columns={'k-건설사(시공사)':'k-시공사'})\n",
        "df_concat = df_concat.rename(columns={'기타/의무/임대/임의=1/2/3/4':'기타/의무/임대/임의'})\n",
        "df_concat = df_concat.rename(columns={'관리비 업로드':'관리비업로드'})\n",
        "\n",
        "# 본번, 부번의 경우 float로 되어있지만 범주형 변수의 의미를 가지므로 object(string) 형태로 바꾸어주고 아래 작업을 진행하겠습니다.\n",
        "# .astype(str)을 수행할 시 np.nan이 문자열 'nan'으로 대체되기 때문데 결측치로 인식되지 않는 문제 발생\n",
        "df_concat['본번'] = df_concat['본번'].astype(object)\n",
        "df_concat['부번'] = df_concat['부번'].astype(object)\n",
        "\n",
        "# 필요 없는 컬럼 제거\n",
        "df_concat = df_concat.drop(['k-전화번호', 'k-팩스번호', '단지소개기존clob', 'k-홈페이지',\n",
        "                            '고용보험관리번호', '중개사소재지', 'k-수정일자', 'k-등록일자',\n",
        "                            '해제사유발생일', '등기신청일자', 'k-사용검사일-사용승인일', '단지신청일', '단지승인일',\n",
        "                            ], axis=1)\n",
        "\n",
        "display(df_concat.head(1))\n",
        "display(df_concat.tail(1))"
      ]
    },
    {
      "cell_type": "code",
      "execution_count": null,
      "metadata": {
        "colab": {
          "base_uri": "https://localhost:8080/"
        },
        "id": "evvyKWLoNn2q",
        "outputId": "4bd78927-97a7-47f0-adc8-9d29412d9a2b"
      },
      "outputs": [
        {
          "name": "stdout",
          "output_type": "stream",
          "text": [
            "<class 'pandas.core.frame.DataFrame'>\n",
            "Int64Index: 1128094 entries, 0 to 9271\n",
            "Data columns (total 40 columns):\n",
            " #   Column            Non-Null Count    Dtype  \n",
            "---  ------            --------------    -----  \n",
            " 0   시군구               1128094 non-null  object \n",
            " 1   번지                1127867 non-null  object \n",
            " 2   본번                1128019 non-null  object \n",
            " 3   부번                1128019 non-null  object \n",
            " 4   아파트명              1125958 non-null  object \n",
            " 5   전용면적              1128094 non-null  float64\n",
            " 6   계약년월              1128094 non-null  int64  \n",
            " 7   계약일               1128094 non-null  int64  \n",
            " 8   층                 1128094 non-null  int64  \n",
            " 9   건축년도              1128094 non-null  int64  \n",
            " 10  도로명               1128094 non-null  object \n",
            " 11  거래유형              1128094 non-null  object \n",
            " 12  k-단지분류            250821 non-null   object \n",
            " 13  k-분양형태            251969 non-null   object \n",
            " 14  k-관리방식            251969 non-null   object \n",
            " 15  k-복도유형            251640 non-null   object \n",
            " 16  k-난방방식            251969 non-null   object \n",
            " 17  k-전체동수            250887 non-null   float64\n",
            " 18  k-전체세대수           251969 non-null   float64\n",
            " 19  k-시공사             250457 non-null   object \n",
            " 20  k-시행사             250260 non-null   object \n",
            " 21  k-연면적             251969 non-null   float64\n",
            " 22  k-주거전용면적          251924 non-null   float64\n",
            " 23  k-관리비부과면적         251969 non-null   float64\n",
            " 24  k-전용면적별세대_60      251924 non-null   float64\n",
            " 25  k-전용면적별세대_60_85   251924 non-null   float64\n",
            " 26  k-전용면적별세대_85_135  251924 non-null   float64\n",
            " 27  k-전용면적별세대_135     329 non-null      float64\n",
            " 28  경비비관리형태           250533 non-null   object \n",
            " 29  세대전기계약방법          242705 non-null   object \n",
            " 30  청소비관리형태           250343 non-null   object \n",
            " 31  건축면적              251815 non-null   float64\n",
            " 32  주차대수              251817 non-null   float64\n",
            " 33  기타/의무/임대/임의       251969 non-null   object \n",
            " 34  사용허가여부            251969 non-null   object \n",
            " 35  관리비업로드            251969 non-null   object \n",
            " 36  좌표X               251862 non-null   float64\n",
            " 37  좌표Y               251862 non-null   float64\n",
            " 38  target            1118822 non-null  float64\n",
            " 39  is_test           1128094 non-null  int64  \n",
            "dtypes: float64(15), int64(5), object(20)\n",
            "memory usage: 352.9+ MB\n"
          ]
        }
      ],
      "source": [
        "df_concat.info()"
      ]
    },
    {
      "cell_type": "markdown",
      "metadata": {
        "id": "4Gd0lrf2Nn2q"
      },
      "source": [
        "### EDA"
      ]
    },
    {
      "cell_type": "markdown",
      "metadata": {
        "id": "r7ZM2-UrNn2q"
      },
      "source": [
        "#### 변수 분포 확인"
      ]
    },
    {
      "cell_type": "code",
      "execution_count": null,
      "metadata": {
        "colab": {
          "base_uri": "https://localhost:8080/"
        },
        "id": "ei-NFFfFNn2q",
        "outputId": "98727bd1-5ce0-466c-a2a5-1ad1d92b1e2b"
      },
      "outputs": [
        {
          "data": {
            "text/plain": [
              "Index(['k-관리비부과면적', 'k-연면적', 'k-전용면적별세대_135', 'k-전용면적별세대_60',\n",
              "       'k-전용면적별세대_60_85', 'k-전용면적별세대_85_135', 'k-전체동수', 'k-전체세대수', 'k-주거전용면적',\n",
              "       '건축년도', '건축면적', '계약년월', '계약일', '전용면적', '좌표X', '좌표Y', '주차대수', '층'],\n",
              "      dtype='object')"
            ]
          },
          "execution_count": 286,
          "metadata": {},
          "output_type": "execute_result"
        }
      ],
      "source": [
        "df_train = df_concat.query('is_test == 0').drop('is_test', axis=1)\n",
        "num_cols = df_concat.select_dtypes(include=['number']).columns.difference(['target', 'is_test'])\n",
        "num_cols\n",
        "\n",
        "# 히스토그램으로 각 변수의 분포 확인\n",
        "# fig, axes = plt.subplots(6, 3, figsize=(20, 30))\n",
        "# for i, col in enumerate(num_cols):\n",
        "#     sns.histplot(df_train[col], ax=axes[i//3, i%3], kde=True)\n",
        "#     axes[i//3, i%3].set_title(col)\n",
        "\n",
        "# plt.tight_layout()\n",
        "# plt.show()"
      ]
    },
    {
      "cell_type": "code",
      "execution_count": null,
      "metadata": {
        "colab": {
          "base_uri": "https://localhost:8080/"
        },
        "id": "4-AmDl_UNn2r",
        "outputId": "d70b6b09-6fbc-4281-e4b8-be4f6ab8bb49"
      },
      "outputs": [
        {
          "name": "stdout",
          "output_type": "stream",
          "text": [
            "0의 개수가 10000개 이상인 열: Index(['k-전용면적별세대_60', 'k-전용면적별세대_60_85', 'k-전용면적별세대_85_135', '건축면적', '주차대수'], dtype='object')\n"
          ]
        }
      ],
      "source": [
        "# 0의 개수가 10000개 이상인 열 선택\n",
        "zero_counts = (df_train[num_cols] == 0).sum()\n",
        "columns_with_10000_zeros = zero_counts[zero_counts >= 10000].index\n",
        "\n",
        "print(\"0의 개수가 10000개 이상인 열:\", columns_with_10000_zeros)"
      ]
    },
    {
      "cell_type": "markdown",
      "metadata": {
        "id": "b5olgJPANn2r"
      },
      "source": [
        "0의 개수가 10000개 이상인 열: Index(['k-전용면적별세대_60', 'k-전용면적별세대_60_85', 'k-전용면적별세대_85_135', '건축면적', '주차대수'], dtype='object')\n",
        "\n",
        "- k-전용면적별세대_60, k-전용면적별세대_60_85, k-전용면적별세대_85_135: 실제 값이 0인 것으로 보임\n",
        "- 건축면적, 주차대수: 0이 결측치일 가능성, 그렇다면 아파트 단지 정보이므로 해당 아파트 실제 값으로 대체 가능"
      ]
    },
    {
      "cell_type": "markdown",
      "metadata": {
        "id": "MzXMj4lHNn2r"
      },
      "source": [
        "#### 상관관계 분석"
      ]
    },
    {
      "cell_type": "code",
      "execution_count": null,
      "metadata": {
        "colab": {
          "base_uri": "https://localhost:8080/",
          "height": 1000
        },
        "id": "4PiSLLqhNn2s",
        "outputId": "21b13884-bb10-48d3-b9c9-55d0415b1ed0"
      },
      "outputs": [
        {
          "data": {
            "text/html": [
              "<div>\n",
              "<style scoped>\n",
              "    .dataframe tbody tr th:only-of-type {\n",
              "        vertical-align: middle;\n",
              "    }\n",
              "\n",
              "    .dataframe tbody tr th {\n",
              "        vertical-align: top;\n",
              "    }\n",
              "\n",
              "    .dataframe thead th {\n",
              "        text-align: right;\n",
              "    }\n",
              "</style>\n",
              "<table border=\"1\" class=\"dataframe\">\n",
              "  <thead>\n",
              "    <tr style=\"text-align: right;\">\n",
              "      <th></th>\n",
              "      <th>전용면적</th>\n",
              "      <th>계약년월</th>\n",
              "      <th>계약일</th>\n",
              "      <th>층</th>\n",
              "      <th>건축년도</th>\n",
              "      <th>k-전체동수</th>\n",
              "      <th>k-전체세대수</th>\n",
              "      <th>k-연면적</th>\n",
              "      <th>k-주거전용면적</th>\n",
              "      <th>k-관리비부과면적</th>\n",
              "      <th>k-전용면적별세대_60</th>\n",
              "      <th>k-전용면적별세대_60_85</th>\n",
              "      <th>k-전용면적별세대_85_135</th>\n",
              "      <th>k-전용면적별세대_135</th>\n",
              "      <th>건축면적</th>\n",
              "      <th>주차대수</th>\n",
              "      <th>좌표X</th>\n",
              "      <th>좌표Y</th>\n",
              "      <th>target</th>\n",
              "    </tr>\n",
              "  </thead>\n",
              "  <tbody>\n",
              "    <tr>\n",
              "      <th>전용면적</th>\n",
              "      <td>1.000000</td>\n",
              "      <td>0.027772</td>\n",
              "      <td>0.003779</td>\n",
              "      <td>0.103043</td>\n",
              "      <td>0.077800</td>\n",
              "      <td>0.013114</td>\n",
              "      <td>-0.041638</td>\n",
              "      <td>0.167118</td>\n",
              "      <td>0.151954</td>\n",
              "      <td>0.136666</td>\n",
              "      <td>-0.352161</td>\n",
              "      <td>0.084654</td>\n",
              "      <td>0.292026</td>\n",
              "      <td>NaN</td>\n",
              "      <td>0.013637</td>\n",
              "      <td>0.223025</td>\n",
              "      <td>0.025209</td>\n",
              "      <td>-0.125177</td>\n",
              "      <td>0.577041</td>\n",
              "    </tr>\n",
              "    <tr>\n",
              "      <th>계약년월</th>\n",
              "      <td>0.027772</td>\n",
              "      <td>1.000000</td>\n",
              "      <td>0.007407</td>\n",
              "      <td>0.049182</td>\n",
              "      <td>0.163895</td>\n",
              "      <td>-0.001964</td>\n",
              "      <td>0.005142</td>\n",
              "      <td>0.041885</td>\n",
              "      <td>0.017978</td>\n",
              "      <td>0.023066</td>\n",
              "      <td>-0.032039</td>\n",
              "      <td>0.030042</td>\n",
              "      <td>0.037717</td>\n",
              "      <td>NaN</td>\n",
              "      <td>0.059260</td>\n",
              "      <td>0.068993</td>\n",
              "      <td>-0.001159</td>\n",
              "      <td>-0.024085</td>\n",
              "      <td>0.344665</td>\n",
              "    </tr>\n",
              "    <tr>\n",
              "      <th>계약일</th>\n",
              "      <td>0.003779</td>\n",
              "      <td>0.007407</td>\n",
              "      <td>1.000000</td>\n",
              "      <td>0.001685</td>\n",
              "      <td>0.003002</td>\n",
              "      <td>0.000316</td>\n",
              "      <td>-0.000095</td>\n",
              "      <td>0.003487</td>\n",
              "      <td>0.001351</td>\n",
              "      <td>0.001127</td>\n",
              "      <td>-0.002448</td>\n",
              "      <td>0.001233</td>\n",
              "      <td>0.002015</td>\n",
              "      <td>NaN</td>\n",
              "      <td>0.001267</td>\n",
              "      <td>0.004863</td>\n",
              "      <td>-0.002480</td>\n",
              "      <td>-0.000329</td>\n",
              "      <td>0.009348</td>\n",
              "    </tr>\n",
              "    <tr>\n",
              "      <th>층</th>\n",
              "      <td>0.103043</td>\n",
              "      <td>0.049182</td>\n",
              "      <td>0.001685</td>\n",
              "      <td>1.000000</td>\n",
              "      <td>0.190674</td>\n",
              "      <td>-0.056793</td>\n",
              "      <td>0.011126</td>\n",
              "      <td>0.106918</td>\n",
              "      <td>0.066612</td>\n",
              "      <td>0.072341</td>\n",
              "      <td>-0.108475</td>\n",
              "      <td>0.080472</td>\n",
              "      <td>0.094631</td>\n",
              "      <td>NaN</td>\n",
              "      <td>0.008078</td>\n",
              "      <td>0.119311</td>\n",
              "      <td>0.018176</td>\n",
              "      <td>-0.062480</td>\n",
              "      <td>0.153176</td>\n",
              "    </tr>\n",
              "    <tr>\n",
              "      <th>건축년도</th>\n",
              "      <td>0.077800</td>\n",
              "      <td>0.163895</td>\n",
              "      <td>0.003002</td>\n",
              "      <td>0.190674</td>\n",
              "      <td>1.000000</td>\n",
              "      <td>-0.112887</td>\n",
              "      <td>-0.189193</td>\n",
              "      <td>0.063101</td>\n",
              "      <td>-0.082714</td>\n",
              "      <td>-0.065802</td>\n",
              "      <td>-0.304461</td>\n",
              "      <td>-0.009125</td>\n",
              "      <td>0.124142</td>\n",
              "      <td>NaN</td>\n",
              "      <td>0.121911</td>\n",
              "      <td>0.142760</td>\n",
              "      <td>-0.026184</td>\n",
              "      <td>-0.013924</td>\n",
              "      <td>0.056041</td>\n",
              "    </tr>\n",
              "    <tr>\n",
              "      <th>k-전체동수</th>\n",
              "      <td>0.013114</td>\n",
              "      <td>-0.001964</td>\n",
              "      <td>0.000316</td>\n",
              "      <td>-0.056793</td>\n",
              "      <td>-0.112887</td>\n",
              "      <td>1.000000</td>\n",
              "      <td>0.866366</td>\n",
              "      <td>0.681231</td>\n",
              "      <td>0.785901</td>\n",
              "      <td>0.753234</td>\n",
              "      <td>0.635251</td>\n",
              "      <td>0.505509</td>\n",
              "      <td>0.408712</td>\n",
              "      <td>NaN</td>\n",
              "      <td>0.033144</td>\n",
              "      <td>0.455831</td>\n",
              "      <td>0.104866</td>\n",
              "      <td>-0.150473</td>\n",
              "      <td>0.234470</td>\n",
              "    </tr>\n",
              "    <tr>\n",
              "      <th>k-전체세대수</th>\n",
              "      <td>-0.041638</td>\n",
              "      <td>0.005142</td>\n",
              "      <td>-0.000095</td>\n",
              "      <td>0.011126</td>\n",
              "      <td>-0.189193</td>\n",
              "      <td>0.866366</td>\n",
              "      <td>1.000000</td>\n",
              "      <td>0.817471</td>\n",
              "      <td>0.929210</td>\n",
              "      <td>0.921836</td>\n",
              "      <td>0.611972</td>\n",
              "      <td>0.726240</td>\n",
              "      <td>0.455970</td>\n",
              "      <td>NaN</td>\n",
              "      <td>0.030771</td>\n",
              "      <td>0.607700</td>\n",
              "      <td>0.129456</td>\n",
              "      <td>-0.117954</td>\n",
              "      <td>0.217512</td>\n",
              "    </tr>\n",
              "    <tr>\n",
              "      <th>k-연면적</th>\n",
              "      <td>0.167118</td>\n",
              "      <td>0.041885</td>\n",
              "      <td>0.003487</td>\n",
              "      <td>0.106918</td>\n",
              "      <td>0.063101</td>\n",
              "      <td>0.681231</td>\n",
              "      <td>0.817471</td>\n",
              "      <td>1.000000</td>\n",
              "      <td>0.902912</td>\n",
              "      <td>0.905407</td>\n",
              "      <td>0.232794</td>\n",
              "      <td>0.731519</td>\n",
              "      <td>0.590172</td>\n",
              "      <td>NaN</td>\n",
              "      <td>0.044601</td>\n",
              "      <td>0.704097</td>\n",
              "      <td>0.115272</td>\n",
              "      <td>-0.138916</td>\n",
              "      <td>0.343594</td>\n",
              "    </tr>\n",
              "    <tr>\n",
              "      <th>k-주거전용면적</th>\n",
              "      <td>0.151954</td>\n",
              "      <td>0.017978</td>\n",
              "      <td>0.001351</td>\n",
              "      <td>0.066612</td>\n",
              "      <td>-0.082714</td>\n",
              "      <td>0.785901</td>\n",
              "      <td>0.929210</td>\n",
              "      <td>0.902912</td>\n",
              "      <td>1.000000</td>\n",
              "      <td>0.991215</td>\n",
              "      <td>0.322934</td>\n",
              "      <td>0.771122</td>\n",
              "      <td>0.625343</td>\n",
              "      <td>NaN</td>\n",
              "      <td>0.028943</td>\n",
              "      <td>0.746538</td>\n",
              "      <td>0.140399</td>\n",
              "      <td>-0.173449</td>\n",
              "      <td>0.334076</td>\n",
              "    </tr>\n",
              "    <tr>\n",
              "      <th>k-관리비부과면적</th>\n",
              "      <td>0.136666</td>\n",
              "      <td>0.023066</td>\n",
              "      <td>0.001127</td>\n",
              "      <td>0.072341</td>\n",
              "      <td>-0.065802</td>\n",
              "      <td>0.753234</td>\n",
              "      <td>0.921836</td>\n",
              "      <td>0.905407</td>\n",
              "      <td>0.991215</td>\n",
              "      <td>1.000000</td>\n",
              "      <td>0.301655</td>\n",
              "      <td>0.794802</td>\n",
              "      <td>0.622032</td>\n",
              "      <td>NaN</td>\n",
              "      <td>0.009386</td>\n",
              "      <td>0.743562</td>\n",
              "      <td>0.140154</td>\n",
              "      <td>-0.164813</td>\n",
              "      <td>0.316773</td>\n",
              "    </tr>\n",
              "    <tr>\n",
              "      <th>k-전용면적별세대_60</th>\n",
              "      <td>-0.352161</td>\n",
              "      <td>-0.032039</td>\n",
              "      <td>-0.002448</td>\n",
              "      <td>-0.108475</td>\n",
              "      <td>-0.304461</td>\n",
              "      <td>0.635251</td>\n",
              "      <td>0.611972</td>\n",
              "      <td>0.232794</td>\n",
              "      <td>0.322934</td>\n",
              "      <td>0.301655</td>\n",
              "      <td>1.000000</td>\n",
              "      <td>0.013325</td>\n",
              "      <td>-0.069085</td>\n",
              "      <td>NaN</td>\n",
              "      <td>0.012816</td>\n",
              "      <td>0.067824</td>\n",
              "      <td>0.016768</td>\n",
              "      <td>0.056503</td>\n",
              "      <td>-0.069019</td>\n",
              "    </tr>\n",
              "    <tr>\n",
              "      <th>k-전용면적별세대_60_85</th>\n",
              "      <td>0.084654</td>\n",
              "      <td>0.030042</td>\n",
              "      <td>0.001233</td>\n",
              "      <td>0.080472</td>\n",
              "      <td>-0.009125</td>\n",
              "      <td>0.505509</td>\n",
              "      <td>0.726240</td>\n",
              "      <td>0.731519</td>\n",
              "      <td>0.771122</td>\n",
              "      <td>0.794802</td>\n",
              "      <td>0.013325</td>\n",
              "      <td>1.000000</td>\n",
              "      <td>0.346177</td>\n",
              "      <td>NaN</td>\n",
              "      <td>0.027191</td>\n",
              "      <td>0.525127</td>\n",
              "      <td>0.136305</td>\n",
              "      <td>-0.147850</td>\n",
              "      <td>0.229618</td>\n",
              "    </tr>\n",
              "    <tr>\n",
              "      <th>k-전용면적별세대_85_135</th>\n",
              "      <td>0.292026</td>\n",
              "      <td>0.037717</td>\n",
              "      <td>0.002015</td>\n",
              "      <td>0.094631</td>\n",
              "      <td>0.124142</td>\n",
              "      <td>0.408712</td>\n",
              "      <td>0.455970</td>\n",
              "      <td>0.590172</td>\n",
              "      <td>0.625343</td>\n",
              "      <td>0.622032</td>\n",
              "      <td>-0.069085</td>\n",
              "      <td>0.346177</td>\n",
              "      <td>1.000000</td>\n",
              "      <td>NaN</td>\n",
              "      <td>0.049028</td>\n",
              "      <td>0.650161</td>\n",
              "      <td>0.080976</td>\n",
              "      <td>-0.127508</td>\n",
              "      <td>0.257145</td>\n",
              "    </tr>\n",
              "    <tr>\n",
              "      <th>k-전용면적별세대_135</th>\n",
              "      <td>NaN</td>\n",
              "      <td>NaN</td>\n",
              "      <td>NaN</td>\n",
              "      <td>NaN</td>\n",
              "      <td>NaN</td>\n",
              "      <td>NaN</td>\n",
              "      <td>NaN</td>\n",
              "      <td>NaN</td>\n",
              "      <td>NaN</td>\n",
              "      <td>NaN</td>\n",
              "      <td>NaN</td>\n",
              "      <td>NaN</td>\n",
              "      <td>NaN</td>\n",
              "      <td>NaN</td>\n",
              "      <td>NaN</td>\n",
              "      <td>NaN</td>\n",
              "      <td>NaN</td>\n",
              "      <td>NaN</td>\n",
              "      <td>NaN</td>\n",
              "    </tr>\n",
              "    <tr>\n",
              "      <th>건축면적</th>\n",
              "      <td>0.013637</td>\n",
              "      <td>0.059260</td>\n",
              "      <td>0.001267</td>\n",
              "      <td>0.008078</td>\n",
              "      <td>0.121911</td>\n",
              "      <td>0.033144</td>\n",
              "      <td>0.030771</td>\n",
              "      <td>0.044601</td>\n",
              "      <td>0.028943</td>\n",
              "      <td>0.009386</td>\n",
              "      <td>0.012816</td>\n",
              "      <td>0.027191</td>\n",
              "      <td>0.049028</td>\n",
              "      <td>NaN</td>\n",
              "      <td>1.000000</td>\n",
              "      <td>0.063022</td>\n",
              "      <td>0.005625</td>\n",
              "      <td>0.054275</td>\n",
              "      <td>0.026273</td>\n",
              "    </tr>\n",
              "    <tr>\n",
              "      <th>주차대수</th>\n",
              "      <td>0.223025</td>\n",
              "      <td>0.068993</td>\n",
              "      <td>0.004863</td>\n",
              "      <td>0.119311</td>\n",
              "      <td>0.142760</td>\n",
              "      <td>0.455831</td>\n",
              "      <td>0.607700</td>\n",
              "      <td>0.704097</td>\n",
              "      <td>0.746538</td>\n",
              "      <td>0.743562</td>\n",
              "      <td>0.067824</td>\n",
              "      <td>0.525127</td>\n",
              "      <td>0.650161</td>\n",
              "      <td>NaN</td>\n",
              "      <td>0.063022</td>\n",
              "      <td>1.000000</td>\n",
              "      <td>0.037555</td>\n",
              "      <td>-0.136984</td>\n",
              "      <td>0.348141</td>\n",
              "    </tr>\n",
              "    <tr>\n",
              "      <th>좌표X</th>\n",
              "      <td>0.025209</td>\n",
              "      <td>-0.001159</td>\n",
              "      <td>-0.002480</td>\n",
              "      <td>0.018176</td>\n",
              "      <td>-0.026184</td>\n",
              "      <td>0.104866</td>\n",
              "      <td>0.129456</td>\n",
              "      <td>0.115272</td>\n",
              "      <td>0.140399</td>\n",
              "      <td>0.140154</td>\n",
              "      <td>0.016768</td>\n",
              "      <td>0.136305</td>\n",
              "      <td>0.080976</td>\n",
              "      <td>NaN</td>\n",
              "      <td>0.005625</td>\n",
              "      <td>0.037555</td>\n",
              "      <td>1.000000</td>\n",
              "      <td>0.062907</td>\n",
              "      <td>0.135471</td>\n",
              "    </tr>\n",
              "    <tr>\n",
              "      <th>좌표Y</th>\n",
              "      <td>-0.125177</td>\n",
              "      <td>-0.024085</td>\n",
              "      <td>-0.000329</td>\n",
              "      <td>-0.062480</td>\n",
              "      <td>-0.013924</td>\n",
              "      <td>-0.150473</td>\n",
              "      <td>-0.117954</td>\n",
              "      <td>-0.138916</td>\n",
              "      <td>-0.173449</td>\n",
              "      <td>-0.164813</td>\n",
              "      <td>0.056503</td>\n",
              "      <td>-0.147850</td>\n",
              "      <td>-0.127508</td>\n",
              "      <td>NaN</td>\n",
              "      <td>0.054275</td>\n",
              "      <td>-0.136984</td>\n",
              "      <td>0.062907</td>\n",
              "      <td>1.000000</td>\n",
              "      <td>-0.312180</td>\n",
              "    </tr>\n",
              "    <tr>\n",
              "      <th>target</th>\n",
              "      <td>0.577041</td>\n",
              "      <td>0.344665</td>\n",
              "      <td>0.009348</td>\n",
              "      <td>0.153176</td>\n",
              "      <td>0.056041</td>\n",
              "      <td>0.234470</td>\n",
              "      <td>0.217512</td>\n",
              "      <td>0.343594</td>\n",
              "      <td>0.334076</td>\n",
              "      <td>0.316773</td>\n",
              "      <td>-0.069019</td>\n",
              "      <td>0.229618</td>\n",
              "      <td>0.257145</td>\n",
              "      <td>NaN</td>\n",
              "      <td>0.026273</td>\n",
              "      <td>0.348141</td>\n",
              "      <td>0.135471</td>\n",
              "      <td>-0.312180</td>\n",
              "      <td>1.000000</td>\n",
              "    </tr>\n",
              "  </tbody>\n",
              "</table>\n",
              "</div>"
            ],
            "text/plain": [
              "                      전용면적      계약년월       계약일         층      건축년도    k-전체동수  \\\n",
              "전용면적              1.000000  0.027772  0.003779  0.103043  0.077800  0.013114   \n",
              "계약년월              0.027772  1.000000  0.007407  0.049182  0.163895 -0.001964   \n",
              "계약일               0.003779  0.007407  1.000000  0.001685  0.003002  0.000316   \n",
              "층                 0.103043  0.049182  0.001685  1.000000  0.190674 -0.056793   \n",
              "건축년도              0.077800  0.163895  0.003002  0.190674  1.000000 -0.112887   \n",
              "k-전체동수            0.013114 -0.001964  0.000316 -0.056793 -0.112887  1.000000   \n",
              "k-전체세대수          -0.041638  0.005142 -0.000095  0.011126 -0.189193  0.866366   \n",
              "k-연면적             0.167118  0.041885  0.003487  0.106918  0.063101  0.681231   \n",
              "k-주거전용면적          0.151954  0.017978  0.001351  0.066612 -0.082714  0.785901   \n",
              "k-관리비부과면적         0.136666  0.023066  0.001127  0.072341 -0.065802  0.753234   \n",
              "k-전용면적별세대_60     -0.352161 -0.032039 -0.002448 -0.108475 -0.304461  0.635251   \n",
              "k-전용면적별세대_60_85   0.084654  0.030042  0.001233  0.080472 -0.009125  0.505509   \n",
              "k-전용면적별세대_85_135  0.292026  0.037717  0.002015  0.094631  0.124142  0.408712   \n",
              "k-전용면적별세대_135          NaN       NaN       NaN       NaN       NaN       NaN   \n",
              "건축면적              0.013637  0.059260  0.001267  0.008078  0.121911  0.033144   \n",
              "주차대수              0.223025  0.068993  0.004863  0.119311  0.142760  0.455831   \n",
              "좌표X               0.025209 -0.001159 -0.002480  0.018176 -0.026184  0.104866   \n",
              "좌표Y              -0.125177 -0.024085 -0.000329 -0.062480 -0.013924 -0.150473   \n",
              "target            0.577041  0.344665  0.009348  0.153176  0.056041  0.234470   \n",
              "\n",
              "                   k-전체세대수     k-연면적  k-주거전용면적  k-관리비부과면적  k-전용면적별세대_60  \\\n",
              "전용면적             -0.041638  0.167118  0.151954   0.136666     -0.352161   \n",
              "계약년월              0.005142  0.041885  0.017978   0.023066     -0.032039   \n",
              "계약일              -0.000095  0.003487  0.001351   0.001127     -0.002448   \n",
              "층                 0.011126  0.106918  0.066612   0.072341     -0.108475   \n",
              "건축년도             -0.189193  0.063101 -0.082714  -0.065802     -0.304461   \n",
              "k-전체동수            0.866366  0.681231  0.785901   0.753234      0.635251   \n",
              "k-전체세대수           1.000000  0.817471  0.929210   0.921836      0.611972   \n",
              "k-연면적             0.817471  1.000000  0.902912   0.905407      0.232794   \n",
              "k-주거전용면적          0.929210  0.902912  1.000000   0.991215      0.322934   \n",
              "k-관리비부과면적         0.921836  0.905407  0.991215   1.000000      0.301655   \n",
              "k-전용면적별세대_60      0.611972  0.232794  0.322934   0.301655      1.000000   \n",
              "k-전용면적별세대_60_85   0.726240  0.731519  0.771122   0.794802      0.013325   \n",
              "k-전용면적별세대_85_135  0.455970  0.590172  0.625343   0.622032     -0.069085   \n",
              "k-전용면적별세대_135          NaN       NaN       NaN        NaN           NaN   \n",
              "건축면적              0.030771  0.044601  0.028943   0.009386      0.012816   \n",
              "주차대수              0.607700  0.704097  0.746538   0.743562      0.067824   \n",
              "좌표X               0.129456  0.115272  0.140399   0.140154      0.016768   \n",
              "좌표Y              -0.117954 -0.138916 -0.173449  -0.164813      0.056503   \n",
              "target            0.217512  0.343594  0.334076   0.316773     -0.069019   \n",
              "\n",
              "                  k-전용면적별세대_60_85  k-전용면적별세대_85_135  k-전용면적별세대_135      건축면적  \\\n",
              "전용면적                     0.084654          0.292026            NaN  0.013637   \n",
              "계약년월                     0.030042          0.037717            NaN  0.059260   \n",
              "계약일                      0.001233          0.002015            NaN  0.001267   \n",
              "층                        0.080472          0.094631            NaN  0.008078   \n",
              "건축년도                    -0.009125          0.124142            NaN  0.121911   \n",
              "k-전체동수                   0.505509          0.408712            NaN  0.033144   \n",
              "k-전체세대수                  0.726240          0.455970            NaN  0.030771   \n",
              "k-연면적                    0.731519          0.590172            NaN  0.044601   \n",
              "k-주거전용면적                 0.771122          0.625343            NaN  0.028943   \n",
              "k-관리비부과면적                0.794802          0.622032            NaN  0.009386   \n",
              "k-전용면적별세대_60             0.013325         -0.069085            NaN  0.012816   \n",
              "k-전용면적별세대_60_85          1.000000          0.346177            NaN  0.027191   \n",
              "k-전용면적별세대_85_135         0.346177          1.000000            NaN  0.049028   \n",
              "k-전용면적별세대_135                 NaN               NaN            NaN       NaN   \n",
              "건축면적                     0.027191          0.049028            NaN  1.000000   \n",
              "주차대수                     0.525127          0.650161            NaN  0.063022   \n",
              "좌표X                      0.136305          0.080976            NaN  0.005625   \n",
              "좌표Y                     -0.147850         -0.127508            NaN  0.054275   \n",
              "target                   0.229618          0.257145            NaN  0.026273   \n",
              "\n",
              "                      주차대수       좌표X       좌표Y    target  \n",
              "전용면적              0.223025  0.025209 -0.125177  0.577041  \n",
              "계약년월              0.068993 -0.001159 -0.024085  0.344665  \n",
              "계약일               0.004863 -0.002480 -0.000329  0.009348  \n",
              "층                 0.119311  0.018176 -0.062480  0.153176  \n",
              "건축년도              0.142760 -0.026184 -0.013924  0.056041  \n",
              "k-전체동수            0.455831  0.104866 -0.150473  0.234470  \n",
              "k-전체세대수           0.607700  0.129456 -0.117954  0.217512  \n",
              "k-연면적             0.704097  0.115272 -0.138916  0.343594  \n",
              "k-주거전용면적          0.746538  0.140399 -0.173449  0.334076  \n",
              "k-관리비부과면적         0.743562  0.140154 -0.164813  0.316773  \n",
              "k-전용면적별세대_60      0.067824  0.016768  0.056503 -0.069019  \n",
              "k-전용면적별세대_60_85   0.525127  0.136305 -0.147850  0.229618  \n",
              "k-전용면적별세대_85_135  0.650161  0.080976 -0.127508  0.257145  \n",
              "k-전용면적별세대_135          NaN       NaN       NaN       NaN  \n",
              "건축면적              0.063022  0.005625  0.054275  0.026273  \n",
              "주차대수              1.000000  0.037555 -0.136984  0.348141  \n",
              "좌표X               0.037555  1.000000  0.062907  0.135471  \n",
              "좌표Y              -0.136984  0.062907  1.000000 -0.312180  \n",
              "target            0.348141  0.135471 -0.312180  1.000000  "
            ]
          },
          "execution_count": 288,
          "metadata": {},
          "output_type": "execute_result"
        }
      ],
      "source": [
        "# numeric 변수들 간의 상관관계 확인\n",
        "corr_matrix = df_train.corr()\n",
        "corr_matrix"
      ]
    },
    {
      "cell_type": "code",
      "execution_count": null,
      "metadata": {
        "colab": {
          "base_uri": "https://localhost:8080/"
        },
        "id": "ohsSNMTzNn2s",
        "outputId": "323ee1f3-41f0-4340-fe49-4e503e428e7a"
      },
      "outputs": [
        {
          "data": {
            "text/plain": [
              "target              1.000000\n",
              "전용면적                0.577041\n",
              "주차대수                0.348141\n",
              "계약년월                0.344665\n",
              "k-연면적               0.343594\n",
              "k-주거전용면적            0.334076\n",
              "k-관리비부과면적           0.316773\n",
              "좌표Y                -0.312180\n",
              "k-전용면적별세대_85_135    0.257145\n",
              "k-전체동수              0.234470\n",
              "k-전용면적별세대_60_85     0.229618\n",
              "k-전체세대수             0.217512\n",
              "층                   0.153176\n",
              "좌표X                 0.135471\n",
              "k-전용면적별세대_60       -0.069019\n",
              "건축년도                0.056041\n",
              "건축면적                0.026273\n",
              "계약일                 0.009348\n",
              "k-전용면적별세대_135            NaN\n",
              "Name: target, dtype: float64"
            ]
          },
          "execution_count": 289,
          "metadata": {},
          "output_type": "execute_result"
        }
      ],
      "source": [
        "# target 변수와의 상관관계 내림차순\n",
        "corr_matrix['target'].sort_values(key=lambda x: abs(x), ascending=False)"
      ]
    },
    {
      "cell_type": "code",
      "execution_count": null,
      "metadata": {
        "colab": {
          "base_uri": "https://localhost:8080/",
          "height": 642
        },
        "id": "NgyAJmg5Nn2s",
        "outputId": "e4c425ea-e51e-4583-9995-41d6d19995e3"
      },
      "outputs": [
        {
          "data": {
            "image/png": "[encoded data removed]",
            "text/plain": [
              "<Figure size 2000x700 with 2 Axes>"
            ]
          },
          "metadata": {},
          "output_type": "display_data"
        }
      ],
      "source": [
        "plt.figure(figsize=(20,7))\n",
        "sns.heatmap(corr_matrix, annot=True, fmt=\".2f\", cmap=\"Blues\")\n",
        "plt.title('Correlation Matrix')\n",
        "plt.show()"
      ]
    },
    {
      "cell_type": "markdown",
      "metadata": {
        "id": "ljp1DzdgNn2s"
      },
      "source": [
        "1. k-전체동수, k-전체세대수, k-연면적, k-주거전용면적, k-관리비부과면적, k-전용면적별세대, 주차대수 간에 높은 상관관계를 보임\n",
        "    - 아파트 단지 관련 feature들 간에 높은 양의 상관관계\n",
        "    - 건축면적: 0으로 되어 있는 17399개 결측치를 대체하면 다른 feature들과의 상관계수 달라질 것으로 예상\n",
        "2. target과의 상관관계가 높은 feature: 전용면적, 주차대수, 계약년월, k-연면적, k-주거전용면적, k-관리비부과면적, 좌표Y\n",
        "    - 전용면적: 계약된 가구의 전용면적\n",
        "    - 주차대수: 아파트 단지 전체의 주차 가능 대수\n",
        "    - 계약년월과 양의 상관관계, 최근일수록 거래가 높음\n",
        "    - k-연면적: 아파트 단지 전체의 연면적, k-주거전용면적과의 상관계수 0.90\n",
        "    - k-주거전용면적: 아파트 단지 전체 전용면적 = SUM(전용면적별세대수 x 전용면적)\n",
        "    - k-관리비부과면적: k-주거전용면적 or k-연면적\n",
        "    - 좌표Y(위도)와 음의 상관관계, 남쪽으로 갈수록 거래가 높음"
      ]
    },
    {
      "cell_type": "markdown",
      "metadata": {
        "id": "jQLCLZYM_vBT"
      },
      "source": [
        "### 3.1. 결측치 탐색 및 보간\n",
        "- 결측치를 처리할 때 많이 쓰는 방법은 삭제(Deletion)과 대체(Imputation) 입니다.\n",
        "- 본 Baseline에서는 결측치가 90% 이상을 차지하는 변수의 결측치는 제거하고, 나머지 결측치는 대체하도록 하겠습니다.\n",
        "  - 연속형 변수의 경우에는 선형보간(Linear interpolation)으로 대체하겠습니다.\n",
        "  - 범주형 변수의 경우에는 'NULL' 이라는 임의의 범주로 대체해주도록 하겠습니다."
      ]
    },
    {
      "cell_type": "markdown",
      "metadata": {
        "id": "e6BUATgqyhOA"
      },
      "source": [
        "- 참고 ✅\n",
        "  - 선형보간(Linear interpolation)이란 두 점의 값이 주어졌을 때 **그 사이의 값**을 추정하기 위해 직선 거리에 따라 선형적으로 계산하는 방법입니다.\n",
        "  - 아래 두개의 붉은 점 사이에 ($x$, $y$) 값을 추정하기 위해, 해당 점이 두 붉은 점을 이은 선형적인 선분에 있다고 가정하고, 단순 비례식으로 ($x$, $y$)를 추정해 보간하는 방법입니다.\n",
        "  - [참고자료](https://ko.wikipedia.org/wiki/%EC%84%A0%ED%98%95_%EB%B3%B4%EA%B0%84%EB%B2%95#:~:text=%EC%84%A0%ED%98%95%20%EB%B3%B4%EA%B0%84%EB%B2%95(%E7%B7%9A%E5%9E%8B%E8%A3%9C%E9%96%93%E6%B3%95,%EC%9C%BC%EB%A1%9C%20%EA%B3%84%EC%82%B0%ED%95%98%EB%8A%94%20%EB%B0%A9%EB%B2%95%EC%9D%B4%EB%8B%A4.)\n"
      ]
    },
    {
      "cell_type": "code",
      "execution_count": null,
      "metadata": {
        "colab": {
          "base_uri": "https://localhost:8080/",
          "height": 88
        },
        "id": "MEHdKgjWZ8lz",
        "outputId": "3835d04f-33e3-41ad-d27a-9345bb08c4ba"
      },
      "outputs": [
        {
          "data": {
            "text/plain": [
              "-       1086451\n",
              "중개거래      38123\n",
              "직거래        3520\n",
              "Name: 거래유형, dtype: int64"
            ]
          },
          "metadata": {},
          "output_type": "display_data"
        }
      ],
      "source": [
        "# 실제로 결측치라고 표시는 안되어있지만 아무 의미도 갖지 않는 element들이 아래와 같이 존재합니다.\n",
        "# 아래의 경우 아무 의미도 갖지 않는 element가 포함되어 있습니다.\n",
        "display(df_concat['거래유형'].value_counts())"
      ]
    },
    {
      "cell_type": "code",
      "execution_count": null,
      "metadata": {
        "colab": {
          "base_uri": "https://localhost:8080/"
        },
        "id": "PSC14w1WZ-5I",
        "outputId": "0e571216-ddb7-4c03-844f-3e3edf6d847d"
      },
      "outputs": [
        {
          "data": {
            "text/plain": [
              "시군구                       0\n",
              "번지                      227\n",
              "본번                       75\n",
              "부번                       75\n",
              "아파트명                   2136\n",
              "전용면적                      0\n",
              "계약년월                      0\n",
              "계약일                       0\n",
              "층                         0\n",
              "건축년도                      0\n",
              "도로명                       0\n",
              "거래유형                1086451\n",
              "k-단지분류               877273\n",
              "k-분양형태               876125\n",
              "k-관리방식               876125\n",
              "k-복도유형               876454\n",
              "k-난방방식               876125\n",
              "k-전체동수               877207\n",
              "k-전체세대수              876125\n",
              "k-시공사                877637\n",
              "k-시행사                877834\n",
              "k-연면적                876125\n",
              "k-주거전용면적             876170\n",
              "k-관리비부과면적            876125\n",
              "k-전용면적별세대_60         876170\n",
              "k-전용면적별세대_60_85      876170\n",
              "k-전용면적별세대_85_135     876170\n",
              "k-전용면적별세대_135       1127765\n",
              "경비비관리형태              877561\n",
              "세대전기계약방법             885389\n",
              "청소비관리형태              877751\n",
              "건축면적                 876279\n",
              "주차대수                 876277\n",
              "기타/의무/임대/임의          876125\n",
              "사용허가여부               876125\n",
              "관리비업로드               876125\n",
              "좌표X                  876232\n",
              "좌표Y                  876232\n",
              "target                 9272\n",
              "is_test                   0\n",
              "dtype: int64"
            ]
          },
          "execution_count": 292,
          "metadata": {},
          "output_type": "execute_result"
        }
      ],
      "source": [
        "# 위 처럼 아무 의미도 갖지 않는 칼럼은 결측치와 같은 역할을 하므로, np.nan으로 채워 결측치로 인식되도록 합니다.\n",
        "df_concat['거래유형'] = df_concat['거래유형'].replace('-', np.nan)\n",
        "\n",
        "# 결측치를 확인해보겠습니다.\n",
        "df_concat.isnull().sum()"
      ]
    },
    {
      "cell_type": "code",
      "execution_count": null,
      "metadata": {
        "colab": {
          "base_uri": "https://localhost:8080/",
          "height": 382
        },
        "id": "msOiDlOPQ8hS",
        "outputId": "a528497b-a51a-4a1e-c86f-b15e8d8b5cd0"
      },
      "outputs": [
        {
          "data": {
            "image/png": "[encoded data removed]",
            "text/plain": [
              "<Figure size 1300x200 with 1 Axes>"
            ]
          },
          "metadata": {},
          "output_type": "display_data"
        }
      ],
      "source": [
        "# 변수별 결측치의 비율을 plot으로 그려보면 아래와 같습니다.\n",
        "fig = plt.figure(figsize=(13, 2))\n",
        "missing = df_concat.isnull().sum() / df_concat.shape[0]\n",
        "missing = missing[missing > 0]\n",
        "missing.sort_values(inplace=True)\n",
        "missing.plot.bar(color='orange')\n",
        "plt.title('변수별 결측치 비율')\n",
        "plt.show()"
      ]
    },
    {
      "cell_type": "markdown",
      "metadata": {
        "id": "yLNXVw1dysm-"
      },
      "source": [
        "#### 3.1.1 서울시 공동주택 아파트 정보로 일부 결측치 대체"
      ]
    },
    {
      "cell_type": "code",
      "execution_count": null,
      "metadata": {
        "colab": {
          "base_uri": "https://localhost:8080/"
        },
        "id": "dmlWE_6XNn2t",
        "outputId": "8a61d3ec-69d5-41a5-e762-070168841253"
      },
      "outputs": [
        {
          "data": {
            "text/plain": [
              "((2771, 47),\n",
              " Index(['번호', 'k-아파트코드', 'k-아파트명', 'k-단지분류(아파트,주상복합등등)', 'kapt도로명주소',\n",
              "        '주소(시도)k-apt주소split', '주소(시군구)', '주소(읍면동)', '나머지주소', '주소(도로명)',\n",
              "        '주소(도로상세주소)', 'k-전화번호', 'k-팩스번호', '단지소개기존clob', '단지첨부파일',\n",
              "        'k-세대타입(분양형태)', 'k-관리방식', 'k-복도유형', 'k-난방방식', 'k-전체동수', 'k-전체세대수',\n",
              "        'k-건설사(시공사)', 'k-시행사', 'k-사용검사일-사용승인일', 'k-연면적', 'k-주거전용면적',\n",
              "        'k-관리비부과면적', 'k-전용면적별세대현황(60㎡이하)', 'k-전용면적별세대현황(60㎡~85㎡이하)',\n",
              "        'k-85㎡~135㎡이하', 'k-135㎡초과', 'k-홈페이지', 'k-등록일자', 'k-수정일자', '고용보험관리번호',\n",
              "        '경비비관리형태', '세대전기계약방법', '청소비관리형태', '건축면적', '주차대수', '기타/의무/임대/임의=1/2/3/4',\n",
              "        '단지승인일', '사용허가여부', '관리비 업로드', '좌표X', '좌표Y', '단지신청일'],\n",
              "       dtype='object'))"
            ]
          },
          "execution_count": 294,
          "metadata": {},
          "output_type": "execute_result"
        }
      ],
      "source": [
        "# 결측치 대체를 위해 서울시 공동주택 아파트 정보 load(https://data.seoul.go.kr/dataList/OA-15818/A/1/datasetView.do )\n",
        "apt_path = base_path + 'apartments.csv'\n",
        "df_apt = pd.read_csv(apt_path, encoding='cp949')\n",
        "\n",
        "df_apt.shape, df_apt.columns"
      ]
    },
    {
      "cell_type": "code",
      "execution_count": null,
      "metadata": {
        "id": "41uYYfXhTWYB"
      },
      "outputs": [],
      "source": [
        "# '도로명주소'을 기준으로 df_train의 결측치 ('아파트명'은 같은 아파트임에도 서로 일치하지 않는 항목이 많아서)\n",
        "df_apt['도로명주소'] = df_apt['주소(도로명)'] + ' ' + df_apt['주소(도로상세주소)']\n",
        "df_apt_unique = df_apt.drop_duplicates(subset='도로명주소')\n",
        "\n",
        "df_concat['좌표X'] = df_concat['좌표X'].fillna(df_concat['도로명'].map(df_apt_unique.set_index('도로명주소')['좌표X']))\n",
        "df_concat['좌표Y'] = df_concat['좌표Y'].fillna(df_concat['도로명'].map(df_apt_unique.set_index('도로명주소')['좌표Y']))\n",
        "df_concat['k-단지분류'] = df_concat['k-단지분류'].fillna(df_concat['도로명'].map(df_apt_unique.set_index('도로명주소')['k-단지분류(아파트,주상복합등등)']))\n",
        "df_concat['k-분양형태'] = df_concat['k-분양형태'].fillna(df_concat['도로명'].map(df_apt_unique.set_index('도로명주소')['k-세대타입(분양형태)']))\n",
        "df_concat['k-관리방식'] = df_concat['k-관리방식'].fillna(df_concat['도로명'].map(df_apt_unique.set_index('도로명주소')['k-관리방식']))\n",
        "df_concat['k-복도유형'] = df_concat['k-복도유형'].fillna(df_concat['도로명'].map(df_apt_unique.set_index('도로명주소')['k-복도유형']))\n",
        "df_concat['k-난방방식'] = df_concat['k-난방방식'].fillna(df_concat['도로명'].map(df_apt_unique.set_index('도로명주소')['k-난방방식']))\n",
        "df_concat['k-시공사'] = df_concat['k-시공사'].fillna(df_concat['도로명'].map(df_apt_unique.set_index('도로명주소')['k-건설사(시공사)']))\n",
        "df_concat['k-시행사'] = df_concat['k-시행사'].fillna(df_concat['도로명'].map(df_apt_unique.set_index('도로명주소')['k-시행사']))\n",
        "df_concat['경비비관리형태'] = df_concat['경비비관리형태'].fillna(df_concat['도로명'].map(df_apt_unique.set_index('도로명주소')['경비비관리형태']))\n",
        "df_concat['세대전기계약방법'] = df_concat['세대전기계약방법'].fillna(df_concat['도로명'].map(df_apt_unique.set_index('도로명주소')['세대전기계약방법']))\n",
        "df_concat['청소비관리형태'] = df_concat['청소비관리형태'].fillna(df_concat['도로명'].map(df_apt_unique.set_index('도로명주소')['청소비관리형태']))\n",
        "df_concat['사용허가여부'] = df_concat['사용허가여부'].fillna(df_concat['도로명'].map(df_apt_unique.set_index('도로명주소')['사용허가여부']))\n",
        "df_concat['관리비업로드'] = df_concat['관리비업로드'].fillna(df_concat['도로명'].map(df_apt_unique.set_index('도로명주소')['청소비관리형태']))\n",
        "df_concat['청소비관리형태'] = df_concat['청소비관리형태'].fillna(df_concat['아파트명'].map(df_apt_unique.set_index('도로명주소')['관리비 업로드']))\n",
        "df_concat['기타/의무/임대/임의'] = df_concat['기타/의무/임대/임의'].fillna(df_concat['아파트명'].map(df_apt_unique.set_index('도로명주소')['기타/의무/임대/임의=1/2/3/4']))\n",
        "df_concat['k-전체동수'] = df_concat['k-전체동수'].fillna(df_concat['아파트명'].map(df_apt_unique.set_index('도로명주소')['k-전체동수']))\n",
        "df_concat['k-전체세대수'] = df_concat['k-전체세대수'].fillna(df_concat['아파트명'].map(df_apt_unique.set_index('도로명주소')['k-전체세대수']))\n",
        "df_concat['k-연면적'] = df_concat['k-연면적'].fillna(df_concat['아파트명'].map(df_apt_unique.set_index('도로명주소')['k-연면적']))\n",
        "df_concat['k-주거전용면적'] = df_concat['k-주거전용면적'].fillna(df_concat['아파트명'].map(df_apt_unique.set_index('도로명주소')['k-주거전용면적']))\n",
        "df_concat['k-관리비부과면적'] = df_concat['k-관리비부과면적'].fillna(df_concat['아파트명'].map(df_apt_unique.set_index('도로명주소')['k-관리비부과면적']))\n",
        "df_concat['k-전용면적별세대_60'] = df_concat['k-전용면적별세대_60'].fillna(df_concat['아파트명'].map(df_apt_unique.set_index('도로명주소')['k-전용면적별세대현황(60㎡이하)']))\n",
        "df_concat['k-전용면적별세대_60_85'] = df_concat['k-전용면적별세대_60_85'].fillna(df_concat['아파트명'].map(df_apt_unique.set_index('도로명주소')['k-전용면적별세대현황(60㎡~85㎡이하)']))\n",
        "df_concat['k-전용면적별세대_85_135'] = df_concat['k-전용면적별세대_85_135'].fillna(df_concat['아파트명'].map(df_apt_unique.set_index('도로명주소')['k-85㎡~135㎡이하']))\n",
        "df_concat['k-전용면적별세대_135'] = df_concat['k-전용면적별세대_135'].fillna(df_concat['아파트명'].map(df_apt_unique.set_index('도로명주소')['k-135㎡초과']))\n",
        "df_concat['건축면적'] = df_concat['건축면적'].fillna(df_concat['아파트명'].map(df_apt_unique.set_index('도로명주소')['건축면적']))\n",
        "df_concat['주차대수'] = df_concat['주차대수'].fillna(df_concat['아파트명'].map(df_apt_unique.set_index('도로명주소')['주차대수']))"
      ]
    },
    {
      "cell_type": "code",
      "execution_count": null,
      "metadata": {
        "colab": {
          "base_uri": "https://localhost:8080/"
        },
        "id": "App-glnFNn2u",
        "outputId": "10a6294b-0ec4-4b67-a48c-c75077ef0d83"
      },
      "outputs": [
        {
          "data": {
            "text/plain": [
              "시군구                       0\n",
              "번지                      227\n",
              "본번                       75\n",
              "부번                       75\n",
              "아파트명                   2136\n",
              "전용면적                      0\n",
              "계약년월                      0\n",
              "계약일                       0\n",
              "층                         0\n",
              "건축년도                      0\n",
              "도로명                       0\n",
              "거래유형                1086451\n",
              "k-단지분류               259137\n",
              "k-분양형태               257279\n",
              "k-관리방식               257279\n",
              "k-복도유형               257608\n",
              "k-난방방식               256997\n",
              "k-전체동수               875071\n",
              "k-전체세대수              873989\n",
              "k-시공사                260551\n",
              "k-시행사                261031\n",
              "k-연면적                873989\n",
              "k-주거전용면적             874034\n",
              "k-관리비부과면적            873989\n",
              "k-전용면적별세대_60         874034\n",
              "k-전용면적별세대_60_85      874034\n",
              "k-전용면적별세대_85_135     874034\n",
              "k-전용면적별세대_135       1127765\n",
              "경비비관리형태              260240\n",
              "세대전기계약방법             294467\n",
              "청소비관리형태              257798\n",
              "건축면적                 874143\n",
              "주차대수                 874141\n",
              "기타/의무/임대/임의          873989\n",
              "사용허가여부               256686\n",
              "관리비업로드               258306\n",
              "좌표X                  257152\n",
              "좌표Y                  257152\n",
              "target                 9272\n",
              "is_test                   0\n",
              "dtype: int64"
            ]
          },
          "execution_count": 296,
          "metadata": {},
          "output_type": "execute_result"
        }
      ],
      "source": [
        "# df_apt의 데이터로 결측치 대체 후 남은 결측치 확인\n",
        "df_concat.isnull().sum()"
      ]
    },
    {
      "cell_type": "code",
      "execution_count": null,
      "metadata": {
        "colab": {
          "base_uri": "https://localhost:8080/"
        },
        "id": "DSs11XXwNn2u",
        "outputId": "acec57ae-5e8b-4fe5-991d-9e2281233123"
      },
      "outputs": [
        {
          "name": "stdout",
          "output_type": "stream",
          "text": [
            "* 결측치가 1개 이상, 50만개 이하안 변수들: Index(['번지', '본번', '부번', '아파트명', 'k-단지분류', 'k-분양형태', 'k-관리방식', 'k-복도유형',\n",
            "       'k-난방방식', 'k-시공사', 'k-시행사', '경비비관리형태', '세대전기계약방법', '청소비관리형태', '사용허가여부',\n",
            "       '관리비업로드', '좌표X', '좌표Y', 'target'],\n",
            "      dtype='object')\n",
            "* 결측치가 50만개 이상인 변수들 : Index(['거래유형', 'k-전체동수', 'k-전체세대수', 'k-연면적', 'k-주거전용면적', 'k-관리비부과면적',\n",
            "       'k-전용면적별세대_60', 'k-전용면적별세대_60_85', 'k-전용면적별세대_85_135', 'k-전용면적별세대_135',\n",
            "       '건축면적', '주차대수', '기타/의무/임대/임의'],\n",
            "      dtype='object')\n",
            "* 결측치가 100만개 이상인 변수들 : Index(['거래유형', 'k-전용면적별세대_135'], dtype='object')\n"
          ]
        }
      ],
      "source": [
        "print(\"* 결측치가 1개 이상, 50만개 이하안 변수들:\", df_concat.columns[(df_concat.isnull().any()) & (df_concat.isnull().sum() < 500000)])\n",
        "print('* 결측치가 50만개 이상인 변수들 :', df_concat.columns[df_concat.isnull().sum() >= 500000])\n",
        "print('* 결측치가 100만개 이상인 변수들 :', df_concat.columns[df_concat.isnull().sum() >= 1000000])"
      ]
    },
    {
      "cell_type": "markdown",
      "metadata": {
        "id": "GJHCFZEnNn2u"
      },
      "source": [
        "#### 결측치 처리가 필요한 컬럼\n",
        "   - 범주형\n",
        "      - '아파트명'\n",
        "      - '거래유형'\n",
        "      - 'k-단지분류': ['아파트', '주상복합', nan, '연립주택', '도시형 생활주택(아파트)', '도시형 생활주택(주상복합)']\n",
        "      - 'k-분양형태': ['분양', '기타', nan, '임대']\n",
        "      - 'k-관리방식': ['자치관리', '위탁관리', '직영', nan]\n",
        "      - 'k-복도유형': ['계단식', '혼합식', '복도식', '타워형', '기타', nan]\n",
        "      - 'k-난방방식': ['개별난방', '지역난방', '기타', nan, '중앙난방']\n",
        "      - 'k-시공사': (345,)\n",
        "      - 'k-시행사': (556,)\n",
        "      - '경비비관리형태': ['직영', '위탁', '위탁+직영', nan, '기타']\n",
        "      - '세대전기계약방법': ['단일계약', '종합계약', nan]\n",
        "      - '청소비관리형태': ['직영', '위탁', '위탁+직영', nan, '기타']\n",
        "      - '사용허가여부': ['Y', nan]\n",
        "      - '관리비업로드': ['N', nan, 'Y']\n",
        "      - '기타/의무/임대/임의'\n",
        "   - 수치형\n",
        "      - 'k-전체동수'\n",
        "      - 'k-전체세대수': 전체세대수 / 전체동수 = 1동당 평균세대수 => 파생 변수\n",
        "      - 'k-연면적'\n",
        "      - 'k-주거전용면적'\n",
        "      - 'k-관리비부과면적'\n",
        "      - 'k-전용면적별세대_60',\n",
        "      - 'k-전용면적별세대_60_85'\n",
        "      - 'k-전용면적별세대_85_135',\n",
        "      - 'k-전용면적별세대_135': 결측치 0으로 대체 가능\n",
        "      - '건축면적',\n",
        "      - '주차대수': k-주거전용면적과 상관관계 높음\n",
        "      - '좌표X', '좌표Y': 좌표계: WGS1984\n",
        "\n",
        "#### 결측치 처리 방법\n",
        "- 결측치가 50만개 이상인 변수: '거래유형', 'k-전체동수', 'k-전체세대수', 'k-연면적', 'k-주거전용면적', 'k-관리비부과면적',\n",
        "       'k-전용면적별세대_60', 'k-전용면적별세대_60_85', 'k-전용면적별세대_85_135', 'k-전용면적별세대_135',\n",
        "       '건축면적', '주차대수', '기타/의무/임대/임의'\n",
        "    - 결측치 처리 방법? 컬럼 삭제 or 회귀 대체\n",
        "- 결측치가 50만개 이하인 범주형 변수: 'k-단지분류', 'k-분양형태', 'k-관리방식', 'k-복도유형', 'k-난방방식', 'k-시공사', 'k-시행사', '경비비관리형태', '세대전기계약방법', '청소비관리형태', '사용허가여부', '관리비업로드'\n",
        "    - 범주형 변수의 결측치를 채울 방법은? 'NULL'이라는 임의의 범주로 대체\n",
        "- 결측치가 50만개 이하인 수치형 변수: 좌표X, 좌표Y\n",
        "    - 결측치를 채울 방법은? 도로명 주소 -> 좌표 변환 api 사용 (https://www.vworld.kr/dev/v4dv_geocoderguide2_s001.do)"
      ]
    },
    {
      "cell_type": "markdown",
      "metadata": {
        "id": "P_xQCifKNn20"
      },
      "source": [
        "#### 3.1.2 결측치가 50만개 이상인 변수 제외\n"
      ]
    },
    {
      "cell_type": "code",
      "execution_count": null,
      "metadata": {
        "colab": {
          "base_uri": "https://localhost:8080/"
        },
        "id": "fpJPF5xGNn20",
        "outputId": "cfcdc4b9-fefb-4f2b-87cb-8150856037fa"
      },
      "outputs": [
        {
          "data": {
            "text/plain": [
              "((1128094, 40), (1128094, 38))"
            ]
          },
          "execution_count": 298,
          "metadata": {},
          "output_type": "execute_result"
        }
      ],
      "source": [
        "# 결측치가 100만개 이하인 변수들만 골라 새로운 concat_select 객체로 저장\n",
        "selected = list(df_concat.columns[df_concat.isnull().sum() <= 1000000])\n",
        "df_concat_select = df_concat[selected]\n",
        "\n",
        "df_concat.shape, df_concat_select.shape"
      ]
    },
    {
      "cell_type": "markdown",
      "metadata": {
        "id": "UzVkj4qiNn20"
      },
      "source": [
        "#### 3.1.3 geopy 라이브러리를 이용한 좌표X, 좌표Y 결측치 처리\n"
      ]
    },
    {
      "cell_type": "code",
      "execution_count": null,
      "metadata": {
        "id": "grAH2-wPNn20",
        "outputId": "582b6ccc-41bb-40b8-b697-95fd59b89463"
      },
      "outputs": [
        {
          "name": "stdout",
          "output_type": "stream",
          "text": [
            "Requirement already satisfied: geopy in /opt/conda/lib/python3.10/site-packages (2.4.1)\n",
            "Requirement already satisfied: geographiclib<3,>=1.52 in /opt/conda/lib/python3.10/site-packages (from geopy) (2.0)\n",
            "\u001b[33mWARNING: Running pip as the 'root' user can result in broken permissions and conflicting behaviour with the system package manager. It is recommended to use a virtual environment instead: https://pip.pypa.io/warnings/venv\u001b[0m\u001b[33m\n",
            "\u001b[0m"
          ]
        }
      ],
      "source": [
        "!pip install geopy"
      ]
    },
    {
      "cell_type": "code",
      "execution_count": null,
      "metadata": {
        "id": "LWVUdHdSNn4I"
      },
      "outputs": [],
      "source": [
        "# 도로명 주소 좌표 변환 api로 좌표X, 좌표Y 가져오기\n",
        "from geopy.geocoders import Nominatim\n",
        "geo_local = Nominatim(user_agent='South Korea')\n",
        "\n",
        "# 위도, 경도 반환하는 함수\n",
        "def get_coordinates(addr):\n",
        "    try:\n",
        "        geo = geo_local.geocode(addr)\n",
        "        x, y = geo.longitude, geo.latitude\n",
        "        return x, y\n",
        "\n",
        "    except:\n",
        "        return np.nan, np.nan\n",
        "\n",
        "# '도로명'이 같은 관측치끼리 한 번만 좌표값을 가져오도록 처리\n",
        "# unique_roads = df_concat_select[df_concat_select['좌표X'].isnull()]['도로명'].unique()\n",
        "\n",
        "# for road in tqdm(unique_roads):\n",
        "#     mask = (df_concat_select['도로명'] == road) & (df_concat_select['좌표X'].isnull())\n",
        "\n",
        "#     if mask.any():\n",
        "#         coordinates = get_coordinates(road)\n",
        "\n",
        "#         # 가져온 좌표값을 결측치가 있는 관측치에 채우기\n",
        "#         df_concat_select.loc[mask, ['좌표X', '좌표Y']] = coordinates\n",
        "\n",
        "# df_concat_select.to_csv(base_path + 'df_concat_select.csv', index=False)"
      ]
    },
    {
      "cell_type": "code",
      "execution_count": null,
      "metadata": {
        "id": "vNVZge0WNn4I"
      },
      "outputs": [],
      "source": [
        "# df_concat_select = pd.read_csv(base_path + 'df_concat_select.csv')\n",
        "\n",
        "# 좌표X, 좌표Y 결측치 대체 후 남은 결측치 확인\n",
        "# df_concat_select[['좌표X', '좌표Y']].isnull().sum()"
      ]
    },
    {
      "cell_type": "code",
      "execution_count": null,
      "metadata": {
        "id": "QSgvEdJ_Nn4I"
      },
      "outputs": [],
      "source": [
        "# 남은 좌표X, 좌표Y 결측치는 지번주소를 사용해 가져오기\n",
        "df_concat_select['지번주소'] = df_concat_select['시군구'] + ' ' + df_concat_select['본번'].astype('str').str.replace(r'\\.0', '')\n",
        "df_concat_select['지번주소'] += np.where(df_concat_select['부번'].astype('str').str.replace(r'\\.0', '') != '0', '-' + df_concat_select['부번'].astype('str').str.replace(r'\\.0', ''), '')\n",
        "\n",
        "# unique_roads = df_concat_select[df_concat_select['좌표X'].isnull()]['지번주소'].unique()\n",
        "\n",
        "# for road in tqdm(unique_roads):\n",
        "#     mask = (df_concat_select['지번주소'] == road) & (df_concat_select['좌표X'].isnull())\n",
        "\n",
        "#     if mask.any():\n",
        "#         coordinates = get_coordinates(road)\n",
        "\n",
        "#         # 가져온 좌표값을 결측치가 있는 관측치에 채우기\n",
        "#         df_concat_select.loc[mask, ['좌표X', '좌표Y']] = coordinates\n",
        "\n",
        "# df_concat_select.to_csv(base_path + 'df_concat_select.csv', index=False)"
      ]
    },
    {
      "cell_type": "code",
      "execution_count": null,
      "metadata": {
        "id": "nVwcLY8xNn4J"
      },
      "outputs": [],
      "source": [
        "# df_concat_select = pd.read_csv(base_path + 'df_concat_select.csv')\n",
        "\n",
        "# 좌표X, 좌표Y 결측치 대체 후 남은 결측치 확인\n",
        "# df_concat_select[['좌표X', '좌표Y']].isnull().sum()"
      ]
    },
    {
      "cell_type": "code",
      "execution_count": null,
      "metadata": {
        "id": "e2r4PXuoNn4J"
      },
      "outputs": [],
      "source": [
        "# df_concat_select[df_concat_select['좌표X'].isnull()]['지번주소'].unique()\n",
        "\n",
        "# df_concat_select.loc[df_concat_select['지번주소'] == '서울특별시 노원구 상계동 95-274', ['좌표X', '좌표Y']] = 127.077516, 37.664439\n",
        "# df_concat_select.loc[df_concat_select['지번주소'] == '서울특별시 동대문구 이문동 257-516', ['좌표X', '좌표Y']] = 127.059407, 37.600432\n",
        "\n",
        "# df_concat_select[['좌표X', '좌표Y']].to_csv(base_path + 'coordinates.csv'', index=False)\n",
        "\n",
        "# # 좌표X, 좌표Y 결측치 대체 후 남은 결측치 확인\n",
        "# df_concat_select[['좌표X', '좌표Y']].isnull().sum()"
      ]
    },
    {
      "cell_type": "code",
      "execution_count": null,
      "metadata": {
        "id": "U42nx00bNn4J"
      },
      "outputs": [],
      "source": [
        "# 서울시 공동주택 데이터 및 geopy 라이브러리를 사용한 결측치 대체 완료 후 좌표 데이터 불러오기\n",
        "df_coordinates = pd.read_csv(base_path + 'coordinates.csv')\n",
        "df_concat_select[['좌표X', '좌표Y']] = df_coordinates[['좌표X', '좌표Y']]"
      ]
    },
    {
      "cell_type": "markdown",
      "metadata": {
        "id": "7QyIvsp-Nn4J"
      },
      "source": [
        "#### 3.1.4 남은 결측치 보간"
      ]
    },
    {
      "cell_type": "code",
      "execution_count": null,
      "metadata": {
        "colab": {
          "base_uri": "https://localhost:8080/"
        },
        "id": "wVdU-Ge00OGM",
        "outputId": "17c7fd4f-e1cd-4927-bcdb-4e16a5280e72"
      },
      "outputs": [
        {
          "name": "stdout",
          "output_type": "stream",
          "text": [
            "수치형 변수: Index(['k-관리비부과면적', 'k-연면적', 'k-전용면적별세대_60', 'k-전용면적별세대_60_85',\n",
            "       'k-전용면적별세대_85_135', 'k-전체동수', 'k-전체세대수', 'k-주거전용면적', '건축년도', '건축면적',\n",
            "       '계약년월', '계약일', '전용면적', '좌표X', '좌표Y', '주차대수', '층'],\n",
            "      dtype='object')\n",
            "범주형 변수: Index(['시군구', '아파트명', '도로명', 'k-단지분류', 'k-분양형태', 'k-관리방식', 'k-복도유형', 'k-난방방식',\n",
            "       'k-시공사', 'k-시행사', '경비비관리형태', '세대전기계약방법', '청소비관리형태', '기타/의무/임대/임의',\n",
            "       '사용허가여부', '관리비업로드', '지번주소'],\n",
            "      dtype='object')\n"
          ]
        }
      ],
      "source": [
        "# 지번주소 컬럼 생성으로 필요 없어진 컬럼 삭제\n",
        "df_concat_select = df_concat_select.drop(['번지', '본번', '부번'], axis=1)\n",
        "\n",
        "# df_concat_select에서 수치형 변수와 범주형 변수 분리\n",
        "numerical_cols = df_concat_select.select_dtypes(include=['number']).columns.difference(['target', 'is_test'])\n",
        "categorical_cols = df_concat_select.select_dtypes(include=['object']).columns\n",
        "\n",
        "print(\"수치형 변수:\", numerical_cols)\n",
        "print(\"범주형 변수:\", categorical_cols)"
      ]
    },
    {
      "cell_type": "markdown",
      "metadata": {
        "id": "pVtoElzZ5Y_z"
      },
      "source": [
        "- 연속형 변수와 범주형 변수가 알맞게 나누어졌는지 확인해보고, 이제 각각 보간을 진행합니다."
      ]
    },
    {
      "cell_type": "code",
      "execution_count": null,
      "metadata": {
        "colab": {
          "base_uri": "https://localhost:8080/"
        },
        "id": "QiUD87mdNn4Q",
        "outputId": "cc2a0e1b-d26a-4cc6-a16b-319bcd02b36c"
      },
      "outputs": [
        {
          "name": "stdout",
          "output_type": "stream",
          "text": [
            "결측치가 존재하는 수치형 변수:\n",
            "k-전체동수              875071\n",
            "k-전체세대수             873989\n",
            "k-연면적               873989\n",
            "k-주거전용면적            874034\n",
            "k-관리비부과면적           873989\n",
            "k-전용면적별세대_60        874034\n",
            "k-전용면적별세대_60_85     874034\n",
            "k-전용면적별세대_85_135    874034\n",
            "건축면적                874143\n",
            "주차대수                874141\n",
            "dtype: int64\n",
            "결측치가 존재하는 범주형 변수:\n",
            "아파트명             2136\n",
            "k-단지분류         259137\n",
            "k-분양형태         257279\n",
            "k-관리방식         257279\n",
            "k-복도유형         257608\n",
            "k-난방방식         256997\n",
            "k-시공사          260551\n",
            "k-시행사          261031\n",
            "경비비관리형태        260240\n",
            "세대전기계약방법       294467\n",
            "청소비관리형태        257798\n",
            "기타/의무/임대/임의    873989\n",
            "사용허가여부         256686\n",
            "관리비업로드         258306\n",
            "dtype: int64\n"
          ]
        }
      ],
      "source": [
        "# 결측치가 존재하는 컬럼\n",
        "cols_with_missing_vals = df_concat_select.columns[df_concat_select.isnull().any()]\n",
        "missing_vals_cnt = df_concat_select.isnull().sum()[cols_with_missing_vals]\n",
        "\n",
        "print('결측치가 존재하는 수치형 변수:')\n",
        "print(missing_vals_cnt[cols_with_missing_vals.isin(numerical_cols)])\n",
        "print('결측치가 존재하는 범주형 변수:')\n",
        "print(missing_vals_cnt[cols_with_missing_vals.isin(categorical_cols)])"
      ]
    },
    {
      "cell_type": "markdown",
      "metadata": {
        "id": "EcEdGABFORxz"
      },
      "source": [
        "##### 3.1.4.1 회귀 모델에 기반한 수치형 변수 대체"
      ]
    },
    {
      "cell_type": "code",
      "execution_count": null,
      "metadata": {
        "colab": {
          "base_uri": "https://localhost:8080/"
        },
        "id": "ciyBGJtLNn4Q",
        "notebookRunGroups": {
          "groupValue": "2"
        },
        "outputId": "d4d18cd2-f809-45a2-d396-c393ef321f0e"
      },
      "outputs": [
        {
          "name": "stderr",
          "output_type": "stream",
          "text": [
            "100%|██████████| 10/10 [01:01<00:00,  6.17s/it]\n"
          ]
        },
        {
          "data": {
            "text/plain": [
              "index                    0\n",
              "시군구                      0\n",
              "아파트명                  2136\n",
              "전용면적                     0\n",
              "계약년월                     0\n",
              "계약일                      0\n",
              "층                        0\n",
              "건축년도                     0\n",
              "도로명                      0\n",
              "k-단지분류              259137\n",
              "k-분양형태              257279\n",
              "k-관리방식              257279\n",
              "k-복도유형              257608\n",
              "k-난방방식              256997\n",
              "k-전체동수                   0\n",
              "k-전체세대수                  0\n",
              "k-시공사               260551\n",
              "k-시행사               261031\n",
              "k-연면적                    0\n",
              "k-주거전용면적                 0\n",
              "k-관리비부과면적                0\n",
              "k-전용면적별세대_60             0\n",
              "k-전용면적별세대_60_85          0\n",
              "k-전용면적별세대_85_135         0\n",
              "경비비관리형태             260240\n",
              "세대전기계약방법            294467\n",
              "청소비관리형태             257798\n",
              "건축면적                     0\n",
              "주차대수                     0\n",
              "기타/의무/임대/임의         873989\n",
              "사용허가여부              256686\n",
              "관리비업로드              258306\n",
              "좌표X                      0\n",
              "좌표Y                      0\n",
              "target                9272\n",
              "is_test                  0\n",
              "지번주소                     0\n",
              "dtype: int64"
            ]
          },
          "execution_count": 308,
          "metadata": {},
          "output_type": "execute_result"
        }
      ],
      "source": [
        "df_concat_select = df_concat_select.reset_index()\n",
        "\n",
        "# 수치형 변수에 대한 보간 (회귀 보간)\n",
        "num_cols_with_missing_vals = cols_with_missing_vals[cols_with_missing_vals.isin(numerical_cols)]\n",
        "\n",
        "for col in tqdm(num_cols_with_missing_vals):\n",
        "    reg_train = df_concat_select[df_concat_select[col].notnull()].drop(['target', 'is_test'], axis=1)\n",
        "    reg_test = df_concat_select[df_concat_select[col].isnull()].drop(['target', 'is_test'], axis=1)\n",
        "    X_cols = reg_train.columns[(reg_train.isnull().sum() == 0) & (reg_test.isnull().sum() == 0)].tolist()\n",
        "\n",
        "    X_reg_train = reg_train[X_cols]\n",
        "    y_reg_train = reg_train[col]\n",
        "    X_reg_test = reg_test[X_cols]\n",
        "\n",
        "    # Label-Encoding\n",
        "    cat_cols = X_reg_train.select_dtypes(include=['object']).columns\n",
        "    label_encoders = {}\n",
        "    for cat_col in cat_cols:\n",
        "        lbl = LabelEncoder()\n",
        "\n",
        "        lbl.fit(X_reg_train[cat_col].astype(str))\n",
        "        X_reg_train[cat_col] = lbl.transform(X_reg_train[cat_col].astype(str))\n",
        "        label_encoders[cat_col] = lbl           # 나중에 후처리를 위해 레이블인코더를 저장해주겠습니다.\n",
        "\n",
        "        for label in np.unique(X_reg_test[cat_col].astype(str)):\n",
        "            if label not in lbl.classes_:\n",
        "                lbl.classes_ = np.append(lbl.classes_, label)\n",
        "        X_reg_test[cat_col] = lbl.transform(X_reg_test[cat_col].astype(str))\n",
        "\n",
        "    # RandomForestRegressor를 이용해 분류 모델로 학습\n",
        "    model = RandomForestRegressor(n_estimators=5, criterion='squared_error', random_state=1, n_jobs=-1)\n",
        "    model.fit(X_reg_train, y_reg_train)\n",
        "    pred = model.predict(X_reg_test)\n",
        "\n",
        "    df_concat_select.loc[reg_test.index, col] = pred\n",
        "\n",
        "# 수치형 변수의 결측치가 보간된 모습 확인\n",
        "df_concat_select.isnull().sum()"
      ]
    },
    {
      "cell_type": "markdown",
      "metadata": {
        "id": "I1sFLNqvOeLC"
      },
      "source": [
        "##### 3.1.4.2 분류 모델에 기반한 범주형 변수 대체"
      ]
    },
    {
      "cell_type": "code",
      "execution_count": null,
      "metadata": {
        "colab": {
          "base_uri": "https://localhost:8080/"
        },
        "id": "IXjO6YugNn4R",
        "outputId": "6983152c-414d-433e-ae39-58417678fef7"
      },
      "outputs": [
        {
          "name": "stderr",
          "output_type": "stream",
          "text": [
            "  0%|          | 0/14 [00:00<?, ?it/s]"
          ]
        },
        {
          "name": "stderr",
          "output_type": "stream",
          "text": [
            "100%|██████████| 14/14 [02:49<00:00, 12.11s/it]\n"
          ]
        },
        {
          "data": {
            "text/plain": [
              "index                  0\n",
              "시군구                    0\n",
              "아파트명                   0\n",
              "전용면적                   0\n",
              "계약년월                   0\n",
              "계약일                    0\n",
              "층                      0\n",
              "건축년도                   0\n",
              "도로명                    0\n",
              "k-단지분류                 0\n",
              "k-분양형태                 0\n",
              "k-관리방식                 0\n",
              "k-복도유형                 0\n",
              "k-난방방식                 0\n",
              "k-전체동수                 0\n",
              "k-전체세대수                0\n",
              "k-시공사                  0\n",
              "k-시행사                  0\n",
              "k-연면적                  0\n",
              "k-주거전용면적               0\n",
              "k-관리비부과면적              0\n",
              "k-전용면적별세대_60           0\n",
              "k-전용면적별세대_60_85        0\n",
              "k-전용면적별세대_85_135       0\n",
              "경비비관리형태                0\n",
              "세대전기계약방법               0\n",
              "청소비관리형태                0\n",
              "건축면적                   0\n",
              "주차대수                   0\n",
              "기타/의무/임대/임의            0\n",
              "사용허가여부                 0\n",
              "관리비업로드                 0\n",
              "좌표X                    0\n",
              "좌표Y                    0\n",
              "target              9272\n",
              "is_test                0\n",
              "지번주소                   0\n",
              "dtype: int64"
            ]
          },
          "execution_count": 310,
          "metadata": {},
          "output_type": "execute_result"
        }
      ],
      "source": [
        "# 범주형 변수에 대한 보간\n",
        "cat_cols_with_missing_vals = cols_with_missing_vals[cols_with_missing_vals.isin(categorical_cols)]\n",
        "\n",
        "for col in tqdm(cat_cols_with_missing_vals):\n",
        "    clf_train = df_concat_select[df_concat_select[col].notnull()].drop(['target', 'is_test'], axis=1)\n",
        "    clf_test = df_concat_select[df_concat_select[col].isnull()].drop(['target', 'is_test'], axis=1)\n",
        "    X_cols = clf_train.columns[(clf_train.isnull().sum() == 0) & (clf_test.isnull().sum() == 0)].tolist()\n",
        "\n",
        "    X_clf_train = clf_train[X_cols]\n",
        "    y_clf_train = clf_train[col]\n",
        "    X_clf_test = clf_test[X_cols]\n",
        "\n",
        "    # Label-Encoding\n",
        "    cat_cols = X_clf_train.select_dtypes(include=['object']).columns\n",
        "    label_encoders = {}\n",
        "    for cat_col in cat_cols:\n",
        "        lbl = LabelEncoder()\n",
        "\n",
        "        lbl.fit(X_clf_train[cat_col].astype(str))\n",
        "        X_clf_train[cat_col] = lbl.transform(X_clf_train[cat_col].astype(str))\n",
        "        label_encoders[cat_col] = lbl           # 나중에 후처리를 위해 레이블인코더를 저장해주겠습니다.\n",
        "\n",
        "        for label in np.unique(X_clf_test[cat_col].astype(str)):\n",
        "            if label not in lbl.classes_:\n",
        "                lbl.classes_ = np.append(lbl.classes_, label)\n",
        "        X_clf_test[cat_col] = lbl.transform(X_clf_test[cat_col].astype(str))\n",
        "\n",
        "    # RandomForestClassifier를 이용해 회귀 모델로 학습\n",
        "    model = RandomForestClassifier(n_estimators=5, random_state=1, n_jobs=-1)\n",
        "    model.fit(X_clf_train, y_clf_train)\n",
        "    pred = model.predict(X_clf_test)\n",
        "\n",
        "    df_concat_select.loc[clf_test.index, col] = pred\n",
        "\n",
        "# 범주형 변수의 결측치가 보간된 모습 확인\n",
        "df_concat_select.isnull().sum()"
      ]
    }
  ],
  "metadata": {
    "accelerator": "GPU",
    "colab": {
      "gpuType": "T4",
      "provenance": []
    },
    "kernelspec": {
      "display_name": "Python 3",
      "name": "python3"
    },
    "language_info": {
      "codemirror_mode": {
        "name": "ipython",
        "version": 3
      },
      "file_extension": ".py",
      "mimetype": "text/x-python",
      "name": "python",
      "nbconvert_exporter": "python",
      "pygments_lexer": "ipython3",
      "version": "3.10.13"
    },
    "vscode": {
      "interpreter": {
        "hash": "d4d1e4263499bec80672ea0156c357c1ee493ec2b1c70f0acce89fc37c4a6abe"
      }
    }
  },
  "nbformat": 4,
  "nbformat_minor": 0
}
