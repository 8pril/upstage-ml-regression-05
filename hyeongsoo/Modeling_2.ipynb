{
 "cells": [
  {
   "cell_type": "code",
   "execution_count": 1,
   "metadata": {},
   "outputs": [],
   "source": [
    "import matplotlib.pyplot as plt\n",
    "import seaborn as sns\n",
    "import pandas as pd\n",
    "import numpy as np\n",
    "import warnings;warnings.filterwarnings('ignore')\n",
    "import matplotlib.font_manager as fm\n",
    "fe = fm.FontEntry(\n",
    "    fname=r'/usr/share/fonts/truetype/nanum/NanumGothic.ttf', # ttf 파일이 저장되어 있는 경로\n",
    "    name='NanumBarunGothic')                        # 이 폰트의 원하는 이름 설정\n",
    "fm.fontManager.ttflist.insert(0, fe)              # Matplotlib에 폰트 추가\n",
    "plt.rcParams.update({'font.size': 10, 'font.family': 'NanumBarunGothic'}) # 폰트 설정\n",
    "plt.rc('font', family='NanumBarunGothic')\n",
    "\n",
    "from tqdm import tqdm\n",
    "import pickle\n",
    "import warnings;warnings.filterwarnings('ignore')\n",
    "\n",
    "import lightgbm as lgb\n",
    "import xgboost as xgb\n",
    "from sklearn.linear_model import LinearRegression, ElasticNet, Lasso, Ridge\n",
    "from sklearn.tree import DecisionTreeRegressor\n",
    "from sklearn.ensemble import RandomForestRegressor\n",
    "from sklearn.model_selection import TimeSeriesSplit\n",
    "from sklearn.metrics import mean_squared_error\n",
    "from sklearn.preprocessing import  LabelEncoder\n",
    "\n",
    "import optuna"
   ]
  },
  {
   "cell_type": "code",
   "execution_count": 2,
   "metadata": {},
   "outputs": [],
   "source": [
    "train_path = './train.csv'\n",
    "test_path  = './test.csv'\n",
    "train = pd.read_csv(train_path)\n",
    "test = pd.read_csv(test_path)"
   ]
  },
  {
   "cell_type": "code",
   "execution_count": 3,
   "metadata": {},
   "outputs": [],
   "source": [
    "train['is_test'] = 0\n",
    "test['is_test'] = 1\n",
    "concat = pd.concat([train, test])"
   ]
  },
  {
   "cell_type": "markdown",
   "metadata": {},
   "source": [
    "# 기준금리 추가하기"
   ]
  },
  {
   "cell_type": "code",
   "execution_count": 4,
   "metadata": {},
   "outputs": [],
   "source": [
    "base_rate_path  = './기준금리.csv'\n",
    "base_rate_df = pd.read_csv(base_rate_path)"
   ]
  },
  {
   "cell_type": "code",
   "execution_count": 5,
   "metadata": {},
   "outputs": [],
   "source": [
    "# 월일 변수를 월과 일로 나누어주고 년 월 일을 합쳐 날짜를 8자리 정수로 표현하기\n",
    "base_rate_df['년'] = base_rate_df['년'].map(lambda x: str(x))\n",
    "base_rate_df['월'] = base_rate_df['월일'].map(lambda x : x[:2])\n",
    "base_rate_df['일'] = base_rate_df['월일'].map(lambda x : x[4:6])\n",
    "base_rate_df['날짜'] = base_rate_df['년'] + base_rate_df['월'] + base_rate_df['일']\n",
    "base_rate_df['날짜'] = base_rate_df['날짜'].map(lambda x: int(x))\n",
    "base_rate_df = base_rate_df[['날짜', '기준금리']]"
   ]
  },
  {
   "cell_type": "code",
   "execution_count": 6,
   "metadata": {},
   "outputs": [],
   "source": [
    "# concat에 계약년월과 계약일을 합쳐 계약날짜 변수 생성 (8자리 정수)\n",
    "concat['계약날짜'] = concat['계약년월'] * 100 + concat['계약일']"
   ]
  },
  {
   "cell_type": "code",
   "execution_count": 7,
   "metadata": {},
   "outputs": [],
   "source": [
    "# concat의 '계약날짜' 값에 따라 '기준금리'를 반환해주는 함수.\n",
    "def date_to_rate(date):\n",
    "    for i in range(54, 0, -1): # 기준금리 데이터의 마지막 인덱스(54)에서 하나씩 올라가며 날짜를 비교하면서 기준금리 확인\n",
    "        if date >= base_rate_df['날짜'][i] and date <base_rate_df['날짜'][i - 1]:\n",
    "            return base_rate_df['기준금리'][i]\n",
    "    return base_rate_df['기준금리'][0] # 날짜(date)가 기준금리 데이터의 가장 최신 날짜보다 같거나 크다면 가장 최신 기준금리 반환\n",
    "\n",
    "# 예:\n",
    "# date_to_rate(20211126)\n",
    "# 1.0"
   ]
  },
  {
   "cell_type": "code",
   "execution_count": 8,
   "metadata": {},
   "outputs": [],
   "source": [
    "# concat_new에 기준금리 변수 추가\n",
    "concat['기준금리'] = concat['계약날짜'].apply(date_to_rate)"
   ]
  },
  {
   "cell_type": "code",
   "execution_count": 9,
   "metadata": {},
   "outputs": [],
   "source": [
    "# '기준금리'열의 데이터 형식을 float로 변경\n",
    "concat['기준금리'] = concat['기준금리'].astype(float)"
   ]
  },
  {
   "cell_type": "code",
   "execution_count": 10,
   "metadata": {},
   "outputs": [
    {
     "data": {
      "text/html": [
       "<div>\n",
       "<style scoped>\n",
       "    .dataframe tbody tr th:only-of-type {\n",
       "        vertical-align: middle;\n",
       "    }\n",
       "\n",
       "    .dataframe tbody tr th {\n",
       "        vertical-align: top;\n",
       "    }\n",
       "\n",
       "    .dataframe thead th {\n",
       "        text-align: right;\n",
       "    }\n",
       "</style>\n",
       "<table border=\"1\" class=\"dataframe\">\n",
       "  <thead>\n",
       "    <tr style=\"text-align: right;\">\n",
       "      <th></th>\n",
       "      <th>계약날짜</th>\n",
       "      <th>기준금리</th>\n",
       "    </tr>\n",
       "  </thead>\n",
       "  <tbody>\n",
       "    <tr>\n",
       "      <th>0</th>\n",
       "      <td>20171208</td>\n",
       "      <td>1.5</td>\n",
       "    </tr>\n",
       "    <tr>\n",
       "      <th>1</th>\n",
       "      <td>20171222</td>\n",
       "      <td>1.5</td>\n",
       "    </tr>\n",
       "    <tr>\n",
       "      <th>2</th>\n",
       "      <td>20171228</td>\n",
       "      <td>1.5</td>\n",
       "    </tr>\n",
       "    <tr>\n",
       "      <th>3</th>\n",
       "      <td>20180103</td>\n",
       "      <td>1.5</td>\n",
       "    </tr>\n",
       "    <tr>\n",
       "      <th>4</th>\n",
       "      <td>20180108</td>\n",
       "      <td>1.5</td>\n",
       "    </tr>\n",
       "    <tr>\n",
       "      <th>...</th>\n",
       "      <td>...</td>\n",
       "      <td>...</td>\n",
       "    </tr>\n",
       "    <tr>\n",
       "      <th>9267</th>\n",
       "      <td>20230719</td>\n",
       "      <td>3.5</td>\n",
       "    </tr>\n",
       "    <tr>\n",
       "      <th>9268</th>\n",
       "      <td>20230725</td>\n",
       "      <td>3.5</td>\n",
       "    </tr>\n",
       "    <tr>\n",
       "      <th>9269</th>\n",
       "      <td>20230827</td>\n",
       "      <td>3.5</td>\n",
       "    </tr>\n",
       "    <tr>\n",
       "      <th>9270</th>\n",
       "      <td>20230902</td>\n",
       "      <td>3.5</td>\n",
       "    </tr>\n",
       "    <tr>\n",
       "      <th>9271</th>\n",
       "      <td>20230904</td>\n",
       "      <td>3.5</td>\n",
       "    </tr>\n",
       "  </tbody>\n",
       "</table>\n",
       "<p>1128094 rows × 2 columns</p>\n",
       "</div>"
      ],
      "text/plain": [
       "          계약날짜  기준금리\n",
       "0     20171208   1.5\n",
       "1     20171222   1.5\n",
       "2     20171228   1.5\n",
       "3     20180103   1.5\n",
       "4     20180108   1.5\n",
       "...        ...   ...\n",
       "9267  20230719   3.5\n",
       "9268  20230725   3.5\n",
       "9269  20230827   3.5\n",
       "9270  20230902   3.5\n",
       "9271  20230904   3.5\n",
       "\n",
       "[1128094 rows x 2 columns]"
      ]
     },
     "execution_count": 10,
     "metadata": {},
     "output_type": "execute_result"
    }
   ],
   "source": [
    "# 추가된 변수 확인\n",
    "concat[['계약날짜', '기준금리']]"
   ]
  },
  {
   "cell_type": "markdown",
   "metadata": {},
   "source": [
    "# 전세가격지수 추가하기"
   ]
  },
  {
   "cell_type": "code",
   "execution_count": 11,
   "metadata": {},
   "outputs": [],
   "source": [
    "jeonsae_path  = './아파트전세가격지수.csv'\n",
    "jeonsae_df = pd.read_csv(jeonsae_path, encoding='cp949')"
   ]
  },
  {
   "cell_type": "code",
   "execution_count": 12,
   "metadata": {},
   "outputs": [
    {
     "data": {
      "text/html": [
       "<div>\n",
       "<style scoped>\n",
       "    .dataframe tbody tr th:only-of-type {\n",
       "        vertical-align: middle;\n",
       "    }\n",
       "\n",
       "    .dataframe tbody tr th {\n",
       "        vertical-align: top;\n",
       "    }\n",
       "\n",
       "    .dataframe thead th {\n",
       "        text-align: right;\n",
       "    }\n",
       "</style>\n",
       "<table border=\"1\" class=\"dataframe\">\n",
       "  <thead>\n",
       "    <tr style=\"text-align: right;\">\n",
       "      <th></th>\n",
       "      <th>년월</th>\n",
       "      <th>전세가격지수</th>\n",
       "    </tr>\n",
       "  </thead>\n",
       "  <tbody>\n",
       "    <tr>\n",
       "      <th>0</th>\n",
       "      <td>2003.11</td>\n",
       "      <td>46.7</td>\n",
       "    </tr>\n",
       "    <tr>\n",
       "      <th>1</th>\n",
       "      <td>2003.12</td>\n",
       "      <td>46.2</td>\n",
       "    </tr>\n",
       "    <tr>\n",
       "      <th>2</th>\n",
       "      <td>2004.01</td>\n",
       "      <td>46.0</td>\n",
       "    </tr>\n",
       "    <tr>\n",
       "      <th>3</th>\n",
       "      <td>2004.02</td>\n",
       "      <td>46.3</td>\n",
       "    </tr>\n",
       "    <tr>\n",
       "      <th>4</th>\n",
       "      <td>2004.03</td>\n",
       "      <td>46.5</td>\n",
       "    </tr>\n",
       "  </tbody>\n",
       "</table>\n",
       "</div>"
      ],
      "text/plain": [
       "        년월 전세가격지수\n",
       "0  2003.11   46.7\n",
       "1  2003.12   46.2\n",
       "2  2004.01   46.0\n",
       "3  2004.02   46.3\n",
       "4  2004.03   46.5"
      ]
     },
     "execution_count": 12,
     "metadata": {},
     "output_type": "execute_result"
    }
   ],
   "source": [
    "# 전세가격지수 데이터를 '년월'과 서울의 '전세가격지수'를 열로 가지는 데이터로 변환\n",
    "data = {'년월':list(jeonsae_df.columns[1:]), '전세가격지수':list(jeonsae_df.iloc[1])[1:]}\n",
    "seoul_jeonsae_df = pd.DataFrame(data)\n",
    "seoul_jeonsae_df.head()"
   ]
  },
  {
   "cell_type": "code",
   "execution_count": 13,
   "metadata": {},
   "outputs": [],
   "source": [
    "# 전세가격지수 데이터의 '년월' 형식을 concat의 '계약년월' 형식과 통일\n",
    "seoul_jeonsae_df['년월'] = seoul_jeonsae_df['년월'].map(lambda x : int(x.split('.')[0]) * 100 + int(x.split('.')[1]))"
   ]
  },
  {
   "cell_type": "code",
   "execution_count": 14,
   "metadata": {},
   "outputs": [],
   "source": [
    "# '전세가격지수' 변수가 추가된 concat 데이터\n",
    "concat = pd.merge(concat, seoul_jeonsae_df, left_on='계약년월', right_on='년월', how='inner').drop('년월', axis=1)"
   ]
  },
  {
   "cell_type": "code",
   "execution_count": 15,
   "metadata": {},
   "outputs": [],
   "source": [
    "# concat의 '전세가격지수'열의 형식을 float 변경\n",
    "concat['전세가격지수'] = concat['전세가격지수'].astype(float)"
   ]
  },
  {
   "cell_type": "code",
   "execution_count": 16,
   "metadata": {},
   "outputs": [
    {
     "data": {
      "text/html": [
       "<div>\n",
       "<style scoped>\n",
       "    .dataframe tbody tr th:only-of-type {\n",
       "        vertical-align: middle;\n",
       "    }\n",
       "\n",
       "    .dataframe tbody tr th {\n",
       "        vertical-align: top;\n",
       "    }\n",
       "\n",
       "    .dataframe thead th {\n",
       "        text-align: right;\n",
       "    }\n",
       "</style>\n",
       "<table border=\"1\" class=\"dataframe\">\n",
       "  <thead>\n",
       "    <tr style=\"text-align: right;\">\n",
       "      <th></th>\n",
       "      <th>계약년월</th>\n",
       "      <th>전세가격지수</th>\n",
       "    </tr>\n",
       "  </thead>\n",
       "  <tbody>\n",
       "    <tr>\n",
       "      <th>179913</th>\n",
       "      <td>200907</td>\n",
       "      <td>53.8</td>\n",
       "    </tr>\n",
       "    <tr>\n",
       "      <th>454837</th>\n",
       "      <td>201612</td>\n",
       "      <td>90.5</td>\n",
       "    </tr>\n",
       "    <tr>\n",
       "      <th>244301</th>\n",
       "      <td>202012</td>\n",
       "      <td>97.2</td>\n",
       "    </tr>\n",
       "    <tr>\n",
       "      <th>829470</th>\n",
       "      <td>201403</td>\n",
       "      <td>77.7</td>\n",
       "    </tr>\n",
       "    <tr>\n",
       "      <th>819599</th>\n",
       "      <td>201402</td>\n",
       "      <td>77.1</td>\n",
       "    </tr>\n",
       "    <tr>\n",
       "      <th>543849</th>\n",
       "      <td>201709</td>\n",
       "      <td>92.2</td>\n",
       "    </tr>\n",
       "    <tr>\n",
       "      <th>639057</th>\n",
       "      <td>201512</td>\n",
       "      <td>88.1</td>\n",
       "    </tr>\n",
       "    <tr>\n",
       "      <th>745180</th>\n",
       "      <td>201509</td>\n",
       "      <td>85.7</td>\n",
       "    </tr>\n",
       "    <tr>\n",
       "      <th>206340</th>\n",
       "      <td>202306</td>\n",
       "      <td>83.5</td>\n",
       "    </tr>\n",
       "    <tr>\n",
       "      <th>685434</th>\n",
       "      <td>201504</td>\n",
       "      <td>82.1</td>\n",
       "    </tr>\n",
       "  </tbody>\n",
       "</table>\n",
       "</div>"
      ],
      "text/plain": [
       "          계약년월  전세가격지수\n",
       "179913  200907    53.8\n",
       "454837  201612    90.5\n",
       "244301  202012    97.2\n",
       "829470  201403    77.7\n",
       "819599  201402    77.1\n",
       "543849  201709    92.2\n",
       "639057  201512    88.1\n",
       "745180  201509    85.7\n",
       "206340  202306    83.5\n",
       "685434  201504    82.1"
      ]
     },
     "execution_count": 16,
     "metadata": {},
     "output_type": "execute_result"
    }
   ],
   "source": [
    "# 확인을 위해 concat에서 랜덤으로 10개 샘플 뽑아보기\n",
    "concat[['계약년월', '전세가격지수']].sample(n=10)"
   ]
  },
  {
   "cell_type": "markdown",
   "metadata": {},
   "source": [
    "# 인구밀도 추가"
   ]
  },
  {
   "cell_type": "code",
   "execution_count": 17,
   "metadata": {},
   "outputs": [],
   "source": [
    "population_density_path  = './인구밀도.csv'\n",
    "population_density = pd.read_csv(population_density_path)"
   ]
  },
  {
   "cell_type": "code",
   "execution_count": 18,
   "metadata": {},
   "outputs": [
    {
     "data": {
      "text/html": [
       "<div>\n",
       "<style scoped>\n",
       "    .dataframe tbody tr th:only-of-type {\n",
       "        vertical-align: middle;\n",
       "    }\n",
       "\n",
       "    .dataframe tbody tr th {\n",
       "        vertical-align: top;\n",
       "    }\n",
       "\n",
       "    .dataframe thead th {\n",
       "        text-align: right;\n",
       "    }\n",
       "</style>\n",
       "<table border=\"1\" class=\"dataframe\">\n",
       "  <thead>\n",
       "    <tr style=\"text-align: right;\">\n",
       "      <th></th>\n",
       "      <th>동별(1)</th>\n",
       "      <th>동별(2)</th>\n",
       "      <th>동별(3)</th>\n",
       "      <th>인구 (명)</th>\n",
       "      <th>면적 (㎢)</th>\n",
       "      <th>인구밀도 (명/㎢)</th>\n",
       "    </tr>\n",
       "  </thead>\n",
       "  <tbody>\n",
       "    <tr>\n",
       "      <th>1</th>\n",
       "      <td>합계</td>\n",
       "      <td>소계</td>\n",
       "      <td>소계</td>\n",
       "      <td>9667669</td>\n",
       "      <td>605.21</td>\n",
       "      <td>15974</td>\n",
       "    </tr>\n",
       "    <tr>\n",
       "      <th>2</th>\n",
       "      <td>합계</td>\n",
       "      <td>종로구</td>\n",
       "      <td>소계</td>\n",
       "      <td>152211</td>\n",
       "      <td>23.91</td>\n",
       "      <td>6365</td>\n",
       "    </tr>\n",
       "    <tr>\n",
       "      <th>3</th>\n",
       "      <td>합계</td>\n",
       "      <td>종로구</td>\n",
       "      <td>사직동</td>\n",
       "      <td>9355</td>\n",
       "      <td>1.23</td>\n",
       "      <td>7606</td>\n",
       "    </tr>\n",
       "    <tr>\n",
       "      <th>4</th>\n",
       "      <td>합계</td>\n",
       "      <td>종로구</td>\n",
       "      <td>삼청동</td>\n",
       "      <td>2642</td>\n",
       "      <td>1.49</td>\n",
       "      <td>1773</td>\n",
       "    </tr>\n",
       "    <tr>\n",
       "      <th>5</th>\n",
       "      <td>합계</td>\n",
       "      <td>종로구</td>\n",
       "      <td>부암동</td>\n",
       "      <td>9536</td>\n",
       "      <td>2.27</td>\n",
       "      <td>4201</td>\n",
       "    </tr>\n",
       "  </tbody>\n",
       "</table>\n",
       "</div>"
      ],
      "text/plain": [
       "0 동별(1) 동별(2) 동별(3)   인구 (명)  면적 (㎢) 인구밀도 (명/㎢)\n",
       "1    합계    소계    소계  9667669  605.21      15974\n",
       "2    합계   종로구    소계   152211   23.91       6365\n",
       "3    합계   종로구   사직동     9355    1.23       7606\n",
       "4    합계   종로구   삼청동     2642    1.49       1773\n",
       "5    합계   종로구   부암동     9536    2.27       4201"
      ]
     },
     "execution_count": 18,
     "metadata": {},
     "output_type": "execute_result"
    }
   ],
   "source": [
    "# 맨 위 row를 변수 이름으로 설정\n",
    "population_density.columns = population_density.iloc[0]\n",
    "population_density = population_density[1:]\n",
    "population_density.head()"
   ]
  },
  {
   "cell_type": "code",
   "execution_count": 19,
   "metadata": {},
   "outputs": [],
   "source": [
    "# concat의 '시군구' 변수에서 동을 분리하여 따로 변수 만들기\n",
    "concat['동'] = concat['시군구'].map(lambda x : x.split()[2])"
   ]
  },
  {
   "cell_type": "code",
   "execution_count": 20,
   "metadata": {},
   "outputs": [],
   "source": [
    "# 인구밀도 데이터 변수의 타입 변환\n",
    "population_density_new = population_density[['동별(3)', '인구 (명)', '면적 (㎢)', '인구밀도 (명/㎢)']]\n",
    "population_density_new['인구 (명)'] = population_density_new['인구 (명)'].astype(float)\n",
    "population_density_new['면적 (㎢)'] = population_density_new['면적 (㎢)'].astype(float)\n",
    "population_density_new['인구밀도 (명/㎢)'] = population_density_new['인구밀도 (명/㎢)'].astype(float)"
   ]
  },
  {
   "cell_type": "code",
   "execution_count": 21,
   "metadata": {},
   "outputs": [],
   "source": [
    "# concat에서 동을 (유사)행정동으로 반환하는 함수\n",
    "# '동'이 여러 행정동에 걸쳐있는 경우 임으로 걸쳐있는 행정동 중 하나로 선택하였음\n",
    "def to_hangjungdong(dong):\n",
    "    if dong in ['금호동1가']: \n",
    "        return '금호1가동'\n",
    "    elif dong in ['봉천동']: # 중앙동은 5개의 동에 걸쳐있음\n",
    "        return '중앙동'\n",
    "    elif dong in ['마곡동']: # 마곡동은 가양1동, 방화1동, 발산1동에 걸쳐있음\n",
    "        return '가양동'\n",
    "    elif dong in ['내발산동']: # 내발산동은 '발산1동'과 '우장산동'에 걸쳐있음\n",
    "        return '발산1동'\n",
    "    elif dong in ['자곡동', '율현동']:\n",
    "        return '세곡동'\n",
    "    elif dong in ['금호동2가', '금호동3가']:\n",
    "        return '금호2.3가동'\n",
    "    elif dong in ['금호동4가']:\n",
    "        return '금호4가동'\n",
    "    elif dong in ['남대문로5가']:\n",
    "        return '회현동'\n",
    "    elif dong in ['남산동2가']:\n",
    "        return '명동'\n",
    "    elif dong in ['당산동1가', '당산동2가', '당산동3가']:\n",
    "        return '당산1동'\n",
    "    elif dong in ['당산동4가', '당산동5가', '당산동6가']:\n",
    "        return '당산2동'\n",
    "    elif dong in ['동선동1가', '동선동3가', '동선동4가', '동선동5가', '동소문동6가', '동소문동7가']:\n",
    "        return '동선동'\n",
    "    elif dong in ['동소문동5가', '삼선동2가', '삼선동3가', '삼선동4가', '삼선동5가']:\n",
    "        return '삼선동'\n",
    "    elif dong in ['만리동2가', '만리동1가']:\n",
    "        return '중림동'\n",
    "    elif dong in ['명륜1가', '명륜2가', '명륜3가']:\n",
    "        return '혜화동'\n",
    "    elif dong in ['문래동2가', '문래동3가', '문래동4가', '문래동5가', '문래동6가']:\n",
    "        return '문래동'\n",
    "    elif dong in ['보문동2가', '보문동3가', '보문동4가', '보문동6가']:\n",
    "        return '보문동'\n",
    "    elif dong in ['성북동1가', '동소문동', '동소문동4가']:\n",
    "        return '성북동'\n",
    "    elif dong in ['신문로1가', '신문로2가', '내수동', '당주동', '필운동']:\n",
    "        return '사직동'\n",
    "    elif dong in ['안암동1가', '안암동3가', '안암동4가', '안암동5가']:\n",
    "        return '안암동'\n",
    "    elif dong in ['양평동1가', '양평동2가', '양평동3가']: \n",
    "        return '양평1동'\n",
    "    elif dong in ['양평동4가', '양평동5가', '양평동6가']: # '양평동3가'는 '양평1동'과 '양평2동'에 걸쳐있음 \n",
    "        return '양평2동'\n",
    "    elif dong in ['영등포동1가', '영등포동2가', '영등포동3가', '영등포동4가', '영등포동5가', '영등포동7가', '영등포동8가']:\n",
    "        return '영등포동'\n",
    "    elif dong in ['용산동2가']:\n",
    "        return '용산2가동'\n",
    "    elif dong in ['원효로1가', '원효로2가', '문배동', '신계동']: # 원효로1동, 2동의 인구밀도가 크게 차이나기 떄문에 두 개 분리\n",
    "        return  '원효로1동'\n",
    "    elif dong in ['원효로3가', '원효로4가', '산천동', '신창동', '청암동']:\n",
    "        return '원효로2동'\n",
    "    elif dong in ['을지로5가', '산림동', '입정동']:\n",
    "        return '을지로동'\n",
    "    elif dong in ['인현동2가', '오장동', '충무로4가', '충무로5가']: \n",
    "        return '광희동'\n",
    "    elif dong in ['장충동1가', '장충동2가']:\n",
    "        return '장충동'\n",
    "    elif dong in ['청파동1가', '청파동3가']:\n",
    "        return '청파동'\n",
    "    elif dong in ['충정로2가', '충정로3가', '합동', '미근동']:\n",
    "        return '충현동'\n",
    "    elif dong in ['필동1가', '필동3가', '묵정동', '예장동']:\n",
    "        return '필동'\n",
    "    elif dong in ['한강로1가', '한강로2가', '한강로3가', '용산동5가']:\n",
    "        return '한강로동'\n",
    "    elif dong in ['회현동1가', '회현동2가', '남창동']:\n",
    "        return '회현동'\n",
    "    elif dong in ['천왕동']:\n",
    "        return '오류동'\n",
    "    elif dong in ['온수동', '궁동']:\n",
    "        return '수궁동'\n",
    "    elif dong in ['용두동', '신설동']:\n",
    "        return '용신동'\n",
    "    elif dong in ['본동']:\n",
    "        return '노량진동'\n",
    "    elif dong in ['동작동']:\n",
    "        return '사당동'\n",
    "    elif dong in ['노고산동']:\n",
    "        return '대흥동'\n",
    "    elif dong in ['마포동']:\n",
    "        return '도화동'\n",
    "    elif dong in ['상수동']:\n",
    "        return '서강동'\n",
    "    elif dong in ['신공덕동']:\n",
    "        return '공덕동'\n",
    "    elif dong in ['동교동']:\n",
    "        return '연남동'\n",
    "    elif dong in ['중동']:\n",
    "        return '성산동'\n",
    "    elif dong in ['창전동', '하중동']:\n",
    "        return '서강동'\n",
    "    elif dong in ['냉천동', '영천동', '현저동']:\n",
    "        return '천연동'\n",
    "    elif dong in ['토정동']:\n",
    "        return '용강동'\n",
    "    elif dong in ['현석동', '구수동']:\n",
    "        return '신수동'\n",
    "    elif dong in ['대현동', '창천동']:\n",
    "        return '신촌동'\n",
    "    elif dong in ['우면동']:\n",
    "        return '양재동'\n",
    "    elif dong in ['도선동', '상왕십리동', '하왕십리동', '홍익동']:\n",
    "        return '왕십리도선동'\n",
    "    elif dong in ['상월곡동', '하월곡동']:\n",
    "        return '월곡동'\n",
    "    elif dong in ['신천동']:\n",
    "        return '잠실동'\n",
    "    elif dong in ['여의도동']:\n",
    "        return '여의동'\n",
    "    elif dong in ['갈월동', '동자동']:\n",
    "        return '남영동'\n",
    "    elif dong in ['도원동']:\n",
    "        return '용문동'\n",
    "    elif dong in ['동빙고동', '주성동']:\n",
    "        return '서빙고동'\n",
    "    elif dong in ['익선동', '견지동', '인의동', '수송동', '원남동', '낙원동']:\n",
    "        return '종로1.2.3.4가동'\n",
    "    elif dong in ['효제동', '충신동', '연지동']:\n",
    "        return '종로5.6가동'\n",
    "    elif dong in ['교북동', '행촌동', '홍파동', '평동']:\n",
    "        return '교남동'\n",
    "    elif dong in ['누상동', '옥인동', '청운동', '통인동', '신교동']:\n",
    "        return '청운효자동'\n",
    "    elif dong in ['동숭동', '연건동']:\n",
    "        return '이화동'\n",
    "    elif dong in ['신영동']:\n",
    "        return '부암동'\n",
    "    elif dong in ['순화동', '정동']:\n",
    "        return '소공동'\n",
    "    elif dong in ['흥인동']:\n",
    "        return '신당동'\n",
    "    elif dong in ['구기동']:\n",
    "        return '평창동'\n",
    "    else:\n",
    "        return dong\n",
    "    "
   ]
  },
  {
   "cell_type": "code",
   "execution_count": 22,
   "metadata": {},
   "outputs": [],
   "source": [
    "# concat의 '동'을 유사 행정동으로 변환\n",
    "concat['동'] = concat['동'].apply(to_hangjungdong)"
   ]
  },
  {
   "cell_type": "code",
   "execution_count": 23,
   "metadata": {},
   "outputs": [],
   "source": [
    "# 인구밀도 데이터의 몇 개의 행정동을 하나로 합쳐주기 위한 리스트\n",
    "dong_merge_list = [['성수동1가', '성수1가1동','성수1가2동'],\n",
    "                   ['성수동2가', '성수2가1동', '성수2가3동'],\n",
    "                   ['논현동', '논현1동', '논현2동'],\n",
    "                   ['대치동', '대치1동', '대치2동', '대치4동'],\n",
    "                   ['도곡동', '도곡1동', '도곡2동'],\n",
    "                   ['역삼동', '역삼1동', '역삼2동'],\n",
    "                   ['일원동', '일원본동', '일원1동'],\n",
    "                   ['고덕동', '고덕1동', '고덕2동'],\n",
    "                   ['둔촌동', '둔촌1동', '둔촌2동'],\n",
    "                   ['명일동', '명일1동', '명일2동'],\n",
    "                   ['상일동', '상일1동', '상일2동'],\n",
    "                   ['성내동', '성내1동', '성내2동', '성내3동'],\n",
    "                   ['암사동', '암사1동', '암사2동', '암사3동'],\n",
    "                   ['천호동', '천호1동', '천호2동', '천호3동'],\n",
    "                   ['번동', '번1동', '번2동', '번3동'],\n",
    "                   ['가양동', '가양1동', '가양2동', '가양3동'],\n",
    "                   ['수유동', '수유1동', '수유2동', '수유3동'],\n",
    "                   ['등촌동', '등촌1동', '등촌2동', '등촌3동'],\n",
    "                   ['방화동', '방화1동', '방화2동', '방화3동'],\n",
    "                   ['화곡동', '화곡1동', '화곡2동',  '화곡3동', '화곡4동', '화곡6동', '화곡8동', '화곡본동'],\n",
    "                   ['구의동', '구의1동', '구의2동', '구의3동'],\n",
    "                   ['자양동', '자양1동', '자양2동', '자양3동', '자양4동'],\n",
    "                   ['개봉동', '개봉1동', '개봉2동', '개봉3동'],\n",
    "                   ['고척동', '고척1동', '고척2동'],\n",
    "                   ['중곡동', '중곡1동', '중곡2동', '중곡3동'],\n",
    "                   ['구로동', '구로1동', '구로2동', '구로3동', '구로4동', '구로5동'],\n",
    "                   ['개포동', '개포1동', '개포2동', '개포3동', '개포4동'],\n",
    "                   ['오류동', '오류1동', '오류2동'],\n",
    "                   ['독산동', '독산1동', '독산2동', '독산3동', '독산4동'],\n",
    "                   ['시흥동', '시흥1동', '시흥2동', '시흥3동', '시흥4동', '시흥5동'],\n",
    "                   ['공릉동', '공릉1동', '공릉2동'],\n",
    "                   ['상계동', '상계1동', '상계2동', '상계5동', '상계8동', '상계9동', '상계10동', '상계3.4동', '상계6.7동'],\n",
    "                   ['월계동', '월계1동', '월계2동', '월계3동'],\n",
    "                   ['중계동', '중계본동', '중계1동', '중계4동', '중계2.3동'],\n",
    "                   ['하계동', '하계1동', '하계2동'],\n",
    "                   ['도봉동', '도봉1동', '도봉2동'],\n",
    "                   ['방학동', '방학1동', '방학2동', '방학3동'],\n",
    "                   ['쌍문동', '쌍문1동', '쌍문2동', '쌍문3동', '쌍문4동'],\n",
    "                   ['창동', '창1동', '창2동', '창3동', '창4동', '창5동'],\n",
    "                   ['답십리동', '답십리1동', '답십리2동'],\n",
    "                   ['이문동', '이문1동', '이문2동'],\n",
    "                   ['장안동', '장안1동', '장안2동'],\n",
    "                   ['전농동', '전농1동', '전농2동'],\n",
    "                   ['휘경동', '휘경1동', '휘경2동'],\n",
    "                   ['노량진동', '노량진1동', '노량진2동'],\n",
    "                   ['사당동', '사당1동', '사당2동', '사당3동', '사당4동', '사당5동'],\n",
    "                   ['상도동', '상도1동', '상도2동', '상도3동', '상도4동'],\n",
    "                   ['신대방동', '신대방1동', '신대방2동'],\n",
    "                   ['성산동', '성산1동', '성산2동'],\n",
    "                   ['신정동', '신정1동', '신정2동', '신정3동', '신정4동', '신정6동', '신정7동'],\n",
    "                   ['망원동', '망원1동', '망원2동'],\n",
    "                   ['남가좌동', '남가좌1동', '남가좌2동'],\n",
    "                   ['북가좌동', '북가좌1동', '북가좌2동'],\n",
    "                   ['홍은동', '홍은1동', '홍은2동'],\n",
    "                   ['홍제동', '홍제1동', '홍제2동', '홍제3동'],\n",
    "                   ['반포동', '반포본동', '반포1동', '반포2동', '반포3동', '반포4동'],\n",
    "                   ['방배동', '방배본동', '방배1동', '방배2동', '방배3동', '방배4동'],\n",
    "                   ['서초동', '서초1동', '서초2동', '서초3동', '서초4동'],\n",
    "                   ['양재동', '양재1동', '양재2동'],\n",
    "                   ['행당동', '행당1동', '행당2동'],\n",
    "                   ['길음동', '길음1동', '길음2동'],\n",
    "                   ['돈암동', '돈암1동', '돈암2동'],\n",
    "                   ['장위동', '장위1동', '장위2동', '장위3동'],\n",
    "                   ['정릉동', '정릉1동', '정릉2동', '정릉3동', '정릉4동'],\n",
    "                   ['가락동', '가락본동', '가락1동', '가락2동'],\n",
    "                   ['거여동', '거여1동', '거여2동'],\n",
    "                   ['마천동', '마천1동', '마천2동'],\n",
    "                   ['문정동', '문정1동', '문정2동'],\n",
    "                   ['송파동', '송파1동', '송파2동'],\n",
    "                   ['방이동',  '방이1동', '방이2동'],\n",
    "                   ['잠실동', '잠실본동', '잠실2동', '잠실3동', '잠실4동', '잠실6동', '잠실7동'],\n",
    "                   ['풍납동', '풍납1동', '풍납2동'],\n",
    "                   ['목동', '목1동', '목2동', '목3동', '목4동'],\n",
    "                   ['신월동', '신월1동', '신월2동', '신월3동', '신월4동', '신월5동', '신월6동', '신월7동'],\n",
    "                   ['당산동', '당산1동', '당산2동'],\n",
    "                   ['대림동', '대림1동', '대림2동', '대림3동'],\n",
    "                   ['신길동', '신길1동', '신길3동', '신길4동', '신길5동', '신길6동', '신길7동'],\n",
    "                   ['이촌동', '이촌1동', '이촌2동'],\n",
    "                   ['이태원동', '이태원1동', '이태원2동'],\n",
    "                   ['불광동', '불광1동', '불광2동'],\n",
    "                   ['갈현동', '갈현1동', '갈현2동'],\n",
    "                   ['응암동', '응암1동', '응암2동', '응암3동'],\n",
    "                   ['숭인동', '숭인1동', '숭인2동'],\n",
    "                   ['창신동', '창신1동', '창신2동', '창신3동'],\n",
    "                   ['망우동', '망우본동', '망우3동'],\n",
    "                   ['면목동', '면목본동', '면목2동', '면목4동', '면목5동', '면목7동', '면목3.8동'],\n",
    "                   ['묵동', '묵1동', '묵2동'],\n",
    "                   ['상봉동', '상봉1동', '상봉2동'],\n",
    "                   ['신내동', '신내1동', '신내2동'],\n",
    "                   ['중화동', '중화1동', '중화2동'],\n",
    "                   ['월곡동', '월곡1동', '월곡2동']\n",
    "                   ]"
   ]
  },
  {
   "cell_type": "code",
   "execution_count": 24,
   "metadata": {},
   "outputs": [],
   "source": [
    "# 행정동을 합쳐 유사 행정동을 구하고 합친 인구와 면적을 사용하여 밀도를 다시 구하기\n",
    "for dongs in dong_merge_list:\n",
    "    dong_dict ={}\n",
    "    dong_dict['동별(3)'] = dongs[0]\n",
    "    dong_pop = 0\n",
    "    dong_area = 0\n",
    "    for dong in dongs[1:]:\n",
    "        dong_pop += population_density_new.loc[population_density_new['동별(3)'] == dong, '인구 (명)'].values[0]\n",
    "        dong_area += population_density_new.loc[population_density_new['동별(3)'] == dong, '면적 (㎢)'].values[0]\n",
    "    dong_density = dong_pop / dong_area\n",
    "    dong_dict['인구 (명)'] = dong_pop\n",
    "    dong_dict['면적 (㎢)'] = dong_area\n",
    "    dong_dict['인구밀도 (명/㎢)'] = dong_density\n",
    "    population_density_new = population_density_new.append(dong_dict, ignore_index=True)\n",
    "    "
   ]
  },
  {
   "cell_type": "code",
   "execution_count": 25,
   "metadata": {},
   "outputs": [],
   "source": [
    "# '인구밀도 (명/㎢)' 변수가 추가된 concat 데이터\n",
    "concat = pd.merge(concat, population_density_new, left_on='동', right_on='동별(3)', how='inner').drop(['동별(3)', '인구 (명)', '면적 (㎢)'], axis=1)"
   ]
  },
  {
   "cell_type": "code",
   "execution_count": 26,
   "metadata": {},
   "outputs": [
    {
     "data": {
      "text/html": [
       "<div>\n",
       "<style scoped>\n",
       "    .dataframe tbody tr th:only-of-type {\n",
       "        vertical-align: middle;\n",
       "    }\n",
       "\n",
       "    .dataframe tbody tr th {\n",
       "        vertical-align: top;\n",
       "    }\n",
       "\n",
       "    .dataframe thead th {\n",
       "        text-align: right;\n",
       "    }\n",
       "</style>\n",
       "<table border=\"1\" class=\"dataframe\">\n",
       "  <thead>\n",
       "    <tr style=\"text-align: right;\">\n",
       "      <th></th>\n",
       "      <th>동</th>\n",
       "      <th>인구밀도 (명/㎢)</th>\n",
       "    </tr>\n",
       "  </thead>\n",
       "  <tbody>\n",
       "    <tr>\n",
       "      <th>889711</th>\n",
       "      <td>문정동</td>\n",
       "      <td>17665.579710</td>\n",
       "    </tr>\n",
       "    <tr>\n",
       "      <th>280458</th>\n",
       "      <td>자양동</td>\n",
       "      <td>20841.648590</td>\n",
       "    </tr>\n",
       "    <tr>\n",
       "      <th>456627</th>\n",
       "      <td>중계동</td>\n",
       "      <td>19837.500000</td>\n",
       "    </tr>\n",
       "    <tr>\n",
       "      <th>51306</th>\n",
       "      <td>신사동</td>\n",
       "      <td>8400.000000</td>\n",
       "    </tr>\n",
       "    <tr>\n",
       "      <th>970795</th>\n",
       "      <td>당산2동</td>\n",
       "      <td>23937.000000</td>\n",
       "    </tr>\n",
       "    <tr>\n",
       "      <th>976357</th>\n",
       "      <td>도림동</td>\n",
       "      <td>22022.000000</td>\n",
       "    </tr>\n",
       "    <tr>\n",
       "      <th>1118466</th>\n",
       "      <td>신내동</td>\n",
       "      <td>16722.063037</td>\n",
       "    </tr>\n",
       "    <tr>\n",
       "      <th>261436</th>\n",
       "      <td>신림동</td>\n",
       "      <td>44217.000000</td>\n",
       "    </tr>\n",
       "    <tr>\n",
       "      <th>751309</th>\n",
       "      <td>서초동</td>\n",
       "      <td>17071.715611</td>\n",
       "    </tr>\n",
       "    <tr>\n",
       "      <th>536661</th>\n",
       "      <td>답십리동</td>\n",
       "      <td>34087.349398</td>\n",
       "    </tr>\n",
       "  </tbody>\n",
       "</table>\n",
       "</div>"
      ],
      "text/plain": [
       "            동    인구밀도 (명/㎢)\n",
       "889711    문정동  17665.579710\n",
       "280458    자양동  20841.648590\n",
       "456627    중계동  19837.500000\n",
       "51306     신사동   8400.000000\n",
       "970795   당산2동  23937.000000\n",
       "976357    도림동  22022.000000\n",
       "1118466   신내동  16722.063037\n",
       "261436    신림동  44217.000000\n",
       "751309    서초동  17071.715611\n",
       "536661   답십리동  34087.349398"
      ]
     },
     "execution_count": 26,
     "metadata": {},
     "output_type": "execute_result"
    }
   ],
   "source": [
    "# 확인을 위해 concat에서 랜덤으로 10개 샘플 뽑아보기\n",
    "concat[['동', '인구밀도 (명/㎢)']].sample(n=10)"
   ]
  },
  {
   "cell_type": "markdown",
   "metadata": {},
   "source": [
    "# 서울시 공동주택 아파트 데이터로 결측치 채우기"
   ]
  },
  {
   "cell_type": "code",
   "execution_count": 27,
   "metadata": {},
   "outputs": [],
   "source": [
    "concat['등기신청일자'] = concat['등기신청일자'].replace(' ', np.nan)\n",
    "concat['거래유형'] = concat['거래유형'].replace('-', np.nan)\n",
    "concat['중개사소재지'] = concat['중개사소재지'].replace('-', np.nan)"
   ]
  },
  {
   "cell_type": "code",
   "execution_count": 28,
   "metadata": {},
   "outputs": [],
   "source": [
    "house_df_path = \"./서울시 공동주택 아파트 정보.csv\"\n",
    "house_df = pd.read_csv(house_df_path, encoding='cp949')"
   ]
  },
  {
   "cell_type": "code",
   "execution_count": 29,
   "metadata": {},
   "outputs": [],
   "source": [
    "# '도로명주소'을 기준으로 df_train의 결측치 ('아파트명'은 같은 아파트임에도 서로 일치하지 않는 항목이 많아서)\n",
    "house_df['도로명주소'] = house_df['주소(도로명)'] + ' ' + house_df['주소(도로상세주소)']\n",
    "house_df = house_df.drop_duplicates(subset='도로명주소')"
   ]
  },
  {
   "cell_type": "code",
   "execution_count": 30,
   "metadata": {},
   "outputs": [],
   "source": [
    "# house_df_unique에서 '도로명주소'가 같은 경우 수치형인 열은 평균값으로, 범주형인 열은 최빈값으로 중복값 대체\n",
    "def handle_duplicates(df):\n",
    "    duplicates = df.duplicated(subset=['도로명주소'])\n",
    "    for col in df.columns:\n",
    "        if col != '도로명주소':\n",
    "            if df[col].dtype == 'int64':\n",
    "                df[col] = df.groupby('도로명주소')[col].transform(lambda x: x.mean() if not x.isnull().all() else x)\n",
    "            else:\n",
    "                df[col] = df.groupby('도로명주소')[col].transform(lambda x: x.mode().iloc[0] if not x.isnull().all() else x)\n",
    "    df = df.drop_duplicates(subset=['도로명주소'])\n",
    "    return df\n",
    "\n",
    "house_df = handle_duplicates(house_df)"
   ]
  },
  {
   "cell_type": "code",
   "execution_count": 31,
   "metadata": {},
   "outputs": [],
   "source": [
    "# concat과 house_df_unique에 공통으로 존재하는 열 찾기\n",
    "common_cols = []\n",
    "for col_1 in (concat.columns):\n",
    "    for col_2 in list(list(house_df.columns)):\n",
    "        if col_1 == col_2:\n",
    "            common_cols.append(col_1)\n",
    "            break"
   ]
  },
  {
   "cell_type": "code",
   "execution_count": 32,
   "metadata": {},
   "outputs": [],
   "source": [
    "# concat의 결측치를 house_df_unique로 채우기\n",
    "for col in common_cols:\n",
    "    concat[col] = concat[col].fillna(concat['도로명'].map(house_df.set_index('도로명주소')[col]))\n",
    "concat['아파트명'] = concat['아파트명'].fillna(concat['도로명'].map(house_df.set_index('도로명주소')['k-아파트명']))"
   ]
  },
  {
   "cell_type": "markdown",
   "metadata": {},
   "source": [
    "# 'k-건설사(시공사)' 변수의 값을 단순화하기"
   ]
  },
  {
   "cell_type": "code",
   "execution_count": 33,
   "metadata": {},
   "outputs": [],
   "source": [
    "# # 아파트명 변수의 값을 단순화하기\n",
    "concat['k-건설사(시공사)'] = concat['k-건설사(시공사)'].astype(str)\n",
    "# 여러 건설사가 같이 시공하였을 시 더 브랜드 평판이 높은 건설사 혹은 데이터가 더 많은 건설사로 대체\n",
    "def simple_apt(apt):\n",
    "    if '현대건설' in apt or '힐스테이트' in apt:\n",
    "        return '현대건설'\n",
    "    elif '삼성물산' in apt:\n",
    "        return '삼성물산'\n",
    "    elif '대우건설' in apt or '푸르지오' in apt:\n",
    "        return '대우건설'\n",
    "    elif 'GS' in apt or 'gs' in apt or '지에스' in apt:\n",
    "        return 'GS건설'\n",
    "    elif '포스코' in apt:\n",
    "        return '포스코건설'\n",
    "    elif '래미안' in apt or '삼성물산' in apt:\n",
    "        return '삼성물산'\n",
    "    elif 'DL' in apt:\n",
    "        return 'DL E&C'\n",
    "    elif '롯데건설' in apt or '롯데캐슬' in apt:\n",
    "        return '롯데건설'\n",
    "    elif '현대산업' in apt:\n",
    "        return '현대산업개발'\n",
    "    elif '한화' in apt:\n",
    "        return '한화건설'\n",
    "    elif '쌍용' in apt:\n",
    "        return '쌍용건설'\n",
    "    elif apt in ['대한주택공사', 'LH공사', '한국토지주택공사', '한국주택공사', 'LH']:\n",
    "        return '한국토지주택공사'\n",
    "    elif '우성' in apt:\n",
    "        return '우성건설'\n",
    "    elif '한신' in apt:\n",
    "        return '한신공영'\n",
    "    elif '두산건설' in apt:\n",
    "        return '두산건설'\n",
    "    elif apt in ['동아건설', '(주)동아건설', '동아건설산업(주)', '동아건설산업', '동아건설(주)', '(주)동아건설산업', '동아,효성', '동아주택']:\n",
    "        return '동아건설'\n",
    "    elif '대림산업' in apt:\n",
    "        return '대림산업'\n",
    "    elif '벽산건설' in apt:\n",
    "        return '벽산건설'\n",
    "    elif '동부건설' in apt:\n",
    "        return '동부건설'\n",
    "    else:\n",
    "        return 'Other'\n",
    "    \n",
    "    \n",
    "concat['k-건설사(시공사)'] = concat['k-건설사(시공사)'].apply(simple_apt)\n",
    "concat['k-건설사(시공사)'] = concat['k-건설사(시공사)'].fillna(value='Other') # 결측치도 'Other'로 통일"
   ]
  },
  {
   "cell_type": "markdown",
   "metadata": {},
   "source": [
    "# 아파트 연식 변수 추가"
   ]
  },
  {
   "cell_type": "code",
   "execution_count": 34,
   "metadata": {},
   "outputs": [
    {
     "data": {
      "text/plain": [
       "(1118822, 53)"
      ]
     },
     "execution_count": 34,
     "metadata": {},
     "output_type": "execute_result"
    }
   ],
   "source": [
    "train.shape"
   ]
  },
  {
   "cell_type": "code",
   "execution_count": 35,
   "metadata": {},
   "outputs": [],
   "source": [
    "concat['연식'] = 2023 - concat['건축년도']"
   ]
  },
  {
   "cell_type": "code",
   "execution_count": 36,
   "metadata": {},
   "outputs": [],
   "source": [
    "# 연식(0 - 10, 11 - 30, > 30)별 변수 추가\n",
    "concat['연식0-10'] = 0\n",
    "concat.loc[concat['연식'] <= 10, '연식0-10'] = 1\n",
    "\n",
    "concat['연식11-30'] = 0\n",
    "concat.loc[(concat['연식'] > 10) & (concat['연식'] <= 30), '연식11-30'] = 1\n",
    "\n",
    "concat['연식>30'] = 0\n",
    "concat.loc[concat['연식'] > 30, '연식>30'] = 1\n",
    "\n",
    "concat['연식(category)'] = 0\n",
    "concat.loc[concat['연식0-10'] == 1, '연식(category)'] = '0'\n",
    "concat.loc[concat['연식11-30'] == 1, '연식(category)'] = '1'\n",
    "concat.loc[concat['연식>30'] == 1, '연식(category)'] = '2'"
   ]
  },
  {
   "cell_type": "code",
   "execution_count": 37,
   "metadata": {},
   "outputs": [
    {
     "data": {
      "text/html": [
       "<div>\n",
       "<style scoped>\n",
       "    .dataframe tbody tr th:only-of-type {\n",
       "        vertical-align: middle;\n",
       "    }\n",
       "\n",
       "    .dataframe tbody tr th {\n",
       "        vertical-align: top;\n",
       "    }\n",
       "\n",
       "    .dataframe thead th {\n",
       "        text-align: right;\n",
       "    }\n",
       "</style>\n",
       "<table border=\"1\" class=\"dataframe\">\n",
       "  <thead>\n",
       "    <tr style=\"text-align: right;\">\n",
       "      <th></th>\n",
       "      <th>연식</th>\n",
       "      <th>연식0-10</th>\n",
       "      <th>연식11-30</th>\n",
       "      <th>연식&gt;30</th>\n",
       "    </tr>\n",
       "  </thead>\n",
       "  <tbody>\n",
       "    <tr>\n",
       "      <th>384233</th>\n",
       "      <td>25</td>\n",
       "      <td>0</td>\n",
       "      <td>1</td>\n",
       "      <td>0</td>\n",
       "    </tr>\n",
       "    <tr>\n",
       "      <th>322757</th>\n",
       "      <td>19</td>\n",
       "      <td>0</td>\n",
       "      <td>1</td>\n",
       "      <td>0</td>\n",
       "    </tr>\n",
       "    <tr>\n",
       "      <th>833794</th>\n",
       "      <td>20</td>\n",
       "      <td>0</td>\n",
       "      <td>1</td>\n",
       "      <td>0</td>\n",
       "    </tr>\n",
       "    <tr>\n",
       "      <th>464038</th>\n",
       "      <td>33</td>\n",
       "      <td>0</td>\n",
       "      <td>0</td>\n",
       "      <td>1</td>\n",
       "    </tr>\n",
       "    <tr>\n",
       "      <th>942576</th>\n",
       "      <td>26</td>\n",
       "      <td>0</td>\n",
       "      <td>1</td>\n",
       "      <td>0</td>\n",
       "    </tr>\n",
       "    <tr>\n",
       "      <th>638758</th>\n",
       "      <td>18</td>\n",
       "      <td>0</td>\n",
       "      <td>1</td>\n",
       "      <td>0</td>\n",
       "    </tr>\n",
       "    <tr>\n",
       "      <th>29389</th>\n",
       "      <td>19</td>\n",
       "      <td>0</td>\n",
       "      <td>1</td>\n",
       "      <td>0</td>\n",
       "    </tr>\n",
       "    <tr>\n",
       "      <th>1113784</th>\n",
       "      <td>19</td>\n",
       "      <td>0</td>\n",
       "      <td>1</td>\n",
       "      <td>0</td>\n",
       "    </tr>\n",
       "    <tr>\n",
       "      <th>605399</th>\n",
       "      <td>11</td>\n",
       "      <td>0</td>\n",
       "      <td>1</td>\n",
       "      <td>0</td>\n",
       "    </tr>\n",
       "    <tr>\n",
       "      <th>706769</th>\n",
       "      <td>22</td>\n",
       "      <td>0</td>\n",
       "      <td>1</td>\n",
       "      <td>0</td>\n",
       "    </tr>\n",
       "  </tbody>\n",
       "</table>\n",
       "</div>"
      ],
      "text/plain": [
       "         연식  연식0-10  연식11-30  연식>30\n",
       "384233   25       0        1      0\n",
       "322757   19       0        1      0\n",
       "833794   20       0        1      0\n",
       "464038   33       0        0      1\n",
       "942576   26       0        1      0\n",
       "638758   18       0        1      0\n",
       "29389    19       0        1      0\n",
       "1113784  19       0        1      0\n",
       "605399   11       0        1      0\n",
       "706769   22       0        1      0"
      ]
     },
     "execution_count": 37,
     "metadata": {},
     "output_type": "execute_result"
    }
   ],
   "source": [
    "concat[['연식', '연식0-10', '연식11-30', '연식>30']].sample(n=10)"
   ]
  },
  {
   "cell_type": "code",
   "execution_count": 38,
   "metadata": {},
   "outputs": [
    {
     "data": {
      "text/plain": [
       "<Axes: xlabel='연식(category)', ylabel='target'>"
      ]
     },
     "execution_count": 38,
     "metadata": {},
     "output_type": "execute_result"
    },
    {
     "data": {
      "image/png": "[encoded data removed]",
      "text/plain": [
       "<Figure size 640x480 with 1 Axes>"
      ]
     },
     "metadata": {},
     "output_type": "display_data"
    }
   ],
   "source": [
    "sns.boxplot(x='연식(category)', y='target', data=concat[:1118822])"
   ]
  },
  {
   "cell_type": "markdown",
   "metadata": {},
   "source": [
    "# 세대별주차대수 변수 추가"
   ]
  },
  {
   "cell_type": "code",
   "execution_count": 39,
   "metadata": {},
   "outputs": [],
   "source": [
    "concat['세대별주차대수'] = concat['주차대수']/concat['k-전체세대수']"
   ]
  },
  {
   "cell_type": "code",
   "execution_count": 40,
   "metadata": {},
   "outputs": [
    {
     "data": {
      "text/plain": [
       "<Axes: xlabel='연식(category)', ylabel='세대별주차대수'>"
      ]
     },
     "execution_count": 40,
     "metadata": {},
     "output_type": "execute_result"
    },
    {
     "data": {
      "image/png": "[encoded data removed]",
      "text/plain": [
       "<Figure size 640x480 with 1 Axes>"
      ]
     },
     "metadata": {},
     "output_type": "display_data"
    }
   ],
   "source": [
    "sns.boxplot(x='연식(category)', y='세대별주차대수', data=concat[:1118822])"
   ]
  },
  {
   "cell_type": "code",
   "execution_count": 41,
   "metadata": {},
   "outputs": [
    {
     "data": {
      "text/plain": [
       "261695"
      ]
     },
     "execution_count": 41,
     "metadata": {},
     "output_type": "execute_result"
    }
   ],
   "source": [
    "concat['세대별주차대수'].isnull().sum()"
   ]
  },
  {
   "cell_type": "code",
   "execution_count": 42,
   "metadata": {},
   "outputs": [],
   "source": [
    "# 세대별주차대수의 결측치는 연식(category)을 기준으로 평균값을 채워넣는다.\n",
    "concat['세대별주차대수'] = concat.groupby('연식(category)')['세대별주차대수'].transform(lambda x: x.fillna(x.mean()))"
   ]
  },
  {
   "cell_type": "markdown",
   "metadata": {},
   "source": [
    "# 도로명을 기준으로 중복값 제거"
   ]
  },
  {
   "cell_type": "code",
   "execution_count": 43,
   "metadata": {},
   "outputs": [
    {
     "data": {
      "image/png": "[encoded data removed]",
      "text/plain": [
       "<Figure size 1300x200 with 1 Axes>"
      ]
     },
     "metadata": {},
     "output_type": "display_data"
    }
   ],
   "source": [
    "fig = plt.figure(figsize=(13, 2))\n",
    "missing = concat.isnull().sum() / concat.shape[0]\n",
    "missing = missing[missing >= 0]\n",
    "missing.sort_values(inplace=True)\n",
    "missing.plot.bar(color='orange')\n",
    "plt.title('변수별 결측치 비율')\n",
    "plt.show()"
   ]
  },
  {
   "cell_type": "code",
   "execution_count": 44,
   "metadata": {},
   "outputs": [],
   "source": [
    "# 우선 결측치가 없는 변수들로만 \n",
    "cols_selected = concat.columns[concat.notna().all()].tolist()\n",
    "cols_selected.append('target')\n",
    "cols_to_remove = ['시군구', '연식(category)', '계약일', '계약날짜', '본번', '부번', '번지', '연식(categorical)', '층', '연식1-10', '계약년월', '기준금리', '전세가격지수']\n",
    "cols_selected = list(filter(lambda x: x not in cols_to_remove, cols_selected))\n",
    "concat_new = concat[cols_selected]"
   ]
  },
  {
   "cell_type": "code",
   "execution_count": 45,
   "metadata": {},
   "outputs": [
    {
     "data": {
      "text/plain": [
       "(1133641, 13)"
      ]
     },
     "execution_count": 45,
     "metadata": {},
     "output_type": "execute_result"
    }
   ],
   "source": [
    "concat_new.shape"
   ]
  },
  {
   "cell_type": "code",
   "execution_count": 46,
   "metadata": {},
   "outputs": [
    {
     "name": "stdout",
     "output_type": "stream",
     "text": [
      "(1124347, 12) (9294, 12)\n"
     ]
    }
   ],
   "source": [
    "# 이제 다시 train과 test dataset을 분할해줍니다. 위에서 제작해 놓았던 is_test 칼럼을 이용합니다.\n",
    "dt_train = concat_new.query('is_test==0')\n",
    "dt_test = concat_new.query('is_test==1')\n",
    "\n",
    "# 이제 is_test 칼럼은 drop해줍니다.\n",
    "dt_train.drop(['is_test'], axis = 1, inplace=True)\n",
    "dt_test.drop(['is_test'], axis = 1, inplace=True)\n",
    "print(dt_train.shape, dt_test.shape)"
   ]
  },
  {
   "cell_type": "code",
   "execution_count": 47,
   "metadata": {},
   "outputs": [
    {
     "name": "stdout",
     "output_type": "stream",
     "text": [
      "연속형 변수: ['전용면적(㎡)', '건축년도', '인구밀도 (명/㎢)', '연식', '연식0-10', '연식11-30', '연식>30', '세대별주차대수', 'target']\n",
      "범주형 변수: ['도로명', 'k-건설사(시공사)', '동']\n"
     ]
    }
   ],
   "source": [
    "continuous_columns = []\n",
    "categorical_columns = []\n",
    "\n",
    "for column in dt_train.columns:\n",
    "    if pd.api.types.is_numeric_dtype(dt_train[column]):\n",
    "        continuous_columns.append(column)\n",
    "    else:\n",
    "        categorical_columns.append(column)\n",
    "\n",
    "\n",
    "print(\"연속형 변수:\", continuous_columns)\n",
    "print(\"범주형 변수:\", categorical_columns)"
   ]
  },
  {
   "cell_type": "code",
   "execution_count": 48,
   "metadata": {},
   "outputs": [
    {
     "data": {
      "text/html": [
       "<div>\n",
       "<style scoped>\n",
       "    .dataframe tbody tr th:only-of-type {\n",
       "        vertical-align: middle;\n",
       "    }\n",
       "\n",
       "    .dataframe tbody tr th {\n",
       "        vertical-align: top;\n",
       "    }\n",
       "\n",
       "    .dataframe thead th {\n",
       "        text-align: right;\n",
       "    }\n",
       "</style>\n",
       "<table border=\"1\" class=\"dataframe\">\n",
       "  <thead>\n",
       "    <tr style=\"text-align: right;\">\n",
       "      <th></th>\n",
       "      <th>전용면적(㎡)</th>\n",
       "      <th>건축년도</th>\n",
       "      <th>도로명</th>\n",
       "      <th>k-건설사(시공사)</th>\n",
       "      <th>동</th>\n",
       "      <th>인구밀도 (명/㎢)</th>\n",
       "      <th>연식</th>\n",
       "      <th>연식0-10</th>\n",
       "      <th>연식11-30</th>\n",
       "      <th>연식&gt;30</th>\n",
       "      <th>세대별주차대수</th>\n",
       "      <th>target</th>\n",
       "    </tr>\n",
       "  </thead>\n",
       "  <tbody>\n",
       "    <tr>\n",
       "      <th>79952</th>\n",
       "      <td>84.83</td>\n",
       "      <td>2009</td>\n",
       "      <td>아리수로97길 19</td>\n",
       "      <td>Other</td>\n",
       "      <td>강일동</td>\n",
       "      <td>14627.000000</td>\n",
       "      <td>14</td>\n",
       "      <td>0</td>\n",
       "      <td>1</td>\n",
       "      <td>0</td>\n",
       "      <td>1.105615</td>\n",
       "      <td>59000.0</td>\n",
       "    </tr>\n",
       "    <tr>\n",
       "      <th>273594</th>\n",
       "      <td>84.92</td>\n",
       "      <td>1996</td>\n",
       "      <td>아차산로76길 27</td>\n",
       "      <td>Other</td>\n",
       "      <td>광장동</td>\n",
       "      <td>14377.000000</td>\n",
       "      <td>27</td>\n",
       "      <td>0</td>\n",
       "      <td>1</td>\n",
       "      <td>0</td>\n",
       "      <td>1.032795</td>\n",
       "      <td>60000.0</td>\n",
       "    </tr>\n",
       "    <tr>\n",
       "      <th>518094</th>\n",
       "      <td>80.76</td>\n",
       "      <td>2004</td>\n",
       "      <td>덕릉로63길 37</td>\n",
       "      <td>Other</td>\n",
       "      <td>창동</td>\n",
       "      <td>27660.235294</td>\n",
       "      <td>19</td>\n",
       "      <td>0</td>\n",
       "      <td>1</td>\n",
       "      <td>0</td>\n",
       "      <td>1.032795</td>\n",
       "      <td>42000.0</td>\n",
       "    </tr>\n",
       "    <tr>\n",
       "      <th>369006</th>\n",
       "      <td>114.98</td>\n",
       "      <td>1999</td>\n",
       "      <td>공릉로 211</td>\n",
       "      <td>Other</td>\n",
       "      <td>공릉동</td>\n",
       "      <td>9686.755772</td>\n",
       "      <td>24</td>\n",
       "      <td>0</td>\n",
       "      <td>1</td>\n",
       "      <td>0</td>\n",
       "      <td>1.032795</td>\n",
       "      <td>43000.0</td>\n",
       "    </tr>\n",
       "    <tr>\n",
       "      <th>210786</th>\n",
       "      <td>84.92</td>\n",
       "      <td>2005</td>\n",
       "      <td>양천로65길 46</td>\n",
       "      <td>Other</td>\n",
       "      <td>염창동</td>\n",
       "      <td>23924.000000</td>\n",
       "      <td>18</td>\n",
       "      <td>0</td>\n",
       "      <td>1</td>\n",
       "      <td>0</td>\n",
       "      <td>1.032795</td>\n",
       "      <td>52000.0</td>\n",
       "    </tr>\n",
       "    <tr>\n",
       "      <th>865082</th>\n",
       "      <td>84.78</td>\n",
       "      <td>2004</td>\n",
       "      <td>양재대로66길 29</td>\n",
       "      <td>Other</td>\n",
       "      <td>가락동</td>\n",
       "      <td>24802.915452</td>\n",
       "      <td>19</td>\n",
       "      <td>0</td>\n",
       "      <td>1</td>\n",
       "      <td>0</td>\n",
       "      <td>1.032795</td>\n",
       "      <td>52000.0</td>\n",
       "    </tr>\n",
       "    <tr>\n",
       "      <th>1087953</th>\n",
       "      <td>68.06</td>\n",
       "      <td>2003</td>\n",
       "      <td>지봉로 87</td>\n",
       "      <td>Other</td>\n",
       "      <td>창신동</td>\n",
       "      <td>25981.250000</td>\n",
       "      <td>20</td>\n",
       "      <td>0</td>\n",
       "      <td>1</td>\n",
       "      <td>0</td>\n",
       "      <td>1.032795</td>\n",
       "      <td>31000.0</td>\n",
       "    </tr>\n",
       "    <tr>\n",
       "      <th>240088</th>\n",
       "      <td>53.28</td>\n",
       "      <td>2005</td>\n",
       "      <td>당곡2길 109-11</td>\n",
       "      <td>Other</td>\n",
       "      <td>중앙동</td>\n",
       "      <td>40218.000000</td>\n",
       "      <td>18</td>\n",
       "      <td>0</td>\n",
       "      <td>1</td>\n",
       "      <td>0</td>\n",
       "      <td>1.032795</td>\n",
       "      <td>22000.0</td>\n",
       "    </tr>\n",
       "    <tr>\n",
       "      <th>15434</th>\n",
       "      <td>82.14</td>\n",
       "      <td>2004</td>\n",
       "      <td>논현로124길 8</td>\n",
       "      <td>Other</td>\n",
       "      <td>논현동</td>\n",
       "      <td>15769.852941</td>\n",
       "      <td>19</td>\n",
       "      <td>0</td>\n",
       "      <td>1</td>\n",
       "      <td>0</td>\n",
       "      <td>1.032795</td>\n",
       "      <td>32000.0</td>\n",
       "    </tr>\n",
       "    <tr>\n",
       "      <th>835488</th>\n",
       "      <td>81.17</td>\n",
       "      <td>2003</td>\n",
       "      <td>화랑로18가길 51</td>\n",
       "      <td>Other</td>\n",
       "      <td>월곡동</td>\n",
       "      <td>21155.760369</td>\n",
       "      <td>20</td>\n",
       "      <td>0</td>\n",
       "      <td>1</td>\n",
       "      <td>0</td>\n",
       "      <td>1.032795</td>\n",
       "      <td>37000.0</td>\n",
       "    </tr>\n",
       "  </tbody>\n",
       "</table>\n",
       "</div>"
      ],
      "text/plain": [
       "         전용면적(㎡)  건축년도          도로명 k-건설사(시공사)    동    인구밀도 (명/㎢)  연식  연식0-10  \\\n",
       "79952      84.83  2009   아리수로97길 19      Other  강일동  14627.000000  14       0   \n",
       "273594     84.92  1996   아차산로76길 27      Other  광장동  14377.000000  27       0   \n",
       "518094     80.76  2004    덕릉로63길 37      Other   창동  27660.235294  19       0   \n",
       "369006    114.98  1999      공릉로 211      Other  공릉동   9686.755772  24       0   \n",
       "210786     84.92  2005    양천로65길 46      Other  염창동  23924.000000  18       0   \n",
       "865082     84.78  2004   양재대로66길 29      Other  가락동  24802.915452  19       0   \n",
       "1087953    68.06  2003       지봉로 87      Other  창신동  25981.250000  20       0   \n",
       "240088     53.28  2005  당곡2길 109-11      Other  중앙동  40218.000000  18       0   \n",
       "15434      82.14  2004    논현로124길 8      Other  논현동  15769.852941  19       0   \n",
       "835488     81.17  2003   화랑로18가길 51      Other  월곡동  21155.760369  20       0   \n",
       "\n",
       "         연식11-30  연식>30   세대별주차대수   target  \n",
       "79952          1      0  1.105615  59000.0  \n",
       "273594         1      0  1.032795  60000.0  \n",
       "518094         1      0  1.032795  42000.0  \n",
       "369006         1      0  1.032795  43000.0  \n",
       "210786         1      0  1.032795  52000.0  \n",
       "865082         1      0  1.032795  52000.0  \n",
       "1087953        1      0  1.032795  31000.0  \n",
       "240088         1      0  1.032795  22000.0  \n",
       "15434          1      0  1.032795  32000.0  \n",
       "835488         1      0  1.032795  37000.0  "
      ]
     },
     "execution_count": 48,
     "metadata": {},
     "output_type": "execute_result"
    }
   ],
   "source": [
    "# for col in ['기준금리', '전세가격지수']:\n",
    "#     if col not in ['도로명', '전용면적(㎡)', '계약년월']:\n",
    "#         dt_train[col] = dt_train.groupby(['도로명', '전용면적(㎡)'])[col].transform(lambda x: x.mean() if not x.isnull().all() else x)\n",
    "\n",
    "dt_train = dt_train.drop_duplicates(subset=['도로명', '전용면적(㎡)'])\n",
    "dt_train.sample(n=10)"
   ]
  },
  {
   "cell_type": "code",
   "execution_count": 49,
   "metadata": {},
   "outputs": [],
   "source": [
    "dt_train = dt_train.drop(columns=['도로명'])\n",
    "dt_test = dt_test.drop(columns = ['도로명', 'target'])"
   ]
  },
  {
   "cell_type": "markdown",
   "metadata": {},
   "source": [
    "# 라벨링"
   ]
  },
  {
   "cell_type": "code",
   "execution_count": 50,
   "metadata": {},
   "outputs": [
    {
     "name": "stdout",
     "output_type": "stream",
     "text": [
      "변환전\n",
      " k-건설사(시공사)\n",
      "GS건설     136406.256477\n",
      "대림산업     122307.553806\n",
      "삼성물산     121067.751852\n",
      "롯데건설     113295.771300\n",
      "포스코건설    104917.130952\n",
      "Name: target, dtype: float64\n",
      "변환후\n",
      " k-건설사(시공사)\n",
      "0    136406.256477\n",
      "1    122307.553806\n",
      "2    121067.751852\n",
      "3    113295.771300\n",
      "4    104917.130952\n",
      "Name: target, dtype: float64\n"
     ]
    }
   ],
   "source": [
    "# 'k-건설사(시공사)'열 라벨 인코딩\n",
    "\n",
    "# 건설사별 가격의 평균 내림차순 정렬\n",
    "apt_price = dt_train.groupby('k-건설사(시공사)')['target'].agg('mean').sort_values(ascending=False)\n",
    "print('변환전\\n', apt_price[:5])\n",
    "\n",
    "for i, a in enumerate(list(apt_price.index)):\n",
    "    dt_train.loc[dt_train['k-건설사(시공사)'] == a, 'k-건설사(시공사)'] = i # 라벨 인코딩\n",
    "    dt_test.loc[dt_test['k-건설사(시공사)'] == a, 'k-건설사(시공사)'] = i\n",
    "apt_price = dt_train.groupby('k-건설사(시공사)')['target'].agg('mean').sort_values(ascending=False)\n",
    "print('변환후\\n', apt_price[:5])"
   ]
  },
  {
   "cell_type": "code",
   "execution_count": 51,
   "metadata": {},
   "outputs": [
    {
     "data": {
      "text/plain": [
       "동\n",
       "압구정동     240735.037594\n",
       "성수동1가    209869.465649\n",
       "청담동      175480.000000\n",
       "장충동      171576.666667\n",
       "일원동      153929.333333\n",
       "반포동      148722.062389\n",
       "교남동      143065.000000\n",
       "수서동      142992.700000\n",
       "잠원동      142940.407514\n",
       "도곡동      142289.405333\n",
       "개포동      140524.878049\n",
       "한강로동     138795.766667\n",
       "여의동      136227.416244\n",
       "삼성동      134755.702032\n",
       "잠실동      132638.780488\n",
       "한남동      124995.659443\n",
       "대치동      123138.359060\n",
       "서빙고동     116923.384615\n",
       "이촌동      116868.800000\n",
       "신원동      116444.264706\n",
       "Name: target, dtype: float64"
      ]
     },
     "execution_count": 51,
     "metadata": {},
     "output_type": "execute_result"
    }
   ],
   "source": [
    "# '동'열 라벨 인코딩\n",
    "dong_price = dt_train.groupby('동')['target'].agg('mean').sort_values(ascending=False)\n",
    "dong_price[:20]"
   ]
  },
  {
   "cell_type": "code",
   "execution_count": 52,
   "metadata": {},
   "outputs": [
    {
     "name": "stderr",
     "output_type": "stream",
     "text": [
      "100%|██████████| 211/211 [00:00<00:00, 343.45it/s]\n"
     ]
    },
    {
     "data": {
      "text/html": [
       "<div>\n",
       "<style scoped>\n",
       "    .dataframe tbody tr th:only-of-type {\n",
       "        vertical-align: middle;\n",
       "    }\n",
       "\n",
       "    .dataframe tbody tr th {\n",
       "        vertical-align: top;\n",
       "    }\n",
       "\n",
       "    .dataframe thead th {\n",
       "        text-align: right;\n",
       "    }\n",
       "</style>\n",
       "<table border=\"1\" class=\"dataframe\">\n",
       "  <thead>\n",
       "    <tr style=\"text-align: right;\">\n",
       "      <th></th>\n",
       "      <th>전용면적(㎡)</th>\n",
       "      <th>건축년도</th>\n",
       "      <th>k-건설사(시공사)</th>\n",
       "      <th>동</th>\n",
       "      <th>인구밀도 (명/㎢)</th>\n",
       "      <th>연식</th>\n",
       "      <th>연식0-10</th>\n",
       "      <th>연식11-30</th>\n",
       "      <th>연식&gt;30</th>\n",
       "      <th>세대별주차대수</th>\n",
       "      <th>target</th>\n",
       "    </tr>\n",
       "  </thead>\n",
       "  <tbody>\n",
       "    <tr>\n",
       "      <th>0</th>\n",
       "      <td>79.97</td>\n",
       "      <td>1987</td>\n",
       "      <td>11</td>\n",
       "      <td>10</td>\n",
       "      <td>11824.116743</td>\n",
       "      <td>36</td>\n",
       "      <td>0</td>\n",
       "      <td>0</td>\n",
       "      <td>1</td>\n",
       "      <td>0.970370</td>\n",
       "      <td>124000.0</td>\n",
       "    </tr>\n",
       "    <tr>\n",
       "      <th>2</th>\n",
       "      <td>54.98</td>\n",
       "      <td>1987</td>\n",
       "      <td>11</td>\n",
       "      <td>10</td>\n",
       "      <td>11824.116743</td>\n",
       "      <td>36</td>\n",
       "      <td>0</td>\n",
       "      <td>0</td>\n",
       "      <td>1</td>\n",
       "      <td>0.970370</td>\n",
       "      <td>91500.0</td>\n",
       "    </tr>\n",
       "    <tr>\n",
       "      <th>3</th>\n",
       "      <td>161.00</td>\n",
       "      <td>1984</td>\n",
       "      <td>11</td>\n",
       "      <td>10</td>\n",
       "      <td>11824.116743</td>\n",
       "      <td>39</td>\n",
       "      <td>0</td>\n",
       "      <td>0</td>\n",
       "      <td>1</td>\n",
       "      <td>1.034568</td>\n",
       "      <td>185000.0</td>\n",
       "    </tr>\n",
       "    <tr>\n",
       "      <th>4</th>\n",
       "      <td>133.46</td>\n",
       "      <td>1984</td>\n",
       "      <td>11</td>\n",
       "      <td>10</td>\n",
       "      <td>11824.116743</td>\n",
       "      <td>39</td>\n",
       "      <td>0</td>\n",
       "      <td>0</td>\n",
       "      <td>1</td>\n",
       "      <td>1.034568</td>\n",
       "      <td>175000.0</td>\n",
       "    </tr>\n",
       "    <tr>\n",
       "      <th>5</th>\n",
       "      <td>42.55</td>\n",
       "      <td>1982</td>\n",
       "      <td>17</td>\n",
       "      <td>10</td>\n",
       "      <td>11824.116743</td>\n",
       "      <td>41</td>\n",
       "      <td>0</td>\n",
       "      <td>0</td>\n",
       "      <td>1</td>\n",
       "      <td>0.000397</td>\n",
       "      <td>128500.0</td>\n",
       "    </tr>\n",
       "  </tbody>\n",
       "</table>\n",
       "</div>"
      ],
      "text/plain": [
       "   전용면적(㎡)  건축년도 k-건설사(시공사)   동    인구밀도 (명/㎢)  연식  연식0-10  연식11-30  연식>30  \\\n",
       "0    79.97  1987         11  10  11824.116743  36       0        0      1   \n",
       "2    54.98  1987         11  10  11824.116743  36       0        0      1   \n",
       "3   161.00  1984         11  10  11824.116743  39       0        0      1   \n",
       "4   133.46  1984         11  10  11824.116743  39       0        0      1   \n",
       "5    42.55  1982         17  10  11824.116743  41       0        0      1   \n",
       "\n",
       "    세대별주차대수    target  \n",
       "0  0.970370  124000.0  \n",
       "2  0.970370   91500.0  \n",
       "3  1.034568  185000.0  \n",
       "4  1.034568  175000.0  \n",
       "5  0.000397  128500.0  "
      ]
     },
     "execution_count": 52,
     "metadata": {},
     "output_type": "execute_result"
    }
   ],
   "source": [
    "# 가격기준으로 동을 정렬한 리스트를 바탕으로 dong에 대해 라벨 인코딩 진행 - 477 it.\n",
    "for i, d in tqdm(enumerate(list(dong_price.index)), total=len(dong_price)):\n",
    "    dt_train.loc[dt_train['동'] == d, '동'] = i\n",
    "    dt_test.loc[dt_test['동'] == d, '동'] = i\n",
    "dt_train.head()"
   ]
  },
  {
   "cell_type": "code",
   "execution_count": 53,
   "metadata": {},
   "outputs": [
    {
     "name": "stdout",
     "output_type": "stream",
     "text": [
      "<class 'pandas.core.frame.DataFrame'>\n",
      "Int64Index: 37009 entries, 0 to 1133638\n",
      "Data columns (total 11 columns):\n",
      " #   Column      Non-Null Count  Dtype  \n",
      "---  ------      --------------  -----  \n",
      " 0   전용면적(㎡)     37009 non-null  float64\n",
      " 1   건축년도        37009 non-null  int64  \n",
      " 2   k-건설사(시공사)  37009 non-null  int64  \n",
      " 3   동           37009 non-null  int64  \n",
      " 4   인구밀도 (명/㎢)  37009 non-null  float64\n",
      " 5   연식          37009 non-null  int64  \n",
      " 6   연식0-10      37009 non-null  int64  \n",
      " 7   연식11-30     37009 non-null  int64  \n",
      " 8   연식>30       37009 non-null  int64  \n",
      " 9   세대별주차대수     37009 non-null  float64\n",
      " 10  target      37009 non-null  float64\n",
      "dtypes: float64(4), int64(7)\n",
      "memory usage: 3.4 MB\n"
     ]
    }
   ],
   "source": [
    "dt_train['동'] = dt_train['동'].astype('int64')\n",
    "dt_train['k-건설사(시공사)'] = dt_train['k-건설사(시공사)'].astype('int64')\n",
    "dt_test['동'] = dt_test['동'].astype('int64')\n",
    "dt_test['k-건설사(시공사)'] = dt_test['k-건설사(시공사)'].astype('int64')\n",
    "dt_train.info()"
   ]
  },
  {
   "cell_type": "markdown",
   "metadata": {},
   "source": [
    "# 타겟값 로그변환"
   ]
  },
  {
   "cell_type": "code",
   "execution_count": 54,
   "metadata": {},
   "outputs": [
    {
     "data": {
      "text/html": [
       "<div>\n",
       "<style scoped>\n",
       "    .dataframe tbody tr th:only-of-type {\n",
       "        vertical-align: middle;\n",
       "    }\n",
       "\n",
       "    .dataframe tbody tr th {\n",
       "        vertical-align: top;\n",
       "    }\n",
       "\n",
       "    .dataframe thead th {\n",
       "        text-align: right;\n",
       "    }\n",
       "</style>\n",
       "<table border=\"1\" class=\"dataframe\">\n",
       "  <thead>\n",
       "    <tr style=\"text-align: right;\">\n",
       "      <th></th>\n",
       "      <th>전용면적(㎡)</th>\n",
       "      <th>건축년도</th>\n",
       "      <th>k-건설사(시공사)</th>\n",
       "      <th>동</th>\n",
       "      <th>인구밀도 (명/㎢)</th>\n",
       "      <th>연식</th>\n",
       "      <th>연식0-10</th>\n",
       "      <th>연식11-30</th>\n",
       "      <th>연식&gt;30</th>\n",
       "      <th>세대별주차대수</th>\n",
       "      <th>log_target</th>\n",
       "    </tr>\n",
       "  </thead>\n",
       "  <tbody>\n",
       "    <tr>\n",
       "      <th>0</th>\n",
       "      <td>79.97</td>\n",
       "      <td>1987</td>\n",
       "      <td>11</td>\n",
       "      <td>10</td>\n",
       "      <td>11824.116743</td>\n",
       "      <td>36</td>\n",
       "      <td>0</td>\n",
       "      <td>0</td>\n",
       "      <td>1</td>\n",
       "      <td>0.97037</td>\n",
       "      <td>11.728045</td>\n",
       "    </tr>\n",
       "  </tbody>\n",
       "</table>\n",
       "</div>"
      ],
      "text/plain": [
       "   전용면적(㎡)  건축년도  k-건설사(시공사)   동    인구밀도 (명/㎢)  연식  연식0-10  연식11-30  연식>30  \\\n",
       "0    79.97  1987          11  10  11824.116743  36       0        0      1   \n",
       "\n",
       "   세대별주차대수  log_target  \n",
       "0  0.97037   11.728045  "
      ]
     },
     "execution_count": 54,
     "metadata": {},
     "output_type": "execute_result"
    }
   ],
   "source": [
    "# 가격 로그 변환 후 원래 가격 따로 저장\n",
    "dt_train['log_target'] = np.log1p(dt_train['target'])\n",
    "real_target = dt_train['target'] # 원래 가격\n",
    "dt_train.drop('target', axis=1, inplace=True)\n",
    "dt_train.head(1)"
   ]
  },
  {
   "cell_type": "code",
   "execution_count": 55,
   "metadata": {},
   "outputs": [],
   "source": [
    "train_X, train_y = dt_train.drop('log_target', axis=1), dt_train['log_target']"
   ]
  },
  {
   "cell_type": "markdown",
   "metadata": {},
   "source": [
    "# 하이퍼파라미터 튜닝"
   ]
  },
  {
   "cell_type": "code",
   "execution_count": 56,
   "metadata": {},
   "outputs": [],
   "source": [
    "from sklearn.model_selection import train_test_split"
   ]
  },
  {
   "cell_type": "code",
   "execution_count": 57,
   "metadata": {},
   "outputs": [],
   "source": [
    "def RMSE(y, y_pred):\n",
    "    rmse = mean_squared_error(y, y_pred) ** 0.5\n",
    "    return rmse"
   ]
  },
  {
   "cell_type": "code",
   "execution_count": 58,
   "metadata": {},
   "outputs": [
    {
     "name": "stdout",
     "output_type": "stream",
     "text": [
      "(24796, 10) (24796,) (12213, 10) (12213,)\n"
     ]
    }
   ],
   "source": [
    "h_train_X, h_valid_X, h_train_y, h_valid_y = train_test_split(train_X, train_y, test_size=0.33, random_state=42)\n",
    "print(h_train_X.shape, h_train_y.shape, h_valid_X.shape, h_valid_y.shape)"
   ]
  },
  {
   "cell_type": "code",
   "execution_count": 59,
   "metadata": {},
   "outputs": [
    {
     "name": "stderr",
     "output_type": "stream",
     "text": [
      "[I 2024-01-23 13:05:18,286] A new study created in memory with name: no-name-13d7f9ab-fd03-46be-bc11-f312e9725b8b\n",
      "[I 2024-01-23 13:05:21,225] Trial 0 finished with value: 0.7174151256919695 and parameters: {'max_depth': 13, 'learning_rate': 1.3320229150659043e-08, 'n_estimators': 1938, 'min_child_samples': 76, 'subsample': 0.6315909175774905}. Best is trial 0 with value: 0.7174151256919695.\n",
      "[I 2024-01-23 13:05:23,669] Trial 1 finished with value: 0.7172465376577657 and parameters: {'max_depth': 5, 'learning_rate': 1.5430400149097381e-07, 'n_estimators': 2306, 'min_child_samples': 21, 'subsample': 0.4337244827306443}. Best is trial 1 with value: 0.7172465376577657.\n",
      "[I 2024-01-23 13:05:23,847] Trial 2 finished with value: 0.4992824259427468 and parameters: {'max_depth': 11, 'learning_rate': 0.005252427629146827, 'n_estimators': 111, 'min_child_samples': 54, 'subsample': 0.8422371309477078}. Best is trial 2 with value: 0.4992824259427468.\n",
      "[I 2024-01-23 13:05:25,239] Trial 3 finished with value: 0.6242111545180951 and parameters: {'max_depth': 10, 'learning_rate': 0.00021405821746591817, 'n_estimators': 946, 'min_child_samples': 93, 'subsample': 0.7698715745641292}. Best is trial 2 with value: 0.4992824259427468.\n",
      "[I 2024-01-23 13:05:26,977] Trial 4 finished with value: 0.7173847893745177 and parameters: {'max_depth': 10, 'learning_rate': 7.128863277996207e-08, 'n_estimators': 1183, 'min_child_samples': 69, 'subsample': 0.5996296351455978}. Best is trial 2 with value: 0.4992824259427468.\n",
      "[I 2024-01-23 13:05:29,281] Trial 5 finished with value: 0.6774933114696939 and parameters: {'max_depth': 8, 'learning_rate': 5.08864167992051e-05, 'n_estimators': 1588, 'min_child_samples': 67, 'subsample': 0.6938050197112922}. Best is trial 2 with value: 0.4992824259427468.\n",
      "[I 2024-01-23 13:05:33,223] Trial 6 finished with value: 0.6987025099589167 and parameters: {'max_depth': 13, 'learning_rate': 1.3485992516968212e-05, 'n_estimators': 2735, 'min_child_samples': 35, 'subsample': 0.4345676420333751}. Best is trial 2 with value: 0.4992824259427468.\n",
      "[I 2024-01-23 13:05:36,659] Trial 7 finished with value: 0.7173658179003476 and parameters: {'max_depth': 6, 'learning_rate': 4.8295444901938926e-08, 'n_estimators': 2504, 'min_child_samples': 9, 'subsample': 0.7100430887666348}. Best is trial 2 with value: 0.4992824259427468.\n",
      "[I 2024-01-23 13:05:37,667] Trial 8 finished with value: 0.5062632589871415 and parameters: {'max_depth': 10, 'learning_rate': 0.0008236106883720722, 'n_estimators': 677, 'min_child_samples': 87, 'subsample': 0.5520731753100153}. Best is trial 2 with value: 0.4992824259427468.\n",
      "[I 2024-01-23 13:05:41,595] Trial 9 finished with value: 0.716605176002252 and parameters: {'max_depth': 12, 'learning_rate': 5.967195151630884e-07, 'n_estimators': 2664, 'min_child_samples': 36, 'subsample': 0.46529289303849874}. Best is trial 2 with value: 0.4992824259427468.\n",
      "[I 2024-01-23 13:05:41,691] Trial 10 finished with value: 0.48009286451061667 and parameters: {'max_depth': 3, 'learning_rate': 0.007287079614451871, 'n_estimators': 125, 'min_child_samples': 50, 'subsample': 0.9370978022952945}. Best is trial 10 with value: 0.48009286451061667.\n",
      "[I 2024-01-23 13:05:41,790] Trial 11 finished with value: 0.429855770541646 and parameters: {'max_depth': 3, 'learning_rate': 0.009781360056777894, 'n_estimators': 134, 'min_child_samples': 50, 'subsample': 0.9778082962377218}. Best is trial 11 with value: 0.429855770541646.\n",
      "[I 2024-01-23 13:05:41,906] Trial 12 finished with value: 0.44487925459874783 and parameters: {'max_depth': 3, 'learning_rate': 0.007773589322284729, 'n_estimators': 151, 'min_child_samples': 46, 'subsample': 0.9989436234186677}. Best is trial 11 with value: 0.429855770541646.\n",
      "[I 2024-01-23 13:05:42,231] Trial 13 finished with value: 0.5766129312263237 and parameters: {'max_depth': 3, 'learning_rate': 0.0007774822178201122, 'n_estimators': 544, 'min_child_samples': 49, 'subsample': 0.9537507201053227}. Best is trial 11 with value: 0.429855770541646.\n",
      "[I 2024-01-23 13:05:43,047] Trial 14 finished with value: 0.7170454651602294 and parameters: {'max_depth': 15, 'learning_rate': 1.368831194255526e-06, 'n_estimators': 540, 'min_child_samples': 34, 'subsample': 0.9796365205471653}. Best is trial 11 with value: 0.429855770541646.\n",
      "[I 2024-01-23 13:05:44,381] Trial 15 finished with value: 0.34667483655699266 and parameters: {'max_depth': 5, 'learning_rate': 0.0014612244189578791, 'n_estimators': 1196, 'min_child_samples': 59, 'subsample': 0.8379610960606707}. Best is trial 15 with value: 0.34667483655699266.\n",
      "[I 2024-01-23 13:05:46,252] Trial 16 finished with value: 0.46791463965465696 and parameters: {'max_depth': 6, 'learning_rate': 0.0005201620776173716, 'n_estimators': 1379, 'min_child_samples': 60, 'subsample': 0.8387686631458968}. Best is trial 15 with value: 0.34667483655699266.\n",
      "[I 2024-01-23 13:05:48,274] Trial 17 finished with value: 0.6574215179839059 and parameters: {'max_depth': 5, 'learning_rate': 6.790663195577398e-05, 'n_estimators': 1867, 'min_child_samples': 79, 'subsample': 0.8454918854124668}. Best is trial 15 with value: 0.34667483655699266.\n",
      "[I 2024-01-23 13:05:49,664] Trial 18 finished with value: 0.3002467320974859 and parameters: {'max_depth': 8, 'learning_rate': 0.0034512962964751456, 'n_estimators': 964, 'min_child_samples': 23, 'subsample': 0.7551738281217693}. Best is trial 18 with value: 0.3002467320974859.\n",
      "[I 2024-01-23 13:05:51,059] Trial 19 finished with value: 0.35532705448238694 and parameters: {'max_depth': 7, 'learning_rate': 0.0016151271893630687, 'n_estimators': 955, 'min_child_samples': 11, 'subsample': 0.7248193949654819}. Best is trial 18 with value: 0.3002467320974859.\n",
      "[I 2024-01-23 13:05:53,557] Trial 20 finished with value: 0.7121050302880648 and parameters: {'max_depth': 8, 'learning_rate': 6.125424702987981e-06, 'n_estimators': 1686, 'min_child_samples': 22, 'subsample': 0.5534573772272844}. Best is trial 18 with value: 0.3002467320974859.\n",
      "[I 2024-01-23 13:05:54,942] Trial 21 finished with value: 0.34860335664448117 and parameters: {'max_depth': 7, 'learning_rate': 0.001724060926238623, 'n_estimators': 949, 'min_child_samples': 5, 'subsample': 0.7401098782588889}. Best is trial 18 with value: 0.3002467320974859.\n",
      "[I 2024-01-23 13:05:56,647] Trial 22 finished with value: 0.30846268645371994 and parameters: {'max_depth': 8, 'learning_rate': 0.002354928842871457, 'n_estimators': 1159, 'min_child_samples': 5, 'subsample': 0.7917356137383065}. Best is trial 18 with value: 0.3002467320974859.\n",
      "[I 2024-01-23 13:05:58,529] Trial 23 finished with value: 0.6395758479062047 and parameters: {'max_depth': 8, 'learning_rate': 0.00012967707814410406, 'n_estimators': 1276, 'min_child_samples': 18, 'subsample': 0.8092642887308649}. Best is trial 18 with value: 0.3002467320974859.\n",
      "[I 2024-01-23 13:05:59,761] Trial 24 finished with value: 0.3202365469236237 and parameters: {'max_depth': 5, 'learning_rate': 0.002205304414520416, 'n_estimators': 1089, 'min_child_samples': 26, 'subsample': 0.6752964416666491}. Best is trial 18 with value: 0.3002467320974859.\n",
      "[I 2024-01-23 13:06:00,879] Trial 25 finished with value: 0.5975091311753955 and parameters: {'max_depth': 9, 'learning_rate': 0.000363309193203308, 'n_estimators': 745, 'min_child_samples': 27, 'subsample': 0.6739751780291228}. Best is trial 18 with value: 0.3002467320974859.\n",
      "[I 2024-01-23 13:06:02,865] Trial 26 finished with value: 0.702821193779413 and parameters: {'max_depth': 6, 'learning_rate': 1.950703342719865e-05, 'n_estimators': 1468, 'min_child_samples': 16, 'subsample': 0.6414092338025281}. Best is trial 18 with value: 0.3002467320974859.\n",
      "[I 2024-01-23 13:06:04,423] Trial 27 finished with value: 0.3050988952135174 and parameters: {'max_depth': 9, 'learning_rate': 0.0027594391216248524, 'n_estimators': 1064, 'min_child_samples': 26, 'subsample': 0.5618086936668583}. Best is trial 18 with value: 0.3002467320974859.\n",
      "[I 2024-01-23 13:06:04,981] Trial 28 finished with value: 0.35869668412659167 and parameters: {'max_depth': 9, 'learning_rate': 0.004145217470794168, 'n_estimators': 361, 'min_child_samples': 11, 'subsample': 0.5729452107775886}. Best is trial 18 with value: 0.3002467320974859.\n",
      "[I 2024-01-23 13:06:08,104] Trial 29 finished with value: 0.5250603665351897 and parameters: {'max_depth': 9, 'learning_rate': 0.0002313500778893689, 'n_estimators': 2117, 'min_child_samples': 40, 'subsample': 0.4780697087371365}. Best is trial 18 with value: 0.3002467320974859.\n",
      "[I 2024-01-23 13:06:10,739] Trial 30 finished with value: 0.7143018033527498 and parameters: {'max_depth': 11, 'learning_rate': 3.4359382820313137e-06, 'n_estimators': 1762, 'min_child_samples': 28, 'subsample': 0.6189750085150246}. Best is trial 18 with value: 0.3002467320974859.\n",
      "[I 2024-01-23 13:06:12,246] Trial 31 finished with value: 0.308224501028047 and parameters: {'max_depth': 7, 'learning_rate': 0.0025991521066344603, 'n_estimators': 1059, 'min_child_samples': 27, 'subsample': 0.5177433545349364}. Best is trial 18 with value: 0.3002467320974859.\n",
      "[I 2024-01-23 13:06:13,399] Trial 32 finished with value: 0.31870800232982477 and parameters: {'max_depth': 7, 'learning_rate': 0.002892534205805447, 'n_estimators': 793, 'min_child_samples': 15, 'subsample': 0.4976744998689345}. Best is trial 18 with value: 0.3002467320974859.\n",
      "[I 2024-01-23 13:06:14,989] Trial 33 finished with value: 0.413825880078587 and parameters: {'max_depth': 8, 'learning_rate': 0.0009597873611230688, 'n_estimators': 1053, 'min_child_samples': 41, 'subsample': 0.5247492222324364}. Best is trial 18 with value: 0.3002467320974859.\n",
      "[I 2024-01-23 13:06:16,974] Trial 34 finished with value: 0.28707110007697567 and parameters: {'max_depth': 11, 'learning_rate': 0.0037632968348191684, 'n_estimators': 1417, 'min_child_samples': 5, 'subsample': 0.4111484383347534}. Best is trial 34 with value: 0.28707110007697567.\n",
      "[I 2024-01-23 13:06:20,759] Trial 35 finished with value: 0.2764821173760983 and parameters: {'max_depth': 11, 'learning_rate': 0.0036777019548282176, 'n_estimators': 2985, 'min_child_samples': 23, 'subsample': 0.4168027083028591}. Best is trial 35 with value: 0.2764821173760983.\n",
      "[I 2024-01-23 13:06:23,978] Trial 36 finished with value: 0.6039603941981068 and parameters: {'max_depth': 11, 'learning_rate': 0.00011667404859705454, 'n_estimators': 2175, 'min_child_samples': 22, 'subsample': 0.41823750489665346}. Best is trial 35 with value: 0.2764821173760983.\n",
      "[I 2024-01-23 13:06:26,257] Trial 37 finished with value: 0.7174203696003524 and parameters: {'max_depth': 13, 'learning_rate': 1.0247621894239389e-08, 'n_estimators': 1532, 'min_child_samples': 16, 'subsample': 0.41247354017014404}. Best is trial 35 with value: 0.2764821173760983.\n",
      "[I 2024-01-23 13:06:28,245] Trial 38 finished with value: 0.6956990012149721 and parameters: {'max_depth': 12, 'learning_rate': 3.1774767809458236e-05, 'n_estimators': 1352, 'min_child_samples': 30, 'subsample': 0.4387208143248328}. Best is trial 35 with value: 0.2764821173760983.\n",
      "[I 2024-01-23 13:06:32,412] Trial 39 finished with value: 0.4336811572312149 and parameters: {'max_depth': 10, 'learning_rate': 0.0003155076585094083, 'n_estimators': 2819, 'min_child_samples': 21, 'subsample': 0.4024138346309576}. Best is trial 35 with value: 0.2764821173760983.\n",
      "[I 2024-01-23 13:06:35,304] Trial 40 finished with value: 0.2754029593252976 and parameters: {'max_depth': 11, 'learning_rate': 0.005046875968987154, 'n_estimators': 2348, 'min_child_samples': 10, 'subsample': 0.4376583673307852}. Best is trial 40 with value: 0.2754029593252976.\n",
      "[I 2024-01-23 13:06:38,401] Trial 41 finished with value: 0.2766089673788074 and parameters: {'max_depth': 11, 'learning_rate': 0.004290104676446699, 'n_estimators': 2480, 'min_child_samples': 10, 'subsample': 0.4568994911769673}. Best is trial 40 with value: 0.2754029593252976.\n",
      "[I 2024-01-23 13:06:41,437] Trial 42 finished with value: 0.27487985929198 and parameters: {'max_depth': 12, 'learning_rate': 0.004984509373168584, 'n_estimators': 2466, 'min_child_samples': 10, 'subsample': 0.45007964726488037}. Best is trial 42 with value: 0.27487985929198.\n",
      "[I 2024-01-23 13:06:44,992] Trial 43 finished with value: 0.2724464675219377 and parameters: {'max_depth': 14, 'learning_rate': 0.005264180141443096, 'n_estimators': 2959, 'min_child_samples': 9, 'subsample': 0.4548082607357947}. Best is trial 43 with value: 0.2724464675219377.\n",
      "[I 2024-01-23 13:06:48,414] Trial 44 finished with value: 0.26872479858694887 and parameters: {'max_depth': 14, 'learning_rate': 0.0076400141372205115, 'n_estimators': 2955, 'min_child_samples': 12, 'subsample': 0.46073306792727264}. Best is trial 44 with value: 0.26872479858694887.\n",
      "[I 2024-01-23 13:06:51,768] Trial 45 finished with value: 0.26679656391589934 and parameters: {'max_depth': 15, 'learning_rate': 0.009903235281344857, 'n_estimators': 2969, 'min_child_samples': 14, 'subsample': 0.4485593726625884}. Best is trial 45 with value: 0.26679656391589934.\n",
      "[I 2024-01-23 13:06:55,376] Trial 46 finished with value: 0.2709736509539193 and parameters: {'max_depth': 15, 'learning_rate': 0.007364072238196074, 'n_estimators': 2972, 'min_child_samples': 99, 'subsample': 0.4469928692972328}. Best is trial 45 with value: 0.26679656391589934.\n",
      "[I 2024-01-23 13:06:58,931] Trial 47 finished with value: 0.2687005325846065 and parameters: {'max_depth': 15, 'learning_rate': 0.009978772497137477, 'n_estimators': 2961, 'min_child_samples': 96, 'subsample': 0.47763181321762777}. Best is trial 45 with value: 0.26679656391589934.\n",
      "[I 2024-01-23 13:07:02,532] Trial 48 finished with value: 0.2688323195758851 and parameters: {'max_depth': 15, 'learning_rate': 0.009949781944814157, 'n_estimators': 2990, 'min_child_samples': 100, 'subsample': 0.4808639847464027}. Best is trial 45 with value: 0.26679656391589934.\n",
      "[I 2024-01-23 13:07:05,824] Trial 49 finished with value: 0.27175400947850364 and parameters: {'max_depth': 15, 'learning_rate': 0.007528720019961511, 'n_estimators': 2651, 'min_child_samples': 99, 'subsample': 0.4767285218461288}. Best is trial 45 with value: 0.26679656391589934.\n",
      "[I 2024-01-23 13:07:09,897] Trial 50 finished with value: 0.30579765926053754 and parameters: {'max_depth': 14, 'learning_rate': 0.0010386188945857749, 'n_estimators': 2821, 'min_child_samples': 89, 'subsample': 0.5013005516473145}. Best is trial 45 with value: 0.26679656391589934.\n",
      "[I 2024-01-23 13:07:13,242] Trial 51 finished with value: 0.27243150498585955 and parameters: {'max_depth': 15, 'learning_rate': 0.007005335624105012, 'n_estimators': 2653, 'min_child_samples': 97, 'subsample': 0.4721633932474175}. Best is trial 45 with value: 0.26679656391589934.\n",
      "[I 2024-01-23 13:07:16,696] Trial 52 finished with value: 0.26991558778963315 and parameters: {'max_depth': 15, 'learning_rate': 0.009193614878520748, 'n_estimators': 2854, 'min_child_samples': 100, 'subsample': 0.4797475593507724}. Best is trial 45 with value: 0.26679656391589934.\n",
      "[I 2024-01-23 13:07:20,188] Trial 53 finished with value: 0.2699254018000788 and parameters: {'max_depth': 14, 'learning_rate': 0.008344785497412993, 'n_estimators': 2852, 'min_child_samples': 81, 'subsample': 0.4983878516156773}. Best is trial 45 with value: 0.26679656391589934.\n",
      "[I 2024-01-23 13:07:23,650] Trial 54 finished with value: 0.26900859709483627 and parameters: {'max_depth': 14, 'learning_rate': 0.009802898754216074, 'n_estimators': 2839, 'min_child_samples': 84, 'subsample': 0.49704141956159253}. Best is trial 45 with value: 0.26679656391589934.\n",
      "[I 2024-01-23 13:07:27,782] Trial 55 finished with value: 0.7172608440811742 and parameters: {'max_depth': 13, 'learning_rate': 1.1847529605556802e-07, 'n_estimators': 2731, 'min_child_samples': 93, 'subsample': 0.5209120181099889}. Best is trial 45 with value: 0.26679656391589934.\n",
      "[I 2024-01-23 13:07:30,944] Trial 56 finished with value: 0.2693307935432302 and parameters: {'max_depth': 14, 'learning_rate': 0.009526282241907442, 'n_estimators': 2586, 'min_child_samples': 70, 'subsample': 0.539117831572844}. Best is trial 45 with value: 0.26679656391589934.\n",
      "[I 2024-01-23 13:07:34,672] Trial 57 finished with value: 0.29789694605235373 and parameters: {'max_depth': 14, 'learning_rate': 0.0013797752720132713, 'n_estimators': 2606, 'min_child_samples': 71, 'subsample': 0.5421285645913579}. Best is trial 45 with value: 0.26679656391589934.\n",
      "[I 2024-01-23 13:07:38,701] Trial 58 finished with value: 0.37270699933488444 and parameters: {'max_depth': 14, 'learning_rate': 0.00048657041595681925, 'n_estimators': 2767, 'min_child_samples': 87, 'subsample': 0.5843903835778171}. Best is trial 45 with value: 0.26679656391589934.\n",
      "[I 2024-01-23 13:07:42,213] Trial 59 finished with value: 0.7166144758341306 and parameters: {'max_depth': 13, 'learning_rate': 6.651235995927803e-07, 'n_estimators': 2363, 'min_child_samples': 72, 'subsample': 0.4920703958211125}. Best is trial 45 with value: 0.26679656391589934.\n",
      "[I 2024-01-23 13:07:46,498] Trial 60 finished with value: 0.316295738829837 and parameters: {'max_depth': 14, 'learning_rate': 0.0008244995995163942, 'n_estimators': 2906, 'min_child_samples': 82, 'subsample': 0.42764908860425355}. Best is trial 45 with value: 0.26679656391589934.\n",
      "[I 2024-01-23 13:07:49,691] Trial 61 finished with value: 0.2706146732522097 and parameters: {'max_depth': 15, 'learning_rate': 0.008931464230903475, 'n_estimators': 2580, 'min_child_samples': 93, 'subsample': 0.4847218917466918}. Best is trial 45 with value: 0.26679656391589934.\n",
      "[I 2024-01-23 13:07:53,687] Trial 62 finished with value: 0.7173938568559737 and parameters: {'max_depth': 15, 'learning_rate': 2.464693945626374e-08, 'n_estimators': 2712, 'min_child_samples': 63, 'subsample': 0.46406998706351393}. Best is trial 45 with value: 0.26679656391589934.\n",
      "[I 2024-01-23 13:07:57,171] Trial 63 finished with value: 0.26910420582863626 and parameters: {'max_depth': 15, 'learning_rate': 0.00980464191620672, 'n_estimators': 2897, 'min_child_samples': 95, 'subsample': 0.538664922077572}. Best is trial 45 with value: 0.26679656391589934.\n",
      "[I 2024-01-23 13:08:00,656] Trial 64 finished with value: 0.26899977660367314 and parameters: {'max_depth': 14, 'learning_rate': 0.009867095923604607, 'n_estimators': 2901, 'min_child_samples': 94, 'subsample': 0.5379458233043506}. Best is trial 45 with value: 0.26679656391589934.\n",
      "[I 2024-01-23 13:08:04,750] Trial 65 finished with value: 0.29224389872914636 and parameters: {'max_depth': 13, 'learning_rate': 0.001552626751366109, 'n_estimators': 2898, 'min_child_samples': 93, 'subsample': 0.5120473361198561}. Best is trial 45 with value: 0.26679656391589934.\n",
      "[I 2024-01-23 13:08:08,482] Trial 66 finished with value: 0.2729216320397132 and parameters: {'max_depth': 15, 'learning_rate': 0.005779762907626257, 'n_estimators': 2983, 'min_child_samples': 86, 'subsample': 0.527646135261764}. Best is trial 45 with value: 0.26679656391589934.\n",
      "[I 2024-01-23 13:08:12,241] Trial 67 finished with value: 0.28393853032961797 and parameters: {'max_depth': 12, 'learning_rate': 0.0024996071801554323, 'n_estimators': 2767, 'min_child_samples': 96, 'subsample': 0.5841790447509839}. Best is trial 45 with value: 0.26679656391589934.\n",
      "[I 2024-01-23 13:08:15,762] Trial 68 finished with value: 0.28906989721011483 and parameters: {'max_depth': 13, 'learning_rate': 0.0020507404877459015, 'n_estimators': 2503, 'min_child_samples': 90, 'subsample': 0.5090039845744168}. Best is trial 45 with value: 0.26679656391589934.\n",
      "[I 2024-01-23 13:08:19,203] Trial 69 finished with value: 0.2683820451445532 and parameters: {'max_depth': 14, 'learning_rate': 0.009876182967141793, 'n_estimators': 2906, 'min_child_samples': 76, 'subsample': 0.4683335497216079}. Best is trial 45 with value: 0.26679656391589934.\n",
      "[I 2024-01-23 13:08:22,828] Trial 70 finished with value: 0.27839705388142405 and parameters: {'max_depth': 14, 'learning_rate': 0.0036277333924825627, 'n_estimators': 2786, 'min_child_samples': 75, 'subsample': 0.46694509502996373}. Best is trial 45 with value: 0.26679656391589934.\n",
      "[I 2024-01-23 13:08:26,504] Trial 71 finished with value: 0.27320785307908113 and parameters: {'max_depth': 15, 'learning_rate': 0.005609565803338174, 'n_estimators': 2907, 'min_child_samples': 84, 'subsample': 0.489682573610623}. Best is trial 45 with value: 0.26679656391589934.\n",
      "[I 2024-01-23 13:08:30,106] Trial 72 finished with value: 0.2683665558356863 and parameters: {'max_depth': 14, 'learning_rate': 0.009930096220933465, 'n_estimators': 2987, 'min_child_samples': 77, 'subsample': 0.4333461976098851}. Best is trial 45 with value: 0.26679656391589934.\n",
      "[I 2024-01-23 13:08:33,435] Trial 73 finished with value: 0.2739121085624618 and parameters: {'max_depth': 14, 'learning_rate': 0.005577389948253631, 'n_estimators': 2692, 'min_child_samples': 77, 'subsample': 0.4332109100871876}. Best is trial 45 with value: 0.26679656391589934.\n",
      "[I 2024-01-23 13:08:37,310] Trial 74 finished with value: 0.27906664510469625 and parameters: {'max_depth': 13, 'learning_rate': 0.0030456470526845376, 'n_estimators': 2999, 'min_child_samples': 64, 'subsample': 0.42390506700615127}. Best is trial 45 with value: 0.26679656391589934.\n",
      "[I 2024-01-23 13:08:40,659] Trial 75 finished with value: 0.26904932667492276 and parameters: {'max_depth': 14, 'learning_rate': 0.009820003398289168, 'n_estimators': 2823, 'min_child_samples': 91, 'subsample': 0.4434509227626685}. Best is trial 45 with value: 0.26679656391589934.\n",
      "[I 2024-01-23 13:08:44,729] Trial 76 finished with value: 0.29701246473127335 and parameters: {'max_depth': 14, 'learning_rate': 0.0012892496295684602, 'n_estimators': 2897, 'min_child_samples': 85, 'subsample': 0.4609550383160686}. Best is trial 45 with value: 0.26679656391589934.\n",
      "[I 2024-01-23 13:08:48,159] Trial 77 finished with value: 0.27669517220991646 and parameters: {'max_depth': 12, 'learning_rate': 0.00404635242903673, 'n_estimators': 2721, 'min_child_samples': 57, 'subsample': 0.4020538509835187}. Best is trial 45 with value: 0.26679656391589934.\n",
      "[I 2024-01-23 13:08:51,214] Trial 78 finished with value: 0.2927791563184526 and parameters: {'max_depth': 15, 'learning_rate': 0.0019908708629062465, 'n_estimators': 2160, 'min_child_samples': 75, 'subsample': 0.44887101531657847}. Best is trial 45 with value: 0.26679656391589934.\n",
      "[I 2024-01-23 13:08:54,679] Trial 79 finished with value: 0.3589889090388188 and parameters: {'max_depth': 13, 'learning_rate': 0.0006225752812279702, 'n_estimators': 2407, 'min_child_samples': 78, 'subsample': 0.47384307592378794}. Best is trial 45 with value: 0.26679656391589934.\n",
      "[I 2024-01-23 13:08:57,868] Trial 80 finished with value: 0.27399253713560884 and parameters: {'max_depth': 15, 'learning_rate': 0.006040916748588987, 'n_estimators': 2567, 'min_child_samples': 82, 'subsample': 0.505768546956951}. Best is trial 45 with value: 0.26679656391589934.\n",
      "[I 2024-01-23 13:09:01,210] Trial 81 finished with value: 0.2692543510184786 and parameters: {'max_depth': 14, 'learning_rate': 0.009685593205842401, 'n_estimators': 2817, 'min_child_samples': 90, 'subsample': 0.4478663932472629}. Best is trial 45 with value: 0.26679656391589934.\n",
      "[I 2024-01-23 13:09:05,031] Trial 82 finished with value: 0.2789982159688969 and parameters: {'max_depth': 14, 'learning_rate': 0.003313056586761343, 'n_estimators': 2939, 'min_child_samples': 89, 'subsample': 0.4406432953518017}. Best is trial 45 with value: 0.26679656391589934.\n",
      "[I 2024-01-23 13:09:08,521] Trial 83 finished with value: 0.2731781803103638 and parameters: {'max_depth': 14, 'learning_rate': 0.005951918891495818, 'n_estimators': 2838, 'min_child_samples': 95, 'subsample': 0.42801178110683996}. Best is trial 45 with value: 0.26679656391589934.\n",
      "[I 2024-01-23 13:09:12,243] Trial 84 finished with value: 0.27486253035356434 and parameters: {'max_depth': 15, 'learning_rate': 0.004615339685059746, 'n_estimators': 2990, 'min_child_samples': 91, 'subsample': 0.48635807971476397}. Best is trial 45 with value: 0.26679656391589934.\n",
      "[I 2024-01-23 13:09:14,932] Trial 85 finished with value: 0.2707213412646412 and parameters: {'max_depth': 13, 'learning_rate': 0.009969459973301268, 'n_estimators': 2270, 'min_child_samples': 97, 'subsample': 0.45686708153868805}. Best is trial 45 with value: 0.26679656391589934.\n",
      "[I 2024-01-23 13:09:18,141] Trial 86 finished with value: 0.2722478642012972 and parameters: {'max_depth': 14, 'learning_rate': 0.0066715735707019806, 'n_estimators': 2661, 'min_child_samples': 80, 'subsample': 0.44439397074090464}. Best is trial 45 with value: 0.26679656391589934.\n",
      "[I 2024-01-23 13:09:21,930] Trial 87 finished with value: 0.2821382458100217 and parameters: {'max_depth': 15, 'learning_rate': 0.002471538106831098, 'n_estimators': 2859, 'min_child_samples': 46, 'subsample': 0.4660652667257065}. Best is trial 45 with value: 0.26679656391589934.\n",
      "[I 2024-01-23 13:09:23,517] Trial 88 finished with value: 0.29245821786089476 and parameters: {'max_depth': 4, 'learning_rate': 0.003904546784351406, 'n_estimators': 2776, 'min_child_samples': 84, 'subsample': 0.417544039841555}. Best is trial 45 with value: 0.26679656391589934.\n",
      "[I 2024-01-23 13:09:27,704] Trial 89 finished with value: 0.7069288505621459 and parameters: {'max_depth': 14, 'learning_rate': 6.9808337767323056e-06, 'n_estimators': 2934, 'min_child_samples': 13, 'subsample': 0.48008498865519894}. Best is trial 45 with value: 0.26679656391589934.\n",
      "[I 2024-01-23 13:09:31,046] Trial 90 finished with value: 0.27211425234690473 and parameters: {'max_depth': 15, 'learning_rate': 0.006866775260758668, 'n_estimators': 2770, 'min_child_samples': 98, 'subsample': 0.4329319297658517}. Best is trial 45 with value: 0.26679656391589934.\n",
      "[I 2024-01-23 13:09:34,446] Trial 91 finished with value: 0.26952475327680236 and parameters: {'max_depth': 15, 'learning_rate': 0.009399167244755442, 'n_estimators': 2894, 'min_child_samples': 94, 'subsample': 0.5390852815184033}. Best is trial 45 with value: 0.26679656391589934.\n",
      "[I 2024-01-23 13:09:38,007] Trial 92 finished with value: 0.2709030716375557 and parameters: {'max_depth': 15, 'learning_rate': 0.006930926982268498, 'n_estimators': 2992, 'min_child_samples': 88, 'subsample': 0.5598587332240894}. Best is trial 45 with value: 0.26679656391589934.\n",
      "[I 2024-01-23 13:09:41,583] Trial 93 finished with value: 0.2760986104851952 and parameters: {'max_depth': 14, 'learning_rate': 0.004507675469424626, 'n_estimators': 2846, 'min_child_samples': 100, 'subsample': 0.6218534836216826}. Best is trial 45 with value: 0.26679656391589934.\n",
      "[I 2024-01-23 13:09:44,673] Trial 94 finished with value: 0.26964046518266344 and parameters: {'max_depth': 13, 'learning_rate': 0.009856044612249742, 'n_estimators': 2640, 'min_child_samples': 92, 'subsample': 0.49594636777301865}. Best is trial 45 with value: 0.26679656391589934.\n",
      "[I 2024-01-23 13:09:47,308] Trial 95 finished with value: 0.2861355806738033 and parameters: {'max_depth': 15, 'learning_rate': 0.003088025649537833, 'n_estimators': 1949, 'min_child_samples': 97, 'subsample': 0.4556213183878365}. Best is trial 45 with value: 0.26679656391589934.\n",
      "[I 2024-01-23 13:09:50,614] Trial 96 finished with value: 0.2702671876185069 and parameters: {'max_depth': 14, 'learning_rate': 0.0068334549123111685, 'n_estimators': 2920, 'min_child_samples': 7, 'subsample': 0.5311688893302672}. Best is trial 45 with value: 0.26679656391589934.\n",
      "[I 2024-01-23 13:09:53,766] Trial 97 finished with value: 0.27550061035209666 and parameters: {'max_depth': 15, 'learning_rate': 0.004843583086022509, 'n_estimators': 2548, 'min_child_samples': 68, 'subsample': 0.46913379247084763}. Best is trial 45 with value: 0.26679656391589934.\n",
      "[I 2024-01-23 13:09:57,417] Trial 98 finished with value: 0.28592923999891 and parameters: {'max_depth': 13, 'learning_rate': 0.002037466927869367, 'n_estimators': 2719, 'min_child_samples': 19, 'subsample': 0.5191912839331265}. Best is trial 45 with value: 0.26679656391589934.\n",
      "[I 2024-01-23 13:10:00,815] Trial 99 finished with value: 0.2709413518998178 and parameters: {'max_depth': 14, 'learning_rate': 0.007475707610823976, 'n_estimators': 2868, 'min_child_samples': 87, 'subsample': 0.4873894016887896}. Best is trial 45 with value: 0.26679656391589934.\n"
     ]
    }
   ],
   "source": [
    "from optuna.samplers import TPESampler\n",
    "\n",
    "sampler = TPESampler(seed=10)\n",
    "\n",
    "def objective(trial):\n",
    "    dtrain = lgb.Dataset(h_train_X, label=h_train_y)\n",
    "    dtest = lgb.Dataset(h_valid_X, label=h_valid_y)\n",
    "\n",
    "    param = {\n",
    "        'objective': 'regression', # 회귀\n",
    "        'verbose': -1,\n",
    "        'metric': 'rmse', \n",
    "        'max_depth': trial.suggest_int('max_depth',3, 15),\n",
    "        'learning_rate': trial.suggest_loguniform(\"learning_rate\", 1e-8, 1e-2),\n",
    "        'n_estimators': trial.suggest_int('n_estimators', 100, 3000),\n",
    "        'min_child_samples': trial.suggest_int('min_child_samples', 5, 100),\n",
    "        'subsample': trial.suggest_loguniform('subsample', 0.4, 1),\n",
    "    }\n",
    "\n",
    "    model = lgb.LGBMRegressor(**param)\n",
    "    lgb_model = model.fit(h_train_X, h_train_y, eval_set=[(h_valid_X, h_valid_y)])\n",
    "    rmse = RMSE(h_valid_y, lgb_model.predict(h_valid_X))\n",
    "    return rmse\n",
    "        \n",
    "study_lgb = optuna.create_study(direction='minimize', sampler=sampler)\n",
    "study_lgb.optimize(objective, n_trials=100)"
   ]
  },
  {
   "cell_type": "code",
   "execution_count": 60,
   "metadata": {},
   "outputs": [
    {
     "name": "stdout",
     "output_type": "stream",
     "text": [
      "Best Trial: score 0.26679656391589934,\n",
      "params {'max_depth': 15, 'learning_rate': 0.009903235281344857, 'n_estimators': 2969, 'min_child_samples': 14, 'subsample': 0.4485593726625884}\n"
     ]
    }
   ],
   "source": [
    "trial = study_lgb.best_trial\n",
    "trial_params = trial.params\n",
    "print('Best Trial: score {},\\nparams {}'.format(trial.value, trial_params))"
   ]
  },
  {
   "cell_type": "code",
   "execution_count": 61,
   "metadata": {},
   "outputs": [
    {
     "data": {
      "text/html": [
       "<div>\n",
       "<style scoped>\n",
       "    .dataframe tbody tr th:only-of-type {\n",
       "        vertical-align: middle;\n",
       "    }\n",
       "\n",
       "    .dataframe tbody tr th {\n",
       "        vertical-align: top;\n",
       "    }\n",
       "\n",
       "    .dataframe thead th {\n",
       "        text-align: right;\n",
       "    }\n",
       "</style>\n",
       "<table border=\"1\" class=\"dataframe\">\n",
       "  <thead>\n",
       "    <tr style=\"text-align: right;\">\n",
       "      <th></th>\n",
       "      <th>Idx</th>\n",
       "      <th>Values</th>\n",
       "    </tr>\n",
       "  </thead>\n",
       "  <tbody>\n",
       "    <tr>\n",
       "      <th>45</th>\n",
       "      <td>45</td>\n",
       "      <td>0.266797</td>\n",
       "    </tr>\n",
       "    <tr>\n",
       "      <th>72</th>\n",
       "      <td>72</td>\n",
       "      <td>0.268367</td>\n",
       "    </tr>\n",
       "    <tr>\n",
       "      <th>69</th>\n",
       "      <td>69</td>\n",
       "      <td>0.268382</td>\n",
       "    </tr>\n",
       "    <tr>\n",
       "      <th>47</th>\n",
       "      <td>47</td>\n",
       "      <td>0.268701</td>\n",
       "    </tr>\n",
       "    <tr>\n",
       "      <th>44</th>\n",
       "      <td>44</td>\n",
       "      <td>0.268725</td>\n",
       "    </tr>\n",
       "    <tr>\n",
       "      <th>48</th>\n",
       "      <td>48</td>\n",
       "      <td>0.268832</td>\n",
       "    </tr>\n",
       "    <tr>\n",
       "      <th>64</th>\n",
       "      <td>64</td>\n",
       "      <td>0.269000</td>\n",
       "    </tr>\n",
       "    <tr>\n",
       "      <th>54</th>\n",
       "      <td>54</td>\n",
       "      <td>0.269009</td>\n",
       "    </tr>\n",
       "    <tr>\n",
       "      <th>75</th>\n",
       "      <td>75</td>\n",
       "      <td>0.269049</td>\n",
       "    </tr>\n",
       "    <tr>\n",
       "      <th>63</th>\n",
       "      <td>63</td>\n",
       "      <td>0.269104</td>\n",
       "    </tr>\n",
       "    <tr>\n",
       "      <th>81</th>\n",
       "      <td>81</td>\n",
       "      <td>0.269254</td>\n",
       "    </tr>\n",
       "    <tr>\n",
       "      <th>56</th>\n",
       "      <td>56</td>\n",
       "      <td>0.269331</td>\n",
       "    </tr>\n",
       "    <tr>\n",
       "      <th>91</th>\n",
       "      <td>91</td>\n",
       "      <td>0.269525</td>\n",
       "    </tr>\n",
       "    <tr>\n",
       "      <th>94</th>\n",
       "      <td>94</td>\n",
       "      <td>0.269640</td>\n",
       "    </tr>\n",
       "    <tr>\n",
       "      <th>52</th>\n",
       "      <td>52</td>\n",
       "      <td>0.269916</td>\n",
       "    </tr>\n",
       "    <tr>\n",
       "      <th>53</th>\n",
       "      <td>53</td>\n",
       "      <td>0.269925</td>\n",
       "    </tr>\n",
       "    <tr>\n",
       "      <th>96</th>\n",
       "      <td>96</td>\n",
       "      <td>0.270267</td>\n",
       "    </tr>\n",
       "    <tr>\n",
       "      <th>61</th>\n",
       "      <td>61</td>\n",
       "      <td>0.270615</td>\n",
       "    </tr>\n",
       "    <tr>\n",
       "      <th>85</th>\n",
       "      <td>85</td>\n",
       "      <td>0.270721</td>\n",
       "    </tr>\n",
       "    <tr>\n",
       "      <th>92</th>\n",
       "      <td>92</td>\n",
       "      <td>0.270903</td>\n",
       "    </tr>\n",
       "  </tbody>\n",
       "</table>\n",
       "</div>"
      ],
      "text/plain": [
       "    Idx    Values\n",
       "45   45  0.266797\n",
       "72   72  0.268367\n",
       "69   69  0.268382\n",
       "47   47  0.268701\n",
       "44   44  0.268725\n",
       "48   48  0.268832\n",
       "64   64  0.269000\n",
       "54   54  0.269009\n",
       "75   75  0.269049\n",
       "63   63  0.269104\n",
       "81   81  0.269254\n",
       "56   56  0.269331\n",
       "91   91  0.269525\n",
       "94   94  0.269640\n",
       "52   52  0.269916\n",
       "53   53  0.269925\n",
       "96   96  0.270267\n",
       "61   61  0.270615\n",
       "85   85  0.270721\n",
       "92   92  0.270903"
      ]
     },
     "execution_count": 61,
     "metadata": {},
     "output_type": "execute_result"
    }
   ],
   "source": [
    "trials_list = []\n",
    "trials_dict ={'Idx': [], 'Values':[]}\n",
    "idx = 0\n",
    "trials = study_lgb.trials\n",
    "for trial in trials:\n",
    "    trials_dict['Idx'].append(idx)\n",
    "    trials_dict['Values'].append(trial.value)\n",
    "    idx += 1\n",
    "\n",
    "df = pd.DataFrame(trials_dict)\n",
    "df = df.sort_values(by='Values')\n",
    "df.head(20)"
   ]
  },
  {
   "cell_type": "code",
   "execution_count": 66,
   "metadata": {},
   "outputs": [
    {
     "name": "stdout",
     "output_type": "stream",
     "text": [
      "[LightGBM] [Warning] Accuracy may be bad since you didn't explicitly set num_leaves OR 2^max_depth > num_leaves. (num_leaves=31).\n",
      "[LightGBM] [Warning] Found whitespace in feature_names, replace with underlines\n",
      "[LightGBM] [Warning] Accuracy may be bad since you didn't explicitly set num_leaves OR 2^max_depth > num_leaves. (num_leaves=31).\n",
      "[LightGBM] [Info] Auto-choosing row-wise multi-threading, the overhead of testing was 0.001407 seconds.\n",
      "You can set `force_row_wise=true` to remove the overhead.\n",
      "And if memory is not enough, you can set `force_col_wise=true`.\n",
      "[LightGBM] [Info] Total Bins 1077\n",
      "[LightGBM] [Info] Number of data points in the train set: 37009, number of used features: 10\n",
      "[LightGBM] [Info] Start training from score 10.776254\n",
      "[LightGBM] [Warning] Accuracy may be bad since you didn't explicitly set num_leaves OR 2^max_depth > num_leaves. (num_leaves=31).\n"
     ]
    }
   ],
   "source": [
    "final_lgb_model = lgb.LGBMRegressor(**trial_params)\n",
    "final_lgb_model.fit(train_X, train_y)\n",
    "final_lgb_pred = final_lgb_model.predict(dt_test)"
   ]
  },
  {
   "cell_type": "code",
   "execution_count": 67,
   "metadata": {},
   "outputs": [
    {
     "data": {
      "text/plain": [
       "array([122925.10712247, 198842.92238465, 129160.35215384, ...,\n",
       "        16991.02112244,  11161.59051496,  20397.06132308])"
      ]
     },
     "execution_count": 67,
     "metadata": {},
     "output_type": "execute_result"
    }
   ],
   "source": [
    "pred_sub = np.expm1(final_lgb_pred)\n",
    "pred_sub"
   ]
  },
  {
   "cell_type": "code",
   "execution_count": 68,
   "metadata": {},
   "outputs": [
    {
     "data": {
      "text/plain": [
       "<BarContainer object of 10 artists>"
      ]
     },
     "execution_count": 68,
     "metadata": {},
     "output_type": "execute_result"
    },
    {
     "data": {
      "image/png": "[encoded data removed]",
      "text/plain": [
       "<Figure size 640x480 with 1 Axes>"
      ]
     },
     "metadata": {},
     "output_type": "display_data"
    }
   ],
   "source": [
    "plt.barh(train_X.columns, final_lgb_model.feature_importances_)"
   ]
  },
  {
   "cell_type": "code",
   "execution_count": 69,
   "metadata": {},
   "outputs": [],
   "source": [
    "pd.DataFrame(pred_sub.astype(int), columns=[\"target\"]).to_csv('sub.csv', index=False)"
   ]
  },
  {
   "cell_type": "code",
   "execution_count": null,
   "metadata": {},
   "outputs": [],
   "source": []
  }
 ],
 "metadata": {
  "kernelspec": {
   "display_name": "base",
   "language": "python",
   "name": "python3"
  },
  "language_info": {
   "codemirror_mode": {
    "name": "ipython",
    "version": 3
   },
   "file_extension": ".py",
   "mimetype": "text/x-python",
   "name": "python",
   "nbconvert_exporter": "python",
   "pygments_lexer": "ipython3",
   "version": "3.10.13"
  }
 },
 "nbformat": 4,
 "nbformat_minor": 2
}
