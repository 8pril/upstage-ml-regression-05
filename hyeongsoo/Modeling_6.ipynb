{
 "cells": [
  {
   "cell_type": "code",
   "execution_count": 1,
   "metadata": {},
   "outputs": [],
   "source": [
    "import matplotlib.pyplot as plt\n",
    "import seaborn as sns\n",
    "import pandas as pd\n",
    "import numpy as np\n",
    "import warnings;warnings.filterwarnings('ignore')\n",
    "import matplotlib.font_manager as fm\n",
    "fe = fm.FontEntry(\n",
    "    fname=r'/usr/share/fonts/truetype/nanum/NanumGothic.ttf', # ttf 파일이 저장되어 있는 경로\n",
    "    name='NanumBarunGothic')                        # 이 폰트의 원하는 이름 설정\n",
    "fm.fontManager.ttflist.insert(0, fe)              # Matplotlib에 폰트 추가\n",
    "plt.rcParams.update({'font.size': 10, 'font.family': 'NanumBarunGothic'}) # 폰트 설정\n",
    "plt.rc('font', family='NanumBarunGothic')\n",
    "\n",
    "from tqdm import tqdm\n",
    "import pickle\n",
    "import warnings;warnings.filterwarnings('ignore')\n",
    "\n",
    "import lightgbm as lgb\n",
    "import xgboost as xgb\n",
    "from sklearn.tree import DecisionTreeRegressor\n",
    "from sklearn.ensemble import RandomForestRegressor\n",
    "from sklearn.model_selection import TimeSeriesSplit\n",
    "from sklearn.metrics import mean_squared_error\n",
    "from sklearn.preprocessing import  LabelEncoder\n",
    "\n",
    "import optuna"
   ]
  },
  {
   "cell_type": "code",
   "execution_count": 2,
   "metadata": {},
   "outputs": [],
   "source": [
    "train_path = './train.csv'\n",
    "test_path  = './test.csv'\n",
    "train = pd.read_csv(train_path)\n",
    "test = pd.read_csv(test_path)"
   ]
  },
  {
   "cell_type": "code",
   "execution_count": 3,
   "metadata": {},
   "outputs": [],
   "source": [
    "train['is_test'] = 0\n",
    "test['is_test'] = 1\n",
    "concat = pd.concat([train, test])"
   ]
  },
  {
   "cell_type": "markdown",
   "metadata": {},
   "source": [
    "# 기준금리 추가하기"
   ]
  },
  {
   "cell_type": "code",
   "execution_count": 4,
   "metadata": {},
   "outputs": [],
   "source": [
    "base_rate_path  = './기준금리.csv'\n",
    "base_rate_df = pd.read_csv(base_rate_path)"
   ]
  },
  {
   "cell_type": "code",
   "execution_count": 5,
   "metadata": {},
   "outputs": [],
   "source": [
    "# 월일 변수를 월과 일로 나누어주고 년 월 일을 합쳐 날짜를 8자리 정수로 표현하기\n",
    "base_rate_df['년'] = base_rate_df['년'].map(lambda x: str(x))\n",
    "base_rate_df['월'] = base_rate_df['월일'].map(lambda x : x[:2])\n",
    "base_rate_df['일'] = base_rate_df['월일'].map(lambda x : x[4:6])\n",
    "base_rate_df['날짜'] = base_rate_df['년'] + base_rate_df['월'] + base_rate_df['일']\n",
    "base_rate_df['날짜'] = base_rate_df['날짜'].map(lambda x: int(x))\n",
    "base_rate_df = base_rate_df[['날짜', '기준금리']]"
   ]
  },
  {
   "cell_type": "code",
   "execution_count": 6,
   "metadata": {},
   "outputs": [],
   "source": [
    "# concat에 계약년월과 계약일을 합쳐 계약날짜 변수 생성 (8자리 정수)\n",
    "concat['계약날짜'] = concat['계약년월'] * 100 + concat['계약일']"
   ]
  },
  {
   "cell_type": "code",
   "execution_count": 7,
   "metadata": {},
   "outputs": [],
   "source": [
    "# concat의 '계약날짜' 값에 따라 '기준금리'를 반환해주는 함수.\n",
    "def date_to_rate(date):\n",
    "    for i in range(54, 0, -1): # 기준금리 데이터의 마지막 인덱스(54)에서 하나씩 올라가며 날짜를 비교하면서 기준금리 확인\n",
    "        if date >= base_rate_df['날짜'][i] and date <base_rate_df['날짜'][i - 1]:\n",
    "            return base_rate_df['기준금리'][i]\n",
    "    return base_rate_df['기준금리'][0] # 날짜(date)가 기준금리 데이터의 가장 최신 날짜보다 같거나 크다면 가장 최신 기준금리 반환\n",
    "\n",
    "# 예:\n",
    "# date_to_rate(20211126)\n",
    "# 1.0"
   ]
  },
  {
   "cell_type": "code",
   "execution_count": 8,
   "metadata": {},
   "outputs": [],
   "source": [
    "# concat_new에 기준금리 변수 추가\n",
    "concat['기준금리'] = concat['계약날짜'].apply(date_to_rate)"
   ]
  },
  {
   "cell_type": "code",
   "execution_count": 9,
   "metadata": {},
   "outputs": [],
   "source": [
    "# '기준금리'열의 데이터 형식을 float로 변경\n",
    "concat['기준금리'] = concat['기준금리'].astype(float)"
   ]
  },
  {
   "cell_type": "code",
   "execution_count": 10,
   "metadata": {},
   "outputs": [
    {
     "data": {
      "text/html": [
       "<div>\n",
       "<style scoped>\n",
       "    .dataframe tbody tr th:only-of-type {\n",
       "        vertical-align: middle;\n",
       "    }\n",
       "\n",
       "    .dataframe tbody tr th {\n",
       "        vertical-align: top;\n",
       "    }\n",
       "\n",
       "    .dataframe thead th {\n",
       "        text-align: right;\n",
       "    }\n",
       "</style>\n",
       "<table border=\"1\" class=\"dataframe\">\n",
       "  <thead>\n",
       "    <tr style=\"text-align: right;\">\n",
       "      <th></th>\n",
       "      <th>계약날짜</th>\n",
       "      <th>기준금리</th>\n",
       "    </tr>\n",
       "  </thead>\n",
       "  <tbody>\n",
       "    <tr>\n",
       "      <th>0</th>\n",
       "      <td>20171208</td>\n",
       "      <td>1.5</td>\n",
       "    </tr>\n",
       "    <tr>\n",
       "      <th>1</th>\n",
       "      <td>20171222</td>\n",
       "      <td>1.5</td>\n",
       "    </tr>\n",
       "    <tr>\n",
       "      <th>2</th>\n",
       "      <td>20171228</td>\n",
       "      <td>1.5</td>\n",
       "    </tr>\n",
       "    <tr>\n",
       "      <th>3</th>\n",
       "      <td>20180103</td>\n",
       "      <td>1.5</td>\n",
       "    </tr>\n",
       "    <tr>\n",
       "      <th>4</th>\n",
       "      <td>20180108</td>\n",
       "      <td>1.5</td>\n",
       "    </tr>\n",
       "    <tr>\n",
       "      <th>...</th>\n",
       "      <td>...</td>\n",
       "      <td>...</td>\n",
       "    </tr>\n",
       "    <tr>\n",
       "      <th>9267</th>\n",
       "      <td>20230719</td>\n",
       "      <td>3.5</td>\n",
       "    </tr>\n",
       "    <tr>\n",
       "      <th>9268</th>\n",
       "      <td>20230725</td>\n",
       "      <td>3.5</td>\n",
       "    </tr>\n",
       "    <tr>\n",
       "      <th>9269</th>\n",
       "      <td>20230827</td>\n",
       "      <td>3.5</td>\n",
       "    </tr>\n",
       "    <tr>\n",
       "      <th>9270</th>\n",
       "      <td>20230902</td>\n",
       "      <td>3.5</td>\n",
       "    </tr>\n",
       "    <tr>\n",
       "      <th>9271</th>\n",
       "      <td>20230904</td>\n",
       "      <td>3.5</td>\n",
       "    </tr>\n",
       "  </tbody>\n",
       "</table>\n",
       "<p>1128094 rows × 2 columns</p>\n",
       "</div>"
      ],
      "text/plain": [
       "          계약날짜  기준금리\n",
       "0     20171208   1.5\n",
       "1     20171222   1.5\n",
       "2     20171228   1.5\n",
       "3     20180103   1.5\n",
       "4     20180108   1.5\n",
       "...        ...   ...\n",
       "9267  20230719   3.5\n",
       "9268  20230725   3.5\n",
       "9269  20230827   3.5\n",
       "9270  20230902   3.5\n",
       "9271  20230904   3.5\n",
       "\n",
       "[1128094 rows x 2 columns]"
      ]
     },
     "execution_count": 10,
     "metadata": {},
     "output_type": "execute_result"
    }
   ],
   "source": [
    "# 추가된 변수 확인\n",
    "concat[['계약날짜', '기준금리']]"
   ]
  },
  {
   "cell_type": "markdown",
   "metadata": {},
   "source": [
    "# 전세가격지수 추가하기"
   ]
  },
  {
   "cell_type": "code",
   "execution_count": 11,
   "metadata": {},
   "outputs": [],
   "source": [
    "jeonsae_path  = './아파트전세가격지수.csv'\n",
    "jeonsae_df = pd.read_csv(jeonsae_path, encoding='cp949')"
   ]
  },
  {
   "cell_type": "code",
   "execution_count": 12,
   "metadata": {},
   "outputs": [
    {
     "data": {
      "text/html": [
       "<div>\n",
       "<style scoped>\n",
       "    .dataframe tbody tr th:only-of-type {\n",
       "        vertical-align: middle;\n",
       "    }\n",
       "\n",
       "    .dataframe tbody tr th {\n",
       "        vertical-align: top;\n",
       "    }\n",
       "\n",
       "    .dataframe thead th {\n",
       "        text-align: right;\n",
       "    }\n",
       "</style>\n",
       "<table border=\"1\" class=\"dataframe\">\n",
       "  <thead>\n",
       "    <tr style=\"text-align: right;\">\n",
       "      <th></th>\n",
       "      <th>년월</th>\n",
       "      <th>전세가격지수</th>\n",
       "    </tr>\n",
       "  </thead>\n",
       "  <tbody>\n",
       "    <tr>\n",
       "      <th>0</th>\n",
       "      <td>2003.11</td>\n",
       "      <td>46.7</td>\n",
       "    </tr>\n",
       "    <tr>\n",
       "      <th>1</th>\n",
       "      <td>2003.12</td>\n",
       "      <td>46.2</td>\n",
       "    </tr>\n",
       "    <tr>\n",
       "      <th>2</th>\n",
       "      <td>2004.01</td>\n",
       "      <td>46.0</td>\n",
       "    </tr>\n",
       "    <tr>\n",
       "      <th>3</th>\n",
       "      <td>2004.02</td>\n",
       "      <td>46.3</td>\n",
       "    </tr>\n",
       "    <tr>\n",
       "      <th>4</th>\n",
       "      <td>2004.03</td>\n",
       "      <td>46.5</td>\n",
       "    </tr>\n",
       "  </tbody>\n",
       "</table>\n",
       "</div>"
      ],
      "text/plain": [
       "        년월 전세가격지수\n",
       "0  2003.11   46.7\n",
       "1  2003.12   46.2\n",
       "2  2004.01   46.0\n",
       "3  2004.02   46.3\n",
       "4  2004.03   46.5"
      ]
     },
     "execution_count": 12,
     "metadata": {},
     "output_type": "execute_result"
    }
   ],
   "source": [
    "# 전세가격지수 데이터를 '년월'과 서울의 '전세가격지수'를 열로 가지는 데이터로 변환\n",
    "data = {'년월':list(jeonsae_df.columns[1:]), '전세가격지수':list(jeonsae_df.iloc[1])[1:]}\n",
    "seoul_jeonsae_df = pd.DataFrame(data)\n",
    "seoul_jeonsae_df.head()"
   ]
  },
  {
   "cell_type": "code",
   "execution_count": 13,
   "metadata": {},
   "outputs": [],
   "source": [
    "# 전세가격지수 데이터의 '년월' 형식을 concat의 '계약년월' 형식과 통일\n",
    "seoul_jeonsae_df['년월'] = seoul_jeonsae_df['년월'].map(lambda x : int(x.split('.')[0]) * 100 + int(x.split('.')[1]))"
   ]
  },
  {
   "cell_type": "code",
   "execution_count": 14,
   "metadata": {},
   "outputs": [],
   "source": [
    "# '전세가격지수' 변수가 추가된 concat 데이터\n",
    "concat = pd.merge(concat, seoul_jeonsae_df, left_on='계약년월', right_on='년월', how='inner').drop('년월', axis=1)"
   ]
  },
  {
   "cell_type": "code",
   "execution_count": 15,
   "metadata": {},
   "outputs": [],
   "source": [
    "# concat의 '전세가격지수'열의 형식을 float 변경\n",
    "concat['전세가격지수'] = concat['전세가격지수'].astype(float)"
   ]
  },
  {
   "cell_type": "code",
   "execution_count": 16,
   "metadata": {},
   "outputs": [
    {
     "data": {
      "text/html": [
       "<div>\n",
       "<style scoped>\n",
       "    .dataframe tbody tr th:only-of-type {\n",
       "        vertical-align: middle;\n",
       "    }\n",
       "\n",
       "    .dataframe tbody tr th {\n",
       "        vertical-align: top;\n",
       "    }\n",
       "\n",
       "    .dataframe thead th {\n",
       "        text-align: right;\n",
       "    }\n",
       "</style>\n",
       "<table border=\"1\" class=\"dataframe\">\n",
       "  <thead>\n",
       "    <tr style=\"text-align: right;\">\n",
       "      <th></th>\n",
       "      <th>계약년월</th>\n",
       "      <th>전세가격지수</th>\n",
       "    </tr>\n",
       "  </thead>\n",
       "  <tbody>\n",
       "    <tr>\n",
       "      <th>317997</th>\n",
       "      <td>202006</td>\n",
       "      <td>93.5</td>\n",
       "    </tr>\n",
       "    <tr>\n",
       "      <th>288300</th>\n",
       "      <td>202010</td>\n",
       "      <td>95.5</td>\n",
       "    </tr>\n",
       "    <tr>\n",
       "      <th>359197</th>\n",
       "      <td>201911</td>\n",
       "      <td>91.5</td>\n",
       "    </tr>\n",
       "    <tr>\n",
       "      <th>38122</th>\n",
       "      <td>201806</td>\n",
       "      <td>92.1</td>\n",
       "    </tr>\n",
       "    <tr>\n",
       "      <th>213529</th>\n",
       "      <td>202304</td>\n",
       "      <td>83.5</td>\n",
       "    </tr>\n",
       "    <tr>\n",
       "      <th>568035</th>\n",
       "      <td>201604</td>\n",
       "      <td>88.8</td>\n",
       "    </tr>\n",
       "    <tr>\n",
       "      <th>1054329</th>\n",
       "      <td>200803</td>\n",
       "      <td>54.3</td>\n",
       "    </tr>\n",
       "    <tr>\n",
       "      <th>161427</th>\n",
       "      <td>200905</td>\n",
       "      <td>53.1</td>\n",
       "    </tr>\n",
       "    <tr>\n",
       "      <th>908356</th>\n",
       "      <td>201309</td>\n",
       "      <td>73.1</td>\n",
       "    </tr>\n",
       "    <tr>\n",
       "      <th>396530</th>\n",
       "      <td>201905</td>\n",
       "      <td>90.6</td>\n",
       "    </tr>\n",
       "  </tbody>\n",
       "</table>\n",
       "</div>"
      ],
      "text/plain": [
       "           계약년월  전세가격지수\n",
       "317997   202006    93.5\n",
       "288300   202010    95.5\n",
       "359197   201911    91.5\n",
       "38122    201806    92.1\n",
       "213529   202304    83.5\n",
       "568035   201604    88.8\n",
       "1054329  200803    54.3\n",
       "161427   200905    53.1\n",
       "908356   201309    73.1\n",
       "396530   201905    90.6"
      ]
     },
     "execution_count": 16,
     "metadata": {},
     "output_type": "execute_result"
    }
   ],
   "source": [
    "# 확인을 위해 concat에서 랜덤으로 10개 샘플 뽑아보기\n",
    "concat[['계약년월', '전세가격지수']].sample(n=10)"
   ]
  },
  {
   "cell_type": "markdown",
   "metadata": {},
   "source": [
    "# 인구밀도 추가"
   ]
  },
  {
   "cell_type": "code",
   "execution_count": 17,
   "metadata": {},
   "outputs": [],
   "source": [
    "population_density_path  = './인구밀도.csv'\n",
    "population_density = pd.read_csv(population_density_path)"
   ]
  },
  {
   "cell_type": "code",
   "execution_count": 18,
   "metadata": {},
   "outputs": [
    {
     "data": {
      "text/html": [
       "<div>\n",
       "<style scoped>\n",
       "    .dataframe tbody tr th:only-of-type {\n",
       "        vertical-align: middle;\n",
       "    }\n",
       "\n",
       "    .dataframe tbody tr th {\n",
       "        vertical-align: top;\n",
       "    }\n",
       "\n",
       "    .dataframe thead th {\n",
       "        text-align: right;\n",
       "    }\n",
       "</style>\n",
       "<table border=\"1\" class=\"dataframe\">\n",
       "  <thead>\n",
       "    <tr style=\"text-align: right;\">\n",
       "      <th></th>\n",
       "      <th>동별(1)</th>\n",
       "      <th>동별(2)</th>\n",
       "      <th>동별(3)</th>\n",
       "      <th>인구 (명)</th>\n",
       "      <th>면적 (㎢)</th>\n",
       "      <th>인구밀도 (명/㎢)</th>\n",
       "    </tr>\n",
       "  </thead>\n",
       "  <tbody>\n",
       "    <tr>\n",
       "      <th>1</th>\n",
       "      <td>합계</td>\n",
       "      <td>소계</td>\n",
       "      <td>소계</td>\n",
       "      <td>9667669</td>\n",
       "      <td>605.21</td>\n",
       "      <td>15974</td>\n",
       "    </tr>\n",
       "    <tr>\n",
       "      <th>2</th>\n",
       "      <td>합계</td>\n",
       "      <td>종로구</td>\n",
       "      <td>소계</td>\n",
       "      <td>152211</td>\n",
       "      <td>23.91</td>\n",
       "      <td>6365</td>\n",
       "    </tr>\n",
       "    <tr>\n",
       "      <th>3</th>\n",
       "      <td>합계</td>\n",
       "      <td>종로구</td>\n",
       "      <td>사직동</td>\n",
       "      <td>9355</td>\n",
       "      <td>1.23</td>\n",
       "      <td>7606</td>\n",
       "    </tr>\n",
       "    <tr>\n",
       "      <th>4</th>\n",
       "      <td>합계</td>\n",
       "      <td>종로구</td>\n",
       "      <td>삼청동</td>\n",
       "      <td>2642</td>\n",
       "      <td>1.49</td>\n",
       "      <td>1773</td>\n",
       "    </tr>\n",
       "    <tr>\n",
       "      <th>5</th>\n",
       "      <td>합계</td>\n",
       "      <td>종로구</td>\n",
       "      <td>부암동</td>\n",
       "      <td>9536</td>\n",
       "      <td>2.27</td>\n",
       "      <td>4201</td>\n",
       "    </tr>\n",
       "  </tbody>\n",
       "</table>\n",
       "</div>"
      ],
      "text/plain": [
       "0 동별(1) 동별(2) 동별(3)   인구 (명)  면적 (㎢) 인구밀도 (명/㎢)\n",
       "1    합계    소계    소계  9667669  605.21      15974\n",
       "2    합계   종로구    소계   152211   23.91       6365\n",
       "3    합계   종로구   사직동     9355    1.23       7606\n",
       "4    합계   종로구   삼청동     2642    1.49       1773\n",
       "5    합계   종로구   부암동     9536    2.27       4201"
      ]
     },
     "execution_count": 18,
     "metadata": {},
     "output_type": "execute_result"
    }
   ],
   "source": [
    "# 맨 위 row를 변수 이름으로 설정\n",
    "population_density.columns = population_density.iloc[0]\n",
    "population_density = population_density[1:]\n",
    "population_density.head()"
   ]
  },
  {
   "cell_type": "code",
   "execution_count": 19,
   "metadata": {},
   "outputs": [],
   "source": [
    "# concat의 '시군구' 변수에서 동을 분리하여 따로 변수 만들기\n",
    "concat['동'] = concat['시군구'].map(lambda x : x.split()[2])"
   ]
  },
  {
   "cell_type": "code",
   "execution_count": 20,
   "metadata": {},
   "outputs": [],
   "source": [
    "# 인구밀도 데이터 변수의 타입 변환\n",
    "population_density_new = population_density[['동별(3)', '인구 (명)', '면적 (㎢)', '인구밀도 (명/㎢)']]\n",
    "population_density_new['인구 (명)'] = population_density_new['인구 (명)'].astype(float)\n",
    "population_density_new['면적 (㎢)'] = population_density_new['면적 (㎢)'].astype(float)\n",
    "population_density_new['인구밀도 (명/㎢)'] = population_density_new['인구밀도 (명/㎢)'].astype(float)"
   ]
  },
  {
   "cell_type": "code",
   "execution_count": 21,
   "metadata": {},
   "outputs": [],
   "source": [
    "# concat에서 동을 (유사)행정동으로 반환하는 함수\n",
    "# '동'이 여러 행정동에 걸쳐있는 경우 임으로 걸쳐있는 행정동 중 하나로 선택하였음\n",
    "def to_hangjungdong(dong):\n",
    "    if dong in ['금호동1가']: \n",
    "        return '금호1가동'\n",
    "    elif dong in ['봉천동']: # 중앙동은 5개의 동에 걸쳐있음\n",
    "        return '중앙동'\n",
    "    elif dong in ['마곡동']: # 마곡동은 가양1동, 방화1동, 발산1동에 걸쳐있음\n",
    "        return '가양동'\n",
    "    elif dong in ['내발산동']: # 내발산동은 '발산1동'과 '우장산동'에 걸쳐있음\n",
    "        return '발산1동'\n",
    "    elif dong in ['자곡동', '율현동']:\n",
    "        return '세곡동'\n",
    "    elif dong in ['금호동2가', '금호동3가']:\n",
    "        return '금호2.3가동'\n",
    "    elif dong in ['금호동4가']:\n",
    "        return '금호4가동'\n",
    "    elif dong in ['남대문로5가']:\n",
    "        return '회현동'\n",
    "    elif dong in ['남산동2가']:\n",
    "        return '명동'\n",
    "    elif dong in ['당산동1가', '당산동2가', '당산동3가']:\n",
    "        return '당산1동'\n",
    "    elif dong in ['당산동4가', '당산동5가', '당산동6가']:\n",
    "        return '당산2동'\n",
    "    elif dong in ['동선동1가', '동선동3가', '동선동4가', '동선동5가', '동소문동6가', '동소문동7가']:\n",
    "        return '동선동'\n",
    "    elif dong in ['동소문동5가', '삼선동2가', '삼선동3가', '삼선동4가', '삼선동5가']:\n",
    "        return '삼선동'\n",
    "    elif dong in ['만리동2가', '만리동1가']:\n",
    "        return '중림동'\n",
    "    elif dong in ['명륜1가', '명륜2가', '명륜3가']:\n",
    "        return '혜화동'\n",
    "    elif dong in ['문래동2가', '문래동3가', '문래동4가', '문래동5가', '문래동6가']:\n",
    "        return '문래동'\n",
    "    elif dong in ['보문동2가', '보문동3가', '보문동4가', '보문동6가']:\n",
    "        return '보문동'\n",
    "    elif dong in ['성북동1가', '동소문동', '동소문동4가']:\n",
    "        return '성북동'\n",
    "    elif dong in ['신문로1가', '신문로2가', '내수동', '당주동', '필운동']:\n",
    "        return '사직동'\n",
    "    elif dong in ['안암동1가', '안암동3가', '안암동4가', '안암동5가']:\n",
    "        return '안암동'\n",
    "    elif dong in ['양평동1가', '양평동2가', '양평동3가']: \n",
    "        return '양평1동'\n",
    "    elif dong in ['양평동4가', '양평동5가', '양평동6가']: # '양평동3가'는 '양평1동'과 '양평2동'에 걸쳐있음 \n",
    "        return '양평2동'\n",
    "    elif dong in ['영등포동1가', '영등포동2가', '영등포동3가', '영등포동4가', '영등포동5가', '영등포동7가', '영등포동8가']:\n",
    "        return '영등포동'\n",
    "    elif dong in ['용산동2가']:\n",
    "        return '용산2가동'\n",
    "    elif dong in ['원효로1가', '원효로2가', '문배동', '신계동']: # 원효로1동, 2동의 인구밀도가 크게 차이나기 떄문에 두 개 분리\n",
    "        return  '원효로1동'\n",
    "    elif dong in ['원효로3가', '원효로4가', '산천동', '신창동', '청암동']:\n",
    "        return '원효로2동'\n",
    "    elif dong in ['을지로5가', '산림동', '입정동']:\n",
    "        return '을지로동'\n",
    "    elif dong in ['인현동2가', '오장동', '충무로4가', '충무로5가']: \n",
    "        return '광희동'\n",
    "    elif dong in ['장충동1가', '장충동2가']:\n",
    "        return '장충동'\n",
    "    elif dong in ['청파동1가', '청파동3가']:\n",
    "        return '청파동'\n",
    "    elif dong in ['충정로2가', '충정로3가', '합동', '미근동']:\n",
    "        return '충현동'\n",
    "    elif dong in ['필동1가', '필동3가', '묵정동', '예장동']:\n",
    "        return '필동'\n",
    "    elif dong in ['한강로1가', '한강로2가', '한강로3가', '용산동5가']:\n",
    "        return '한강로동'\n",
    "    elif dong in ['회현동1가', '회현동2가', '남창동']:\n",
    "        return '회현동'\n",
    "    elif dong in ['천왕동']:\n",
    "        return '오류동'\n",
    "    elif dong in ['온수동', '궁동']:\n",
    "        return '수궁동'\n",
    "    elif dong in ['용두동', '신설동']:\n",
    "        return '용신동'\n",
    "    elif dong in ['본동']:\n",
    "        return '노량진동'\n",
    "    elif dong in ['동작동']:\n",
    "        return '사당동'\n",
    "    elif dong in ['노고산동']:\n",
    "        return '대흥동'\n",
    "    elif dong in ['마포동']:\n",
    "        return '도화동'\n",
    "    elif dong in ['상수동']:\n",
    "        return '서강동'\n",
    "    elif dong in ['신공덕동']:\n",
    "        return '공덕동'\n",
    "    elif dong in ['동교동']:\n",
    "        return '연남동'\n",
    "    elif dong in ['중동']:\n",
    "        return '성산동'\n",
    "    elif dong in ['창전동', '하중동']:\n",
    "        return '서강동'\n",
    "    elif dong in ['냉천동', '영천동', '현저동']:\n",
    "        return '천연동'\n",
    "    elif dong in ['토정동']:\n",
    "        return '용강동'\n",
    "    elif dong in ['현석동', '구수동']:\n",
    "        return '신수동'\n",
    "    elif dong in ['대현동', '창천동']:\n",
    "        return '신촌동'\n",
    "    elif dong in ['우면동']:\n",
    "        return '양재동'\n",
    "    elif dong in ['도선동', '상왕십리동', '하왕십리동', '홍익동']:\n",
    "        return '왕십리도선동'\n",
    "    elif dong in ['상월곡동', '하월곡동']:\n",
    "        return '월곡동'\n",
    "    elif dong in ['신천동']:\n",
    "        return '잠실동'\n",
    "    elif dong in ['여의도동']:\n",
    "        return '여의동'\n",
    "    elif dong in ['갈월동', '동자동']:\n",
    "        return '남영동'\n",
    "    elif dong in ['도원동']:\n",
    "        return '용문동'\n",
    "    elif dong in ['동빙고동', '주성동']:\n",
    "        return '서빙고동'\n",
    "    elif dong in ['익선동', '견지동', '인의동', '수송동', '원남동', '낙원동']:\n",
    "        return '종로1.2.3.4가동'\n",
    "    elif dong in ['효제동', '충신동', '연지동']:\n",
    "        return '종로5.6가동'\n",
    "    elif dong in ['교북동', '행촌동', '홍파동', '평동']:\n",
    "        return '교남동'\n",
    "    elif dong in ['누상동', '옥인동', '청운동', '통인동', '신교동']:\n",
    "        return '청운효자동'\n",
    "    elif dong in ['동숭동', '연건동']:\n",
    "        return '이화동'\n",
    "    elif dong in ['신영동']:\n",
    "        return '부암동'\n",
    "    elif dong in ['순화동', '정동']:\n",
    "        return '소공동'\n",
    "    elif dong in ['흥인동']:\n",
    "        return '신당동'\n",
    "    elif dong in ['구기동']:\n",
    "        return '평창동'\n",
    "    else:\n",
    "        return dong\n",
    "    "
   ]
  },
  {
   "cell_type": "code",
   "execution_count": 22,
   "metadata": {},
   "outputs": [],
   "source": [
    "# concat의 '동'을 유사 행정동으로 변환\n",
    "concat['행정동'] = concat['동'].apply(to_hangjungdong)"
   ]
  },
  {
   "cell_type": "code",
   "execution_count": 23,
   "metadata": {},
   "outputs": [],
   "source": [
    "# 인구밀도 데이터의 몇 개의 행정동을 하나로 합쳐주기 위한 리스트\n",
    "dong_merge_list = [['성수동1가', '성수1가1동','성수1가2동'],\n",
    "                   ['성수동2가', '성수2가1동', '성수2가3동'],\n",
    "                   ['논현동', '논현1동', '논현2동'],\n",
    "                   ['대치동', '대치1동', '대치2동', '대치4동'],\n",
    "                   ['도곡동', '도곡1동', '도곡2동'],\n",
    "                   ['역삼동', '역삼1동', '역삼2동'],\n",
    "                   ['일원동', '일원본동', '일원1동'],\n",
    "                   ['고덕동', '고덕1동', '고덕2동'],\n",
    "                   ['둔촌동', '둔촌1동', '둔촌2동'],\n",
    "                   ['명일동', '명일1동', '명일2동'],\n",
    "                   ['상일동', '상일1동', '상일2동'],\n",
    "                   ['성내동', '성내1동', '성내2동', '성내3동'],\n",
    "                   ['암사동', '암사1동', '암사2동', '암사3동'],\n",
    "                   ['천호동', '천호1동', '천호2동', '천호3동'],\n",
    "                   ['번동', '번1동', '번2동', '번3동'],\n",
    "                   ['가양동', '가양1동', '가양2동', '가양3동'],\n",
    "                   ['수유동', '수유1동', '수유2동', '수유3동'],\n",
    "                   ['등촌동', '등촌1동', '등촌2동', '등촌3동'],\n",
    "                   ['방화동', '방화1동', '방화2동', '방화3동'],\n",
    "                   ['화곡동', '화곡1동', '화곡2동',  '화곡3동', '화곡4동', '화곡6동', '화곡8동', '화곡본동'],\n",
    "                   ['구의동', '구의1동', '구의2동', '구의3동'],\n",
    "                   ['자양동', '자양1동', '자양2동', '자양3동', '자양4동'],\n",
    "                   ['개봉동', '개봉1동', '개봉2동', '개봉3동'],\n",
    "                   ['고척동', '고척1동', '고척2동'],\n",
    "                   ['중곡동', '중곡1동', '중곡2동', '중곡3동'],\n",
    "                   ['구로동', '구로1동', '구로2동', '구로3동', '구로4동', '구로5동'],\n",
    "                   ['개포동', '개포1동', '개포2동', '개포3동', '개포4동'],\n",
    "                   ['오류동', '오류1동', '오류2동'],\n",
    "                   ['독산동', '독산1동', '독산2동', '독산3동', '독산4동'],\n",
    "                   ['시흥동', '시흥1동', '시흥2동', '시흥3동', '시흥4동', '시흥5동'],\n",
    "                   ['공릉동', '공릉1동', '공릉2동'],\n",
    "                   ['상계동', '상계1동', '상계2동', '상계5동', '상계8동', '상계9동', '상계10동', '상계3.4동', '상계6.7동'],\n",
    "                   ['월계동', '월계1동', '월계2동', '월계3동'],\n",
    "                   ['중계동', '중계본동', '중계1동', '중계4동', '중계2.3동'],\n",
    "                   ['하계동', '하계1동', '하계2동'],\n",
    "                   ['도봉동', '도봉1동', '도봉2동'],\n",
    "                   ['방학동', '방학1동', '방학2동', '방학3동'],\n",
    "                   ['쌍문동', '쌍문1동', '쌍문2동', '쌍문3동', '쌍문4동'],\n",
    "                   ['창동', '창1동', '창2동', '창3동', '창4동', '창5동'],\n",
    "                   ['답십리동', '답십리1동', '답십리2동'],\n",
    "                   ['이문동', '이문1동', '이문2동'],\n",
    "                   ['장안동', '장안1동', '장안2동'],\n",
    "                   ['전농동', '전농1동', '전농2동'],\n",
    "                   ['휘경동', '휘경1동', '휘경2동'],\n",
    "                   ['노량진동', '노량진1동', '노량진2동'],\n",
    "                   ['사당동', '사당1동', '사당2동', '사당3동', '사당4동', '사당5동'],\n",
    "                   ['상도동', '상도1동', '상도2동', '상도3동', '상도4동'],\n",
    "                   ['신대방동', '신대방1동', '신대방2동'],\n",
    "                   ['성산동', '성산1동', '성산2동'],\n",
    "                   ['신정동', '신정1동', '신정2동', '신정3동', '신정4동', '신정6동', '신정7동'],\n",
    "                   ['망원동', '망원1동', '망원2동'],\n",
    "                   ['남가좌동', '남가좌1동', '남가좌2동'],\n",
    "                   ['북가좌동', '북가좌1동', '북가좌2동'],\n",
    "                   ['홍은동', '홍은1동', '홍은2동'],\n",
    "                   ['홍제동', '홍제1동', '홍제2동', '홍제3동'],\n",
    "                   ['반포동', '반포본동', '반포1동', '반포2동', '반포3동', '반포4동'],\n",
    "                   ['방배동', '방배본동', '방배1동', '방배2동', '방배3동', '방배4동'],\n",
    "                   ['서초동', '서초1동', '서초2동', '서초3동', '서초4동'],\n",
    "                   ['양재동', '양재1동', '양재2동'],\n",
    "                   ['행당동', '행당1동', '행당2동'],\n",
    "                   ['길음동', '길음1동', '길음2동'],\n",
    "                   ['돈암동', '돈암1동', '돈암2동'],\n",
    "                   ['장위동', '장위1동', '장위2동', '장위3동'],\n",
    "                   ['정릉동', '정릉1동', '정릉2동', '정릉3동', '정릉4동'],\n",
    "                   ['가락동', '가락본동', '가락1동', '가락2동'],\n",
    "                   ['거여동', '거여1동', '거여2동'],\n",
    "                   ['마천동', '마천1동', '마천2동'],\n",
    "                   ['문정동', '문정1동', '문정2동'],\n",
    "                   ['송파동', '송파1동', '송파2동'],\n",
    "                   ['방이동',  '방이1동', '방이2동'],\n",
    "                   ['잠실동', '잠실본동', '잠실2동', '잠실3동', '잠실4동', '잠실6동', '잠실7동'],\n",
    "                   ['풍납동', '풍납1동', '풍납2동'],\n",
    "                   ['목동', '목1동', '목2동', '목3동', '목4동'],\n",
    "                   ['신월동', '신월1동', '신월2동', '신월3동', '신월4동', '신월5동', '신월6동', '신월7동'],\n",
    "                   ['당산동', '당산1동', '당산2동'],\n",
    "                   ['대림동', '대림1동', '대림2동', '대림3동'],\n",
    "                   ['신길동', '신길1동', '신길3동', '신길4동', '신길5동', '신길6동', '신길7동'],\n",
    "                   ['이촌동', '이촌1동', '이촌2동'],\n",
    "                   ['이태원동', '이태원1동', '이태원2동'],\n",
    "                   ['불광동', '불광1동', '불광2동'],\n",
    "                   ['갈현동', '갈현1동', '갈현2동'],\n",
    "                   ['응암동', '응암1동', '응암2동', '응암3동'],\n",
    "                   ['숭인동', '숭인1동', '숭인2동'],\n",
    "                   ['창신동', '창신1동', '창신2동', '창신3동'],\n",
    "                   ['망우동', '망우본동', '망우3동'],\n",
    "                   ['면목동', '면목본동', '면목2동', '면목4동', '면목5동', '면목7동', '면목3.8동'],\n",
    "                   ['묵동', '묵1동', '묵2동'],\n",
    "                   ['상봉동', '상봉1동', '상봉2동'],\n",
    "                   ['신내동', '신내1동', '신내2동'],\n",
    "                   ['중화동', '중화1동', '중화2동'],\n",
    "                   ['월곡동', '월곡1동', '월곡2동']\n",
    "                   ]"
   ]
  },
  {
   "cell_type": "code",
   "execution_count": 24,
   "metadata": {},
   "outputs": [],
   "source": [
    "# 행정동을 합쳐 유사 행정동을 구하고 합친 인구와 면적을 사용하여 밀도를 다시 구하기\n",
    "for dongs in dong_merge_list:\n",
    "    dong_dict ={}\n",
    "    dong_dict['동별(3)'] = dongs[0]\n",
    "    dong_pop = 0\n",
    "    dong_area = 0\n",
    "    for dong in dongs[1:]:\n",
    "        dong_pop += population_density_new.loc[population_density_new['동별(3)'] == dong, '인구 (명)'].values[0]\n",
    "        dong_area += population_density_new.loc[population_density_new['동별(3)'] == dong, '면적 (㎢)'].values[0]\n",
    "    dong_density = dong_pop / dong_area\n",
    "    dong_dict['인구 (명)'] = dong_pop\n",
    "    dong_dict['면적 (㎢)'] = dong_area\n",
    "    dong_dict['인구밀도 (명/㎢)'] = dong_density\n",
    "    population_density_new = population_density_new.append(dong_dict, ignore_index=True)\n",
    "    "
   ]
  },
  {
   "cell_type": "code",
   "execution_count": 25,
   "metadata": {},
   "outputs": [],
   "source": [
    "# '인구밀도 (명/㎢)' 변수가 추가된 concat 데이터\n",
    "concat = pd.merge(concat, population_density_new, left_on='행정동', right_on='동별(3)', how='inner').drop(['동별(3)', '인구 (명)', '면적 (㎢)'], axis=1)"
   ]
  },
  {
   "cell_type": "code",
   "execution_count": 26,
   "metadata": {},
   "outputs": [
    {
     "data": {
      "text/html": [
       "<div>\n",
       "<style scoped>\n",
       "    .dataframe tbody tr th:only-of-type {\n",
       "        vertical-align: middle;\n",
       "    }\n",
       "\n",
       "    .dataframe tbody tr th {\n",
       "        vertical-align: top;\n",
       "    }\n",
       "\n",
       "    .dataframe thead th {\n",
       "        text-align: right;\n",
       "    }\n",
       "</style>\n",
       "<table border=\"1\" class=\"dataframe\">\n",
       "  <thead>\n",
       "    <tr style=\"text-align: right;\">\n",
       "      <th></th>\n",
       "      <th>행정동</th>\n",
       "      <th>인구밀도 (명/㎢)</th>\n",
       "    </tr>\n",
       "  </thead>\n",
       "  <tbody>\n",
       "    <tr>\n",
       "      <th>805379</th>\n",
       "      <td>응봉동</td>\n",
       "      <td>26491.000000</td>\n",
       "    </tr>\n",
       "    <tr>\n",
       "      <th>796621</th>\n",
       "      <td>옥수동</td>\n",
       "      <td>13321.000000</td>\n",
       "    </tr>\n",
       "    <tr>\n",
       "      <th>582816</th>\n",
       "      <td>대방동</td>\n",
       "      <td>23907.000000</td>\n",
       "    </tr>\n",
       "    <tr>\n",
       "      <th>994958</th>\n",
       "      <td>신길동</td>\n",
       "      <td>30567.469880</td>\n",
       "    </tr>\n",
       "    <tr>\n",
       "      <th>1063506</th>\n",
       "      <td>역촌동</td>\n",
       "      <td>38779.000000</td>\n",
       "    </tr>\n",
       "    <tr>\n",
       "      <th>1081991</th>\n",
       "      <td>신당동</td>\n",
       "      <td>16522.000000</td>\n",
       "    </tr>\n",
       "    <tr>\n",
       "      <th>1099672</th>\n",
       "      <td>면목동</td>\n",
       "      <td>22971.547421</td>\n",
       "    </tr>\n",
       "    <tr>\n",
       "      <th>1028603</th>\n",
       "      <td>이촌동</td>\n",
       "      <td>8284.558824</td>\n",
       "    </tr>\n",
       "    <tr>\n",
       "      <th>516920</th>\n",
       "      <td>창동</td>\n",
       "      <td>27660.235294</td>\n",
       "    </tr>\n",
       "    <tr>\n",
       "      <th>601225</th>\n",
       "      <td>상도동</td>\n",
       "      <td>33116.666667</td>\n",
       "    </tr>\n",
       "  </tbody>\n",
       "</table>\n",
       "</div>"
      ],
      "text/plain": [
       "         행정동    인구밀도 (명/㎢)\n",
       "805379   응봉동  26491.000000\n",
       "796621   옥수동  13321.000000\n",
       "582816   대방동  23907.000000\n",
       "994958   신길동  30567.469880\n",
       "1063506  역촌동  38779.000000\n",
       "1081991  신당동  16522.000000\n",
       "1099672  면목동  22971.547421\n",
       "1028603  이촌동   8284.558824\n",
       "516920    창동  27660.235294\n",
       "601225   상도동  33116.666667"
      ]
     },
     "execution_count": 26,
     "metadata": {},
     "output_type": "execute_result"
    }
   ],
   "source": [
    "# 확인을 위해 concat에서 랜덤으로 10개 샘플 뽑아보기\n",
    "concat[['행정동', '인구밀도 (명/㎢)']].sample(n=10)"
   ]
  },
  {
   "cell_type": "markdown",
   "metadata": {},
   "source": [
    "# 서울시 공동주택 아파트 데이터로 결측치 채우기"
   ]
  },
  {
   "cell_type": "code",
   "execution_count": 27,
   "metadata": {},
   "outputs": [],
   "source": [
    "concat['등기신청일자'] = concat['등기신청일자'].replace(' ', np.nan)\n",
    "concat['거래유형'] = concat['거래유형'].replace('-', np.nan)\n",
    "concat['중개사소재지'] = concat['중개사소재지'].replace('-', np.nan)"
   ]
  },
  {
   "cell_type": "code",
   "execution_count": 28,
   "metadata": {},
   "outputs": [],
   "source": [
    "house_df_path = \"./서울시 공동주택 아파트 정보.csv\"\n",
    "house_df = pd.read_csv(house_df_path, encoding='cp949')"
   ]
  },
  {
   "cell_type": "code",
   "execution_count": 29,
   "metadata": {},
   "outputs": [],
   "source": [
    "# '도로명주소'을 기준으로 df_train의 결측치 ('아파트명'은 같은 아파트임에도 서로 일치하지 않는 항목이 많아서)\n",
    "house_df['도로명주소'] = house_df['주소(도로명)'] + ' ' + house_df['주소(도로상세주소)']\n",
    "house_df = house_df.drop_duplicates(subset='도로명주소')"
   ]
  },
  {
   "cell_type": "code",
   "execution_count": 30,
   "metadata": {},
   "outputs": [],
   "source": [
    "# house_df_unique에서 '도로명주소'가 같은 경우 수치형인 열은 평균값으로, 범주형인 열은 최빈값으로 중복값 대체\n",
    "def handle_duplicates(df):\n",
    "    duplicates = df.duplicated(subset=['도로명주소'])\n",
    "    for col in df.columns:\n",
    "        if col != '도로명주소':\n",
    "            if df[col].dtype == 'int64':\n",
    "                df[col] = df.groupby('도로명주소')[col].transform(lambda x: x.mean() if not x.isnull().all() else x)\n",
    "            else:\n",
    "                df[col] = df.groupby('도로명주소')[col].transform(lambda x: x.mode().iloc[0] if not x.isnull().all() else x)\n",
    "    df = df.drop_duplicates(subset=['도로명주소'])\n",
    "    return df\n",
    "\n",
    "house_df = handle_duplicates(house_df)"
   ]
  },
  {
   "cell_type": "code",
   "execution_count": 31,
   "metadata": {},
   "outputs": [],
   "source": [
    "# concat과 house_df_unique에 공통으로 존재하는 열 찾기\n",
    "common_cols = []\n",
    "for col_1 in (concat.columns):\n",
    "    for col_2 in list(list(house_df.columns)):\n",
    "        if col_1 == col_2:\n",
    "            common_cols.append(col_1)\n",
    "            break"
   ]
  },
  {
   "cell_type": "code",
   "execution_count": 32,
   "metadata": {},
   "outputs": [],
   "source": [
    "# concat의 결측치를 house_df_unique로 채우기\n",
    "for col in common_cols:\n",
    "    concat[col] = concat[col].fillna(concat['도로명'].map(house_df.set_index('도로명주소')[col]))\n",
    "concat['아파트명'] = concat['아파트명'].fillna(concat['도로명'].map(house_df.set_index('도로명주소')['k-아파트명']))"
   ]
  },
  {
   "cell_type": "markdown",
   "metadata": {},
   "source": [
    "# 'k-건설사(시공사)' 변수의 값을 단순화하기"
   ]
  },
  {
   "cell_type": "code",
   "execution_count": 33,
   "metadata": {},
   "outputs": [],
   "source": [
    "# # 아파트명 변수의 값을 단순화하기\n",
    "concat['k-건설사(시공사)'] = concat['k-건설사(시공사)'].astype(str)\n",
    "# 여러 건설사가 같이 시공하였을 시 더 브랜드 평판이 높은 건설사 혹은 데이터가 더 많은 건설사로 대체\n",
    "def simple_apt(apt):\n",
    "    if '현대건설' in apt or '힐스테이트' in apt:\n",
    "        return '현대건설'\n",
    "    elif '삼성물산' in apt:\n",
    "        return '삼성물산'\n",
    "    elif '대우건설' in apt or '푸르지오' in apt:\n",
    "        return '대우건설'\n",
    "    elif 'GS' in apt or 'gs' in apt or '지에스' in apt:\n",
    "        return 'GS건설'\n",
    "    elif '포스코' in apt:\n",
    "        return '포스코건설'\n",
    "    elif '래미안' in apt or '삼성물산' in apt:\n",
    "        return '삼성물산'\n",
    "    elif 'DL' in apt:\n",
    "        return 'DL E&C'\n",
    "    elif '롯데건설' in apt or '롯데캐슬' in apt:\n",
    "        return '롯데건설'\n",
    "    elif '현대산업' in apt:\n",
    "        return '현대산업개발'\n",
    "    elif '한화' in apt:\n",
    "        return '한화건설'\n",
    "    elif '쌍용' in apt:\n",
    "        return '쌍용건설'\n",
    "    elif apt in ['대한주택공사', 'LH공사', '한국토지주택공사', '한국주택공사', 'LH']:\n",
    "        return '한국토지주택공사'\n",
    "    elif '우성' in apt:\n",
    "        return '우성건설'\n",
    "    elif '한신' in apt:\n",
    "        return '한신공영'\n",
    "    elif '두산건설' in apt:\n",
    "        return '두산건설'\n",
    "    elif apt in ['동아건설', '(주)동아건설', '동아건설산업(주)', '동아건설산업', '동아건설(주)', '(주)동아건설산업', '동아,효성', '동아주택']:\n",
    "        return '동아건설'\n",
    "    elif '대림산업' in apt:\n",
    "        return '대림산업'\n",
    "    elif '벽산건설' in apt:\n",
    "        return '벽산건설'\n",
    "    elif '동부건설' in apt:\n",
    "        return '동부건설'\n",
    "    else:\n",
    "        return 'Other'\n",
    "    \n",
    "    \n",
    "concat['k-건설사(시공사)'] = concat['k-건설사(시공사)'].apply(simple_apt)\n",
    "concat['k-건설사(시공사)'] = concat['k-건설사(시공사)'].fillna(value='Other') # 결측치도 'Other'로 통일"
   ]
  },
  {
   "cell_type": "markdown",
   "metadata": {},
   "source": [
    "# 계약년 변수 추가"
   ]
  },
  {
   "cell_type": "code",
   "execution_count": 34,
   "metadata": {},
   "outputs": [],
   "source": [
    "concat['계약년'] = concat['계약년월'].astype('str').map(lambda x : x[:4])"
   ]
  },
  {
   "cell_type": "code",
   "execution_count": 35,
   "metadata": {},
   "outputs": [],
   "source": [
    "concat['계약년'] = concat['계약년'].astype(int)"
   ]
  },
  {
   "cell_type": "markdown",
   "metadata": {},
   "source": [
    "# 아파트 연식 변수 추가"
   ]
  },
  {
   "cell_type": "code",
   "execution_count": 36,
   "metadata": {},
   "outputs": [
    {
     "data": {
      "text/plain": [
       "(1118822, 53)"
      ]
     },
     "execution_count": 36,
     "metadata": {},
     "output_type": "execute_result"
    }
   ],
   "source": [
    "train.shape"
   ]
  },
  {
   "cell_type": "code",
   "execution_count": 37,
   "metadata": {},
   "outputs": [],
   "source": [
    "concat['연식'] = concat['계약년'] - concat['건축년도']"
   ]
  },
  {
   "cell_type": "code",
   "execution_count": 38,
   "metadata": {},
   "outputs": [],
   "source": [
    "# 연식(0 - 10, 11 - 30, > 30)별 변수 추가\n",
    "concat['연식0-10'] = 0\n",
    "concat.loc[concat['연식'] <= 10, '연식0-10'] = 1\n",
    "\n",
    "concat['연식11-30'] = 0\n",
    "concat.loc[(concat['연식'] > 10) & (concat['연식'] <= 30), '연식11-30'] = 1\n",
    "\n",
    "concat['연식>30'] = 0\n",
    "concat.loc[concat['연식'] > 30, '연식>30'] = 1\n",
    "\n",
    "concat['연식(category)'] = 0\n",
    "concat.loc[concat['연식0-10'] == 1, '연식(category)'] = '0'\n",
    "concat.loc[concat['연식11-30'] == 1, '연식(category)'] = '1'\n",
    "concat.loc[concat['연식>30'] == 1, '연식(category)'] = '2'"
   ]
  },
  {
   "cell_type": "code",
   "execution_count": 39,
   "metadata": {},
   "outputs": [
    {
     "data": {
      "text/html": [
       "<div>\n",
       "<style scoped>\n",
       "    .dataframe tbody tr th:only-of-type {\n",
       "        vertical-align: middle;\n",
       "    }\n",
       "\n",
       "    .dataframe tbody tr th {\n",
       "        vertical-align: top;\n",
       "    }\n",
       "\n",
       "    .dataframe thead th {\n",
       "        text-align: right;\n",
       "    }\n",
       "</style>\n",
       "<table border=\"1\" class=\"dataframe\">\n",
       "  <thead>\n",
       "    <tr style=\"text-align: right;\">\n",
       "      <th></th>\n",
       "      <th>연식</th>\n",
       "      <th>연식0-10</th>\n",
       "      <th>연식11-30</th>\n",
       "      <th>연식&gt;30</th>\n",
       "    </tr>\n",
       "  </thead>\n",
       "  <tbody>\n",
       "    <tr>\n",
       "      <th>462203</th>\n",
       "      <td>23</td>\n",
       "      <td>0</td>\n",
       "      <td>1</td>\n",
       "      <td>0</td>\n",
       "    </tr>\n",
       "    <tr>\n",
       "      <th>852236</th>\n",
       "      <td>11</td>\n",
       "      <td>0</td>\n",
       "      <td>1</td>\n",
       "      <td>0</td>\n",
       "    </tr>\n",
       "    <tr>\n",
       "      <th>294668</th>\n",
       "      <td>17</td>\n",
       "      <td>0</td>\n",
       "      <td>1</td>\n",
       "      <td>0</td>\n",
       "    </tr>\n",
       "    <tr>\n",
       "      <th>1010567</th>\n",
       "      <td>6</td>\n",
       "      <td>1</td>\n",
       "      <td>0</td>\n",
       "      <td>0</td>\n",
       "    </tr>\n",
       "    <tr>\n",
       "      <th>228329</th>\n",
       "      <td>13</td>\n",
       "      <td>0</td>\n",
       "      <td>1</td>\n",
       "      <td>0</td>\n",
       "    </tr>\n",
       "    <tr>\n",
       "      <th>102222</th>\n",
       "      <td>18</td>\n",
       "      <td>0</td>\n",
       "      <td>1</td>\n",
       "      <td>0</td>\n",
       "    </tr>\n",
       "    <tr>\n",
       "      <th>1093418</th>\n",
       "      <td>2</td>\n",
       "      <td>1</td>\n",
       "      <td>0</td>\n",
       "      <td>0</td>\n",
       "    </tr>\n",
       "    <tr>\n",
       "      <th>430315</th>\n",
       "      <td>20</td>\n",
       "      <td>0</td>\n",
       "      <td>1</td>\n",
       "      <td>0</td>\n",
       "    </tr>\n",
       "    <tr>\n",
       "      <th>561067</th>\n",
       "      <td>2</td>\n",
       "      <td>1</td>\n",
       "      <td>0</td>\n",
       "      <td>0</td>\n",
       "    </tr>\n",
       "    <tr>\n",
       "      <th>400910</th>\n",
       "      <td>29</td>\n",
       "      <td>0</td>\n",
       "      <td>1</td>\n",
       "      <td>0</td>\n",
       "    </tr>\n",
       "  </tbody>\n",
       "</table>\n",
       "</div>"
      ],
      "text/plain": [
       "         연식  연식0-10  연식11-30  연식>30\n",
       "462203   23       0        1      0\n",
       "852236   11       0        1      0\n",
       "294668   17       0        1      0\n",
       "1010567   6       1        0      0\n",
       "228329   13       0        1      0\n",
       "102222   18       0        1      0\n",
       "1093418   2       1        0      0\n",
       "430315   20       0        1      0\n",
       "561067    2       1        0      0\n",
       "400910   29       0        1      0"
      ]
     },
     "execution_count": 39,
     "metadata": {},
     "output_type": "execute_result"
    }
   ],
   "source": [
    "concat[['연식', '연식0-10', '연식11-30', '연식>30']].sample(n=10)"
   ]
  },
  {
   "cell_type": "code",
   "execution_count": 40,
   "metadata": {},
   "outputs": [
    {
     "data": {
      "text/plain": [
       "<Axes: xlabel='연식(category)', ylabel='target'>"
      ]
     },
     "execution_count": 40,
     "metadata": {},
     "output_type": "execute_result"
    },
    {
     "data": {
      "image/png": "[encoded data removed]",
      "text/plain": [
       "<Figure size 640x480 with 1 Axes>"
      ]
     },
     "metadata": {},
     "output_type": "display_data"
    }
   ],
   "source": [
    "sns.boxplot(x='연식(category)', y='target', data=concat[:1118822])"
   ]
  },
  {
   "cell_type": "markdown",
   "metadata": {},
   "source": [
    "# 세대별주차대수 변수 추가"
   ]
  },
  {
   "cell_type": "code",
   "execution_count": 41,
   "metadata": {},
   "outputs": [],
   "source": [
    "concat['세대별주차대수'] = concat['주차대수']/concat['k-전체세대수']"
   ]
  },
  {
   "cell_type": "code",
   "execution_count": 42,
   "metadata": {},
   "outputs": [
    {
     "data": {
      "text/plain": [
       "<Axes: xlabel='연식(category)', ylabel='세대별주차대수'>"
      ]
     },
     "execution_count": 42,
     "metadata": {},
     "output_type": "execute_result"
    },
    {
     "data": {
      "image/png": "[encoded data removed]",
      "text/plain": [
       "<Figure size 640x480 with 1 Axes>"
      ]
     },
     "metadata": {},
     "output_type": "display_data"
    }
   ],
   "source": [
    "sns.boxplot(x='연식(category)', y='세대별주차대수', data=concat[:1118822])"
   ]
  },
  {
   "cell_type": "code",
   "execution_count": 43,
   "metadata": {},
   "outputs": [
    {
     "data": {
      "text/plain": [
       "261695"
      ]
     },
     "execution_count": 43,
     "metadata": {},
     "output_type": "execute_result"
    }
   ],
   "source": [
    "concat['세대별주차대수'].isnull().sum()"
   ]
  },
  {
   "cell_type": "code",
   "execution_count": 44,
   "metadata": {},
   "outputs": [],
   "source": [
    "# 세대별주차대수의 결측치는 연식(category)을 기준으로 평균값을 채워넣는다.\n",
    "concat['세대별주차대수'] = concat.groupby('연식(category)')['세대별주차대수'].transform(lambda x: x.fillna(x.mean()))"
   ]
  },
  {
   "cell_type": "markdown",
   "metadata": {},
   "source": [
    "# 변수 선택"
   ]
  },
  {
   "cell_type": "code",
   "execution_count": 45,
   "metadata": {},
   "outputs": [],
   "source": [
    "concat_new = concat[['계약날짜','전세가격지수', '기준금리', '동', 'k-건설사(시공사)', '건축년도', '인구밀도 (명/㎢)', '전용면적(㎡)', '층',\n",
    "                     '세대별주차대수', '연식0-10', '연식11-30', '연식>30', '연식','target', 'is_test']]"
   ]
  },
  {
   "cell_type": "markdown",
   "metadata": {},
   "source": [
    "# 테스트셋 분리"
   ]
  },
  {
   "cell_type": "code",
   "execution_count": 46,
   "metadata": {},
   "outputs": [
    {
     "name": "stdout",
     "output_type": "stream",
     "text": [
      "(1124347, 15) (9294, 15)\n"
     ]
    }
   ],
   "source": [
    "# 이제 다시 train과 test dataset을 분할해줍니다. 위에서 제작해 놓았던 is_test 칼럼을 이용합니다.\n",
    "dt_train = concat_new.query('is_test==0')\n",
    "dt_test = concat_new.query('is_test==1')\n",
    "\n",
    "# 이제 is_test 칼럼은 drop해줍니다.\n",
    "dt_train.drop(['is_test'], axis = 1, inplace=True)\n",
    "dt_test.drop(['is_test'], axis = 1, inplace=True)\n",
    "print(dt_train.shape, dt_test.shape)"
   ]
  },
  {
   "cell_type": "code",
   "execution_count": 47,
   "metadata": {},
   "outputs": [
    {
     "name": "stdout",
     "output_type": "stream",
     "text": [
      "연속형 변수: ['계약날짜', '전세가격지수', '기준금리', '건축년도', '인구밀도 (명/㎢)', '전용면적(㎡)', '층', '세대별주차대수', '연식0-10', '연식11-30', '연식>30', '연식', 'target']\n",
      "범주형 변수: ['동', 'k-건설사(시공사)']\n"
     ]
    }
   ],
   "source": [
    "continuous_columns = []\n",
    "categorical_columns = []\n",
    "\n",
    "for column in dt_train.columns:\n",
    "    if pd.api.types.is_numeric_dtype(dt_train[column]):\n",
    "        continuous_columns.append(column)\n",
    "    else:\n",
    "        categorical_columns.append(column)\n",
    "\n",
    "\n",
    "print(\"연속형 변수:\", continuous_columns)\n",
    "print(\"범주형 변수:\", categorical_columns)"
   ]
  },
  {
   "cell_type": "code",
   "execution_count": 48,
   "metadata": {},
   "outputs": [],
   "source": [
    "dt_test = dt_test.drop(columns = ['target'])"
   ]
  },
  {
   "cell_type": "markdown",
   "metadata": {},
   "source": [
    "# 라벨링"
   ]
  },
  {
   "cell_type": "code",
   "execution_count": 49,
   "metadata": {},
   "outputs": [
    {
     "name": "stdout",
     "output_type": "stream",
     "text": [
      "변환전\n",
      " k-건설사(시공사)\n",
      "GS건설      118627.837247\n",
      "DL E&C     93076.923077\n",
      "롯데건설       86386.613621\n",
      "포스코건설      84716.398699\n",
      "삼성물산       80307.624356\n",
      "Name: target, dtype: float64\n",
      "변환후\n",
      " k-건설사(시공사)\n",
      "0    118627.837247\n",
      "1     93076.923077\n",
      "2     86386.613621\n",
      "3     84716.398699\n",
      "4     80307.624356\n",
      "Name: target, dtype: float64\n"
     ]
    }
   ],
   "source": [
    "# 'k-건설사(시공사)'열 라벨 인코딩\n",
    "\n",
    "# 건설사별 가격의 평균 내림차순 정렬\n",
    "apt_price = dt_train.groupby('k-건설사(시공사)')['target'].agg('mean').sort_values(ascending=False)\n",
    "print('변환전\\n', apt_price[:5])\n",
    "\n",
    "for i, a in enumerate(list(apt_price.index)):\n",
    "    dt_train.loc[dt_train['k-건설사(시공사)'] == a, 'k-건설사(시공사)'] = i # 라벨 인코딩\n",
    "    dt_test.loc[dt_test['k-건설사(시공사)'] == a, 'k-건설사(시공사)'] = i\n",
    "apt_price = dt_train.groupby('k-건설사(시공사)')['target'].agg('mean').sort_values(ascending=False)\n",
    "print('변환후\\n', apt_price[:5])"
   ]
  },
  {
   "cell_type": "code",
   "execution_count": 50,
   "metadata": {},
   "outputs": [
    {
     "data": {
      "text/plain": [
       "동\n",
       "신문로2가     329833.333333\n",
       "장충동1가     255131.818182\n",
       "압구정동      203222.949968\n",
       "용산동5가     188139.910569\n",
       "홍파동       170336.419753\n",
       "평동        167916.049383\n",
       "청암동       167861.109091\n",
       "반포동       165584.328383\n",
       "한남동       163018.425437\n",
       "회현동2가     150546.261682\n",
       "서빙고동      141067.643678\n",
       "주성동       140800.000000\n",
       "대치동       137661.016096\n",
       "도곡동       134878.969157\n",
       "청담동       132711.905342\n",
       "남대문로5가    129661.790123\n",
       "하중동       128101.538700\n",
       "한강로3가     126570.308625\n",
       "잠실동       122151.909609\n",
       "삼성동       118605.342231\n",
       "Name: target, dtype: float64"
      ]
     },
     "execution_count": 50,
     "metadata": {},
     "output_type": "execute_result"
    }
   ],
   "source": [
    "# '동'열 라벨 인코딩\n",
    "dong_price = dt_train.groupby('동')['target'].agg('mean').sort_values(ascending=False)\n",
    "dong_price[:20]"
   ]
  },
  {
   "cell_type": "code",
   "execution_count": 51,
   "metadata": {},
   "outputs": [
    {
     "name": "stderr",
     "output_type": "stream",
     "text": [
      "  0%|          | 0/337 [00:00<?, ?it/s]"
     ]
    },
    {
     "name": "stderr",
     "output_type": "stream",
     "text": [
      "100%|██████████| 337/337 [00:20<00:00, 16.63it/s]\n"
     ]
    },
    {
     "data": {
      "text/html": [
       "<div>\n",
       "<style scoped>\n",
       "    .dataframe tbody tr th:only-of-type {\n",
       "        vertical-align: middle;\n",
       "    }\n",
       "\n",
       "    .dataframe tbody tr th {\n",
       "        vertical-align: top;\n",
       "    }\n",
       "\n",
       "    .dataframe thead th {\n",
       "        text-align: right;\n",
       "    }\n",
       "</style>\n",
       "<table border=\"1\" class=\"dataframe\">\n",
       "  <thead>\n",
       "    <tr style=\"text-align: right;\">\n",
       "      <th></th>\n",
       "      <th>계약날짜</th>\n",
       "      <th>전세가격지수</th>\n",
       "      <th>기준금리</th>\n",
       "      <th>동</th>\n",
       "      <th>k-건설사(시공사)</th>\n",
       "      <th>건축년도</th>\n",
       "      <th>인구밀도 (명/㎢)</th>\n",
       "      <th>전용면적(㎡)</th>\n",
       "      <th>층</th>\n",
       "      <th>세대별주차대수</th>\n",
       "      <th>연식0-10</th>\n",
       "      <th>연식11-30</th>\n",
       "      <th>연식&gt;30</th>\n",
       "      <th>연식</th>\n",
       "      <th>target</th>\n",
       "    </tr>\n",
       "  </thead>\n",
       "  <tbody>\n",
       "    <tr>\n",
       "      <th>0</th>\n",
       "      <td>20171208</td>\n",
       "      <td>92.7</td>\n",
       "      <td>1.5</td>\n",
       "      <td>47</td>\n",
       "      <td>8</td>\n",
       "      <td>1987</td>\n",
       "      <td>11824.116743</td>\n",
       "      <td>79.97</td>\n",
       "      <td>3</td>\n",
       "      <td>0.970370</td>\n",
       "      <td>0</td>\n",
       "      <td>1</td>\n",
       "      <td>0</td>\n",
       "      <td>30</td>\n",
       "      <td>124000.0</td>\n",
       "    </tr>\n",
       "    <tr>\n",
       "      <th>1</th>\n",
       "      <td>20171222</td>\n",
       "      <td>92.7</td>\n",
       "      <td>1.5</td>\n",
       "      <td>47</td>\n",
       "      <td>8</td>\n",
       "      <td>1987</td>\n",
       "      <td>11824.116743</td>\n",
       "      <td>79.97</td>\n",
       "      <td>4</td>\n",
       "      <td>0.970370</td>\n",
       "      <td>0</td>\n",
       "      <td>1</td>\n",
       "      <td>0</td>\n",
       "      <td>30</td>\n",
       "      <td>123500.0</td>\n",
       "    </tr>\n",
       "    <tr>\n",
       "      <th>2</th>\n",
       "      <td>20171228</td>\n",
       "      <td>92.7</td>\n",
       "      <td>1.5</td>\n",
       "      <td>47</td>\n",
       "      <td>8</td>\n",
       "      <td>1987</td>\n",
       "      <td>11824.116743</td>\n",
       "      <td>54.98</td>\n",
       "      <td>5</td>\n",
       "      <td>0.970370</td>\n",
       "      <td>0</td>\n",
       "      <td>1</td>\n",
       "      <td>0</td>\n",
       "      <td>30</td>\n",
       "      <td>91500.0</td>\n",
       "    </tr>\n",
       "    <tr>\n",
       "      <th>3</th>\n",
       "      <td>20171213</td>\n",
       "      <td>92.7</td>\n",
       "      <td>1.5</td>\n",
       "      <td>47</td>\n",
       "      <td>8</td>\n",
       "      <td>1984</td>\n",
       "      <td>11824.116743</td>\n",
       "      <td>161.00</td>\n",
       "      <td>6</td>\n",
       "      <td>1.034568</td>\n",
       "      <td>0</td>\n",
       "      <td>0</td>\n",
       "      <td>1</td>\n",
       "      <td>33</td>\n",
       "      <td>185000.0</td>\n",
       "    </tr>\n",
       "    <tr>\n",
       "      <th>4</th>\n",
       "      <td>20171216</td>\n",
       "      <td>92.7</td>\n",
       "      <td>1.5</td>\n",
       "      <td>47</td>\n",
       "      <td>8</td>\n",
       "      <td>1984</td>\n",
       "      <td>11824.116743</td>\n",
       "      <td>133.46</td>\n",
       "      <td>10</td>\n",
       "      <td>1.034568</td>\n",
       "      <td>0</td>\n",
       "      <td>0</td>\n",
       "      <td>1</td>\n",
       "      <td>33</td>\n",
       "      <td>175000.0</td>\n",
       "    </tr>\n",
       "  </tbody>\n",
       "</table>\n",
       "</div>"
      ],
      "text/plain": [
       "       계약날짜  전세가격지수  기준금리   동 k-건설사(시공사)  건축년도    인구밀도 (명/㎢)  전용면적(㎡)   층  \\\n",
       "0  20171208    92.7   1.5  47          8  1987  11824.116743    79.97   3   \n",
       "1  20171222    92.7   1.5  47          8  1987  11824.116743    79.97   4   \n",
       "2  20171228    92.7   1.5  47          8  1987  11824.116743    54.98   5   \n",
       "3  20171213    92.7   1.5  47          8  1984  11824.116743   161.00   6   \n",
       "4  20171216    92.7   1.5  47          8  1984  11824.116743   133.46  10   \n",
       "\n",
       "    세대별주차대수  연식0-10  연식11-30  연식>30  연식    target  \n",
       "0  0.970370       0        1      0  30  124000.0  \n",
       "1  0.970370       0        1      0  30  123500.0  \n",
       "2  0.970370       0        1      0  30   91500.0  \n",
       "3  1.034568       0        0      1  33  185000.0  \n",
       "4  1.034568       0        0      1  33  175000.0  "
      ]
     },
     "execution_count": 51,
     "metadata": {},
     "output_type": "execute_result"
    }
   ],
   "source": [
    "# 가격기준으로 동을 정렬한 리스트를 바탕으로 dong에 대해 라벨 인코딩 진행 - 477 it.\n",
    "for i, d in tqdm(enumerate(list(dong_price.index)), total=len(dong_price)):\n",
    "    dt_train.loc[dt_train['동'] == d, '동'] = i\n",
    "    dt_test.loc[dt_test['동'] == d, '동'] = i\n",
    "dt_train.head()"
   ]
  },
  {
   "cell_type": "code",
   "execution_count": 52,
   "metadata": {},
   "outputs": [
    {
     "name": "stdout",
     "output_type": "stream",
     "text": [
      "<class 'pandas.core.frame.DataFrame'>\n",
      "Int64Index: 1124347 entries, 0 to 1133640\n",
      "Data columns (total 15 columns):\n",
      " #   Column      Non-Null Count    Dtype  \n",
      "---  ------      --------------    -----  \n",
      " 0   계약날짜        1124347 non-null  int64  \n",
      " 1   전세가격지수      1124347 non-null  float64\n",
      " 2   기준금리        1124347 non-null  float64\n",
      " 3   동           1124347 non-null  int64  \n",
      " 4   k-건설사(시공사)  1124347 non-null  int64  \n",
      " 5   건축년도        1124347 non-null  int64  \n",
      " 6   인구밀도 (명/㎢)  1124347 non-null  float64\n",
      " 7   전용면적(㎡)     1124347 non-null  float64\n",
      " 8   층           1124347 non-null  int64  \n",
      " 9   세대별주차대수     1124347 non-null  float64\n",
      " 10  연식0-10      1124347 non-null  int64  \n",
      " 11  연식11-30     1124347 non-null  int64  \n",
      " 12  연식>30       1124347 non-null  int64  \n",
      " 13  연식          1124347 non-null  int64  \n",
      " 14  target      1124347 non-null  float64\n",
      "dtypes: float64(6), int64(9)\n",
      "memory usage: 137.2 MB\n"
     ]
    }
   ],
   "source": [
    "dt_train['동'] = dt_train['동'].astype('int64')\n",
    "dt_train['k-건설사(시공사)'] = dt_train['k-건설사(시공사)'].astype('int64')\n",
    "dt_test['동'] = dt_test['동'].astype('int64')\n",
    "dt_test['k-건설사(시공사)'] = dt_test['k-건설사(시공사)'].astype('int64')\n",
    "dt_train.info()"
   ]
  },
  {
   "cell_type": "markdown",
   "metadata": {},
   "source": [
    "# 타겟값 로그변환"
   ]
  },
  {
   "cell_type": "code",
   "execution_count": 53,
   "metadata": {},
   "outputs": [
    {
     "data": {
      "text/html": [
       "<div>\n",
       "<style scoped>\n",
       "    .dataframe tbody tr th:only-of-type {\n",
       "        vertical-align: middle;\n",
       "    }\n",
       "\n",
       "    .dataframe tbody tr th {\n",
       "        vertical-align: top;\n",
       "    }\n",
       "\n",
       "    .dataframe thead th {\n",
       "        text-align: right;\n",
       "    }\n",
       "</style>\n",
       "<table border=\"1\" class=\"dataframe\">\n",
       "  <thead>\n",
       "    <tr style=\"text-align: right;\">\n",
       "      <th></th>\n",
       "      <th>계약날짜</th>\n",
       "      <th>전세가격지수</th>\n",
       "      <th>기준금리</th>\n",
       "      <th>동</th>\n",
       "      <th>k-건설사(시공사)</th>\n",
       "      <th>건축년도</th>\n",
       "      <th>인구밀도 (명/㎢)</th>\n",
       "      <th>전용면적(㎡)</th>\n",
       "      <th>층</th>\n",
       "      <th>세대별주차대수</th>\n",
       "      <th>연식0-10</th>\n",
       "      <th>연식11-30</th>\n",
       "      <th>연식&gt;30</th>\n",
       "      <th>연식</th>\n",
       "      <th>log_target</th>\n",
       "    </tr>\n",
       "  </thead>\n",
       "  <tbody>\n",
       "    <tr>\n",
       "      <th>0</th>\n",
       "      <td>20171208</td>\n",
       "      <td>92.7</td>\n",
       "      <td>1.5</td>\n",
       "      <td>47</td>\n",
       "      <td>8</td>\n",
       "      <td>1987</td>\n",
       "      <td>11824.116743</td>\n",
       "      <td>79.97</td>\n",
       "      <td>3</td>\n",
       "      <td>0.97037</td>\n",
       "      <td>0</td>\n",
       "      <td>1</td>\n",
       "      <td>0</td>\n",
       "      <td>30</td>\n",
       "      <td>11.728045</td>\n",
       "    </tr>\n",
       "  </tbody>\n",
       "</table>\n",
       "</div>"
      ],
      "text/plain": [
       "       계약날짜  전세가격지수  기준금리   동  k-건설사(시공사)  건축년도    인구밀도 (명/㎢)  전용면적(㎡)  층  \\\n",
       "0  20171208    92.7   1.5  47           8  1987  11824.116743    79.97  3   \n",
       "\n",
       "   세대별주차대수  연식0-10  연식11-30  연식>30  연식  log_target  \n",
       "0  0.97037       0        1      0  30   11.728045  "
      ]
     },
     "execution_count": 53,
     "metadata": {},
     "output_type": "execute_result"
    }
   ],
   "source": [
    "# 가격 로그 변환 후 원래 가격 따로 저장\n",
    "dt_train['log_target'] = np.log1p(dt_train['target'])\n",
    "real_target = dt_train['target'] # 원래 가격\n",
    "dt_train.drop('target', axis=1, inplace=True)\n",
    "dt_train.head(1)"
   ]
  },
  {
   "cell_type": "code",
   "execution_count": 54,
   "metadata": {},
   "outputs": [],
   "source": [
    "train_X, train_y = dt_train.drop('log_target', axis=1), dt_train['log_target']"
   ]
  },
  {
   "cell_type": "markdown",
   "metadata": {},
   "source": [
    "# 하이퍼파라미터 튜닝"
   ]
  },
  {
   "cell_type": "code",
   "execution_count": 55,
   "metadata": {},
   "outputs": [],
   "source": [
    "from sklearn.model_selection import KFold\n",
    "# from sklearn.metrics import root_mean_squared_error\n",
    "from functools import partial\n"
   ]
  },
  {
   "cell_type": "code",
   "execution_count": 56,
   "metadata": {},
   "outputs": [],
   "source": [
    "evaluation_metric = mean_squared_error"
   ]
  },
  {
   "cell_type": "code",
   "execution_count": 57,
   "metadata": {},
   "outputs": [],
   "source": [
    "def optimizer(trial, X, y, K):\n",
    "    # 조절할 hyper-parameter 조합을 적어줍니다.\n",
    "    num_leaves = trial.suggest_categorical('num_leaves', [2**10-1, 2**11-1, 2**12-1])\n",
    "    max_depth = trial.suggest_int('max_depth', 13, 20)\n",
    "    learning_rate = trial.suggest_float('learning_rate', 0.01, 0.1)\n",
    "    n_estimators = trial.suggest_int('n_estimators', 50, 200)\n",
    "    min_child_samples = trial.suggest_int('min_child_samples', 10, 25)\n",
    "    reg_lambda = trial.suggest_float('reg_lambda', 5.0, 20.0)\n",
    "    colsample_bytree = trial.suggest_categorical('colsample_bytree', [0.5, 0.7])\n",
    "\n",
    "\n",
    "    # 원하는 모델을 지정합니다, optuna는 시간이 오래걸리기 때문에 저는 보통 RF로 일단 테스트를 해본 뒤에 LGBM을 사용합니다.\n",
    "    model = lgb.LGBMRegressor(num_leaves=num_leaves,\n",
    "                              max_depth=max_depth,\n",
    "                              learning_rate=learning_rate,\n",
    "                              n_estimators=n_estimators,\n",
    "                              min_child_samples=min_child_samples,\n",
    "                              reg_lambda=reg_lambda,\n",
    "                              colsample_bytree=colsample_bytree,\n",
    "                              random_state=42,\n",
    "                              verbose=-1)\n",
    "\n",
    "    # K-Fold Cross validation을 구현합니다.\n",
    "    folds = KFold(n_splits=K, random_state=42, shuffle=True)\n",
    "    losses = []\n",
    "\n",
    "    for train_idx, val_idx in folds.split(X, y):\n",
    "        X_train = X.iloc[train_idx, :]\n",
    "        y_train = y.iloc[train_idx]\n",
    "\n",
    "        X_val = X.iloc[val_idx, :]\n",
    "        y_val = y.iloc[val_idx]\n",
    "\n",
    "        model.fit(X_train, y_train)\n",
    "        preds = model.predict(X_val)\n",
    "        loss = evaluation_metric(y_val, preds) ** 0.5\n",
    "        losses.append(loss)\n",
    "\n",
    "\n",
    "    # K-Fold의 평균 loss값을 돌려줍니다.\n",
    "    return np.mean(losses)"
   ]
  },
  {
   "cell_type": "code",
   "execution_count": 58,
   "metadata": {},
   "outputs": [
    {
     "name": "stderr",
     "output_type": "stream",
     "text": [
      "[I 2024-01-23 10:14:54,285] A new study created in memory with name: no-name-f72cfc32-299f-4a3a-ac3a-9d4dfd3b2d9f\n"
     ]
    },
    {
     "name": "stderr",
     "output_type": "stream",
     "text": [
      "[I 2024-01-23 10:16:05,826] Trial 0 finished with value: 0.08902318203907791 and parameters: {'num_leaves': 4095, 'max_depth': 14, 'learning_rate': 0.09556565316347143, 'n_estimators': 150, 'min_child_samples': 19, 'reg_lambda': 15.507654584807895, 'colsample_bytree': 0.5}. Best is trial 0 with value: 0.08902318203907791.\n",
      "[I 2024-01-23 10:17:30,839] Trial 1 finished with value: 0.10609911279588322 and parameters: {'num_leaves': 2047, 'max_depth': 19, 'learning_rate': 0.026059674589543398, 'n_estimators': 175, 'min_child_samples': 20, 'reg_lambda': 17.084982264587374, 'colsample_bytree': 0.5}. Best is trial 0 with value: 0.08902318203907791.\n",
      "[I 2024-01-23 10:19:47,921] Trial 2 finished with value: 0.09163932336071072 and parameters: {'num_leaves': 4095, 'max_depth': 19, 'learning_rate': 0.032356546363395966, 'n_estimators': 169, 'min_child_samples': 11, 'reg_lambda': 5.581690153154174, 'colsample_bytree': 0.5}. Best is trial 0 with value: 0.08902318203907791.\n",
      "[I 2024-01-23 10:21:02,830] Trial 3 finished with value: 0.08786465996323561 and parameters: {'num_leaves': 2047, 'max_depth': 20, 'learning_rate': 0.0596710711824212, 'n_estimators': 162, 'min_child_samples': 23, 'reg_lambda': 13.12447459784719, 'colsample_bytree': 0.7}. Best is trial 3 with value: 0.08786465996323561.\n",
      "[I 2024-01-23 10:22:06,608] Trial 4 finished with value: 0.09593031705048397 and parameters: {'num_leaves': 4095, 'max_depth': 14, 'learning_rate': 0.06560893085899003, 'n_estimators': 117, 'min_child_samples': 20, 'reg_lambda': 13.770136812099373, 'colsample_bytree': 0.5}. Best is trial 3 with value: 0.08786465996323561.\n",
      "[I 2024-01-23 10:23:17,252] Trial 5 finished with value: 0.09027930740436585 and parameters: {'num_leaves': 4095, 'max_depth': 14, 'learning_rate': 0.08315698919186014, 'n_estimators': 112, 'min_child_samples': 12, 'reg_lambda': 5.0196645881157655, 'colsample_bytree': 0.5}. Best is trial 3 with value: 0.08786465996323561.\n",
      "[I 2024-01-23 10:24:07,293] Trial 6 finished with value: 0.0908985988738712 and parameters: {'num_leaves': 1023, 'max_depth': 17, 'learning_rate': 0.0639377829731826, 'n_estimators': 199, 'min_child_samples': 23, 'reg_lambda': 18.553238175459434, 'colsample_bytree': 0.7}. Best is trial 3 with value: 0.08786465996323561.\n",
      "[I 2024-01-23 10:24:40,638] Trial 7 finished with value: 0.22029265183925878 and parameters: {'num_leaves': 1023, 'max_depth': 16, 'learning_rate': 0.012353015335862548, 'n_estimators': 121, 'min_child_samples': 25, 'reg_lambda': 11.09644008006875, 'colsample_bytree': 0.7}. Best is trial 3 with value: 0.08786465996323561.\n",
      "[I 2024-01-23 10:25:08,510] Trial 8 finished with value: 0.15554452969738497 and parameters: {'num_leaves': 2047, 'max_depth': 20, 'learning_rate': 0.039051645872256895, 'n_estimators': 59, 'min_child_samples': 12, 'reg_lambda': 12.55376463166763, 'colsample_bytree': 0.5}. Best is trial 3 with value: 0.08786465996323561.\n",
      "[I 2024-01-23 10:25:33,111] Trial 9 finished with value: 0.16602675610610856 and parameters: {'num_leaves': 2047, 'max_depth': 15, 'learning_rate': 0.038962731181031954, 'n_estimators': 56, 'min_child_samples': 11, 'reg_lambda': 12.410747239109448, 'colsample_bytree': 0.5}. Best is trial 3 with value: 0.08786465996323561.\n",
      "[I 2024-01-23 10:26:14,066] Trial 10 finished with value: 0.09403683044640145 and parameters: {'num_leaves': 2047, 'max_depth': 18, 'learning_rate': 0.07623141940012924, 'n_estimators': 87, 'min_child_samples': 16, 'reg_lambda': 9.041053214341751, 'colsample_bytree': 0.7}. Best is trial 3 with value: 0.08786465996323561.\n",
      "[I 2024-01-23 10:27:05,498] Trial 11 finished with value: 0.09093543411024466 and parameters: {'num_leaves': 4095, 'max_depth': 13, 'learning_rate': 0.09360948922598131, 'n_estimators': 153, 'min_child_samples': 18, 'reg_lambda': 15.655794901783505, 'colsample_bytree': 0.7}. Best is trial 3 with value: 0.08786465996323561.\n",
      "[I 2024-01-23 10:28:02,777] Trial 12 finished with value: 0.08804041618388145 and parameters: {'num_leaves': 2047, 'max_depth': 16, 'learning_rate': 0.09828917325438155, 'n_estimators': 143, 'min_child_samples': 22, 'reg_lambda': 19.88709855491209, 'colsample_bytree': 0.7}. Best is trial 3 with value: 0.08786465996323561.\n",
      "[I 2024-01-23 10:29:13,154] Trial 13 finished with value: 0.09312243313325082 and parameters: {'num_leaves': 2047, 'max_depth': 17, 'learning_rate': 0.05341195206304915, 'n_estimators': 149, 'min_child_samples': 23, 'reg_lambda': 19.61198224176504, 'colsample_bytree': 0.7}. Best is trial 3 with value: 0.08786465996323561.\n",
      "[I 2024-01-23 10:30:32,752] Trial 14 finished with value: 0.08843193876628354 and parameters: {'num_leaves': 2047, 'max_depth': 16, 'learning_rate': 0.05633962502593229, 'n_estimators': 184, 'min_child_samples': 22, 'reg_lambda': 8.542998176630121, 'colsample_bytree': 0.7}. Best is trial 3 with value: 0.08786465996323561.\n",
      "[I 2024-01-23 10:31:36,269] Trial 15 finished with value: 0.08828657299327973 and parameters: {'num_leaves': 2047, 'max_depth': 20, 'learning_rate': 0.07668652850137642, 'n_estimators': 136, 'min_child_samples': 25, 'reg_lambda': 17.712087379205187, 'colsample_bytree': 0.7}. Best is trial 3 with value: 0.08786465996323561.\n",
      "[I 2024-01-23 10:32:22,595] Trial 16 finished with value: 0.08825167875624676 and parameters: {'num_leaves': 2047, 'max_depth': 18, 'learning_rate': 0.09995385079540851, 'n_estimators': 102, 'min_child_samples': 15, 'reg_lambda': 9.3992076063085, 'colsample_bytree': 0.7}. Best is trial 3 with value: 0.08786465996323561.\n",
      "[I 2024-01-23 10:32:55,193] Trial 17 finished with value: 0.09446137987814035 and parameters: {'num_leaves': 1023, 'max_depth': 15, 'learning_rate': 0.08534911590842445, 'n_estimators': 133, 'min_child_samples': 22, 'reg_lambda': 16.456304307767773, 'colsample_bytree': 0.7}. Best is trial 3 with value: 0.08786465996323561.\n",
      "[I 2024-01-23 10:34:12,240] Trial 18 finished with value: 0.09124146180723527 and parameters: {'num_leaves': 2047, 'max_depth': 18, 'learning_rate': 0.051644667008892337, 'n_estimators': 164, 'min_child_samples': 21, 'reg_lambda': 19.912466843009064, 'colsample_bytree': 0.7}. Best is trial 3 with value: 0.08786465996323561.\n",
      "[I 2024-01-23 10:35:45,694] Trial 19 finished with value: 0.1357115901358712 and parameters: {'num_leaves': 2047, 'max_depth': 16, 'learning_rate': 0.013619946602438586, 'n_estimators': 192, 'min_child_samples': 16, 'reg_lambda': 14.367011551141172, 'colsample_bytree': 0.7}. Best is trial 3 with value: 0.08786465996323561.\n",
      "[I 2024-01-23 10:36:11,828] Trial 20 finished with value: 0.10078959771212728 and parameters: {'num_leaves': 1023, 'max_depth': 19, 'learning_rate': 0.06944409111248122, 'n_estimators': 96, 'min_child_samples': 24, 'reg_lambda': 7.422535984787785, 'colsample_bytree': 0.7}. Best is trial 3 with value: 0.08786465996323561.\n",
      "[I 2024-01-23 10:36:58,167] Trial 21 finished with value: 0.08929811214940382 and parameters: {'num_leaves': 2047, 'max_depth': 18, 'learning_rate': 0.09679871197329083, 'n_estimators': 97, 'min_child_samples': 15, 'reg_lambda': 10.811686474919096, 'colsample_bytree': 0.7}. Best is trial 3 with value: 0.08786465996323561.\n",
      "[I 2024-01-23 10:37:36,925] Trial 22 finished with value: 0.09270739425825651 and parameters: {'num_leaves': 2047, 'max_depth': 20, 'learning_rate': 0.0878582692595202, 'n_estimators': 79, 'min_child_samples': 14, 'reg_lambda': 10.042927966878663, 'colsample_bytree': 0.7}. Best is trial 3 with value: 0.08786465996323561.\n",
      "[I 2024-01-23 10:38:35,701] Trial 23 finished with value: 0.08553044891959802 and parameters: {'num_leaves': 2047, 'max_depth': 17, 'learning_rate': 0.097238738382383, 'n_estimators': 139, 'min_child_samples': 17, 'reg_lambda': 6.9464545939403335, 'colsample_bytree': 0.7}. Best is trial 23 with value: 0.08553044891959802.\n",
      "[I 2024-01-23 10:39:36,221] Trial 24 finished with value: 0.08766132373951493 and parameters: {'num_leaves': 2047, 'max_depth': 17, 'learning_rate': 0.07671316211447422, 'n_estimators': 138, 'min_child_samples': 19, 'reg_lambda': 6.973670104902393, 'colsample_bytree': 0.7}. Best is trial 23 with value: 0.08553044891959802.\n"
     ]
    }
   ],
   "source": [
    "K = 5   # Kfold 수\n",
    "# optimizer 함수에 parameter passing을 하고 싶은 경우.\n",
    "opt_func = partial(optimizer, X=train_X, y=train_y, K=K)\n",
    "\n",
    "\n",
    "study = optuna.create_study(direction=\"minimize\") # 최소/최대 어느 방향의 최적값을 구할 건지.\n",
    "study.optimize(opt_func, n_trials=25)"
   ]
  },
  {
   "cell_type": "code",
   "execution_count": 59,
   "metadata": {},
   "outputs": [],
   "source": [
    "# study.trials_dataframe()"
   ]
  },
  {
   "cell_type": "code",
   "execution_count": 60,
   "metadata": {},
   "outputs": [
    {
     "name": "stdout",
     "output_type": "stream",
     "text": [
      "Best Score: 0.0855\n",
      "Best params:  {'num_leaves': 2047, 'max_depth': 17, 'learning_rate': 0.097238738382383, 'n_estimators': 139, 'min_child_samples': 17, 'reg_lambda': 6.9464545939403335, 'colsample_bytree': 0.7}\n"
     ]
    }
   ],
   "source": [
    "print(\"Best Score: %.4f\" % study.best_value) # best score 출력\n",
    "print(\"Best params: \", study.best_trial.params) # best score일 때의 하이퍼파라미터들"
   ]
  },
  {
   "cell_type": "code",
   "execution_count": 61,
   "metadata": {},
   "outputs": [
    {
     "data": {
      "text/html": [
       "<style>#sk-container-id-1 {color: black;background-color: white;}#sk-container-id-1 pre{padding: 0;}#sk-container-id-1 div.sk-toggleable {background-color: white;}#sk-container-id-1 label.sk-toggleable__label {cursor: pointer;display: block;width: 100%;margin-bottom: 0;padding: 0.3em;box-sizing: border-box;text-align: center;}#sk-container-id-1 label.sk-toggleable__label-arrow:before {content: \"▸\";float: left;margin-right: 0.25em;color: #696969;}#sk-container-id-1 label.sk-toggleable__label-arrow:hover:before {color: black;}#sk-container-id-1 div.sk-estimator:hover label.sk-toggleable__label-arrow:before {color: black;}#sk-container-id-1 div.sk-toggleable__content {max-height: 0;max-width: 0;overflow: hidden;text-align: left;background-color: #f0f8ff;}#sk-container-id-1 div.sk-toggleable__content pre {margin: 0.2em;color: black;border-radius: 0.25em;background-color: #f0f8ff;}#sk-container-id-1 input.sk-toggleable__control:checked~div.sk-toggleable__content {max-height: 200px;max-width: 100%;overflow: auto;}#sk-container-id-1 input.sk-toggleable__control:checked~label.sk-toggleable__label-arrow:before {content: \"▾\";}#sk-container-id-1 div.sk-estimator input.sk-toggleable__control:checked~label.sk-toggleable__label {background-color: #d4ebff;}#sk-container-id-1 div.sk-label input.sk-toggleable__control:checked~label.sk-toggleable__label {background-color: #d4ebff;}#sk-container-id-1 input.sk-hidden--visually {border: 0;clip: rect(1px 1px 1px 1px);clip: rect(1px, 1px, 1px, 1px);height: 1px;margin: -1px;overflow: hidden;padding: 0;position: absolute;width: 1px;}#sk-container-id-1 div.sk-estimator {font-family: monospace;background-color: #f0f8ff;border: 1px dotted black;border-radius: 0.25em;box-sizing: border-box;margin-bottom: 0.5em;}#sk-container-id-1 div.sk-estimator:hover {background-color: #d4ebff;}#sk-container-id-1 div.sk-parallel-item::after {content: \"\";width: 100%;border-bottom: 1px solid gray;flex-grow: 1;}#sk-container-id-1 div.sk-label:hover label.sk-toggleable__label {background-color: #d4ebff;}#sk-container-id-1 div.sk-serial::before {content: \"\";position: absolute;border-left: 1px solid gray;box-sizing: border-box;top: 0;bottom: 0;left: 50%;z-index: 0;}#sk-container-id-1 div.sk-serial {display: flex;flex-direction: column;align-items: center;background-color: white;padding-right: 0.2em;padding-left: 0.2em;position: relative;}#sk-container-id-1 div.sk-item {position: relative;z-index: 1;}#sk-container-id-1 div.sk-parallel {display: flex;align-items: stretch;justify-content: center;background-color: white;position: relative;}#sk-container-id-1 div.sk-item::before, #sk-container-id-1 div.sk-parallel-item::before {content: \"\";position: absolute;border-left: 1px solid gray;box-sizing: border-box;top: 0;bottom: 0;left: 50%;z-index: -1;}#sk-container-id-1 div.sk-parallel-item {display: flex;flex-direction: column;z-index: 1;position: relative;background-color: white;}#sk-container-id-1 div.sk-parallel-item:first-child::after {align-self: flex-end;width: 50%;}#sk-container-id-1 div.sk-parallel-item:last-child::after {align-self: flex-start;width: 50%;}#sk-container-id-1 div.sk-parallel-item:only-child::after {width: 0;}#sk-container-id-1 div.sk-dashed-wrapped {border: 1px dashed gray;margin: 0 0.4em 0.5em 0.4em;box-sizing: border-box;padding-bottom: 0.4em;background-color: white;}#sk-container-id-1 div.sk-label label {font-family: monospace;font-weight: bold;display: inline-block;line-height: 1.2em;}#sk-container-id-1 div.sk-label-container {text-align: center;}#sk-container-id-1 div.sk-container {/* jupyter's `normalize.less` sets `[hidden] { display: none; }` but bootstrap.min.css set `[hidden] { display: none !important; }` so we also need the `!important` here to be able to override the default hidden behavior on the sphinx rendered scikit-learn.org. See: https://github.com/scikit-learn/scikit-learn/issues/21755 */display: inline-block !important;position: relative;}#sk-container-id-1 div.sk-text-repr-fallback {display: none;}</style><div id=\"sk-container-id-1\" class=\"sk-top-container\"><div class=\"sk-text-repr-fallback\"><pre>LGBMRegressor(colsample_bytree=0.7, learning_rate=0.097238738382383,\n",
       "              max_depth=17, min_child_samples=17, n_estimators=139,\n",
       "              num_leaves=2047, random_state=42, reg_lambda=6.9464545939403335,\n",
       "              verbose=-1)</pre><b>In a Jupyter environment, please rerun this cell to show the HTML representation or trust the notebook. <br />On GitHub, the HTML representation is unable to render, please try loading this page with nbviewer.org.</b></div><div class=\"sk-container\" hidden><div class=\"sk-item\"><div class=\"sk-estimator sk-toggleable\"><input class=\"sk-toggleable__control sk-hidden--visually\" id=\"sk-estimator-id-1\" type=\"checkbox\" checked><label for=\"sk-estimator-id-1\" class=\"sk-toggleable__label sk-toggleable__label-arrow\">LGBMRegressor</label><div class=\"sk-toggleable__content\"><pre>LGBMRegressor(colsample_bytree=0.7, learning_rate=0.097238738382383,\n",
       "              max_depth=17, min_child_samples=17, n_estimators=139,\n",
       "              num_leaves=2047, random_state=42, reg_lambda=6.9464545939403335,\n",
       "              verbose=-1)</pre></div></div></div></div></div>"
      ],
      "text/plain": [
       "LGBMRegressor(colsample_bytree=0.7, learning_rate=0.097238738382383,\n",
       "              max_depth=17, min_child_samples=17, n_estimators=139,\n",
       "              num_leaves=2047, random_state=42, reg_lambda=6.9464545939403335,\n",
       "              verbose=-1)"
      ]
     },
     "execution_count": 61,
     "metadata": {},
     "output_type": "execute_result"
    }
   ],
   "source": [
    "# model finalization\n",
    "best_params = study.best_params\n",
    "best_model = lgb.LGBMRegressor(**best_params,\n",
    "                           random_state=42,\n",
    "                           verbose=-1)\n",
    "best_model.fit(train_X, train_y)"
   ]
  },
  {
   "cell_type": "code",
   "execution_count": 62,
   "metadata": {},
   "outputs": [
    {
     "data": {
      "text/html": [
       "<div>\n",
       "<style scoped>\n",
       "    .dataframe tbody tr th:only-of-type {\n",
       "        vertical-align: middle;\n",
       "    }\n",
       "\n",
       "    .dataframe tbody tr th {\n",
       "        vertical-align: top;\n",
       "    }\n",
       "\n",
       "    .dataframe thead th {\n",
       "        text-align: right;\n",
       "    }\n",
       "</style>\n",
       "<table border=\"1\" class=\"dataframe\">\n",
       "  <thead>\n",
       "    <tr style=\"text-align: right;\">\n",
       "      <th></th>\n",
       "      <th>features</th>\n",
       "      <th>importances</th>\n",
       "    </tr>\n",
       "  </thead>\n",
       "  <tbody>\n",
       "    <tr>\n",
       "      <th>7</th>\n",
       "      <td>전용면적(㎡)</td>\n",
       "      <td>39965</td>\n",
       "    </tr>\n",
       "    <tr>\n",
       "      <th>6</th>\n",
       "      <td>인구밀도_(명/㎢)</td>\n",
       "      <td>39250</td>\n",
       "    </tr>\n",
       "    <tr>\n",
       "      <th>5</th>\n",
       "      <td>건축년도</td>\n",
       "      <td>38114</td>\n",
       "    </tr>\n",
       "    <tr>\n",
       "      <th>3</th>\n",
       "      <td>동</td>\n",
       "      <td>36623</td>\n",
       "    </tr>\n",
       "    <tr>\n",
       "      <th>9</th>\n",
       "      <td>세대별주차대수</td>\n",
       "      <td>34197</td>\n",
       "    </tr>\n",
       "    <tr>\n",
       "      <th>0</th>\n",
       "      <td>계약날짜</td>\n",
       "      <td>27033</td>\n",
       "    </tr>\n",
       "    <tr>\n",
       "      <th>13</th>\n",
       "      <td>연식</td>\n",
       "      <td>20202</td>\n",
       "    </tr>\n",
       "    <tr>\n",
       "      <th>1</th>\n",
       "      <td>전세가격지수</td>\n",
       "      <td>14684</td>\n",
       "    </tr>\n",
       "    <tr>\n",
       "      <th>8</th>\n",
       "      <td>층</td>\n",
       "      <td>14596</td>\n",
       "    </tr>\n",
       "    <tr>\n",
       "      <th>4</th>\n",
       "      <td>k-건설사(시공사)</td>\n",
       "      <td>11203</td>\n",
       "    </tr>\n",
       "    <tr>\n",
       "      <th>2</th>\n",
       "      <td>기준금리</td>\n",
       "      <td>6620</td>\n",
       "    </tr>\n",
       "    <tr>\n",
       "      <th>11</th>\n",
       "      <td>연식11-30</td>\n",
       "      <td>642</td>\n",
       "    </tr>\n",
       "    <tr>\n",
       "      <th>10</th>\n",
       "      <td>연식0-10</td>\n",
       "      <td>379</td>\n",
       "    </tr>\n",
       "    <tr>\n",
       "      <th>12</th>\n",
       "      <td>연식&gt;30</td>\n",
       "      <td>195</td>\n",
       "    </tr>\n",
       "  </tbody>\n",
       "</table>\n",
       "</div>"
      ],
      "text/plain": [
       "      features  importances\n",
       "7      전용면적(㎡)        39965\n",
       "6   인구밀도_(명/㎢)        39250\n",
       "5         건축년도        38114\n",
       "3            동        36623\n",
       "9      세대별주차대수        34197\n",
       "0         계약날짜        27033\n",
       "13          연식        20202\n",
       "1       전세가격지수        14684\n",
       "8            층        14596\n",
       "4   k-건설사(시공사)        11203\n",
       "2         기준금리         6620\n",
       "11     연식11-30          642\n",
       "10      연식0-10          379\n",
       "12       연식>30          195"
      ]
     },
     "execution_count": 62,
     "metadata": {},
     "output_type": "execute_result"
    }
   ],
   "source": [
    "fi_df = pd.DataFrame({'features' : best_model.feature_name_,\n",
    "                      'importances' : best_model.feature_importances_})\n",
    "fi_df.sort_values(by='importances', ascending=False)"
   ]
  },
  {
   "cell_type": "markdown",
   "metadata": {},
   "source": [
    "# Prediction"
   ]
  },
  {
   "cell_type": "code",
   "execution_count": 63,
   "metadata": {},
   "outputs": [],
   "source": [
    "final_lgb_pred = best_model.predict(dt_test)\n",
    "pred_sub = np.expm1(final_lgb_pred)"
   ]
  },
  {
   "cell_type": "code",
   "execution_count": 64,
   "metadata": {},
   "outputs": [],
   "source": [
    "pd.DataFrame(pred_sub.astype(int), columns=[\"target\"]).to_csv('sub.csv', index=False)"
   ]
  }
 ],
 "metadata": {
  "kernelspec": {
   "display_name": "base",
   "language": "python",
   "name": "python3"
  },
  "language_info": {
   "codemirror_mode": {
    "name": "ipython",
    "version": 3
   },
   "file_extension": ".py",
   "mimetype": "text/x-python",
   "name": "python",
   "nbconvert_exporter": "python",
   "pygments_lexer": "ipython3",
   "version": "3.10.13"
  }
 },
 "nbformat": 4,
 "nbformat_minor": 2
}
