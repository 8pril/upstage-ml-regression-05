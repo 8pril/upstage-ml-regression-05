{
 "cells": [
  {
   "cell_type": "code",
   "execution_count": 1,
   "metadata": {},
   "outputs": [],
   "source": [
    "import matplotlib.pyplot as plt\n",
    "import seaborn as sns\n",
    "import pandas as pd\n",
    "import numpy as np\n",
    "import warnings;warnings.filterwarnings('ignore')\n",
    "import matplotlib.font_manager as fm\n",
    "fe = fm.FontEntry(\n",
    "    fname=r'/usr/share/fonts/truetype/nanum/NanumGothic.ttf', # ttf 파일이 저장되어 있는 경로\n",
    "    name='NanumBarunGothic')                        # 이 폰트의 원하는 이름 설정\n",
    "fm.fontManager.ttflist.insert(0, fe)              # Matplotlib에 폰트 추가\n",
    "plt.rcParams.update({'font.size': 10, 'font.family': 'NanumBarunGothic'}) # 폰트 설정\n",
    "plt.rc('font', family='NanumBarunGothic')\n",
    "\n",
    "from tqdm import tqdm\n",
    "import pickle\n",
    "import warnings;warnings.filterwarnings('ignore')\n",
    "\n",
    "import lightgbm as lgb\n",
    "import xgboost as xgb\n",
    "from sklearn.linear_model import LinearRegression, ElasticNet, Lasso, Ridge\n",
    "from sklearn.tree import DecisionTreeRegressor\n",
    "from sklearn.ensemble import RandomForestRegressor\n",
    "from sklearn.model_selection import TimeSeriesSplit\n",
    "from sklearn.metrics import mean_squared_error\n",
    "from sklearn.preprocessing import  LabelEncoder\n",
    "\n",
    "import optuna"
   ]
  },
  {
   "cell_type": "code",
   "execution_count": 2,
   "metadata": {},
   "outputs": [],
   "source": [
    "train_path = './train.csv'\n",
    "test_path  = './test.csv'\n",
    "train = pd.read_csv(train_path)\n",
    "test = pd.read_csv(test_path)"
   ]
  },
  {
   "cell_type": "code",
   "execution_count": 3,
   "metadata": {},
   "outputs": [],
   "source": [
    "train['is_test'] = 0\n",
    "test['is_test'] = 1\n",
    "concat = pd.concat([train, test])"
   ]
  },
  {
   "cell_type": "markdown",
   "metadata": {},
   "source": [
    "# 기준금리 추가하기"
   ]
  },
  {
   "cell_type": "code",
   "execution_count": 4,
   "metadata": {},
   "outputs": [],
   "source": [
    "base_rate_path  = './기준금리.csv'\n",
    "base_rate_df = pd.read_csv(base_rate_path)"
   ]
  },
  {
   "cell_type": "code",
   "execution_count": 5,
   "metadata": {},
   "outputs": [],
   "source": [
    "# 월일 변수를 월과 일로 나누어주고 년 월 일을 합쳐 날짜를 8자리 정수로 표현하기\n",
    "base_rate_df['년'] = base_rate_df['년'].map(lambda x: str(x))\n",
    "base_rate_df['월'] = base_rate_df['월일'].map(lambda x : x[:2])\n",
    "base_rate_df['일'] = base_rate_df['월일'].map(lambda x : x[4:6])\n",
    "base_rate_df['날짜'] = base_rate_df['년'] + base_rate_df['월'] + base_rate_df['일']\n",
    "base_rate_df['날짜'] = base_rate_df['날짜'].map(lambda x: int(x))\n",
    "base_rate_df = base_rate_df[['날짜', '기준금리']]"
   ]
  },
  {
   "cell_type": "code",
   "execution_count": 6,
   "metadata": {},
   "outputs": [],
   "source": [
    "# concat에 계약년월과 계약일을 합쳐 계약날짜 변수 생성 (8자리 정수)\n",
    "concat['계약날짜'] = concat['계약년월'] * 100 + concat['계약일']"
   ]
  },
  {
   "cell_type": "code",
   "execution_count": 7,
   "metadata": {},
   "outputs": [],
   "source": [
    "# concat의 '계약날짜' 값에 따라 '기준금리'를 반환해주는 함수.\n",
    "def date_to_rate(date):\n",
    "    for i in range(54, 0, -1): # 기준금리 데이터의 마지막 인덱스(54)에서 하나씩 올라가며 날짜를 비교하면서 기준금리 확인\n",
    "        if date >= base_rate_df['날짜'][i] and date <base_rate_df['날짜'][i - 1]:\n",
    "            return base_rate_df['기준금리'][i]\n",
    "    return base_rate_df['기준금리'][0] # 날짜(date)가 기준금리 데이터의 가장 최신 날짜보다 같거나 크다면 가장 최신 기준금리 반환\n",
    "\n",
    "# 예:\n",
    "# date_to_rate(20211126)\n",
    "# 1.0"
   ]
  },
  {
   "cell_type": "code",
   "execution_count": 8,
   "metadata": {},
   "outputs": [],
   "source": [
    "# concat_new에 기준금리 변수 추가\n",
    "concat['기준금리'] = concat['계약날짜'].apply(date_to_rate)"
   ]
  },
  {
   "cell_type": "code",
   "execution_count": 9,
   "metadata": {},
   "outputs": [],
   "source": [
    "# '기준금리'열의 데이터 형식을 float로 변경\n",
    "concat['기준금리'] = concat['기준금리'].astype(float)"
   ]
  },
  {
   "cell_type": "code",
   "execution_count": 10,
   "metadata": {},
   "outputs": [
    {
     "data": {
      "text/html": [
       "<div>\n",
       "<style scoped>\n",
       "    .dataframe tbody tr th:only-of-type {\n",
       "        vertical-align: middle;\n",
       "    }\n",
       "\n",
       "    .dataframe tbody tr th {\n",
       "        vertical-align: top;\n",
       "    }\n",
       "\n",
       "    .dataframe thead th {\n",
       "        text-align: right;\n",
       "    }\n",
       "</style>\n",
       "<table border=\"1\" class=\"dataframe\">\n",
       "  <thead>\n",
       "    <tr style=\"text-align: right;\">\n",
       "      <th></th>\n",
       "      <th>계약날짜</th>\n",
       "      <th>기준금리</th>\n",
       "    </tr>\n",
       "  </thead>\n",
       "  <tbody>\n",
       "    <tr>\n",
       "      <th>0</th>\n",
       "      <td>20171208</td>\n",
       "      <td>1.5</td>\n",
       "    </tr>\n",
       "    <tr>\n",
       "      <th>1</th>\n",
       "      <td>20171222</td>\n",
       "      <td>1.5</td>\n",
       "    </tr>\n",
       "    <tr>\n",
       "      <th>2</th>\n",
       "      <td>20171228</td>\n",
       "      <td>1.5</td>\n",
       "    </tr>\n",
       "    <tr>\n",
       "      <th>3</th>\n",
       "      <td>20180103</td>\n",
       "      <td>1.5</td>\n",
       "    </tr>\n",
       "    <tr>\n",
       "      <th>4</th>\n",
       "      <td>20180108</td>\n",
       "      <td>1.5</td>\n",
       "    </tr>\n",
       "    <tr>\n",
       "      <th>...</th>\n",
       "      <td>...</td>\n",
       "      <td>...</td>\n",
       "    </tr>\n",
       "    <tr>\n",
       "      <th>9267</th>\n",
       "      <td>20230719</td>\n",
       "      <td>3.5</td>\n",
       "    </tr>\n",
       "    <tr>\n",
       "      <th>9268</th>\n",
       "      <td>20230725</td>\n",
       "      <td>3.5</td>\n",
       "    </tr>\n",
       "    <tr>\n",
       "      <th>9269</th>\n",
       "      <td>20230827</td>\n",
       "      <td>3.5</td>\n",
       "    </tr>\n",
       "    <tr>\n",
       "      <th>9270</th>\n",
       "      <td>20230902</td>\n",
       "      <td>3.5</td>\n",
       "    </tr>\n",
       "    <tr>\n",
       "      <th>9271</th>\n",
       "      <td>20230904</td>\n",
       "      <td>3.5</td>\n",
       "    </tr>\n",
       "  </tbody>\n",
       "</table>\n",
       "<p>1128094 rows × 2 columns</p>\n",
       "</div>"
      ],
      "text/plain": [
       "          계약날짜  기준금리\n",
       "0     20171208   1.5\n",
       "1     20171222   1.5\n",
       "2     20171228   1.5\n",
       "3     20180103   1.5\n",
       "4     20180108   1.5\n",
       "...        ...   ...\n",
       "9267  20230719   3.5\n",
       "9268  20230725   3.5\n",
       "9269  20230827   3.5\n",
       "9270  20230902   3.5\n",
       "9271  20230904   3.5\n",
       "\n",
       "[1128094 rows x 2 columns]"
      ]
     },
     "execution_count": 10,
     "metadata": {},
     "output_type": "execute_result"
    }
   ],
   "source": [
    "# 추가된 변수 확인\n",
    "concat[['계약날짜', '기준금리']]"
   ]
  },
  {
   "cell_type": "markdown",
   "metadata": {},
   "source": [
    "# 전세가격지수 추가하기"
   ]
  },
  {
   "cell_type": "code",
   "execution_count": 11,
   "metadata": {},
   "outputs": [],
   "source": [
    "jeonsae_path  = './아파트전세가격지수.csv'\n",
    "jeonsae_df = pd.read_csv(jeonsae_path, encoding='cp949')"
   ]
  },
  {
   "cell_type": "code",
   "execution_count": 12,
   "metadata": {},
   "outputs": [
    {
     "data": {
      "text/html": [
       "<div>\n",
       "<style scoped>\n",
       "    .dataframe tbody tr th:only-of-type {\n",
       "        vertical-align: middle;\n",
       "    }\n",
       "\n",
       "    .dataframe tbody tr th {\n",
       "        vertical-align: top;\n",
       "    }\n",
       "\n",
       "    .dataframe thead th {\n",
       "        text-align: right;\n",
       "    }\n",
       "</style>\n",
       "<table border=\"1\" class=\"dataframe\">\n",
       "  <thead>\n",
       "    <tr style=\"text-align: right;\">\n",
       "      <th></th>\n",
       "      <th>년월</th>\n",
       "      <th>전세가격지수</th>\n",
       "    </tr>\n",
       "  </thead>\n",
       "  <tbody>\n",
       "    <tr>\n",
       "      <th>0</th>\n",
       "      <td>2003.11</td>\n",
       "      <td>46.7</td>\n",
       "    </tr>\n",
       "    <tr>\n",
       "      <th>1</th>\n",
       "      <td>2003.12</td>\n",
       "      <td>46.2</td>\n",
       "    </tr>\n",
       "    <tr>\n",
       "      <th>2</th>\n",
       "      <td>2004.01</td>\n",
       "      <td>46.0</td>\n",
       "    </tr>\n",
       "    <tr>\n",
       "      <th>3</th>\n",
       "      <td>2004.02</td>\n",
       "      <td>46.3</td>\n",
       "    </tr>\n",
       "    <tr>\n",
       "      <th>4</th>\n",
       "      <td>2004.03</td>\n",
       "      <td>46.5</td>\n",
       "    </tr>\n",
       "  </tbody>\n",
       "</table>\n",
       "</div>"
      ],
      "text/plain": [
       "        년월 전세가격지수\n",
       "0  2003.11   46.7\n",
       "1  2003.12   46.2\n",
       "2  2004.01   46.0\n",
       "3  2004.02   46.3\n",
       "4  2004.03   46.5"
      ]
     },
     "execution_count": 12,
     "metadata": {},
     "output_type": "execute_result"
    }
   ],
   "source": [
    "# 전세가격지수 데이터를 '년월'과 서울의 '전세가격지수'를 열로 가지는 데이터로 변환\n",
    "data = {'년월':list(jeonsae_df.columns[1:]), '전세가격지수':list(jeonsae_df.iloc[1])[1:]}\n",
    "seoul_jeonsae_df = pd.DataFrame(data)\n",
    "seoul_jeonsae_df.head()"
   ]
  },
  {
   "cell_type": "code",
   "execution_count": 13,
   "metadata": {},
   "outputs": [],
   "source": [
    "# 전세가격지수 데이터의 '년월' 형식을 concat의 '계약년월' 형식과 통일\n",
    "seoul_jeonsae_df['년월'] = seoul_jeonsae_df['년월'].map(lambda x : int(x.split('.')[0]) * 100 + int(x.split('.')[1]))"
   ]
  },
  {
   "cell_type": "code",
   "execution_count": 14,
   "metadata": {},
   "outputs": [],
   "source": [
    "# '전세가격지수' 변수가 추가된 concat 데이터\n",
    "concat = pd.merge(concat, seoul_jeonsae_df, left_on='계약년월', right_on='년월', how='inner').drop('년월', axis=1)"
   ]
  },
  {
   "cell_type": "code",
   "execution_count": 15,
   "metadata": {},
   "outputs": [],
   "source": [
    "# concat의 '전세가격지수'열의 형식을 float 변경\n",
    "concat['전세가격지수'] = concat['전세가격지수'].astype(float)"
   ]
  },
  {
   "cell_type": "code",
   "execution_count": 16,
   "metadata": {},
   "outputs": [
    {
     "data": {
      "text/html": [
       "<div>\n",
       "<style scoped>\n",
       "    .dataframe tbody tr th:only-of-type {\n",
       "        vertical-align: middle;\n",
       "    }\n",
       "\n",
       "    .dataframe tbody tr th {\n",
       "        vertical-align: top;\n",
       "    }\n",
       "\n",
       "    .dataframe thead th {\n",
       "        text-align: right;\n",
       "    }\n",
       "</style>\n",
       "<table border=\"1\" class=\"dataframe\">\n",
       "  <thead>\n",
       "    <tr style=\"text-align: right;\">\n",
       "      <th></th>\n",
       "      <th>계약년월</th>\n",
       "      <th>전세가격지수</th>\n",
       "    </tr>\n",
       "  </thead>\n",
       "  <tbody>\n",
       "    <tr>\n",
       "      <th>637781</th>\n",
       "      <td>201512</td>\n",
       "      <td>88.1</td>\n",
       "    </tr>\n",
       "    <tr>\n",
       "      <th>510512</th>\n",
       "      <td>201611</td>\n",
       "      <td>90.4</td>\n",
       "    </tr>\n",
       "    <tr>\n",
       "      <th>73441</th>\n",
       "      <td>201710</td>\n",
       "      <td>92.3</td>\n",
       "    </tr>\n",
       "    <tr>\n",
       "      <th>206482</th>\n",
       "      <td>202306</td>\n",
       "      <td>83.5</td>\n",
       "    </tr>\n",
       "    <tr>\n",
       "      <th>243231</th>\n",
       "      <td>202012</td>\n",
       "      <td>97.2</td>\n",
       "    </tr>\n",
       "    <tr>\n",
       "      <th>212010</th>\n",
       "      <td>202304</td>\n",
       "      <td>83.5</td>\n",
       "    </tr>\n",
       "    <tr>\n",
       "      <th>93996</th>\n",
       "      <td>201805</td>\n",
       "      <td>92.3</td>\n",
       "    </tr>\n",
       "    <tr>\n",
       "      <th>117733</th>\n",
       "      <td>201201</td>\n",
       "      <td>69.1</td>\n",
       "    </tr>\n",
       "    <tr>\n",
       "      <th>202349</th>\n",
       "      <td>200901</td>\n",
       "      <td>52.1</td>\n",
       "    </tr>\n",
       "    <tr>\n",
       "      <th>1005277</th>\n",
       "      <td>201006</td>\n",
       "      <td>58.9</td>\n",
       "    </tr>\n",
       "  </tbody>\n",
       "</table>\n",
       "</div>"
      ],
      "text/plain": [
       "           계약년월  전세가격지수\n",
       "637781   201512    88.1\n",
       "510512   201611    90.4\n",
       "73441    201710    92.3\n",
       "206482   202306    83.5\n",
       "243231   202012    97.2\n",
       "212010   202304    83.5\n",
       "93996    201805    92.3\n",
       "117733   201201    69.1\n",
       "202349   200901    52.1\n",
       "1005277  201006    58.9"
      ]
     },
     "execution_count": 16,
     "metadata": {},
     "output_type": "execute_result"
    }
   ],
   "source": [
    "# 확인을 위해 concat에서 랜덤으로 10개 샘플 뽑아보기\n",
    "concat[['계약년월', '전세가격지수']].sample(n=10)"
   ]
  },
  {
   "cell_type": "markdown",
   "metadata": {},
   "source": [
    "# 인구밀도 추가"
   ]
  },
  {
   "cell_type": "code",
   "execution_count": 17,
   "metadata": {},
   "outputs": [],
   "source": [
    "population_density_path  = './인구밀도.csv'\n",
    "population_density = pd.read_csv(population_density_path)"
   ]
  },
  {
   "cell_type": "code",
   "execution_count": 18,
   "metadata": {},
   "outputs": [
    {
     "data": {
      "text/html": [
       "<div>\n",
       "<style scoped>\n",
       "    .dataframe tbody tr th:only-of-type {\n",
       "        vertical-align: middle;\n",
       "    }\n",
       "\n",
       "    .dataframe tbody tr th {\n",
       "        vertical-align: top;\n",
       "    }\n",
       "\n",
       "    .dataframe thead th {\n",
       "        text-align: right;\n",
       "    }\n",
       "</style>\n",
       "<table border=\"1\" class=\"dataframe\">\n",
       "  <thead>\n",
       "    <tr style=\"text-align: right;\">\n",
       "      <th></th>\n",
       "      <th>동별(1)</th>\n",
       "      <th>동별(2)</th>\n",
       "      <th>동별(3)</th>\n",
       "      <th>인구 (명)</th>\n",
       "      <th>면적 (㎢)</th>\n",
       "      <th>인구밀도 (명/㎢)</th>\n",
       "    </tr>\n",
       "  </thead>\n",
       "  <tbody>\n",
       "    <tr>\n",
       "      <th>1</th>\n",
       "      <td>합계</td>\n",
       "      <td>소계</td>\n",
       "      <td>소계</td>\n",
       "      <td>9667669</td>\n",
       "      <td>605.21</td>\n",
       "      <td>15974</td>\n",
       "    </tr>\n",
       "    <tr>\n",
       "      <th>2</th>\n",
       "      <td>합계</td>\n",
       "      <td>종로구</td>\n",
       "      <td>소계</td>\n",
       "      <td>152211</td>\n",
       "      <td>23.91</td>\n",
       "      <td>6365</td>\n",
       "    </tr>\n",
       "    <tr>\n",
       "      <th>3</th>\n",
       "      <td>합계</td>\n",
       "      <td>종로구</td>\n",
       "      <td>사직동</td>\n",
       "      <td>9355</td>\n",
       "      <td>1.23</td>\n",
       "      <td>7606</td>\n",
       "    </tr>\n",
       "    <tr>\n",
       "      <th>4</th>\n",
       "      <td>합계</td>\n",
       "      <td>종로구</td>\n",
       "      <td>삼청동</td>\n",
       "      <td>2642</td>\n",
       "      <td>1.49</td>\n",
       "      <td>1773</td>\n",
       "    </tr>\n",
       "    <tr>\n",
       "      <th>5</th>\n",
       "      <td>합계</td>\n",
       "      <td>종로구</td>\n",
       "      <td>부암동</td>\n",
       "      <td>9536</td>\n",
       "      <td>2.27</td>\n",
       "      <td>4201</td>\n",
       "    </tr>\n",
       "  </tbody>\n",
       "</table>\n",
       "</div>"
      ],
      "text/plain": [
       "0 동별(1) 동별(2) 동별(3)   인구 (명)  면적 (㎢) 인구밀도 (명/㎢)\n",
       "1    합계    소계    소계  9667669  605.21      15974\n",
       "2    합계   종로구    소계   152211   23.91       6365\n",
       "3    합계   종로구   사직동     9355    1.23       7606\n",
       "4    합계   종로구   삼청동     2642    1.49       1773\n",
       "5    합계   종로구   부암동     9536    2.27       4201"
      ]
     },
     "execution_count": 18,
     "metadata": {},
     "output_type": "execute_result"
    }
   ],
   "source": [
    "# 맨 위 row를 변수 이름으로 설정\n",
    "population_density.columns = population_density.iloc[0]\n",
    "population_density = population_density[1:]\n",
    "population_density.head()"
   ]
  },
  {
   "cell_type": "code",
   "execution_count": 19,
   "metadata": {},
   "outputs": [],
   "source": [
    "# concat의 '시군구' 변수에서 동을 분리하여 따로 변수 만들기\n",
    "concat['동'] = concat['시군구'].map(lambda x : x.split()[2])"
   ]
  },
  {
   "cell_type": "code",
   "execution_count": 20,
   "metadata": {},
   "outputs": [],
   "source": [
    "# 인구밀도 데이터 변수의 타입 변환\n",
    "population_density_new = population_density[['동별(3)', '인구 (명)', '면적 (㎢)', '인구밀도 (명/㎢)']]\n",
    "population_density_new['인구 (명)'] = population_density_new['인구 (명)'].astype(float)\n",
    "population_density_new['면적 (㎢)'] = population_density_new['면적 (㎢)'].astype(float)\n",
    "population_density_new['인구밀도 (명/㎢)'] = population_density_new['인구밀도 (명/㎢)'].astype(float)"
   ]
  },
  {
   "cell_type": "code",
   "execution_count": 21,
   "metadata": {},
   "outputs": [],
   "source": [
    "# concat에서 동을 (유사)행정동으로 반환하는 함수\n",
    "# '동'이 여러 행정동에 걸쳐있는 경우 임으로 걸쳐있는 행정동 중 하나로 선택하였음\n",
    "def to_hangjungdong(dong):\n",
    "    if dong in ['금호동1가']: \n",
    "        return '금호1가동'\n",
    "    elif dong in ['봉천동']: # 중앙동은 5개의 동에 걸쳐있음\n",
    "        return '중앙동'\n",
    "    elif dong in ['마곡동']: # 마곡동은 가양1동, 방화1동, 발산1동에 걸쳐있음\n",
    "        return '가양동'\n",
    "    elif dong in ['내발산동']: # 내발산동은 '발산1동'과 '우장산동'에 걸쳐있음\n",
    "        return '발산1동'\n",
    "    elif dong in ['자곡동', '율현동']:\n",
    "        return '세곡동'\n",
    "    elif dong in ['금호동2가', '금호동3가']:\n",
    "        return '금호2.3가동'\n",
    "    elif dong in ['금호동4가']:\n",
    "        return '금호4가동'\n",
    "    elif dong in ['남대문로5가']:\n",
    "        return '회현동'\n",
    "    elif dong in ['남산동2가']:\n",
    "        return '명동'\n",
    "    elif dong in ['당산동1가', '당산동2가', '당산동3가']:\n",
    "        return '당산1동'\n",
    "    elif dong in ['당산동4가', '당산동5가', '당산동6가']:\n",
    "        return '당산2동'\n",
    "    elif dong in ['동선동1가', '동선동3가', '동선동4가', '동선동5가', '동소문동6가', '동소문동7가']:\n",
    "        return '동선동'\n",
    "    elif dong in ['동소문동5가', '삼선동2가', '삼선동3가', '삼선동4가', '삼선동5가']:\n",
    "        return '삼선동'\n",
    "    elif dong in ['만리동2가', '만리동1가']:\n",
    "        return '중림동'\n",
    "    elif dong in ['명륜1가', '명륜2가', '명륜3가']:\n",
    "        return '혜화동'\n",
    "    elif dong in ['문래동2가', '문래동3가', '문래동4가', '문래동5가', '문래동6가']:\n",
    "        return '문래동'\n",
    "    elif dong in ['보문동2가', '보문동3가', '보문동4가', '보문동6가']:\n",
    "        return '보문동'\n",
    "    elif dong in ['성북동1가', '동소문동', '동소문동4가']:\n",
    "        return '성북동'\n",
    "    elif dong in ['신문로1가', '신문로2가', '내수동', '당주동', '필운동']:\n",
    "        return '사직동'\n",
    "    elif dong in ['안암동1가', '안암동3가', '안암동4가', '안암동5가']:\n",
    "        return '안암동'\n",
    "    elif dong in ['양평동1가', '양평동2가', '양평동3가']: \n",
    "        return '양평1동'\n",
    "    elif dong in ['양평동4가', '양평동5가', '양평동6가']: # '양평동3가'는 '양평1동'과 '양평2동'에 걸쳐있음 \n",
    "        return '양평2동'\n",
    "    elif dong in ['영등포동1가', '영등포동2가', '영등포동3가', '영등포동4가', '영등포동5가', '영등포동7가', '영등포동8가']:\n",
    "        return '영등포동'\n",
    "    elif dong in ['용산동2가']:\n",
    "        return '용산2가동'\n",
    "    elif dong in ['원효로1가', '원효로2가', '문배동', '신계동']: # 원효로1동, 2동의 인구밀도가 크게 차이나기 떄문에 두 개 분리\n",
    "        return  '원효로1동'\n",
    "    elif dong in ['원효로3가', '원효로4가', '산천동', '신창동', '청암동']:\n",
    "        return '원효로2동'\n",
    "    elif dong in ['을지로5가', '산림동', '입정동']:\n",
    "        return '을지로동'\n",
    "    elif dong in ['인현동2가', '오장동', '충무로4가', '충무로5가']: \n",
    "        return '광희동'\n",
    "    elif dong in ['장충동1가', '장충동2가']:\n",
    "        return '장충동'\n",
    "    elif dong in ['청파동1가', '청파동3가']:\n",
    "        return '청파동'\n",
    "    elif dong in ['충정로2가', '충정로3가', '합동', '미근동']:\n",
    "        return '충현동'\n",
    "    elif dong in ['필동1가', '필동3가', '묵정동', '예장동']:\n",
    "        return '필동'\n",
    "    elif dong in ['한강로1가', '한강로2가', '한강로3가', '용산동5가']:\n",
    "        return '한강로동'\n",
    "    elif dong in ['회현동1가', '회현동2가', '남창동']:\n",
    "        return '회현동'\n",
    "    elif dong in ['천왕동']:\n",
    "        return '오류동'\n",
    "    elif dong in ['온수동', '궁동']:\n",
    "        return '수궁동'\n",
    "    elif dong in ['용두동', '신설동']:\n",
    "        return '용신동'\n",
    "    elif dong in ['본동']:\n",
    "        return '노량진동'\n",
    "    elif dong in ['동작동']:\n",
    "        return '사당동'\n",
    "    elif dong in ['노고산동']:\n",
    "        return '대흥동'\n",
    "    elif dong in ['마포동']:\n",
    "        return '도화동'\n",
    "    elif dong in ['상수동']:\n",
    "        return '서강동'\n",
    "    elif dong in ['신공덕동']:\n",
    "        return '공덕동'\n",
    "    elif dong in ['동교동']:\n",
    "        return '연남동'\n",
    "    elif dong in ['중동']:\n",
    "        return '성산동'\n",
    "    elif dong in ['창전동', '하중동']:\n",
    "        return '서강동'\n",
    "    elif dong in ['냉천동', '영천동', '현저동']:\n",
    "        return '천연동'\n",
    "    elif dong in ['토정동']:\n",
    "        return '용강동'\n",
    "    elif dong in ['현석동', '구수동']:\n",
    "        return '신수동'\n",
    "    elif dong in ['대현동', '창천동']:\n",
    "        return '신촌동'\n",
    "    elif dong in ['우면동']:\n",
    "        return '양재동'\n",
    "    elif dong in ['도선동', '상왕십리동', '하왕십리동', '홍익동']:\n",
    "        return '왕십리도선동'\n",
    "    elif dong in ['상월곡동', '하월곡동']:\n",
    "        return '월곡동'\n",
    "    elif dong in ['신천동']:\n",
    "        return '잠실동'\n",
    "    elif dong in ['여의도동']:\n",
    "        return '여의동'\n",
    "    elif dong in ['갈월동', '동자동']:\n",
    "        return '남영동'\n",
    "    elif dong in ['도원동']:\n",
    "        return '용문동'\n",
    "    elif dong in ['동빙고동', '주성동']:\n",
    "        return '서빙고동'\n",
    "    elif dong in ['익선동', '견지동', '인의동', '수송동', '원남동', '낙원동']:\n",
    "        return '종로1.2.3.4가동'\n",
    "    elif dong in ['효제동', '충신동', '연지동']:\n",
    "        return '종로5.6가동'\n",
    "    elif dong in ['교북동', '행촌동', '홍파동', '평동']:\n",
    "        return '교남동'\n",
    "    elif dong in ['누상동', '옥인동', '청운동', '통인동', '신교동']:\n",
    "        return '청운효자동'\n",
    "    elif dong in ['동숭동', '연건동']:\n",
    "        return '이화동'\n",
    "    elif dong in ['신영동']:\n",
    "        return '부암동'\n",
    "    elif dong in ['순화동', '정동']:\n",
    "        return '소공동'\n",
    "    elif dong in ['흥인동']:\n",
    "        return '신당동'\n",
    "    elif dong in ['구기동']:\n",
    "        return '평창동'\n",
    "    else:\n",
    "        return dong\n",
    "    "
   ]
  },
  {
   "cell_type": "code",
   "execution_count": 22,
   "metadata": {},
   "outputs": [],
   "source": [
    "# concat의 '동'을 유사 행정동으로 변환\n",
    "concat['동'] = concat['동'].apply(to_hangjungdong)"
   ]
  },
  {
   "cell_type": "code",
   "execution_count": 23,
   "metadata": {},
   "outputs": [],
   "source": [
    "# 인구밀도 데이터의 몇 개의 행정동을 하나로 합쳐주기 위한 리스트\n",
    "dong_merge_list = [['성수동1가', '성수1가1동','성수1가2동'],\n",
    "                   ['성수동2가', '성수2가1동', '성수2가3동'],\n",
    "                   ['논현동', '논현1동', '논현2동'],\n",
    "                   ['대치동', '대치1동', '대치2동', '대치4동'],\n",
    "                   ['도곡동', '도곡1동', '도곡2동'],\n",
    "                   ['역삼동', '역삼1동', '역삼2동'],\n",
    "                   ['일원동', '일원본동', '일원1동'],\n",
    "                   ['고덕동', '고덕1동', '고덕2동'],\n",
    "                   ['둔촌동', '둔촌1동', '둔촌2동'],\n",
    "                   ['명일동', '명일1동', '명일2동'],\n",
    "                   ['상일동', '상일1동', '상일2동'],\n",
    "                   ['성내동', '성내1동', '성내2동', '성내3동'],\n",
    "                   ['암사동', '암사1동', '암사2동', '암사3동'],\n",
    "                   ['천호동', '천호1동', '천호2동', '천호3동'],\n",
    "                   ['번동', '번1동', '번2동', '번3동'],\n",
    "                   ['가양동', '가양1동', '가양2동', '가양3동'],\n",
    "                   ['수유동', '수유1동', '수유2동', '수유3동'],\n",
    "                   ['등촌동', '등촌1동', '등촌2동', '등촌3동'],\n",
    "                   ['방화동', '방화1동', '방화2동', '방화3동'],\n",
    "                   ['화곡동', '화곡1동', '화곡2동',  '화곡3동', '화곡4동', '화곡6동', '화곡8동', '화곡본동'],\n",
    "                   ['구의동', '구의1동', '구의2동', '구의3동'],\n",
    "                   ['자양동', '자양1동', '자양2동', '자양3동', '자양4동'],\n",
    "                   ['개봉동', '개봉1동', '개봉2동', '개봉3동'],\n",
    "                   ['고척동', '고척1동', '고척2동'],\n",
    "                   ['중곡동', '중곡1동', '중곡2동', '중곡3동'],\n",
    "                   ['구로동', '구로1동', '구로2동', '구로3동', '구로4동', '구로5동'],\n",
    "                   ['개포동', '개포1동', '개포2동', '개포3동', '개포4동'],\n",
    "                   ['오류동', '오류1동', '오류2동'],\n",
    "                   ['독산동', '독산1동', '독산2동', '독산3동', '독산4동'],\n",
    "                   ['시흥동', '시흥1동', '시흥2동', '시흥3동', '시흥4동', '시흥5동'],\n",
    "                   ['공릉동', '공릉1동', '공릉2동'],\n",
    "                   ['상계동', '상계1동', '상계2동', '상계5동', '상계8동', '상계9동', '상계10동', '상계3.4동', '상계6.7동'],\n",
    "                   ['월계동', '월계1동', '월계2동', '월계3동'],\n",
    "                   ['중계동', '중계본동', '중계1동', '중계4동', '중계2.3동'],\n",
    "                   ['하계동', '하계1동', '하계2동'],\n",
    "                   ['도봉동', '도봉1동', '도봉2동'],\n",
    "                   ['방학동', '방학1동', '방학2동', '방학3동'],\n",
    "                   ['쌍문동', '쌍문1동', '쌍문2동', '쌍문3동', '쌍문4동'],\n",
    "                   ['창동', '창1동', '창2동', '창3동', '창4동', '창5동'],\n",
    "                   ['답십리동', '답십리1동', '답십리2동'],\n",
    "                   ['이문동', '이문1동', '이문2동'],\n",
    "                   ['장안동', '장안1동', '장안2동'],\n",
    "                   ['전농동', '전농1동', '전농2동'],\n",
    "                   ['휘경동', '휘경1동', '휘경2동'],\n",
    "                   ['노량진동', '노량진1동', '노량진2동'],\n",
    "                   ['사당동', '사당1동', '사당2동', '사당3동', '사당4동', '사당5동'],\n",
    "                   ['상도동', '상도1동', '상도2동', '상도3동', '상도4동'],\n",
    "                   ['신대방동', '신대방1동', '신대방2동'],\n",
    "                   ['성산동', '성산1동', '성산2동'],\n",
    "                   ['신정동', '신정1동', '신정2동', '신정3동', '신정4동', '신정6동', '신정7동'],\n",
    "                   ['망원동', '망원1동', '망원2동'],\n",
    "                   ['남가좌동', '남가좌1동', '남가좌2동'],\n",
    "                   ['북가좌동', '북가좌1동', '북가좌2동'],\n",
    "                   ['홍은동', '홍은1동', '홍은2동'],\n",
    "                   ['홍제동', '홍제1동', '홍제2동', '홍제3동'],\n",
    "                   ['반포동', '반포본동', '반포1동', '반포2동', '반포3동', '반포4동'],\n",
    "                   ['방배동', '방배본동', '방배1동', '방배2동', '방배3동', '방배4동'],\n",
    "                   ['서초동', '서초1동', '서초2동', '서초3동', '서초4동'],\n",
    "                   ['양재동', '양재1동', '양재2동'],\n",
    "                   ['행당동', '행당1동', '행당2동'],\n",
    "                   ['길음동', '길음1동', '길음2동'],\n",
    "                   ['돈암동', '돈암1동', '돈암2동'],\n",
    "                   ['장위동', '장위1동', '장위2동', '장위3동'],\n",
    "                   ['정릉동', '정릉1동', '정릉2동', '정릉3동', '정릉4동'],\n",
    "                   ['가락동', '가락본동', '가락1동', '가락2동'],\n",
    "                   ['거여동', '거여1동', '거여2동'],\n",
    "                   ['마천동', '마천1동', '마천2동'],\n",
    "                   ['문정동', '문정1동', '문정2동'],\n",
    "                   ['송파동', '송파1동', '송파2동'],\n",
    "                   ['방이동',  '방이1동', '방이2동'],\n",
    "                   ['잠실동', '잠실본동', '잠실2동', '잠실3동', '잠실4동', '잠실6동', '잠실7동'],\n",
    "                   ['풍납동', '풍납1동', '풍납2동'],\n",
    "                   ['목동', '목1동', '목2동', '목3동', '목4동'],\n",
    "                   ['신월동', '신월1동', '신월2동', '신월3동', '신월4동', '신월5동', '신월6동', '신월7동'],\n",
    "                   ['당산동', '당산1동', '당산2동'],\n",
    "                   ['대림동', '대림1동', '대림2동', '대림3동'],\n",
    "                   ['신길동', '신길1동', '신길3동', '신길4동', '신길5동', '신길6동', '신길7동'],\n",
    "                   ['이촌동', '이촌1동', '이촌2동'],\n",
    "                   ['이태원동', '이태원1동', '이태원2동'],\n",
    "                   ['불광동', '불광1동', '불광2동'],\n",
    "                   ['갈현동', '갈현1동', '갈현2동'],\n",
    "                   ['응암동', '응암1동', '응암2동', '응암3동'],\n",
    "                   ['숭인동', '숭인1동', '숭인2동'],\n",
    "                   ['창신동', '창신1동', '창신2동', '창신3동'],\n",
    "                   ['망우동', '망우본동', '망우3동'],\n",
    "                   ['면목동', '면목본동', '면목2동', '면목4동', '면목5동', '면목7동', '면목3.8동'],\n",
    "                   ['묵동', '묵1동', '묵2동'],\n",
    "                   ['상봉동', '상봉1동', '상봉2동'],\n",
    "                   ['신내동', '신내1동', '신내2동'],\n",
    "                   ['중화동', '중화1동', '중화2동'],\n",
    "                   ['월곡동', '월곡1동', '월곡2동']\n",
    "                   ]"
   ]
  },
  {
   "cell_type": "code",
   "execution_count": 24,
   "metadata": {},
   "outputs": [],
   "source": [
    "# 행정동을 합쳐 유사 행정동을 구하고 합친 인구와 면적을 사용하여 밀도를 다시 구하기\n",
    "for dongs in dong_merge_list:\n",
    "    dong_dict ={}\n",
    "    dong_dict['동별(3)'] = dongs[0]\n",
    "    dong_pop = 0\n",
    "    dong_area = 0\n",
    "    for dong in dongs[1:]:\n",
    "        dong_pop += population_density_new.loc[population_density_new['동별(3)'] == dong, '인구 (명)'].values[0]\n",
    "        dong_area += population_density_new.loc[population_density_new['동별(3)'] == dong, '면적 (㎢)'].values[0]\n",
    "    dong_density = dong_pop / dong_area\n",
    "    dong_dict['인구 (명)'] = dong_pop\n",
    "    dong_dict['면적 (㎢)'] = dong_area\n",
    "    dong_dict['인구밀도 (명/㎢)'] = dong_density\n",
    "    population_density_new = population_density_new.append(dong_dict, ignore_index=True)\n",
    "    "
   ]
  },
  {
   "cell_type": "code",
   "execution_count": 25,
   "metadata": {},
   "outputs": [],
   "source": [
    "# '인구밀도 (명/㎢)' 변수가 추가된 concat 데이터\n",
    "concat = pd.merge(concat, population_density_new, left_on='동', right_on='동별(3)', how='inner').drop(['동별(3)', '인구 (명)', '면적 (㎢)'], axis=1)"
   ]
  },
  {
   "cell_type": "code",
   "execution_count": 26,
   "metadata": {},
   "outputs": [
    {
     "data": {
      "text/html": [
       "<div>\n",
       "<style scoped>\n",
       "    .dataframe tbody tr th:only-of-type {\n",
       "        vertical-align: middle;\n",
       "    }\n",
       "\n",
       "    .dataframe tbody tr th {\n",
       "        vertical-align: top;\n",
       "    }\n",
       "\n",
       "    .dataframe thead th {\n",
       "        text-align: right;\n",
       "    }\n",
       "</style>\n",
       "<table border=\"1\" class=\"dataframe\">\n",
       "  <thead>\n",
       "    <tr style=\"text-align: right;\">\n",
       "      <th></th>\n",
       "      <th>동</th>\n",
       "      <th>인구밀도 (명/㎢)</th>\n",
       "    </tr>\n",
       "  </thead>\n",
       "  <tbody>\n",
       "    <tr>\n",
       "      <th>354025</th>\n",
       "      <td>가산동</td>\n",
       "      <td>10543.000000</td>\n",
       "    </tr>\n",
       "    <tr>\n",
       "      <th>1093300</th>\n",
       "      <td>황학동</td>\n",
       "      <td>40785.000000</td>\n",
       "    </tr>\n",
       "    <tr>\n",
       "      <th>934115</th>\n",
       "      <td>풍납동</td>\n",
       "      <td>15820.338983</td>\n",
       "    </tr>\n",
       "    <tr>\n",
       "      <th>194821</th>\n",
       "      <td>방화동</td>\n",
       "      <td>8502.490421</td>\n",
       "    </tr>\n",
       "    <tr>\n",
       "      <th>512705</th>\n",
       "      <td>쌍문동</td>\n",
       "      <td>26852.857143</td>\n",
       "    </tr>\n",
       "    <tr>\n",
       "      <th>451000</th>\n",
       "      <td>중계동</td>\n",
       "      <td>19837.500000</td>\n",
       "    </tr>\n",
       "    <tr>\n",
       "      <th>1060504</th>\n",
       "      <td>응암동</td>\n",
       "      <td>32800.000000</td>\n",
       "    </tr>\n",
       "    <tr>\n",
       "      <th>734168</th>\n",
       "      <td>방배동</td>\n",
       "      <td>14515.568862</td>\n",
       "    </tr>\n",
       "    <tr>\n",
       "      <th>68212</th>\n",
       "      <td>압구정동</td>\n",
       "      <td>10238.000000</td>\n",
       "    </tr>\n",
       "    <tr>\n",
       "      <th>330658</th>\n",
       "      <td>구로동</td>\n",
       "      <td>24740.264650</td>\n",
       "    </tr>\n",
       "  </tbody>\n",
       "</table>\n",
       "</div>"
      ],
      "text/plain": [
       "            동    인구밀도 (명/㎢)\n",
       "354025    가산동  10543.000000\n",
       "1093300   황학동  40785.000000\n",
       "934115    풍납동  15820.338983\n",
       "194821    방화동   8502.490421\n",
       "512705    쌍문동  26852.857143\n",
       "451000    중계동  19837.500000\n",
       "1060504   응암동  32800.000000\n",
       "734168    방배동  14515.568862\n",
       "68212    압구정동  10238.000000\n",
       "330658    구로동  24740.264650"
      ]
     },
     "execution_count": 26,
     "metadata": {},
     "output_type": "execute_result"
    }
   ],
   "source": [
    "# 확인을 위해 concat에서 랜덤으로 10개 샘플 뽑아보기\n",
    "concat[['동', '인구밀도 (명/㎢)']].sample(n=10)"
   ]
  },
  {
   "cell_type": "markdown",
   "metadata": {},
   "source": [
    "# 결측치 채우기"
   ]
  },
  {
   "cell_type": "code",
   "execution_count": 27,
   "metadata": {},
   "outputs": [],
   "source": [
    "concat['등기신청일자'] = concat['등기신청일자'].replace(' ', np.nan)\n",
    "concat['거래유형'] = concat['거래유형'].replace('-', np.nan)\n",
    "concat['중개사소재지'] = concat['중개사소재지'].replace('-', np.nan)"
   ]
  },
  {
   "cell_type": "code",
   "execution_count": 28,
   "metadata": {},
   "outputs": [],
   "source": [
    "house_df_path = \"./서울시 공동주택 아파트 정보.csv\"\n",
    "house_df = pd.read_csv(house_df_path, encoding='cp949')"
   ]
  },
  {
   "cell_type": "code",
   "execution_count": 29,
   "metadata": {},
   "outputs": [],
   "source": [
    "# '도로명주소'을 기준으로 df_train의 결측치 ('아파트명'은 같은 아파트임에도 서로 일치하지 않는 항목이 많아서)\n",
    "house_df['도로명주소'] = house_df['주소(도로명)'] + ' ' + house_df['주소(도로상세주소)']\n",
    "house_df = house_df.drop_duplicates(subset='도로명주소')"
   ]
  },
  {
   "cell_type": "code",
   "execution_count": 30,
   "metadata": {},
   "outputs": [],
   "source": [
    "# house_df_unique에서 '도로명주소'가 같은 경우 수치형인 열은 평균값으로, 범주형인 열은 최빈값으로 중복값 대체\n",
    "def handle_duplicates(df):\n",
    "    duplicates = df.duplicated(subset=['도로명주소'])\n",
    "    for col in df.columns:\n",
    "        if col != '도로명주소':\n",
    "            if df[col].dtype == 'int64':\n",
    "                df[col] = df.groupby('도로명주소')[col].transform(lambda x: x.mean() if not x.isnull().all() else x)\n",
    "            else:\n",
    "                df[col] = df.groupby('도로명주소')[col].transform(lambda x: x.mode().iloc[0] if not x.isnull().all() else x)\n",
    "    df = df.drop_duplicates(subset=['도로명주소'])\n",
    "    return df\n",
    "\n",
    "house_df = handle_duplicates(house_df)"
   ]
  },
  {
   "cell_type": "code",
   "execution_count": 31,
   "metadata": {},
   "outputs": [],
   "source": [
    "# concat과 house_df_unique에 공통으로 존재하는 열 찾기\n",
    "common_cols = []\n",
    "for col_1 in (concat.columns):\n",
    "    for col_2 in list(list(house_df.columns)):\n",
    "        if col_1 == col_2:\n",
    "            common_cols.append(col_1)\n",
    "            break\n",
    "common_cols.remove('k-전화번호')\n",
    "common_cols.remove('k-팩스번호')\n",
    "common_cols.remove('k-홈페이지')"
   ]
  },
  {
   "cell_type": "code",
   "execution_count": 32,
   "metadata": {},
   "outputs": [],
   "source": [
    "# concat의 결측치를 house_df_unique로 채우기\n",
    "for col in common_cols:\n",
    "    concat[col] = concat[col].fillna(concat['도로명'].map(house_df.set_index('도로명주소')[col]))\n",
    "concat['아파트명'] = concat['아파트명'].fillna(concat['도로명'].map(house_df.set_index('도로명주소')['k-아파트명']))"
   ]
  },
  {
   "cell_type": "code",
   "execution_count": 33,
   "metadata": {},
   "outputs": [
    {
     "name": "stdout",
     "output_type": "stream",
     "text": [
      "['시군구', '번지', '본번', '부번', '아파트명', '전용면적(㎡)', '계약년월', '계약일', '층', '건축년도', '도로명', 'k-단지분류(아파트,주상복합등등)', 'k-세대타입(분양형태)', 'k-관리방식', 'k-복도유형', 'k-난방방식', 'k-전체동수', 'k-전체세대수', 'k-건설사(시공사)', 'k-시행사', 'k-사용검사일-사용승인일', 'k-연면적', 'k-주거전용면적', 'k-관리비부과면적', 'k-전용면적별세대현황(60㎡이하)', 'k-전용면적별세대현황(60㎡~85㎡이하)', 'k-85㎡~135㎡이하', 'k-수정일자', '고용보험관리번호', '경비비관리형태', '세대전기계약방법', '청소비관리형태', '건축면적', '주차대수', '기타/의무/임대/임의=1/2/3/4', '단지승인일', '사용허가여부', '관리비 업로드', '좌표X', '좌표Y', '단지신청일', 'target', 'is_test', '계약날짜', '기준금리', '전세가격지수', '동', '인구밀도 (명/㎢)']\n"
     ]
    }
   ],
   "source": [
    "# 결측치가 50만개 이상인 변수 제외\n",
    "cols_selected = list(concat.columns[concat.isnull().sum() <= 500000])\n",
    "concat_new = concat[cols_selected]\n",
    "print(cols_selected)"
   ]
  },
  {
   "cell_type": "code",
   "execution_count": 34,
   "metadata": {},
   "outputs": [
    {
     "data": {
      "image/png": "[encoded data removed]",
      "text/plain": [
       "<Figure size 1300x200 with 1 Axes>"
      ]
     },
     "metadata": {},
     "output_type": "display_data"
    }
   ],
   "source": [
    "fig = plt.figure(figsize=(13, 2))\n",
    "missing = concat_new.isnull().sum() / concat_new.shape[0]\n",
    "missing = missing[missing >= 0]\n",
    "missing.sort_values(inplace=True)\n",
    "missing.plot.bar(color='orange')\n",
    "plt.title('변수별 결측치 비율')\n",
    "plt.show()"
   ]
  },
  {
   "cell_type": "markdown",
   "metadata": {},
   "source": [
    "## 나머지 변수들의 결측치 채워주기"
   ]
  },
  {
   "cell_type": "code",
   "execution_count": 35,
   "metadata": {},
   "outputs": [],
   "source": [
    "# # 도로명을 기준으로 수치형일 경우 평균으로 범주형일 경우 최빈값으로 채움\n",
    "# for col in list(concat_new.columns):\n",
    "#     if pd.api.types.is_numeric_dtype(concat_new[col]):\n",
    "#         concat[col] = concat.groupby('도로명')[col].transform(lambda x: x.fillna(x.mean()) if not x.isnull().all() else x)\n",
    "#     else:\n",
    "#         concat[col] = concat.groupby('도로명')[col].transform(lambda x: x.fillna(x.mode().iloc[0]) if not x.isnull().all() else x)"
   ]
  },
  {
   "cell_type": "markdown",
   "metadata": {},
   "source": [
    "# 아파트명 변수의 값을 단순화하기"
   ]
  },
  {
   "cell_type": "code",
   "execution_count": 36,
   "metadata": {},
   "outputs": [],
   "source": [
    "concat_new['k-건설사(시공사)'] = concat_new['k-건설사(시공사)'].astype(str)"
   ]
  },
  {
   "cell_type": "code",
   "execution_count": 37,
   "metadata": {},
   "outputs": [],
   "source": [
    "# 여러 건설사가 같이 시공하였을 시 더 브랜드 평판이 높은 건설사 혹은 데이터가 더 많은 건설사로 대체\n",
    "def simple_apt(apt):\n",
    "    if '현대건설' in apt or '힐스테이트' in apt:\n",
    "        return '현대건설'\n",
    "    elif '삼성물산' in apt:\n",
    "        return '삼성물산'\n",
    "    elif '대우건설' in apt or '푸르지오' in apt:\n",
    "        return '대우건설'\n",
    "    elif 'GS' in apt or 'gs' in apt or '지에스' in apt:\n",
    "        return 'GS건설'\n",
    "    elif '포스코' in apt:\n",
    "        return '포스코건설'\n",
    "    elif '래미안' in apt or '삼성물산' in apt:\n",
    "        return '삼성물산'\n",
    "    elif 'DL' in apt:\n",
    "        return 'DL E&C'\n",
    "    elif '롯데건설' in apt or '롯데캐슬' in apt:\n",
    "        return '롯데건설'\n",
    "    elif '현대산업' in apt:\n",
    "        return '현대산업개발'\n",
    "    elif '한화' in apt:\n",
    "        return '한화건설'\n",
    "    elif '쌍용' in apt:\n",
    "        return '쌍용건설'\n",
    "    elif apt in ['대한주택공사', 'LH공사', '한국토지주택공사', '한국주택공사', 'LH']:\n",
    "        return '한국토지주택공사'\n",
    "    elif '우성' in apt:\n",
    "        return '우성건설'\n",
    "    elif '한신' in apt:\n",
    "        return '한신공영'\n",
    "    elif '두산건설' in apt:\n",
    "        return '두산건설'\n",
    "    elif apt in ['동아건설', '(주)동아건설', '동아건설산업(주)', '동아건설산업', '동아건설(주)', '(주)동아건설산업', '동아,효성', '동아주택']:\n",
    "        return '동아건설'\n",
    "    elif '대림산업' in apt:\n",
    "        return '대림산업'\n",
    "    elif '벽산건설' in apt:\n",
    "        return '벽산건설'\n",
    "    elif '동부건설' in apt:\n",
    "        return '동부건설'\n",
    "    else:\n",
    "        return 'Other'\n",
    "    \n",
    "    \n",
    "concat_new['k-건설사(시공사)'] = concat_new['k-건설사(시공사)'].apply(simple_apt)\n",
    "concat_new['k-건설사(시공사)'] = concat_new['k-건설사(시공사)'].fillna(value='Other') # 결측치도 'Other'로 통일"
   ]
  },
  {
   "cell_type": "code",
   "execution_count": 38,
   "metadata": {},
   "outputs": [
    {
     "data": {
      "image/png": "[encoded data removed]",
      "text/plain": [
       "<Figure size 1300x200 with 1 Axes>"
      ]
     },
     "metadata": {},
     "output_type": "display_data"
    }
   ],
   "source": [
    "fig = plt.figure(figsize=(13, 2))\n",
    "missing = concat_new.isnull().sum() / concat_new.shape[0]\n",
    "missing = missing[missing >= 0]\n",
    "missing.sort_values(inplace=True)\n",
    "missing.plot.bar(color='orange')\n",
    "plt.title('변수별 결측치 비율')\n",
    "plt.show()"
   ]
  },
  {
   "cell_type": "code",
   "execution_count": 39,
   "metadata": {},
   "outputs": [
    {
     "data": {
      "text/plain": [
       "Index(['시군구', '번지', '본번', '부번', '아파트명', '전용면적(㎡)', '계약년월', '계약일', '층', '건축년도',\n",
       "       '도로명', 'k-단지분류(아파트,주상복합등등)', 'k-세대타입(분양형태)', 'k-관리방식', 'k-복도유형',\n",
       "       'k-난방방식', 'k-전체동수', 'k-전체세대수', 'k-건설사(시공사)', 'k-시행사', 'k-사용검사일-사용승인일',\n",
       "       'k-연면적', 'k-주거전용면적', 'k-관리비부과면적', 'k-전용면적별세대현황(60㎡이하)',\n",
       "       'k-전용면적별세대현황(60㎡~85㎡이하)', 'k-85㎡~135㎡이하', 'k-수정일자', '고용보험관리번호',\n",
       "       '경비비관리형태', '세대전기계약방법', '청소비관리형태', '건축면적', '주차대수', '기타/의무/임대/임의=1/2/3/4',\n",
       "       '단지승인일', '사용허가여부', '관리비 업로드', '좌표X', '좌표Y', '단지신청일', 'target',\n",
       "       'is_test', '계약날짜', '기준금리', '전세가격지수', '동', '인구밀도 (명/㎢)'],\n",
       "      dtype='object')"
      ]
     },
     "execution_count": 39,
     "metadata": {},
     "output_type": "execute_result"
    }
   ],
   "source": [
    "concat_new.columns"
   ]
  },
  {
   "cell_type": "code",
   "execution_count": 40,
   "metadata": {},
   "outputs": [
    {
     "name": "stdout",
     "output_type": "stream",
     "text": [
      "<class 'pandas.core.frame.DataFrame'>\n",
      "Int64Index: 1133641 entries, 0 to 1133640\n",
      "Data columns (total 48 columns):\n",
      " #   Column                  Non-Null Count    Dtype  \n",
      "---  ------                  --------------    -----  \n",
      " 0   시군구                     1133641 non-null  object \n",
      " 1   번지                      1133414 non-null  object \n",
      " 2   본번                      1133566 non-null  float64\n",
      " 3   부번                      1133566 non-null  float64\n",
      " 4   아파트명                    1131491 non-null  object \n",
      " 5   전용면적(㎡)                 1133641 non-null  float64\n",
      " 6   계약년월                    1133641 non-null  int64  \n",
      " 7   계약일                     1133641 non-null  int64  \n",
      " 8   층                       1133641 non-null  int64  \n",
      " 9   건축년도                    1133641 non-null  int64  \n",
      " 10  도로명                     1133641 non-null  object \n",
      " 11  k-단지분류(아파트,주상복합등등)      872166 non-null   object \n",
      " 12  k-세대타입(분양형태)            874024 non-null   object \n",
      " 13  k-관리방식                  874024 non-null   object \n",
      " 14  k-복도유형                  873695 non-null   object \n",
      " 15  k-난방방식                  874306 non-null   object \n",
      " 16  k-전체동수                  872448 non-null   float64\n",
      " 17  k-전체세대수                 874617 non-null   float64\n",
      " 18  k-건설사(시공사)              1133641 non-null  object \n",
      " 19  k-시행사                   870272 non-null   object \n",
      " 20  k-사용검사일-사용승인일           874172 non-null   object \n",
      " 21  k-연면적                   874617 non-null   float64\n",
      " 22  k-주거전용면적                873734 non-null   float64\n",
      " 23  k-관리비부과면적               874515 non-null   float64\n",
      " 24  k-전용면적별세대현황(60㎡이하)      873795 non-null   float64\n",
      " 25  k-전용면적별세대현황(60㎡~85㎡이하)  873795 non-null   float64\n",
      " 26  k-85㎡~135㎡이하            873795 non-null   float64\n",
      " 27  k-수정일자                  874014 non-null   object \n",
      " 28  고용보험관리번호                754039 non-null   object \n",
      " 29  경비비관리형태                 871063 non-null   object \n",
      " 30  세대전기계약방법                836836 non-null   object \n",
      " 31  청소비관리형태                 871371 non-null   object \n",
      " 32  건축면적                    866411 non-null   float64\n",
      " 33  주차대수                    871946 non-null   float64\n",
      " 34  기타/의무/임대/임의=1/2/3/4     874617 non-null   object \n",
      " 35  단지승인일                   873407 non-null   object \n",
      " 36  사용허가여부                  874617 non-null   object \n",
      " 37  관리비 업로드                 874617 non-null   object \n",
      " 38  좌표X                     874151 non-null   object \n",
      " 39  좌표Y                     874151 non-null   float64\n",
      " 40  단지신청일                   1131493 non-null  object \n",
      " 41  target                  1124347 non-null  float64\n",
      " 42  is_test                 1133641 non-null  int64  \n",
      " 43  계약날짜                    1133641 non-null  int64  \n",
      " 44  기준금리                    1133641 non-null  float64\n",
      " 45  전세가격지수                  1133641 non-null  float64\n",
      " 46  동                       1133641 non-null  object \n",
      " 47  인구밀도 (명/㎢)              1133641 non-null  float64\n",
      "dtypes: float64(18), int64(6), object(24)\n",
      "memory usage: 423.8+ MB\n"
     ]
    }
   ],
   "source": [
    "concat_new.info()"
   ]
  },
  {
   "cell_type": "code",
   "execution_count": 43,
   "metadata": {},
   "outputs": [],
   "source": [
    "# 변수 타입 바꾸기\n",
    "concat_new['좌표X'] = concat['좌표X'].astype(float)\n",
    "concat_new['본번'] = concat['본번'].astype(float)\n",
    "concat_new['부번'] = concat['부번'].astype(float)\n",
    "concat_new['계약년월'] = concat['계약년월'].astype(str)\n",
    "concat_new['좌표X'] = concat['좌표X'].astype(float)"
   ]
  },
  {
   "cell_type": "markdown",
   "metadata": {},
   "source": [
    "# 간단한 모델 돌려보기"
   ]
  },
  {
   "cell_type": "markdown",
   "metadata": {},
   "source": [
    "## 변수선택 "
   ]
  },
  {
   "cell_type": "code",
   "execution_count": 39,
   "metadata": {},
   "outputs": [],
   "source": [
    "# concat_new = concat_new[['계약날짜','전세가격지수', '기준금리', '동', 'k-건설사(시공사)', '건축년도', '인구밀도 (명/㎢)', '전용면적(㎡)', '층', 'target', 'is_test']]\n",
    "# cols_drop = ['시군구', '번지', '본번', '부번', '계약년월', '계약일', '도로명', ]"
   ]
  },
  {
   "cell_type": "code",
   "execution_count": 44,
   "metadata": {},
   "outputs": [
    {
     "name": "stdout",
     "output_type": "stream",
     "text": [
      "<class 'pandas.core.frame.DataFrame'>\n",
      "Int64Index: 1133641 entries, 0 to 1133640\n",
      "Data columns (total 48 columns):\n",
      " #   Column                  Non-Null Count    Dtype  \n",
      "---  ------                  --------------    -----  \n",
      " 0   시군구                     1133641 non-null  object \n",
      " 1   번지                      1133414 non-null  object \n",
      " 2   본번                      1133566 non-null  float64\n",
      " 3   부번                      1133566 non-null  float64\n",
      " 4   아파트명                    1131491 non-null  object \n",
      " 5   전용면적(㎡)                 1133641 non-null  float64\n",
      " 6   계약년월                    1133641 non-null  object \n",
      " 7   계약일                     1133641 non-null  int64  \n",
      " 8   층                       1133641 non-null  int64  \n",
      " 9   건축년도                    1133641 non-null  int64  \n",
      " 10  도로명                     1133641 non-null  object \n",
      " 11  k-단지분류(아파트,주상복합등등)      872166 non-null   object \n",
      " 12  k-세대타입(분양형태)            874024 non-null   object \n",
      " 13  k-관리방식                  874024 non-null   object \n",
      " 14  k-복도유형                  873695 non-null   object \n",
      " 15  k-난방방식                  874306 non-null   object \n",
      " 16  k-전체동수                  872448 non-null   float64\n",
      " 17  k-전체세대수                 874617 non-null   float64\n",
      " 18  k-건설사(시공사)              1133641 non-null  object \n",
      " 19  k-시행사                   870272 non-null   object \n",
      " 20  k-사용검사일-사용승인일           874172 non-null   object \n",
      " 21  k-연면적                   874617 non-null   float64\n",
      " 22  k-주거전용면적                873734 non-null   float64\n",
      " 23  k-관리비부과면적               874515 non-null   float64\n",
      " 24  k-전용면적별세대현황(60㎡이하)      873795 non-null   float64\n",
      " 25  k-전용면적별세대현황(60㎡~85㎡이하)  873795 non-null   float64\n",
      " 26  k-85㎡~135㎡이하            873795 non-null   float64\n",
      " 27  k-수정일자                  874014 non-null   object \n",
      " 28  고용보험관리번호                754039 non-null   object \n",
      " 29  경비비관리형태                 871063 non-null   object \n",
      " 30  세대전기계약방법                836836 non-null   object \n",
      " 31  청소비관리형태                 871371 non-null   object \n",
      " 32  건축면적                    866411 non-null   float64\n",
      " 33  주차대수                    871946 non-null   float64\n",
      " 34  기타/의무/임대/임의=1/2/3/4     874617 non-null   object \n",
      " 35  단지승인일                   873407 non-null   object \n",
      " 36  사용허가여부                  874617 non-null   object \n",
      " 37  관리비 업로드                 874617 non-null   object \n",
      " 38  좌표X                     874151 non-null   float64\n",
      " 39  좌표Y                     874151 non-null   float64\n",
      " 40  단지신청일                   1131493 non-null  object \n",
      " 41  target                  1124347 non-null  float64\n",
      " 42  is_test                 1133641 non-null  int64  \n",
      " 43  계약날짜                    1133641 non-null  int64  \n",
      " 44  기준금리                    1133641 non-null  float64\n",
      " 45  전세가격지수                  1133641 non-null  float64\n",
      " 46  동                       1133641 non-null  object \n",
      " 47  인구밀도 (명/㎢)              1133641 non-null  float64\n",
      "dtypes: float64(19), int64(5), object(24)\n",
      "memory usage: 423.8+ MB\n"
     ]
    }
   ],
   "source": [
    "concat_new.info()"
   ]
  },
  {
   "cell_type": "code",
   "execution_count": 45,
   "metadata": {},
   "outputs": [
    {
     "name": "stdout",
     "output_type": "stream",
     "text": [
      "(1124347, 47) (9294, 47)\n"
     ]
    }
   ],
   "source": [
    "# 이제 다시 train과 test dataset을 분할해줍니다. 위에서 제작해 놓았던 is_test 칼럼을 이용합니다.\n",
    "dt_train = concat_new.query('is_test==0')\n",
    "dt_test = concat_new.query('is_test==1')\n",
    "\n",
    "# 이제 is_test 칼럼은 drop해줍니다.\n",
    "dt_train.drop(['is_test'], axis = 1, inplace=True)\n",
    "dt_test.drop(['is_test'], axis = 1, inplace=True)\n",
    "print(dt_train.shape, dt_test.shape)"
   ]
  },
  {
   "cell_type": "code",
   "execution_count": 46,
   "metadata": {},
   "outputs": [],
   "source": [
    "# dt_test의 target은 일단 0으로 임의로 채워주도록 하겠습니다.\n",
    "dt_test['target'] = 0"
   ]
  },
  {
   "cell_type": "code",
   "execution_count": 50,
   "metadata": {},
   "outputs": [
    {
     "name": "stdout",
     "output_type": "stream",
     "text": [
      "연속형 변수: ['시군구', '번지', '본번', '부번', '전용면적(㎡)', '계약일', '층', '건축년도', 'k-전체동수', 'k-전체세대수', 'k-연면적', 'k-주거전용면적', 'k-관리비부과면적', 'k-전용면적별세대현황(60㎡이하)', 'k-전용면적별세대현황(60㎡~85㎡이하)', 'k-85㎡~135㎡이하', '건축면적', '주차대수', '좌표X', '좌표Y', 'target', '계약날짜', '기준금리', '전세가격지수', '인구밀도 (명/㎢)']\n",
      "범주형 변수: ['아파트명', '계약년월', '도로명', 'k-단지분류(아파트,주상복합등등)', 'k-세대타입(분양형태)', 'k-관리방식', 'k-복도유형', 'k-난방방식', 'k-건설사(시공사)', 'k-시행사', 'k-사용검사일-사용승인일', 'k-수정일자', '고용보험관리번호', '경비비관리형태', '세대전기계약방법', '청소비관리형태', '기타/의무/임대/임의=1/2/3/4', '단지승인일', '사용허가여부', '관리비 업로드', '단지신청일', '동']\n"
     ]
    }
   ],
   "source": [
    "# 파생변수 제작으로 추가된 변수들이 존재하기에, 다시한번 연속형과 범주형 칼럼을 분리해주겠습니다.\n",
    "continuous_columns = []\n",
    "categorical_columns = []\n",
    "\n",
    "for column in dt_train.columns:\n",
    "    if pd.api.types.is_numeric_dtype(dt_train[column]):\n",
    "        continuous_columns.append(column)\n",
    "    else:\n",
    "        categorical_columns.append(column)\n",
    "\n",
    "print(\"연속형 변수:\", continuous_columns)\n",
    "print(\"범주형 변수:\", categorical_columns)"
   ]
  },
  {
   "cell_type": "code",
   "execution_count": 51,
   "metadata": {},
   "outputs": [],
   "source": [
    "# 범주형 변수에 대한 보간\n",
    "concat_new[categorical_columns] = concat_new[categorical_columns].fillna('NULL')\n",
    "\n",
    "# 연속형 변수에 대한 보간 (선형 보간)\n",
    "concat_new[continuous_columns] = concat_new[continuous_columns].interpolate(method='linear', axis=0)"
   ]
  },
  {
   "cell_type": "code",
   "execution_count": 60,
   "metadata": {},
   "outputs": [
    {
     "name": "stderr",
     "output_type": "stream",
     "text": [
      "  0%|          | 0/22 [00:00<?, ?it/s]\n"
     ]
    },
    {
     "ename": "TypeError",
     "evalue": "'<' not supported between instances of 'str' and 'float'",
     "output_type": "error",
     "traceback": [
      "\u001b[0;31m---------------------------------------------------------------------------\u001b[0m",
      "\u001b[0;31mTypeError\u001b[0m                                 Traceback (most recent call last)",
      "Cell \u001b[0;32mIn[60], line 17\u001b[0m\n\u001b[1;32m     14\u001b[0m label_encoders[col] \u001b[38;5;241m=\u001b[39m lbl           \u001b[38;5;66;03m# 나중에 후처리를 위해 레이블인코더를 저장해주겠습니다.\u001b[39;00m\n\u001b[1;32m     16\u001b[0m \u001b[38;5;66;03m# Test 데이터에만 존재하는 새로 출현한 데이터를 신규 클래스로 추가해줍니다.\u001b[39;00m\n\u001b[0;32m---> 17\u001b[0m \u001b[38;5;28;01mfor\u001b[39;00m label \u001b[38;5;129;01min\u001b[39;00m \u001b[43mnp\u001b[49m\u001b[38;5;241;43m.\u001b[39;49m\u001b[43munique\u001b[49m\u001b[43m(\u001b[49m\u001b[43mdt_test\u001b[49m\u001b[43m[\u001b[49m\u001b[43mcol\u001b[49m\u001b[43m]\u001b[49m\u001b[43m)\u001b[49m:\n\u001b[1;32m     18\u001b[0m   \u001b[38;5;28;01mif\u001b[39;00m label \u001b[38;5;129;01mnot\u001b[39;00m \u001b[38;5;129;01min\u001b[39;00m lbl\u001b[38;5;241m.\u001b[39mclasses_: \u001b[38;5;66;03m# unseen label 데이터인 경우\u001b[39;00m\n\u001b[1;32m     19\u001b[0m     lbl\u001b[38;5;241m.\u001b[39mclasses_ \u001b[38;5;241m=\u001b[39m np\u001b[38;5;241m.\u001b[39mappend(lbl\u001b[38;5;241m.\u001b[39mclasses_, label) \u001b[38;5;66;03m# 미처리 시 ValueError발생하니 주의하세요!\u001b[39;00m\n",
      "File \u001b[0;32m<__array_function__ internals>:180\u001b[0m, in \u001b[0;36munique\u001b[0;34m(*args, **kwargs)\u001b[0m\n",
      "File \u001b[0;32m/opt/conda/lib/python3.10/site-packages/numpy/lib/arraysetops.py:274\u001b[0m, in \u001b[0;36munique\u001b[0;34m(ar, return_index, return_inverse, return_counts, axis, equal_nan)\u001b[0m\n\u001b[1;32m    272\u001b[0m ar \u001b[38;5;241m=\u001b[39m np\u001b[38;5;241m.\u001b[39masanyarray(ar)\n\u001b[1;32m    273\u001b[0m \u001b[38;5;28;01mif\u001b[39;00m axis \u001b[38;5;129;01mis\u001b[39;00m \u001b[38;5;28;01mNone\u001b[39;00m:\n\u001b[0;32m--> 274\u001b[0m     ret \u001b[38;5;241m=\u001b[39m \u001b[43m_unique1d\u001b[49m\u001b[43m(\u001b[49m\u001b[43mar\u001b[49m\u001b[43m,\u001b[49m\u001b[43m \u001b[49m\u001b[43mreturn_index\u001b[49m\u001b[43m,\u001b[49m\u001b[43m \u001b[49m\u001b[43mreturn_inverse\u001b[49m\u001b[43m,\u001b[49m\u001b[43m \u001b[49m\u001b[43mreturn_counts\u001b[49m\u001b[43m,\u001b[49m\u001b[43m \u001b[49m\n\u001b[1;32m    275\u001b[0m \u001b[43m                    \u001b[49m\u001b[43mequal_nan\u001b[49m\u001b[38;5;241;43m=\u001b[39;49m\u001b[43mequal_nan\u001b[49m\u001b[43m)\u001b[49m\n\u001b[1;32m    276\u001b[0m     \u001b[38;5;28;01mreturn\u001b[39;00m _unpack_tuple(ret)\n\u001b[1;32m    278\u001b[0m \u001b[38;5;66;03m# axis was specified and not None\u001b[39;00m\n",
      "File \u001b[0;32m/opt/conda/lib/python3.10/site-packages/numpy/lib/arraysetops.py:336\u001b[0m, in \u001b[0;36m_unique1d\u001b[0;34m(ar, return_index, return_inverse, return_counts, equal_nan)\u001b[0m\n\u001b[1;32m    334\u001b[0m     aux \u001b[38;5;241m=\u001b[39m ar[perm]\n\u001b[1;32m    335\u001b[0m \u001b[38;5;28;01melse\u001b[39;00m:\n\u001b[0;32m--> 336\u001b[0m     \u001b[43mar\u001b[49m\u001b[38;5;241;43m.\u001b[39;49m\u001b[43msort\u001b[49m\u001b[43m(\u001b[49m\u001b[43m)\u001b[49m\n\u001b[1;32m    337\u001b[0m     aux \u001b[38;5;241m=\u001b[39m ar\n\u001b[1;32m    338\u001b[0m mask \u001b[38;5;241m=\u001b[39m np\u001b[38;5;241m.\u001b[39mempty(aux\u001b[38;5;241m.\u001b[39mshape, dtype\u001b[38;5;241m=\u001b[39mnp\u001b[38;5;241m.\u001b[39mbool_)\n",
      "\u001b[0;31mTypeError\u001b[0m: '<' not supported between instances of 'str' and 'float'"
     ]
    }
   ],
   "source": [
    "# 아래에서 범주형 변수들을 대상으로 레이블인코딩을 진행해 주겠습니다.\n",
    "\n",
    "# 각 변수에 대한 LabelEncoder를 저장할 딕셔너리\n",
    "label_encoders = {}\n",
    "\n",
    "# Implement Label Encoding\n",
    "for col in tqdm( categorical_columns ):\n",
    "    lbl = LabelEncoder()\n",
    "\n",
    "    # Label-Encoding을 fit\n",
    "    lbl.fit( dt_train[col].astype(str) )\n",
    "    dt_train[col] = lbl.transform(dt_train[col].astype(str))\n",
    "    label_encoders[col] = lbl           # 나중에 후처리를 위해 레이블인코더를 저장해주겠습니다.\n",
    "\n",
    "    # Test 데이터에만 존재하는 새로 출현한 데이터를 신규 클래스로 추가해줍니다.\n",
    "    for label in np.unique(dt_test[col]):\n",
    "      if label not in lbl.classes_: # unseen label 데이터인 경우\n",
    "        lbl.classes_ = np.append(lbl.classes_, label) # 미처리 시 ValueError발생하니 주의하세요!\n",
    "\n",
    "    dt_test[col] = lbl.transform(dt_test[col].astype(str))"
   ]
  },
  {
   "cell_type": "code",
   "execution_count": 48,
   "metadata": {},
   "outputs": [
    {
     "data": {
      "text/html": [
       "<div>\n",
       "<style scoped>\n",
       "    .dataframe tbody tr th:only-of-type {\n",
       "        vertical-align: middle;\n",
       "    }\n",
       "\n",
       "    .dataframe tbody tr th {\n",
       "        vertical-align: top;\n",
       "    }\n",
       "\n",
       "    .dataframe thead th {\n",
       "        text-align: right;\n",
       "    }\n",
       "</style>\n",
       "<table border=\"1\" class=\"dataframe\">\n",
       "  <thead>\n",
       "    <tr style=\"text-align: right;\">\n",
       "      <th></th>\n",
       "      <th>계약날짜</th>\n",
       "      <th>전세가격지수</th>\n",
       "      <th>기준금리</th>\n",
       "      <th>동</th>\n",
       "      <th>k-건설사(시공사)</th>\n",
       "      <th>건축년도</th>\n",
       "      <th>인구밀도 (명/㎢)</th>\n",
       "      <th>전용면적(㎡)</th>\n",
       "      <th>층</th>\n",
       "      <th>log_target</th>\n",
       "    </tr>\n",
       "  </thead>\n",
       "  <tbody>\n",
       "    <tr>\n",
       "      <th>0</th>\n",
       "      <td>20171208</td>\n",
       "      <td>92.7</td>\n",
       "      <td>1.5</td>\n",
       "      <td>27</td>\n",
       "      <td>8</td>\n",
       "      <td>1987</td>\n",
       "      <td>11824.116743</td>\n",
       "      <td>79.97</td>\n",
       "      <td>3</td>\n",
       "      <td>11.728045</td>\n",
       "    </tr>\n",
       "  </tbody>\n",
       "</table>\n",
       "</div>"
      ],
      "text/plain": [
       "       계약날짜  전세가격지수  기준금리   동  k-건설사(시공사)  건축년도    인구밀도 (명/㎢)  전용면적(㎡)  층  \\\n",
       "0  20171208    92.7   1.5  27           8  1987  11824.116743    79.97  3   \n",
       "\n",
       "   log_target  \n",
       "0   11.728045  "
      ]
     },
     "execution_count": 48,
     "metadata": {},
     "output_type": "execute_result"
    }
   ],
   "source": [
    "# 가격 로그 변환 후 원래 가격 따로 저장\n",
    "dt_train['log_target'] = np.log1p(dt_train['target'])\n",
    "real_target = dt_train['target'] # 원래 가격\n",
    "dt_train.drop('target', axis=1, inplace=True)\n",
    "dt_train.head(1)"
   ]
  },
  {
   "cell_type": "code",
   "execution_count": 49,
   "metadata": {},
   "outputs": [
    {
     "data": {
      "image/png": "[encoded data removed]",
      "text/plain": [
       "<Figure size 1200x600 with 2 Axes>"
      ]
     },
     "metadata": {},
     "output_type": "display_data"
    }
   ],
   "source": [
    "f, (ax1, ax2) = plt.subplots(1,2,figsize=(12,6))\n",
    "\n",
    "ax1.hist(real_target, bins=30)\n",
    "ax1.set_title('Target Distribution')\n",
    "ax1.set_xlabel('Target')\n",
    "\n",
    "ax2.hist(dt_train['log_target'], bins=30)\n",
    "ax2.set_title('Log Target Distribution')\n",
    "ax2.set_xlabel('Log Target')\n",
    "\n",
    "plt.show()"
   ]
  },
  {
   "cell_type": "code",
   "execution_count": 50,
   "metadata": {},
   "outputs": [],
   "source": [
    "# 오히려 점수 높아짐\n",
    "# dt_train = dt_train[dt_train['계약날짜'] > 20200000]"
   ]
  },
  {
   "cell_type": "code",
   "execution_count": 51,
   "metadata": {},
   "outputs": [
    {
     "name": "stdout",
     "output_type": "stream",
     "text": [
      "(1124347, 9) (1124347,)\n"
     ]
    }
   ],
   "source": [
    "train_X, train_y = dt_train.drop('log_target', axis=1), dt_train['log_target']\n",
    "print(train_X.shape, train_y.shape)"
   ]
  },
  {
   "cell_type": "code",
   "execution_count": 52,
   "metadata": {},
   "outputs": [],
   "source": [
    "dt_test.drop('target', axis=1, inplace=True)"
   ]
  },
  {
   "cell_type": "markdown",
   "metadata": {},
   "source": [
    "## 하이퍼 파라미터 튜닝"
   ]
  },
  {
   "cell_type": "markdown",
   "metadata": {},
   "source": [
    "### 모델별 성능 비교"
   ]
  },
  {
   "cell_type": "code",
   "execution_count": 53,
   "metadata": {},
   "outputs": [],
   "source": [
    "def RMSE(y, y_pred):\n",
    "    rmse = mean_squared_error(y, y_pred) ** 0.5\n",
    "    return rmse"
   ]
  },
  {
   "cell_type": "code",
   "execution_count": 54,
   "metadata": {},
   "outputs": [],
   "source": [
    "def rmse_cv(model):\n",
    "    # cv별로 학습하는 함수\n",
    "    tscv = TimeSeriesSplit(n_splits=10)\n",
    "    rmse_list = []\n",
    "    model_name = model.__class__.__name__\n",
    "    for _, (train_index, test_index) in tqdm(enumerate(tscv.split(train_X), start=1), desc=f'{model_name} Cross Validations...', total=10):\n",
    "        X_train, X_test = train_X.iloc[train_index], train_X.iloc[test_index]\n",
    "        y_train, y_test = train_y.iloc[train_index], train_y.iloc[test_index]\n",
    "        clf = model.fit(X_train, y_train)\n",
    "        pred = clf.predict(X_test)\n",
    "        rmse = RMSE(y_test, pred) \n",
    "        rmse_list.append(rmse)\n",
    "    return model_name, rmse_list"
   ]
  },
  {
   "cell_type": "code",
   "execution_count": 55,
   "metadata": {},
   "outputs": [],
   "source": [
    "def print_rmse_score(model):\n",
    "    # cv별 프린팅, 평균 저장\n",
    "    model_name, score = rmse_cv(model)\n",
    "    for i, r in enumerate(score, start=1):\n",
    "        print(f'{i} FOLDS: {model_name} RMSLE: {r:.4f}')\n",
    "    print(f'\\n{model_name} mean RMSLE: {np.mean(score):.4f}')\n",
    "    print('='*40)\n",
    "    return model_name, np.mean(score)"
   ]
  },
  {
   "cell_type": "code",
   "execution_count": 61,
   "metadata": {},
   "outputs": [],
   "source": [
    "# reg = LinearRegression(n_jobs=-1)\n",
    "# ridge = Ridge(alpha=0.8, random_state=1)\n",
    "# lasso = Lasso(alpha = 0.01, random_state=1)\n",
    "# Enet = ElasticNet(alpha=0.03, l1_ratio=0.01, random_state=1)\n",
    "# DTree = DecisionTreeRegressor(max_depth=6, min_samples_split=10, min_samples_leaf=15, random_state=1)\n",
    "# rf = RandomForestRegressor(n_estimators=500, criterion='squared_error', max_depth=9, min_samples_split=50,\n",
    "#                            min_samples_leaf=5, random_state=1, n_jobs=-1)\n",
    "# model_xgb = xgb.XGBRegressor(n_estimators=500, max_depth=9, min_child_weight=5, gamma=0.1, n_jobs=-1)\n",
    "# model_lgb = lgb.LGBMRegressor(n_estimators=500, max_depth=9, min_child_weight=5, n_jobs=-1)"
   ]
  },
  {
   "cell_type": "code",
   "execution_count": 62,
   "metadata": {},
   "outputs": [
    {
     "name": "stderr",
     "output_type": "stream",
     "text": [
      "LinearRegression Cross Validations...: 100%|██████████| 10/10 [00:02<00:00,  4.33it/s]\n"
     ]
    },
    {
     "name": "stdout",
     "output_type": "stream",
     "text": [
      "1 FOLDS: LinearRegression RMSLE: 0.2760\n",
      "2 FOLDS: LinearRegression RMSLE: 0.2992\n",
      "3 FOLDS: LinearRegression RMSLE: 0.2845\n",
      "4 FOLDS: LinearRegression RMSLE: 0.2571\n",
      "5 FOLDS: LinearRegression RMSLE: 0.2953\n",
      "6 FOLDS: LinearRegression RMSLE: 0.3238\n",
      "7 FOLDS: LinearRegression RMSLE: 0.3175\n",
      "8 FOLDS: LinearRegression RMSLE: 0.3032\n",
      "9 FOLDS: LinearRegression RMSLE: 0.3124\n",
      "10 FOLDS: LinearRegression RMSLE: 0.3023\n",
      "\n",
      "LinearRegression mean RMSLE: 0.2971\n",
      "========================================\n"
     ]
    },
    {
     "name": "stderr",
     "output_type": "stream",
     "text": [
      "Ridge Cross Validations...: 100%|██████████| 10/10 [00:01<00:00,  7.06it/s]\n"
     ]
    },
    {
     "name": "stdout",
     "output_type": "stream",
     "text": [
      "1 FOLDS: Ridge RMSLE: 0.2760\n",
      "2 FOLDS: Ridge RMSLE: 0.2992\n",
      "3 FOLDS: Ridge RMSLE: 0.2845\n",
      "4 FOLDS: Ridge RMSLE: 0.2571\n",
      "5 FOLDS: Ridge RMSLE: 0.2953\n",
      "6 FOLDS: Ridge RMSLE: 0.3238\n",
      "7 FOLDS: Ridge RMSLE: 0.3175\n",
      "8 FOLDS: Ridge RMSLE: 0.3032\n",
      "9 FOLDS: Ridge RMSLE: 0.3124\n",
      "10 FOLDS: Ridge RMSLE: 0.3023\n",
      "\n",
      "Ridge mean RMSLE: 0.2971\n",
      "========================================\n"
     ]
    },
    {
     "name": "stderr",
     "output_type": "stream",
     "text": [
      "Lasso Cross Validations...: 100%|██████████| 10/10 [00:21<00:00,  2.12s/it]\n"
     ]
    },
    {
     "name": "stdout",
     "output_type": "stream",
     "text": [
      "1 FOLDS: Lasso RMSLE: 0.2761\n",
      "2 FOLDS: Lasso RMSLE: 0.2987\n",
      "3 FOLDS: Lasso RMSLE: 0.2855\n",
      "4 FOLDS: Lasso RMSLE: 0.2563\n",
      "5 FOLDS: Lasso RMSLE: 0.2956\n",
      "6 FOLDS: Lasso RMSLE: 0.3244\n",
      "7 FOLDS: Lasso RMSLE: 0.3179\n",
      "8 FOLDS: Lasso RMSLE: 0.3031\n",
      "9 FOLDS: Lasso RMSLE: 0.3129\n",
      "10 FOLDS: Lasso RMSLE: 0.3025\n",
      "\n",
      "Lasso mean RMSLE: 0.2973\n",
      "========================================\n"
     ]
    },
    {
     "name": "stderr",
     "output_type": "stream",
     "text": [
      "ElasticNet Cross Validations...: 100%|██████████| 10/10 [00:25<00:00,  2.54s/it]\n"
     ]
    },
    {
     "name": "stdout",
     "output_type": "stream",
     "text": [
      "1 FOLDS: ElasticNet RMSLE: 0.2760\n",
      "2 FOLDS: ElasticNet RMSLE: 0.2991\n",
      "3 FOLDS: ElasticNet RMSLE: 0.2846\n",
      "4 FOLDS: ElasticNet RMSLE: 0.2570\n",
      "5 FOLDS: ElasticNet RMSLE: 0.2953\n",
      "6 FOLDS: ElasticNet RMSLE: 0.3238\n",
      "7 FOLDS: ElasticNet RMSLE: 0.3175\n",
      "8 FOLDS: ElasticNet RMSLE: 0.3032\n",
      "9 FOLDS: ElasticNet RMSLE: 0.3124\n",
      "10 FOLDS: ElasticNet RMSLE: 0.3023\n",
      "\n",
      "ElasticNet mean RMSLE: 0.2971\n",
      "========================================\n"
     ]
    },
    {
     "name": "stderr",
     "output_type": "stream",
     "text": [
      "DecisionTreeRegressor Cross Validations...: 100%|██████████| 10/10 [00:09<00:00,  1.08it/s]\n"
     ]
    },
    {
     "name": "stdout",
     "output_type": "stream",
     "text": [
      "1 FOLDS: DecisionTreeRegressor RMSLE: 0.3090\n",
      "2 FOLDS: DecisionTreeRegressor RMSLE: 0.2816\n",
      "3 FOLDS: DecisionTreeRegressor RMSLE: 0.2733\n",
      "4 FOLDS: DecisionTreeRegressor RMSLE: 0.2319\n",
      "5 FOLDS: DecisionTreeRegressor RMSLE: 0.2608\n",
      "6 FOLDS: DecisionTreeRegressor RMSLE: 0.3281\n",
      "7 FOLDS: DecisionTreeRegressor RMSLE: 0.3273\n",
      "8 FOLDS: DecisionTreeRegressor RMSLE: 0.2882\n",
      "9 FOLDS: DecisionTreeRegressor RMSLE: 0.2989\n",
      "10 FOLDS: DecisionTreeRegressor RMSLE: 0.2886\n",
      "\n",
      "DecisionTreeRegressor mean RMSLE: 0.2888\n",
      "========================================\n"
     ]
    },
    {
     "name": "stderr",
     "output_type": "stream",
     "text": [
      "RandomForestRegressor Cross Validations...: 100%|██████████| 10/10 [07:46<00:00, 46.66s/it]\n"
     ]
    },
    {
     "name": "stdout",
     "output_type": "stream",
     "text": [
      "1 FOLDS: RandomForestRegressor RMSLE: 0.2700\n",
      "2 FOLDS: RandomForestRegressor RMSLE: 0.2411\n",
      "3 FOLDS: RandomForestRegressor RMSLE: 0.2369\n",
      "4 FOLDS: RandomForestRegressor RMSLE: 0.2179\n",
      "5 FOLDS: RandomForestRegressor RMSLE: 0.2142\n",
      "6 FOLDS: RandomForestRegressor RMSLE: 0.2909\n",
      "7 FOLDS: RandomForestRegressor RMSLE: 0.2821\n",
      "8 FOLDS: RandomForestRegressor RMSLE: 0.2688\n",
      "9 FOLDS: RandomForestRegressor RMSLE: 0.2791\n",
      "10 FOLDS: RandomForestRegressor RMSLE: 0.2587\n",
      "\n",
      "RandomForestRegressor mean RMSLE: 0.2560\n",
      "========================================\n"
     ]
    },
    {
     "name": "stderr",
     "output_type": "stream",
     "text": [
      "XGBRegressor Cross Validations...: 100%|██████████| 10/10 [00:10<00:00,  1.04s/it]\n"
     ]
    },
    {
     "name": "stdout",
     "output_type": "stream",
     "text": [
      "1 FOLDS: XGBRegressor RMSLE: 0.2362\n",
      "2 FOLDS: XGBRegressor RMSLE: 0.2437\n",
      "3 FOLDS: XGBRegressor RMSLE: 0.2119\n",
      "4 FOLDS: XGBRegressor RMSLE: 0.2250\n",
      "5 FOLDS: XGBRegressor RMSLE: 0.1960\n",
      "6 FOLDS: XGBRegressor RMSLE: 0.2870\n",
      "7 FOLDS: XGBRegressor RMSLE: 0.2393\n",
      "8 FOLDS: XGBRegressor RMSLE: 0.2445\n",
      "9 FOLDS: XGBRegressor RMSLE: 0.2657\n",
      "10 FOLDS: XGBRegressor RMSLE: 0.2445\n",
      "\n",
      "XGBRegressor mean RMSLE: 0.2394\n",
      "========================================\n"
     ]
    },
    {
     "name": "stderr",
     "output_type": "stream",
     "text": [
      "LGBMRegressor Cross Validations...:   0%|          | 0/10 [00:00<?, ?it/s]"
     ]
    },
    {
     "name": "stdout",
     "output_type": "stream",
     "text": [
      "[LightGBM] [Warning] Accuracy may be bad since you didn't explicitly set num_leaves OR 2^max_depth > num_leaves. (num_leaves=31).\n",
      "[LightGBM] [Warning] Found whitespace in feature_names, replace with underlines\n",
      "[LightGBM] [Warning] Accuracy may be bad since you didn't explicitly set num_leaves OR 2^max_depth > num_leaves. (num_leaves=31).\n",
      "[LightGBM] [Info] Auto-choosing row-wise multi-threading, the overhead of testing was 0.000758 seconds.\n",
      "You can set `force_row_wise=true` to remove the overhead.\n",
      "And if memory is not enough, you can set `force_col_wise=true`.\n",
      "[LightGBM] [Info] Total Bins 849\n",
      "[LightGBM] [Info] Number of data points in the train set: 102217, number of used features: 9\n",
      "[LightGBM] [Info] Start training from score 11.188228\n",
      "[LightGBM] [Warning] No further splits with positive gain, best gain: -inf\n",
      "[LightGBM] [Warning] Accuracy may be bad since you didn't explicitly set num_leaves OR 2^max_depth > num_leaves. (num_leaves=31).\n"
     ]
    },
    {
     "name": "stderr",
     "output_type": "stream",
     "text": [
      "LGBMRegressor Cross Validations...:  10%|█         | 1/10 [00:00<00:07,  1.13it/s]"
     ]
    },
    {
     "name": "stdout",
     "output_type": "stream",
     "text": [
      "[LightGBM] [Warning] Accuracy may be bad since you didn't explicitly set num_leaves OR 2^max_depth > num_leaves. (num_leaves=31).\n",
      "[LightGBM] [Warning] Found whitespace in feature_names, replace with underlines\n",
      "[LightGBM] [Warning] Accuracy may be bad since you didn't explicitly set num_leaves OR 2^max_depth > num_leaves. (num_leaves=31).\n",
      "[LightGBM] [Info] Auto-choosing row-wise multi-threading, the overhead of testing was 0.000790 seconds.\n",
      "You can set `force_row_wise=true` to remove the overhead.\n",
      "And if memory is not enough, you can set `force_col_wise=true`.\n",
      "[LightGBM] [Info] Total Bins 877\n",
      "[LightGBM] [Info] Number of data points in the train set: 204430, number of used features: 9\n",
      "[LightGBM] [Info] Start training from score 10.907293\n"
     ]
    },
    {
     "name": "stderr",
     "output_type": "stream",
     "text": [
      "LGBMRegressor Cross Validations...:  20%|██        | 2/10 [00:02<00:08,  1.05s/it]"
     ]
    },
    {
     "name": "stdout",
     "output_type": "stream",
     "text": [
      "[LightGBM] [Warning] Accuracy may be bad since you didn't explicitly set num_leaves OR 2^max_depth > num_leaves. (num_leaves=31).\n",
      "[LightGBM] [Warning] Accuracy may be bad since you didn't explicitly set num_leaves OR 2^max_depth > num_leaves. (num_leaves=31).\n",
      "[LightGBM] [Warning] Found whitespace in feature_names, replace with underlines\n",
      "[LightGBM] [Warning] Accuracy may be bad since you didn't explicitly set num_leaves OR 2^max_depth > num_leaves. (num_leaves=31).\n",
      "[LightGBM] [Info] Auto-choosing row-wise multi-threading, the overhead of testing was 0.001391 seconds.\n",
      "You can set `force_row_wise=true` to remove the overhead.\n",
      "And if memory is not enough, you can set `force_col_wise=true`.\n",
      "[LightGBM] [Info] Total Bins 907\n",
      "[LightGBM] [Info] Number of data points in the train set: 306643, number of used features: 9\n",
      "[LightGBM] [Info] Start training from score 10.815320\n"
     ]
    },
    {
     "name": "stderr",
     "output_type": "stream",
     "text": [
      "LGBMRegressor Cross Validations...:  30%|███       | 3/10 [00:03<00:08,  1.26s/it]"
     ]
    },
    {
     "name": "stdout",
     "output_type": "stream",
     "text": [
      "[LightGBM] [Warning] Accuracy may be bad since you didn't explicitly set num_leaves OR 2^max_depth > num_leaves. (num_leaves=31).\n",
      "[LightGBM] [Warning] Accuracy may be bad since you didn't explicitly set num_leaves OR 2^max_depth > num_leaves. (num_leaves=31).\n",
      "[LightGBM] [Warning] Found whitespace in feature_names, replace with underlines\n",
      "[LightGBM] [Warning] Accuracy may be bad since you didn't explicitly set num_leaves OR 2^max_depth > num_leaves. (num_leaves=31).\n",
      "[LightGBM] [Info] Auto-choosing row-wise multi-threading, the overhead of testing was 0.001562 seconds.\n",
      "You can set `force_row_wise=true` to remove the overhead.\n",
      "And if memory is not enough, you can set `force_col_wise=true`.\n",
      "[LightGBM] [Info] Total Bins 925\n",
      "[LightGBM] [Info] Number of data points in the train set: 408856, number of used features: 9\n",
      "[LightGBM] [Info] Start training from score 10.705428\n"
     ]
    },
    {
     "name": "stderr",
     "output_type": "stream",
     "text": [
      "LGBMRegressor Cross Validations...:  40%|████      | 4/10 [00:05<00:08,  1.44s/it]"
     ]
    },
    {
     "name": "stdout",
     "output_type": "stream",
     "text": [
      "[LightGBM] [Warning] Accuracy may be bad since you didn't explicitly set num_leaves OR 2^max_depth > num_leaves. (num_leaves=31).\n",
      "[LightGBM] [Warning] Accuracy may be bad since you didn't explicitly set num_leaves OR 2^max_depth > num_leaves. (num_leaves=31).\n",
      "[LightGBM] [Warning] Found whitespace in feature_names, replace with underlines\n",
      "[LightGBM] [Warning] Accuracy may be bad since you didn't explicitly set num_leaves OR 2^max_depth > num_leaves. (num_leaves=31).\n",
      "[LightGBM] [Info] Auto-choosing row-wise multi-threading, the overhead of testing was 0.001912 seconds.\n",
      "You can set `force_row_wise=true` to remove the overhead.\n",
      "And if memory is not enough, you can set `force_col_wise=true`.\n",
      "[LightGBM] [Info] Total Bins 939\n",
      "[LightGBM] [Info] Number of data points in the train set: 511069, number of used features: 9\n",
      "[LightGBM] [Info] Start training from score 10.618363\n"
     ]
    },
    {
     "name": "stderr",
     "output_type": "stream",
     "text": [
      "LGBMRegressor Cross Validations...:  50%|█████     | 5/10 [00:07<00:08,  1.67s/it]"
     ]
    },
    {
     "name": "stdout",
     "output_type": "stream",
     "text": [
      "[LightGBM] [Warning] Accuracy may be bad since you didn't explicitly set num_leaves OR 2^max_depth > num_leaves. (num_leaves=31).\n",
      "[LightGBM] [Warning] Accuracy may be bad since you didn't explicitly set num_leaves OR 2^max_depth > num_leaves. (num_leaves=31).\n",
      "[LightGBM] [Warning] Found whitespace in feature_names, replace with underlines\n",
      "[LightGBM] [Warning] Accuracy may be bad since you didn't explicitly set num_leaves OR 2^max_depth > num_leaves. (num_leaves=31).\n",
      "[LightGBM] [Info] Auto-choosing row-wise multi-threading, the overhead of testing was 0.002250 seconds.\n",
      "You can set `force_row_wise=true` to remove the overhead.\n",
      "And if memory is not enough, you can set `force_col_wise=true`.\n",
      "[LightGBM] [Info] Total Bins 971\n",
      "[LightGBM] [Info] Number of data points in the train set: 613282, number of used features: 9\n",
      "[LightGBM] [Info] Start training from score 10.626435\n"
     ]
    },
    {
     "name": "stderr",
     "output_type": "stream",
     "text": [
      "LGBMRegressor Cross Validations...:  60%|██████    | 6/10 [00:09<00:07,  1.88s/it]"
     ]
    },
    {
     "name": "stdout",
     "output_type": "stream",
     "text": [
      "[LightGBM] [Warning] Accuracy may be bad since you didn't explicitly set num_leaves OR 2^max_depth > num_leaves. (num_leaves=31).\n",
      "[LightGBM] [Warning] Accuracy may be bad since you didn't explicitly set num_leaves OR 2^max_depth > num_leaves. (num_leaves=31).\n",
      "[LightGBM] [Warning] Found whitespace in feature_names, replace with underlines\n",
      "[LightGBM] [Warning] Accuracy may be bad since you didn't explicitly set num_leaves OR 2^max_depth > num_leaves. (num_leaves=31).\n",
      "[LightGBM] [Info] Auto-choosing row-wise multi-threading, the overhead of testing was 0.004090 seconds.\n",
      "You can set `force_row_wise=true` to remove the overhead.\n",
      "And if memory is not enough, you can set `force_col_wise=true`.\n",
      "[LightGBM] [Info] Total Bins 1024\n",
      "[LightGBM] [Info] Number of data points in the train set: 715495, number of used features: 9\n",
      "[LightGBM] [Info] Start training from score 10.664519\n"
     ]
    },
    {
     "name": "stderr",
     "output_type": "stream",
     "text": [
      "LGBMRegressor Cross Validations...:  70%|███████   | 7/10 [00:12<00:06,  2.15s/it]"
     ]
    },
    {
     "name": "stdout",
     "output_type": "stream",
     "text": [
      "[LightGBM] [Warning] Accuracy may be bad since you didn't explicitly set num_leaves OR 2^max_depth > num_leaves. (num_leaves=31).\n",
      "[LightGBM] [Warning] Accuracy may be bad since you didn't explicitly set num_leaves OR 2^max_depth > num_leaves. (num_leaves=31).\n",
      "[LightGBM] [Warning] Found whitespace in feature_names, replace with underlines\n",
      "[LightGBM] [Warning] Accuracy may be bad since you didn't explicitly set num_leaves OR 2^max_depth > num_leaves. (num_leaves=31).\n",
      "[LightGBM] [Info] Auto-choosing row-wise multi-threading, the overhead of testing was 0.003039 seconds.\n",
      "You can set `force_row_wise=true` to remove the overhead.\n",
      "And if memory is not enough, you can set `force_col_wise=true`.\n",
      "[LightGBM] [Info] Total Bins 1060\n",
      "[LightGBM] [Info] Number of data points in the train set: 817708, number of used features: 9\n",
      "[LightGBM] [Info] Start training from score 10.724128\n"
     ]
    },
    {
     "name": "stderr",
     "output_type": "stream",
     "text": [
      "LGBMRegressor Cross Validations...:  80%|████████  | 8/10 [00:15<00:04,  2.41s/it]"
     ]
    },
    {
     "name": "stdout",
     "output_type": "stream",
     "text": [
      "[LightGBM] [Warning] Accuracy may be bad since you didn't explicitly set num_leaves OR 2^max_depth > num_leaves. (num_leaves=31).\n",
      "[LightGBM] [Warning] Accuracy may be bad since you didn't explicitly set num_leaves OR 2^max_depth > num_leaves. (num_leaves=31).\n",
      "[LightGBM] [Warning] Found whitespace in feature_names, replace with underlines\n",
      "[LightGBM] [Warning] Accuracy may be bad since you didn't explicitly set num_leaves OR 2^max_depth > num_leaves. (num_leaves=31).\n",
      "[LightGBM] [Info] Auto-choosing row-wise multi-threading, the overhead of testing was 0.003407 seconds.\n",
      "You can set `force_row_wise=true` to remove the overhead.\n",
      "And if memory is not enough, you can set `force_col_wise=true`.\n",
      "[LightGBM] [Info] Total Bins 1099\n",
      "[LightGBM] [Info] Number of data points in the train set: 919921, number of used features: 9\n",
      "[LightGBM] [Info] Start training from score 10.751489\n"
     ]
    },
    {
     "name": "stderr",
     "output_type": "stream",
     "text": [
      "LGBMRegressor Cross Validations...:  90%|█████████ | 9/10 [00:18<00:02,  2.66s/it]"
     ]
    },
    {
     "name": "stdout",
     "output_type": "stream",
     "text": [
      "[LightGBM] [Warning] Accuracy may be bad since you didn't explicitly set num_leaves OR 2^max_depth > num_leaves. (num_leaves=31).\n",
      "[LightGBM] [Warning] Accuracy may be bad since you didn't explicitly set num_leaves OR 2^max_depth > num_leaves. (num_leaves=31).\n",
      "[LightGBM] [Warning] Found whitespace in feature_names, replace with underlines\n",
      "[LightGBM] [Warning] Accuracy may be bad since you didn't explicitly set num_leaves OR 2^max_depth > num_leaves. (num_leaves=31).\n",
      "[LightGBM] [Info] Auto-choosing row-wise multi-threading, the overhead of testing was 0.003815 seconds.\n",
      "You can set `force_row_wise=true` to remove the overhead.\n",
      "And if memory is not enough, you can set `force_col_wise=true`.\n",
      "[LightGBM] [Info] Total Bins 1138\n",
      "[LightGBM] [Info] Number of data points in the train set: 1022134, number of used features: 9\n",
      "[LightGBM] [Info] Start training from score 10.761341\n"
     ]
    },
    {
     "name": "stderr",
     "output_type": "stream",
     "text": [
      "LGBMRegressor Cross Validations...: 100%|██████████| 10/10 [00:21<00:00,  2.20s/it]"
     ]
    },
    {
     "name": "stdout",
     "output_type": "stream",
     "text": [
      "[LightGBM] [Warning] Accuracy may be bad since you didn't explicitly set num_leaves OR 2^max_depth > num_leaves. (num_leaves=31).\n",
      "1 FOLDS: LGBMRegressor RMSLE: 0.2285\n",
      "2 FOLDS: LGBMRegressor RMSLE: 0.2263\n",
      "3 FOLDS: LGBMRegressor RMSLE: 0.2088\n",
      "4 FOLDS: LGBMRegressor RMSLE: 0.2161\n",
      "5 FOLDS: LGBMRegressor RMSLE: 0.1794\n",
      "6 FOLDS: LGBMRegressor RMSLE: 0.2999\n",
      "7 FOLDS: LGBMRegressor RMSLE: 0.2266\n",
      "8 FOLDS: LGBMRegressor RMSLE: 0.2256\n",
      "9 FOLDS: LGBMRegressor RMSLE: 0.2304\n",
      "10 FOLDS: LGBMRegressor RMSLE: 0.2377\n",
      "\n",
      "LGBMRegressor mean RMSLE: 0.2279\n",
      "========================================\n"
     ]
    },
    {
     "name": "stderr",
     "output_type": "stream",
     "text": [
      "\n"
     ]
    }
   ],
   "source": [
    "# models = []\n",
    "# scores = []\n",
    "# for model in [reg, ridge, lasso, Enet, DTree, rf, model_xgb, model_lgb]:\n",
    "#     model_name, mean_score = print_rmse_score(model)\n",
    "#     models.append(model_name)\n",
    "#     scores.append(mean_score)"
   ]
  },
  {
   "cell_type": "code",
   "execution_count": 63,
   "metadata": {},
   "outputs": [
    {
     "data": {
      "text/html": [
       "<div>\n",
       "<style scoped>\n",
       "    .dataframe tbody tr th:only-of-type {\n",
       "        vertical-align: middle;\n",
       "    }\n",
       "\n",
       "    .dataframe tbody tr th {\n",
       "        vertical-align: top;\n",
       "    }\n",
       "\n",
       "    .dataframe thead th {\n",
       "        text-align: right;\n",
       "    }\n",
       "</style>\n",
       "<table border=\"1\" class=\"dataframe\">\n",
       "  <thead>\n",
       "    <tr style=\"text-align: right;\">\n",
       "      <th></th>\n",
       "      <th>Model</th>\n",
       "      <th>Score</th>\n",
       "    </tr>\n",
       "  </thead>\n",
       "  <tbody>\n",
       "    <tr>\n",
       "      <th>0</th>\n",
       "      <td>LinearRegression</td>\n",
       "      <td>0.297134</td>\n",
       "    </tr>\n",
       "    <tr>\n",
       "      <th>1</th>\n",
       "      <td>Ridge</td>\n",
       "      <td>0.297134</td>\n",
       "    </tr>\n",
       "    <tr>\n",
       "      <th>2</th>\n",
       "      <td>Lasso</td>\n",
       "      <td>0.297301</td>\n",
       "    </tr>\n",
       "    <tr>\n",
       "      <th>3</th>\n",
       "      <td>ElasticNet</td>\n",
       "      <td>0.297124</td>\n",
       "    </tr>\n",
       "    <tr>\n",
       "      <th>4</th>\n",
       "      <td>DecisionTreeRegressor</td>\n",
       "      <td>0.288771</td>\n",
       "    </tr>\n",
       "    <tr>\n",
       "      <th>5</th>\n",
       "      <td>RandomForestRegressor</td>\n",
       "      <td>0.255955</td>\n",
       "    </tr>\n",
       "    <tr>\n",
       "      <th>6</th>\n",
       "      <td>XGBRegressor</td>\n",
       "      <td>0.239393</td>\n",
       "    </tr>\n",
       "    <tr>\n",
       "      <th>7</th>\n",
       "      <td>LGBMRegressor</td>\n",
       "      <td>0.227927</td>\n",
       "    </tr>\n",
       "  </tbody>\n",
       "</table>\n",
       "</div>"
      ],
      "text/plain": [
       "                   Model     Score\n",
       "0       LinearRegression  0.297134\n",
       "1                  Ridge  0.297134\n",
       "2                  Lasso  0.297301\n",
       "3             ElasticNet  0.297124\n",
       "4  DecisionTreeRegressor  0.288771\n",
       "5  RandomForestRegressor  0.255955\n",
       "6           XGBRegressor  0.239393\n",
       "7          LGBMRegressor  0.227927"
      ]
     },
     "execution_count": 63,
     "metadata": {},
     "output_type": "execute_result"
    }
   ],
   "source": [
    "# result_df = pd.DataFrame({'Model': models, 'Score': scores}).reset_index(drop=True)\n",
    "# result_df"
   ]
  },
  {
   "cell_type": "code",
   "execution_count": 65,
   "metadata": {},
   "outputs": [
    {
     "data": {
      "image/png": "[encoded data removed]",
      "text/plain": [
       "<Figure size 1000x600 with 1 Axes>"
      ]
     },
     "metadata": {},
     "output_type": "display_data"
    }
   ],
   "source": [
    "f, ax = plt.subplots(figsize=(10, 6))\n",
    "plt.xticks(rotation='vertical')\n",
    "sns.barplot(x=result_df['Model'], y=result_df['Score'])\n",
    "plt.xlabel('Models', fontsize=15)\n",
    "plt.ylabel('Model Performance', fontsize=15)\n",
    "plt.ylim(0.22, 0.32)\n",
    "plt.title('RMSLE', fontsize=15)\n",
    "plt.show()"
   ]
  },
  {
   "cell_type": "code",
   "execution_count": null,
   "metadata": {},
   "outputs": [],
   "source": [
    "from sklearn.model_selection import train_test_split"
   ]
  },
  {
   "cell_type": "code",
   "execution_count": 69,
   "metadata": {},
   "outputs": [
    {
     "name": "stdout",
     "output_type": "stream",
     "text": [
      "(899477, 9) (899477,) (224870, 9) (224870,)\n"
     ]
    }
   ],
   "source": [
    "h_train_X, h_valid_X, h_train_y, h_valid_y = train_test_split(train_X, train_y, test_size=0.33, random_state=42)\n",
    "print(h_train_X.shape, h_train_y.shape, h_valid_X.shape, h_valid_y.shape)"
   ]
  },
  {
   "cell_type": "code",
   "execution_count": 74,
   "metadata": {},
   "outputs": [
    {
     "name": "stderr",
     "output_type": "stream",
     "text": [
      "[I 2024-01-22 01:40:42,360] A new study created in memory with name: no-name-0842b423-4ab7-4738-9169-6ffc31bc4857\n",
      "[I 2024-01-22 01:40:58,442] Trial 0 finished with value: 0.6586543915437921 and parameters: {'max_depth': 13, 'learning_rate': 1.3320229150659043e-08, 'n_estimators': 1938, 'min_child_samples': 76, 'subsample': 0.6315909175774905}. Best is trial 0 with value: 0.6586543915437921.\n",
      "[I 2024-01-22 01:41:16,359] Trial 1 finished with value: 0.658478386128041 and parameters: {'max_depth': 5, 'learning_rate': 1.5430400149097381e-07, 'n_estimators': 2306, 'min_child_samples': 21, 'subsample': 0.4337244827306443}. Best is trial 1 with value: 0.658478386128041.\n",
      "[I 2024-01-22 01:41:17,443] Trial 2 finished with value: 0.43131206348705325 and parameters: {'max_depth': 11, 'learning_rate': 0.005252427629146827, 'n_estimators': 111, 'min_child_samples': 54, 'subsample': 0.8422371309477078}. Best is trial 2 with value: 0.43131206348705325.\n",
      "[I 2024-01-22 01:41:25,585] Trial 3 finished with value: 0.5629783237744695 and parameters: {'max_depth': 10, 'learning_rate': 0.00021405821746591817, 'n_estimators': 946, 'min_child_samples': 93, 'subsample': 0.7698715745641292}. Best is trial 2 with value: 0.43131206348705325.\n",
      "[I 2024-01-22 01:41:35,201] Trial 4 finished with value: 0.65862326695162 and parameters: {'max_depth': 10, 'learning_rate': 7.128863277996207e-08, 'n_estimators': 1183, 'min_child_samples': 69, 'subsample': 0.5996296351455978}. Best is trial 2 with value: 0.43131206348705325.\n",
      "[I 2024-01-22 01:41:48,711] Trial 5 finished with value: 0.6179113819337927 and parameters: {'max_depth': 8, 'learning_rate': 5.08864167992051e-05, 'n_estimators': 1588, 'min_child_samples': 67, 'subsample': 0.6938050197112922}. Best is trial 2 with value: 0.43131206348705325.\n",
      "[I 2024-01-22 01:42:11,397] Trial 6 finished with value: 0.6395398006759716 and parameters: {'max_depth': 13, 'learning_rate': 1.3485992516968212e-05, 'n_estimators': 2735, 'min_child_samples': 35, 'subsample': 0.4345676420333751}. Best is trial 2 with value: 0.43131206348705325.\n",
      "[I 2024-01-22 01:42:31,800] Trial 7 finished with value: 0.65860407442463 and parameters: {'max_depth': 6, 'learning_rate': 4.8295444901938926e-08, 'n_estimators': 2504, 'min_child_samples': 9, 'subsample': 0.7100430887666348}. Best is trial 2 with value: 0.43131206348705325.\n",
      "[I 2024-01-22 01:42:37,510] Trial 8 finished with value: 0.43857178594961244 and parameters: {'max_depth': 10, 'learning_rate': 0.0008236106883720722, 'n_estimators': 677, 'min_child_samples': 87, 'subsample': 0.5520731753100153}. Best is trial 2 with value: 0.43131206348705325.\n",
      "[I 2024-01-22 01:42:59,322] Trial 9 finished with value: 0.6578234182034768 and parameters: {'max_depth': 12, 'learning_rate': 5.967195151630884e-07, 'n_estimators': 2664, 'min_child_samples': 36, 'subsample': 0.46529289303849874}. Best is trial 2 with value: 0.43131206348705325.\n",
      "[I 2024-01-22 01:43:00,120] Trial 10 finished with value: 0.41817142337733204 and parameters: {'max_depth': 3, 'learning_rate': 0.007287079614451871, 'n_estimators': 125, 'min_child_samples': 50, 'subsample': 0.9370978022952945}. Best is trial 10 with value: 0.41817142337733204.\n",
      "[I 2024-01-22 01:43:00,965] Trial 11 finished with value: 0.36390103818551955 and parameters: {'max_depth': 3, 'learning_rate': 0.009781360056777894, 'n_estimators': 134, 'min_child_samples': 50, 'subsample': 0.9778082962377218}. Best is trial 11 with value: 0.36390103818551955.\n",
      "[I 2024-01-22 01:43:01,887] Trial 12 finished with value: 0.38040333659777614 and parameters: {'max_depth': 3, 'learning_rate': 0.007773589322284729, 'n_estimators': 151, 'min_child_samples': 46, 'subsample': 0.9989436234186677}. Best is trial 11 with value: 0.36390103818551955.\n",
      "[I 2024-01-22 01:43:04,831] Trial 13 finished with value: 0.5215458651845772 and parameters: {'max_depth': 3, 'learning_rate': 0.0007774822178201122, 'n_estimators': 544, 'min_child_samples': 49, 'subsample': 0.9537507201053227}. Best is trial 11 with value: 0.36390103818551955.\n",
      "[I 2024-01-22 01:43:09,503] Trial 14 finished with value: 0.6582751388006052 and parameters: {'max_depth': 15, 'learning_rate': 1.368831194255526e-06, 'n_estimators': 540, 'min_child_samples': 34, 'subsample': 0.9796365205471653}. Best is trial 11 with value: 0.36390103818551955.\n",
      "[I 2024-01-22 01:43:18,476] Trial 15 finished with value: 0.2748984468410134 and parameters: {'max_depth': 5, 'learning_rate': 0.0014612244189578791, 'n_estimators': 1196, 'min_child_samples': 59, 'subsample': 0.8379610960606707}. Best is trial 15 with value: 0.2748984468410134.\n",
      "[I 2024-01-22 01:43:29,716] Trial 16 finished with value: 0.39819876699321294 and parameters: {'max_depth': 6, 'learning_rate': 0.0005201620776173716, 'n_estimators': 1379, 'min_child_samples': 60, 'subsample': 0.8387686631458968}. Best is trial 15 with value: 0.2748984468410134.\n",
      "[I 2024-01-22 01:43:43,703] Trial 17 finished with value: 0.5968824929680416 and parameters: {'max_depth': 5, 'learning_rate': 6.790663195577398e-05, 'n_estimators': 1867, 'min_child_samples': 79, 'subsample': 0.8454918854124668}. Best is trial 15 with value: 0.2748984468410134.\n",
      "[I 2024-01-22 01:43:52,095] Trial 18 finished with value: 0.23335169285998994 and parameters: {'max_depth': 8, 'learning_rate': 0.0034512962964751456, 'n_estimators': 964, 'min_child_samples': 23, 'subsample': 0.7551738281217693}. Best is trial 18 with value: 0.23335169285998994.\n",
      "[I 2024-01-22 01:44:00,123] Trial 19 finished with value: 0.2843500680119832 and parameters: {'max_depth': 7, 'learning_rate': 0.0016151271893630687, 'n_estimators': 955, 'min_child_samples': 11, 'subsample': 0.7248193949654819}. Best is trial 18 with value: 0.23335169285998994.\n",
      "[I 2024-01-22 01:44:14,336] Trial 20 finished with value: 0.6532101377637858 and parameters: {'max_depth': 8, 'learning_rate': 6.125424702987981e-06, 'n_estimators': 1686, 'min_child_samples': 22, 'subsample': 0.5534573772272844}. Best is trial 18 with value: 0.23335169285998994.\n",
      "[I 2024-01-22 01:44:22,489] Trial 21 finished with value: 0.2779509230145478 and parameters: {'max_depth': 7, 'learning_rate': 0.001724060926238623, 'n_estimators': 949, 'min_child_samples': 5, 'subsample': 0.7401098782588889}. Best is trial 18 with value: 0.23335169285998994.\n",
      "[I 2024-01-22 01:44:32,716] Trial 22 finished with value: 0.23962005376711168 and parameters: {'max_depth': 8, 'learning_rate': 0.002354928842871457, 'n_estimators': 1159, 'min_child_samples': 5, 'subsample': 0.7917356137383065}. Best is trial 18 with value: 0.23335169285998994.\n",
      "[I 2024-01-22 01:44:43,302] Trial 23 finished with value: 0.5789122990832659 and parameters: {'max_depth': 8, 'learning_rate': 0.00012967707814410406, 'n_estimators': 1276, 'min_child_samples': 18, 'subsample': 0.8092642887308649}. Best is trial 18 with value: 0.23335169285998994.\n",
      "[I 2024-01-22 01:44:51,740] Trial 24 finished with value: 0.25024428361821477 and parameters: {'max_depth': 5, 'learning_rate': 0.002205304414520416, 'n_estimators': 1089, 'min_child_samples': 26, 'subsample': 0.6752964416666491}. Best is trial 18 with value: 0.23335169285998994.\n",
      "[I 2024-01-22 01:44:58,517] Trial 25 finished with value: 0.5352008505572717 and parameters: {'max_depth': 9, 'learning_rate': 0.000363309193203308, 'n_estimators': 745, 'min_child_samples': 27, 'subsample': 0.6739751780291228}. Best is trial 18 with value: 0.23335169285998994.\n",
      "[I 2024-01-22 01:45:11,202] Trial 26 finished with value: 0.6437896389958341 and parameters: {'max_depth': 6, 'learning_rate': 1.950703342719865e-05, 'n_estimators': 1468, 'min_child_samples': 16, 'subsample': 0.6414092338025281}. Best is trial 18 with value: 0.23335169285998994.\n",
      "[I 2024-01-22 01:45:20,613] Trial 27 finished with value: 0.23672600866160667 and parameters: {'max_depth': 9, 'learning_rate': 0.0027594391216248524, 'n_estimators': 1064, 'min_child_samples': 26, 'subsample': 0.5618086936668583}. Best is trial 18 with value: 0.23335169285998994.\n",
      "[I 2024-01-22 01:45:23,867] Trial 28 finished with value: 0.287789909596923 and parameters: {'max_depth': 9, 'learning_rate': 0.004145217470794168, 'n_estimators': 361, 'min_child_samples': 11, 'subsample': 0.5729452107775886}. Best is trial 18 with value: 0.23335169285998994.\n",
      "[I 2024-01-22 01:45:41,996] Trial 29 finished with value: 0.45829418630088503 and parameters: {'max_depth': 9, 'learning_rate': 0.0002313500778893689, 'n_estimators': 2117, 'min_child_samples': 40, 'subsample': 0.4780697087371365}. Best is trial 18 with value: 0.23335169285998994.\n",
      "[I 2024-01-22 01:45:56,965] Trial 30 finished with value: 0.6554600409463234 and parameters: {'max_depth': 11, 'learning_rate': 3.4359382820313137e-06, 'n_estimators': 1762, 'min_child_samples': 28, 'subsample': 0.6189750085150246}. Best is trial 18 with value: 0.23335169285998994.\n",
      "[I 2024-01-22 01:46:06,269] Trial 31 finished with value: 0.23905286842017495 and parameters: {'max_depth': 7, 'learning_rate': 0.0025991521066344603, 'n_estimators': 1059, 'min_child_samples': 27, 'subsample': 0.5177433545349364}. Best is trial 18 with value: 0.23335169285998994.\n",
      "[I 2024-01-22 01:46:13,370] Trial 32 finished with value: 0.24912168336412874 and parameters: {'max_depth': 7, 'learning_rate': 0.002892534205805447, 'n_estimators': 793, 'min_child_samples': 15, 'subsample': 0.4976744998689345}. Best is trial 18 with value: 0.23335169285998994.\n",
      "[I 2024-01-22 01:46:22,465] Trial 33 finished with value: 0.34254015168948654 and parameters: {'max_depth': 8, 'learning_rate': 0.0009597873611230688, 'n_estimators': 1053, 'min_child_samples': 41, 'subsample': 0.5247492222324364}. Best is trial 18 with value: 0.23335169285998994.\n",
      "[I 2024-01-22 01:46:35,785] Trial 34 finished with value: 0.22800449314881602 and parameters: {'max_depth': 11, 'learning_rate': 0.0037632968348191684, 'n_estimators': 1417, 'min_child_samples': 5, 'subsample': 0.4111484383347534}. Best is trial 34 with value: 0.22800449314881602.\n",
      "[I 2024-01-22 01:47:02,215] Trial 35 finished with value: 0.22893750043415395 and parameters: {'max_depth': 11, 'learning_rate': 0.0036777019548282176, 'n_estimators': 2985, 'min_child_samples': 23, 'subsample': 0.4168027083028591}. Best is trial 34 with value: 0.22800449314881602.\n",
      "[I 2024-01-22 01:47:20,220] Trial 36 finished with value: 0.5419692543806242 and parameters: {'max_depth': 11, 'learning_rate': 0.00011667404859705454, 'n_estimators': 2175, 'min_child_samples': 22, 'subsample': 0.41823750489665346}. Best is trial 34 with value: 0.22800449314881602.\n",
      "[I 2024-01-22 01:47:32,941] Trial 37 finished with value: 0.6586597717082058 and parameters: {'max_depth': 13, 'learning_rate': 1.0247621894239389e-08, 'n_estimators': 1532, 'min_child_samples': 16, 'subsample': 0.41247354017014404}. Best is trial 34 with value: 0.22800449314881602.\n",
      "[I 2024-01-22 01:47:44,302] Trial 38 finished with value: 0.6364859432546791 and parameters: {'max_depth': 12, 'learning_rate': 3.1774767809458236e-05, 'n_estimators': 1352, 'min_child_samples': 30, 'subsample': 0.4387208143248328}. Best is trial 34 with value: 0.22800449314881602.\n",
      "[I 2024-01-22 01:48:07,649] Trial 39 finished with value: 0.3631698184490459 and parameters: {'max_depth': 10, 'learning_rate': 0.0003155076585094083, 'n_estimators': 2819, 'min_child_samples': 21, 'subsample': 0.4024138346309576}. Best is trial 34 with value: 0.22800449314881602.\n",
      "[I 2024-01-22 01:48:28,377] Trial 40 finished with value: 0.231198864012088 and parameters: {'max_depth': 11, 'learning_rate': 0.005046875968987154, 'n_estimators': 2348, 'min_child_samples': 10, 'subsample': 0.4376583673307852}. Best is trial 34 with value: 0.22800449314881602.\n",
      "[I 2024-01-22 01:48:50,324] Trial 41 finished with value: 0.22939406770916193 and parameters: {'max_depth': 11, 'learning_rate': 0.004290104676446699, 'n_estimators': 2480, 'min_child_samples': 10, 'subsample': 0.4568994911769673}. Best is trial 34 with value: 0.22800449314881602.\n",
      "[I 2024-01-22 01:49:11,925] Trial 42 finished with value: 0.22954593043723567 and parameters: {'max_depth': 12, 'learning_rate': 0.004984509373168584, 'n_estimators': 2466, 'min_child_samples': 10, 'subsample': 0.45007964726488037}. Best is trial 34 with value: 0.22800449314881602.\n",
      "[I 2024-01-22 01:49:37,534] Trial 43 finished with value: 0.2310291357494546 and parameters: {'max_depth': 14, 'learning_rate': 0.005264180141443096, 'n_estimators': 2959, 'min_child_samples': 9, 'subsample': 0.4548082607357947}. Best is trial 34 with value: 0.22800449314881602.\n",
      "[I 2024-01-22 01:50:01,435] Trial 44 finished with value: 0.23269405209811217 and parameters: {'max_depth': 14, 'learning_rate': 0.008835894145331253, 'n_estimators': 2955, 'min_child_samples': 5, 'subsample': 0.46073306792727264}. Best is trial 34 with value: 0.22800449314881602.\n",
      "[I 2024-01-22 01:50:22,993] Trial 45 finished with value: 0.26712149143348685 and parameters: {'max_depth': 12, 'learning_rate': 0.0007119435646427983, 'n_estimators': 2557, 'min_child_samples': 13, 'subsample': 0.4582714179295099}. Best is trial 34 with value: 0.22800449314881602.\n",
      "[I 2024-01-22 01:50:48,249] Trial 46 finished with value: 0.23099680354658578 and parameters: {'max_depth': 14, 'learning_rate': 0.005315389227227003, 'n_estimators': 2915, 'min_child_samples': 9, 'subsample': 0.4866871988403826}. Best is trial 34 with value: 0.22800449314881602.\n",
      "[I 2024-01-22 01:51:09,137] Trial 47 finished with value: 0.2385007118386424 and parameters: {'max_depth': 13, 'learning_rate': 0.0011578616907576425, 'n_estimators': 2409, 'min_child_samples': 18, 'subsample': 0.486516562010878}. Best is trial 34 with value: 0.22800449314881602.\n",
      "[I 2024-01-22 01:51:31,765] Trial 48 finished with value: 0.2334975232726567 and parameters: {'max_depth': 14, 'learning_rate': 0.009927101764697308, 'n_estimators': 2769, 'min_child_samples': 8, 'subsample': 0.4262079123089404}. Best is trial 34 with value: 0.22800449314881602.\n",
      "[I 2024-01-22 01:51:53,125] Trial 49 finished with value: 0.6585725717979227 and parameters: {'max_depth': 15, 'learning_rate': 6.91264449526796e-08, 'n_estimators': 2599, 'min_child_samples': 12, 'subsample': 0.5100549480366325}. Best is trial 34 with value: 0.22800449314881602.\n",
      "[I 2024-01-22 01:52:10,323] Trial 50 finished with value: 0.6581399695428077 and parameters: {'max_depth': 10, 'learning_rate': 4.7471043487495743e-07, 'n_estimators': 2093, 'min_child_samples': 8, 'subsample': 0.4028671962633528}. Best is trial 34 with value: 0.22800449314881602.\n",
      "[I 2024-01-22 01:52:36,148] Trial 51 finished with value: 0.2292115716568826 and parameters: {'max_depth': 14, 'learning_rate': 0.004786273941808792, 'n_estimators': 2995, 'min_child_samples': 18, 'subsample': 0.4504472846933095}. Best is trial 34 with value: 0.22800449314881602.\n",
      "[I 2024-01-22 01:52:59,607] Trial 52 finished with value: 0.6586265588192487 and parameters: {'max_depth': 12, 'learning_rate': 2.7390447696285398e-08, 'n_estimators': 2853, 'min_child_samples': 98, 'subsample': 0.4455275481265938}. Best is trial 34 with value: 0.22800449314881602.\n",
      "[I 2024-01-22 01:53:21,431] Trial 53 finished with value: 0.22976602832083984 and parameters: {'max_depth': 13, 'learning_rate': 0.005013016635133722, 'n_estimators': 2473, 'min_child_samples': 19, 'subsample': 0.4741440871956416}. Best is trial 34 with value: 0.22800449314881602.\n",
      "[I 2024-01-22 01:53:43,825] Trial 54 finished with value: 0.3060775323855459 and parameters: {'max_depth': 13, 'learning_rate': 0.00048368024909127284, 'n_estimators': 2676, 'min_child_samples': 31, 'subsample': 0.4242025099463664}. Best is trial 34 with value: 0.22800449314881602.\n",
      "[I 2024-01-22 01:54:00,805] Trial 55 finished with value: 0.243452996872494 and parameters: {'max_depth': 11, 'learning_rate': 0.0012771190867487895, 'n_estimators': 1977, 'min_child_samples': 20, 'subsample': 0.47350792397675756}. Best is trial 34 with value: 0.22800449314881602.\n",
      "[I 2024-01-22 01:54:21,940] Trial 56 finished with value: 0.22740215282962672 and parameters: {'max_depth': 12, 'learning_rate': 0.005349435626337148, 'n_estimators': 2417, 'min_child_samples': 14, 'subsample': 0.4488397101795788}. Best is trial 56 with value: 0.22740215282962672.\n",
      "[I 2024-01-22 01:54:42,030] Trial 57 finished with value: 0.23077089179356503 and parameters: {'max_depth': 12, 'learning_rate': 0.0017579466654216202, 'n_estimators': 2272, 'min_child_samples': 16, 'subsample': 0.4485930353580722}. Best is trial 56 with value: 0.22740215282962672.\n",
      "[I 2024-01-22 01:55:04,537] Trial 58 finished with value: 0.23255362566326207 and parameters: {'max_depth': 11, 'learning_rate': 0.00638801491935696, 'n_estimators': 2598, 'min_child_samples': 14, 'subsample': 0.41332276008200897}. Best is trial 56 with value: 0.22740215282962672.\n",
      "[I 2024-01-22 01:55:28,488] Trial 59 finished with value: 0.22806125174332012 and parameters: {'max_depth': 10, 'learning_rate': 0.00369391976800364, 'n_estimators': 2696, 'min_child_samples': 5, 'subsample': 0.43128487173160795}. Best is trial 56 with value: 0.22740215282962672.\n",
      "[I 2024-01-22 01:55:51,320] Trial 60 finished with value: 0.2655938691464247 and parameters: {'max_depth': 10, 'learning_rate': 0.0006868615456980383, 'n_estimators': 2696, 'min_child_samples': 5, 'subsample': 0.42308727315717437}. Best is trial 56 with value: 0.22740215282962672.\n",
      "[I 2024-01-22 01:56:16,573] Trial 61 finished with value: 0.2266418331697658 and parameters: {'max_depth': 10, 'learning_rate': 0.003558447020148136, 'n_estimators': 2803, 'min_child_samples': 13, 'subsample': 0.43278073216256735}. Best is trial 61 with value: 0.2266418331697658.\n",
      "[I 2024-01-22 01:56:42,401] Trial 62 finished with value: 0.2263233157107108 and parameters: {'max_depth': 10, 'learning_rate': 0.002890202326425803, 'n_estimators': 2862, 'min_child_samples': 24, 'subsample': 0.43037375113425297}. Best is trial 62 with value: 0.2263233157107108.\n",
      "[I 2024-01-22 01:57:09,107] Trial 63 finished with value: 0.22793097629366096 and parameters: {'max_depth': 10, 'learning_rate': 0.0017607781337695345, 'n_estimators': 2995, 'min_child_samples': 33, 'subsample': 0.4350672121754633}. Best is trial 62 with value: 0.2263233157107108.\n",
      "[I 2024-01-22 01:57:34,488] Trial 64 finished with value: 0.2285168499290672 and parameters: {'max_depth': 10, 'learning_rate': 0.001695659782937465, 'n_estimators': 2867, 'min_child_samples': 24, 'subsample': 0.43205519515811736}. Best is trial 62 with value: 0.2263233157107108.\n",
      "[I 2024-01-22 01:57:59,346] Trial 65 finished with value: 0.22876044529283296 and parameters: {'max_depth': 10, 'learning_rate': 0.0016390840522030527, 'n_estimators': 2845, 'min_child_samples': 34, 'subsample': 0.43367318162434887}. Best is trial 62 with value: 0.2263233157107108.\n",
      "[I 2024-01-22 01:58:23,170] Trial 66 finished with value: 0.23356090036134136 and parameters: {'max_depth': 10, 'learning_rate': 0.0012035190181143274, 'n_estimators': 2753, 'min_child_samples': 41, 'subsample': 0.43750824485545536}. Best is trial 62 with value: 0.2263233157107108.\n",
      "[I 2024-01-22 01:58:47,199] Trial 67 finished with value: 0.28638716470279163 and parameters: {'max_depth': 9, 'learning_rate': 0.0005291749351994828, 'n_estimators': 2866, 'min_child_samples': 72, 'subsample': 0.40533991493729643}. Best is trial 62 with value: 0.2263233157107108.\n",
      "[I 2024-01-22 01:59:12,085] Trial 68 finished with value: 0.22632907934642177 and parameters: {'max_depth': 10, 'learning_rate': 0.0023730959181993854, 'n_estimators': 2742, 'min_child_samples': 24, 'subsample': 0.5328441907266959}. Best is trial 62 with value: 0.2263233157107108.\n",
      "[I 2024-01-22 01:59:35,479] Trial 69 finished with value: 0.22676693232052197 and parameters: {'max_depth': 9, 'learning_rate': 0.0025627572871600823, 'n_estimators': 2632, 'min_child_samples': 37, 'subsample': 0.4719210546962126}. Best is trial 62 with value: 0.2263233157107108.\n",
      "[I 2024-01-22 01:59:57,273] Trial 70 finished with value: 0.5117371992546288 and parameters: {'max_depth': 9, 'learning_rate': 0.00012584287049147117, 'n_estimators': 2637, 'min_child_samples': 37, 'subsample': 0.5286626402231324}. Best is trial 62 with value: 0.2263233157107108.\n",
      "[I 2024-01-22 02:00:22,366] Trial 71 finished with value: 0.22629716198369434 and parameters: {'max_depth': 9, 'learning_rate': 0.002705126064135981, 'n_estimators': 2754, 'min_child_samples': 46, 'subsample': 0.5007258581127215}. Best is trial 71 with value: 0.22629716198369434.\n",
      "[I 2024-01-22 02:00:46,861] Trial 72 finished with value: 0.22669346264694792 and parameters: {'max_depth': 9, 'learning_rate': 0.0026144451989936054, 'n_estimators': 2769, 'min_child_samples': 55, 'subsample': 0.49451260338553554}. Best is trial 71 with value: 0.22629716198369434.\n",
      "[I 2024-01-22 02:01:11,226] Trial 73 finished with value: 0.22689699906093647 and parameters: {'max_depth': 9, 'learning_rate': 0.0021367464123863006, 'n_estimators': 2767, 'min_child_samples': 55, 'subsample': 0.5399781894859692}. Best is trial 71 with value: 0.22629716198369434.\n",
      "[I 2024-01-22 02:01:35,486] Trial 74 finished with value: 0.22678971239950085 and parameters: {'max_depth': 9, 'learning_rate': 0.0029228768817419356, 'n_estimators': 2744, 'min_child_samples': 59, 'subsample': 0.5406916025669036}. Best is trial 71 with value: 0.22629716198369434.\n",
      "[I 2024-01-22 02:02:01,380] Trial 75 finished with value: 0.22662336109779246 and parameters: {'max_depth': 9, 'learning_rate': 0.0026071726853785704, 'n_estimators': 2760, 'min_child_samples': 58, 'subsample': 0.5387895788072318}. Best is trial 71 with value: 0.22629716198369434.\n",
      "[I 2024-01-22 02:02:22,946] Trial 76 finished with value: 0.24795925475539635 and parameters: {'max_depth': 8, 'learning_rate': 0.0009197393129059235, 'n_estimators': 2542, 'min_child_samples': 61, 'subsample': 0.5832604292320732}. Best is trial 71 with value: 0.22629716198369434.\n",
      "[I 2024-01-22 02:02:41,723] Trial 77 finished with value: 0.42610750824990945 and parameters: {'max_depth': 8, 'learning_rate': 0.0002668144632229232, 'n_estimators': 2263, 'min_child_samples': 65, 'subsample': 0.5020359113785703}. Best is trial 71 with value: 0.22629716198369434.\n",
      "[I 2024-01-22 02:03:06,611] Trial 78 finished with value: 0.22662211527941697 and parameters: {'max_depth': 9, 'learning_rate': 0.002758133764590473, 'n_estimators': 2778, 'min_child_samples': 47, 'subsample': 0.5525944988412926}. Best is trial 71 with value: 0.22629716198369434.\n",
      "[I 2024-01-22 02:03:28,557] Trial 79 finished with value: 0.2333428438974908 and parameters: {'max_depth': 9, 'learning_rate': 0.007470319999760046, 'n_estimators': 2632, 'min_child_samples': 46, 'subsample': 0.6115560611343213}. Best is trial 71 with value: 0.22629716198369434.\n",
      "[I 2024-01-22 02:03:51,889] Trial 80 finished with value: 0.3231601901288365 and parameters: {'max_depth': 8, 'learning_rate': 0.0004121803100626541, 'n_estimators': 2782, 'min_child_samples': 53, 'subsample': 0.5802058811589705}. Best is trial 71 with value: 0.22629716198369434.\n",
      "[I 2024-01-22 02:04:16,169] Trial 81 finished with value: 0.22644689878599766 and parameters: {'max_depth': 9, 'learning_rate': 0.002605351889829302, 'n_estimators': 2709, 'min_child_samples': 46, 'subsample': 0.5520033252552494}. Best is trial 71 with value: 0.22629716198369434.\n",
      "[I 2024-01-22 02:04:42,258] Trial 82 finished with value: 0.22688988933585189 and parameters: {'max_depth': 9, 'learning_rate': 0.0025197983804616892, 'n_estimators': 2902, 'min_child_samples': 46, 'subsample': 0.558417288837982}. Best is trial 71 with value: 0.22629716198369434.\n",
      "[I 2024-01-22 02:05:03,691] Trial 83 finished with value: 0.24631232657378616 and parameters: {'max_depth': 10, 'learning_rate': 0.0009430351375457678, 'n_estimators': 2544, 'min_child_samples': 39, 'subsample': 0.5374944291651612}. Best is trial 71 with value: 0.22629716198369434.\n",
      "[I 2024-01-22 02:05:28,018] Trial 84 finished with value: 0.22567953325363155 and parameters: {'max_depth': 8, 'learning_rate': 0.002986900069055169, 'n_estimators': 2798, 'min_child_samples': 49, 'subsample': 0.5093682193591069}. Best is trial 84 with value: 0.22567953325363155.\n",
      "[I 2024-01-22 02:05:51,138] Trial 85 finished with value: 0.27752553513685063 and parameters: {'max_depth': 7, 'learning_rate': 0.0006073891326923239, 'n_estimators': 2703, 'min_child_samples': 50, 'subsample': 0.5113596379342084}. Best is trial 84 with value: 0.22567953325363155.\n",
      "[I 2024-01-22 02:06:14,573] Trial 86 finished with value: 0.23393534295014143 and parameters: {'max_depth': 8, 'learning_rate': 0.007188087416989614, 'n_estimators': 2814, 'min_child_samples': 44, 'subsample': 0.4888786447788094}. Best is trial 84 with value: 0.22567953325363155.\n",
      "[I 2024-01-22 02:06:40,324] Trial 87 finished with value: 0.22758385844496415 and parameters: {'max_depth': 9, 'learning_rate': 0.0035749712679324867, 'n_estimators': 2917, 'min_child_samples': 56, 'subsample': 0.6443876994239796}. Best is trial 84 with value: 0.22567953325363155.\n",
      "[I 2024-01-22 02:07:01,399] Trial 88 finished with value: 0.24068828347488694 and parameters: {'max_depth': 8, 'learning_rate': 0.0011144420087142728, 'n_estimators': 2396, 'min_child_samples': 48, 'subsample': 0.5723931389610497}. Best is trial 84 with value: 0.22567953325363155.\n",
      "[I 2024-01-22 02:07:26,498] Trial 89 finished with value: 0.22678879692686493 and parameters: {'max_depth': 9, 'learning_rate': 0.0021657706510465166, 'n_estimators': 2807, 'min_child_samples': 52, 'subsample': 0.5216572363206663}. Best is trial 84 with value: 0.22567953325363155.\n",
      "[I 2024-01-22 02:07:47,405] Trial 90 finished with value: 0.6457287940433972 and parameters: {'max_depth': 7, 'learning_rate': 9.684418868726455e-06, 'n_estimators': 2553, 'min_child_samples': 64, 'subsample': 0.507891919265334}. Best is trial 84 with value: 0.22567953325363155.\n",
      "[I 2024-01-22 02:08:10,751] Trial 91 finished with value: 0.22655848523303476 and parameters: {'max_depth': 9, 'learning_rate': 0.0030519755034109633, 'n_estimators': 2622, 'min_child_samples': 43, 'subsample': 0.4971049537473959}. Best is trial 84 with value: 0.22567953325363155.\n",
      "[I 2024-01-22 02:08:27,975] Trial 92 finished with value: 0.23367783626951072 and parameters: {'max_depth': 4, 'learning_rate': 0.0029702049466230882, 'n_estimators': 2702, 'min_child_samples': 44, 'subsample': 0.49662701117859864}. Best is trial 84 with value: 0.22567953325363155.\n",
      "[I 2024-01-22 02:08:51,224] Trial 93 finished with value: 0.23400390604039392 and parameters: {'max_depth': 10, 'learning_rate': 0.009507276884586788, 'n_estimators': 2878, 'min_child_samples': 56, 'subsample': 0.5522342681045252}. Best is trial 84 with value: 0.22567953325363155.\n",
      "[I 2024-01-22 02:09:15,492] Trial 94 finished with value: 0.2300394380910762 and parameters: {'max_depth': 8, 'learning_rate': 0.001452772880336722, 'n_estimators': 2771, 'min_child_samples': 51, 'subsample': 0.59553276992932}. Best is trial 84 with value: 0.22567953325363155.\n",
      "[I 2024-01-22 02:09:39,799] Trial 95 finished with value: 0.2304599960274649 and parameters: {'max_depth': 9, 'learning_rate': 0.006494717329374542, 'n_estimators': 2922, 'min_child_samples': 43, 'subsample': 0.5341442925093868}. Best is trial 84 with value: 0.22567953325363155.\n",
      "[I 2024-01-22 02:10:03,146] Trial 96 finished with value: 0.22714549994210362 and parameters: {'max_depth': 10, 'learning_rate': 0.002150566608119768, 'n_estimators': 2616, 'min_child_samples': 48, 'subsample': 0.5668055636753105}. Best is trial 84 with value: 0.22567953325363155.\n",
      "[I 2024-01-22 02:10:25,394] Trial 97 finished with value: 0.22682585277168882 and parameters: {'max_depth': 9, 'learning_rate': 0.003548329267432311, 'n_estimators': 2495, 'min_child_samples': 62, 'subsample': 0.4917228948941674}. Best is trial 84 with value: 0.22567953325363155.\n",
      "[I 2024-01-22 02:10:49,769] Trial 98 finished with value: 0.24834870709975887 and parameters: {'max_depth': 8, 'learning_rate': 0.0008231914949079758, 'n_estimators': 2825, 'min_child_samples': 58, 'subsample': 0.517879707291274}. Best is trial 84 with value: 0.22567953325363155.\n",
      "[I 2024-01-22 02:11:13,908] Trial 99 finished with value: 0.22739274317917277 and parameters: {'max_depth': 10, 'learning_rate': 0.0037484402709186083, 'n_estimators': 2712, 'min_child_samples': 54, 'subsample': 0.48151141179387635}. Best is trial 84 with value: 0.22567953325363155.\n"
     ]
    }
   ],
   "source": [
    "from optuna.samplers import TPESampler\n",
    "\n",
    "sampler = TPESampler(seed=10)\n",
    "\n",
    "def objective(trial):\n",
    "    dtrain = lgb.Dataset(h_train_X, label=h_train_y)\n",
    "    dtest = lgb.Dataset(h_valid_X, label=h_valid_y)\n",
    "\n",
    "    param = {\n",
    "        'objective': 'regression', # 회귀\n",
    "        'verbose': -1,\n",
    "        'metric': 'rmse', \n",
    "        'max_depth': trial.suggest_int('max_depth',3, 15),\n",
    "        'learning_rate': trial.suggest_loguniform(\"learning_rate\", 1e-8, 1e-2),\n",
    "        'n_estimators': trial.suggest_int('n_estimators', 100, 3000),\n",
    "        'min_child_samples': trial.suggest_int('min_child_samples', 5, 100),\n",
    "        'subsample': trial.suggest_loguniform('subsample', 0.4, 1),\n",
    "    }\n",
    "\n",
    "    model = lgb.LGBMRegressor(**param)\n",
    "    lgb_model = model.fit(h_train_X, h_train_y, eval_set=[(h_valid_X, h_valid_y)])\n",
    "    rmse = RMSE(h_valid_y, lgb_model.predict(h_valid_X))\n",
    "    return rmse\n",
    "        \n",
    "study_lgb = optuna.create_study(direction='minimize', sampler=sampler)\n",
    "study_lgb.optimize(objective, n_trials=100)"
   ]
  },
  {
   "cell_type": "code",
   "execution_count": 75,
   "metadata": {},
   "outputs": [
    {
     "name": "stdout",
     "output_type": "stream",
     "text": [
      "Best Trial: score 0.22567953325363155,\n",
      "params {'max_depth': 8, 'learning_rate': 0.002986900069055169, 'n_estimators': 2798, 'min_child_samples': 49, 'subsample': 0.5093682193591069}\n"
     ]
    }
   ],
   "source": [
    "trial = study_lgb.best_trial\n",
    "trial_params = trial.params\n",
    "print('Best Trial: score {},\\nparams {}'.format(trial.value, trial_params))"
   ]
  },
  {
   "cell_type": "markdown",
   "metadata": {},
   "source": [
    "## 모델 돌려보기"
   ]
  },
  {
   "cell_type": "code",
   "execution_count": 77,
   "metadata": {},
   "outputs": [
    {
     "name": "stdout",
     "output_type": "stream",
     "text": [
      "[LightGBM] [Warning] Accuracy may be bad since you didn't explicitly set num_leaves OR 2^max_depth > num_leaves. (num_leaves=31).\n",
      "[LightGBM] [Warning] Found whitespace in feature_names, replace with underlines\n",
      "[LightGBM] [Warning] Accuracy may be bad since you didn't explicitly set num_leaves OR 2^max_depth > num_leaves. (num_leaves=31).\n",
      "[LightGBM] [Info] Auto-choosing row-wise multi-threading, the overhead of testing was 0.004191 seconds.\n",
      "You can set `force_row_wise=true` to remove the overhead.\n",
      "And if memory is not enough, you can set `force_col_wise=true`.\n",
      "[LightGBM] [Info] Total Bins 1241\n",
      "[LightGBM] [Info] Number of data points in the train set: 1124347, number of used features: 9\n",
      "[LightGBM] [Info] Start training from score 10.749419\n"
     ]
    },
    {
     "name": "stdout",
     "output_type": "stream",
     "text": [
      "[LightGBM] [Warning] Accuracy may be bad since you didn't explicitly set num_leaves OR 2^max_depth > num_leaves. (num_leaves=31).\n"
     ]
    }
   ],
   "source": [
    "final_lgb_model = lgb.LGBMRegressor(**trial_params)\n",
    "final_lgb_model.fit(train_X, train_y)\n",
    "final_lgb_pred = final_lgb_model.predict(dt_test)"
   ]
  },
  {
   "cell_type": "code",
   "execution_count": 78,
   "metadata": {},
   "outputs": [
    {
     "data": {
      "text/plain": [
       "array([184545.25576603, 258985.51467183, 191282.0904814 , ...,\n",
       "        18742.69393451,  27106.95090916,  77848.28773507])"
      ]
     },
     "execution_count": 78,
     "metadata": {},
     "output_type": "execute_result"
    }
   ],
   "source": [
    "pred_sub = np.expm1(final_lgb_pred)\n",
    "pred_sub"
   ]
  },
  {
   "cell_type": "code",
   "execution_count": 80,
   "metadata": {},
   "outputs": [
    {
     "data": {
      "text/plain": [
       "<BarContainer object of 9 artists>"
      ]
     },
     "execution_count": 80,
     "metadata": {},
     "output_type": "execute_result"
    },
    {
     "data": {
      "image/png": "[encoded data removed]",
      "text/plain": [
       "<Figure size 640x480 with 1 Axes>"
      ]
     },
     "metadata": {},
     "output_type": "display_data"
    }
   ],
   "source": [
    "plt.barh(train_X.columns, final_lgb_model.feature_importances_)"
   ]
  },
  {
   "cell_type": "code",
   "execution_count": 79,
   "metadata": {},
   "outputs": [],
   "source": [
    "pd.DataFrame(pred_sub.astype(int), columns=[\"target\"]).to_csv('sub.csv', index=False)"
   ]
  },
  {
   "cell_type": "code",
   "execution_count": null,
   "metadata": {},
   "outputs": [
    {
     "name": "stdout",
     "output_type": "stream",
     "text": [
      "[LightGBM] [Warning] Found whitespace in feature_names, replace with underlines\n",
      "[LightGBM] [Info] Auto-choosing row-wise multi-threading, the overhead of testing was 0.001181 seconds.\n",
      "You can set `force_row_wise=true` to remove the overhead.\n",
      "And if memory is not enough, you can set `force_col_wise=true`.\n",
      "[LightGBM] [Info] Total Bins 1122\n",
      "[LightGBM] [Info] Number of data points in the train set: 157434, number of used features: 9\n",
      "[LightGBM] [Info] Start training from score 11.228577\n"
     ]
    },
    {
     "data": {
      "text/plain": [
       "array([196561.07204421, 298566.10485355, 209399.96808015, ...,\n",
       "        16391.63262673,  22038.20735366, 109595.57731075])"
      ]
     },
     "execution_count": 135,
     "metadata": {},
     "output_type": "execute_result"
    }
   ],
   "source": [
    "# pred = lgb.LGBMRegressor().fit(train_X, train_y).predict(dt_test)\n",
    "# pred_sub = np.expm1(pred)\n",
    "# pred_sub\n"
   ]
  },
  {
   "cell_type": "code",
   "execution_count": null,
   "metadata": {},
   "outputs": [],
   "source": [
    "# pd.DataFrame(pred_sub.astype(int), columns=[\"target\"]).to_csv('sub.csv', index=False)"
   ]
  }
 ],
 "metadata": {
  "kernelspec": {
   "display_name": "base",
   "language": "python",
   "name": "python3"
  },
  "language_info": {
   "codemirror_mode": {
    "name": "ipython",
    "version": 3
   },
   "file_extension": ".py",
   "mimetype": "text/x-python",
   "name": "python",
   "nbconvert_exporter": "python",
   "pygments_lexer": "ipython3",
   "version": "3.10.13"
  }
 },
 "nbformat": 4,
 "nbformat_minor": 2
}
