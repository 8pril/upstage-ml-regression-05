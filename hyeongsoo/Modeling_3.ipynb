{
 "cells": [
  {
   "cell_type": "code",
   "execution_count": 1,
   "metadata": {},
   "outputs": [],
   "source": [
    "import matplotlib.pyplot as plt\n",
    "import seaborn as sns\n",
    "import pandas as pd\n",
    "import numpy as np\n",
    "import warnings;warnings.filterwarnings('ignore')\n",
    "import matplotlib.font_manager as fm\n",
    "fe = fm.FontEntry(\n",
    "    fname=r'/usr/share/fonts/truetype/nanum/NanumGothic.ttf', # ttf 파일이 저장되어 있는 경로\n",
    "    name='NanumBarunGothic')                        # 이 폰트의 원하는 이름 설정\n",
    "fm.fontManager.ttflist.insert(0, fe)              # Matplotlib에 폰트 추가\n",
    "plt.rcParams.update({'font.size': 10, 'font.family': 'NanumBarunGothic'}) # 폰트 설정\n",
    "plt.rc('font', family='NanumBarunGothic')\n",
    "\n",
    "from tqdm import tqdm\n",
    "import pickle\n",
    "import warnings;warnings.filterwarnings('ignore')\n",
    "\n",
    "import lightgbm as lgb\n",
    "import xgboost as xgb\n",
    "from sklearn.linear_model import LinearRegression, ElasticNet, Lasso, Ridge\n",
    "from sklearn.tree import DecisionTreeRegressor\n",
    "from sklearn.ensemble import RandomForestRegressor\n",
    "from sklearn.model_selection import TimeSeriesSplit\n",
    "from sklearn.metrics import mean_squared_error\n",
    "from sklearn.preprocessing import  LabelEncoder\n",
    "\n",
    "import optuna"
   ]
  },
  {
   "cell_type": "code",
   "execution_count": 2,
   "metadata": {},
   "outputs": [],
   "source": [
    "train_path = './train.csv'\n",
    "test_path  = './test.csv'\n",
    "train = pd.read_csv(train_path)\n",
    "test = pd.read_csv(test_path)"
   ]
  },
  {
   "cell_type": "code",
   "execution_count": 3,
   "metadata": {},
   "outputs": [],
   "source": [
    "train['is_test'] = 0\n",
    "test['is_test'] = 1\n",
    "concat = pd.concat([train, test])"
   ]
  },
  {
   "cell_type": "markdown",
   "metadata": {},
   "source": [
    "# 기준금리 추가하기"
   ]
  },
  {
   "cell_type": "code",
   "execution_count": 4,
   "metadata": {},
   "outputs": [],
   "source": [
    "base_rate_path  = './기준금리.csv'\n",
    "base_rate_df = pd.read_csv(base_rate_path)"
   ]
  },
  {
   "cell_type": "code",
   "execution_count": 5,
   "metadata": {},
   "outputs": [],
   "source": [
    "# 월일 변수를 월과 일로 나누어주고 년 월 일을 합쳐 날짜를 8자리 정수로 표현하기\n",
    "base_rate_df['년'] = base_rate_df['년'].map(lambda x: str(x))\n",
    "base_rate_df['월'] = base_rate_df['월일'].map(lambda x : x[:2])\n",
    "base_rate_df['일'] = base_rate_df['월일'].map(lambda x : x[4:6])\n",
    "base_rate_df['날짜'] = base_rate_df['년'] + base_rate_df['월'] + base_rate_df['일']\n",
    "base_rate_df['날짜'] = base_rate_df['날짜'].map(lambda x: int(x))\n",
    "base_rate_df = base_rate_df[['날짜', '기준금리']]"
   ]
  },
  {
   "cell_type": "code",
   "execution_count": 6,
   "metadata": {},
   "outputs": [],
   "source": [
    "# concat에 계약년월과 계약일을 합쳐 계약날짜 변수 생성 (8자리 정수)\n",
    "concat['계약날짜'] = concat['계약년월'] * 100 + concat['계약일']"
   ]
  },
  {
   "cell_type": "code",
   "execution_count": 7,
   "metadata": {},
   "outputs": [],
   "source": [
    "# concat의 '계약날짜' 값에 따라 '기준금리'를 반환해주는 함수.\n",
    "def date_to_rate(date):\n",
    "    for i in range(54, 0, -1): # 기준금리 데이터의 마지막 인덱스(54)에서 하나씩 올라가며 날짜를 비교하면서 기준금리 확인\n",
    "        if date >= base_rate_df['날짜'][i] and date <base_rate_df['날짜'][i - 1]:\n",
    "            return base_rate_df['기준금리'][i]\n",
    "    return base_rate_df['기준금리'][0] # 날짜(date)가 기준금리 데이터의 가장 최신 날짜보다 같거나 크다면 가장 최신 기준금리 반환\n",
    "\n",
    "# 예:\n",
    "# date_to_rate(20211126)\n",
    "# 1.0"
   ]
  },
  {
   "cell_type": "code",
   "execution_count": 8,
   "metadata": {},
   "outputs": [],
   "source": [
    "# concat_new에 기준금리 변수 추가\n",
    "concat['기준금리'] = concat['계약날짜'].apply(date_to_rate)"
   ]
  },
  {
   "cell_type": "code",
   "execution_count": 9,
   "metadata": {},
   "outputs": [],
   "source": [
    "# '기준금리'열의 데이터 형식을 float로 변경\n",
    "concat['기준금리'] = concat['기준금리'].astype(float)"
   ]
  },
  {
   "cell_type": "code",
   "execution_count": 10,
   "metadata": {},
   "outputs": [
    {
     "data": {
      "text/html": [
       "<div>\n",
       "<style scoped>\n",
       "    .dataframe tbody tr th:only-of-type {\n",
       "        vertical-align: middle;\n",
       "    }\n",
       "\n",
       "    .dataframe tbody tr th {\n",
       "        vertical-align: top;\n",
       "    }\n",
       "\n",
       "    .dataframe thead th {\n",
       "        text-align: right;\n",
       "    }\n",
       "</style>\n",
       "<table border=\"1\" class=\"dataframe\">\n",
       "  <thead>\n",
       "    <tr style=\"text-align: right;\">\n",
       "      <th></th>\n",
       "      <th>계약날짜</th>\n",
       "      <th>기준금리</th>\n",
       "    </tr>\n",
       "  </thead>\n",
       "  <tbody>\n",
       "    <tr>\n",
       "      <th>0</th>\n",
       "      <td>20171208</td>\n",
       "      <td>1.5</td>\n",
       "    </tr>\n",
       "    <tr>\n",
       "      <th>1</th>\n",
       "      <td>20171222</td>\n",
       "      <td>1.5</td>\n",
       "    </tr>\n",
       "    <tr>\n",
       "      <th>2</th>\n",
       "      <td>20171228</td>\n",
       "      <td>1.5</td>\n",
       "    </tr>\n",
       "    <tr>\n",
       "      <th>3</th>\n",
       "      <td>20180103</td>\n",
       "      <td>1.5</td>\n",
       "    </tr>\n",
       "    <tr>\n",
       "      <th>4</th>\n",
       "      <td>20180108</td>\n",
       "      <td>1.5</td>\n",
       "    </tr>\n",
       "    <tr>\n",
       "      <th>...</th>\n",
       "      <td>...</td>\n",
       "      <td>...</td>\n",
       "    </tr>\n",
       "    <tr>\n",
       "      <th>9267</th>\n",
       "      <td>20230719</td>\n",
       "      <td>3.5</td>\n",
       "    </tr>\n",
       "    <tr>\n",
       "      <th>9268</th>\n",
       "      <td>20230725</td>\n",
       "      <td>3.5</td>\n",
       "    </tr>\n",
       "    <tr>\n",
       "      <th>9269</th>\n",
       "      <td>20230827</td>\n",
       "      <td>3.5</td>\n",
       "    </tr>\n",
       "    <tr>\n",
       "      <th>9270</th>\n",
       "      <td>20230902</td>\n",
       "      <td>3.5</td>\n",
       "    </tr>\n",
       "    <tr>\n",
       "      <th>9271</th>\n",
       "      <td>20230904</td>\n",
       "      <td>3.5</td>\n",
       "    </tr>\n",
       "  </tbody>\n",
       "</table>\n",
       "<p>1128094 rows × 2 columns</p>\n",
       "</div>"
      ],
      "text/plain": [
       "          계약날짜  기준금리\n",
       "0     20171208   1.5\n",
       "1     20171222   1.5\n",
       "2     20171228   1.5\n",
       "3     20180103   1.5\n",
       "4     20180108   1.5\n",
       "...        ...   ...\n",
       "9267  20230719   3.5\n",
       "9268  20230725   3.5\n",
       "9269  20230827   3.5\n",
       "9270  20230902   3.5\n",
       "9271  20230904   3.5\n",
       "\n",
       "[1128094 rows x 2 columns]"
      ]
     },
     "execution_count": 10,
     "metadata": {},
     "output_type": "execute_result"
    }
   ],
   "source": [
    "# 추가된 변수 확인\n",
    "concat[['계약날짜', '기준금리']]"
   ]
  },
  {
   "cell_type": "markdown",
   "metadata": {},
   "source": [
    "# 전세가격지수 추가하기"
   ]
  },
  {
   "cell_type": "code",
   "execution_count": 11,
   "metadata": {},
   "outputs": [],
   "source": [
    "jeonsae_path  = './아파트전세가격지수.csv'\n",
    "jeonsae_df = pd.read_csv(jeonsae_path, encoding='cp949')"
   ]
  },
  {
   "cell_type": "code",
   "execution_count": 12,
   "metadata": {},
   "outputs": [
    {
     "data": {
      "text/html": [
       "<div>\n",
       "<style scoped>\n",
       "    .dataframe tbody tr th:only-of-type {\n",
       "        vertical-align: middle;\n",
       "    }\n",
       "\n",
       "    .dataframe tbody tr th {\n",
       "        vertical-align: top;\n",
       "    }\n",
       "\n",
       "    .dataframe thead th {\n",
       "        text-align: right;\n",
       "    }\n",
       "</style>\n",
       "<table border=\"1\" class=\"dataframe\">\n",
       "  <thead>\n",
       "    <tr style=\"text-align: right;\">\n",
       "      <th></th>\n",
       "      <th>년월</th>\n",
       "      <th>전세가격지수</th>\n",
       "    </tr>\n",
       "  </thead>\n",
       "  <tbody>\n",
       "    <tr>\n",
       "      <th>0</th>\n",
       "      <td>2003.11</td>\n",
       "      <td>46.7</td>\n",
       "    </tr>\n",
       "    <tr>\n",
       "      <th>1</th>\n",
       "      <td>2003.12</td>\n",
       "      <td>46.2</td>\n",
       "    </tr>\n",
       "    <tr>\n",
       "      <th>2</th>\n",
       "      <td>2004.01</td>\n",
       "      <td>46.0</td>\n",
       "    </tr>\n",
       "    <tr>\n",
       "      <th>3</th>\n",
       "      <td>2004.02</td>\n",
       "      <td>46.3</td>\n",
       "    </tr>\n",
       "    <tr>\n",
       "      <th>4</th>\n",
       "      <td>2004.03</td>\n",
       "      <td>46.5</td>\n",
       "    </tr>\n",
       "  </tbody>\n",
       "</table>\n",
       "</div>"
      ],
      "text/plain": [
       "        년월 전세가격지수\n",
       "0  2003.11   46.7\n",
       "1  2003.12   46.2\n",
       "2  2004.01   46.0\n",
       "3  2004.02   46.3\n",
       "4  2004.03   46.5"
      ]
     },
     "execution_count": 12,
     "metadata": {},
     "output_type": "execute_result"
    }
   ],
   "source": [
    "# 전세가격지수 데이터를 '년월'과 서울의 '전세가격지수'를 열로 가지는 데이터로 변환\n",
    "data = {'년월':list(jeonsae_df.columns[1:]), '전세가격지수':list(jeonsae_df.iloc[1])[1:]}\n",
    "seoul_jeonsae_df = pd.DataFrame(data)\n",
    "seoul_jeonsae_df.head()"
   ]
  },
  {
   "cell_type": "code",
   "execution_count": 13,
   "metadata": {},
   "outputs": [],
   "source": [
    "# 전세가격지수 데이터의 '년월' 형식을 concat의 '계약년월' 형식과 통일\n",
    "seoul_jeonsae_df['년월'] = seoul_jeonsae_df['년월'].map(lambda x : int(x.split('.')[0]) * 100 + int(x.split('.')[1]))"
   ]
  },
  {
   "cell_type": "code",
   "execution_count": 14,
   "metadata": {},
   "outputs": [],
   "source": [
    "# '전세가격지수' 변수가 추가된 concat 데이터\n",
    "concat = pd.merge(concat, seoul_jeonsae_df, left_on='계약년월', right_on='년월', how='inner').drop('년월', axis=1)"
   ]
  },
  {
   "cell_type": "code",
   "execution_count": 15,
   "metadata": {},
   "outputs": [],
   "source": [
    "# concat의 '전세가격지수'열의 형식을 float 변경\n",
    "concat['전세가격지수'] = concat['전세가격지수'].astype(float)"
   ]
  },
  {
   "cell_type": "code",
   "execution_count": 16,
   "metadata": {},
   "outputs": [
    {
     "data": {
      "text/html": [
       "<div>\n",
       "<style scoped>\n",
       "    .dataframe tbody tr th:only-of-type {\n",
       "        vertical-align: middle;\n",
       "    }\n",
       "\n",
       "    .dataframe tbody tr th {\n",
       "        vertical-align: top;\n",
       "    }\n",
       "\n",
       "    .dataframe thead th {\n",
       "        text-align: right;\n",
       "    }\n",
       "</style>\n",
       "<table border=\"1\" class=\"dataframe\">\n",
       "  <thead>\n",
       "    <tr style=\"text-align: right;\">\n",
       "      <th></th>\n",
       "      <th>계약년월</th>\n",
       "      <th>전세가격지수</th>\n",
       "    </tr>\n",
       "  </thead>\n",
       "  <tbody>\n",
       "    <tr>\n",
       "      <th>282129</th>\n",
       "      <td>202106</td>\n",
       "      <td>100.0</td>\n",
       "    </tr>\n",
       "    <tr>\n",
       "      <th>499325</th>\n",
       "      <td>201707</td>\n",
       "      <td>91.8</td>\n",
       "    </tr>\n",
       "    <tr>\n",
       "      <th>1066146</th>\n",
       "      <td>200806</td>\n",
       "      <td>55.0</td>\n",
       "    </tr>\n",
       "    <tr>\n",
       "      <th>374766</th>\n",
       "      <td>201912</td>\n",
       "      <td>92.0</td>\n",
       "    </tr>\n",
       "    <tr>\n",
       "      <th>539730</th>\n",
       "      <td>201709</td>\n",
       "      <td>92.2</td>\n",
       "    </tr>\n",
       "    <tr>\n",
       "      <th>77317</th>\n",
       "      <td>201711</td>\n",
       "      <td>92.5</td>\n",
       "    </tr>\n",
       "    <tr>\n",
       "      <th>321404</th>\n",
       "      <td>202007</td>\n",
       "      <td>93.9</td>\n",
       "    </tr>\n",
       "    <tr>\n",
       "      <th>835720</th>\n",
       "      <td>201406</td>\n",
       "      <td>77.8</td>\n",
       "    </tr>\n",
       "    <tr>\n",
       "      <th>860952</th>\n",
       "      <td>201305</td>\n",
       "      <td>70.8</td>\n",
       "    </tr>\n",
       "    <tr>\n",
       "      <th>133481</th>\n",
       "      <td>201208</td>\n",
       "      <td>67.7</td>\n",
       "    </tr>\n",
       "  </tbody>\n",
       "</table>\n",
       "</div>"
      ],
      "text/plain": [
       "           계약년월  전세가격지수\n",
       "282129   202106   100.0\n",
       "499325   201707    91.8\n",
       "1066146  200806    55.0\n",
       "374766   201912    92.0\n",
       "539730   201709    92.2\n",
       "77317    201711    92.5\n",
       "321404   202007    93.9\n",
       "835720   201406    77.8\n",
       "860952   201305    70.8\n",
       "133481   201208    67.7"
      ]
     },
     "execution_count": 16,
     "metadata": {},
     "output_type": "execute_result"
    }
   ],
   "source": [
    "# 확인을 위해 concat에서 랜덤으로 10개 샘플 뽑아보기\n",
    "concat[['계약년월', '전세가격지수']].sample(n=10)"
   ]
  },
  {
   "cell_type": "markdown",
   "metadata": {},
   "source": [
    "# 인구밀도 추가"
   ]
  },
  {
   "cell_type": "code",
   "execution_count": 17,
   "metadata": {},
   "outputs": [],
   "source": [
    "population_density_path  = './인구밀도.csv'\n",
    "population_density = pd.read_csv(population_density_path)"
   ]
  },
  {
   "cell_type": "code",
   "execution_count": 18,
   "metadata": {},
   "outputs": [
    {
     "data": {
      "text/html": [
       "<div>\n",
       "<style scoped>\n",
       "    .dataframe tbody tr th:only-of-type {\n",
       "        vertical-align: middle;\n",
       "    }\n",
       "\n",
       "    .dataframe tbody tr th {\n",
       "        vertical-align: top;\n",
       "    }\n",
       "\n",
       "    .dataframe thead th {\n",
       "        text-align: right;\n",
       "    }\n",
       "</style>\n",
       "<table border=\"1\" class=\"dataframe\">\n",
       "  <thead>\n",
       "    <tr style=\"text-align: right;\">\n",
       "      <th></th>\n",
       "      <th>동별(1)</th>\n",
       "      <th>동별(2)</th>\n",
       "      <th>동별(3)</th>\n",
       "      <th>인구 (명)</th>\n",
       "      <th>면적 (㎢)</th>\n",
       "      <th>인구밀도 (명/㎢)</th>\n",
       "    </tr>\n",
       "  </thead>\n",
       "  <tbody>\n",
       "    <tr>\n",
       "      <th>1</th>\n",
       "      <td>합계</td>\n",
       "      <td>소계</td>\n",
       "      <td>소계</td>\n",
       "      <td>9667669</td>\n",
       "      <td>605.21</td>\n",
       "      <td>15974</td>\n",
       "    </tr>\n",
       "    <tr>\n",
       "      <th>2</th>\n",
       "      <td>합계</td>\n",
       "      <td>종로구</td>\n",
       "      <td>소계</td>\n",
       "      <td>152211</td>\n",
       "      <td>23.91</td>\n",
       "      <td>6365</td>\n",
       "    </tr>\n",
       "    <tr>\n",
       "      <th>3</th>\n",
       "      <td>합계</td>\n",
       "      <td>종로구</td>\n",
       "      <td>사직동</td>\n",
       "      <td>9355</td>\n",
       "      <td>1.23</td>\n",
       "      <td>7606</td>\n",
       "    </tr>\n",
       "    <tr>\n",
       "      <th>4</th>\n",
       "      <td>합계</td>\n",
       "      <td>종로구</td>\n",
       "      <td>삼청동</td>\n",
       "      <td>2642</td>\n",
       "      <td>1.49</td>\n",
       "      <td>1773</td>\n",
       "    </tr>\n",
       "    <tr>\n",
       "      <th>5</th>\n",
       "      <td>합계</td>\n",
       "      <td>종로구</td>\n",
       "      <td>부암동</td>\n",
       "      <td>9536</td>\n",
       "      <td>2.27</td>\n",
       "      <td>4201</td>\n",
       "    </tr>\n",
       "  </tbody>\n",
       "</table>\n",
       "</div>"
      ],
      "text/plain": [
       "0 동별(1) 동별(2) 동별(3)   인구 (명)  면적 (㎢) 인구밀도 (명/㎢)\n",
       "1    합계    소계    소계  9667669  605.21      15974\n",
       "2    합계   종로구    소계   152211   23.91       6365\n",
       "3    합계   종로구   사직동     9355    1.23       7606\n",
       "4    합계   종로구   삼청동     2642    1.49       1773\n",
       "5    합계   종로구   부암동     9536    2.27       4201"
      ]
     },
     "execution_count": 18,
     "metadata": {},
     "output_type": "execute_result"
    }
   ],
   "source": [
    "# 맨 위 row를 변수 이름으로 설정\n",
    "population_density.columns = population_density.iloc[0]\n",
    "population_density = population_density[1:]\n",
    "population_density.head()"
   ]
  },
  {
   "cell_type": "code",
   "execution_count": 19,
   "metadata": {},
   "outputs": [],
   "source": [
    "# concat의 '시군구' 변수에서 동을 분리하여 따로 변수 만들기\n",
    "concat['동'] = concat['시군구'].map(lambda x : x.split()[2])"
   ]
  },
  {
   "cell_type": "code",
   "execution_count": 20,
   "metadata": {},
   "outputs": [],
   "source": [
    "# 인구밀도 데이터 변수의 타입 변환\n",
    "population_density_new = population_density[['동별(3)', '인구 (명)', '면적 (㎢)', '인구밀도 (명/㎢)']]\n",
    "population_density_new['인구 (명)'] = population_density_new['인구 (명)'].astype(float)\n",
    "population_density_new['면적 (㎢)'] = population_density_new['면적 (㎢)'].astype(float)\n",
    "population_density_new['인구밀도 (명/㎢)'] = population_density_new['인구밀도 (명/㎢)'].astype(float)"
   ]
  },
  {
   "cell_type": "code",
   "execution_count": 21,
   "metadata": {},
   "outputs": [],
   "source": [
    "# concat에서 동을 (유사)행정동으로 반환하는 함수\n",
    "# '동'이 여러 행정동에 걸쳐있는 경우 임으로 걸쳐있는 행정동 중 하나로 선택하였음\n",
    "def to_hangjungdong(dong):\n",
    "    if dong in ['금호동1가']: \n",
    "        return '금호1가동'\n",
    "    elif dong in ['봉천동']: # 중앙동은 5개의 동에 걸쳐있음\n",
    "        return '중앙동'\n",
    "    elif dong in ['마곡동']: # 마곡동은 가양1동, 방화1동, 발산1동에 걸쳐있음\n",
    "        return '가양동'\n",
    "    elif dong in ['내발산동']: # 내발산동은 '발산1동'과 '우장산동'에 걸쳐있음\n",
    "        return '발산1동'\n",
    "    elif dong in ['자곡동', '율현동']:\n",
    "        return '세곡동'\n",
    "    elif dong in ['금호동2가', '금호동3가']:\n",
    "        return '금호2.3가동'\n",
    "    elif dong in ['금호동4가']:\n",
    "        return '금호4가동'\n",
    "    elif dong in ['남대문로5가']:\n",
    "        return '회현동'\n",
    "    elif dong in ['남산동2가']:\n",
    "        return '명동'\n",
    "    elif dong in ['당산동1가', '당산동2가', '당산동3가']:\n",
    "        return '당산1동'\n",
    "    elif dong in ['당산동4가', '당산동5가', '당산동6가']:\n",
    "        return '당산2동'\n",
    "    elif dong in ['동선동1가', '동선동3가', '동선동4가', '동선동5가', '동소문동6가', '동소문동7가']:\n",
    "        return '동선동'\n",
    "    elif dong in ['동소문동5가', '삼선동2가', '삼선동3가', '삼선동4가', '삼선동5가']:\n",
    "        return '삼선동'\n",
    "    elif dong in ['만리동2가', '만리동1가']:\n",
    "        return '중림동'\n",
    "    elif dong in ['명륜1가', '명륜2가', '명륜3가']:\n",
    "        return '혜화동'\n",
    "    elif dong in ['문래동2가', '문래동3가', '문래동4가', '문래동5가', '문래동6가']:\n",
    "        return '문래동'\n",
    "    elif dong in ['보문동2가', '보문동3가', '보문동4가', '보문동6가']:\n",
    "        return '보문동'\n",
    "    elif dong in ['성북동1가', '동소문동', '동소문동4가']:\n",
    "        return '성북동'\n",
    "    elif dong in ['신문로1가', '신문로2가', '내수동', '당주동', '필운동']:\n",
    "        return '사직동'\n",
    "    elif dong in ['안암동1가', '안암동3가', '안암동4가', '안암동5가']:\n",
    "        return '안암동'\n",
    "    elif dong in ['양평동1가', '양평동2가', '양평동3가']: \n",
    "        return '양평1동'\n",
    "    elif dong in ['양평동4가', '양평동5가', '양평동6가']: # '양평동3가'는 '양평1동'과 '양평2동'에 걸쳐있음 \n",
    "        return '양평2동'\n",
    "    elif dong in ['영등포동1가', '영등포동2가', '영등포동3가', '영등포동4가', '영등포동5가', '영등포동7가', '영등포동8가']:\n",
    "        return '영등포동'\n",
    "    elif dong in ['용산동2가']:\n",
    "        return '용산2가동'\n",
    "    elif dong in ['원효로1가', '원효로2가', '문배동', '신계동']: # 원효로1동, 2동의 인구밀도가 크게 차이나기 떄문에 두 개 분리\n",
    "        return  '원효로1동'\n",
    "    elif dong in ['원효로3가', '원효로4가', '산천동', '신창동', '청암동']:\n",
    "        return '원효로2동'\n",
    "    elif dong in ['을지로5가', '산림동', '입정동']:\n",
    "        return '을지로동'\n",
    "    elif dong in ['인현동2가', '오장동', '충무로4가', '충무로5가']: \n",
    "        return '광희동'\n",
    "    elif dong in ['장충동1가', '장충동2가']:\n",
    "        return '장충동'\n",
    "    elif dong in ['청파동1가', '청파동3가']:\n",
    "        return '청파동'\n",
    "    elif dong in ['충정로2가', '충정로3가', '합동', '미근동']:\n",
    "        return '충현동'\n",
    "    elif dong in ['필동1가', '필동3가', '묵정동', '예장동']:\n",
    "        return '필동'\n",
    "    elif dong in ['한강로1가', '한강로2가', '한강로3가', '용산동5가']:\n",
    "        return '한강로동'\n",
    "    elif dong in ['회현동1가', '회현동2가', '남창동']:\n",
    "        return '회현동'\n",
    "    elif dong in ['천왕동']:\n",
    "        return '오류동'\n",
    "    elif dong in ['온수동', '궁동']:\n",
    "        return '수궁동'\n",
    "    elif dong in ['용두동', '신설동']:\n",
    "        return '용신동'\n",
    "    elif dong in ['본동']:\n",
    "        return '노량진동'\n",
    "    elif dong in ['동작동']:\n",
    "        return '사당동'\n",
    "    elif dong in ['노고산동']:\n",
    "        return '대흥동'\n",
    "    elif dong in ['마포동']:\n",
    "        return '도화동'\n",
    "    elif dong in ['상수동']:\n",
    "        return '서강동'\n",
    "    elif dong in ['신공덕동']:\n",
    "        return '공덕동'\n",
    "    elif dong in ['동교동']:\n",
    "        return '연남동'\n",
    "    elif dong in ['중동']:\n",
    "        return '성산동'\n",
    "    elif dong in ['창전동', '하중동']:\n",
    "        return '서강동'\n",
    "    elif dong in ['냉천동', '영천동', '현저동']:\n",
    "        return '천연동'\n",
    "    elif dong in ['토정동']:\n",
    "        return '용강동'\n",
    "    elif dong in ['현석동', '구수동']:\n",
    "        return '신수동'\n",
    "    elif dong in ['대현동', '창천동']:\n",
    "        return '신촌동'\n",
    "    elif dong in ['우면동']:\n",
    "        return '양재동'\n",
    "    elif dong in ['도선동', '상왕십리동', '하왕십리동', '홍익동']:\n",
    "        return '왕십리도선동'\n",
    "    elif dong in ['상월곡동', '하월곡동']:\n",
    "        return '월곡동'\n",
    "    elif dong in ['신천동']:\n",
    "        return '잠실동'\n",
    "    elif dong in ['여의도동']:\n",
    "        return '여의동'\n",
    "    elif dong in ['갈월동', '동자동']:\n",
    "        return '남영동'\n",
    "    elif dong in ['도원동']:\n",
    "        return '용문동'\n",
    "    elif dong in ['동빙고동', '주성동']:\n",
    "        return '서빙고동'\n",
    "    elif dong in ['익선동', '견지동', '인의동', '수송동', '원남동', '낙원동']:\n",
    "        return '종로1.2.3.4가동'\n",
    "    elif dong in ['효제동', '충신동', '연지동']:\n",
    "        return '종로5.6가동'\n",
    "    elif dong in ['교북동', '행촌동', '홍파동', '평동']:\n",
    "        return '교남동'\n",
    "    elif dong in ['누상동', '옥인동', '청운동', '통인동', '신교동']:\n",
    "        return '청운효자동'\n",
    "    elif dong in ['동숭동', '연건동']:\n",
    "        return '이화동'\n",
    "    elif dong in ['신영동']:\n",
    "        return '부암동'\n",
    "    elif dong in ['순화동', '정동']:\n",
    "        return '소공동'\n",
    "    elif dong in ['흥인동']:\n",
    "        return '신당동'\n",
    "    elif dong in ['구기동']:\n",
    "        return '평창동'\n",
    "    else:\n",
    "        return dong\n",
    "    "
   ]
  },
  {
   "cell_type": "code",
   "execution_count": 22,
   "metadata": {},
   "outputs": [],
   "source": [
    "# concat의 '동'을 유사 행정동으로 변환\n",
    "concat['동'] = concat['동'].apply(to_hangjungdong)"
   ]
  },
  {
   "cell_type": "code",
   "execution_count": 23,
   "metadata": {},
   "outputs": [],
   "source": [
    "# 인구밀도 데이터의 몇 개의 행정동을 하나로 합쳐주기 위한 리스트\n",
    "dong_merge_list = [['성수동1가', '성수1가1동','성수1가2동'],\n",
    "                   ['성수동2가', '성수2가1동', '성수2가3동'],\n",
    "                   ['논현동', '논현1동', '논현2동'],\n",
    "                   ['대치동', '대치1동', '대치2동', '대치4동'],\n",
    "                   ['도곡동', '도곡1동', '도곡2동'],\n",
    "                   ['역삼동', '역삼1동', '역삼2동'],\n",
    "                   ['일원동', '일원본동', '일원1동'],\n",
    "                   ['고덕동', '고덕1동', '고덕2동'],\n",
    "                   ['둔촌동', '둔촌1동', '둔촌2동'],\n",
    "                   ['명일동', '명일1동', '명일2동'],\n",
    "                   ['상일동', '상일1동', '상일2동'],\n",
    "                   ['성내동', '성내1동', '성내2동', '성내3동'],\n",
    "                   ['암사동', '암사1동', '암사2동', '암사3동'],\n",
    "                   ['천호동', '천호1동', '천호2동', '천호3동'],\n",
    "                   ['번동', '번1동', '번2동', '번3동'],\n",
    "                   ['가양동', '가양1동', '가양2동', '가양3동'],\n",
    "                   ['수유동', '수유1동', '수유2동', '수유3동'],\n",
    "                   ['등촌동', '등촌1동', '등촌2동', '등촌3동'],\n",
    "                   ['방화동', '방화1동', '방화2동', '방화3동'],\n",
    "                   ['화곡동', '화곡1동', '화곡2동',  '화곡3동', '화곡4동', '화곡6동', '화곡8동', '화곡본동'],\n",
    "                   ['구의동', '구의1동', '구의2동', '구의3동'],\n",
    "                   ['자양동', '자양1동', '자양2동', '자양3동', '자양4동'],\n",
    "                   ['개봉동', '개봉1동', '개봉2동', '개봉3동'],\n",
    "                   ['고척동', '고척1동', '고척2동'],\n",
    "                   ['중곡동', '중곡1동', '중곡2동', '중곡3동'],\n",
    "                   ['구로동', '구로1동', '구로2동', '구로3동', '구로4동', '구로5동'],\n",
    "                   ['개포동', '개포1동', '개포2동', '개포3동', '개포4동'],\n",
    "                   ['오류동', '오류1동', '오류2동'],\n",
    "                   ['독산동', '독산1동', '독산2동', '독산3동', '독산4동'],\n",
    "                   ['시흥동', '시흥1동', '시흥2동', '시흥3동', '시흥4동', '시흥5동'],\n",
    "                   ['공릉동', '공릉1동', '공릉2동'],\n",
    "                   ['상계동', '상계1동', '상계2동', '상계5동', '상계8동', '상계9동', '상계10동', '상계3.4동', '상계6.7동'],\n",
    "                   ['월계동', '월계1동', '월계2동', '월계3동'],\n",
    "                   ['중계동', '중계본동', '중계1동', '중계4동', '중계2.3동'],\n",
    "                   ['하계동', '하계1동', '하계2동'],\n",
    "                   ['도봉동', '도봉1동', '도봉2동'],\n",
    "                   ['방학동', '방학1동', '방학2동', '방학3동'],\n",
    "                   ['쌍문동', '쌍문1동', '쌍문2동', '쌍문3동', '쌍문4동'],\n",
    "                   ['창동', '창1동', '창2동', '창3동', '창4동', '창5동'],\n",
    "                   ['답십리동', '답십리1동', '답십리2동'],\n",
    "                   ['이문동', '이문1동', '이문2동'],\n",
    "                   ['장안동', '장안1동', '장안2동'],\n",
    "                   ['전농동', '전농1동', '전농2동'],\n",
    "                   ['휘경동', '휘경1동', '휘경2동'],\n",
    "                   ['노량진동', '노량진1동', '노량진2동'],\n",
    "                   ['사당동', '사당1동', '사당2동', '사당3동', '사당4동', '사당5동'],\n",
    "                   ['상도동', '상도1동', '상도2동', '상도3동', '상도4동'],\n",
    "                   ['신대방동', '신대방1동', '신대방2동'],\n",
    "                   ['성산동', '성산1동', '성산2동'],\n",
    "                   ['신정동', '신정1동', '신정2동', '신정3동', '신정4동', '신정6동', '신정7동'],\n",
    "                   ['망원동', '망원1동', '망원2동'],\n",
    "                   ['남가좌동', '남가좌1동', '남가좌2동'],\n",
    "                   ['북가좌동', '북가좌1동', '북가좌2동'],\n",
    "                   ['홍은동', '홍은1동', '홍은2동'],\n",
    "                   ['홍제동', '홍제1동', '홍제2동', '홍제3동'],\n",
    "                   ['반포동', '반포본동', '반포1동', '반포2동', '반포3동', '반포4동'],\n",
    "                   ['방배동', '방배본동', '방배1동', '방배2동', '방배3동', '방배4동'],\n",
    "                   ['서초동', '서초1동', '서초2동', '서초3동', '서초4동'],\n",
    "                   ['양재동', '양재1동', '양재2동'],\n",
    "                   ['행당동', '행당1동', '행당2동'],\n",
    "                   ['길음동', '길음1동', '길음2동'],\n",
    "                   ['돈암동', '돈암1동', '돈암2동'],\n",
    "                   ['장위동', '장위1동', '장위2동', '장위3동'],\n",
    "                   ['정릉동', '정릉1동', '정릉2동', '정릉3동', '정릉4동'],\n",
    "                   ['가락동', '가락본동', '가락1동', '가락2동'],\n",
    "                   ['거여동', '거여1동', '거여2동'],\n",
    "                   ['마천동', '마천1동', '마천2동'],\n",
    "                   ['문정동', '문정1동', '문정2동'],\n",
    "                   ['송파동', '송파1동', '송파2동'],\n",
    "                   ['방이동',  '방이1동', '방이2동'],\n",
    "                   ['잠실동', '잠실본동', '잠실2동', '잠실3동', '잠실4동', '잠실6동', '잠실7동'],\n",
    "                   ['풍납동', '풍납1동', '풍납2동'],\n",
    "                   ['목동', '목1동', '목2동', '목3동', '목4동'],\n",
    "                   ['신월동', '신월1동', '신월2동', '신월3동', '신월4동', '신월5동', '신월6동', '신월7동'],\n",
    "                   ['당산동', '당산1동', '당산2동'],\n",
    "                   ['대림동', '대림1동', '대림2동', '대림3동'],\n",
    "                   ['신길동', '신길1동', '신길3동', '신길4동', '신길5동', '신길6동', '신길7동'],\n",
    "                   ['이촌동', '이촌1동', '이촌2동'],\n",
    "                   ['이태원동', '이태원1동', '이태원2동'],\n",
    "                   ['불광동', '불광1동', '불광2동'],\n",
    "                   ['갈현동', '갈현1동', '갈현2동'],\n",
    "                   ['응암동', '응암1동', '응암2동', '응암3동'],\n",
    "                   ['숭인동', '숭인1동', '숭인2동'],\n",
    "                   ['창신동', '창신1동', '창신2동', '창신3동'],\n",
    "                   ['망우동', '망우본동', '망우3동'],\n",
    "                   ['면목동', '면목본동', '면목2동', '면목4동', '면목5동', '면목7동', '면목3.8동'],\n",
    "                   ['묵동', '묵1동', '묵2동'],\n",
    "                   ['상봉동', '상봉1동', '상봉2동'],\n",
    "                   ['신내동', '신내1동', '신내2동'],\n",
    "                   ['중화동', '중화1동', '중화2동'],\n",
    "                   ['월곡동', '월곡1동', '월곡2동']\n",
    "                   ]"
   ]
  },
  {
   "cell_type": "code",
   "execution_count": 24,
   "metadata": {},
   "outputs": [],
   "source": [
    "# 행정동을 합쳐 유사 행정동을 구하고 합친 인구와 면적을 사용하여 밀도를 다시 구하기\n",
    "for dongs in dong_merge_list:\n",
    "    dong_dict ={}\n",
    "    dong_dict['동별(3)'] = dongs[0]\n",
    "    dong_pop = 0\n",
    "    dong_area = 0\n",
    "    for dong in dongs[1:]:\n",
    "        dong_pop += population_density_new.loc[population_density_new['동별(3)'] == dong, '인구 (명)'].values[0]\n",
    "        dong_area += population_density_new.loc[population_density_new['동별(3)'] == dong, '면적 (㎢)'].values[0]\n",
    "    dong_density = dong_pop / dong_area\n",
    "    dong_dict['인구 (명)'] = dong_pop\n",
    "    dong_dict['면적 (㎢)'] = dong_area\n",
    "    dong_dict['인구밀도 (명/㎢)'] = dong_density\n",
    "    population_density_new = population_density_new.append(dong_dict, ignore_index=True)\n",
    "    "
   ]
  },
  {
   "cell_type": "code",
   "execution_count": 25,
   "metadata": {},
   "outputs": [],
   "source": [
    "# '인구밀도 (명/㎢)' 변수가 추가된 concat 데이터\n",
    "concat = pd.merge(concat, population_density_new, left_on='동', right_on='동별(3)', how='inner').drop(['동별(3)', '인구 (명)', '면적 (㎢)'], axis=1)"
   ]
  },
  {
   "cell_type": "code",
   "execution_count": 26,
   "metadata": {},
   "outputs": [
    {
     "data": {
      "text/html": [
       "<div>\n",
       "<style scoped>\n",
       "    .dataframe tbody tr th:only-of-type {\n",
       "        vertical-align: middle;\n",
       "    }\n",
       "\n",
       "    .dataframe tbody tr th {\n",
       "        vertical-align: top;\n",
       "    }\n",
       "\n",
       "    .dataframe thead th {\n",
       "        text-align: right;\n",
       "    }\n",
       "</style>\n",
       "<table border=\"1\" class=\"dataframe\">\n",
       "  <thead>\n",
       "    <tr style=\"text-align: right;\">\n",
       "      <th></th>\n",
       "      <th>동</th>\n",
       "      <th>인구밀도 (명/㎢)</th>\n",
       "    </tr>\n",
       "  </thead>\n",
       "  <tbody>\n",
       "    <tr>\n",
       "      <th>1101472</th>\n",
       "      <td>면목동</td>\n",
       "      <td>22971.547421</td>\n",
       "    </tr>\n",
       "    <tr>\n",
       "      <th>212190</th>\n",
       "      <td>염창동</td>\n",
       "      <td>23924.000000</td>\n",
       "    </tr>\n",
       "    <tr>\n",
       "      <th>382613</th>\n",
       "      <td>공릉동</td>\n",
       "      <td>9686.755772</td>\n",
       "    </tr>\n",
       "    <tr>\n",
       "      <th>274614</th>\n",
       "      <td>구의동</td>\n",
       "      <td>26620.202020</td>\n",
       "    </tr>\n",
       "    <tr>\n",
       "      <th>829738</th>\n",
       "      <td>삼선동</td>\n",
       "      <td>25048.000000</td>\n",
       "    </tr>\n",
       "    <tr>\n",
       "      <th>1017229</th>\n",
       "      <td>영등포동</td>\n",
       "      <td>24175.000000</td>\n",
       "    </tr>\n",
       "    <tr>\n",
       "      <th>683456</th>\n",
       "      <td>남가좌동</td>\n",
       "      <td>37025.000000</td>\n",
       "    </tr>\n",
       "    <tr>\n",
       "      <th>523636</th>\n",
       "      <td>창동</td>\n",
       "      <td>27660.235294</td>\n",
       "    </tr>\n",
       "    <tr>\n",
       "      <th>106662</th>\n",
       "      <td>명일동</td>\n",
       "      <td>27194.936709</td>\n",
       "    </tr>\n",
       "    <tr>\n",
       "      <th>167674</th>\n",
       "      <td>가양동</td>\n",
       "      <td>10151.451613</td>\n",
       "    </tr>\n",
       "  </tbody>\n",
       "</table>\n",
       "</div>"
      ],
      "text/plain": [
       "            동    인구밀도 (명/㎢)\n",
       "1101472   면목동  22971.547421\n",
       "212190    염창동  23924.000000\n",
       "382613    공릉동   9686.755772\n",
       "274614    구의동  26620.202020\n",
       "829738    삼선동  25048.000000\n",
       "1017229  영등포동  24175.000000\n",
       "683456   남가좌동  37025.000000\n",
       "523636     창동  27660.235294\n",
       "106662    명일동  27194.936709\n",
       "167674    가양동  10151.451613"
      ]
     },
     "execution_count": 26,
     "metadata": {},
     "output_type": "execute_result"
    }
   ],
   "source": [
    "# 확인을 위해 concat에서 랜덤으로 10개 샘플 뽑아보기\n",
    "concat[['동', '인구밀도 (명/㎢)']].sample(n=10)"
   ]
  },
  {
   "cell_type": "markdown",
   "metadata": {},
   "source": [
    "# 서울시 공동주택 아파트 데이터로 결측치 채우기"
   ]
  },
  {
   "cell_type": "code",
   "execution_count": 27,
   "metadata": {},
   "outputs": [],
   "source": [
    "concat['등기신청일자'] = concat['등기신청일자'].replace(' ', np.nan)\n",
    "concat['거래유형'] = concat['거래유형'].replace('-', np.nan)\n",
    "concat['중개사소재지'] = concat['중개사소재지'].replace('-', np.nan)"
   ]
  },
  {
   "cell_type": "code",
   "execution_count": 28,
   "metadata": {},
   "outputs": [],
   "source": [
    "house_df_path = \"./서울시 공동주택 아파트 정보.csv\"\n",
    "house_df = pd.read_csv(house_df_path, encoding='cp949')"
   ]
  },
  {
   "cell_type": "code",
   "execution_count": 29,
   "metadata": {},
   "outputs": [],
   "source": [
    "# '도로명주소'을 기준으로 df_train의 결측치 ('아파트명'은 같은 아파트임에도 서로 일치하지 않는 항목이 많아서)\n",
    "house_df['도로명주소'] = house_df['주소(도로명)'] + ' ' + house_df['주소(도로상세주소)']\n",
    "house_df = house_df.drop_duplicates(subset='도로명주소')"
   ]
  },
  {
   "cell_type": "code",
   "execution_count": 30,
   "metadata": {},
   "outputs": [],
   "source": [
    "# house_df_unique에서 '도로명주소'가 같은 경우 수치형인 열은 평균값으로, 범주형인 열은 최빈값으로 중복값 대체\n",
    "def handle_duplicates(df):\n",
    "    duplicates = df.duplicated(subset=['도로명주소'])\n",
    "    for col in df.columns:\n",
    "        if col != '도로명주소':\n",
    "            if df[col].dtype == 'int64':\n",
    "                df[col] = df.groupby('도로명주소')[col].transform(lambda x: x.mean() if not x.isnull().all() else x)\n",
    "            else:\n",
    "                df[col] = df.groupby('도로명주소')[col].transform(lambda x: x.mode().iloc[0] if not x.isnull().all() else x)\n",
    "    df = df.drop_duplicates(subset=['도로명주소'])\n",
    "    return df\n",
    "\n",
    "house_df = handle_duplicates(house_df)"
   ]
  },
  {
   "cell_type": "code",
   "execution_count": 31,
   "metadata": {},
   "outputs": [],
   "source": [
    "# concat과 house_df_unique에 공통으로 존재하는 열 찾기\n",
    "common_cols = []\n",
    "for col_1 in (concat.columns):\n",
    "    for col_2 in list(list(house_df.columns)):\n",
    "        if col_1 == col_2:\n",
    "            common_cols.append(col_1)\n",
    "            break"
   ]
  },
  {
   "cell_type": "code",
   "execution_count": 32,
   "metadata": {},
   "outputs": [],
   "source": [
    "# concat의 결측치를 house_df_unique로 채우기\n",
    "for col in common_cols:\n",
    "    concat[col] = concat[col].fillna(concat['도로명'].map(house_df.set_index('도로명주소')[col]))\n",
    "concat['아파트명'] = concat['아파트명'].fillna(concat['도로명'].map(house_df.set_index('도로명주소')['k-아파트명']))"
   ]
  },
  {
   "cell_type": "markdown",
   "metadata": {},
   "source": [
    "# 'k-건설사(시공사)' 변수의 값을 단순화하기"
   ]
  },
  {
   "cell_type": "code",
   "execution_count": 33,
   "metadata": {},
   "outputs": [],
   "source": [
    "# # 아파트명 변수의 값을 단순화하기\n",
    "concat['k-건설사(시공사)'] = concat['k-건설사(시공사)'].astype(str)\n",
    "# 여러 건설사가 같이 시공하였을 시 더 브랜드 평판이 높은 건설사 혹은 데이터가 더 많은 건설사로 대체\n",
    "def simple_apt(apt):\n",
    "    if '현대건설' in apt or '힐스테이트' in apt:\n",
    "        return '현대건설'\n",
    "    elif '삼성물산' in apt:\n",
    "        return '삼성물산'\n",
    "    elif '대우건설' in apt or '푸르지오' in apt:\n",
    "        return '대우건설'\n",
    "    elif 'GS' in apt or 'gs' in apt or '지에스' in apt:\n",
    "        return 'GS건설'\n",
    "    elif '포스코' in apt:\n",
    "        return '포스코건설'\n",
    "    elif '래미안' in apt or '삼성물산' in apt:\n",
    "        return '삼성물산'\n",
    "    elif 'DL' in apt:\n",
    "        return 'DL E&C'\n",
    "    elif '롯데건설' in apt or '롯데캐슬' in apt:\n",
    "        return '롯데건설'\n",
    "    elif '현대산업' in apt:\n",
    "        return '현대산업개발'\n",
    "    elif '한화' in apt:\n",
    "        return '한화건설'\n",
    "    elif '쌍용' in apt:\n",
    "        return '쌍용건설'\n",
    "    elif apt in ['대한주택공사', 'LH공사', '한국토지주택공사', '한국주택공사', 'LH']:\n",
    "        return '한국토지주택공사'\n",
    "    elif '우성' in apt:\n",
    "        return '우성건설'\n",
    "    elif '한신' in apt:\n",
    "        return '한신공영'\n",
    "    elif '두산건설' in apt:\n",
    "        return '두산건설'\n",
    "    elif apt in ['동아건설', '(주)동아건설', '동아건설산업(주)', '동아건설산업', '동아건설(주)', '(주)동아건설산업', '동아,효성', '동아주택']:\n",
    "        return '동아건설'\n",
    "    elif '대림산업' in apt:\n",
    "        return '대림산업'\n",
    "    elif '벽산건설' in apt:\n",
    "        return '벽산건설'\n",
    "    elif '동부건설' in apt:\n",
    "        return '동부건설'\n",
    "    else:\n",
    "        return 'Other'\n",
    "    \n",
    "    \n",
    "concat['k-건설사(시공사)'] = concat['k-건설사(시공사)'].apply(simple_apt)\n",
    "concat['k-건설사(시공사)'] = concat['k-건설사(시공사)'].fillna(value='Other') # 결측치도 'Other'로 통일"
   ]
  },
  {
   "cell_type": "markdown",
   "metadata": {},
   "source": [
    "# 아파트 연식 변수 추가"
   ]
  },
  {
   "cell_type": "code",
   "execution_count": 34,
   "metadata": {},
   "outputs": [
    {
     "data": {
      "text/plain": [
       "(1118822, 53)"
      ]
     },
     "execution_count": 34,
     "metadata": {},
     "output_type": "execute_result"
    }
   ],
   "source": [
    "train.shape"
   ]
  },
  {
   "cell_type": "code",
   "execution_count": 35,
   "metadata": {},
   "outputs": [],
   "source": [
    "concat['연식'] = 2023 - concat['건축년도']"
   ]
  },
  {
   "cell_type": "code",
   "execution_count": 36,
   "metadata": {},
   "outputs": [],
   "source": [
    "# 연식(0 - 10, 11 - 30, > 30)별 변수 추가\n",
    "concat['연식0-10'] = 0\n",
    "concat.loc[concat['연식'] <= 10, '연식0-10'] = 1\n",
    "\n",
    "concat['연식11-30'] = 0\n",
    "concat.loc[(concat['연식'] > 10) & (concat['연식'] <= 30), '연식11-30'] = 1\n",
    "\n",
    "concat['연식>30'] = 0\n",
    "concat.loc[concat['연식'] > 30, '연식>30'] = 1\n",
    "\n",
    "concat['연식(category)'] = 0\n",
    "concat.loc[concat['연식0-10'] == 1, '연식(category)'] = '0'\n",
    "concat.loc[concat['연식11-30'] == 1, '연식(category)'] = '1'\n",
    "concat.loc[concat['연식>30'] == 1, '연식(category)'] = '2'"
   ]
  },
  {
   "cell_type": "code",
   "execution_count": 37,
   "metadata": {},
   "outputs": [
    {
     "data": {
      "text/html": [
       "<div>\n",
       "<style scoped>\n",
       "    .dataframe tbody tr th:only-of-type {\n",
       "        vertical-align: middle;\n",
       "    }\n",
       "\n",
       "    .dataframe tbody tr th {\n",
       "        vertical-align: top;\n",
       "    }\n",
       "\n",
       "    .dataframe thead th {\n",
       "        text-align: right;\n",
       "    }\n",
       "</style>\n",
       "<table border=\"1\" class=\"dataframe\">\n",
       "  <thead>\n",
       "    <tr style=\"text-align: right;\">\n",
       "      <th></th>\n",
       "      <th>연식</th>\n",
       "      <th>연식0-10</th>\n",
       "      <th>연식11-30</th>\n",
       "      <th>연식&gt;30</th>\n",
       "    </tr>\n",
       "  </thead>\n",
       "  <tbody>\n",
       "    <tr>\n",
       "      <th>540083</th>\n",
       "      <td>26</td>\n",
       "      <td>0</td>\n",
       "      <td>1</td>\n",
       "      <td>0</td>\n",
       "    </tr>\n",
       "    <tr>\n",
       "      <th>308477</th>\n",
       "      <td>34</td>\n",
       "      <td>0</td>\n",
       "      <td>0</td>\n",
       "      <td>1</td>\n",
       "    </tr>\n",
       "    <tr>\n",
       "      <th>717152</th>\n",
       "      <td>41</td>\n",
       "      <td>0</td>\n",
       "      <td>0</td>\n",
       "      <td>1</td>\n",
       "    </tr>\n",
       "    <tr>\n",
       "      <th>140964</th>\n",
       "      <td>18</td>\n",
       "      <td>0</td>\n",
       "      <td>1</td>\n",
       "      <td>0</td>\n",
       "    </tr>\n",
       "    <tr>\n",
       "      <th>255116</th>\n",
       "      <td>39</td>\n",
       "      <td>0</td>\n",
       "      <td>0</td>\n",
       "      <td>1</td>\n",
       "    </tr>\n",
       "    <tr>\n",
       "      <th>924535</th>\n",
       "      <td>44</td>\n",
       "      <td>0</td>\n",
       "      <td>0</td>\n",
       "      <td>1</td>\n",
       "    </tr>\n",
       "    <tr>\n",
       "      <th>621156</th>\n",
       "      <td>18</td>\n",
       "      <td>0</td>\n",
       "      <td>1</td>\n",
       "      <td>0</td>\n",
       "    </tr>\n",
       "    <tr>\n",
       "      <th>241478</th>\n",
       "      <td>19</td>\n",
       "      <td>0</td>\n",
       "      <td>1</td>\n",
       "      <td>0</td>\n",
       "    </tr>\n",
       "    <tr>\n",
       "      <th>1112156</th>\n",
       "      <td>20</td>\n",
       "      <td>0</td>\n",
       "      <td>1</td>\n",
       "      <td>0</td>\n",
       "    </tr>\n",
       "    <tr>\n",
       "      <th>210702</th>\n",
       "      <td>25</td>\n",
       "      <td>0</td>\n",
       "      <td>1</td>\n",
       "      <td>0</td>\n",
       "    </tr>\n",
       "  </tbody>\n",
       "</table>\n",
       "</div>"
      ],
      "text/plain": [
       "         연식  연식0-10  연식11-30  연식>30\n",
       "540083   26       0        1      0\n",
       "308477   34       0        0      1\n",
       "717152   41       0        0      1\n",
       "140964   18       0        1      0\n",
       "255116   39       0        0      1\n",
       "924535   44       0        0      1\n",
       "621156   18       0        1      0\n",
       "241478   19       0        1      0\n",
       "1112156  20       0        1      0\n",
       "210702   25       0        1      0"
      ]
     },
     "execution_count": 37,
     "metadata": {},
     "output_type": "execute_result"
    }
   ],
   "source": [
    "concat[['연식', '연식0-10', '연식11-30', '연식>30']].sample(n=10)"
   ]
  },
  {
   "cell_type": "code",
   "execution_count": 38,
   "metadata": {},
   "outputs": [
    {
     "data": {
      "text/plain": [
       "<Axes: xlabel='연식(category)', ylabel='target'>"
      ]
     },
     "execution_count": 38,
     "metadata": {},
     "output_type": "execute_result"
    },
    {
     "data": {
      "image/png": "[encoded data removed]",
      "text/plain": [
       "<Figure size 640x480 with 1 Axes>"
      ]
     },
     "metadata": {},
     "output_type": "display_data"
    }
   ],
   "source": [
    "sns.boxplot(x='연식(category)', y='target', data=concat[:1118822])"
   ]
  },
  {
   "cell_type": "markdown",
   "metadata": {},
   "source": [
    "# 세대별주차대수 변수 추가"
   ]
  },
  {
   "cell_type": "code",
   "execution_count": 39,
   "metadata": {},
   "outputs": [],
   "source": [
    "concat['세대별주차대수'] = concat['주차대수']/concat['k-전체세대수']"
   ]
  },
  {
   "cell_type": "code",
   "execution_count": 40,
   "metadata": {},
   "outputs": [
    {
     "data": {
      "text/plain": [
       "<Axes: xlabel='연식(category)', ylabel='세대별주차대수'>"
      ]
     },
     "execution_count": 40,
     "metadata": {},
     "output_type": "execute_result"
    },
    {
     "data": {
      "image/png": "[encoded data removed]",
      "text/plain": [
       "<Figure size 640x480 with 1 Axes>"
      ]
     },
     "metadata": {},
     "output_type": "display_data"
    }
   ],
   "source": [
    "sns.boxplot(x='연식(category)', y='세대별주차대수', data=concat[:1118822])"
   ]
  },
  {
   "cell_type": "code",
   "execution_count": 41,
   "metadata": {},
   "outputs": [
    {
     "data": {
      "text/plain": [
       "261695"
      ]
     },
     "execution_count": 41,
     "metadata": {},
     "output_type": "execute_result"
    }
   ],
   "source": [
    "concat['세대별주차대수'].isnull().sum()"
   ]
  },
  {
   "cell_type": "code",
   "execution_count": 42,
   "metadata": {},
   "outputs": [],
   "source": [
    "# 세대별주차대수의 결측치는 연식(category)을 기준으로 평균값을 채워넣는다.\n",
    "concat['세대별주차대수'] = concat.groupby('연식(category)')['세대별주차대수'].transform(lambda x: x.fillna(x.mean()))"
   ]
  },
  {
   "cell_type": "markdown",
   "metadata": {},
   "source": [
    "# 변수 선택"
   ]
  },
  {
   "cell_type": "code",
   "execution_count": 43,
   "metadata": {},
   "outputs": [],
   "source": [
    "concat_new = concat[['계약날짜','전세가격지수', '기준금리', '동', 'k-건설사(시공사)', '건축년도', '인구밀도 (명/㎢)', '전용면적(㎡)', '층',\n",
    "                     '세대별주차대수', '연식0-10', '연식11-30', '연식>30', '연식','target', 'is_test']]"
   ]
  },
  {
   "cell_type": "markdown",
   "metadata": {},
   "source": [
    "# 테스트셋 분리"
   ]
  },
  {
   "cell_type": "code",
   "execution_count": 44,
   "metadata": {},
   "outputs": [
    {
     "name": "stdout",
     "output_type": "stream",
     "text": [
      "(1124347, 15) (9294, 15)\n"
     ]
    }
   ],
   "source": [
    "# 이제 다시 train과 test dataset을 분할해줍니다. 위에서 제작해 놓았던 is_test 칼럼을 이용합니다.\n",
    "dt_train = concat_new.query('is_test==0')\n",
    "dt_test = concat_new.query('is_test==1')\n",
    "\n",
    "# 이제 is_test 칼럼은 drop해줍니다.\n",
    "dt_train.drop(['is_test'], axis = 1, inplace=True)\n",
    "dt_test.drop(['is_test'], axis = 1, inplace=True)\n",
    "print(dt_train.shape, dt_test.shape)"
   ]
  },
  {
   "cell_type": "code",
   "execution_count": 45,
   "metadata": {},
   "outputs": [
    {
     "name": "stdout",
     "output_type": "stream",
     "text": [
      "연속형 변수: ['계약날짜', '전세가격지수', '기준금리', '건축년도', '인구밀도 (명/㎢)', '전용면적(㎡)', '층', '세대별주차대수', '연식0-10', '연식11-30', '연식>30', '연식', 'target']\n",
      "범주형 변수: ['동', 'k-건설사(시공사)']\n"
     ]
    }
   ],
   "source": [
    "continuous_columns = []\n",
    "categorical_columns = []\n",
    "\n",
    "for column in dt_train.columns:\n",
    "    if pd.api.types.is_numeric_dtype(dt_train[column]):\n",
    "        continuous_columns.append(column)\n",
    "    else:\n",
    "        categorical_columns.append(column)\n",
    "\n",
    "\n",
    "print(\"연속형 변수:\", continuous_columns)\n",
    "print(\"범주형 변수:\", categorical_columns)"
   ]
  },
  {
   "cell_type": "code",
   "execution_count": 46,
   "metadata": {},
   "outputs": [],
   "source": [
    "dt_test = dt_test.drop(columns = ['target'])"
   ]
  },
  {
   "cell_type": "markdown",
   "metadata": {},
   "source": [
    "# 라벨링"
   ]
  },
  {
   "cell_type": "code",
   "execution_count": 47,
   "metadata": {},
   "outputs": [
    {
     "name": "stdout",
     "output_type": "stream",
     "text": [
      "변환전\n",
      " k-건설사(시공사)\n",
      "GS건설      118627.837247\n",
      "DL E&C     93076.923077\n",
      "롯데건설       86386.613621\n",
      "포스코건설      84716.398699\n",
      "삼성물산       80307.624356\n",
      "Name: target, dtype: float64\n",
      "변환후\n",
      " k-건설사(시공사)\n",
      "0    118627.837247\n",
      "1     93076.923077\n",
      "2     86386.613621\n",
      "3     84716.398699\n",
      "4     80307.624356\n",
      "Name: target, dtype: float64\n"
     ]
    }
   ],
   "source": [
    "# 'k-건설사(시공사)'열 라벨 인코딩\n",
    "\n",
    "# 건설사별 가격의 평균 내림차순 정렬\n",
    "apt_price = dt_train.groupby('k-건설사(시공사)')['target'].agg('mean').sort_values(ascending=False)\n",
    "print('변환전\\n', apt_price[:5])\n",
    "\n",
    "for i, a in enumerate(list(apt_price.index)):\n",
    "    dt_train.loc[dt_train['k-건설사(시공사)'] == a, 'k-건설사(시공사)'] = i # 라벨 인코딩\n",
    "    dt_test.loc[dt_test['k-건설사(시공사)'] == a, 'k-건설사(시공사)'] = i\n",
    "apt_price = dt_train.groupby('k-건설사(시공사)')['target'].agg('mean').sort_values(ascending=False)\n",
    "print('변환후\\n', apt_price[:5])"
   ]
  },
  {
   "cell_type": "code",
   "execution_count": 48,
   "metadata": {},
   "outputs": [
    {
     "data": {
      "text/plain": [
       "동\n",
       "압구정동    203222.949968\n",
       "반포동     165584.328383\n",
       "한남동     163018.425437\n",
       "대치동     137661.016096\n",
       "서빙고동    137556.679181\n",
       "도곡동     134878.969157\n",
       "청담동     132711.905342\n",
       "교남동     126097.702842\n",
       "한강로동    126032.274674\n",
       "장충동     121555.902778\n",
       "삼성동     118605.342231\n",
       "잠실동     116019.819715\n",
       "여의동     114653.923151\n",
       "회현동     114367.955614\n",
       "이촌동     111010.162298\n",
       "잠원동     109944.730995\n",
       "사직동     105313.775362\n",
       "남영동     104176.984962\n",
       "방배동     102100.245618\n",
       "내곡동      99780.401639\n",
       "Name: target, dtype: float64"
      ]
     },
     "execution_count": 48,
     "metadata": {},
     "output_type": "execute_result"
    }
   ],
   "source": [
    "# '동'열 라벨 인코딩\n",
    "dong_price = dt_train.groupby('동')['target'].agg('mean').sort_values(ascending=False)\n",
    "dong_price[:20]"
   ]
  },
  {
   "cell_type": "code",
   "execution_count": 49,
   "metadata": {},
   "outputs": [
    {
     "name": "stderr",
     "output_type": "stream",
     "text": [
      "  2%|▏         | 4/211 [00:00<00:13, 15.91it/s]"
     ]
    },
    {
     "name": "stderr",
     "output_type": "stream",
     "text": [
      "100%|██████████| 211/211 [00:12<00:00, 16.62it/s]\n"
     ]
    },
    {
     "data": {
      "text/html": [
       "<div>\n",
       "<style scoped>\n",
       "    .dataframe tbody tr th:only-of-type {\n",
       "        vertical-align: middle;\n",
       "    }\n",
       "\n",
       "    .dataframe tbody tr th {\n",
       "        vertical-align: top;\n",
       "    }\n",
       "\n",
       "    .dataframe thead th {\n",
       "        text-align: right;\n",
       "    }\n",
       "</style>\n",
       "<table border=\"1\" class=\"dataframe\">\n",
       "  <thead>\n",
       "    <tr style=\"text-align: right;\">\n",
       "      <th></th>\n",
       "      <th>계약날짜</th>\n",
       "      <th>전세가격지수</th>\n",
       "      <th>기준금리</th>\n",
       "      <th>동</th>\n",
       "      <th>k-건설사(시공사)</th>\n",
       "      <th>건축년도</th>\n",
       "      <th>인구밀도 (명/㎢)</th>\n",
       "      <th>전용면적(㎡)</th>\n",
       "      <th>층</th>\n",
       "      <th>세대별주차대수</th>\n",
       "      <th>연식0-10</th>\n",
       "      <th>연식11-30</th>\n",
       "      <th>연식&gt;30</th>\n",
       "      <th>연식</th>\n",
       "      <th>target</th>\n",
       "    </tr>\n",
       "  </thead>\n",
       "  <tbody>\n",
       "    <tr>\n",
       "      <th>0</th>\n",
       "      <td>20171208</td>\n",
       "      <td>92.7</td>\n",
       "      <td>1.5</td>\n",
       "      <td>27</td>\n",
       "      <td>8</td>\n",
       "      <td>1987</td>\n",
       "      <td>11824.116743</td>\n",
       "      <td>79.97</td>\n",
       "      <td>3</td>\n",
       "      <td>0.970370</td>\n",
       "      <td>0</td>\n",
       "      <td>0</td>\n",
       "      <td>1</td>\n",
       "      <td>36</td>\n",
       "      <td>124000.0</td>\n",
       "    </tr>\n",
       "    <tr>\n",
       "      <th>1</th>\n",
       "      <td>20171222</td>\n",
       "      <td>92.7</td>\n",
       "      <td>1.5</td>\n",
       "      <td>27</td>\n",
       "      <td>8</td>\n",
       "      <td>1987</td>\n",
       "      <td>11824.116743</td>\n",
       "      <td>79.97</td>\n",
       "      <td>4</td>\n",
       "      <td>0.970370</td>\n",
       "      <td>0</td>\n",
       "      <td>0</td>\n",
       "      <td>1</td>\n",
       "      <td>36</td>\n",
       "      <td>123500.0</td>\n",
       "    </tr>\n",
       "    <tr>\n",
       "      <th>2</th>\n",
       "      <td>20171228</td>\n",
       "      <td>92.7</td>\n",
       "      <td>1.5</td>\n",
       "      <td>27</td>\n",
       "      <td>8</td>\n",
       "      <td>1987</td>\n",
       "      <td>11824.116743</td>\n",
       "      <td>54.98</td>\n",
       "      <td>5</td>\n",
       "      <td>0.970370</td>\n",
       "      <td>0</td>\n",
       "      <td>0</td>\n",
       "      <td>1</td>\n",
       "      <td>36</td>\n",
       "      <td>91500.0</td>\n",
       "    </tr>\n",
       "    <tr>\n",
       "      <th>3</th>\n",
       "      <td>20171213</td>\n",
       "      <td>92.7</td>\n",
       "      <td>1.5</td>\n",
       "      <td>27</td>\n",
       "      <td>8</td>\n",
       "      <td>1984</td>\n",
       "      <td>11824.116743</td>\n",
       "      <td>161.00</td>\n",
       "      <td>6</td>\n",
       "      <td>1.034568</td>\n",
       "      <td>0</td>\n",
       "      <td>0</td>\n",
       "      <td>1</td>\n",
       "      <td>39</td>\n",
       "      <td>185000.0</td>\n",
       "    </tr>\n",
       "    <tr>\n",
       "      <th>4</th>\n",
       "      <td>20171216</td>\n",
       "      <td>92.7</td>\n",
       "      <td>1.5</td>\n",
       "      <td>27</td>\n",
       "      <td>8</td>\n",
       "      <td>1984</td>\n",
       "      <td>11824.116743</td>\n",
       "      <td>133.46</td>\n",
       "      <td>10</td>\n",
       "      <td>1.034568</td>\n",
       "      <td>0</td>\n",
       "      <td>0</td>\n",
       "      <td>1</td>\n",
       "      <td>39</td>\n",
       "      <td>175000.0</td>\n",
       "    </tr>\n",
       "  </tbody>\n",
       "</table>\n",
       "</div>"
      ],
      "text/plain": [
       "       계약날짜  전세가격지수  기준금리   동 k-건설사(시공사)  건축년도    인구밀도 (명/㎢)  전용면적(㎡)   층  \\\n",
       "0  20171208    92.7   1.5  27          8  1987  11824.116743    79.97   3   \n",
       "1  20171222    92.7   1.5  27          8  1987  11824.116743    79.97   4   \n",
       "2  20171228    92.7   1.5  27          8  1987  11824.116743    54.98   5   \n",
       "3  20171213    92.7   1.5  27          8  1984  11824.116743   161.00   6   \n",
       "4  20171216    92.7   1.5  27          8  1984  11824.116743   133.46  10   \n",
       "\n",
       "    세대별주차대수  연식0-10  연식11-30  연식>30  연식    target  \n",
       "0  0.970370       0        0      1  36  124000.0  \n",
       "1  0.970370       0        0      1  36  123500.0  \n",
       "2  0.970370       0        0      1  36   91500.0  \n",
       "3  1.034568       0        0      1  39  185000.0  \n",
       "4  1.034568       0        0      1  39  175000.0  "
      ]
     },
     "execution_count": 49,
     "metadata": {},
     "output_type": "execute_result"
    }
   ],
   "source": [
    "# 가격기준으로 동을 정렬한 리스트를 바탕으로 dong에 대해 라벨 인코딩 진행 - 477 it.\n",
    "for i, d in tqdm(enumerate(list(dong_price.index)), total=len(dong_price)):\n",
    "    dt_train.loc[dt_train['동'] == d, '동'] = i\n",
    "    dt_test.loc[dt_test['동'] == d, '동'] = i\n",
    "dt_train.head()"
   ]
  },
  {
   "cell_type": "code",
   "execution_count": 51,
   "metadata": {},
   "outputs": [
    {
     "name": "stdout",
     "output_type": "stream",
     "text": [
      "<class 'pandas.core.frame.DataFrame'>\n",
      "Int64Index: 1124347 entries, 0 to 1133640\n",
      "Data columns (total 15 columns):\n",
      " #   Column      Non-Null Count    Dtype  \n",
      "---  ------      --------------    -----  \n",
      " 0   계약날짜        1124347 non-null  int64  \n",
      " 1   전세가격지수      1124347 non-null  float64\n",
      " 2   기준금리        1124347 non-null  float64\n",
      " 3   동           1124347 non-null  int64  \n",
      " 4   k-건설사(시공사)  1124347 non-null  int64  \n",
      " 5   건축년도        1124347 non-null  int64  \n",
      " 6   인구밀도 (명/㎢)  1124347 non-null  float64\n",
      " 7   전용면적(㎡)     1124347 non-null  float64\n",
      " 8   층           1124347 non-null  int64  \n",
      " 9   세대별주차대수     1124347 non-null  float64\n",
      " 10  연식0-10      1124347 non-null  int64  \n",
      " 11  연식11-30     1124347 non-null  int64  \n",
      " 12  연식>30       1124347 non-null  int64  \n",
      " 13  연식          1124347 non-null  int64  \n",
      " 14  target      1124347 non-null  float64\n",
      "dtypes: float64(6), int64(9)\n",
      "memory usage: 137.2 MB\n"
     ]
    }
   ],
   "source": [
    "dt_train['동'] = dt_train['동'].astype('int64')\n",
    "dt_train['k-건설사(시공사)'] = dt_train['k-건설사(시공사)'].astype('int64')\n",
    "dt_test['동'] = dt_test['동'].astype('int64')\n",
    "dt_test['k-건설사(시공사)'] = dt_test['k-건설사(시공사)'].astype('int64')\n",
    "dt_train.info()"
   ]
  },
  {
   "cell_type": "markdown",
   "metadata": {},
   "source": [
    "# 타겟값 로그변환"
   ]
  },
  {
   "cell_type": "code",
   "execution_count": 52,
   "metadata": {},
   "outputs": [
    {
     "data": {
      "text/html": [
       "<div>\n",
       "<style scoped>\n",
       "    .dataframe tbody tr th:only-of-type {\n",
       "        vertical-align: middle;\n",
       "    }\n",
       "\n",
       "    .dataframe tbody tr th {\n",
       "        vertical-align: top;\n",
       "    }\n",
       "\n",
       "    .dataframe thead th {\n",
       "        text-align: right;\n",
       "    }\n",
       "</style>\n",
       "<table border=\"1\" class=\"dataframe\">\n",
       "  <thead>\n",
       "    <tr style=\"text-align: right;\">\n",
       "      <th></th>\n",
       "      <th>계약날짜</th>\n",
       "      <th>전세가격지수</th>\n",
       "      <th>기준금리</th>\n",
       "      <th>동</th>\n",
       "      <th>k-건설사(시공사)</th>\n",
       "      <th>건축년도</th>\n",
       "      <th>인구밀도 (명/㎢)</th>\n",
       "      <th>전용면적(㎡)</th>\n",
       "      <th>층</th>\n",
       "      <th>세대별주차대수</th>\n",
       "      <th>연식0-10</th>\n",
       "      <th>연식11-30</th>\n",
       "      <th>연식&gt;30</th>\n",
       "      <th>연식</th>\n",
       "      <th>log_target</th>\n",
       "    </tr>\n",
       "  </thead>\n",
       "  <tbody>\n",
       "    <tr>\n",
       "      <th>0</th>\n",
       "      <td>20171208</td>\n",
       "      <td>92.7</td>\n",
       "      <td>1.5</td>\n",
       "      <td>27</td>\n",
       "      <td>8</td>\n",
       "      <td>1987</td>\n",
       "      <td>11824.116743</td>\n",
       "      <td>79.97</td>\n",
       "      <td>3</td>\n",
       "      <td>0.97037</td>\n",
       "      <td>0</td>\n",
       "      <td>0</td>\n",
       "      <td>1</td>\n",
       "      <td>36</td>\n",
       "      <td>11.728045</td>\n",
       "    </tr>\n",
       "  </tbody>\n",
       "</table>\n",
       "</div>"
      ],
      "text/plain": [
       "       계약날짜  전세가격지수  기준금리   동  k-건설사(시공사)  건축년도    인구밀도 (명/㎢)  전용면적(㎡)  층  \\\n",
       "0  20171208    92.7   1.5  27           8  1987  11824.116743    79.97  3   \n",
       "\n",
       "   세대별주차대수  연식0-10  연식11-30  연식>30  연식  log_target  \n",
       "0  0.97037       0        0      1  36   11.728045  "
      ]
     },
     "execution_count": 52,
     "metadata": {},
     "output_type": "execute_result"
    }
   ],
   "source": [
    "# 가격 로그 변환 후 원래 가격 따로 저장\n",
    "dt_train['log_target'] = np.log1p(dt_train['target'])\n",
    "real_target = dt_train['target'] # 원래 가격\n",
    "dt_train.drop('target', axis=1, inplace=True)\n",
    "dt_train.head(1)"
   ]
  },
  {
   "cell_type": "code",
   "execution_count": 53,
   "metadata": {},
   "outputs": [],
   "source": [
    "train_X, train_y = dt_train.drop('log_target', axis=1), dt_train['log_target']"
   ]
  },
  {
   "cell_type": "markdown",
   "metadata": {},
   "source": [
    "# 하이퍼파라미터 튜닝"
   ]
  },
  {
   "cell_type": "code",
   "execution_count": 54,
   "metadata": {},
   "outputs": [],
   "source": [
    "from sklearn.model_selection import train_test_split"
   ]
  },
  {
   "cell_type": "code",
   "execution_count": 55,
   "metadata": {},
   "outputs": [],
   "source": [
    "def RMSE(y, y_pred):\n",
    "    rmse = mean_squared_error(y, y_pred) ** 0.5\n",
    "    return rmse"
   ]
  },
  {
   "cell_type": "code",
   "execution_count": 56,
   "metadata": {},
   "outputs": [
    {
     "name": "stdout",
     "output_type": "stream",
     "text": [
      "(753312, 14) (753312,) (371035, 14) (371035,)\n"
     ]
    }
   ],
   "source": [
    "h_train_X, h_valid_X, h_train_y, h_valid_y = train_test_split(train_X, train_y, test_size=0.33, random_state=42)\n",
    "print(h_train_X.shape, h_train_y.shape, h_valid_X.shape, h_valid_y.shape)"
   ]
  },
  {
   "cell_type": "code",
   "execution_count": 57,
   "metadata": {},
   "outputs": [
    {
     "name": "stderr",
     "output_type": "stream",
     "text": [
      "[I 2024-01-22 09:41:58,952] A new study created in memory with name: no-name-eedc077a-14ff-4b16-b9d8-5110fe90a537\n",
      "[I 2024-01-22 09:42:18,852] Trial 0 finished with value: 0.6357392054526004 and parameters: {'max_depth': 13, 'learning_rate': 1.3320229150659043e-08, 'n_estimators': 1938, 'min_child_samples': 76, 'subsample': 0.6315909175774905}. Best is trial 0 with value: 0.6357392054526004.\n",
      "[I 2024-01-22 09:42:40,230] Trial 1 finished with value: 0.6355755292838737 and parameters: {'max_depth': 5, 'learning_rate': 1.5430400149097381e-07, 'n_estimators': 2306, 'min_child_samples': 21, 'subsample': 0.4337244827306443}. Best is trial 1 with value: 0.6355755292838737.\n",
      "[I 2024-01-22 09:42:41,609] Trial 2 finished with value: 0.4204948585234025 and parameters: {'max_depth': 11, 'learning_rate': 0.005252427629146827, 'n_estimators': 111, 'min_child_samples': 54, 'subsample': 0.8422371309477078}. Best is trial 2 with value: 0.4204948585234025.\n",
      "[I 2024-01-22 09:42:51,730] Trial 3 finished with value: 0.5446227775601273 and parameters: {'max_depth': 10, 'learning_rate': 0.00021405821746591817, 'n_estimators': 946, 'min_child_samples': 93, 'subsample': 0.7698715745641292}. Best is trial 2 with value: 0.4204948585234025.\n",
      "[I 2024-01-22 09:43:03,923] Trial 4 finished with value: 0.6357097468178909 and parameters: {'max_depth': 10, 'learning_rate': 7.128863277996207e-08, 'n_estimators': 1183, 'min_child_samples': 69, 'subsample': 0.5996296351455978}. Best is trial 2 with value: 0.4204948585234025.\n",
      "[I 2024-01-22 09:43:21,077] Trial 5 finished with value: 0.5968743556880973 and parameters: {'max_depth': 8, 'learning_rate': 5.08864167992051e-05, 'n_estimators': 1588, 'min_child_samples': 67, 'subsample': 0.6938050197112922}. Best is trial 2 with value: 0.4204948585234025.\n",
      "[I 2024-01-22 09:43:49,864] Trial 6 finished with value: 0.6175635211203532 and parameters: {'max_depth': 13, 'learning_rate': 1.3485992516968212e-05, 'n_estimators': 2735, 'min_child_samples': 35, 'subsample': 0.4345676420333751}. Best is trial 2 with value: 0.4204948585234025.\n",
      "[I 2024-01-22 09:44:15,396] Trial 7 finished with value: 0.6356913254531422 and parameters: {'max_depth': 6, 'learning_rate': 4.8295444901938926e-08, 'n_estimators': 2504, 'min_child_samples': 9, 'subsample': 0.7100430887666348}. Best is trial 2 with value: 0.4204948585234025.\n",
      "[I 2024-01-22 09:44:22,848] Trial 8 finished with value: 0.4275059820347796 and parameters: {'max_depth': 10, 'learning_rate': 0.0008236106883720722, 'n_estimators': 677, 'min_child_samples': 87, 'subsample': 0.5520731753100153}. Best is trial 2 with value: 0.4204948585234025.\n",
      "[I 2024-01-22 09:44:50,828] Trial 9 finished with value: 0.634952731449758 and parameters: {'max_depth': 12, 'learning_rate': 5.967195151630884e-07, 'n_estimators': 2664, 'min_child_samples': 36, 'subsample': 0.46529289303849874}. Best is trial 2 with value: 0.4204948585234025.\n",
      "[I 2024-01-22 09:44:51,962] Trial 10 finished with value: 0.40615329113621246 and parameters: {'max_depth': 3, 'learning_rate': 0.007287079614451871, 'n_estimators': 125, 'min_child_samples': 50, 'subsample': 0.9370978022952945}. Best is trial 10 with value: 0.40615329113621246.\n",
      "[I 2024-01-22 09:44:53,105] Trial 11 finished with value: 0.35390940606746085 and parameters: {'max_depth': 3, 'learning_rate': 0.009781360056777894, 'n_estimators': 134, 'min_child_samples': 50, 'subsample': 0.9778082962377218}. Best is trial 11 with value: 0.35390940606746085.\n",
      "[I 2024-01-22 09:44:54,362] Trial 12 finished with value: 0.36967432474650835 and parameters: {'max_depth': 3, 'learning_rate': 0.007773589322284729, 'n_estimators': 151, 'min_child_samples': 46, 'subsample': 0.9989436234186677}. Best is trial 11 with value: 0.35390940606746085.\n",
      "[I 2024-01-22 09:44:58,101] Trial 13 finished with value: 0.5035657927176669 and parameters: {'max_depth': 3, 'learning_rate': 0.0007774822178201122, 'n_estimators': 544, 'min_child_samples': 49, 'subsample': 0.9537507201053227}. Best is trial 11 with value: 0.35390940606746085.\n",
      "[I 2024-01-22 09:45:04,014] Trial 14 finished with value: 0.6353802580114045 and parameters: {'max_depth': 15, 'learning_rate': 1.368831194255526e-06, 'n_estimators': 540, 'min_child_samples': 34, 'subsample': 0.9796365205471653}. Best is trial 11 with value: 0.35390940606746085.\n",
      "[I 2024-01-22 09:45:16,120] Trial 15 finished with value: 0.2587722356955777 and parameters: {'max_depth': 5, 'learning_rate': 0.0014612244189578791, 'n_estimators': 1196, 'min_child_samples': 59, 'subsample': 0.8379610960606707}. Best is trial 15 with value: 0.2587722356955777.\n",
      "[I 2024-01-22 09:45:31,121] Trial 16 finished with value: 0.38851037465055993 and parameters: {'max_depth': 6, 'learning_rate': 0.0005201620776173716, 'n_estimators': 1379, 'min_child_samples': 60, 'subsample': 0.8387686631458968}. Best is trial 15 with value: 0.2587722356955777.\n",
      "[I 2024-01-22 09:45:49,602] Trial 17 finished with value: 0.5773390214054864 and parameters: {'max_depth': 5, 'learning_rate': 6.790663195577398e-05, 'n_estimators': 1867, 'min_child_samples': 79, 'subsample': 0.8454918854124668}. Best is trial 15 with value: 0.2587722356955777.\n",
      "[I 2024-01-22 09:46:01,020] Trial 18 finished with value: 0.19827423517684306 and parameters: {'max_depth': 8, 'learning_rate': 0.0034512962964751456, 'n_estimators': 964, 'min_child_samples': 23, 'subsample': 0.7551738281217693}. Best is trial 18 with value: 0.19827423517684306.\n",
      "[I 2024-01-22 09:46:11,917] Trial 19 finished with value: 0.27036626070490993 and parameters: {'max_depth': 7, 'learning_rate': 0.0016151271893630687, 'n_estimators': 955, 'min_child_samples': 11, 'subsample': 0.7248193949654819}. Best is trial 18 with value: 0.19827423517684306.\n",
      "[I 2024-01-22 09:46:30,014] Trial 20 finished with value: 0.630584830875379 and parameters: {'max_depth': 8, 'learning_rate': 6.125424702987981e-06, 'n_estimators': 1686, 'min_child_samples': 22, 'subsample': 0.5534573772272844}. Best is trial 18 with value: 0.19827423517684306.\n",
      "[I 2024-01-22 09:46:40,632] Trial 21 finished with value: 0.26273759557425425 and parameters: {'max_depth': 7, 'learning_rate': 0.001724060926238623, 'n_estimators': 949, 'min_child_samples': 5, 'subsample': 0.7401098782588889}. Best is trial 18 with value: 0.19827423517684306.\n",
      "[I 2024-01-22 09:46:53,549] Trial 22 finished with value: 0.21114406451513082 and parameters: {'max_depth': 8, 'learning_rate': 0.002354928842871457, 'n_estimators': 1159, 'min_child_samples': 5, 'subsample': 0.7917356137383065}. Best is trial 18 with value: 0.19827423517684306.\n",
      "[I 2024-01-22 09:47:07,008] Trial 23 finished with value: 0.5597893136675138 and parameters: {'max_depth': 8, 'learning_rate': 0.00012967707814410406, 'n_estimators': 1276, 'min_child_samples': 18, 'subsample': 0.8092642887308649}. Best is trial 18 with value: 0.19827423517684306.\n",
      "[I 2024-01-22 09:47:17,995] Trial 24 finished with value: 0.22676264363309398 and parameters: {'max_depth': 5, 'learning_rate': 0.002205304414520416, 'n_estimators': 1089, 'min_child_samples': 26, 'subsample': 0.6752964416666491}. Best is trial 18 with value: 0.19827423517684306.\n",
      "[I 2024-01-22 09:47:26,059] Trial 25 finished with value: 0.5183173244072935 and parameters: {'max_depth': 9, 'learning_rate': 0.000363309193203308, 'n_estimators': 745, 'min_child_samples': 27, 'subsample': 0.6739751780291228}. Best is trial 18 with value: 0.19827423517684306.\n",
      "[I 2024-01-22 09:47:41,068] Trial 26 finished with value: 0.6215743579314681 and parameters: {'max_depth': 6, 'learning_rate': 1.950703342719865e-05, 'n_estimators': 1468, 'min_child_samples': 16, 'subsample': 0.6414092338025281}. Best is trial 18 with value: 0.19827423517684306.\n",
      "[I 2024-01-22 09:47:53,071] Trial 27 finished with value: 0.2059590548433024 and parameters: {'max_depth': 9, 'learning_rate': 0.0027594391216248524, 'n_estimators': 1064, 'min_child_samples': 26, 'subsample': 0.5618086936668583}. Best is trial 18 with value: 0.19827423517684306.\n",
      "[I 2024-01-22 09:47:57,237] Trial 28 finished with value: 0.274281261841238 and parameters: {'max_depth': 9, 'learning_rate': 0.004145217470794168, 'n_estimators': 361, 'min_child_samples': 11, 'subsample': 0.5729452107775886}. Best is trial 18 with value: 0.19827423517684306.\n",
      "[I 2024-01-22 09:48:19,696] Trial 29 finished with value: 0.44643140380985047 and parameters: {'max_depth': 9, 'learning_rate': 0.0002313500778893689, 'n_estimators': 2117, 'min_child_samples': 40, 'subsample': 0.4780697087371365}. Best is trial 18 with value: 0.19827423517684306.\n",
      "[I 2024-01-22 09:48:38,464] Trial 30 finished with value: 0.6327152602251394 and parameters: {'max_depth': 11, 'learning_rate': 3.4359382820313137e-06, 'n_estimators': 1762, 'min_child_samples': 28, 'subsample': 0.6189750085150246}. Best is trial 18 with value: 0.19827423517684306.\n",
      "[I 2024-01-22 09:48:50,310] Trial 31 finished with value: 0.21070360740088748 and parameters: {'max_depth': 7, 'learning_rate': 0.0025991521066344603, 'n_estimators': 1059, 'min_child_samples': 27, 'subsample': 0.5177433545349364}. Best is trial 18 with value: 0.19827423517684306.\n",
      "[I 2024-01-22 09:48:59,200] Trial 32 finished with value: 0.22564767326030222 and parameters: {'max_depth': 7, 'learning_rate': 0.002892534205805447, 'n_estimators': 793, 'min_child_samples': 15, 'subsample': 0.4976744998689345}. Best is trial 18 with value: 0.19827423517684306.\n",
      "[I 2024-01-22 09:49:10,733] Trial 33 finished with value: 0.3331414228970615 and parameters: {'max_depth': 8, 'learning_rate': 0.0009597873611230688, 'n_estimators': 1053, 'min_child_samples': 41, 'subsample': 0.5247492222324364}. Best is trial 18 with value: 0.19827423517684306.\n",
      "[I 2024-01-22 09:49:27,005] Trial 34 finished with value: 0.17706087577790353 and parameters: {'max_depth': 11, 'learning_rate': 0.0037632968348191684, 'n_estimators': 1417, 'min_child_samples': 5, 'subsample': 0.4111484383347534}. Best is trial 34 with value: 0.17706087577790353.\n",
      "[I 2024-01-22 09:49:59,128] Trial 35 finished with value: 0.15558769024851948 and parameters: {'max_depth': 11, 'learning_rate': 0.0036777019548282176, 'n_estimators': 2985, 'min_child_samples': 23, 'subsample': 0.4168027083028591}. Best is trial 35 with value: 0.15558769024851948.\n",
      "[I 2024-01-22 09:50:22,245] Trial 36 finished with value: 0.5246560842604143 and parameters: {'max_depth': 11, 'learning_rate': 0.00011667404859705454, 'n_estimators': 2175, 'min_child_samples': 22, 'subsample': 0.41823750489665346}. Best is trial 35 with value: 0.15558769024851948.\n",
      "[I 2024-01-22 09:50:37,963] Trial 37 finished with value: 0.6357442976351378 and parameters: {'max_depth': 13, 'learning_rate': 1.0247621894239389e-08, 'n_estimators': 1532, 'min_child_samples': 16, 'subsample': 0.41247354017014404}. Best is trial 35 with value: 0.15558769024851948.\n",
      "[I 2024-01-22 09:50:52,076] Trial 38 finished with value: 0.6146387906426465 and parameters: {'max_depth': 12, 'learning_rate': 3.1774767809458236e-05, 'n_estimators': 1352, 'min_child_samples': 30, 'subsample': 0.4387208143248328}. Best is trial 35 with value: 0.15558769024851948.\n",
      "[I 2024-01-22 09:51:22,317] Trial 39 finished with value: 0.3537757815766569 and parameters: {'max_depth': 10, 'learning_rate': 0.0003155076585094083, 'n_estimators': 2819, 'min_child_samples': 21, 'subsample': 0.4024138346309576}. Best is trial 35 with value: 0.15558769024851948.\n",
      "[I 2024-01-22 09:51:47,889] Trial 40 finished with value: 0.15332154452047364 and parameters: {'max_depth': 11, 'learning_rate': 0.005046875968987154, 'n_estimators': 2348, 'min_child_samples': 10, 'subsample': 0.4376583673307852}. Best is trial 40 with value: 0.15332154452047364.\n",
      "[I 2024-01-22 09:52:14,760] Trial 41 finished with value: 0.15635698290321565 and parameters: {'max_depth': 11, 'learning_rate': 0.004290104676446699, 'n_estimators': 2480, 'min_child_samples': 10, 'subsample': 0.4568994911769673}. Best is trial 40 with value: 0.15332154452047364.\n",
      "[I 2024-01-22 09:52:41,369] Trial 42 finished with value: 0.15237353562718553 and parameters: {'max_depth': 12, 'learning_rate': 0.004984509373168584, 'n_estimators': 2466, 'min_child_samples': 10, 'subsample': 0.45007964726488037}. Best is trial 42 with value: 0.15237353562718553.\n",
      "[I 2024-01-22 09:53:11,738] Trial 43 finished with value: 0.14634524337768548 and parameters: {'max_depth': 14, 'learning_rate': 0.005264180141443096, 'n_estimators': 2959, 'min_child_samples': 9, 'subsample': 0.4548082607357947}. Best is trial 43 with value: 0.14634524337768548.\n",
      "[I 2024-01-22 09:53:40,187] Trial 44 finished with value: 0.1368169911483561 and parameters: {'max_depth': 14, 'learning_rate': 0.0076400141372205115, 'n_estimators': 2955, 'min_child_samples': 12, 'subsample': 0.46073306792727264}. Best is trial 44 with value: 0.1368169911483561.\n",
      "[I 2024-01-22 09:54:07,812] Trial 45 finished with value: 0.13030497882830797 and parameters: {'max_depth': 15, 'learning_rate': 0.009903235281344857, 'n_estimators': 2969, 'min_child_samples': 14, 'subsample': 0.4485593726625884}. Best is trial 45 with value: 0.13030497882830797.\n",
      "[I 2024-01-22 09:54:37,367] Trial 46 finished with value: 0.13799004148846666 and parameters: {'max_depth': 15, 'learning_rate': 0.007364072238196074, 'n_estimators': 2972, 'min_child_samples': 99, 'subsample': 0.4469928692972328}. Best is trial 45 with value: 0.13030497882830797.\n",
      "[I 2024-01-22 09:55:04,820] Trial 47 finished with value: 0.13087097121096503 and parameters: {'max_depth': 15, 'learning_rate': 0.009978772497137477, 'n_estimators': 2961, 'min_child_samples': 96, 'subsample': 0.47763181321762777}. Best is trial 45 with value: 0.13030497882830797.\n",
      "[I 2024-01-22 09:55:32,762] Trial 48 finished with value: 0.1303740786425427 and parameters: {'max_depth': 15, 'learning_rate': 0.009949781944814157, 'n_estimators': 2990, 'min_child_samples': 100, 'subsample': 0.4808639847464027}. Best is trial 45 with value: 0.13030497882830797.\n",
      "[I 2024-01-22 09:55:58,951] Trial 49 finished with value: 0.14040582024413437 and parameters: {'max_depth': 15, 'learning_rate': 0.007528720019961511, 'n_estimators': 2651, 'min_child_samples': 99, 'subsample': 0.4767285218461288}. Best is trial 45 with value: 0.13030497882830797.\n",
      "[I 2024-01-22 09:56:29,966] Trial 50 finished with value: 0.20606571672671042 and parameters: {'max_depth': 14, 'learning_rate': 0.0010386188945857749, 'n_estimators': 2821, 'min_child_samples': 89, 'subsample': 0.5013005516473145}. Best is trial 45 with value: 0.13030497882830797.\n",
      "[I 2024-01-22 09:56:56,815] Trial 51 finished with value: 0.14218493169785115 and parameters: {'max_depth': 15, 'learning_rate': 0.007005335624105012, 'n_estimators': 2653, 'min_child_samples': 97, 'subsample': 0.4721633932474175}. Best is trial 45 with value: 0.13030497882830797.\n",
      "[I 2024-01-22 09:57:24,403] Trial 52 finished with value: 0.13332937045523782 and parameters: {'max_depth': 15, 'learning_rate': 0.009193614878520748, 'n_estimators': 2854, 'min_child_samples': 100, 'subsample': 0.4797475593507724}. Best is trial 45 with value: 0.13030497882830797.\n",
      "[I 2024-01-22 09:57:53,538] Trial 53 finished with value: 0.13590617476316968 and parameters: {'max_depth': 14, 'learning_rate': 0.008344785497412993, 'n_estimators': 2852, 'min_child_samples': 81, 'subsample': 0.4983878516156773}. Best is trial 45 with value: 0.13030497882830797.\n",
      "[I 2024-01-22 09:58:21,249] Trial 54 finished with value: 0.13171900510816323 and parameters: {'max_depth': 14, 'learning_rate': 0.009802898754216074, 'n_estimators': 2839, 'min_child_samples': 84, 'subsample': 0.49704141956159253}. Best is trial 45 with value: 0.13030497882830797.\n",
      "[I 2024-01-22 09:58:52,185] Trial 55 finished with value: 0.27433705269019815 and parameters: {'max_depth': 13, 'learning_rate': 0.0005357231885937999, 'n_estimators': 2796, 'min_child_samples': 80, 'subsample': 0.5354544233746799}. Best is trial 45 with value: 0.13030497882830797.\n",
      "[I 2024-01-22 09:59:17,486] Trial 56 finished with value: 0.13475324810431366 and parameters: {'max_depth': 14, 'learning_rate': 0.009526282241907442, 'n_estimators': 2578, 'min_child_samples': 93, 'subsample': 0.5003206415153011}. Best is trial 45 with value: 0.13030497882830797.\n",
      "[I 2024-01-22 09:59:44,692] Trial 57 finished with value: 0.6356489081086851 and parameters: {'max_depth': 15, 'learning_rate': 7.874436168346277e-08, 'n_estimators': 2606, 'min_child_samples': 93, 'subsample': 0.48680597868541126}. Best is trial 45 with value: 0.13030497882830797.\n",
      "[I 2024-01-22 10:00:14,267] Trial 58 finished with value: 0.19604273388945315 and parameters: {'max_depth': 14, 'learning_rate': 0.0013314045069928238, 'n_estimators': 2595, 'min_child_samples': 86, 'subsample': 0.5801455874963025}. Best is trial 45 with value: 0.13030497882830797.\n",
      "[I 2024-01-22 10:00:42,916] Trial 59 finished with value: 0.6348314255651548 and parameters: {'max_depth': 13, 'learning_rate': 6.651235995927803e-07, 'n_estimators': 2753, 'min_child_samples': 71, 'subsample': 0.5147638335549516}. Best is trial 45 with value: 0.13030497882830797.\n",
      "[I 2024-01-22 10:01:10,170] Trial 60 finished with value: 0.18755818424268872 and parameters: {'max_depth': 15, 'learning_rate': 0.0017221582671177614, 'n_estimators': 2379, 'min_child_samples': 93, 'subsample': 0.4270734107789341}. Best is trial 45 with value: 0.13030497882830797.\n",
      "[I 2024-01-22 10:01:38,324] Trial 61 finished with value: 0.13372972627475224 and parameters: {'max_depth': 14, 'learning_rate': 0.008931464230903475, 'n_estimators': 2901, 'min_child_samples': 83, 'subsample': 0.5309903653792547}. Best is trial 45 with value: 0.13030497882830797.\n",
      "[I 2024-01-22 10:02:09,533] Trial 62 finished with value: 0.6357164427900998 and parameters: {'max_depth': 14, 'learning_rate': 2.464693945626374e-08, 'n_estimators': 2882, 'min_child_samples': 89, 'subsample': 0.5440882671055841}. Best is trial 45 with value: 0.13030497882830797.\n",
      "[I 2024-01-22 10:02:37,270] Trial 63 finished with value: 0.13143917982767758 and parameters: {'max_depth': 15, 'learning_rate': 0.009804351209899817, 'n_estimators': 2888, 'min_child_samples': 84, 'subsample': 0.5082687245680093}. Best is trial 45 with value: 0.13030497882830797.\n",
      "[I 2024-01-22 10:03:03,210] Trial 64 finished with value: 0.13285506381869336 and parameters: {'max_depth': 15, 'learning_rate': 0.009867093888221618, 'n_estimators': 2733, 'min_child_samples': 75, 'subsample': 0.5331726649302265}. Best is trial 45 with value: 0.13030497882830797.\n",
      "[I 2024-01-22 10:03:32,741] Trial 65 finished with value: 0.2619570703942124 and parameters: {'max_depth': 15, 'learning_rate': 0.0006012663747142349, 'n_estimators': 2738, 'min_child_samples': 75, 'subsample': 0.48831708745677}. Best is trial 45 with value: 0.13030497882830797.\n",
      "[I 2024-01-22 10:03:58,343] Trial 66 finished with value: 0.1818005838083947 and parameters: {'max_depth': 15, 'learning_rate': 0.0020958890655335062, 'n_estimators': 2249, 'min_child_samples': 96, 'subsample': 0.5106707424230713}. Best is trial 45 with value: 0.13030497882830797.\n",
      "[I 2024-01-22 10:04:26,878] Trial 67 finished with value: 0.14952632512671743 and parameters: {'max_depth': 15, 'learning_rate': 0.005079912279859336, 'n_estimators': 2705, 'min_child_samples': 76, 'subsample': 0.4714811679375884}. Best is trial 45 with value: 0.13030497882830797.\n",
      "[I 2024-01-22 10:05:00,003] Trial 68 finished with value: 0.15761631864862855 and parameters: {'max_depth': 15, 'learning_rate': 0.0033815365291027803, 'n_estimators': 2993, 'min_child_samples': 56, 'subsample': 0.5831364624607034}. Best is trial 45 with value: 0.13030497882830797.\n",
      "[I 2024-01-22 10:05:27,221] Trial 69 finished with value: 0.13161157650086686 and parameters: {'max_depth': 14, 'learning_rate': 0.009875997496681515, 'n_estimators': 2873, 'min_child_samples': 62, 'subsample': 0.4839563919453979}. Best is trial 45 with value: 0.13030497882830797.\n",
      "[I 2024-01-22 10:05:50,315] Trial 70 finished with value: 0.20882450574606243 and parameters: {'max_depth': 13, 'learning_rate': 0.001378915714243416, 'n_estimators': 2041, 'min_child_samples': 66, 'subsample': 0.6038887310939045}. Best is trial 45 with value: 0.13030497882830797.\n",
      "[I 2024-01-22 10:06:16,724] Trial 71 finished with value: 0.13356078346815078 and parameters: {'max_depth': 14, 'learning_rate': 0.00941074709312028, 'n_estimators': 2750, 'min_child_samples': 62, 'subsample': 0.489682573610623}. Best is trial 45 with value: 0.13030497882830797.\n",
      "[I 2024-01-22 10:06:46,608] Trial 72 finished with value: 0.14568396083760898 and parameters: {'max_depth': 15, 'learning_rate': 0.005544489580904553, 'n_estimators': 2903, 'min_child_samples': 86, 'subsample': 0.46545338467669495}. Best is trial 45 with value: 0.13030497882830797.\n",
      "[I 2024-01-22 10:07:15,472] Trial 73 finished with value: 0.1662881658962931 and parameters: {'max_depth': 13, 'learning_rate': 0.0029663413649321066, 'n_estimators': 2520, 'min_child_samples': 90, 'subsample': 0.4293709982509611}. Best is trial 45 with value: 0.13030497882830797.\n",
      "[I 2024-01-22 10:07:44,947] Trial 74 finished with value: 0.1441037229291923 and parameters: {'max_depth': 15, 'learning_rate': 0.00591518233908015, 'n_estimators': 2868, 'min_child_samples': 72, 'subsample': 0.5101100874708215}. Best is trial 45 with value: 0.13030497882830797.\n",
      "[I 2024-01-22 10:08:10,699] Trial 75 finished with value: 0.13326442178242368 and parameters: {'max_depth': 14, 'learning_rate': 0.00981990890487847, 'n_estimators': 2683, 'min_child_samples': 84, 'subsample': 0.48247106975213166}. Best is trial 45 with value: 0.13030497882830797.\n",
      "[I 2024-01-22 10:08:41,406] Trial 76 finished with value: 0.1749738080347535 and parameters: {'max_depth': 12, 'learning_rate': 0.0021060372715821308, 'n_estimators': 2690, 'min_child_samples': 77, 'subsample': 0.5470608585073647}. Best is trial 45 with value: 0.13030497882830797.\n",
      "[I 2024-01-22 10:09:11,747] Trial 77 finished with value: 0.15492743749112345 and parameters: {'max_depth': 14, 'learning_rate': 0.004046324616283224, 'n_estimators': 2771, 'min_child_samples': 82, 'subsample': 0.4465754442103022}. Best is trial 45 with value: 0.13030497882830797.\n",
      "[I 2024-01-22 10:09:39,493] Trial 78 finished with value: 0.16757019918699126 and parameters: {'max_depth': 14, 'learning_rate': 0.0029293325283480734, 'n_estimators': 2416, 'min_child_samples': 84, 'subsample': 0.5289188970363387}. Best is trial 45 with value: 0.13030497882830797.\n",
      "[I 2024-01-22 10:10:07,357] Trial 79 finished with value: 0.14680584926321624 and parameters: {'max_depth': 14, 'learning_rate': 0.005808938579736151, 'n_estimators': 2667, 'min_child_samples': 66, 'subsample': 0.5584527283837635}. Best is trial 45 with value: 0.13030497882830797.\n",
      "[I 2024-01-22 10:10:35,604] Trial 80 finished with value: 0.2235747335196799 and parameters: {'max_depth': 13, 'learning_rate': 0.000912922500024007, 'n_estimators': 2568, 'min_child_samples': 72, 'subsample': 0.4631831427486735}. Best is trial 45 with value: 0.13030497882830797.\n",
      "[I 2024-01-22 10:11:02,839] Trial 81 finished with value: 0.13276782329966655 and parameters: {'max_depth': 15, 'learning_rate': 0.009685029096561512, 'n_estimators': 2817, 'min_child_samples': 96, 'subsample': 0.4823509843933849}. Best is trial 45 with value: 0.13030497882830797.\n",
      "[I 2024-01-22 10:11:30,329] Trial 82 finished with value: 0.13260002779942104 and parameters: {'max_depth': 15, 'learning_rate': 0.009442629040736839, 'n_estimators': 2902, 'min_child_samples': 96, 'subsample': 0.48443981586720614}. Best is trial 45 with value: 0.13030497882830797.\n",
      "[I 2024-01-22 10:12:01,693] Trial 83 finished with value: 0.15246139544393755 and parameters: {'max_depth': 15, 'learning_rate': 0.004240014848191202, 'n_estimators': 2927, 'min_child_samples': 96, 'subsample': 0.5207925615897642}. Best is trial 45 with value: 0.13030497882830797.\n",
      "[I 2024-01-22 10:12:31,443] Trial 84 finished with value: 0.14163127265838513 and parameters: {'max_depth': 15, 'learning_rate': 0.006387139295658289, 'n_estimators': 2984, 'min_child_samples': 91, 'subsample': 0.5064345555631256}. Best is trial 45 with value: 0.13030497882830797.\n",
      "[I 2024-01-22 10:12:52,659] Trial 85 finished with value: 0.15879239719863358 and parameters: {'max_depth': 4, 'learning_rate': 0.009842589133319115, 'n_estimators': 2811, 'min_child_samples': 96, 'subsample': 0.4936899798380852}. Best is trial 45 with value: 0.13030497882830797.\n",
      "[I 2024-01-22 10:13:26,117] Trial 86 finished with value: 0.16730491849356013 and parameters: {'max_depth': 15, 'learning_rate': 0.0024467038612391817, 'n_estimators': 2907, 'min_child_samples': 46, 'subsample': 0.44186444789860896}. Best is trial 45 with value: 0.13030497882830797.\n",
      "[I 2024-01-22 10:13:56,336] Trial 87 finished with value: 0.1421562939404828 and parameters: {'max_depth': 15, 'learning_rate': 0.006230701301907552, 'n_estimators': 2998, 'min_child_samples': 94, 'subsample': 0.4688668391118145}. Best is trial 45 with value: 0.13030497882830797.\n",
      "[I 2024-01-22 10:14:27,953] Trial 88 finished with value: 0.15665970629434323 and parameters: {'max_depth': 14, 'learning_rate': 0.0037426289135795475, 'n_estimators': 2806, 'min_child_samples': 91, 'subsample': 0.4275864744074713}. Best is trial 45 with value: 0.13030497882830797.\n",
      "[I 2024-01-22 10:14:54,112] Trial 89 finished with value: 0.6269263004489906 and parameters: {'max_depth': 15, 'learning_rate': 6.9808337767323056e-06, 'n_estimators': 2538, 'min_child_samples': 64, 'subsample': 0.45655225632298285}. Best is trial 45 with value: 0.13030497882830797.\n",
      "[I 2024-01-22 10:15:23,223] Trial 90 finished with value: 0.14107195202428527 and parameters: {'max_depth': 14, 'learning_rate': 0.006617097730500878, 'n_estimators': 2909, 'min_child_samples': 69, 'subsample': 0.4792412806412294}. Best is trial 45 with value: 0.13030497882830797.\n",
      "[I 2024-01-22 10:15:50,119] Trial 91 finished with value: 0.13401780982966197 and parameters: {'max_depth': 14, 'learning_rate': 0.009399225525993218, 'n_estimators': 2732, 'min_child_samples': 87, 'subsample': 0.4846293277133233}. Best is trial 45 with value: 0.13030497882830797.\n",
      "[I 2024-01-22 10:16:18,612] Trial 92 finished with value: 0.1531605940726139 and parameters: {'max_depth': 15, 'learning_rate': 0.004547511915994028, 'n_estimators': 2636, 'min_child_samples': 78, 'subsample': 0.49570711887612345}. Best is trial 45 with value: 0.13030497882830797.\n",
      "[I 2024-01-22 10:16:45,633] Trial 93 finished with value: 0.13179728607044258 and parameters: {'max_depth': 13, 'learning_rate': 0.009843236448169587, 'n_estimators': 2831, 'min_child_samples': 100, 'subsample': 0.47591754645683015}. Best is trial 45 with value: 0.13030497882830797.\n",
      "[I 2024-01-22 10:17:14,799] Trial 94 finished with value: 0.14128793401456521 and parameters: {'max_depth': 15, 'learning_rate': 0.006763572256811093, 'n_estimators': 2825, 'min_child_samples': 100, 'subsample': 0.454173835809274}. Best is trial 45 with value: 0.13030497882830797.\n",
      "[I 2024-01-22 10:17:46,967] Trial 95 finished with value: 0.16020999012914305 and parameters: {'max_depth': 14, 'learning_rate': 0.0032308057157209216, 'n_estimators': 2857, 'min_child_samples': 98, 'subsample': 0.4707585006061003}. Best is trial 45 with value: 0.13030497882830797.\n",
      "[I 2024-01-22 10:18:18,415] Trial 96 finished with value: 0.15066231938349378 and parameters: {'max_depth': 13, 'learning_rate': 0.004523398354725544, 'n_estimators': 2935, 'min_child_samples': 95, 'subsample': 0.5156582514726734}. Best is trial 45 with value: 0.13030497882830797.\n",
      "[I 2024-01-22 10:18:47,879] Trial 97 finished with value: 0.6326993430121319 and parameters: {'max_depth': 15, 'learning_rate': 2.1923532527668403e-06, 'n_estimators': 2776, 'min_child_samples': 92, 'subsample': 0.6483694741360444}. Best is trial 45 with value: 0.13030497882830797.\n",
      "[I 2024-01-22 10:19:22,396] Trial 98 finished with value: 0.17211919632274544 and parameters: {'max_depth': 15, 'learning_rate': 0.002038510203254501, 'n_estimators': 2997, 'min_child_samples': 54, 'subsample': 0.5344490009877002}. Best is trial 45 with value: 0.13030497882830797.\n",
      "[I 2024-01-22 10:19:54,826] Trial 99 finished with value: 0.19253038677728251 and parameters: {'max_depth': 13, 'learning_rate': 0.0012884874544058689, 'n_estimators': 2859, 'min_child_samples': 88, 'subsample': 0.5049704527611871}. Best is trial 45 with value: 0.13030497882830797.\n"
     ]
    }
   ],
   "source": [
    "from optuna.samplers import TPESampler\n",
    "\n",
    "sampler = TPESampler(seed=10)\n",
    "\n",
    "def objective(trial):\n",
    "    dtrain = lgb.Dataset(h_train_X, label=h_train_y)\n",
    "    dtest = lgb.Dataset(h_valid_X, label=h_valid_y)\n",
    "\n",
    "    param = {\n",
    "        'objective': 'regression', # 회귀\n",
    "        'verbose': -1,\n",
    "        'metric': 'rmse', \n",
    "        'max_depth': trial.suggest_int('max_depth',3, 15),\n",
    "        'learning_rate': trial.suggest_loguniform(\"learning_rate\", 1e-8, 1e-2),\n",
    "        'n_estimators': trial.suggest_int('n_estimators', 100, 3000),\n",
    "        'min_child_samples': trial.suggest_int('min_child_samples', 5, 100),\n",
    "        'subsample': trial.suggest_loguniform('subsample', 0.4, 1),\n",
    "    }\n",
    "\n",
    "    model = lgb.LGBMRegressor(**param)\n",
    "    lgb_model = model.fit(h_train_X, h_train_y, eval_set=[(h_valid_X, h_valid_y)])\n",
    "    rmse = RMSE(h_valid_y, lgb_model.predict(h_valid_X))\n",
    "    return rmse\n",
    "        \n",
    "study_lgb = optuna.create_study(direction='minimize', sampler=sampler)\n",
    "study_lgb.optimize(objective, n_trials=100)"
   ]
  },
  {
   "cell_type": "code",
   "execution_count": 58,
   "metadata": {},
   "outputs": [
    {
     "name": "stdout",
     "output_type": "stream",
     "text": [
      "Best Trial: score 0.13030497882830797,\n",
      "params {'max_depth': 15, 'learning_rate': 0.009903235281344857, 'n_estimators': 2969, 'min_child_samples': 14, 'subsample': 0.4485593726625884}\n"
     ]
    }
   ],
   "source": [
    "trial = study_lgb.best_trial\n",
    "trial_params = trial.params\n",
    "print('Best Trial: score {},\\nparams {}'.format(trial.value, trial_params))"
   ]
  },
  {
   "cell_type": "code",
   "execution_count": 59,
   "metadata": {},
   "outputs": [
    {
     "name": "stdout",
     "output_type": "stream",
     "text": [
      "[LightGBM] [Warning] Accuracy may be bad since you didn't explicitly set num_leaves OR 2^max_depth > num_leaves. (num_leaves=31).\n",
      "[LightGBM] [Warning] Found whitespace in feature_names, replace with underlines\n",
      "[LightGBM] [Warning] Accuracy may be bad since you didn't explicitly set num_leaves OR 2^max_depth > num_leaves. (num_leaves=31).\n",
      "[LightGBM] [Info] Auto-choosing row-wise multi-threading, the overhead of testing was 0.007417 seconds.\n",
      "You can set `force_row_wise=true` to remove the overhead.\n",
      "And if memory is not enough, you can set `force_col_wise=true`.\n",
      "[LightGBM] [Info] Total Bins 1561\n",
      "[LightGBM] [Info] Number of data points in the train set: 1124347, number of used features: 14\n",
      "[LightGBM] [Info] Start training from score 10.749419\n"
     ]
    },
    {
     "name": "stdout",
     "output_type": "stream",
     "text": [
      "[LightGBM] [Warning] Accuracy may be bad since you didn't explicitly set num_leaves OR 2^max_depth > num_leaves. (num_leaves=31).\n"
     ]
    }
   ],
   "source": [
    "final_lgb_model = lgb.LGBMRegressor(**trial_params)\n",
    "final_lgb_model.fit(train_X, train_y)\n",
    "final_lgb_pred = final_lgb_model.predict(dt_test)"
   ]
  },
  {
   "cell_type": "code",
   "execution_count": 60,
   "metadata": {},
   "outputs": [
    {
     "data": {
      "text/plain": [
       "array([189702.76622144, 293336.07891881, 188524.50806657, ...,\n",
       "        19887.90310892,  14406.62575324,  44571.3958655 ])"
      ]
     },
     "execution_count": 60,
     "metadata": {},
     "output_type": "execute_result"
    }
   ],
   "source": [
    "pred_sub = np.expm1(final_lgb_pred)\n",
    "pred_sub"
   ]
  },
  {
   "cell_type": "code",
   "execution_count": 61,
   "metadata": {},
   "outputs": [
    {
     "data": {
      "text/plain": [
       "<BarContainer object of 14 artists>"
      ]
     },
     "execution_count": 61,
     "metadata": {},
     "output_type": "execute_result"
    },
    {
     "data": {
      "image/png": "[encoded data removed]",
      "text/plain": [
       "<Figure size 640x480 with 1 Axes>"
      ]
     },
     "metadata": {},
     "output_type": "display_data"
    }
   ],
   "source": [
    "plt.barh(train_X.columns, final_lgb_model.feature_importances_)"
   ]
  },
  {
   "cell_type": "code",
   "execution_count": 62,
   "metadata": {},
   "outputs": [],
   "source": [
    "pd.DataFrame(pred_sub.astype(int), columns=[\"target\"]).to_csv('sub.csv', index=False)"
   ]
  },
  {
   "cell_type": "code",
   "execution_count": null,
   "metadata": {},
   "outputs": [],
   "source": [
    "# 103056.0717"
   ]
  }
 ],
 "metadata": {
  "kernelspec": {
   "display_name": "base",
   "language": "python",
   "name": "python3"
  },
  "language_info": {
   "codemirror_mode": {
    "name": "ipython",
    "version": 3
   },
   "file_extension": ".py",
   "mimetype": "text/x-python",
   "name": "python",
   "nbconvert_exporter": "python",
   "pygments_lexer": "ipython3",
   "version": "3.10.13"
  }
 },
 "nbformat": 4,
 "nbformat_minor": 2
}
