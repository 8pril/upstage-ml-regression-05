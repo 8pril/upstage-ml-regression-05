{
 "cells": [
  {
   "cell_type": "code",
   "execution_count": 1,
   "metadata": {},
   "outputs": [],
   "source": [
    "import matplotlib.pyplot as plt\n",
    "import seaborn as sns\n",
    "import pandas as pd\n",
    "import numpy as np\n",
    "import warnings;warnings.filterwarnings('ignore')\n",
    "import matplotlib.font_manager as fm\n",
    "fe = fm.FontEntry(\n",
    "    fname=r'/usr/share/fonts/truetype/nanum/NanumGothic.ttf', # ttf 파일이 저장되어 있는 경로\n",
    "    name='NanumBarunGothic')                        # 이 폰트의 원하는 이름 설정\n",
    "fm.fontManager.ttflist.insert(0, fe)              # Matplotlib에 폰트 추가\n",
    "plt.rcParams.update({'font.size': 10, 'font.family': 'NanumBarunGothic'}) # 폰트 설정\n",
    "plt.rc('font', family='NanumBarunGothic')\n",
    "\n",
    "from tqdm import tqdm\n",
    "import pickle\n",
    "import warnings;warnings.filterwarnings('ignore')\n",
    "\n",
    "import lightgbm as lgb\n",
    "import xgboost as xgb\n",
    "from sklearn.linear_model import LinearRegression, ElasticNet, Lasso, Ridge\n",
    "from sklearn.tree import DecisionTreeRegressor\n",
    "from sklearn.ensemble import RandomForestRegressor\n",
    "from sklearn.model_selection import TimeSeriesSplit\n",
    "from sklearn.metrics import mean_squared_error\n",
    "from sklearn.preprocessing import  LabelEncoder\n",
    "from sklearn.ensemble import VotingRegressor\n",
    "import optuna"
   ]
  },
  {
   "cell_type": "code",
   "execution_count": 2,
   "metadata": {},
   "outputs": [],
   "source": [
    "train_path = './train.csv'\n",
    "test_path  = './test.csv'\n",
    "train = pd.read_csv(train_path)\n",
    "test = pd.read_csv(test_path)"
   ]
  },
  {
   "cell_type": "code",
   "execution_count": 3,
   "metadata": {},
   "outputs": [],
   "source": [
    "train['is_test'] = 0\n",
    "test['is_test'] = 1\n",
    "concat = pd.concat([train, test])"
   ]
  },
  {
   "cell_type": "markdown",
   "metadata": {},
   "source": [
    "# 기준금리 추가하기"
   ]
  },
  {
   "cell_type": "code",
   "execution_count": 4,
   "metadata": {},
   "outputs": [],
   "source": [
    "base_rate_path  = './기준금리.csv'\n",
    "base_rate_df = pd.read_csv(base_rate_path)"
   ]
  },
  {
   "cell_type": "code",
   "execution_count": 5,
   "metadata": {},
   "outputs": [],
   "source": [
    "# 월일 변수를 월과 일로 나누어주고 년 월 일을 합쳐 날짜를 8자리 정수로 표현하기\n",
    "base_rate_df['년'] = base_rate_df['년'].map(lambda x: str(x))\n",
    "base_rate_df['월'] = base_rate_df['월일'].map(lambda x : x[:2])\n",
    "base_rate_df['일'] = base_rate_df['월일'].map(lambda x : x[4:6])\n",
    "base_rate_df['날짜'] = base_rate_df['년'] + base_rate_df['월'] + base_rate_df['일']\n",
    "base_rate_df['날짜'] = base_rate_df['날짜'].map(lambda x: int(x))\n",
    "base_rate_df = base_rate_df[['날짜', '기준금리']]"
   ]
  },
  {
   "cell_type": "code",
   "execution_count": 6,
   "metadata": {},
   "outputs": [],
   "source": [
    "# concat에 계약년월과 계약일을 합쳐 계약날짜 변수 생성 (8자리 정수)\n",
    "concat['계약날짜'] = concat['계약년월'] * 100 + concat['계약일']"
   ]
  },
  {
   "cell_type": "code",
   "execution_count": 7,
   "metadata": {},
   "outputs": [],
   "source": [
    "# concat의 '계약날짜' 값에 따라 '기준금리'를 반환해주는 함수.\n",
    "def date_to_rate(date):\n",
    "    for i in range(54, 0, -1): # 기준금리 데이터의 마지막 인덱스(54)에서 하나씩 올라가며 날짜를 비교하면서 기준금리 확인\n",
    "        if date >= base_rate_df['날짜'][i] and date <base_rate_df['날짜'][i - 1]:\n",
    "            return base_rate_df['기준금리'][i]\n",
    "    return base_rate_df['기준금리'][0] # 날짜(date)가 기준금리 데이터의 가장 최신 날짜보다 같거나 크다면 가장 최신 기준금리 반환\n",
    "\n",
    "# 예:\n",
    "# date_to_rate(20211126)\n",
    "# 1.0"
   ]
  },
  {
   "cell_type": "code",
   "execution_count": 8,
   "metadata": {},
   "outputs": [],
   "source": [
    "# concat_new에 기준금리 변수 추가\n",
    "concat['기준금리'] = concat['계약날짜'].apply(date_to_rate)"
   ]
  },
  {
   "cell_type": "code",
   "execution_count": 9,
   "metadata": {},
   "outputs": [],
   "source": [
    "# '기준금리'열의 데이터 형식을 float로 변경\n",
    "concat['기준금리'] = concat['기준금리'].astype(float)"
   ]
  },
  {
   "cell_type": "code",
   "execution_count": 10,
   "metadata": {},
   "outputs": [
    {
     "data": {
      "text/html": [
       "<div>\n",
       "<style scoped>\n",
       "    .dataframe tbody tr th:only-of-type {\n",
       "        vertical-align: middle;\n",
       "    }\n",
       "\n",
       "    .dataframe tbody tr th {\n",
       "        vertical-align: top;\n",
       "    }\n",
       "\n",
       "    .dataframe thead th {\n",
       "        text-align: right;\n",
       "    }\n",
       "</style>\n",
       "<table border=\"1\" class=\"dataframe\">\n",
       "  <thead>\n",
       "    <tr style=\"text-align: right;\">\n",
       "      <th></th>\n",
       "      <th>계약날짜</th>\n",
       "      <th>기준금리</th>\n",
       "    </tr>\n",
       "  </thead>\n",
       "  <tbody>\n",
       "    <tr>\n",
       "      <th>0</th>\n",
       "      <td>20171208</td>\n",
       "      <td>1.5</td>\n",
       "    </tr>\n",
       "    <tr>\n",
       "      <th>1</th>\n",
       "      <td>20171222</td>\n",
       "      <td>1.5</td>\n",
       "    </tr>\n",
       "    <tr>\n",
       "      <th>2</th>\n",
       "      <td>20171228</td>\n",
       "      <td>1.5</td>\n",
       "    </tr>\n",
       "    <tr>\n",
       "      <th>3</th>\n",
       "      <td>20180103</td>\n",
       "      <td>1.5</td>\n",
       "    </tr>\n",
       "    <tr>\n",
       "      <th>4</th>\n",
       "      <td>20180108</td>\n",
       "      <td>1.5</td>\n",
       "    </tr>\n",
       "    <tr>\n",
       "      <th>...</th>\n",
       "      <td>...</td>\n",
       "      <td>...</td>\n",
       "    </tr>\n",
       "    <tr>\n",
       "      <th>9267</th>\n",
       "      <td>20230719</td>\n",
       "      <td>3.5</td>\n",
       "    </tr>\n",
       "    <tr>\n",
       "      <th>9268</th>\n",
       "      <td>20230725</td>\n",
       "      <td>3.5</td>\n",
       "    </tr>\n",
       "    <tr>\n",
       "      <th>9269</th>\n",
       "      <td>20230827</td>\n",
       "      <td>3.5</td>\n",
       "    </tr>\n",
       "    <tr>\n",
       "      <th>9270</th>\n",
       "      <td>20230902</td>\n",
       "      <td>3.5</td>\n",
       "    </tr>\n",
       "    <tr>\n",
       "      <th>9271</th>\n",
       "      <td>20230904</td>\n",
       "      <td>3.5</td>\n",
       "    </tr>\n",
       "  </tbody>\n",
       "</table>\n",
       "<p>1128094 rows × 2 columns</p>\n",
       "</div>"
      ],
      "text/plain": [
       "          계약날짜  기준금리\n",
       "0     20171208   1.5\n",
       "1     20171222   1.5\n",
       "2     20171228   1.5\n",
       "3     20180103   1.5\n",
       "4     20180108   1.5\n",
       "...        ...   ...\n",
       "9267  20230719   3.5\n",
       "9268  20230725   3.5\n",
       "9269  20230827   3.5\n",
       "9270  20230902   3.5\n",
       "9271  20230904   3.5\n",
       "\n",
       "[1128094 rows x 2 columns]"
      ]
     },
     "execution_count": 10,
     "metadata": {},
     "output_type": "execute_result"
    }
   ],
   "source": [
    "# 추가된 변수 확인\n",
    "concat[['계약날짜', '기준금리']]"
   ]
  },
  {
   "cell_type": "markdown",
   "metadata": {},
   "source": [
    "# 전세가격지수 추가하기"
   ]
  },
  {
   "cell_type": "code",
   "execution_count": 11,
   "metadata": {},
   "outputs": [],
   "source": [
    "jeonsae_path  = './아파트전세가격지수.csv'\n",
    "jeonsae_df = pd.read_csv(jeonsae_path, encoding='cp949')"
   ]
  },
  {
   "cell_type": "code",
   "execution_count": 12,
   "metadata": {},
   "outputs": [
    {
     "data": {
      "text/html": [
       "<div>\n",
       "<style scoped>\n",
       "    .dataframe tbody tr th:only-of-type {\n",
       "        vertical-align: middle;\n",
       "    }\n",
       "\n",
       "    .dataframe tbody tr th {\n",
       "        vertical-align: top;\n",
       "    }\n",
       "\n",
       "    .dataframe thead th {\n",
       "        text-align: right;\n",
       "    }\n",
       "</style>\n",
       "<table border=\"1\" class=\"dataframe\">\n",
       "  <thead>\n",
       "    <tr style=\"text-align: right;\">\n",
       "      <th></th>\n",
       "      <th>년월</th>\n",
       "      <th>전세가격지수</th>\n",
       "    </tr>\n",
       "  </thead>\n",
       "  <tbody>\n",
       "    <tr>\n",
       "      <th>0</th>\n",
       "      <td>2003.11</td>\n",
       "      <td>46.7</td>\n",
       "    </tr>\n",
       "    <tr>\n",
       "      <th>1</th>\n",
       "      <td>2003.12</td>\n",
       "      <td>46.2</td>\n",
       "    </tr>\n",
       "    <tr>\n",
       "      <th>2</th>\n",
       "      <td>2004.01</td>\n",
       "      <td>46.0</td>\n",
       "    </tr>\n",
       "    <tr>\n",
       "      <th>3</th>\n",
       "      <td>2004.02</td>\n",
       "      <td>46.3</td>\n",
       "    </tr>\n",
       "    <tr>\n",
       "      <th>4</th>\n",
       "      <td>2004.03</td>\n",
       "      <td>46.5</td>\n",
       "    </tr>\n",
       "  </tbody>\n",
       "</table>\n",
       "</div>"
      ],
      "text/plain": [
       "        년월 전세가격지수\n",
       "0  2003.11   46.7\n",
       "1  2003.12   46.2\n",
       "2  2004.01   46.0\n",
       "3  2004.02   46.3\n",
       "4  2004.03   46.5"
      ]
     },
     "execution_count": 12,
     "metadata": {},
     "output_type": "execute_result"
    }
   ],
   "source": [
    "# 전세가격지수 데이터를 '년월'과 서울의 '전세가격지수'를 열로 가지는 데이터로 변환\n",
    "data = {'년월':list(jeonsae_df.columns[1:]), '전세가격지수':list(jeonsae_df.iloc[1])[1:]}\n",
    "seoul_jeonsae_df = pd.DataFrame(data)\n",
    "seoul_jeonsae_df.head()"
   ]
  },
  {
   "cell_type": "code",
   "execution_count": 13,
   "metadata": {},
   "outputs": [],
   "source": [
    "# 전세가격지수 데이터의 '년월' 형식을 concat의 '계약년월' 형식과 통일\n",
    "seoul_jeonsae_df['년월'] = seoul_jeonsae_df['년월'].map(lambda x : int(x.split('.')[0]) * 100 + int(x.split('.')[1]))"
   ]
  },
  {
   "cell_type": "code",
   "execution_count": 14,
   "metadata": {},
   "outputs": [],
   "source": [
    "# '전세가격지수' 변수가 추가된 concat 데이터\n",
    "concat = pd.merge(concat, seoul_jeonsae_df, left_on='계약년월', right_on='년월', how='inner').drop('년월', axis=1)"
   ]
  },
  {
   "cell_type": "code",
   "execution_count": 15,
   "metadata": {},
   "outputs": [],
   "source": [
    "# concat의 '전세가격지수'열의 형식을 float 변경\n",
    "concat['전세가격지수'] = concat['전세가격지수'].astype(float)"
   ]
  },
  {
   "cell_type": "code",
   "execution_count": 16,
   "metadata": {},
   "outputs": [
    {
     "data": {
      "text/html": [
       "<div>\n",
       "<style scoped>\n",
       "    .dataframe tbody tr th:only-of-type {\n",
       "        vertical-align: middle;\n",
       "    }\n",
       "\n",
       "    .dataframe tbody tr th {\n",
       "        vertical-align: top;\n",
       "    }\n",
       "\n",
       "    .dataframe thead th {\n",
       "        text-align: right;\n",
       "    }\n",
       "</style>\n",
       "<table border=\"1\" class=\"dataframe\">\n",
       "  <thead>\n",
       "    <tr style=\"text-align: right;\">\n",
       "      <th></th>\n",
       "      <th>계약년월</th>\n",
       "      <th>전세가격지수</th>\n",
       "    </tr>\n",
       "  </thead>\n",
       "  <tbody>\n",
       "    <tr>\n",
       "      <th>336763</th>\n",
       "      <td>201910</td>\n",
       "      <td>91.1</td>\n",
       "    </tr>\n",
       "    <tr>\n",
       "      <th>597932</th>\n",
       "      <td>201511</td>\n",
       "      <td>87.4</td>\n",
       "    </tr>\n",
       "    <tr>\n",
       "      <th>315911</th>\n",
       "      <td>202006</td>\n",
       "      <td>93.5</td>\n",
       "    </tr>\n",
       "    <tr>\n",
       "      <th>692007</th>\n",
       "      <td>201505</td>\n",
       "      <td>82.8</td>\n",
       "    </tr>\n",
       "    <tr>\n",
       "      <th>557192</th>\n",
       "      <td>201602</td>\n",
       "      <td>88.6</td>\n",
       "    </tr>\n",
       "    <tr>\n",
       "      <th>877620</th>\n",
       "      <td>201210</td>\n",
       "      <td>68.6</td>\n",
       "    </tr>\n",
       "    <tr>\n",
       "      <th>364535</th>\n",
       "      <td>202001</td>\n",
       "      <td>92.7</td>\n",
       "    </tr>\n",
       "    <tr>\n",
       "      <th>1033625</th>\n",
       "      <td>200712</td>\n",
       "      <td>53.6</td>\n",
       "    </tr>\n",
       "    <tr>\n",
       "      <th>191847</th>\n",
       "      <td>200909</td>\n",
       "      <td>55.8</td>\n",
       "    </tr>\n",
       "    <tr>\n",
       "      <th>368335</th>\n",
       "      <td>202009</td>\n",
       "      <td>95.1</td>\n",
       "    </tr>\n",
       "  </tbody>\n",
       "</table>\n",
       "</div>"
      ],
      "text/plain": [
       "           계약년월  전세가격지수\n",
       "336763   201910    91.1\n",
       "597932   201511    87.4\n",
       "315911   202006    93.5\n",
       "692007   201505    82.8\n",
       "557192   201602    88.6\n",
       "877620   201210    68.6\n",
       "364535   202001    92.7\n",
       "1033625  200712    53.6\n",
       "191847   200909    55.8\n",
       "368335   202009    95.1"
      ]
     },
     "execution_count": 16,
     "metadata": {},
     "output_type": "execute_result"
    }
   ],
   "source": [
    "# 확인을 위해 concat에서 랜덤으로 10개 샘플 뽑아보기\n",
    "concat[['계약년월', '전세가격지수']].sample(n=10)"
   ]
  },
  {
   "cell_type": "markdown",
   "metadata": {},
   "source": [
    "# 인구밀도 추가"
   ]
  },
  {
   "cell_type": "code",
   "execution_count": 17,
   "metadata": {},
   "outputs": [],
   "source": [
    "population_density_path  = './인구밀도.csv'\n",
    "population_density = pd.read_csv(population_density_path)"
   ]
  },
  {
   "cell_type": "code",
   "execution_count": 18,
   "metadata": {},
   "outputs": [
    {
     "data": {
      "text/html": [
       "<div>\n",
       "<style scoped>\n",
       "    .dataframe tbody tr th:only-of-type {\n",
       "        vertical-align: middle;\n",
       "    }\n",
       "\n",
       "    .dataframe tbody tr th {\n",
       "        vertical-align: top;\n",
       "    }\n",
       "\n",
       "    .dataframe thead th {\n",
       "        text-align: right;\n",
       "    }\n",
       "</style>\n",
       "<table border=\"1\" class=\"dataframe\">\n",
       "  <thead>\n",
       "    <tr style=\"text-align: right;\">\n",
       "      <th></th>\n",
       "      <th>동별(1)</th>\n",
       "      <th>동별(2)</th>\n",
       "      <th>동별(3)</th>\n",
       "      <th>인구 (명)</th>\n",
       "      <th>면적 (㎢)</th>\n",
       "      <th>인구밀도 (명/㎢)</th>\n",
       "    </tr>\n",
       "  </thead>\n",
       "  <tbody>\n",
       "    <tr>\n",
       "      <th>1</th>\n",
       "      <td>합계</td>\n",
       "      <td>소계</td>\n",
       "      <td>소계</td>\n",
       "      <td>9667669</td>\n",
       "      <td>605.21</td>\n",
       "      <td>15974</td>\n",
       "    </tr>\n",
       "    <tr>\n",
       "      <th>2</th>\n",
       "      <td>합계</td>\n",
       "      <td>종로구</td>\n",
       "      <td>소계</td>\n",
       "      <td>152211</td>\n",
       "      <td>23.91</td>\n",
       "      <td>6365</td>\n",
       "    </tr>\n",
       "    <tr>\n",
       "      <th>3</th>\n",
       "      <td>합계</td>\n",
       "      <td>종로구</td>\n",
       "      <td>사직동</td>\n",
       "      <td>9355</td>\n",
       "      <td>1.23</td>\n",
       "      <td>7606</td>\n",
       "    </tr>\n",
       "    <tr>\n",
       "      <th>4</th>\n",
       "      <td>합계</td>\n",
       "      <td>종로구</td>\n",
       "      <td>삼청동</td>\n",
       "      <td>2642</td>\n",
       "      <td>1.49</td>\n",
       "      <td>1773</td>\n",
       "    </tr>\n",
       "    <tr>\n",
       "      <th>5</th>\n",
       "      <td>합계</td>\n",
       "      <td>종로구</td>\n",
       "      <td>부암동</td>\n",
       "      <td>9536</td>\n",
       "      <td>2.27</td>\n",
       "      <td>4201</td>\n",
       "    </tr>\n",
       "  </tbody>\n",
       "</table>\n",
       "</div>"
      ],
      "text/plain": [
       "0 동별(1) 동별(2) 동별(3)   인구 (명)  면적 (㎢) 인구밀도 (명/㎢)\n",
       "1    합계    소계    소계  9667669  605.21      15974\n",
       "2    합계   종로구    소계   152211   23.91       6365\n",
       "3    합계   종로구   사직동     9355    1.23       7606\n",
       "4    합계   종로구   삼청동     2642    1.49       1773\n",
       "5    합계   종로구   부암동     9536    2.27       4201"
      ]
     },
     "execution_count": 18,
     "metadata": {},
     "output_type": "execute_result"
    }
   ],
   "source": [
    "# 맨 위 row를 변수 이름으로 설정\n",
    "population_density.columns = population_density.iloc[0]\n",
    "population_density = population_density[1:]\n",
    "population_density.head()"
   ]
  },
  {
   "cell_type": "code",
   "execution_count": 19,
   "metadata": {},
   "outputs": [],
   "source": [
    "# concat의 '시군구' 변수에서 동을 분리하여 따로 변수 만들기\n",
    "concat['동'] = concat['시군구'].map(lambda x : x.split()[2])"
   ]
  },
  {
   "cell_type": "code",
   "execution_count": 20,
   "metadata": {},
   "outputs": [],
   "source": [
    "# 인구밀도 데이터 변수의 타입 변환\n",
    "population_density_new = population_density[['동별(3)', '인구 (명)', '면적 (㎢)', '인구밀도 (명/㎢)']]\n",
    "population_density_new['인구 (명)'] = population_density_new['인구 (명)'].astype(float)\n",
    "population_density_new['면적 (㎢)'] = population_density_new['면적 (㎢)'].astype(float)\n",
    "population_density_new['인구밀도 (명/㎢)'] = population_density_new['인구밀도 (명/㎢)'].astype(float)"
   ]
  },
  {
   "cell_type": "code",
   "execution_count": 21,
   "metadata": {},
   "outputs": [],
   "source": [
    "# concat에서 동을 (유사)행정동으로 반환하는 함수\n",
    "# '동'이 여러 행정동에 걸쳐있는 경우 임으로 걸쳐있는 행정동 중 하나로 선택하였음\n",
    "def to_hangjungdong(dong):\n",
    "    if dong in ['금호동1가']: \n",
    "        return '금호1가동'\n",
    "    elif dong in ['봉천동']: # 중앙동은 5개의 동에 걸쳐있음\n",
    "        return '중앙동'\n",
    "    elif dong in ['마곡동']: # 마곡동은 가양1동, 방화1동, 발산1동에 걸쳐있음\n",
    "        return '가양동'\n",
    "    elif dong in ['내발산동']: # 내발산동은 '발산1동'과 '우장산동'에 걸쳐있음\n",
    "        return '발산1동'\n",
    "    elif dong in ['자곡동', '율현동']:\n",
    "        return '세곡동'\n",
    "    elif dong in ['금호동2가', '금호동3가']:\n",
    "        return '금호2.3가동'\n",
    "    elif dong in ['금호동4가']:\n",
    "        return '금호4가동'\n",
    "    elif dong in ['남대문로5가']:\n",
    "        return '회현동'\n",
    "    elif dong in ['남산동2가']:\n",
    "        return '명동'\n",
    "    elif dong in ['당산동1가', '당산동2가', '당산동3가']:\n",
    "        return '당산1동'\n",
    "    elif dong in ['당산동4가', '당산동5가', '당산동6가']:\n",
    "        return '당산2동'\n",
    "    elif dong in ['동선동1가', '동선동3가', '동선동4가', '동선동5가', '동소문동6가', '동소문동7가']:\n",
    "        return '동선동'\n",
    "    elif dong in ['동소문동5가', '삼선동2가', '삼선동3가', '삼선동4가', '삼선동5가']:\n",
    "        return '삼선동'\n",
    "    elif dong in ['만리동2가', '만리동1가']:\n",
    "        return '중림동'\n",
    "    elif dong in ['명륜1가', '명륜2가', '명륜3가']:\n",
    "        return '혜화동'\n",
    "    elif dong in ['문래동2가', '문래동3가', '문래동4가', '문래동5가', '문래동6가']:\n",
    "        return '문래동'\n",
    "    elif dong in ['보문동2가', '보문동3가', '보문동4가', '보문동6가']:\n",
    "        return '보문동'\n",
    "    elif dong in ['성북동1가', '동소문동', '동소문동4가']:\n",
    "        return '성북동'\n",
    "    elif dong in ['신문로1가', '신문로2가', '내수동', '당주동', '필운동']:\n",
    "        return '사직동'\n",
    "    elif dong in ['안암동1가', '안암동3가', '안암동4가', '안암동5가']:\n",
    "        return '안암동'\n",
    "    elif dong in ['양평동1가', '양평동2가', '양평동3가']: \n",
    "        return '양평1동'\n",
    "    elif dong in ['양평동4가', '양평동5가', '양평동6가']: # '양평동3가'는 '양평1동'과 '양평2동'에 걸쳐있음 \n",
    "        return '양평2동'\n",
    "    elif dong in ['영등포동1가', '영등포동2가', '영등포동3가', '영등포동4가', '영등포동5가', '영등포동7가', '영등포동8가']:\n",
    "        return '영등포동'\n",
    "    elif dong in ['용산동2가']:\n",
    "        return '용산2가동'\n",
    "    elif dong in ['원효로1가', '원효로2가', '문배동', '신계동']: # 원효로1동, 2동의 인구밀도가 크게 차이나기 떄문에 두 개 분리\n",
    "        return  '원효로1동'\n",
    "    elif dong in ['원효로3가', '원효로4가', '산천동', '신창동', '청암동']:\n",
    "        return '원효로2동'\n",
    "    elif dong in ['을지로5가', '산림동', '입정동']:\n",
    "        return '을지로동'\n",
    "    elif dong in ['인현동2가', '오장동', '충무로4가', '충무로5가']: \n",
    "        return '광희동'\n",
    "    elif dong in ['장충동1가', '장충동2가']:\n",
    "        return '장충동'\n",
    "    elif dong in ['청파동1가', '청파동3가']:\n",
    "        return '청파동'\n",
    "    elif dong in ['충정로2가', '충정로3가', '합동', '미근동']:\n",
    "        return '충현동'\n",
    "    elif dong in ['필동1가', '필동3가', '묵정동', '예장동']:\n",
    "        return '필동'\n",
    "    elif dong in ['한강로1가', '한강로2가', '한강로3가', '용산동5가']:\n",
    "        return '한강로동'\n",
    "    elif dong in ['회현동1가', '회현동2가', '남창동']:\n",
    "        return '회현동'\n",
    "    elif dong in ['천왕동']:\n",
    "        return '오류동'\n",
    "    elif dong in ['온수동', '궁동']:\n",
    "        return '수궁동'\n",
    "    elif dong in ['용두동', '신설동']:\n",
    "        return '용신동'\n",
    "    elif dong in ['본동']:\n",
    "        return '노량진동'\n",
    "    elif dong in ['동작동']:\n",
    "        return '사당동'\n",
    "    elif dong in ['노고산동']:\n",
    "        return '대흥동'\n",
    "    elif dong in ['마포동']:\n",
    "        return '도화동'\n",
    "    elif dong in ['상수동']:\n",
    "        return '서강동'\n",
    "    elif dong in ['신공덕동']:\n",
    "        return '공덕동'\n",
    "    elif dong in ['동교동']:\n",
    "        return '연남동'\n",
    "    elif dong in ['중동']:\n",
    "        return '성산동'\n",
    "    elif dong in ['창전동', '하중동']:\n",
    "        return '서강동'\n",
    "    elif dong in ['냉천동', '영천동', '현저동']:\n",
    "        return '천연동'\n",
    "    elif dong in ['토정동']:\n",
    "        return '용강동'\n",
    "    elif dong in ['현석동', '구수동']:\n",
    "        return '신수동'\n",
    "    elif dong in ['대현동', '창천동']:\n",
    "        return '신촌동'\n",
    "    elif dong in ['우면동']:\n",
    "        return '양재동'\n",
    "    elif dong in ['도선동', '상왕십리동', '하왕십리동', '홍익동']:\n",
    "        return '왕십리도선동'\n",
    "    elif dong in ['상월곡동', '하월곡동']:\n",
    "        return '월곡동'\n",
    "    elif dong in ['신천동']:\n",
    "        return '잠실동'\n",
    "    elif dong in ['여의도동']:\n",
    "        return '여의동'\n",
    "    elif dong in ['갈월동', '동자동']:\n",
    "        return '남영동'\n",
    "    elif dong in ['도원동']:\n",
    "        return '용문동'\n",
    "    elif dong in ['동빙고동', '주성동']:\n",
    "        return '서빙고동'\n",
    "    elif dong in ['익선동', '견지동', '인의동', '수송동', '원남동', '낙원동']:\n",
    "        return '종로1.2.3.4가동'\n",
    "    elif dong in ['효제동', '충신동', '연지동']:\n",
    "        return '종로5.6가동'\n",
    "    elif dong in ['교북동', '행촌동', '홍파동', '평동']:\n",
    "        return '교남동'\n",
    "    elif dong in ['누상동', '옥인동', '청운동', '통인동', '신교동']:\n",
    "        return '청운효자동'\n",
    "    elif dong in ['동숭동', '연건동']:\n",
    "        return '이화동'\n",
    "    elif dong in ['신영동']:\n",
    "        return '부암동'\n",
    "    elif dong in ['순화동', '정동']:\n",
    "        return '소공동'\n",
    "    elif dong in ['흥인동']:\n",
    "        return '신당동'\n",
    "    elif dong in ['구기동']:\n",
    "        return '평창동'\n",
    "    else:\n",
    "        return dong\n",
    "    "
   ]
  },
  {
   "cell_type": "code",
   "execution_count": 22,
   "metadata": {},
   "outputs": [],
   "source": [
    "# concat의 '동'을 유사 행정동으로 변환\n",
    "concat['동'] = concat['동'].apply(to_hangjungdong)"
   ]
  },
  {
   "cell_type": "code",
   "execution_count": 23,
   "metadata": {},
   "outputs": [],
   "source": [
    "# 인구밀도 데이터의 몇 개의 행정동을 하나로 합쳐주기 위한 리스트\n",
    "dong_merge_list = [['성수동1가', '성수1가1동','성수1가2동'],\n",
    "                   ['성수동2가', '성수2가1동', '성수2가3동'],\n",
    "                   ['논현동', '논현1동', '논현2동'],\n",
    "                   ['대치동', '대치1동', '대치2동', '대치4동'],\n",
    "                   ['도곡동', '도곡1동', '도곡2동'],\n",
    "                   ['역삼동', '역삼1동', '역삼2동'],\n",
    "                   ['일원동', '일원본동', '일원1동'],\n",
    "                   ['고덕동', '고덕1동', '고덕2동'],\n",
    "                   ['둔촌동', '둔촌1동', '둔촌2동'],\n",
    "                   ['명일동', '명일1동', '명일2동'],\n",
    "                   ['상일동', '상일1동', '상일2동'],\n",
    "                   ['성내동', '성내1동', '성내2동', '성내3동'],\n",
    "                   ['암사동', '암사1동', '암사2동', '암사3동'],\n",
    "                   ['천호동', '천호1동', '천호2동', '천호3동'],\n",
    "                   ['번동', '번1동', '번2동', '번3동'],\n",
    "                   ['가양동', '가양1동', '가양2동', '가양3동'],\n",
    "                   ['수유동', '수유1동', '수유2동', '수유3동'],\n",
    "                   ['등촌동', '등촌1동', '등촌2동', '등촌3동'],\n",
    "                   ['방화동', '방화1동', '방화2동', '방화3동'],\n",
    "                   ['화곡동', '화곡1동', '화곡2동',  '화곡3동', '화곡4동', '화곡6동', '화곡8동', '화곡본동'],\n",
    "                   ['구의동', '구의1동', '구의2동', '구의3동'],\n",
    "                   ['자양동', '자양1동', '자양2동', '자양3동', '자양4동'],\n",
    "                   ['개봉동', '개봉1동', '개봉2동', '개봉3동'],\n",
    "                   ['고척동', '고척1동', '고척2동'],\n",
    "                   ['중곡동', '중곡1동', '중곡2동', '중곡3동'],\n",
    "                   ['구로동', '구로1동', '구로2동', '구로3동', '구로4동', '구로5동'],\n",
    "                   ['개포동', '개포1동', '개포2동', '개포3동', '개포4동'],\n",
    "                   ['오류동', '오류1동', '오류2동'],\n",
    "                   ['독산동', '독산1동', '독산2동', '독산3동', '독산4동'],\n",
    "                   ['시흥동', '시흥1동', '시흥2동', '시흥3동', '시흥4동', '시흥5동'],\n",
    "                   ['공릉동', '공릉1동', '공릉2동'],\n",
    "                   ['상계동', '상계1동', '상계2동', '상계5동', '상계8동', '상계9동', '상계10동', '상계3.4동', '상계6.7동'],\n",
    "                   ['월계동', '월계1동', '월계2동', '월계3동'],\n",
    "                   ['중계동', '중계본동', '중계1동', '중계4동', '중계2.3동'],\n",
    "                   ['하계동', '하계1동', '하계2동'],\n",
    "                   ['도봉동', '도봉1동', '도봉2동'],\n",
    "                   ['방학동', '방학1동', '방학2동', '방학3동'],\n",
    "                   ['쌍문동', '쌍문1동', '쌍문2동', '쌍문3동', '쌍문4동'],\n",
    "                   ['창동', '창1동', '창2동', '창3동', '창4동', '창5동'],\n",
    "                   ['답십리동', '답십리1동', '답십리2동'],\n",
    "                   ['이문동', '이문1동', '이문2동'],\n",
    "                   ['장안동', '장안1동', '장안2동'],\n",
    "                   ['전농동', '전농1동', '전농2동'],\n",
    "                   ['휘경동', '휘경1동', '휘경2동'],\n",
    "                   ['노량진동', '노량진1동', '노량진2동'],\n",
    "                   ['사당동', '사당1동', '사당2동', '사당3동', '사당4동', '사당5동'],\n",
    "                   ['상도동', '상도1동', '상도2동', '상도3동', '상도4동'],\n",
    "                   ['신대방동', '신대방1동', '신대방2동'],\n",
    "                   ['성산동', '성산1동', '성산2동'],\n",
    "                   ['신정동', '신정1동', '신정2동', '신정3동', '신정4동', '신정6동', '신정7동'],\n",
    "                   ['망원동', '망원1동', '망원2동'],\n",
    "                   ['남가좌동', '남가좌1동', '남가좌2동'],\n",
    "                   ['북가좌동', '북가좌1동', '북가좌2동'],\n",
    "                   ['홍은동', '홍은1동', '홍은2동'],\n",
    "                   ['홍제동', '홍제1동', '홍제2동', '홍제3동'],\n",
    "                   ['반포동', '반포본동', '반포1동', '반포2동', '반포3동', '반포4동'],\n",
    "                   ['방배동', '방배본동', '방배1동', '방배2동', '방배3동', '방배4동'],\n",
    "                   ['서초동', '서초1동', '서초2동', '서초3동', '서초4동'],\n",
    "                   ['양재동', '양재1동', '양재2동'],\n",
    "                   ['행당동', '행당1동', '행당2동'],\n",
    "                   ['길음동', '길음1동', '길음2동'],\n",
    "                   ['돈암동', '돈암1동', '돈암2동'],\n",
    "                   ['장위동', '장위1동', '장위2동', '장위3동'],\n",
    "                   ['정릉동', '정릉1동', '정릉2동', '정릉3동', '정릉4동'],\n",
    "                   ['가락동', '가락본동', '가락1동', '가락2동'],\n",
    "                   ['거여동', '거여1동', '거여2동'],\n",
    "                   ['마천동', '마천1동', '마천2동'],\n",
    "                   ['문정동', '문정1동', '문정2동'],\n",
    "                   ['송파동', '송파1동', '송파2동'],\n",
    "                   ['방이동',  '방이1동', '방이2동'],\n",
    "                   ['잠실동', '잠실본동', '잠실2동', '잠실3동', '잠실4동', '잠실6동', '잠실7동'],\n",
    "                   ['풍납동', '풍납1동', '풍납2동'],\n",
    "                   ['목동', '목1동', '목2동', '목3동', '목4동'],\n",
    "                   ['신월동', '신월1동', '신월2동', '신월3동', '신월4동', '신월5동', '신월6동', '신월7동'],\n",
    "                   ['당산동', '당산1동', '당산2동'],\n",
    "                   ['대림동', '대림1동', '대림2동', '대림3동'],\n",
    "                   ['신길동', '신길1동', '신길3동', '신길4동', '신길5동', '신길6동', '신길7동'],\n",
    "                   ['이촌동', '이촌1동', '이촌2동'],\n",
    "                   ['이태원동', '이태원1동', '이태원2동'],\n",
    "                   ['불광동', '불광1동', '불광2동'],\n",
    "                   ['갈현동', '갈현1동', '갈현2동'],\n",
    "                   ['응암동', '응암1동', '응암2동', '응암3동'],\n",
    "                   ['숭인동', '숭인1동', '숭인2동'],\n",
    "                   ['창신동', '창신1동', '창신2동', '창신3동'],\n",
    "                   ['망우동', '망우본동', '망우3동'],\n",
    "                   ['면목동', '면목본동', '면목2동', '면목4동', '면목5동', '면목7동', '면목3.8동'],\n",
    "                   ['묵동', '묵1동', '묵2동'],\n",
    "                   ['상봉동', '상봉1동', '상봉2동'],\n",
    "                   ['신내동', '신내1동', '신내2동'],\n",
    "                   ['중화동', '중화1동', '중화2동'],\n",
    "                   ['월곡동', '월곡1동', '월곡2동']\n",
    "                   ]"
   ]
  },
  {
   "cell_type": "code",
   "execution_count": 24,
   "metadata": {},
   "outputs": [],
   "source": [
    "# 행정동을 합쳐 유사 행정동을 구하고 합친 인구와 면적을 사용하여 밀도를 다시 구하기\n",
    "for dongs in dong_merge_list:\n",
    "    dong_dict ={}\n",
    "    dong_dict['동별(3)'] = dongs[0]\n",
    "    dong_pop = 0\n",
    "    dong_area = 0\n",
    "    for dong in dongs[1:]:\n",
    "        dong_pop += population_density_new.loc[population_density_new['동별(3)'] == dong, '인구 (명)'].values[0]\n",
    "        dong_area += population_density_new.loc[population_density_new['동별(3)'] == dong, '면적 (㎢)'].values[0]\n",
    "    dong_density = dong_pop / dong_area\n",
    "    dong_dict['인구 (명)'] = dong_pop\n",
    "    dong_dict['면적 (㎢)'] = dong_area\n",
    "    dong_dict['인구밀도 (명/㎢)'] = dong_density\n",
    "    population_density_new = population_density_new.append(dong_dict, ignore_index=True)\n",
    "    "
   ]
  },
  {
   "cell_type": "code",
   "execution_count": 25,
   "metadata": {},
   "outputs": [],
   "source": [
    "# '인구밀도 (명/㎢)' 변수가 추가된 concat 데이터\n",
    "concat = pd.merge(concat, population_density_new, left_on='동', right_on='동별(3)', how='inner').drop(['동별(3)', '인구 (명)', '면적 (㎢)'], axis=1)"
   ]
  },
  {
   "cell_type": "code",
   "execution_count": 26,
   "metadata": {},
   "outputs": [
    {
     "data": {
      "text/html": [
       "<div>\n",
       "<style scoped>\n",
       "    .dataframe tbody tr th:only-of-type {\n",
       "        vertical-align: middle;\n",
       "    }\n",
       "\n",
       "    .dataframe tbody tr th {\n",
       "        vertical-align: top;\n",
       "    }\n",
       "\n",
       "    .dataframe thead th {\n",
       "        text-align: right;\n",
       "    }\n",
       "</style>\n",
       "<table border=\"1\" class=\"dataframe\">\n",
       "  <thead>\n",
       "    <tr style=\"text-align: right;\">\n",
       "      <th></th>\n",
       "      <th>동</th>\n",
       "      <th>인구밀도 (명/㎢)</th>\n",
       "    </tr>\n",
       "  </thead>\n",
       "  <tbody>\n",
       "    <tr>\n",
       "      <th>968315</th>\n",
       "      <td>신월동</td>\n",
       "      <td>24497.975709</td>\n",
       "    </tr>\n",
       "    <tr>\n",
       "      <th>809644</th>\n",
       "      <td>길음동</td>\n",
       "      <td>41407.299270</td>\n",
       "    </tr>\n",
       "    <tr>\n",
       "      <th>692384</th>\n",
       "      <td>북가좌동</td>\n",
       "      <td>35286.330935</td>\n",
       "    </tr>\n",
       "    <tr>\n",
       "      <th>763978</th>\n",
       "      <td>잠원동</td>\n",
       "      <td>14996.000000</td>\n",
       "    </tr>\n",
       "    <tr>\n",
       "      <th>308325</th>\n",
       "      <td>가리봉동</td>\n",
       "      <td>31633.000000</td>\n",
       "    </tr>\n",
       "    <tr>\n",
       "      <th>212975</th>\n",
       "      <td>염창동</td>\n",
       "      <td>23924.000000</td>\n",
       "    </tr>\n",
       "    <tr>\n",
       "      <th>377169</th>\n",
       "      <td>공릉동</td>\n",
       "      <td>9686.755772</td>\n",
       "    </tr>\n",
       "    <tr>\n",
       "      <th>881698</th>\n",
       "      <td>거여동</td>\n",
       "      <td>34615.384615</td>\n",
       "    </tr>\n",
       "    <tr>\n",
       "      <th>331662</th>\n",
       "      <td>오류동</td>\n",
       "      <td>16267.546174</td>\n",
       "    </tr>\n",
       "    <tr>\n",
       "      <th>5507</th>\n",
       "      <td>개포동</td>\n",
       "      <td>11824.116743</td>\n",
       "    </tr>\n",
       "  </tbody>\n",
       "</table>\n",
       "</div>"
      ],
      "text/plain": [
       "           동    인구밀도 (명/㎢)\n",
       "968315   신월동  24497.975709\n",
       "809644   길음동  41407.299270\n",
       "692384  북가좌동  35286.330935\n",
       "763978   잠원동  14996.000000\n",
       "308325  가리봉동  31633.000000\n",
       "212975   염창동  23924.000000\n",
       "377169   공릉동   9686.755772\n",
       "881698   거여동  34615.384615\n",
       "331662   오류동  16267.546174\n",
       "5507     개포동  11824.116743"
      ]
     },
     "execution_count": 26,
     "metadata": {},
     "output_type": "execute_result"
    }
   ],
   "source": [
    "# 확인을 위해 concat에서 랜덤으로 10개 샘플 뽑아보기\n",
    "concat[['동', '인구밀도 (명/㎢)']].sample(n=10)"
   ]
  },
  {
   "cell_type": "markdown",
   "metadata": {},
   "source": [
    "# 서울시 공동주택 아파트 데이터로 결측치 채우기"
   ]
  },
  {
   "cell_type": "code",
   "execution_count": 27,
   "metadata": {},
   "outputs": [],
   "source": [
    "concat['등기신청일자'] = concat['등기신청일자'].replace(' ', np.nan)\n",
    "concat['거래유형'] = concat['거래유형'].replace('-', np.nan)\n",
    "concat['중개사소재지'] = concat['중개사소재지'].replace('-', np.nan)"
   ]
  },
  {
   "cell_type": "code",
   "execution_count": 28,
   "metadata": {},
   "outputs": [],
   "source": [
    "house_df_path = \"./서울시 공동주택 아파트 정보.csv\"\n",
    "house_df = pd.read_csv(house_df_path, encoding='cp949')"
   ]
  },
  {
   "cell_type": "code",
   "execution_count": 29,
   "metadata": {},
   "outputs": [],
   "source": [
    "# '도로명주소'을 기준으로 df_train의 결측치 ('아파트명'은 같은 아파트임에도 서로 일치하지 않는 항목이 많아서)\n",
    "house_df['도로명주소'] = house_df['주소(도로명)'] + ' ' + house_df['주소(도로상세주소)']\n",
    "house_df = house_df.drop_duplicates(subset='도로명주소')"
   ]
  },
  {
   "cell_type": "code",
   "execution_count": 30,
   "metadata": {},
   "outputs": [],
   "source": [
    "# house_df_unique에서 '도로명주소'가 같은 경우 수치형인 열은 평균값으로, 범주형인 열은 최빈값으로 중복값 대체\n",
    "def handle_duplicates(df):\n",
    "    duplicates = df.duplicated(subset=['도로명주소'])\n",
    "    for col in df.columns:\n",
    "        if col != '도로명주소':\n",
    "            if df[col].dtype == 'int64':\n",
    "                df[col] = df.groupby('도로명주소')[col].transform(lambda x: x.mean() if not x.isnull().all() else x)\n",
    "            else:\n",
    "                df[col] = df.groupby('도로명주소')[col].transform(lambda x: x.mode().iloc[0] if not x.isnull().all() else x)\n",
    "    df = df.drop_duplicates(subset=['도로명주소'])\n",
    "    return df\n",
    "\n",
    "house_df = handle_duplicates(house_df)"
   ]
  },
  {
   "cell_type": "code",
   "execution_count": 31,
   "metadata": {},
   "outputs": [],
   "source": [
    "# concat과 house_df_unique에 공통으로 존재하는 열 찾기\n",
    "common_cols = []\n",
    "for col_1 in (concat.columns):\n",
    "    for col_2 in list(list(house_df.columns)):\n",
    "        if col_1 == col_2:\n",
    "            common_cols.append(col_1)\n",
    "            break"
   ]
  },
  {
   "cell_type": "code",
   "execution_count": 32,
   "metadata": {},
   "outputs": [],
   "source": [
    "# concat의 결측치를 house_df_unique로 채우기\n",
    "for col in common_cols:\n",
    "    concat[col] = concat[col].fillna(concat['도로명'].map(house_df.set_index('도로명주소')[col]))\n",
    "concat['아파트명'] = concat['아파트명'].fillna(concat['도로명'].map(house_df.set_index('도로명주소')['k-아파트명']))"
   ]
  },
  {
   "cell_type": "markdown",
   "metadata": {},
   "source": [
    "# 'k-건설사(시공사)' 변수의 값을 단순화하기"
   ]
  },
  {
   "cell_type": "code",
   "execution_count": 33,
   "metadata": {},
   "outputs": [],
   "source": [
    "# # 아파트명 변수의 값을 단순화하기\n",
    "concat['k-건설사(시공사)'] = concat['k-건설사(시공사)'].astype(str)\n",
    "# 여러 건설사가 같이 시공하였을 시 더 브랜드 평판이 높은 건설사 혹은 데이터가 더 많은 건설사로 대체\n",
    "def simple_apt(apt):\n",
    "    if '현대건설' in apt or '힐스테이트' in apt:\n",
    "        return '현대건설'\n",
    "    elif '삼성물산' in apt:\n",
    "        return '삼성물산'\n",
    "    elif '대우건설' in apt or '푸르지오' in apt:\n",
    "        return '대우건설'\n",
    "    elif 'GS' in apt or 'gs' in apt or '지에스' in apt:\n",
    "        return 'GS건설'\n",
    "    elif '포스코' in apt:\n",
    "        return '포스코건설'\n",
    "    elif '래미안' in apt or '삼성물산' in apt:\n",
    "        return '삼성물산'\n",
    "    elif 'DL' in apt:\n",
    "        return 'DL E&C'\n",
    "    elif '롯데건설' in apt or '롯데캐슬' in apt:\n",
    "        return '롯데건설'\n",
    "    elif '현대산업' in apt:\n",
    "        return '현대산업개발'\n",
    "    elif '한화' in apt:\n",
    "        return '한화건설'\n",
    "    elif '쌍용' in apt:\n",
    "        return '쌍용건설'\n",
    "    elif apt in ['대한주택공사', 'LH공사', '한국토지주택공사', '한국주택공사', 'LH']:\n",
    "        return '한국토지주택공사'\n",
    "    elif '우성' in apt:\n",
    "        return '우성건설'\n",
    "    elif '한신' in apt:\n",
    "        return '한신공영'\n",
    "    elif '두산건설' in apt:\n",
    "        return '두산건설'\n",
    "    elif apt in ['동아건설', '(주)동아건설', '동아건설산업(주)', '동아건설산업', '동아건설(주)', '(주)동아건설산업', '동아,효성', '동아주택']:\n",
    "        return '동아건설'\n",
    "    elif '대림산업' in apt:\n",
    "        return '대림산업'\n",
    "    elif '벽산건설' in apt:\n",
    "        return '벽산건설'\n",
    "    elif '동부건설' in apt:\n",
    "        return '동부건설'\n",
    "    else:\n",
    "        return 'Other'\n",
    "    \n",
    "    \n",
    "concat['k-건설사(시공사)'] = concat['k-건설사(시공사)'].apply(simple_apt)\n",
    "concat['k-건설사(시공사)'] = concat['k-건설사(시공사)'].fillna(value='Other') # 결측치도 'Other'로 통일"
   ]
  },
  {
   "cell_type": "markdown",
   "metadata": {},
   "source": [
    "# 계약년 변수 추가"
   ]
  },
  {
   "cell_type": "code",
   "execution_count": 34,
   "metadata": {},
   "outputs": [],
   "source": [
    "concat['계약년'] = concat['계약년월'].astype('str').map(lambda x : x[:4])"
   ]
  },
  {
   "cell_type": "code",
   "execution_count": 35,
   "metadata": {},
   "outputs": [],
   "source": [
    "concat['계약년'] = concat['계약년'].astype(int)"
   ]
  },
  {
   "cell_type": "markdown",
   "metadata": {},
   "source": [
    "# 아파트 연식 변수 추가"
   ]
  },
  {
   "cell_type": "code",
   "execution_count": 36,
   "metadata": {},
   "outputs": [],
   "source": [
    "concat['연식(거래일기준)'] = concat['계약년'] - concat['건축년도']"
   ]
  },
  {
   "cell_type": "code",
   "execution_count": 37,
   "metadata": {},
   "outputs": [],
   "source": [
    "concat['연식(23년기준)'] = 2023 - concat['건축년도']"
   ]
  },
  {
   "cell_type": "code",
   "execution_count": 38,
   "metadata": {},
   "outputs": [],
   "source": [
    "# 연식(0 - 10, 11 - 30, > 30)별 변수 추가\n",
    "concat['연식0-10'] = 0\n",
    "concat.loc[concat['연식(23년기준)'] <= 10, '연식0-10'] = 1\n",
    "\n",
    "concat['연식11-30'] = 0\n",
    "concat.loc[(concat['연식(23년기준)'] > 10) & (concat['연식(23년기준)'] <= 30), '연식11-30'] = 1\n",
    "\n",
    "concat['연식>30'] = 0\n",
    "concat.loc[concat['연식(23년기준)'] > 30, '연식>30'] = 1\n",
    "\n",
    "concat['연식(category)'] = 0\n",
    "concat.loc[concat['연식0-10'] == 1, '연식(category)'] = '0'\n",
    "concat.loc[concat['연식11-30'] == 1, '연식(category)'] = '1'\n",
    "concat.loc[concat['연식>30'] == 1, '연식(category)'] = '2'"
   ]
  },
  {
   "cell_type": "code",
   "execution_count": 39,
   "metadata": {},
   "outputs": [
    {
     "data": {
      "text/html": [
       "<div>\n",
       "<style scoped>\n",
       "    .dataframe tbody tr th:only-of-type {\n",
       "        vertical-align: middle;\n",
       "    }\n",
       "\n",
       "    .dataframe tbody tr th {\n",
       "        vertical-align: top;\n",
       "    }\n",
       "\n",
       "    .dataframe thead th {\n",
       "        text-align: right;\n",
       "    }\n",
       "</style>\n",
       "<table border=\"1\" class=\"dataframe\">\n",
       "  <thead>\n",
       "    <tr style=\"text-align: right;\">\n",
       "      <th></th>\n",
       "      <th>연식(23년기준)</th>\n",
       "      <th>연식0-10</th>\n",
       "      <th>연식11-30</th>\n",
       "      <th>연식&gt;30</th>\n",
       "    </tr>\n",
       "  </thead>\n",
       "  <tbody>\n",
       "    <tr>\n",
       "      <th>502432</th>\n",
       "      <td>35</td>\n",
       "      <td>0</td>\n",
       "      <td>0</td>\n",
       "      <td>1</td>\n",
       "    </tr>\n",
       "    <tr>\n",
       "      <th>302991</th>\n",
       "      <td>24</td>\n",
       "      <td>0</td>\n",
       "      <td>1</td>\n",
       "      <td>0</td>\n",
       "    </tr>\n",
       "    <tr>\n",
       "      <th>999316</th>\n",
       "      <td>18</td>\n",
       "      <td>0</td>\n",
       "      <td>1</td>\n",
       "      <td>0</td>\n",
       "    </tr>\n",
       "    <tr>\n",
       "      <th>541895</th>\n",
       "      <td>40</td>\n",
       "      <td>0</td>\n",
       "      <td>0</td>\n",
       "      <td>1</td>\n",
       "    </tr>\n",
       "    <tr>\n",
       "      <th>731831</th>\n",
       "      <td>18</td>\n",
       "      <td>0</td>\n",
       "      <td>1</td>\n",
       "      <td>0</td>\n",
       "    </tr>\n",
       "    <tr>\n",
       "      <th>238423</th>\n",
       "      <td>20</td>\n",
       "      <td>0</td>\n",
       "      <td>1</td>\n",
       "      <td>0</td>\n",
       "    </tr>\n",
       "    <tr>\n",
       "      <th>440430</th>\n",
       "      <td>36</td>\n",
       "      <td>0</td>\n",
       "      <td>0</td>\n",
       "      <td>1</td>\n",
       "    </tr>\n",
       "    <tr>\n",
       "      <th>837408</th>\n",
       "      <td>20</td>\n",
       "      <td>0</td>\n",
       "      <td>1</td>\n",
       "      <td>0</td>\n",
       "    </tr>\n",
       "    <tr>\n",
       "      <th>820082</th>\n",
       "      <td>25</td>\n",
       "      <td>0</td>\n",
       "      <td>1</td>\n",
       "      <td>0</td>\n",
       "    </tr>\n",
       "    <tr>\n",
       "      <th>1132104</th>\n",
       "      <td>16</td>\n",
       "      <td>0</td>\n",
       "      <td>1</td>\n",
       "      <td>0</td>\n",
       "    </tr>\n",
       "  </tbody>\n",
       "</table>\n",
       "</div>"
      ],
      "text/plain": [
       "         연식(23년기준)  연식0-10  연식11-30  연식>30\n",
       "502432          35       0        0      1\n",
       "302991          24       0        1      0\n",
       "999316          18       0        1      0\n",
       "541895          40       0        0      1\n",
       "731831          18       0        1      0\n",
       "238423          20       0        1      0\n",
       "440430          36       0        0      1\n",
       "837408          20       0        1      0\n",
       "820082          25       0        1      0\n",
       "1132104         16       0        1      0"
      ]
     },
     "execution_count": 39,
     "metadata": {},
     "output_type": "execute_result"
    }
   ],
   "source": [
    "concat[['연식(23년기준)', '연식0-10', '연식11-30', '연식>30']].sample(n=10)"
   ]
  },
  {
   "cell_type": "code",
   "execution_count": 40,
   "metadata": {},
   "outputs": [
    {
     "data": {
      "text/plain": [
       "<Axes: xlabel='연식(category)', ylabel='target'>"
      ]
     },
     "execution_count": 40,
     "metadata": {},
     "output_type": "execute_result"
    },
    {
     "data": {
      "image/png": "[encoded data removed]",
      "text/plain": [
       "<Figure size 640x480 with 1 Axes>"
      ]
     },
     "metadata": {},
     "output_type": "display_data"
    }
   ],
   "source": [
    "sns.boxplot(x='연식(category)', y='target', data=concat[:1118822])"
   ]
  },
  {
   "cell_type": "markdown",
   "metadata": {},
   "source": [
    "# 세대별주차대수 변수 추가"
   ]
  },
  {
   "cell_type": "code",
   "execution_count": 41,
   "metadata": {},
   "outputs": [],
   "source": [
    "concat['세대별주차대수'] = concat['주차대수']/concat['k-전체세대수']"
   ]
  },
  {
   "cell_type": "code",
   "execution_count": 42,
   "metadata": {},
   "outputs": [
    {
     "data": {
      "text/plain": [
       "<Axes: xlabel='연식(category)', ylabel='세대별주차대수'>"
      ]
     },
     "execution_count": 42,
     "metadata": {},
     "output_type": "execute_result"
    },
    {
     "data": {
      "image/png": "[encoded data removed]",
      "text/plain": [
       "<Figure size 640x480 with 1 Axes>"
      ]
     },
     "metadata": {},
     "output_type": "display_data"
    }
   ],
   "source": [
    "sns.boxplot(x='연식(category)', y='세대별주차대수', data=concat[:1118822])"
   ]
  },
  {
   "cell_type": "code",
   "execution_count": 43,
   "metadata": {},
   "outputs": [
    {
     "data": {
      "text/plain": [
       "261695"
      ]
     },
     "execution_count": 43,
     "metadata": {},
     "output_type": "execute_result"
    }
   ],
   "source": [
    "concat['세대별주차대수'].isnull().sum()"
   ]
  },
  {
   "cell_type": "code",
   "execution_count": 44,
   "metadata": {},
   "outputs": [],
   "source": [
    "# 세대별주차대수의 결측치는 연식(category)을 기준으로 평균값을 채워넣는다.\n",
    "concat['세대별주차대수'] = concat.groupby('연식(category)')['세대별주차대수'].transform(lambda x: x.fillna(x.mean()))"
   ]
  },
  {
   "cell_type": "markdown",
   "metadata": {},
   "source": [
    "# 변수 선택"
   ]
  },
  {
   "cell_type": "code",
   "execution_count": 45,
   "metadata": {},
   "outputs": [],
   "source": [
    "concat_new = concat[['계약날짜','전세가격지수', '기준금리', '동', 'k-건설사(시공사)', '건축년도', '인구밀도 (명/㎢)', '전용면적(㎡)', '층',\n",
    "                     '세대별주차대수', '연식(거래일기준)','target', 'is_test']]"
   ]
  },
  {
   "cell_type": "markdown",
   "metadata": {},
   "source": [
    "# 테스트셋 분리"
   ]
  },
  {
   "cell_type": "code",
   "execution_count": 46,
   "metadata": {},
   "outputs": [
    {
     "name": "stdout",
     "output_type": "stream",
     "text": [
      "(1124347, 12) (9294, 12)\n"
     ]
    }
   ],
   "source": [
    "# 이제 다시 train과 test dataset을 분할해줍니다. 위에서 제작해 놓았던 is_test 칼럼을 이용합니다.\n",
    "dt_train = concat_new.query('is_test==0')\n",
    "dt_test = concat_new.query('is_test==1')\n",
    "\n",
    "# 이제 is_test 칼럼은 drop해줍니다.\n",
    "dt_train.drop(['is_test'], axis = 1, inplace=True)\n",
    "dt_test.drop(['is_test'], axis = 1, inplace=True)\n",
    "print(dt_train.shape, dt_test.shape)"
   ]
  },
  {
   "cell_type": "code",
   "execution_count": 47,
   "metadata": {},
   "outputs": [
    {
     "name": "stdout",
     "output_type": "stream",
     "text": [
      "연속형 변수: ['계약날짜', '전세가격지수', '기준금리', '건축년도', '인구밀도 (명/㎢)', '전용면적(㎡)', '층', '세대별주차대수', '연식(거래일기준)', 'target']\n",
      "범주형 변수: ['동', 'k-건설사(시공사)']\n"
     ]
    }
   ],
   "source": [
    "continuous_columns = []\n",
    "categorical_columns = []\n",
    "\n",
    "for column in dt_train.columns:\n",
    "    if pd.api.types.is_numeric_dtype(dt_train[column]):\n",
    "        continuous_columns.append(column)\n",
    "    else:\n",
    "        categorical_columns.append(column)\n",
    "\n",
    "\n",
    "print(\"연속형 변수:\", continuous_columns)\n",
    "print(\"범주형 변수:\", categorical_columns)"
   ]
  },
  {
   "cell_type": "code",
   "execution_count": 48,
   "metadata": {},
   "outputs": [],
   "source": [
    "dt_test = dt_test.drop(columns = ['target'])"
   ]
  },
  {
   "cell_type": "markdown",
   "metadata": {},
   "source": [
    "# 아웃라이어 확인"
   ]
  },
  {
   "cell_type": "code",
   "execution_count": 49,
   "metadata": {},
   "outputs": [
    {
     "data": {
      "image/png": "[encoded data removed]",
      "text/plain": [
       "<Figure size 700x300 with 1 Axes>"
      ]
     },
     "metadata": {},
     "output_type": "display_data"
    }
   ],
   "source": [
    "fig = plt.figure(figsize=(7, 3))\n",
    "sns.boxplot(data = dt_train, x = 'target', color='lightgreen')\n",
    "plt.title('target 분포')\n",
    "plt.xlabel('target')\n",
    "plt.show()"
   ]
  },
  {
   "cell_type": "code",
   "execution_count": 50,
   "metadata": {},
   "outputs": [],
   "source": [
    "# 아웃라이어 제거\n",
    "Q1 = dt_train['target'].quantile(0.25)\n",
    "Q3 = dt_train['target'].quantile(0.75)\n",
    "IQR = Q3 - Q1\n",
    "\n",
    "lower_bound = Q1 - 1.5 * IQR\n",
    "upper_bound = Q3 + 1.5 * IQR\n",
    "\n",
    "dt_train = dt_train[(dt_train['target'] >= lower_bound) & (dt_train['target'] <= upper_bound)]"
   ]
  },
  {
   "cell_type": "markdown",
   "metadata": {},
   "source": [
    "# 라벨링"
   ]
  },
  {
   "cell_type": "code",
   "execution_count": 51,
   "metadata": {},
   "outputs": [
    {
     "name": "stdout",
     "output_type": "stream",
     "text": [
      "변환전\n",
      " k-건설사(시공사)\n",
      "DL E&C    89750.000000\n",
      "GS건설      81592.196346\n",
      "롯데건설      70543.154603\n",
      "포스코건설     66193.933828\n",
      "삼성물산      63594.406541\n",
      "Name: target, dtype: float64\n",
      "변환후\n",
      " k-건설사(시공사)\n",
      "0    89750.000000\n",
      "1    81592.196346\n",
      "2    70543.154603\n",
      "3    66193.933828\n",
      "4    63594.406541\n",
      "Name: target, dtype: float64\n"
     ]
    }
   ],
   "source": [
    "# 'k-건설사(시공사)'열 라벨 인코딩\n",
    "\n",
    "# 건설사별 가격의 평균 내림차순 정렬\n",
    "apt_price = dt_train.groupby('k-건설사(시공사)')['target'].agg('mean').sort_values(ascending=False)\n",
    "print('변환전\\n', apt_price[:5])\n",
    "\n",
    "for i, a in enumerate(list(apt_price.index)):\n",
    "    dt_train.loc[dt_train['k-건설사(시공사)'] == a, 'k-건설사(시공사)'] = i # 라벨 인코딩\n",
    "    dt_test.loc[dt_test['k-건설사(시공사)'] == a, 'k-건설사(시공사)'] = i\n",
    "apt_price = dt_train.groupby('k-건설사(시공사)')['target'].agg('mean').sort_values(ascending=False)\n",
    "print('변환후\\n', apt_price[:5])"
   ]
  },
  {
   "cell_type": "code",
   "execution_count": 52,
   "metadata": {},
   "outputs": [
    {
     "data": {
      "text/plain": [
       "동\n",
       "압구정동    104767.689346\n",
       "사직동      89459.088076\n",
       "서빙고동     88192.902935\n",
       "내곡동      88122.515152\n",
       "반포동      86866.195483\n",
       "잠실동      86764.744540\n",
       "여의동      85892.503473\n",
       "신원동      84030.629550\n",
       "대치동      82993.376619\n",
       "세곡동      82961.291774\n",
       "이촌동      80741.962837\n",
       "청담동      80540.751914\n",
       "남영동      80130.813187\n",
       "회현동      78863.581986\n",
       "잠원동      78841.563627\n",
       "도곡동      78704.830667\n",
       "일원동      75969.169714\n",
       "방배동      75942.210391\n",
       "삼성동      75168.325465\n",
       "아현동      74204.565129\n",
       "Name: target, dtype: float64"
      ]
     },
     "execution_count": 52,
     "metadata": {},
     "output_type": "execute_result"
    }
   ],
   "source": [
    "# '동'열 라벨 인코딩\n",
    "dong_price = dt_train.groupby('동')['target'].agg('mean').sort_values(ascending=False)\n",
    "dong_price[:20]"
   ]
  },
  {
   "cell_type": "code",
   "execution_count": 53,
   "metadata": {},
   "outputs": [
    {
     "name": "stderr",
     "output_type": "stream",
     "text": [
      "  0%|          | 0/211 [00:00<?, ?it/s]"
     ]
    },
    {
     "name": "stderr",
     "output_type": "stream",
     "text": [
      "100%|██████████| 211/211 [00:11<00:00, 17.76it/s]\n"
     ]
    },
    {
     "data": {
      "text/html": [
       "<div>\n",
       "<style scoped>\n",
       "    .dataframe tbody tr th:only-of-type {\n",
       "        vertical-align: middle;\n",
       "    }\n",
       "\n",
       "    .dataframe tbody tr th {\n",
       "        vertical-align: top;\n",
       "    }\n",
       "\n",
       "    .dataframe thead th {\n",
       "        text-align: right;\n",
       "    }\n",
       "</style>\n",
       "<table border=\"1\" class=\"dataframe\">\n",
       "  <thead>\n",
       "    <tr style=\"text-align: right;\">\n",
       "      <th></th>\n",
       "      <th>계약날짜</th>\n",
       "      <th>전세가격지수</th>\n",
       "      <th>기준금리</th>\n",
       "      <th>동</th>\n",
       "      <th>k-건설사(시공사)</th>\n",
       "      <th>건축년도</th>\n",
       "      <th>인구밀도 (명/㎢)</th>\n",
       "      <th>전용면적(㎡)</th>\n",
       "      <th>층</th>\n",
       "      <th>세대별주차대수</th>\n",
       "      <th>연식(거래일기준)</th>\n",
       "      <th>target</th>\n",
       "    </tr>\n",
       "  </thead>\n",
       "  <tbody>\n",
       "    <tr>\n",
       "      <th>0</th>\n",
       "      <td>20171208</td>\n",
       "      <td>92.7</td>\n",
       "      <td>1.5</td>\n",
       "      <td>20</td>\n",
       "      <td>13</td>\n",
       "      <td>1987</td>\n",
       "      <td>11824.116743</td>\n",
       "      <td>79.97</td>\n",
       "      <td>3</td>\n",
       "      <td>0.970370</td>\n",
       "      <td>30</td>\n",
       "      <td>124000.0</td>\n",
       "    </tr>\n",
       "    <tr>\n",
       "      <th>1</th>\n",
       "      <td>20171222</td>\n",
       "      <td>92.7</td>\n",
       "      <td>1.5</td>\n",
       "      <td>20</td>\n",
       "      <td>13</td>\n",
       "      <td>1987</td>\n",
       "      <td>11824.116743</td>\n",
       "      <td>79.97</td>\n",
       "      <td>4</td>\n",
       "      <td>0.970370</td>\n",
       "      <td>30</td>\n",
       "      <td>123500.0</td>\n",
       "    </tr>\n",
       "    <tr>\n",
       "      <th>2</th>\n",
       "      <td>20171228</td>\n",
       "      <td>92.7</td>\n",
       "      <td>1.5</td>\n",
       "      <td>20</td>\n",
       "      <td>13</td>\n",
       "      <td>1987</td>\n",
       "      <td>11824.116743</td>\n",
       "      <td>54.98</td>\n",
       "      <td>5</td>\n",
       "      <td>0.970370</td>\n",
       "      <td>30</td>\n",
       "      <td>91500.0</td>\n",
       "    </tr>\n",
       "    <tr>\n",
       "      <th>19</th>\n",
       "      <td>20171211</td>\n",
       "      <td>92.7</td>\n",
       "      <td>1.5</td>\n",
       "      <td>20</td>\n",
       "      <td>18</td>\n",
       "      <td>1982</td>\n",
       "      <td>11824.116743</td>\n",
       "      <td>42.55</td>\n",
       "      <td>3</td>\n",
       "      <td>0.000397</td>\n",
       "      <td>35</td>\n",
       "      <td>118000.0</td>\n",
       "    </tr>\n",
       "    <tr>\n",
       "      <th>20</th>\n",
       "      <td>20171212</td>\n",
       "      <td>92.7</td>\n",
       "      <td>1.5</td>\n",
       "      <td>20</td>\n",
       "      <td>18</td>\n",
       "      <td>1982</td>\n",
       "      <td>11824.116743</td>\n",
       "      <td>35.87</td>\n",
       "      <td>2</td>\n",
       "      <td>0.000397</td>\n",
       "      <td>35</td>\n",
       "      <td>123000.0</td>\n",
       "    </tr>\n",
       "  </tbody>\n",
       "</table>\n",
       "</div>"
      ],
      "text/plain": [
       "        계약날짜  전세가격지수  기준금리   동 k-건설사(시공사)  건축년도    인구밀도 (명/㎢)  전용면적(㎡)  층  \\\n",
       "0   20171208    92.7   1.5  20         13  1987  11824.116743    79.97  3   \n",
       "1   20171222    92.7   1.5  20         13  1987  11824.116743    79.97  4   \n",
       "2   20171228    92.7   1.5  20         13  1987  11824.116743    54.98  5   \n",
       "19  20171211    92.7   1.5  20         18  1982  11824.116743    42.55  3   \n",
       "20  20171212    92.7   1.5  20         18  1982  11824.116743    35.87  2   \n",
       "\n",
       "     세대별주차대수  연식(거래일기준)    target  \n",
       "0   0.970370         30  124000.0  \n",
       "1   0.970370         30  123500.0  \n",
       "2   0.970370         30   91500.0  \n",
       "19  0.000397         35  118000.0  \n",
       "20  0.000397         35  123000.0  "
      ]
     },
     "execution_count": 53,
     "metadata": {},
     "output_type": "execute_result"
    }
   ],
   "source": [
    "# 가격기준으로 동을 정렬한 리스트를 바탕으로 dong에 대해 라벨 인코딩 진행 - 477 it.\n",
    "for i, d in tqdm(enumerate(list(dong_price.index)), total=len(dong_price)):\n",
    "    dt_train.loc[dt_train['동'] == d, '동'] = i\n",
    "    dt_test.loc[dt_test['동'] == d, '동'] = i\n",
    "dt_train.head()"
   ]
  },
  {
   "cell_type": "code",
   "execution_count": 54,
   "metadata": {},
   "outputs": [
    {
     "name": "stdout",
     "output_type": "stream",
     "text": [
      "<class 'pandas.core.frame.DataFrame'>\n",
      "Int64Index: 1048253 entries, 0 to 1133640\n",
      "Data columns (total 12 columns):\n",
      " #   Column      Non-Null Count    Dtype  \n",
      "---  ------      --------------    -----  \n",
      " 0   계약날짜        1048253 non-null  int64  \n",
      " 1   전세가격지수      1048253 non-null  float64\n",
      " 2   기준금리        1048253 non-null  float64\n",
      " 3   동           1048253 non-null  int64  \n",
      " 4   k-건설사(시공사)  1048253 non-null  int64  \n",
      " 5   건축년도        1048253 non-null  int64  \n",
      " 6   인구밀도 (명/㎢)  1048253 non-null  float64\n",
      " 7   전용면적(㎡)     1048253 non-null  float64\n",
      " 8   층           1048253 non-null  int64  \n",
      " 9   세대별주차대수     1048253 non-null  float64\n",
      " 10  연식(거래일기준)   1048253 non-null  int64  \n",
      " 11  target      1048253 non-null  float64\n",
      "dtypes: float64(6), int64(6)\n",
      "memory usage: 104.0 MB\n"
     ]
    }
   ],
   "source": [
    "dt_train['동'] = dt_train['동'].astype('int64')\n",
    "dt_train['k-건설사(시공사)'] = dt_train['k-건설사(시공사)'].astype('int64')\n",
    "dt_test['동'] = dt_test['동'].astype('int64')\n",
    "dt_test['k-건설사(시공사)'] = dt_test['k-건설사(시공사)'].astype('int64')\n",
    "dt_train.info()"
   ]
  },
  {
   "cell_type": "markdown",
   "metadata": {},
   "source": [
    "# 하이퍼파라미터 튜닝"
   ]
  },
  {
   "cell_type": "code",
   "execution_count": 55,
   "metadata": {},
   "outputs": [],
   "source": [
    "from sklearn.model_selection import train_test_split"
   ]
  },
  {
   "cell_type": "code",
   "execution_count": 56,
   "metadata": {},
   "outputs": [],
   "source": [
    "def RMSE(y, y_pred):\n",
    "    rmse = mean_squared_error(y, y_pred) ** 0.5\n",
    "    return rmse"
   ]
  },
  {
   "cell_type": "code",
   "execution_count": 57,
   "metadata": {},
   "outputs": [
    {
     "name": "stdout",
     "output_type": "stream",
     "text": [
      "(838602, 11) (838602,) (209651, 11) (209651,)\n"
     ]
    }
   ],
   "source": [
    "dt_train = dt_train.sort_values(by='계약날짜')\n",
    "cut = int(len(dt_train)*0.8)\n",
    "h_train = dt_train[:cut]\n",
    "h_valid = dt_train[cut:]\n",
    "\n",
    "h_train_X = h_train.drop('target', axis=1)\n",
    "h_train_y = h_train['target']\n",
    "h_valid_X = h_valid.drop('target', axis=1)\n",
    "h_valid_y = h_valid['target']\n",
    "print(h_train_X.shape, h_train_y.shape, h_valid_X.shape, h_valid_y.shape)"
   ]
  },
  {
   "cell_type": "code",
   "execution_count": 58,
   "metadata": {},
   "outputs": [
    {
     "name": "stderr",
     "output_type": "stream",
     "text": [
      "[I 2024-01-25 05:03:46,060] A new study created in memory with name: no-name-f4cf9f8d-83c3-444b-92f1-91460e57df42\n",
      "[I 2024-01-25 05:04:03,339] Trial 0 finished with value: 34614.52121048209 and parameters: {'max_depth': 13, 'learning_rate': 1.3320229150659043e-08, 'n_estimators': 1938, 'min_child_samples': 76, 'subsample': 0.6315909175774905}. Best is trial 0 with value: 34614.52121048209.\n",
      "[I 2024-01-25 05:04:22,159] Trial 1 finished with value: 34611.65429719579 and parameters: {'max_depth': 5, 'learning_rate': 1.5430400149097381e-07, 'n_estimators': 2306, 'min_child_samples': 21, 'subsample': 0.4337244827306443}. Best is trial 1 with value: 34611.65429719579.\n",
      "[I 2024-01-25 05:04:23,346] Trial 2 finished with value: 30967.448011533394 and parameters: {'max_depth': 11, 'learning_rate': 0.005252427629146827, 'n_estimators': 111, 'min_child_samples': 54, 'subsample': 0.8422371309477078}. Best is trial 2 with value: 30967.448011533394.\n",
      "[I 2024-01-25 05:04:32,037] Trial 3 finished with value: 33028.20336865787 and parameters: {'max_depth': 10, 'learning_rate': 0.00021405821746591817, 'n_estimators': 946, 'min_child_samples': 93, 'subsample': 0.7698715745641292}. Best is trial 2 with value: 30967.448011533394.\n",
      "[I 2024-01-25 05:04:42,428] Trial 4 finished with value: 34614.00467945659 and parameters: {'max_depth': 10, 'learning_rate': 7.128863277996207e-08, 'n_estimators': 1183, 'min_child_samples': 69, 'subsample': 0.5996296351455978}. Best is trial 2 with value: 30967.448011533394.\n",
      "[I 2024-01-25 05:04:56,770] Trial 5 finished with value: 33933.45295764439 and parameters: {'max_depth': 8, 'learning_rate': 5.08864167992051e-05, 'n_estimators': 1588, 'min_child_samples': 67, 'subsample': 0.6938050197112922}. Best is trial 2 with value: 30967.448011533394.\n",
      "[I 2024-01-25 05:05:21,661] Trial 6 finished with value: 34296.1483615258 and parameters: {'max_depth': 13, 'learning_rate': 1.3485992516968212e-05, 'n_estimators': 2735, 'min_child_samples': 35, 'subsample': 0.4345676420333751}. Best is trial 2 with value: 30967.448011533394.\n",
      "[I 2024-01-25 05:05:43,428] Trial 7 finished with value: 34613.68167509496 and parameters: {'max_depth': 6, 'learning_rate': 4.8295444901938926e-08, 'n_estimators': 2504, 'min_child_samples': 9, 'subsample': 0.7100430887666348}. Best is trial 2 with value: 30967.448011533394.\n",
      "[I 2024-01-25 05:05:49,769] Trial 8 finished with value: 31078.602944747836 and parameters: {'max_depth': 10, 'learning_rate': 0.0008236106883720722, 'n_estimators': 677, 'min_child_samples': 87, 'subsample': 0.5520731753100153}. Best is trial 2 with value: 30967.448011533394.\n",
      "[I 2024-01-25 05:06:13,668] Trial 9 finished with value: 34600.75644587117 and parameters: {'max_depth': 12, 'learning_rate': 5.967195151630884e-07, 'n_estimators': 2664, 'min_child_samples': 36, 'subsample': 0.46529289303849874}. Best is trial 2 with value: 30967.448011533394.\n",
      "[I 2024-01-25 05:06:14,558] Trial 10 finished with value: 32411.37104789956 and parameters: {'max_depth': 3, 'learning_rate': 0.007287079614451871, 'n_estimators': 125, 'min_child_samples': 50, 'subsample': 0.9370978022952945}. Best is trial 2 with value: 30967.448011533394.\n",
      "[I 2024-01-25 05:06:15,988] Trial 11 finished with value: 28793.076555853993 and parameters: {'max_depth': 15, 'learning_rate': 0.009574195308117853, 'n_estimators': 134, 'min_child_samples': 99, 'subsample': 0.5200055418871649}. Best is trial 11 with value: 28793.076555853993.\n",
      "[I 2024-01-25 05:06:17,573] Trial 12 finished with value: 29052.871965635557 and parameters: {'max_depth': 15, 'learning_rate': 0.0077642816743979, 'n_estimators': 151, 'min_child_samples': 51, 'subsample': 0.9988113820538724}. Best is trial 11 with value: 28793.076555853993.\n",
      "[I 2024-01-25 05:06:22,821] Trial 13 finished with value: 31727.196012589506 and parameters: {'max_depth': 15, 'learning_rate': 0.0007775473618220168, 'n_estimators': 544, 'min_child_samples': 99, 'subsample': 0.5017422244950211}. Best is trial 11 with value: 28793.076555853993.\n",
      "[I 2024-01-25 05:06:27,857] Trial 14 finished with value: 34608.22680066488 and parameters: {'max_depth': 15, 'learning_rate': 1.369511507989889e-06, 'n_estimators': 540, 'min_child_samples': 50, 'subsample': 0.5223234814923825}. Best is trial 11 with value: 28793.076555853993.\n",
      "[I 2024-01-25 05:06:39,173] Trial 15 finished with value: 27725.002418576645 and parameters: {'max_depth': 15, 'learning_rate': 0.0014510347218077318, 'n_estimators': 1196, 'min_child_samples': 79, 'subsample': 0.9312965015272958}. Best is trial 15 with value: 27725.002418576645.\n",
      "[I 2024-01-25 05:06:51,993] Trial 16 finished with value: 30448.73551383811 and parameters: {'max_depth': 13, 'learning_rate': 0.0005202191963130398, 'n_estimators': 1379, 'min_child_samples': 87, 'subsample': 0.8395523525290788}. Best is trial 15 with value: 27725.002418576645.\n",
      "[I 2024-01-25 05:07:09,143] Trial 17 finished with value: 33570.527642923415 and parameters: {'max_depth': 8, 'learning_rate': 6.790663195577398e-05, 'n_estimators': 1867, 'min_child_samples': 76, 'subsample': 0.5868354797272192}. Best is trial 15 with value: 27725.002418576645.\n",
      "[I 2024-01-25 05:07:18,423] Trial 18 finished with value: 24565.141390369598 and parameters: {'max_depth': 14, 'learning_rate': 0.0034360985974135998, 'n_estimators': 964, 'min_child_samples': 99, 'subsample': 0.6818140962688299}. Best is trial 18 with value: 24565.141390369598.\n",
      "[I 2024-01-25 05:07:27,477] Trial 19 finished with value: 28166.08643178814 and parameters: {'max_depth': 13, 'learning_rate': 0.0016147128916887197, 'n_estimators': 955, 'min_child_samples': 83, 'subsample': 0.7067973780062928}. Best is trial 18 with value: 24565.141390369598.\n",
      "[I 2024-01-25 05:07:42,777] Trial 20 finished with value: 34524.618958208426 and parameters: {'max_depth': 14, 'learning_rate': 6.144647016137447e-06, 'n_estimators': 1686, 'min_child_samples': 61, 'subsample': 0.857424596918981}. Best is trial 18 with value: 24565.141390369598.\n",
      "[I 2024-01-25 05:07:51,798] Trial 21 finished with value: 27942.79453653045 and parameters: {'max_depth': 12, 'learning_rate': 0.0017209504786874722, 'n_estimators': 949, 'min_child_samples': 81, 'subsample': 0.7150764228890707}. Best is trial 18 with value: 24565.141390369598.\n",
      "[I 2024-01-25 05:08:02,583] Trial 22 finished with value: 25673.138029813726 and parameters: {'max_depth': 12, 'learning_rate': 0.002353258739558442, 'n_estimators': 1159, 'min_child_samples': 79, 'subsample': 0.7491764637705421}. Best is trial 18 with value: 24565.141390369598.\n",
      "[I 2024-01-25 05:08:14,367] Trial 23 finished with value: 33284.40513763488 and parameters: {'max_depth': 14, 'learning_rate': 0.0001297916309400088, 'n_estimators': 1276, 'min_child_samples': 93, 'subsample': 0.7757811186061336}. Best is trial 18 with value: 24565.141390369598.\n",
      "[I 2024-01-25 05:08:24,618] Trial 24 finished with value: 26346.14144304555 and parameters: {'max_depth': 12, 'learning_rate': 0.0022046967080374463, 'n_estimators': 1089, 'min_child_samples': 71, 'subsample': 0.9128646385207088}. Best is trial 18 with value: 24565.141390369598.\n",
      "[I 2024-01-25 05:08:31,657] Trial 25 finished with value: 32586.589683078393 and parameters: {'max_depth': 11, 'learning_rate': 0.00036315218788892306, 'n_estimators': 745, 'min_child_samples': 70, 'subsample': 0.7557272942875836}. Best is trial 18 with value: 24565.141390369598.\n",
      "[I 2024-01-25 05:08:45,396] Trial 26 finished with value: 34366.5939527061 and parameters: {'max_depth': 12, 'learning_rate': 1.950703342719865e-05, 'n_estimators': 1468, 'min_child_samples': 61, 'subsample': 0.6484046811653436}. Best is trial 18 with value: 24565.141390369598.\n",
      "[I 2024-01-25 05:08:55,551] Trial 27 finished with value: 25216.51024269985 and parameters: {'max_depth': 9, 'learning_rate': 0.0027554265494263382, 'n_estimators': 1064, 'min_child_samples': 91, 'subsample': 0.9017666951161556}. Best is trial 18 with value: 24565.141390369598.\n",
      "[I 2024-01-25 05:08:59,089] Trial 28 finished with value: 28280.900786051152 and parameters: {'max_depth': 8, 'learning_rate': 0.0041407128480423, 'n_estimators': 361, 'min_child_samples': 92, 'subsample': 0.8075753961252347}. Best is trial 18 with value: 24565.141390369598.\n",
      "[I 2024-01-25 05:09:18,751] Trial 29 finished with value: 31390.392446186033 and parameters: {'max_depth': 9, 'learning_rate': 0.00023071577269449152, 'n_estimators': 2117, 'min_child_samples': 100, 'subsample': 0.6643695583338018}. Best is trial 18 with value: 24565.141390369598.\n",
      "[I 2024-01-25 05:09:34,520] Trial 30 finished with value: 34560.965202965905 and parameters: {'max_depth': 6, 'learning_rate': 3.4359382820313137e-06, 'n_estimators': 1762, 'min_child_samples': 87, 'subsample': 0.6227224929870971}. Best is trial 18 with value: 24565.141390369598.\n",
      "[I 2024-01-25 05:09:44,519] Trial 31 finished with value: 25640.744548512455 and parameters: {'max_depth': 11, 'learning_rate': 0.0025975952888358045, 'n_estimators': 1059, 'min_child_samples': 76, 'subsample': 0.9088375692677898}. Best is trial 18 with value: 24565.141390369598.\n",
      "[I 2024-01-25 05:09:52,080] Trial 32 finished with value: 26582.975618199856 and parameters: {'max_depth': 11, 'learning_rate': 0.00289089499508422, 'n_estimators': 793, 'min_child_samples': 92, 'subsample': 0.983081582192864}. Best is trial 18 with value: 24565.141390369598.\n",
      "[I 2024-01-25 05:10:01,896] Trial 33 finished with value: 30348.14624481298 and parameters: {'max_depth': 9, 'learning_rate': 0.0007065549733999893, 'n_estimators': 1053, 'min_child_samples': 75, 'subsample': 0.8789934104562789}. Best is trial 18 with value: 24565.141390369598.\n",
      "[I 2024-01-25 05:10:15,095] Trial 34 finished with value: 22378.619121346353 and parameters: {'max_depth': 14, 'learning_rate': 0.0037580342652760207, 'n_estimators': 1417, 'min_child_samples': 82, 'subsample': 0.7523420774123141}. Best is trial 34 with value: 22378.619121346353.\n",
      "[I 2024-01-25 05:10:41,782] Trial 35 finished with value: 20643.021666515 and parameters: {'max_depth': 14, 'learning_rate': 0.0036760669033323577, 'n_estimators': 2985, 'min_child_samples': 85, 'subsample': 0.8114491741269478}. Best is trial 35 with value: 20643.021666515.\n",
      "[I 2024-01-25 05:11:01,617] Trial 36 finished with value: 32693.38247972307 and parameters: {'max_depth': 14, 'learning_rate': 0.0001166367226654408, 'n_estimators': 2175, 'min_child_samples': 85, 'subsample': 0.7903598681344484}. Best is trial 35 with value: 20643.021666515.\n",
      "[I 2024-01-25 05:11:15,318] Trial 37 finished with value: 34614.61049876999 and parameters: {'max_depth': 14, 'learning_rate': 1.0247621894239389e-08, 'n_estimators': 1532, 'min_child_samples': 95, 'subsample': 0.8358545825692969}. Best is trial 35 with value: 20643.021666515.\n",
      "[I 2024-01-25 05:11:27,606] Trial 38 finished with value: 34246.07564920644 and parameters: {'max_depth': 13, 'learning_rate': 3.1665537199340834e-05, 'n_estimators': 1352, 'min_child_samples': 88, 'subsample': 0.6721497364483812}. Best is trial 35 with value: 20643.021666515.\n",
      "[I 2024-01-25 05:11:52,240] Trial 39 finished with value: 20574.344867842967 and parameters: {'max_depth': 7, 'learning_rate': 0.0039868416957023695, 'n_estimators': 2819, 'min_child_samples': 63, 'subsample': 0.7342613508899433}. Best is trial 39 with value: 20574.344867842967.\n",
      "[I 2024-01-25 05:12:17,196] Trial 40 finished with value: 20243.893645808676 and parameters: {'max_depth': 6, 'learning_rate': 0.005046875968987154, 'n_estimators': 2981, 'min_child_samples': 63, 'subsample': 0.7441682184946057}. Best is trial 40 with value: 20243.893645808676.\n",
      "[I 2024-01-25 05:12:42,640] Trial 41 finished with value: 20263.31298512167 and parameters: {'max_depth': 6, 'learning_rate': 0.005042699310058896, 'n_estimators': 2963, 'min_child_samples': 63, 'subsample': 0.7369394752045878}. Best is trial 40 with value: 20243.893645808676.\n",
      "[I 2024-01-25 05:13:06,233] Trial 42 finished with value: 20208.38050452805 and parameters: {'max_depth': 6, 'learning_rate': 0.005546669358422389, 'n_estimators': 2830, 'min_child_samples': 61, 'subsample': 0.73361548067065}. Best is trial 42 with value: 20208.38050452805.\n",
      "[I 2024-01-25 05:13:30,345] Trial 43 finished with value: 19808.365498456238 and parameters: {'max_depth': 6, 'learning_rate': 0.008406637906950022, 'n_estimators': 2990, 'min_child_samples': 60, 'subsample': 0.7280921202136772}. Best is trial 43 with value: 19808.365498456238.\n",
      "[I 2024-01-25 05:13:52,699] Trial 44 finished with value: 19966.612451118537 and parameters: {'max_depth': 5, 'learning_rate': 0.007642052104027249, 'n_estimators': 2965, 'min_child_samples': 43, 'subsample': 0.7220752971049246}. Best is trial 43 with value: 19808.365498456238.\n",
      "[I 2024-01-25 05:14:09,460] Trial 45 finished with value: 20337.693045194515 and parameters: {'max_depth': 4, 'learning_rate': 0.009903246299603284, 'n_estimators': 2495, 'min_child_samples': 44, 'subsample': 0.6301488392704689}. Best is trial 43 with value: 19808.365498456238.\n",
      "[I 2024-01-25 05:14:33,260] Trial 46 finished with value: 24856.751773133507 and parameters: {'max_depth': 5, 'learning_rate': 0.0011401660357508818, 'n_estimators': 2913, 'min_child_samples': 57, 'subsample': 0.5985973715139318}. Best is trial 43 with value: 19808.365498456238.\n",
      "[I 2024-01-25 05:14:55,002] Trial 47 finished with value: 20176.080603543895 and parameters: {'max_depth': 6, 'learning_rate': 0.006247053891384889, 'n_estimators': 2592, 'min_child_samples': 40, 'subsample': 0.6866866148860725}. Best is trial 43 with value: 19808.365498456238.\n",
      "[I 2024-01-25 05:15:14,672] Trial 48 finished with value: 19882.293199442207 and parameters: {'max_depth': 5, 'learning_rate': 0.00994628208823736, 'n_estimators': 2567, 'min_child_samples': 29, 'subsample': 0.7029211866911713}. Best is trial 43 with value: 19808.365498456238.\n",
      "[I 2024-01-25 05:15:31,346] Trial 49 finished with value: 20516.768318811624 and parameters: {'max_depth': 4, 'learning_rate': 0.007528441172572622, 'n_estimators': 2553, 'min_child_samples': 23, 'subsample': 0.6960932039362655}. Best is trial 43 with value: 19808.365498456238.\n",
      "[I 2024-01-25 05:15:50,739] Trial 50 finished with value: 34613.4473952019 and parameters: {'max_depth': 5, 'learning_rate': 6.335215547203271e-08, 'n_estimators': 2362, 'min_child_samples': 33, 'subsample': 0.561961222468107}. Best is trial 43 with value: 19808.365498456238.\n",
      "[I 2024-01-25 05:16:12,749] Trial 51 finished with value: 19985.408708002356 and parameters: {'max_depth': 6, 'learning_rate': 0.007289753143557911, 'n_estimators': 2688, 'min_child_samples': 44, 'subsample': 0.6561473309324499}. Best is trial 43 with value: 19808.365498456238.\n",
      "[I 2024-01-25 05:16:34,945] Trial 52 finished with value: 19788.522682729534 and parameters: {'max_depth': 7, 'learning_rate': 0.009133504424273168, 'n_estimators': 2702, 'min_child_samples': 44, 'subsample': 0.6513380852133215}. Best is trial 52 with value: 19788.522682729534.\n",
      "[I 2024-01-25 05:16:57,501] Trial 53 finished with value: 19835.626905474735 and parameters: {'max_depth': 7, 'learning_rate': 0.008342648603333025, 'n_estimators': 2690, 'min_child_samples': 40, 'subsample': 0.6467785323700241}. Best is trial 52 with value: 19788.522682729534.\n",
      "[I 2024-01-25 05:17:20,038] Trial 54 finished with value: 19729.229457369132 and parameters: {'max_depth': 7, 'learning_rate': 0.009777320599184456, 'n_estimators': 2733, 'min_child_samples': 27, 'subsample': 0.6523069214597115}. Best is trial 54 with value: 19729.229457369132.\n",
      "[I 2024-01-25 05:17:40,978] Trial 55 finished with value: 34611.62080781521 and parameters: {'max_depth': 7, 'learning_rate': 1.4856937836396548e-07, 'n_estimators': 2386, 'min_child_samples': 27, 'subsample': 0.6162678706041327}. Best is trial 54 with value: 19729.229457369132.\n",
      "[I 2024-01-25 05:18:04,063] Trial 56 finished with value: 19755.48232209879 and parameters: {'max_depth': 7, 'learning_rate': 0.009525730515025078, 'n_estimators': 2778, 'min_child_samples': 13, 'subsample': 0.5739943578213176}. Best is trial 54 with value: 19729.229457369132.\n",
      "[I 2024-01-25 05:18:29,818] Trial 57 finished with value: 23272.12084784869 and parameters: {'max_depth': 7, 'learning_rate': 0.001530784657982059, 'n_estimators': 2782, 'min_child_samples': 8, 'subsample': 0.5738128892074795}. Best is trial 54 with value: 19729.229457369132.\n",
      "[I 2024-01-25 05:18:53,865] Trial 58 finished with value: 34614.00942641373 and parameters: {'max_depth': 8, 'learning_rate': 3.160944047639721e-08, 'n_estimators': 2651, 'min_child_samples': 15, 'subsample': 0.5439807454333004}. Best is trial 54 with value: 19729.229457369132.\n",
      "[I 2024-01-25 05:19:14,775] Trial 59 finished with value: 28691.49308117933 and parameters: {'max_depth': 7, 'learning_rate': 0.000591503143091504, 'n_estimators': 2226, 'min_child_samples': 29, 'subsample': 0.6478786062894274}. Best is trial 54 with value: 19729.229457369132.\n",
      "[I 2024-01-25 05:19:30,562] Trial 60 finished with value: 28259.34676746634 and parameters: {'max_depth': 4, 'learning_rate': 0.0009898881906612565, 'n_estimators': 2073, 'min_child_samples': 15, 'subsample': 0.5287490818827238}. Best is trial 54 with value: 19729.229457369132.\n",
      "[I 2024-01-25 05:19:49,376] Trial 61 finished with value: 19992.699030506596 and parameters: {'max_depth': 5, 'learning_rate': 0.008930145727048195, 'n_estimators': 2439, 'min_child_samples': 46, 'subsample': 0.40621052807670843}. Best is trial 54 with value: 19729.229457369132.\n",
      "[I 2024-01-25 05:20:05,689] Trial 62 finished with value: 25357.34467807795 and parameters: {'max_depth': 3, 'learning_rate': 0.0018059374801894942, 'n_estimators': 2853, 'min_child_samples': 39, 'subsample': 0.6049371283089594}. Best is trial 54 with value: 19729.229457369132.\n",
      "[I 2024-01-25 05:20:28,132] Trial 63 finished with value: 19753.765695941962 and parameters: {'max_depth': 7, 'learning_rate': 0.00980431601167179, 'n_estimators': 2713, 'min_child_samples': 32, 'subsample': 0.6435079024259829}. Best is trial 54 with value: 19729.229457369132.\n",
      "[I 2024-01-25 05:20:50,671] Trial 64 finished with value: 19733.728960003213 and parameters: {'max_depth': 8, 'learning_rate': 0.009867093641773487, 'n_estimators': 2742, 'min_child_samples': 33, 'subsample': 0.5851113599794541}. Best is trial 54 with value: 19729.229457369132.\n",
      "[I 2024-01-25 05:21:15,324] Trial 65 finished with value: 20336.960163712014 and parameters: {'max_depth': 8, 'learning_rate': 0.0051474381013423024, 'n_estimators': 2730, 'min_child_samples': 34, 'subsample': 0.5860117040785565}. Best is trial 54 with value: 19729.229457369132.\n",
      "[I 2024-01-25 05:21:39,073] Trial 66 finished with value: 21411.68899027102 and parameters: {'max_depth': 7, 'learning_rate': 0.0027307040864329247, 'n_estimators': 2638, 'min_child_samples': 18, 'subsample': 0.5063751987006114}. Best is trial 54 with value: 19729.229457369132.\n",
      "[I 2024-01-25 05:22:04,908] Trial 67 finished with value: 29274.433291083566 and parameters: {'max_depth': 8, 'learning_rate': 0.0003962454862288106, 'n_estimators': 2754, 'min_child_samples': 54, 'subsample': 0.6353175177046322}. Best is trial 54 with value: 19729.229457369132.\n",
      "[I 2024-01-25 05:22:25,837] Trial 68 finished with value: 25092.109047589012 and parameters: {'max_depth': 7, 'learning_rate': 0.0013069962112568945, 'n_estimators': 2285, 'min_child_samples': 24, 'subsample': 0.5785887370717712}. Best is trial 54 with value: 19729.229457369132.\n",
      "[I 2024-01-25 05:22:51,549] Trial 69 finished with value: 34603.75285552242 and parameters: {'max_depth': 8, 'learning_rate': 4.338180709653345e-07, 'n_estimators': 2878, 'min_child_samples': 48, 'subsample': 0.5464181971895046}. Best is trial 54 with value: 19729.229457369132.\n",
      "[I 2024-01-25 05:23:14,168] Trial 70 finished with value: 22382.595888839856 and parameters: {'max_depth': 10, 'learning_rate': 0.002140578979872358, 'n_estimators': 2484, 'min_child_samples': 39, 'subsample': 0.4841740295836022}. Best is trial 54 with value: 19729.229457369132.\n",
      "[I 2024-01-25 05:23:35,583] Trial 71 finished with value: 19772.73512883667 and parameters: {'max_depth': 7, 'learning_rate': 0.009382192047480234, 'n_estimators': 2574, 'min_child_samples': 31, 'subsample': 0.6724928106662612}. Best is trial 54 with value: 19729.229457369132.\n",
      "[I 2024-01-25 05:23:57,900] Trial 72 finished with value: 19751.071203703952 and parameters: {'max_depth': 7, 'learning_rate': 0.00992938830162565, 'n_estimators': 2703, 'min_child_samples': 37, 'subsample': 0.6068283923871584}. Best is trial 54 with value: 19729.229457369132.\n",
      "[I 2024-01-25 05:24:22,377] Trial 73 finished with value: 20574.82205093587 and parameters: {'max_depth': 9, 'learning_rate': 0.004186800931726132, 'n_estimators': 2782, 'min_child_samples': 5, 'subsample': 0.6068040849046931}. Best is trial 54 with value: 19729.229457369132.\n",
      "[I 2024-01-25 05:24:47,088] Trial 74 finished with value: 20124.547295272485 and parameters: {'max_depth': 7, 'learning_rate': 0.0059153916059214206, 'n_estimators': 2900, 'min_child_samples': 30, 'subsample': 0.6716563528585272}. Best is trial 54 with value: 19729.229457369132.\n",
      "[I 2024-01-25 05:25:10,340] Trial 75 finished with value: 20933.040533111976 and parameters: {'max_depth': 8, 'learning_rate': 0.003449107271174516, 'n_estimators': 2601, 'min_child_samples': 36, 'subsample': 0.5646659600697471}. Best is trial 54 with value: 19729.229457369132.\n",
      "[I 2024-01-25 05:25:31,363] Trial 76 finished with value: 20273.22899208499 and parameters: {'max_depth': 6, 'learning_rate': 0.005759420433742798, 'n_estimators': 2523, 'min_child_samples': 25, 'subsample': 0.636300661755161}. Best is trial 54 with value: 19729.229457369132.\n",
      "[I 2024-01-25 05:25:55,659] Trial 77 finished with value: 21860.64651499015 and parameters: {'max_depth': 7, 'learning_rate': 0.002253059580810985, 'n_estimators': 2725, 'min_child_samples': 32, 'subsample': 0.5933888167066318}. Best is trial 54 with value: 19729.229457369132.\n",
      "[I 2024-01-25 05:26:15,765] Trial 78 finished with value: 19822.498643298826 and parameters: {'max_depth': 8, 'learning_rate': 0.00975222224400135, 'n_estimators': 2424, 'min_child_samples': 19, 'subsample': 0.6104163720269729}. Best is trial 54 with value: 19729.229457369132.\n",
      "[I 2024-01-25 05:26:33,682] Trial 79 finished with value: 21371.704967008918 and parameters: {'max_depth': 8, 'learning_rate': 0.0036903702695906962, 'n_estimators': 1971, 'min_child_samples': 36, 'subsample': 0.6233709704605593}. Best is trial 54 with value: 19729.229457369132.\n",
      "[I 2024-01-25 05:26:57,482] Trial 80 finished with value: 20124.923098172294 and parameters: {'max_depth': 6, 'learning_rate': 0.005978288923199336, 'n_estimators': 2891, 'min_child_samples': 13, 'subsample': 0.6768015373229487}. Best is trial 54 with value: 19729.229457369132.\n",
      "[I 2024-01-25 05:27:17,357] Trial 81 finished with value: 19861.99485872457 and parameters: {'max_depth': 7, 'learning_rate': 0.009681605672803328, 'n_estimators': 2422, 'min_child_samples': 19, 'subsample': 0.6108204029573235}. Best is trial 54 with value: 19729.229457369132.\n",
      "[I 2024-01-25 05:27:38,503] Trial 82 finished with value: 21438.942234508868 and parameters: {'max_depth': 9, 'learning_rate': 0.003067028517174935, 'n_estimators': 2310, 'min_child_samples': 20, 'subsample': 0.6641694701427237}. Best is trial 54 with value: 19729.229457369132.\n",
      "[I 2024-01-25 05:28:03,393] Trial 83 finished with value: 20394.620575106772 and parameters: {'max_depth': 8, 'learning_rate': 0.004683428506829678, 'n_estimators': 2809, 'min_child_samples': 26, 'subsample': 0.636029988519024}. Best is trial 54 with value: 19729.229457369132.\n",
      "[I 2024-01-25 05:28:24,958] Trial 84 finished with value: 19811.005171205845 and parameters: {'max_depth': 7, 'learning_rate': 0.009771815370176462, 'n_estimators': 2642, 'min_child_samples': 22, 'subsample': 0.5624267338701289}. Best is trial 54 with value: 19729.229457369132.\n",
      "[I 2024-01-25 05:28:46,884] Trial 85 finished with value: 20166.540465526694 and parameters: {'max_depth': 6, 'learning_rate': 0.0061626565884112024, 'n_estimators': 2665, 'min_child_samples': 31, 'subsample': 0.5386899178368352}. Best is trial 54 with value: 19729.229457369132.\n",
      "[I 2024-01-25 05:29:10,812] Trial 86 finished with value: 22621.376376446293 and parameters: {'max_depth': 7, 'learning_rate': 0.0018905526876370877, 'n_estimators': 2619, 'min_child_samples': 23, 'subsample': 0.5618554443561907}. Best is trial 54 with value: 19729.229457369132.\n",
      "[I 2024-01-25 05:29:37,790] Trial 87 finished with value: 34457.10243779827 and parameters: {'max_depth': 7, 'learning_rate': 6.0682686023792965e-06, 'n_estimators': 2995, 'min_child_samples': 51, 'subsample': 0.6889729373303963}. Best is trial 54 with value: 19729.229457369132.\n",
      "[I 2024-01-25 05:30:00,971] Trial 88 finished with value: 20001.603674516562 and parameters: {'max_depth': 9, 'learning_rate': 0.0071523912312603175, 'n_estimators': 2737, 'min_child_samples': 27, 'subsample': 0.7186735980434996}. Best is trial 54 with value: 19729.229457369132.\n",
      "[I 2024-01-25 05:30:22,480] Trial 89 finished with value: 21443.854458875427 and parameters: {'max_depth': 6, 'learning_rate': 0.002905841921713686, 'n_estimators': 2503, 'min_child_samples': 55, 'subsample': 0.578068408172922}. Best is trial 54 with value: 19729.229457369132.\n",
      "[I 2024-01-25 05:30:47,001] Trial 90 finished with value: 20519.48067080761 and parameters: {'max_depth': 7, 'learning_rate': 0.004171245932675913, 'n_estimators': 2853, 'min_child_samples': 12, 'subsample': 0.5933069854503589}. Best is trial 54 with value: 19729.229457369132.\n",
      "[I 2024-01-25 05:31:08,346] Trial 91 finished with value: 19800.79241902094 and parameters: {'max_depth': 8, 'learning_rate': 0.009399224113833036, 'n_estimators': 2598, 'min_child_samples': 22, 'subsample': 0.61638753864337}. Best is trial 54 with value: 19729.229457369132.\n",
      "[I 2024-01-25 05:31:30,143] Trial 92 finished with value: 20064.886266887443 and parameters: {'max_depth': 8, 'learning_rate': 0.007072458353888763, 'n_estimators': 2576, 'min_child_samples': 21, 'subsample': 0.6518897255924576}. Best is trial 54 with value: 19729.229457369132.\n",
      "[I 2024-01-25 05:31:53,946] Trial 93 finished with value: 19650.850930776596 and parameters: {'max_depth': 7, 'learning_rate': 0.009840099258121973, 'n_estimators': 2938, 'min_child_samples': 38, 'subsample': 0.6254090188665539}. Best is trial 93 with value: 19650.850930776596.\n",
      "[I 2024-01-25 05:32:18,362] Trial 94 finished with value: 20243.444469694645 and parameters: {'max_depth': 6, 'learning_rate': 0.005158254268564999, 'n_estimators': 2931, 'min_child_samples': 38, 'subsample': 0.6253176685488547}. Best is trial 93 with value: 19650.850930776596.\n",
      "[I 2024-01-25 05:32:42,005] Trial 95 finished with value: 19889.68234817237 and parameters: {'max_depth': 8, 'learning_rate': 0.007597936274201011, 'n_estimators': 2804, 'min_child_samples': 36, 'subsample': 0.6646061799284784}. Best is trial 93 with value: 19650.850930776596.\n",
      "[I 2024-01-25 05:33:05,896] Trial 96 finished with value: 20537.1237538856 and parameters: {'max_depth': 7, 'learning_rate': 0.00431034551494029, 'n_estimators': 2700, 'min_child_samples': 42, 'subsample': 0.7028370825977672}. Best is trial 93 with value: 19650.850930776596.\n",
      "[I 2024-01-25 05:33:32,142] Trial 97 finished with value: 20968.547729891237 and parameters: {'max_depth': 9, 'learning_rate': 0.003087798354350088, 'n_estimators': 2917, 'min_child_samples': 33, 'subsample': 0.7701150821123465}. Best is trial 93 with value: 19650.850930776596.\n",
      "[I 2024-01-25 05:33:55,101] Trial 98 finished with value: 20058.35634652098 and parameters: {'max_depth': 6, 'learning_rate': 0.006631945629655858, 'n_estimators': 2766, 'min_child_samples': 47, 'subsample': 0.6174038133819121}. Best is trial 93 with value: 19650.850930776596.\n",
      "[I 2024-01-25 05:34:18,399] Trial 99 finished with value: 19734.0190266431 and parameters: {'max_depth': 7, 'learning_rate': 0.009715329855267511, 'n_estimators': 2830, 'min_child_samples': 29, 'subsample': 0.641624260479255}. Best is trial 93 with value: 19650.850930776596.\n"
     ]
    }
   ],
   "source": [
    "from optuna.samplers import TPESampler\n",
    "\n",
    "sampler = TPESampler(seed=10)\n",
    "\n",
    "def objective(trial):\n",
    "    dtrain = lgb.Dataset(h_train_X, label=h_train_y)\n",
    "    dtest = lgb.Dataset(h_valid_X, label=h_valid_y)\n",
    "\n",
    "    param = {\n",
    "        'objective': 'regression', # 회귀\n",
    "        'verbose': -1,\n",
    "        'metric': 'rmse', \n",
    "        'max_depth': trial.suggest_int('max_depth',3, 15),\n",
    "        'learning_rate': trial.suggest_loguniform(\"learning_rate\", 1e-8, 1e-2),\n",
    "        'n_estimators': trial.suggest_int('n_estimators', 100, 3000),\n",
    "        'min_child_samples': trial.suggest_int('min_child_samples', 5, 100),\n",
    "        'subsample': trial.suggest_loguniform('subsample', 0.4, 1),\n",
    "    }\n",
    "\n",
    "    model = lgb.LGBMRegressor(**param)\n",
    "    lgb_model = model.fit(h_train_X, h_train_y, eval_set=[(h_valid_X, h_valid_y)])\n",
    "    rmse = RMSE(h_valid_y, lgb_model.predict(h_valid_X))\n",
    "    return rmse\n",
    "        \n",
    "study_lgb = optuna.create_study(direction='minimize', sampler=sampler)\n",
    "study_lgb.optimize(objective, n_trials=100)"
   ]
  },
  {
   "cell_type": "code",
   "execution_count": 59,
   "metadata": {},
   "outputs": [
    {
     "name": "stdout",
     "output_type": "stream",
     "text": [
      "Best Trial: score 19650.850930776596,\n",
      "params {'max_depth': 7, 'learning_rate': 0.009840099258121973, 'n_estimators': 2938, 'min_child_samples': 38, 'subsample': 0.6254090188665539}\n"
     ]
    }
   ],
   "source": [
    "trial = study_lgb.best_trial\n",
    "trial_params = trial.params\n",
    "print('Best Trial: score {},\\nparams {}'.format(trial.value, trial_params))"
   ]
  },
  {
   "cell_type": "code",
   "execution_count": 60,
   "metadata": {},
   "outputs": [
    {
     "data": {
      "text/html": [
       "<div>\n",
       "<style scoped>\n",
       "    .dataframe tbody tr th:only-of-type {\n",
       "        vertical-align: middle;\n",
       "    }\n",
       "\n",
       "    .dataframe tbody tr th {\n",
       "        vertical-align: top;\n",
       "    }\n",
       "\n",
       "    .dataframe thead th {\n",
       "        text-align: right;\n",
       "    }\n",
       "</style>\n",
       "<table border=\"1\" class=\"dataframe\">\n",
       "  <thead>\n",
       "    <tr style=\"text-align: right;\">\n",
       "      <th></th>\n",
       "      <th>Idx</th>\n",
       "      <th>Values</th>\n",
       "    </tr>\n",
       "  </thead>\n",
       "  <tbody>\n",
       "    <tr>\n",
       "      <th>93</th>\n",
       "      <td>93</td>\n",
       "      <td>19650.850931</td>\n",
       "    </tr>\n",
       "    <tr>\n",
       "      <th>54</th>\n",
       "      <td>54</td>\n",
       "      <td>19729.229457</td>\n",
       "    </tr>\n",
       "    <tr>\n",
       "      <th>64</th>\n",
       "      <td>64</td>\n",
       "      <td>19733.728960</td>\n",
       "    </tr>\n",
       "    <tr>\n",
       "      <th>99</th>\n",
       "      <td>99</td>\n",
       "      <td>19734.019027</td>\n",
       "    </tr>\n",
       "    <tr>\n",
       "      <th>72</th>\n",
       "      <td>72</td>\n",
       "      <td>19751.071204</td>\n",
       "    </tr>\n",
       "    <tr>\n",
       "      <th>63</th>\n",
       "      <td>63</td>\n",
       "      <td>19753.765696</td>\n",
       "    </tr>\n",
       "    <tr>\n",
       "      <th>56</th>\n",
       "      <td>56</td>\n",
       "      <td>19755.482322</td>\n",
       "    </tr>\n",
       "    <tr>\n",
       "      <th>71</th>\n",
       "      <td>71</td>\n",
       "      <td>19772.735129</td>\n",
       "    </tr>\n",
       "    <tr>\n",
       "      <th>52</th>\n",
       "      <td>52</td>\n",
       "      <td>19788.522683</td>\n",
       "    </tr>\n",
       "    <tr>\n",
       "      <th>91</th>\n",
       "      <td>91</td>\n",
       "      <td>19800.792419</td>\n",
       "    </tr>\n",
       "    <tr>\n",
       "      <th>43</th>\n",
       "      <td>43</td>\n",
       "      <td>19808.365498</td>\n",
       "    </tr>\n",
       "    <tr>\n",
       "      <th>84</th>\n",
       "      <td>84</td>\n",
       "      <td>19811.005171</td>\n",
       "    </tr>\n",
       "    <tr>\n",
       "      <th>78</th>\n",
       "      <td>78</td>\n",
       "      <td>19822.498643</td>\n",
       "    </tr>\n",
       "    <tr>\n",
       "      <th>53</th>\n",
       "      <td>53</td>\n",
       "      <td>19835.626905</td>\n",
       "    </tr>\n",
       "    <tr>\n",
       "      <th>81</th>\n",
       "      <td>81</td>\n",
       "      <td>19861.994859</td>\n",
       "    </tr>\n",
       "    <tr>\n",
       "      <th>48</th>\n",
       "      <td>48</td>\n",
       "      <td>19882.293199</td>\n",
       "    </tr>\n",
       "    <tr>\n",
       "      <th>95</th>\n",
       "      <td>95</td>\n",
       "      <td>19889.682348</td>\n",
       "    </tr>\n",
       "    <tr>\n",
       "      <th>44</th>\n",
       "      <td>44</td>\n",
       "      <td>19966.612451</td>\n",
       "    </tr>\n",
       "    <tr>\n",
       "      <th>51</th>\n",
       "      <td>51</td>\n",
       "      <td>19985.408708</td>\n",
       "    </tr>\n",
       "    <tr>\n",
       "      <th>61</th>\n",
       "      <td>61</td>\n",
       "      <td>19992.699031</td>\n",
       "    </tr>\n",
       "  </tbody>\n",
       "</table>\n",
       "</div>"
      ],
      "text/plain": [
       "    Idx        Values\n",
       "93   93  19650.850931\n",
       "54   54  19729.229457\n",
       "64   64  19733.728960\n",
       "99   99  19734.019027\n",
       "72   72  19751.071204\n",
       "63   63  19753.765696\n",
       "56   56  19755.482322\n",
       "71   71  19772.735129\n",
       "52   52  19788.522683\n",
       "91   91  19800.792419\n",
       "43   43  19808.365498\n",
       "84   84  19811.005171\n",
       "78   78  19822.498643\n",
       "53   53  19835.626905\n",
       "81   81  19861.994859\n",
       "48   48  19882.293199\n",
       "95   95  19889.682348\n",
       "44   44  19966.612451\n",
       "51   51  19985.408708\n",
       "61   61  19992.699031"
      ]
     },
     "execution_count": 60,
     "metadata": {},
     "output_type": "execute_result"
    }
   ],
   "source": [
    "trials_list = []\n",
    "trials_dict ={'Idx': [], 'Values':[]}\n",
    "idx = 0\n",
    "trials = study_lgb.trials\n",
    "for trial in trials:\n",
    "    trials_dict['Idx'].append(idx)\n",
    "    trials_dict['Values'].append(trial.value)\n",
    "    idx += 1\n",
    "\n",
    "df = pd.DataFrame(trials_dict)\n",
    "df = df.sort_values(by='Values')\n",
    "df.head(20)"
   ]
  },
  {
   "cell_type": "code",
   "execution_count": 61,
   "metadata": {},
   "outputs": [],
   "source": [
    "train_X, train_y = dt_train.drop('target', axis=1), dt_train['target']"
   ]
  },
  {
   "cell_type": "code",
   "execution_count": 62,
   "metadata": {},
   "outputs": [],
   "source": [
    "p01 = {'max_depth': 7, 'learning_rate': 0.009840099258121973, 'n_estimators': 2938, 'min_child_samples': 38, 'subsample': 0.6254090188665539}\n",
    "p02 = {'max_depth': 7, 'learning_rate': 0.009777320599184456, 'n_estimators': 2733, 'min_child_samples': 27, 'subsample': 0.6523069214597115}\n",
    "p03 = {'max_depth': 8, 'learning_rate': 0.009867093641773487, 'n_estimators': 2742, 'min_child_samples': 33, 'subsample': 0.5851113599794541}\n",
    "p04 = {'max_depth': 7, 'learning_rate': 0.009715329855267511, 'n_estimators': 2830, 'min_child_samples': 29, 'subsample': 0.641624260479255}\n",
    "p05 = {'max_depth': 7, 'learning_rate': 0.00992938830162565, 'n_estimators': 2703, 'min_child_samples': 37, 'subsample': 0.6068283923871584}\n",
    "p06 = {'max_depth': 7, 'learning_rate': 0.00980431601167179, 'n_estimators': 2713, 'min_child_samples': 32, 'subsample': 0.6435079024259829}\n",
    "p07 = {'max_depth': 7, 'learning_rate': 0.009525730515025078, 'n_estimators': 2778, 'min_child_samples': 13, 'subsample': 0.5739943578213176}\n",
    "p08 = {'max_depth': 7, 'learning_rate': 0.009382192047480234, 'n_estimators': 2574, 'min_child_samples': 31, 'subsample': 0.6724928106662612}\n",
    "p09 = {'max_depth': 7, 'learning_rate': 0.009133504424273168, 'n_estimators': 2702, 'min_child_samples': 44, 'subsample': 0.6513380852133215}\n",
    "p10 = {'max_depth': 8, 'learning_rate': 0.009399224113833036, 'n_estimators': 2598, 'min_child_samples': 22, 'subsample': 0.61638753864337}\n"
   ]
  },
  {
   "cell_type": "code",
   "execution_count": 63,
   "metadata": {},
   "outputs": [
    {
     "name": "stdout",
     "output_type": "stream",
     "text": [
      "[LightGBM] [Warning] Accuracy may be bad since you didn't explicitly set num_leaves OR 2^max_depth > num_leaves. (num_leaves=31).\n",
      "[LightGBM] [Warning] Found whitespace in feature_names, replace with underlines\n",
      "[LightGBM] [Warning] Accuracy may be bad since you didn't explicitly set num_leaves OR 2^max_depth > num_leaves. (num_leaves=31).\n",
      "[LightGBM] [Info] Auto-choosing row-wise multi-threading, the overhead of testing was 0.003973 seconds.\n",
      "You can set `force_row_wise=true` to remove the overhead.\n",
      "And if memory is not enough, you can set `force_col_wise=true`.\n",
      "[LightGBM] [Info] Total Bins 1543\n",
      "[LightGBM] [Info] Number of data points in the train set: 1048253, number of used features: 11\n",
      "[LightGBM] [Info] Start training from score 48552.388465\n",
      "[LightGBM] [Warning] No further splits with positive gain, best gain: -inf\n",
      "[LightGBM] [Warning] Accuracy may be bad since you didn't explicitly set num_leaves OR 2^max_depth > num_leaves. (num_leaves=31).\n",
      "[LightGBM] [Warning] Found whitespace in feature_names, replace with underlines\n",
      "[LightGBM] [Warning] Accuracy may be bad since you didn't explicitly set num_leaves OR 2^max_depth > num_leaves. (num_leaves=31).\n",
      "[LightGBM] [Info] Auto-choosing row-wise multi-threading, the overhead of testing was 0.004050 seconds.\n",
      "You can set `force_row_wise=true` to remove the overhead.\n",
      "And if memory is not enough, you can set `force_col_wise=true`.\n",
      "[LightGBM] [Info] Total Bins 1543\n",
      "[LightGBM] [Info] Number of data points in the train set: 1048253, number of used features: 11\n",
      "[LightGBM] [Info] Start training from score 48552.388465\n",
      "[LightGBM] [Warning] Accuracy may be bad since you didn't explicitly set num_leaves OR 2^max_depth > num_leaves. (num_leaves=31).\n",
      "[LightGBM] [Warning] Found whitespace in feature_names, replace with underlines\n",
      "[LightGBM] [Warning] Accuracy may be bad since you didn't explicitly set num_leaves OR 2^max_depth > num_leaves. (num_leaves=31).\n",
      "[LightGBM] [Info] Auto-choosing row-wise multi-threading, the overhead of testing was 0.004114 seconds.\n",
      "You can set `force_row_wise=true` to remove the overhead.\n",
      "And if memory is not enough, you can set `force_col_wise=true`.\n",
      "[LightGBM] [Info] Total Bins 1543\n",
      "[LightGBM] [Info] Number of data points in the train set: 1048253, number of used features: 11\n",
      "[LightGBM] [Info] Start training from score 48552.388465\n",
      "[LightGBM] [Warning] Accuracy may be bad since you didn't explicitly set num_leaves OR 2^max_depth > num_leaves. (num_leaves=31).\n",
      "[LightGBM] [Warning] Found whitespace in feature_names, replace with underlines\n",
      "[LightGBM] [Warning] Accuracy may be bad since you didn't explicitly set num_leaves OR 2^max_depth > num_leaves. (num_leaves=31).\n",
      "[LightGBM] [Info] Auto-choosing row-wise multi-threading, the overhead of testing was 0.004063 seconds.\n",
      "You can set `force_row_wise=true` to remove the overhead.\n",
      "And if memory is not enough, you can set `force_col_wise=true`.\n",
      "[LightGBM] [Info] Total Bins 1543\n",
      "[LightGBM] [Info] Number of data points in the train set: 1048253, number of used features: 11\n",
      "[LightGBM] [Info] Start training from score 48552.388465\n",
      "[LightGBM] [Warning] Accuracy may be bad since you didn't explicitly set num_leaves OR 2^max_depth > num_leaves. (num_leaves=31).\n",
      "[LightGBM] [Warning] Found whitespace in feature_names, replace with underlines\n",
      "[LightGBM] [Warning] Accuracy may be bad since you didn't explicitly set num_leaves OR 2^max_depth > num_leaves. (num_leaves=31).\n",
      "[LightGBM] [Info] Auto-choosing row-wise multi-threading, the overhead of testing was 0.004195 seconds.\n",
      "You can set `force_row_wise=true` to remove the overhead.\n",
      "And if memory is not enough, you can set `force_col_wise=true`.\n",
      "[LightGBM] [Info] Total Bins 1543\n",
      "[LightGBM] [Info] Number of data points in the train set: 1048253, number of used features: 11\n",
      "[LightGBM] [Info] Start training from score 48552.388465\n",
      "[LightGBM] [Warning] Accuracy may be bad since you didn't explicitly set num_leaves OR 2^max_depth > num_leaves. (num_leaves=31).\n",
      "[LightGBM] [Warning] Found whitespace in feature_names, replace with underlines\n",
      "[LightGBM] [Warning] Accuracy may be bad since you didn't explicitly set num_leaves OR 2^max_depth > num_leaves. (num_leaves=31).\n",
      "[LightGBM] [Info] Auto-choosing row-wise multi-threading, the overhead of testing was 0.004198 seconds.\n",
      "You can set `force_row_wise=true` to remove the overhead.\n",
      "And if memory is not enough, you can set `force_col_wise=true`.\n",
      "[LightGBM] [Info] Total Bins 1543\n",
      "[LightGBM] [Info] Number of data points in the train set: 1048253, number of used features: 11\n",
      "[LightGBM] [Info] Start training from score 48552.388465\n",
      "[LightGBM] [Warning] Accuracy may be bad since you didn't explicitly set num_leaves OR 2^max_depth > num_leaves. (num_leaves=31).\n",
      "[LightGBM] [Warning] Found whitespace in feature_names, replace with underlines\n",
      "[LightGBM] [Warning] Accuracy may be bad since you didn't explicitly set num_leaves OR 2^max_depth > num_leaves. (num_leaves=31).\n",
      "[LightGBM] [Info] Auto-choosing row-wise multi-threading, the overhead of testing was 0.004062 seconds.\n",
      "You can set `force_row_wise=true` to remove the overhead.\n",
      "And if memory is not enough, you can set `force_col_wise=true`.\n",
      "[LightGBM] [Info] Total Bins 1543\n",
      "[LightGBM] [Info] Number of data points in the train set: 1048253, number of used features: 11\n",
      "[LightGBM] [Info] Start training from score 48552.388465\n",
      "[LightGBM] [Warning] Accuracy may be bad since you didn't explicitly set num_leaves OR 2^max_depth > num_leaves. (num_leaves=31).\n",
      "[LightGBM] [Warning] Found whitespace in feature_names, replace with underlines\n",
      "[LightGBM] [Warning] Accuracy may be bad since you didn't explicitly set num_leaves OR 2^max_depth > num_leaves. (num_leaves=31).\n",
      "[LightGBM] [Info] Auto-choosing row-wise multi-threading, the overhead of testing was 0.004156 seconds.\n",
      "You can set `force_row_wise=true` to remove the overhead.\n",
      "And if memory is not enough, you can set `force_col_wise=true`.\n",
      "[LightGBM] [Info] Total Bins 1543\n",
      "[LightGBM] [Info] Number of data points in the train set: 1048253, number of used features: 11\n",
      "[LightGBM] [Info] Start training from score 48552.388465\n",
      "[LightGBM] [Warning] Accuracy may be bad since you didn't explicitly set num_leaves OR 2^max_depth > num_leaves. (num_leaves=31).\n",
      "[LightGBM] [Warning] Found whitespace in feature_names, replace with underlines\n",
      "[LightGBM] [Warning] Accuracy may be bad since you didn't explicitly set num_leaves OR 2^max_depth > num_leaves. (num_leaves=31).\n",
      "[LightGBM] [Info] Auto-choosing row-wise multi-threading, the overhead of testing was 0.004192 seconds.\n",
      "You can set `force_row_wise=true` to remove the overhead.\n",
      "And if memory is not enough, you can set `force_col_wise=true`.\n",
      "[LightGBM] [Info] Total Bins 1543\n",
      "[LightGBM] [Info] Number of data points in the train set: 1048253, number of used features: 11\n",
      "[LightGBM] [Info] Start training from score 48552.388465\n",
      "[LightGBM] [Warning] Accuracy may be bad since you didn't explicitly set num_leaves OR 2^max_depth > num_leaves. (num_leaves=31).\n",
      "[LightGBM] [Warning] Found whitespace in feature_names, replace with underlines\n",
      "[LightGBM] [Warning] Accuracy may be bad since you didn't explicitly set num_leaves OR 2^max_depth > num_leaves. (num_leaves=31).\n",
      "[LightGBM] [Info] Auto-choosing row-wise multi-threading, the overhead of testing was 0.004215 seconds.\n",
      "You can set `force_row_wise=true` to remove the overhead.\n",
      "And if memory is not enough, you can set `force_col_wise=true`.\n",
      "[LightGBM] [Info] Total Bins 1543\n",
      "[LightGBM] [Info] Number of data points in the train set: 1048253, number of used features: 11\n",
      "[LightGBM] [Info] Start training from score 48552.388465\n",
      "[LightGBM] [Warning] Accuracy may be bad since you didn't explicitly set num_leaves OR 2^max_depth > num_leaves. (num_leaves=31).\n",
      "[LightGBM] [Warning] Accuracy may be bad since you didn't explicitly set num_leaves OR 2^max_depth > num_leaves. (num_leaves=31).\n",
      "[LightGBM] [Warning] Accuracy may be bad since you didn't explicitly set num_leaves OR 2^max_depth > num_leaves. (num_leaves=31).\n",
      "[LightGBM] [Warning] Accuracy may be bad since you didn't explicitly set num_leaves OR 2^max_depth > num_leaves. (num_leaves=31).\n",
      "[LightGBM] [Warning] Accuracy may be bad since you didn't explicitly set num_leaves OR 2^max_depth > num_leaves. (num_leaves=31).\n",
      "[LightGBM] [Warning] Accuracy may be bad since you didn't explicitly set num_leaves OR 2^max_depth > num_leaves. (num_leaves=31).\n",
      "[LightGBM] [Warning] Accuracy may be bad since you didn't explicitly set num_leaves OR 2^max_depth > num_leaves. (num_leaves=31).\n",
      "[LightGBM] [Warning] Accuracy may be bad since you didn't explicitly set num_leaves OR 2^max_depth > num_leaves. (num_leaves=31).\n",
      "[LightGBM] [Warning] Accuracy may be bad since you didn't explicitly set num_leaves OR 2^max_depth > num_leaves. (num_leaves=31).\n",
      "[LightGBM] [Warning] Accuracy may be bad since you didn't explicitly set num_leaves OR 2^max_depth > num_leaves. (num_leaves=31).\n"
     ]
    },
    {
     "data": {
      "text/plain": [
       "array([118218.97786733, 136733.28155819, 121553.37422532, ...,\n",
       "        14404.27584916,  24779.79694439,  44510.21136117])"
      ]
     },
     "execution_count": 63,
     "metadata": {},
     "output_type": "execute_result"
    }
   ],
   "source": [
    "model = VotingRegressor([\n",
    "    ('lgb_01', lgb.LGBMRegressor(**p01, random_state=10)),\n",
    "    ('lgb_02', lgb.LGBMRegressor(**p02, random_state=10)),\n",
    "    ('lgb_03', lgb.LGBMRegressor(**p03, random_state=10)),\n",
    "    ('lgb_04', lgb.LGBMRegressor(**p04, random_state=10)),\n",
    "    ('lgb_05', lgb.LGBMRegressor(**p05, random_state=10)),\n",
    "    ('lgb_06', lgb.LGBMRegressor(**p06, random_state=10)),\n",
    "    ('lgb_07', lgb.LGBMRegressor(**p07, random_state=10)),\n",
    "    ('lgb_08', lgb.LGBMRegressor(**p08, random_state=10)),\n",
    "    ('lgb_09', lgb.LGBMRegressor(**p09, random_state=10)),\n",
    "    ('lgb_10', lgb.LGBMRegressor(**p10, random_state=10)),\n",
    "\n",
    "])\n",
    "\n",
    "model.fit(train_X, train_y)\n",
    "final_pred = model.predict(dt_test)\n",
    "final_pred"
   ]
  },
  {
   "cell_type": "code",
   "execution_count": 64,
   "metadata": {},
   "outputs": [],
   "source": [
    "pd.DataFrame(final_pred.astype(int), columns=[\"target\"]).to_csv('sub.csv', index=False)"
   ]
  },
  {
   "cell_type": "code",
   "execution_count": null,
   "metadata": {},
   "outputs": [],
   "source": [
    "# 97192.8827"
   ]
  },
  {
   "cell_type": "markdown",
   "metadata": {},
   "source": [
    "- 추가로 변수 늘리기 + 아웃라이어 제거 해보기"
   ]
  }
 ],
 "metadata": {
  "kernelspec": {
   "display_name": "base",
   "language": "python",
   "name": "python3"
  },
  "language_info": {
   "codemirror_mode": {
    "name": "ipython",
    "version": 3
   },
   "file_extension": ".py",
   "mimetype": "text/x-python",
   "name": "python",
   "nbconvert_exporter": "python",
   "pygments_lexer": "ipython3",
   "version": "3.10.13"
  }
 },
 "nbformat": 4,
 "nbformat_minor": 2
}
